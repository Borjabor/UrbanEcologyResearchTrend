{
 "cells": [
  {
   "cell_type": "markdown",
   "id": "21e9aaad",
   "metadata": {},
   "source": [
    "# Urban Ecology Research Trend Analysis\n",
    "\n",
    "Type: NLP + Time Series + Web Data | Domain: Scientific + environmental | Format: Notebook\n",
    "- Use PubMed or Semantic Scholar API to extract papers on 'urban ecology'.\n",
    "- Track number of publications per year.\n",
    "- Perform keyword frequency and topic modeling.\n",
    "- Map institutions or authors by location \n",
    "    .Use author search and Research Organization Registry (ror.org) to map institutions to locations."
   ]
  },
  {
   "cell_type": "code",
   "execution_count": null,
   "id": "394e5343",
   "metadata": {},
   "outputs": [],
   "source": [
    "# For future author search\n",
    "# MODIFY FOR OpenAlex USE\n",
    "\n",
    "AUTHOR_URL = 'https://api.semanticscholar.org/graph/v1/author/batch'\n",
    "AUTHOR_FIELDS = 'affiliations'\n",
    "AUTHORS_DB_PATH = 'papers.db'\n",
    "authors_schema = \"\"\"\n",
    "    authorId TEXT PRIMARY KEY,\n",
    "    name TEXT,\n",
    "    affiliation TEXT\n",
    "\"\"\""
   ]
  },
  {
   "cell_type": "code",
   "execution_count": null,
   "id": "854a13d3",
   "metadata": {},
   "outputs": [],
   "source": [
    "import os\n",
    "import sys\n",
    "import time\n",
    "import requests\n",
    "import pandas as pd\n",
    "import numpy as np\n",
    "import sqlite3\n",
    "import plotly.express as px\n",
    "import seaborn as sns\n",
    "import matplotlib.pyplot as plt\n",
    "import matplotlib.dates as mdates\n",
    "import scipy.stats as stats\n",
    "from scipy.stats import linregress\n",
    "from sklearn.linear_model import LinearRegression\n",
    "from sklearn.preprocessing import PolynomialFeatures\n",
    "from itertools import combinations\n",
    "from collections import Counter\n",
    "\n",
    "BASE_URL = 'https://api.openalex.org/works'\n",
    "DELAY = 1  # Small delay between requests\n",
    "RETRY_DELAY = 5  # seconds before retrying on failure\n",
    "YEAR_RANGE = '1970-2024' # We start on 1970 as that is considered the decade where urban ecology started gaining interest. We stop on 2024 as it's the last year with complete data\n",
    "PAPERS_DB_PATH = 'papers.db'\n",
    "\n",
    "papers_schema = \"\"\"\n",
    "    paperId TEXT PRIMARY KEY,\n",
    "    title TEXT,\n",
    "    year INTEGER,\n",
    "    authors TEXT,\n",
    "    url TEXT,\n",
    "    search_keyword TEXT,\n",
    "    firstAuthorCountryIso TEXT,\n",
    "    firstAuthorId TEXT,\n",
    "    journal TEXT,\n",
    "    citationCount INTEGER\n",
    "\"\"\"\n",
    "\n",
    "query_list = [\n",
    "    'urban ecology',\n",
    "    'urban biodiversity',\n",
    "    'urban ecosystem',\n",
    "    'urban green spaces',\n",
    "    'urban wildlife',\n",
    "    'urban vegetation',\n",
    "]"
   ]
  },
  {
   "cell_type": "code",
   "execution_count": 33,
   "id": "e4835c3c",
   "metadata": {},
   "outputs": [
    {
     "name": "stdout",
     "output_type": "stream",
     "text": [
      "✅ Progress tracker \"cursor_urban ecology.txt\" removed.\n",
      "✅ Progress tracker \"cursor_urban biodiversity.txt\" removed.\n",
      "✅ Progress tracker \"cursor_urban ecosystem.txt\" removed.\n",
      "✅ Progress tracker \"cursor_urban green spaces.txt\" removed.\n",
      "✅ Progress tracker \"cursor_urban wildlife.txt\" removed.\n",
      "✅ Progress tracker \"cursor_urban vegetation.txt\" removed.\n",
      "✅ Output file \"papers.db\" removed.\n"
     ]
    }
   ],
   "source": [
    "# Run this to clear the .txt progress trackers\n",
    "\n",
    "for keyword in query_list:\n",
    "    done_file = f'done_{keyword}.txt'\n",
    "    page_file = f'page_{keyword}.txt'\n",
    "    cursor_file = f'cursor_{keyword}.txt'\n",
    "    \n",
    "    for file_path in [done_file, page_file, cursor_file]:\n",
    "        if os.path.exists(file_path):\n",
    "            os.remove(file_path)\n",
    "            print(f'✅ Progress tracker \"{file_path}\" removed.')\n",
    "  \n",
    "if os.path.exists(PAPERS_DB_PATH):      \n",
    "    os.remove(PAPERS_DB_PATH)\n",
    "    print(f'✅ Output file \"{PAPERS_DB_PATH}\" removed.')"
   ]
  },
  {
   "cell_type": "code",
   "execution_count": 34,
   "id": "9fa39136",
   "metadata": {},
   "outputs": [],
   "source": [
    "# === Helper functions ===\n",
    "\n",
    "def save_cursor(keyword, cursor):\n",
    "    \"\"\"Save the current cursor for pagination\"\"\"\n",
    "    with open(f'cursor_{keyword}.txt', 'w') as f:\n",
    "        f.write(cursor)\n",
    "\n",
    "def load_cursor(keyword):\n",
    "    \"\"\"Load the last cursor for pagination\"\"\"\n",
    "    filename = f'cursor_{keyword}.txt'\n",
    "    if os.path.exists(filename):\n",
    "        with open(filename, 'r') as f:\n",
    "            return f.read().strip()\n",
    "    return None\n",
    "\n",
    "def mark_done(keyword):\n",
    "    with open(f'done_{keyword}.txt', 'w') as f:\n",
    "        f.write('completed')\n",
    "\n",
    "def is_done(keyword):\n",
    "    return os.path.exists(f'done_{keyword}.txt')\n",
    "\n",
    "def delete_cursor(keyword):\n",
    "    \"\"\"Clean up cursor tracking file when done\"\"\"\n",
    "    filename = f'cursor_{keyword}.txt'\n",
    "    if os.path.exists(filename):\n",
    "        os.remove(filename)\n",
    "\n",
    "def get_first_author_country(authorships_list):\n",
    "    \"\"\"Extract country ISO code prioritizing first author, with fallback to other authors\"\"\"\n",
    "    if not authorships_list:\n",
    "        return None\n",
    "    \n",
    "    first_authorship = authorships_list[0]\n",
    "    institutions = first_authorship.get('institutions', [])\n",
    "    \n",
    "    for institution in institutions:\n",
    "        country_code = institution.get('country_code')\n",
    "        if country_code:\n",
    "            return country_code\n",
    "    \n",
    "    for authorship in authorships_list[1:]:\n",
    "        institutions = authorship.get('institutions', [])\n",
    "        \n",
    "        for institution in institutions:\n",
    "            country_code = institution.get('country_code')\n",
    "            if country_code:\n",
    "                return country_code\n",
    "    \n",
    "    return None"
   ]
  },
  {
   "cell_type": "code",
   "execution_count": 19,
   "id": "b2e20ba5",
   "metadata": {},
   "outputs": [],
   "source": [
    "# === Database and Dataframe setup ===\n",
    "\n",
    "def init_table(db_path, table_name, schema_sql):\n",
    "    conn = sqlite3.connect(db_path)\n",
    "    c = conn.cursor()\n",
    "    c.execute(f\"CREATE TABLE IF NOT EXISTS {table_name} ({schema_sql})\")\n",
    "    conn.commit()\n",
    "    conn.close()\n",
    "    \n",
    "def save_paper_to_db(paper, keyword):\n",
    "    conn = sqlite3.connect(PAPERS_DB_PATH)\n",
    "    c = conn.cursor()\n",
    "\n",
    "    paper_id = paper.get(\"id\", \"\").replace(\"https://openalex.org/\", \"\")\n",
    "    title = paper.get(\"title\")\n",
    "    year = paper.get(\"publication_year\")\n",
    "    citation_count = paper.get(\"cited_by_count\", 0)\n",
    "    \n",
    "    primary_location = paper.get(\"primary_location\", {})\n",
    "    journal = None\n",
    "    url = None\n",
    "    if primary_location:\n",
    "        source = primary_location.get(\"source\", {})\n",
    "        journal = source.get(\"display_name\") if source else None\n",
    "        url = primary_location.get(\"landing_page_url\")\n",
    "    \n",
    "    authorships = paper.get(\"authorships\", [])\n",
    "    authors_list = []\n",
    "    first_author_id = None\n",
    "    first_author_country = None\n",
    "    \n",
    "    for authorship in authorships:\n",
    "        author = authorship.get(\"author\", {})\n",
    "        author_name = author.get(\"display_name\")\n",
    "        if author_name:\n",
    "            authors_list.append(author_name)\n",
    "            \n",
    "        if not first_author_id and author.get(\"id\"):\n",
    "            first_author_id = author.get(\"id\").replace(\"https://openalex.org/\", \"\")\n",
    "            first_author_country = get_first_author_country([authorship])\n",
    "    \n",
    "    authors = \", \".join(authors_list)\n",
    "\n",
    "    try:\n",
    "        c.execute(\"SELECT search_keyword FROM papers WHERE paperId = ?\", (paper_id,))\n",
    "        existing = c.fetchone()\n",
    "        \n",
    "        if existing:\n",
    "            existing_keywords = existing[0].split(\", \") if existing[0] else []\n",
    "            if keyword not in existing_keywords:\n",
    "                existing_keywords.append(keyword)\n",
    "                updated_keywords = \", \".join(existing_keywords)\n",
    "                c.execute(\"UPDATE papers SET search_keyword = ? WHERE paperId = ?\", \n",
    "                         (updated_keywords, paper_id))\n",
    "        else:\n",
    "            c.execute(\"\"\"\n",
    "                INSERT INTO papers \n",
    "                (paperId, title, year, authors, url, search_keyword, firstAuthorCountryIso, \n",
    "                 firstAuthorId, journal, citationCount)\n",
    "                VALUES (?, ?, ?, ?, ?, ?, ?, ?, ?, ?)\n",
    "            \"\"\", (paper_id, title, year, authors, url, keyword, first_author_country, \n",
    "                  first_author_id, journal, citation_count))\n",
    "        \n",
    "        conn.commit()\n",
    "    except sqlite3.Error as e:\n",
    "        print(f\"❌ DB error for paper {paper_id}: {e}\")\n",
    "    finally:\n",
    "        conn.close()"
   ]
  },
  {
   "cell_type": "code",
   "execution_count": 37,
   "id": "3efc42f1",
   "metadata": {},
   "outputs": [
    {
     "name": "stdout",
     "output_type": "stream",
     "text": [
      "\n",
      "🔍 Processing keyword: \"urban ecology\"\n",
      "⏳ Starting fresh for keyword \"urban ecology\"\n",
      "📄 Page 1: 200 papers retrieved for \"urban ecology\"\n",
      "📄 Page 2: 400 papers retrieved for \"urban ecology\"\n",
      "📄 Page 3: 600 papers retrieved for \"urban ecology\"\n",
      "📄 Page 4: 800 papers retrieved for \"urban ecology\"\n",
      "📄 Page 5: 1000 papers retrieved for \"urban ecology\"\n",
      "📄 Page 6: 1200 papers retrieved for \"urban ecology\"\n",
      "📄 Page 7: 1400 papers retrieved for \"urban ecology\"\n",
      "📄 Page 8: 1600 papers retrieved for \"urban ecology\"\n",
      "📄 Page 9: 1800 papers retrieved for \"urban ecology\"\n",
      "📄 Page 10: 2000 papers retrieved for \"urban ecology\"\n",
      "📄 Page 11: 2200 papers retrieved for \"urban ecology\"\n",
      "📄 Page 12: 2400 papers retrieved for \"urban ecology\"\n",
      "📄 Page 13: 2600 papers retrieved for \"urban ecology\"\n",
      "📄 Page 14: 2800 papers retrieved for \"urban ecology\"\n",
      "📄 Page 15: 3000 papers retrieved for \"urban ecology\"\n",
      "📄 Page 16: 3200 papers retrieved for \"urban ecology\"\n",
      "📄 Page 17: 3400 papers retrieved for \"urban ecology\"\n",
      "📄 Page 18: 3600 papers retrieved for \"urban ecology\"\n",
      "📄 Page 19: 3800 papers retrieved for \"urban ecology\"\n",
      "📄 Page 20: 4000 papers retrieved for \"urban ecology\"\n",
      "📄 Page 21: 4200 papers retrieved for \"urban ecology\"\n",
      "📄 Page 22: 4400 papers retrieved for \"urban ecology\"\n",
      "📄 Page 23: 4600 papers retrieved for \"urban ecology\"\n",
      "📄 Page 24: 4800 papers retrieved for \"urban ecology\"\n",
      "📄 Page 25: 5000 papers retrieved for \"urban ecology\"\n",
      "📄 Page 26: 5200 papers retrieved for \"urban ecology\"\n",
      "📄 Page 27: 5400 papers retrieved for \"urban ecology\"\n",
      "📄 Page 28: 5600 papers retrieved for \"urban ecology\"\n",
      "📄 Page 29: 5800 papers retrieved for \"urban ecology\"\n",
      "📄 Page 30: 6000 papers retrieved for \"urban ecology\"\n",
      "📄 Page 31: 6200 papers retrieved for \"urban ecology\"\n",
      "📄 Page 32: 6400 papers retrieved for \"urban ecology\"\n",
      "📄 Page 33: 6600 papers retrieved for \"urban ecology\"\n",
      "📄 Page 34: 6800 papers retrieved for \"urban ecology\"\n",
      "📄 Page 35: 7000 papers retrieved for \"urban ecology\"\n",
      "📄 Page 36: 7200 papers retrieved for \"urban ecology\"\n",
      "📄 Page 37: 7400 papers retrieved for \"urban ecology\"\n",
      "📄 Page 38: 7600 papers retrieved for \"urban ecology\"\n",
      "📄 Page 39: 7800 papers retrieved for \"urban ecology\"\n",
      "📄 Page 40: 8000 papers retrieved for \"urban ecology\"\n",
      "📄 Page 41: 8200 papers retrieved for \"urban ecology\"\n",
      "📄 Page 42: 8400 papers retrieved for \"urban ecology\"\n",
      "📄 Page 43: 8600 papers retrieved for \"urban ecology\"\n",
      "📄 Page 44: 8800 papers retrieved for \"urban ecology\"\n",
      "📄 Page 45: 9000 papers retrieved for \"urban ecology\"\n",
      "📄 Page 46: 9200 papers retrieved for \"urban ecology\"\n",
      "📄 Page 47: 9400 papers retrieved for \"urban ecology\"\n",
      "📄 Page 48: 9600 papers retrieved for \"urban ecology\"\n",
      "📄 Page 49: 9800 papers retrieved for \"urban ecology\"\n",
      "📄 Page 50: 10000 papers retrieved for \"urban ecology\"\n",
      "📄 Page 51: 10200 papers retrieved for \"urban ecology\"\n",
      "📄 Page 52: 10400 papers retrieved for \"urban ecology\"\n",
      "📄 Page 53: 10600 papers retrieved for \"urban ecology\"\n",
      "📄 Page 54: 10800 papers retrieved for \"urban ecology\"\n",
      "📄 Page 55: 11000 papers retrieved for \"urban ecology\"\n",
      "📄 Page 56: 11200 papers retrieved for \"urban ecology\"\n",
      "📄 Page 57: 11400 papers retrieved for \"urban ecology\"\n",
      "📄 Page 58: 11600 papers retrieved for \"urban ecology\"\n",
      "📄 Page 59: 11800 papers retrieved for \"urban ecology\"\n",
      "📄 Page 60: 12000 papers retrieved for \"urban ecology\"\n",
      "📄 Page 61: 12200 papers retrieved for \"urban ecology\"\n",
      "📄 Page 62: 12400 papers retrieved for \"urban ecology\"\n",
      "📄 Page 63: 12600 papers retrieved for \"urban ecology\"\n",
      "📄 Page 64: 12800 papers retrieved for \"urban ecology\"\n",
      "📄 Page 65: 13000 papers retrieved for \"urban ecology\"\n",
      "📄 Page 66: 13200 papers retrieved for \"urban ecology\"\n",
      "📄 Page 67: 13400 papers retrieved for \"urban ecology\"\n",
      "📄 Page 68: 13600 papers retrieved for \"urban ecology\"\n",
      "📄 Page 69: 13800 papers retrieved for \"urban ecology\"\n",
      "📄 Page 70: 14000 papers retrieved for \"urban ecology\"\n",
      "📄 Page 71: 14200 papers retrieved for \"urban ecology\"\n",
      "📄 Page 72: 14400 papers retrieved for \"urban ecology\"\n",
      "📄 Page 73: 14600 papers retrieved for \"urban ecology\"\n",
      "📄 Page 74: 14800 papers retrieved for \"urban ecology\"\n",
      "📄 Page 75: 15000 papers retrieved for \"urban ecology\"\n",
      "📄 Page 76: 15200 papers retrieved for \"urban ecology\"\n",
      "📄 Page 77: 15400 papers retrieved for \"urban ecology\"\n",
      "📄 Page 78: 15600 papers retrieved for \"urban ecology\"\n",
      "📄 Page 79: 15800 papers retrieved for \"urban ecology\"\n",
      "📄 Page 80: 16000 papers retrieved for \"urban ecology\"\n",
      "📄 Page 81: 16200 papers retrieved for \"urban ecology\"\n",
      "📄 Page 82: 16400 papers retrieved for \"urban ecology\"\n",
      "📄 Page 83: 16600 papers retrieved for \"urban ecology\"\n",
      "📄 Page 84: 16800 papers retrieved for \"urban ecology\"\n",
      "📄 Page 85: 17000 papers retrieved for \"urban ecology\"\n",
      "📄 Page 86: 17200 papers retrieved for \"urban ecology\"\n",
      "📄 Page 87: 17400 papers retrieved for \"urban ecology\"\n",
      "📄 Page 88: 17600 papers retrieved for \"urban ecology\"\n",
      "📄 Page 89: 17800 papers retrieved for \"urban ecology\"\n",
      "📄 Page 90: 18000 papers retrieved for \"urban ecology\"\n",
      "📄 Page 91: 18200 papers retrieved for \"urban ecology\"\n",
      "📄 Page 92: 18400 papers retrieved for \"urban ecology\"\n",
      "📄 Page 93: 18600 papers retrieved for \"urban ecology\"\n",
      "📄 Page 94: 18800 papers retrieved for \"urban ecology\"\n",
      "📄 Page 95: 19000 papers retrieved for \"urban ecology\"\n",
      "📄 Page 96: 19200 papers retrieved for \"urban ecology\"\n",
      "📄 Page 97: 19400 papers retrieved for \"urban ecology\"\n",
      "📄 Page 98: 19600 papers retrieved for \"urban ecology\"\n",
      "📄 Page 99: 19800 papers retrieved for \"urban ecology\"\n",
      "📄 Page 100: 20000 papers retrieved for \"urban ecology\"\n",
      "📄 Page 101: 20200 papers retrieved for \"urban ecology\"\n",
      "📄 Page 102: 20257 papers retrieved for \"urban ecology\"\n",
      "✅ No more papers available for \"urban ecology\" (reached end of results)\n",
      "✅ Completed all available results for \"urban ecology\" (total: 20257 papers across 103 pages)\n",
      "\n",
      "🔍 Processing keyword: \"urban biodiversity\"\n",
      "⏳ Starting fresh for keyword \"urban biodiversity\"\n",
      "📄 Page 1: 200 papers retrieved for \"urban biodiversity\"\n",
      "📄 Page 2: 400 papers retrieved for \"urban biodiversity\"\n",
      "📄 Page 3: 600 papers retrieved for \"urban biodiversity\"\n",
      "📄 Page 4: 800 papers retrieved for \"urban biodiversity\"\n",
      "📄 Page 5: 1000 papers retrieved for \"urban biodiversity\"\n",
      "📄 Page 6: 1200 papers retrieved for \"urban biodiversity\"\n",
      "📄 Page 7: 1400 papers retrieved for \"urban biodiversity\"\n",
      "📄 Page 8: 1600 papers retrieved for \"urban biodiversity\"\n",
      "📄 Page 9: 1800 papers retrieved for \"urban biodiversity\"\n",
      "📄 Page 10: 2000 papers retrieved for \"urban biodiversity\"\n",
      "📄 Page 11: 2200 papers retrieved for \"urban biodiversity\"\n",
      "📄 Page 12: 2400 papers retrieved for \"urban biodiversity\"\n",
      "📄 Page 13: 2600 papers retrieved for \"urban biodiversity\"\n",
      "📄 Page 14: 2800 papers retrieved for \"urban biodiversity\"\n",
      "📄 Page 15: 3000 papers retrieved for \"urban biodiversity\"\n",
      "📄 Page 16: 3200 papers retrieved for \"urban biodiversity\"\n",
      "📄 Page 17: 3400 papers retrieved for \"urban biodiversity\"\n",
      "📄 Page 18: 3600 papers retrieved for \"urban biodiversity\"\n",
      "📄 Page 19: 3800 papers retrieved for \"urban biodiversity\"\n",
      "📄 Page 20: 4000 papers retrieved for \"urban biodiversity\"\n",
      "📄 Page 21: 4200 papers retrieved for \"urban biodiversity\"\n",
      "📄 Page 22: 4400 papers retrieved for \"urban biodiversity\"\n",
      "📄 Page 23: 4600 papers retrieved for \"urban biodiversity\"\n",
      "📄 Page 24: 4800 papers retrieved for \"urban biodiversity\"\n",
      "📄 Page 25: 5000 papers retrieved for \"urban biodiversity\"\n",
      "📄 Page 26: 5200 papers retrieved for \"urban biodiversity\"\n",
      "📄 Page 27: 5400 papers retrieved for \"urban biodiversity\"\n",
      "📄 Page 28: 5600 papers retrieved for \"urban biodiversity\"\n",
      "📄 Page 29: 5800 papers retrieved for \"urban biodiversity\"\n",
      "📄 Page 30: 6000 papers retrieved for \"urban biodiversity\"\n",
      "📄 Page 31: 6200 papers retrieved for \"urban biodiversity\"\n",
      "📄 Page 32: 6400 papers retrieved for \"urban biodiversity\"\n",
      "📄 Page 33: 6600 papers retrieved for \"urban biodiversity\"\n",
      "📄 Page 34: 6800 papers retrieved for \"urban biodiversity\"\n",
      "📄 Page 35: 7000 papers retrieved for \"urban biodiversity\"\n",
      "📄 Page 36: 7200 papers retrieved for \"urban biodiversity\"\n",
      "📄 Page 37: 7400 papers retrieved for \"urban biodiversity\"\n",
      "📄 Page 38: 7600 papers retrieved for \"urban biodiversity\"\n",
      "📄 Page 39: 7800 papers retrieved for \"urban biodiversity\"\n",
      "📄 Page 40: 8000 papers retrieved for \"urban biodiversity\"\n",
      "📄 Page 41: 8200 papers retrieved for \"urban biodiversity\"\n",
      "📄 Page 42: 8400 papers retrieved for \"urban biodiversity\"\n",
      "📄 Page 43: 8600 papers retrieved for \"urban biodiversity\"\n",
      "📄 Page 44: 8800 papers retrieved for \"urban biodiversity\"\n",
      "📄 Page 45: 9000 papers retrieved for \"urban biodiversity\"\n",
      "📄 Page 46: 9200 papers retrieved for \"urban biodiversity\"\n",
      "📄 Page 47: 9400 papers retrieved for \"urban biodiversity\"\n",
      "📄 Page 48: 9600 papers retrieved for \"urban biodiversity\"\n",
      "📄 Page 49: 9800 papers retrieved for \"urban biodiversity\"\n",
      "📄 Page 50: 10000 papers retrieved for \"urban biodiversity\"\n",
      "📄 Page 51: 10200 papers retrieved for \"urban biodiversity\"\n",
      "📄 Page 52: 10400 papers retrieved for \"urban biodiversity\"\n",
      "📄 Page 53: 10600 papers retrieved for \"urban biodiversity\"\n",
      "📄 Page 54: 10800 papers retrieved for \"urban biodiversity\"\n",
      "📄 Page 55: 11000 papers retrieved for \"urban biodiversity\"\n",
      "📄 Page 56: 11200 papers retrieved for \"urban biodiversity\"\n",
      "📄 Page 57: 11400 papers retrieved for \"urban biodiversity\"\n",
      "📄 Page 58: 11600 papers retrieved for \"urban biodiversity\"\n",
      "📄 Page 59: 11800 papers retrieved for \"urban biodiversity\"\n",
      "📄 Page 60: 12000 papers retrieved for \"urban biodiversity\"\n",
      "📄 Page 61: 12200 papers retrieved for \"urban biodiversity\"\n",
      "📄 Page 62: 12400 papers retrieved for \"urban biodiversity\"\n",
      "📄 Page 63: 12600 papers retrieved for \"urban biodiversity\"\n",
      "📄 Page 64: 12800 papers retrieved for \"urban biodiversity\"\n",
      "📄 Page 65: 13000 papers retrieved for \"urban biodiversity\"\n",
      "📄 Page 66: 13200 papers retrieved for \"urban biodiversity\"\n",
      "📄 Page 67: 13400 papers retrieved for \"urban biodiversity\"\n",
      "📄 Page 68: 13600 papers retrieved for \"urban biodiversity\"\n",
      "📄 Page 69: 13800 papers retrieved for \"urban biodiversity\"\n",
      "📄 Page 70: 14000 papers retrieved for \"urban biodiversity\"\n",
      "📄 Page 71: 14200 papers retrieved for \"urban biodiversity\"\n",
      "📄 Page 72: 14400 papers retrieved for \"urban biodiversity\"\n",
      "📄 Page 73: 14600 papers retrieved for \"urban biodiversity\"\n",
      "📄 Page 74: 14800 papers retrieved for \"urban biodiversity\"\n",
      "📄 Page 75: 15000 papers retrieved for \"urban biodiversity\"\n",
      "📄 Page 76: 15200 papers retrieved for \"urban biodiversity\"\n",
      "📄 Page 77: 15400 papers retrieved for \"urban biodiversity\"\n",
      "📄 Page 78: 15600 papers retrieved for \"urban biodiversity\"\n",
      "📄 Page 79: 15800 papers retrieved for \"urban biodiversity\"\n",
      "📄 Page 80: 15868 papers retrieved for \"urban biodiversity\"\n",
      "✅ No more papers available for \"urban biodiversity\" (reached end of results)\n",
      "✅ Completed all available results for \"urban biodiversity\" (total: 15868 papers across 81 pages)\n",
      "\n",
      "🔍 Processing keyword: \"urban ecosystem\"\n",
      "⏳ Starting fresh for keyword \"urban ecosystem\"\n",
      "📄 Page 1: 200 papers retrieved for \"urban ecosystem\"\n",
      "📄 Page 2: 400 papers retrieved for \"urban ecosystem\"\n",
      "📄 Page 3: 600 papers retrieved for \"urban ecosystem\"\n",
      "📄 Page 4: 800 papers retrieved for \"urban ecosystem\"\n",
      "📄 Page 5: 1000 papers retrieved for \"urban ecosystem\"\n",
      "📄 Page 6: 1200 papers retrieved for \"urban ecosystem\"\n",
      "📄 Page 7: 1400 papers retrieved for \"urban ecosystem\"\n",
      "📄 Page 8: 1600 papers retrieved for \"urban ecosystem\"\n",
      "📄 Page 9: 1800 papers retrieved for \"urban ecosystem\"\n",
      "📄 Page 10: 2000 papers retrieved for \"urban ecosystem\"\n",
      "📄 Page 11: 2200 papers retrieved for \"urban ecosystem\"\n",
      "📄 Page 12: 2400 papers retrieved for \"urban ecosystem\"\n",
      "📄 Page 13: 2600 papers retrieved for \"urban ecosystem\"\n",
      "📄 Page 14: 2800 papers retrieved for \"urban ecosystem\"\n",
      "📄 Page 15: 3000 papers retrieved for \"urban ecosystem\"\n",
      "📄 Page 16: 3200 papers retrieved for \"urban ecosystem\"\n",
      "📄 Page 17: 3400 papers retrieved for \"urban ecosystem\"\n",
      "📄 Page 18: 3600 papers retrieved for \"urban ecosystem\"\n",
      "📄 Page 19: 3800 papers retrieved for \"urban ecosystem\"\n",
      "📄 Page 20: 4000 papers retrieved for \"urban ecosystem\"\n",
      "📄 Page 21: 4200 papers retrieved for \"urban ecosystem\"\n",
      "📄 Page 22: 4400 papers retrieved for \"urban ecosystem\"\n",
      "📄 Page 23: 4600 papers retrieved for \"urban ecosystem\"\n",
      "📄 Page 24: 4800 papers retrieved for \"urban ecosystem\"\n",
      "📄 Page 25: 5000 papers retrieved for \"urban ecosystem\"\n",
      "📄 Page 26: 5200 papers retrieved for \"urban ecosystem\"\n",
      "📄 Page 27: 5400 papers retrieved for \"urban ecosystem\"\n",
      "📄 Page 28: 5600 papers retrieved for \"urban ecosystem\"\n",
      "📄 Page 29: 5800 papers retrieved for \"urban ecosystem\"\n",
      "📄 Page 30: 6000 papers retrieved for \"urban ecosystem\"\n",
      "📄 Page 31: 6200 papers retrieved for \"urban ecosystem\"\n",
      "📄 Page 32: 6400 papers retrieved for \"urban ecosystem\"\n",
      "📄 Page 33: 6600 papers retrieved for \"urban ecosystem\"\n",
      "📄 Page 34: 6800 papers retrieved for \"urban ecosystem\"\n",
      "📄 Page 35: 7000 papers retrieved for \"urban ecosystem\"\n",
      "📄 Page 36: 7200 papers retrieved for \"urban ecosystem\"\n",
      "📄 Page 37: 7400 papers retrieved for \"urban ecosystem\"\n",
      "📄 Page 38: 7600 papers retrieved for \"urban ecosystem\"\n",
      "📄 Page 39: 7800 papers retrieved for \"urban ecosystem\"\n",
      "📄 Page 40: 8000 papers retrieved for \"urban ecosystem\"\n",
      "📄 Page 41: 8200 papers retrieved for \"urban ecosystem\"\n",
      "📄 Page 42: 8400 papers retrieved for \"urban ecosystem\"\n",
      "📄 Page 43: 8600 papers retrieved for \"urban ecosystem\"\n",
      "📄 Page 44: 8800 papers retrieved for \"urban ecosystem\"\n",
      "📄 Page 45: 9000 papers retrieved for \"urban ecosystem\"\n",
      "📄 Page 46: 9200 papers retrieved for \"urban ecosystem\"\n",
      "📄 Page 47: 9400 papers retrieved for \"urban ecosystem\"\n",
      "📄 Page 48: 9600 papers retrieved for \"urban ecosystem\"\n",
      "📄 Page 49: 9800 papers retrieved for \"urban ecosystem\"\n",
      "📄 Page 50: 10000 papers retrieved for \"urban ecosystem\"\n",
      "📄 Page 51: 10200 papers retrieved for \"urban ecosystem\"\n",
      "📄 Page 52: 10400 papers retrieved for \"urban ecosystem\"\n",
      "📄 Page 53: 10600 papers retrieved for \"urban ecosystem\"\n",
      "📄 Page 54: 10800 papers retrieved for \"urban ecosystem\"\n",
      "📄 Page 55: 11000 papers retrieved for \"urban ecosystem\"\n",
      "📄 Page 56: 11200 papers retrieved for \"urban ecosystem\"\n",
      "📄 Page 57: 11400 papers retrieved for \"urban ecosystem\"\n",
      "📄 Page 58: 11600 papers retrieved for \"urban ecosystem\"\n",
      "📄 Page 59: 11800 papers retrieved for \"urban ecosystem\"\n",
      "📄 Page 60: 12000 papers retrieved for \"urban ecosystem\"\n",
      "📄 Page 61: 12200 papers retrieved for \"urban ecosystem\"\n",
      "📄 Page 62: 12400 papers retrieved for \"urban ecosystem\"\n",
      "📄 Page 63: 12600 papers retrieved for \"urban ecosystem\"\n",
      "📄 Page 64: 12800 papers retrieved for \"urban ecosystem\"\n",
      "📄 Page 65: 13000 papers retrieved for \"urban ecosystem\"\n",
      "📄 Page 66: 13200 papers retrieved for \"urban ecosystem\"\n",
      "📄 Page 67: 13400 papers retrieved for \"urban ecosystem\"\n",
      "📄 Page 68: 13600 papers retrieved for \"urban ecosystem\"\n",
      "📄 Page 69: 13800 papers retrieved for \"urban ecosystem\"\n",
      "📄 Page 70: 14000 papers retrieved for \"urban ecosystem\"\n",
      "📄 Page 71: 14200 papers retrieved for \"urban ecosystem\"\n",
      "📄 Page 72: 14400 papers retrieved for \"urban ecosystem\"\n",
      "📄 Page 73: 14600 papers retrieved for \"urban ecosystem\"\n",
      "📄 Page 74: 14800 papers retrieved for \"urban ecosystem\"\n",
      "📄 Page 75: 15000 papers retrieved for \"urban ecosystem\"\n",
      "📄 Page 76: 15200 papers retrieved for \"urban ecosystem\"\n",
      "📄 Page 77: 15400 papers retrieved for \"urban ecosystem\"\n",
      "📄 Page 78: 15600 papers retrieved for \"urban ecosystem\"\n",
      "📄 Page 79: 15800 papers retrieved for \"urban ecosystem\"\n",
      "📄 Page 80: 16000 papers retrieved for \"urban ecosystem\"\n",
      "📄 Page 81: 16200 papers retrieved for \"urban ecosystem\"\n",
      "📄 Page 82: 16400 papers retrieved for \"urban ecosystem\"\n",
      "📄 Page 83: 16600 papers retrieved for \"urban ecosystem\"\n",
      "📄 Page 84: 16800 papers retrieved for \"urban ecosystem\"\n",
      "📄 Page 85: 17000 papers retrieved for \"urban ecosystem\"\n",
      "📄 Page 86: 17200 papers retrieved for \"urban ecosystem\"\n",
      "📄 Page 87: 17400 papers retrieved for \"urban ecosystem\"\n",
      "📄 Page 88: 17600 papers retrieved for \"urban ecosystem\"\n",
      "📄 Page 89: 17800 papers retrieved for \"urban ecosystem\"\n",
      "📄 Page 90: 18000 papers retrieved for \"urban ecosystem\"\n",
      "📄 Page 91: 18200 papers retrieved for \"urban ecosystem\"\n",
      "📄 Page 92: 18400 papers retrieved for \"urban ecosystem\"\n",
      "📄 Page 93: 18600 papers retrieved for \"urban ecosystem\"\n",
      "📄 Page 94: 18800 papers retrieved for \"urban ecosystem\"\n",
      "📄 Page 95: 19000 papers retrieved for \"urban ecosystem\"\n",
      "📄 Page 96: 19200 papers retrieved for \"urban ecosystem\"\n",
      "📄 Page 97: 19400 papers retrieved for \"urban ecosystem\"\n",
      "📄 Page 98: 19600 papers retrieved for \"urban ecosystem\"\n",
      "📄 Page 99: 19800 papers retrieved for \"urban ecosystem\"\n",
      "📄 Page 100: 20000 papers retrieved for \"urban ecosystem\"\n",
      "📄 Page 101: 20200 papers retrieved for \"urban ecosystem\"\n",
      "📄 Page 102: 20400 papers retrieved for \"urban ecosystem\"\n",
      "📄 Page 103: 20600 papers retrieved for \"urban ecosystem\"\n",
      "📄 Page 104: 20800 papers retrieved for \"urban ecosystem\"\n",
      "📄 Page 105: 21000 papers retrieved for \"urban ecosystem\"\n",
      "📄 Page 106: 21200 papers retrieved for \"urban ecosystem\"\n",
      "📄 Page 107: 21400 papers retrieved for \"urban ecosystem\"\n",
      "📄 Page 108: 21600 papers retrieved for \"urban ecosystem\"\n",
      "📄 Page 109: 21800 papers retrieved for \"urban ecosystem\"\n",
      "📄 Page 110: 22000 papers retrieved for \"urban ecosystem\"\n",
      "📄 Page 111: 22200 papers retrieved for \"urban ecosystem\"\n",
      "📄 Page 112: 22400 papers retrieved for \"urban ecosystem\"\n",
      "📄 Page 113: 22600 papers retrieved for \"urban ecosystem\"\n",
      "📄 Page 114: 22800 papers retrieved for \"urban ecosystem\"\n",
      "📄 Page 115: 23000 papers retrieved for \"urban ecosystem\"\n",
      "📄 Page 116: 23200 papers retrieved for \"urban ecosystem\"\n",
      "📄 Page 117: 23400 papers retrieved for \"urban ecosystem\"\n",
      "📄 Page 118: 23600 papers retrieved for \"urban ecosystem\"\n",
      "📄 Page 119: 23800 papers retrieved for \"urban ecosystem\"\n",
      "📄 Page 120: 24000 papers retrieved for \"urban ecosystem\"\n",
      "📄 Page 121: 24200 papers retrieved for \"urban ecosystem\"\n",
      "📄 Page 122: 24400 papers retrieved for \"urban ecosystem\"\n",
      "📄 Page 123: 24600 papers retrieved for \"urban ecosystem\"\n",
      "📄 Page 124: 24800 papers retrieved for \"urban ecosystem\"\n",
      "📄 Page 125: 25000 papers retrieved for \"urban ecosystem\"\n",
      "📄 Page 126: 25200 papers retrieved for \"urban ecosystem\"\n",
      "📄 Page 127: 25400 papers retrieved for \"urban ecosystem\"\n",
      "📄 Page 128: 25600 papers retrieved for \"urban ecosystem\"\n",
      "📄 Page 129: 25800 papers retrieved for \"urban ecosystem\"\n",
      "📄 Page 130: 26000 papers retrieved for \"urban ecosystem\"\n",
      "📄 Page 131: 26200 papers retrieved for \"urban ecosystem\"\n",
      "📄 Page 132: 26400 papers retrieved for \"urban ecosystem\"\n",
      "📄 Page 133: 26600 papers retrieved for \"urban ecosystem\"\n",
      "📄 Page 134: 26800 papers retrieved for \"urban ecosystem\"\n",
      "📄 Page 135: 27000 papers retrieved for \"urban ecosystem\"\n",
      "📄 Page 136: 27200 papers retrieved for \"urban ecosystem\"\n",
      "📄 Page 137: 27400 papers retrieved for \"urban ecosystem\"\n",
      "📄 Page 138: 27600 papers retrieved for \"urban ecosystem\"\n",
      "📄 Page 139: 27800 papers retrieved for \"urban ecosystem\"\n",
      "📄 Page 140: 28000 papers retrieved for \"urban ecosystem\"\n",
      "📄 Page 141: 28200 papers retrieved for \"urban ecosystem\"\n",
      "📄 Page 142: 28400 papers retrieved for \"urban ecosystem\"\n",
      "📄 Page 143: 28600 papers retrieved for \"urban ecosystem\"\n",
      "📄 Page 144: 28800 papers retrieved for \"urban ecosystem\"\n",
      "📄 Page 145: 29000 papers retrieved for \"urban ecosystem\"\n",
      "📄 Page 146: 29200 papers retrieved for \"urban ecosystem\"\n",
      "📄 Page 147: 29387 papers retrieved for \"urban ecosystem\"\n",
      "✅ No more papers available for \"urban ecosystem\" (reached end of results)\n",
      "✅ Completed all available results for \"urban ecosystem\" (total: 29387 papers across 148 pages)\n",
      "\n",
      "🔍 Processing keyword: \"urban green spaces\"\n",
      "⏳ Starting fresh for keyword \"urban green spaces\"\n",
      "📄 Page 1: 200 papers retrieved for \"urban green spaces\"\n",
      "📄 Page 2: 400 papers retrieved for \"urban green spaces\"\n",
      "📄 Page 3: 600 papers retrieved for \"urban green spaces\"\n",
      "📄 Page 4: 800 papers retrieved for \"urban green spaces\"\n",
      "📄 Page 5: 1000 papers retrieved for \"urban green spaces\"\n",
      "📄 Page 6: 1200 papers retrieved for \"urban green spaces\"\n",
      "📄 Page 7: 1400 papers retrieved for \"urban green spaces\"\n",
      "📄 Page 8: 1600 papers retrieved for \"urban green spaces\"\n",
      "📄 Page 9: 1800 papers retrieved for \"urban green spaces\"\n",
      "📄 Page 10: 2000 papers retrieved for \"urban green spaces\"\n",
      "📄 Page 11: 2200 papers retrieved for \"urban green spaces\"\n",
      "📄 Page 12: 2400 papers retrieved for \"urban green spaces\"\n",
      "📄 Page 13: 2600 papers retrieved for \"urban green spaces\"\n",
      "📄 Page 14: 2800 papers retrieved for \"urban green spaces\"\n",
      "📄 Page 15: 3000 papers retrieved for \"urban green spaces\"\n",
      "📄 Page 16: 3200 papers retrieved for \"urban green spaces\"\n",
      "📄 Page 17: 3400 papers retrieved for \"urban green spaces\"\n",
      "📄 Page 18: 3600 papers retrieved for \"urban green spaces\"\n",
      "📄 Page 19: 3800 papers retrieved for \"urban green spaces\"\n",
      "📄 Page 20: 4000 papers retrieved for \"urban green spaces\"\n",
      "📄 Page 21: 4200 papers retrieved for \"urban green spaces\"\n",
      "📄 Page 22: 4400 papers retrieved for \"urban green spaces\"\n",
      "📄 Page 23: 4600 papers retrieved for \"urban green spaces\"\n",
      "📄 Page 24: 4800 papers retrieved for \"urban green spaces\"\n",
      "📄 Page 25: 5000 papers retrieved for \"urban green spaces\"\n",
      "📄 Page 26: 5200 papers retrieved for \"urban green spaces\"\n",
      "📄 Page 27: 5400 papers retrieved for \"urban green spaces\"\n",
      "📄 Page 28: 5600 papers retrieved for \"urban green spaces\"\n",
      "📄 Page 29: 5800 papers retrieved for \"urban green spaces\"\n",
      "📄 Page 30: 6000 papers retrieved for \"urban green spaces\"\n",
      "📄 Page 31: 6200 papers retrieved for \"urban green spaces\"\n",
      "📄 Page 32: 6400 papers retrieved for \"urban green spaces\"\n",
      "📄 Page 33: 6600 papers retrieved for \"urban green spaces\"\n",
      "📄 Page 34: 6800 papers retrieved for \"urban green spaces\"\n",
      "📄 Page 35: 7000 papers retrieved for \"urban green spaces\"\n",
      "📄 Page 36: 7200 papers retrieved for \"urban green spaces\"\n",
      "📄 Page 37: 7400 papers retrieved for \"urban green spaces\"\n",
      "📄 Page 38: 7600 papers retrieved for \"urban green spaces\"\n",
      "📄 Page 39: 7800 papers retrieved for \"urban green spaces\"\n",
      "📄 Page 40: 8000 papers retrieved for \"urban green spaces\"\n",
      "📄 Page 41: 8200 papers retrieved for \"urban green spaces\"\n",
      "📄 Page 42: 8400 papers retrieved for \"urban green spaces\"\n",
      "📄 Page 43: 8600 papers retrieved for \"urban green spaces\"\n",
      "📄 Page 44: 8800 papers retrieved for \"urban green spaces\"\n",
      "📄 Page 45: 9000 papers retrieved for \"urban green spaces\"\n",
      "📄 Page 46: 9200 papers retrieved for \"urban green spaces\"\n",
      "📄 Page 47: 9400 papers retrieved for \"urban green spaces\"\n",
      "📄 Page 48: 9600 papers retrieved for \"urban green spaces\"\n",
      "📄 Page 49: 9800 papers retrieved for \"urban green spaces\"\n",
      "📄 Page 50: 10000 papers retrieved for \"urban green spaces\"\n",
      "📄 Page 51: 10200 papers retrieved for \"urban green spaces\"\n",
      "📄 Page 52: 10400 papers retrieved for \"urban green spaces\"\n",
      "📄 Page 53: 10600 papers retrieved for \"urban green spaces\"\n",
      "📄 Page 54: 10800 papers retrieved for \"urban green spaces\"\n",
      "📄 Page 55: 11000 papers retrieved for \"urban green spaces\"\n",
      "📄 Page 56: 11200 papers retrieved for \"urban green spaces\"\n",
      "📄 Page 57: 11400 papers retrieved for \"urban green spaces\"\n",
      "📄 Page 58: 11600 papers retrieved for \"urban green spaces\"\n",
      "📄 Page 59: 11800 papers retrieved for \"urban green spaces\"\n",
      "📄 Page 60: 12000 papers retrieved for \"urban green spaces\"\n",
      "📄 Page 61: 12200 papers retrieved for \"urban green spaces\"\n",
      "📄 Page 62: 12400 papers retrieved for \"urban green spaces\"\n",
      "📄 Page 63: 12600 papers retrieved for \"urban green spaces\"\n",
      "📄 Page 64: 12800 papers retrieved for \"urban green spaces\"\n",
      "📄 Page 65: 13000 papers retrieved for \"urban green spaces\"\n",
      "📄 Page 66: 13200 papers retrieved for \"urban green spaces\"\n",
      "📄 Page 67: 13400 papers retrieved for \"urban green spaces\"\n",
      "📄 Page 68: 13600 papers retrieved for \"urban green spaces\"\n",
      "📄 Page 69: 13800 papers retrieved for \"urban green spaces\"\n",
      "📄 Page 70: 14000 papers retrieved for \"urban green spaces\"\n",
      "📄 Page 71: 14200 papers retrieved for \"urban green spaces\"\n",
      "📄 Page 72: 14400 papers retrieved for \"urban green spaces\"\n",
      "📄 Page 73: 14600 papers retrieved for \"urban green spaces\"\n",
      "📄 Page 74: 14800 papers retrieved for \"urban green spaces\"\n",
      "📄 Page 75: 15000 papers retrieved for \"urban green spaces\"\n",
      "📄 Page 76: 15200 papers retrieved for \"urban green spaces\"\n",
      "📄 Page 77: 15400 papers retrieved for \"urban green spaces\"\n",
      "📄 Page 78: 15600 papers retrieved for \"urban green spaces\"\n",
      "📄 Page 79: 15800 papers retrieved for \"urban green spaces\"\n",
      "📄 Page 80: 16000 papers retrieved for \"urban green spaces\"\n",
      "📄 Page 81: 16200 papers retrieved for \"urban green spaces\"\n",
      "📄 Page 82: 16400 papers retrieved for \"urban green spaces\"\n",
      "📄 Page 83: 16600 papers retrieved for \"urban green spaces\"\n",
      "📄 Page 84: 16800 papers retrieved for \"urban green spaces\"\n",
      "📄 Page 85: 17000 papers retrieved for \"urban green spaces\"\n",
      "📄 Page 86: 17200 papers retrieved for \"urban green spaces\"\n",
      "📄 Page 87: 17400 papers retrieved for \"urban green spaces\"\n",
      "📄 Page 88: 17600 papers retrieved for \"urban green spaces\"\n",
      "📄 Page 89: 17800 papers retrieved for \"urban green spaces\"\n",
      "📄 Page 90: 18000 papers retrieved for \"urban green spaces\"\n",
      "📄 Page 91: 18200 papers retrieved for \"urban green spaces\"\n",
      "📄 Page 92: 18400 papers retrieved for \"urban green spaces\"\n",
      "📄 Page 93: 18600 papers retrieved for \"urban green spaces\"\n",
      "📄 Page 94: 18800 papers retrieved for \"urban green spaces\"\n",
      "📄 Page 95: 19000 papers retrieved for \"urban green spaces\"\n",
      "📄 Page 96: 19200 papers retrieved for \"urban green spaces\"\n",
      "📄 Page 97: 19400 papers retrieved for \"urban green spaces\"\n",
      "📄 Page 98: 19600 papers retrieved for \"urban green spaces\"\n",
      "📄 Page 99: 19800 papers retrieved for \"urban green spaces\"\n",
      "📄 Page 100: 20000 papers retrieved for \"urban green spaces\"\n",
      "📄 Page 101: 20200 papers retrieved for \"urban green spaces\"\n",
      "📄 Page 102: 20400 papers retrieved for \"urban green spaces\"\n",
      "📄 Page 103: 20600 papers retrieved for \"urban green spaces\"\n",
      "📄 Page 104: 20800 papers retrieved for \"urban green spaces\"\n",
      "📄 Page 105: 21000 papers retrieved for \"urban green spaces\"\n",
      "📄 Page 106: 21200 papers retrieved for \"urban green spaces\"\n",
      "📄 Page 107: 21400 papers retrieved for \"urban green spaces\"\n",
      "📄 Page 108: 21600 papers retrieved for \"urban green spaces\"\n",
      "📄 Page 109: 21800 papers retrieved for \"urban green spaces\"\n",
      "📄 Page 110: 22000 papers retrieved for \"urban green spaces\"\n",
      "📄 Page 111: 22200 papers retrieved for \"urban green spaces\"\n",
      "📄 Page 112: 22400 papers retrieved for \"urban green spaces\"\n",
      "📄 Page 113: 22600 papers retrieved for \"urban green spaces\"\n",
      "📄 Page 114: 22800 papers retrieved for \"urban green spaces\"\n",
      "📄 Page 115: 23000 papers retrieved for \"urban green spaces\"\n",
      "📄 Page 116: 23200 papers retrieved for \"urban green spaces\"\n",
      "📄 Page 117: 23400 papers retrieved for \"urban green spaces\"\n",
      "📄 Page 118: 23600 papers retrieved for \"urban green spaces\"\n",
      "📄 Page 119: 23800 papers retrieved for \"urban green spaces\"\n",
      "📄 Page 120: 24000 papers retrieved for \"urban green spaces\"\n",
      "📄 Page 121: 24200 papers retrieved for \"urban green spaces\"\n",
      "📄 Page 122: 24400 papers retrieved for \"urban green spaces\"\n",
      "📄 Page 123: 24600 papers retrieved for \"urban green spaces\"\n",
      "📄 Page 124: 24800 papers retrieved for \"urban green spaces\"\n",
      "📄 Page 125: 25000 papers retrieved for \"urban green spaces\"\n",
      "📄 Page 126: 25200 papers retrieved for \"urban green spaces\"\n",
      "📄 Page 127: 25400 papers retrieved for \"urban green spaces\"\n",
      "📄 Page 128: 25600 papers retrieved for \"urban green spaces\"\n",
      "📄 Page 129: 25800 papers retrieved for \"urban green spaces\"\n",
      "📄 Page 130: 26000 papers retrieved for \"urban green spaces\"\n",
      "📄 Page 131: 26200 papers retrieved for \"urban green spaces\"\n",
      "📄 Page 132: 26400 papers retrieved for \"urban green spaces\"\n",
      "📄 Page 133: 26600 papers retrieved for \"urban green spaces\"\n",
      "📄 Page 134: 26800 papers retrieved for \"urban green spaces\"\n",
      "📄 Page 135: 27000 papers retrieved for \"urban green spaces\"\n",
      "📄 Page 136: 27200 papers retrieved for \"urban green spaces\"\n",
      "📄 Page 137: 27400 papers retrieved for \"urban green spaces\"\n",
      "📄 Page 138: 27600 papers retrieved for \"urban green spaces\"\n",
      "📄 Page 139: 27800 papers retrieved for \"urban green spaces\"\n",
      "📄 Page 140: 28000 papers retrieved for \"urban green spaces\"\n",
      "📄 Page 141: 28200 papers retrieved for \"urban green spaces\"\n",
      "📄 Page 142: 28400 papers retrieved for \"urban green spaces\"\n",
      "📄 Page 143: 28600 papers retrieved for \"urban green spaces\"\n",
      "📄 Page 144: 28800 papers retrieved for \"urban green spaces\"\n",
      "📄 Page 145: 29000 papers retrieved for \"urban green spaces\"\n",
      "📄 Page 146: 29200 papers retrieved for \"urban green spaces\"\n",
      "📄 Page 147: 29400 papers retrieved for \"urban green spaces\"\n",
      "📄 Page 148: 29600 papers retrieved for \"urban green spaces\"\n",
      "📄 Page 149: 29800 papers retrieved for \"urban green spaces\"\n",
      "📄 Page 150: 30000 papers retrieved for \"urban green spaces\"\n",
      "📄 Page 151: 30200 papers retrieved for \"urban green spaces\"\n",
      "📄 Page 152: 30400 papers retrieved for \"urban green spaces\"\n",
      "📄 Page 153: 30600 papers retrieved for \"urban green spaces\"\n",
      "📄 Page 154: 30800 papers retrieved for \"urban green spaces\"\n",
      "📄 Page 155: 31000 papers retrieved for \"urban green spaces\"\n",
      "📄 Page 156: 31200 papers retrieved for \"urban green spaces\"\n",
      "📄 Page 157: 31400 papers retrieved for \"urban green spaces\"\n",
      "📄 Page 158: 31600 papers retrieved for \"urban green spaces\"\n",
      "📄 Page 159: 31800 papers retrieved for \"urban green spaces\"\n",
      "📄 Page 160: 32000 papers retrieved for \"urban green spaces\"\n",
      "📄 Page 161: 32200 papers retrieved for \"urban green spaces\"\n",
      "📄 Page 162: 32400 papers retrieved for \"urban green spaces\"\n",
      "📄 Page 163: 32449 papers retrieved for \"urban green spaces\"\n",
      "✅ No more papers available for \"urban green spaces\" (reached end of results)\n",
      "✅ Completed all available results for \"urban green spaces\" (total: 32449 papers across 164 pages)\n",
      "\n",
      "🔍 Processing keyword: \"urban wildlife\"\n",
      "⏳ Starting fresh for keyword \"urban wildlife\"\n",
      "📄 Page 1: 200 papers retrieved for \"urban wildlife\"\n",
      "📄 Page 2: 400 papers retrieved for \"urban wildlife\"\n",
      "📄 Page 3: 600 papers retrieved for \"urban wildlife\"\n",
      "📄 Page 4: 800 papers retrieved for \"urban wildlife\"\n",
      "📄 Page 5: 1000 papers retrieved for \"urban wildlife\"\n",
      "📄 Page 6: 1200 papers retrieved for \"urban wildlife\"\n",
      "📄 Page 7: 1400 papers retrieved for \"urban wildlife\"\n",
      "📄 Page 8: 1600 papers retrieved for \"urban wildlife\"\n",
      "📄 Page 9: 1800 papers retrieved for \"urban wildlife\"\n",
      "📄 Page 10: 2000 papers retrieved for \"urban wildlife\"\n",
      "📄 Page 11: 2200 papers retrieved for \"urban wildlife\"\n",
      "📄 Page 12: 2400 papers retrieved for \"urban wildlife\"\n",
      "📄 Page 13: 2600 papers retrieved for \"urban wildlife\"\n",
      "📄 Page 14: 2800 papers retrieved for \"urban wildlife\"\n",
      "📄 Page 15: 3000 papers retrieved for \"urban wildlife\"\n",
      "📄 Page 16: 3200 papers retrieved for \"urban wildlife\"\n",
      "📄 Page 17: 3400 papers retrieved for \"urban wildlife\"\n",
      "📄 Page 18: 3600 papers retrieved for \"urban wildlife\"\n",
      "📄 Page 19: 3800 papers retrieved for \"urban wildlife\"\n",
      "📄 Page 20: 4000 papers retrieved for \"urban wildlife\"\n",
      "📄 Page 21: 4200 papers retrieved for \"urban wildlife\"\n",
      "📄 Page 22: 4400 papers retrieved for \"urban wildlife\"\n",
      "📄 Page 23: 4600 papers retrieved for \"urban wildlife\"\n",
      "📄 Page 24: 4800 papers retrieved for \"urban wildlife\"\n",
      "📄 Page 25: 5000 papers retrieved for \"urban wildlife\"\n",
      "📄 Page 26: 5200 papers retrieved for \"urban wildlife\"\n",
      "📄 Page 27: 5400 papers retrieved for \"urban wildlife\"\n",
      "📄 Page 28: 5600 papers retrieved for \"urban wildlife\"\n",
      "📄 Page 29: 5800 papers retrieved for \"urban wildlife\"\n",
      "📄 Page 30: 6000 papers retrieved for \"urban wildlife\"\n",
      "📄 Page 31: 6200 papers retrieved for \"urban wildlife\"\n",
      "📄 Page 32: 6400 papers retrieved for \"urban wildlife\"\n",
      "📄 Page 33: 6600 papers retrieved for \"urban wildlife\"\n",
      "📄 Page 34: 6800 papers retrieved for \"urban wildlife\"\n",
      "📄 Page 35: 7000 papers retrieved for \"urban wildlife\"\n",
      "📄 Page 36: 7200 papers retrieved for \"urban wildlife\"\n",
      "📄 Page 37: 7400 papers retrieved for \"urban wildlife\"\n",
      "📄 Page 38: 7600 papers retrieved for \"urban wildlife\"\n",
      "📄 Page 39: 7800 papers retrieved for \"urban wildlife\"\n",
      "📄 Page 40: 8000 papers retrieved for \"urban wildlife\"\n",
      "📄 Page 41: 8200 papers retrieved for \"urban wildlife\"\n",
      "📄 Page 42: 8400 papers retrieved for \"urban wildlife\"\n",
      "📄 Page 43: 8600 papers retrieved for \"urban wildlife\"\n",
      "📄 Page 44: 8800 papers retrieved for \"urban wildlife\"\n",
      "📄 Page 45: 9000 papers retrieved for \"urban wildlife\"\n",
      "📄 Page 46: 9200 papers retrieved for \"urban wildlife\"\n",
      "📄 Page 47: 9400 papers retrieved for \"urban wildlife\"\n",
      "📄 Page 48: 9600 papers retrieved for \"urban wildlife\"\n",
      "📄 Page 49: 9800 papers retrieved for \"urban wildlife\"\n",
      "📄 Page 50: 9888 papers retrieved for \"urban wildlife\"\n",
      "✅ No more papers available for \"urban wildlife\" (reached end of results)\n",
      "✅ Completed all available results for \"urban wildlife\" (total: 9888 papers across 51 pages)\n",
      "\n",
      "🔍 Processing keyword: \"urban vegetation\"\n",
      "⏳ Starting fresh for keyword \"urban vegetation\"\n",
      "📄 Page 1: 200 papers retrieved for \"urban vegetation\"\n",
      "📄 Page 2: 400 papers retrieved for \"urban vegetation\"\n",
      "📄 Page 3: 600 papers retrieved for \"urban vegetation\"\n",
      "📄 Page 4: 800 papers retrieved for \"urban vegetation\"\n",
      "📄 Page 5: 1000 papers retrieved for \"urban vegetation\"\n",
      "📄 Page 6: 1200 papers retrieved for \"urban vegetation\"\n",
      "📄 Page 7: 1400 papers retrieved for \"urban vegetation\"\n",
      "📄 Page 8: 1600 papers retrieved for \"urban vegetation\"\n",
      "📄 Page 9: 1800 papers retrieved for \"urban vegetation\"\n",
      "📄 Page 10: 2000 papers retrieved for \"urban vegetation\"\n",
      "📄 Page 11: 2200 papers retrieved for \"urban vegetation\"\n",
      "📄 Page 12: 2400 papers retrieved for \"urban vegetation\"\n",
      "📄 Page 13: 2600 papers retrieved for \"urban vegetation\"\n",
      "📄 Page 14: 2800 papers retrieved for \"urban vegetation\"\n",
      "📄 Page 15: 3000 papers retrieved for \"urban vegetation\"\n",
      "📄 Page 16: 3200 papers retrieved for \"urban vegetation\"\n",
      "📄 Page 17: 3400 papers retrieved for \"urban vegetation\"\n",
      "📄 Page 18: 3600 papers retrieved for \"urban vegetation\"\n",
      "📄 Page 19: 3800 papers retrieved for \"urban vegetation\"\n",
      "📄 Page 20: 4000 papers retrieved for \"urban vegetation\"\n",
      "📄 Page 21: 4200 papers retrieved for \"urban vegetation\"\n",
      "📄 Page 22: 4400 papers retrieved for \"urban vegetation\"\n",
      "📄 Page 23: 4600 papers retrieved for \"urban vegetation\"\n",
      "📄 Page 24: 4800 papers retrieved for \"urban vegetation\"\n",
      "📄 Page 25: 5000 papers retrieved for \"urban vegetation\"\n",
      "📄 Page 26: 5200 papers retrieved for \"urban vegetation\"\n",
      "📄 Page 27: 5400 papers retrieved for \"urban vegetation\"\n",
      "📄 Page 28: 5600 papers retrieved for \"urban vegetation\"\n",
      "📄 Page 29: 5800 papers retrieved for \"urban vegetation\"\n",
      "📄 Page 30: 6000 papers retrieved for \"urban vegetation\"\n",
      "📄 Page 31: 6200 papers retrieved for \"urban vegetation\"\n",
      "📄 Page 32: 6400 papers retrieved for \"urban vegetation\"\n",
      "📄 Page 33: 6600 papers retrieved for \"urban vegetation\"\n",
      "📄 Page 34: 6800 papers retrieved for \"urban vegetation\"\n",
      "📄 Page 35: 7000 papers retrieved for \"urban vegetation\"\n",
      "📄 Page 36: 7200 papers retrieved for \"urban vegetation\"\n",
      "📄 Page 37: 7400 papers retrieved for \"urban vegetation\"\n",
      "📄 Page 38: 7600 papers retrieved for \"urban vegetation\"\n",
      "📄 Page 39: 7800 papers retrieved for \"urban vegetation\"\n",
      "📄 Page 40: 8000 papers retrieved for \"urban vegetation\"\n",
      "📄 Page 41: 8200 papers retrieved for \"urban vegetation\"\n",
      "📄 Page 42: 8400 papers retrieved for \"urban vegetation\"\n",
      "📄 Page 43: 8600 papers retrieved for \"urban vegetation\"\n",
      "📄 Page 44: 8800 papers retrieved for \"urban vegetation\"\n",
      "📄 Page 45: 9000 papers retrieved for \"urban vegetation\"\n",
      "📄 Page 46: 9200 papers retrieved for \"urban vegetation\"\n",
      "📄 Page 47: 9400 papers retrieved for \"urban vegetation\"\n",
      "📄 Page 48: 9600 papers retrieved for \"urban vegetation\"\n",
      "📄 Page 49: 9800 papers retrieved for \"urban vegetation\"\n",
      "📄 Page 50: 10000 papers retrieved for \"urban vegetation\"\n",
      "📄 Page 51: 10200 papers retrieved for \"urban vegetation\"\n",
      "📄 Page 52: 10400 papers retrieved for \"urban vegetation\"\n",
      "📄 Page 53: 10600 papers retrieved for \"urban vegetation\"\n",
      "📄 Page 54: 10800 papers retrieved for \"urban vegetation\"\n",
      "📄 Page 55: 11000 papers retrieved for \"urban vegetation\"\n",
      "📄 Page 56: 11200 papers retrieved for \"urban vegetation\"\n",
      "📄 Page 57: 11400 papers retrieved for \"urban vegetation\"\n",
      "📄 Page 58: 11600 papers retrieved for \"urban vegetation\"\n",
      "📄 Page 59: 11800 papers retrieved for \"urban vegetation\"\n",
      "📄 Page 60: 12000 papers retrieved for \"urban vegetation\"\n",
      "📄 Page 61: 12200 papers retrieved for \"urban vegetation\"\n",
      "📄 Page 62: 12400 papers retrieved for \"urban vegetation\"\n",
      "📄 Page 63: 12600 papers retrieved for \"urban vegetation\"\n",
      "📄 Page 64: 12800 papers retrieved for \"urban vegetation\"\n",
      "📄 Page 65: 13000 papers retrieved for \"urban vegetation\"\n",
      "📄 Page 66: 13200 papers retrieved for \"urban vegetation\"\n",
      "📄 Page 67: 13400 papers retrieved for \"urban vegetation\"\n",
      "📄 Page 68: 13600 papers retrieved for \"urban vegetation\"\n",
      "📄 Page 69: 13800 papers retrieved for \"urban vegetation\"\n",
      "📄 Page 70: 14000 papers retrieved for \"urban vegetation\"\n",
      "📄 Page 71: 14200 papers retrieved for \"urban vegetation\"\n",
      "📄 Page 72: 14400 papers retrieved for \"urban vegetation\"\n",
      "📄 Page 73: 14600 papers retrieved for \"urban vegetation\"\n",
      "📄 Page 74: 14800 papers retrieved for \"urban vegetation\"\n",
      "📄 Page 75: 15000 papers retrieved for \"urban vegetation\"\n",
      "📄 Page 76: 15200 papers retrieved for \"urban vegetation\"\n",
      "📄 Page 77: 15400 papers retrieved for \"urban vegetation\"\n",
      "📄 Page 78: 15600 papers retrieved for \"urban vegetation\"\n",
      "📄 Page 79: 15800 papers retrieved for \"urban vegetation\"\n",
      "📄 Page 80: 16000 papers retrieved for \"urban vegetation\"\n",
      "📄 Page 81: 16200 papers retrieved for \"urban vegetation\"\n",
      "📄 Page 82: 16400 papers retrieved for \"urban vegetation\"\n",
      "📄 Page 83: 16568 papers retrieved for \"urban vegetation\"\n",
      "✅ No more papers available for \"urban vegetation\" (reached end of results)\n",
      "✅ Completed all available results for \"urban vegetation\" (total: 16568 papers across 84 pages)\n",
      "\n",
      "🎉 All keywords processed.\n"
     ]
    }
   ],
   "source": [
    "# === Main loop for paper retrieval from OpenAlex ===\n",
    "\n",
    "init_table(PAPERS_DB_PATH, \"papers\", papers_schema)\n",
    "\n",
    "for keyword in query_list:\n",
    "    print(f'\\n🔍 Processing keyword: \"{keyword}\"')\n",
    "\n",
    "    if is_done(keyword):\n",
    "        print(f'✅ Keyword \"{keyword}\" already completed. Skipping.')\n",
    "        continue\n",
    "\n",
    "    current_cursor = load_cursor(keyword)\n",
    "    if current_cursor:\n",
    "        print(f'🔄 Resuming from saved cursor for \"{keyword}\"')\n",
    "        cursor = current_cursor\n",
    "    else:\n",
    "        print(f'⏳ Starting fresh for keyword \"{keyword}\"')\n",
    "        cursor = \"*\"\n",
    "\n",
    "    retrieved = 0\n",
    "    page_count = 0\n",
    "\n",
    "    while True:\n",
    "        page_count += 1\n",
    "        \n",
    "        params = {\n",
    "            'search': keyword,\n",
    "            'filter': f'type:journal-article|book|book-chapter|monograph,publication_year:{YEAR_RANGE}',\n",
    "            'per_page': 200,\n",
    "            'cursor': cursor,\n",
    "            'mailto': 'andre.borja.miranda@gmail.com'\n",
    "        }\n",
    "\n",
    "        for attempt in range(2):\n",
    "            try:\n",
    "                sys.stdout.flush() # Flush statements to avoid an issue that waas happening where print statements were duplicated after the request\n",
    "                \n",
    "                response = requests.get(BASE_URL, params=params, timeout=30)\n",
    "                response.raise_for_status()\n",
    "                \n",
    "                sys.stdout.flush()\n",
    "                \n",
    "                data = response.json()\n",
    "                break\n",
    "            except requests.exceptions.RequestException as e:\n",
    "                print(f'❌ Request error on attempt {attempt+1} for \"{keyword}\" page {page_count}: {e}')\n",
    "                if attempt == 0:\n",
    "                    print(f'⏳ Retrying after {RETRY_DELAY} seconds...')\n",
    "                    time.sleep(RETRY_DELAY)\n",
    "                else:\n",
    "                    print('⚠️ Skipping this batch due to repeated failure.')\n",
    "                    data = None\n",
    "\n",
    "        if data is None:\n",
    "            print(f'⚠️ No data retrieved for keyword \"{keyword}\" page {page_count}, breaking loop.')\n",
    "            break\n",
    "\n",
    "        if 'error' in data:\n",
    "            print(f'❌ API Error for \"{keyword}\": {data.get(\"message\", \"Unknown error\")}')\n",
    "            break\n",
    "\n",
    "        papers = data.get('results', [])\n",
    "        if not papers:\n",
    "            print(f'✅ No more papers available for \"{keyword}\" (reached end of results)')\n",
    "            print(f'✅ Completed all available results for \"{keyword}\" (total: {retrieved} papers across {page_count} pages)')\n",
    "            delete_cursor(keyword)\n",
    "            mark_done(keyword)\n",
    "            break\n",
    "\n",
    "        retrieved += len(papers)\n",
    "        print(f'📄 Page {page_count}: {retrieved} papers retrieved for \"{keyword}\"')\n",
    "\n",
    "        for paper in papers:\n",
    "            save_paper_to_db(paper, keyword)\n",
    "\n",
    "        meta = data.get('meta', {})\n",
    "        next_cursor = meta.get('next_cursor')\n",
    "        \n",
    "        if next_cursor:\n",
    "            cursor = next_cursor\n",
    "            save_cursor(keyword, cursor)\n",
    "            time.sleep(DELAY)\n",
    "            \n",
    "        else:\n",
    "            #Fallback redundancy in case the \"if not papers\" check fails\n",
    "            print(f'✅ No more cursor available for \"{keyword}\" (total: {retrieved} papers across {page_count} pages)')\n",
    "            delete_cursor(keyword)\n",
    "            mark_done(keyword)\n",
    "            break\n",
    "\n",
    "print('\\n🎉 All keywords processed.')"
   ]
  },
  {
   "cell_type": "code",
   "execution_count": 7,
   "id": "9cb32e8b",
   "metadata": {},
   "outputs": [
    {
     "data": {
      "application/vnd.microsoft.datawrangler.viewer.v0+json": {
       "columns": [
        {
         "name": "index",
         "rawType": "int64",
         "type": "integer"
        },
        {
         "name": "year",
         "rawType": "int64",
         "type": "integer"
        },
        {
         "name": "search_keyword",
         "rawType": "object",
         "type": "string"
        },
        {
         "name": "paper_count",
         "rawType": "int64",
         "type": "integer"
        }
       ],
       "ref": "2da69d96-8162-4a92-8c69-22decc91c4d5",
       "rows": [
        [
         "0",
         "1970",
         "urban biodiversity",
         "1"
        ],
        [
         "1",
         "1970",
         "urban ecology",
         "19"
        ],
        [
         "2",
         "1970",
         "urban ecosystem",
         "2"
        ],
        [
         "3",
         "1970",
         "urban green spaces",
         "2"
        ],
        [
         "4",
         "1970",
         "urban vegetation",
         "3"
        ]
       ],
       "shape": {
        "columns": 3,
        "rows": 5
       }
      },
      "text/html": [
       "<div>\n",
       "<style scoped>\n",
       "    .dataframe tbody tr th:only-of-type {\n",
       "        vertical-align: middle;\n",
       "    }\n",
       "\n",
       "    .dataframe tbody tr th {\n",
       "        vertical-align: top;\n",
       "    }\n",
       "\n",
       "    .dataframe thead th {\n",
       "        text-align: right;\n",
       "    }\n",
       "</style>\n",
       "<table border=\"1\" class=\"dataframe\">\n",
       "  <thead>\n",
       "    <tr style=\"text-align: right;\">\n",
       "      <th></th>\n",
       "      <th>year</th>\n",
       "      <th>search_keyword</th>\n",
       "      <th>paper_count</th>\n",
       "    </tr>\n",
       "  </thead>\n",
       "  <tbody>\n",
       "    <tr>\n",
       "      <th>0</th>\n",
       "      <td>1970</td>\n",
       "      <td>urban biodiversity</td>\n",
       "      <td>1</td>\n",
       "    </tr>\n",
       "    <tr>\n",
       "      <th>1</th>\n",
       "      <td>1970</td>\n",
       "      <td>urban ecology</td>\n",
       "      <td>19</td>\n",
       "    </tr>\n",
       "    <tr>\n",
       "      <th>2</th>\n",
       "      <td>1970</td>\n",
       "      <td>urban ecosystem</td>\n",
       "      <td>2</td>\n",
       "    </tr>\n",
       "    <tr>\n",
       "      <th>3</th>\n",
       "      <td>1970</td>\n",
       "      <td>urban green spaces</td>\n",
       "      <td>2</td>\n",
       "    </tr>\n",
       "    <tr>\n",
       "      <th>4</th>\n",
       "      <td>1970</td>\n",
       "      <td>urban vegetation</td>\n",
       "      <td>3</td>\n",
       "    </tr>\n",
       "  </tbody>\n",
       "</table>\n",
       "</div>"
      ],
      "text/plain": [
       "   year      search_keyword  paper_count\n",
       "0  1970  urban biodiversity            1\n",
       "1  1970       urban ecology           19\n",
       "2  1970     urban ecosystem            2\n",
       "3  1970  urban green spaces            2\n",
       "4  1970    urban vegetation            3"
      ]
     },
     "execution_count": 7,
     "metadata": {},
     "output_type": "execute_result"
    }
   ],
   "source": [
    "with sqlite3.connect(PAPERS_DB_PATH) as conn:\n",
    "    df_raw = pd.read_sql_query(\"\"\"\n",
    "    SELECT year, search_keyword\n",
    "    FROM papers\n",
    "    WHERE year < 2025 AND search_keyword IS NOT NULL AND search_keyword != ''\n",
    "    \"\"\", conn)\n",
    "\n",
    "rows = []\n",
    "for _, row in df_raw.iterrows():\n",
    "    keywords = [k.strip() for k in row['search_keyword'].split(',')]\n",
    "    for keyword in keywords:\n",
    "        if keyword:\n",
    "            rows.append({'year': row['year'], 'search_keyword': keyword})\n",
    "\n",
    "df_expanded = pd.DataFrame(rows)\n",
    "df_keywords = df_expanded.groupby(['year', 'search_keyword']).size().reset_index(name='paper_count')\n",
    "\n",
    "df_totals = df_expanded.groupby('year').size().reset_index(name='paper_count')\n",
    "df_totals['search_keyword'] = 'total'\n",
    "\n",
    "df_keywords = df_keywords.sort_values('year')\n",
    "df_keywords.head()"
   ]
  },
  {
   "cell_type": "code",
   "execution_count": null,
   "id": "2672885c",
   "metadata": {},
   "outputs": [],
   "source": [
    "# Analyze first author country distribution\n",
    "with sqlite3.connect(PAPERS_DB_PATH) as conn:\n",
    "    country_df = pd.read_sql_query(\"\"\"\n",
    "    SELECT \n",
    "        firstAuthorCountryIso,\n",
    "        COUNT(*) as paper_count,\n",
    "        ROUND(AVG(citationCount), 2) as avg_citations\n",
    "    FROM papers\n",
    "    WHERE firstAuthorCountryIso IS NOT NULL\n",
    "    GROUP BY firstAuthorCountryIso\n",
    "    ORDER BY paper_count DESC\n",
    "    LIMIT 20\n",
    "    \"\"\", conn)\n",
    "\n",
    "print(\"Top 20 countries by number of urban ecology papers:\")\n",
    "print(country_df.to_string(index=False))"
   ]
  },
  {
   "cell_type": "code",
   "execution_count": 8,
   "id": "8aa91fc8",
   "metadata": {},
   "outputs": [
    {
     "data": {
      "application/vnd.plotly.v1+json": {
       "config": {
        "plotlyServerURL": "https://plot.ly"
       },
       "data": [
        {
         "hovertemplate": "search_keyword=urban biodiversity<br>year=%{x}<br>paper_count=%{y}<extra></extra>",
         "legendgroup": "urban biodiversity",
         "line": {
          "color": "#E6A366",
          "dash": "solid"
         },
         "marker": {
          "symbol": "circle"
         },
         "mode": "lines+markers",
         "name": "urban biodiversity",
         "orientation": "v",
         "showlegend": true,
         "type": "scatter",
         "x": {
          "bdata": "sgfBB8MHxgfHB8gHyQfKB8sHzAfNB84HzwfQB9EH0gfTB9QH1QfWB9cH2AfZB9oH2wfcB90H3gffB+AH4QfiB+MH5AflB+YH5wfoBw==",
          "dtype": "i2"
         },
         "xaxis": "x",
         "y": {
          "bdata": "AQABAAEAAQACAAMABQADAAYABAAGAAwADgAQABMAEQAhADQAOgBJAEMATwBXAHIAfgCGALEAvADcAOIA3wAgAUsBdQGYAZwBaAPiBA==",
          "dtype": "i2"
         },
         "yaxis": "y"
        },
        {
         "hovertemplate": "search_keyword=urban ecology<br>year=%{x}<br>paper_count=%{y}<extra></extra>",
         "legendgroup": "urban ecology",
         "line": {
          "color": "#6B9BD2",
          "dash": "solid"
         },
         "marker": {
          "symbol": "circle"
         },
         "mode": "lines+markers",
         "name": "urban ecology",
         "orientation": "v",
         "showlegend": true,
         "type": "scatter",
         "x": {
          "bdata": "sgezB7QHtQe2B7cHuAe5B7oHuwe8B70Hvge/B8AHwQfCB8MHxAfFB8YHxwfIB8kHygfLB8wHzQfOB88H0AfRB9IH0wfUB9UH1gfXB9gH2QfaB9sH3AfdB94H3wfgB+EH4gfjB+QH5QfmB+cH6Ac=",
          "dtype": "i2"
         },
         "xaxis": "x",
         "y": {
          "bdata": "EwAGAAkABgAIABMACAAIAAsACQAKAA0ACAANAAwADQAJAAsADQASAA0AEQAQABoAFwASABYAHgAaABsALwAxADcAWABWAD0AaQBvAI4AhwCYAK4AwgDWAMwA+QDUAOQACgE8AUYBSQFfAXMC7wI=",
          "dtype": "i2"
         },
         "yaxis": "y"
        },
        {
         "hovertemplate": "search_keyword=urban ecosystem<br>year=%{x}<br>paper_count=%{y}<extra></extra>",
         "legendgroup": "urban ecosystem",
         "line": {
          "color": "#E6A8D0",
          "dash": "solid"
         },
         "marker": {
          "symbol": "circle"
         },
         "mode": "lines+markers",
         "name": "urban ecosystem",
         "orientation": "v",
         "showlegend": true,
         "type": "scatter",
         "x": {
          "bdata": "sge0B7UHtge3B7gHuQe6B7sHvAe9B74HvwfAB8EHwgfDB8QHxQfGB8cHyAfJB8oHywfMB80HzgfPB9AH0QfSB9MH1AfVB9YH1wfYB9kH2gfbB9wH3QfeB98H4AfhB+IH4wfkB+UH5gfnB+gH",
          "dtype": "i2"
         },
         "xaxis": "x",
         "y": {
          "bdata": "AgABAAQABgADAAQAAwACAAQAAQAGAAEABQAEAAMABwANAAoACAALAA8ACwAQABMAEgAcABwAFAAjAC4APABMAGQAZwB8AIIAfQC2ANAA4AAyATIBggGcAeMBFgIcAqEC7QJeA/4D+wPvCLEL",
          "dtype": "i2"
         },
         "yaxis": "y"
        },
        {
         "hovertemplate": "search_keyword=urban green spaces<br>year=%{x}<br>paper_count=%{y}<extra></extra>",
         "legendgroup": "urban green spaces",
         "line": {
          "color": "#7FB069",
          "dash": "solid"
         },
         "marker": {
          "symbol": "circle"
         },
         "mode": "lines+markers",
         "name": "urban green spaces",
         "orientation": "v",
         "showlegend": true,
         "type": "scatter",
         "x": {
          "bdata": "sgezB7UHtge3B7gHuge7B7wHvQe+B78HwAfCB8MHxAfFB8YHxwfIB8kHygfMB80HzgfPB9AH0QfSB9MH1AfVB9YH1wfYB9kH2gfbB9wH3QfeB98H4AfhB+IH4wfkB+UH5gfnB+gH",
          "dtype": "i2"
         },
         "xaxis": "x",
         "y": {
          "bdata": "AgABAAEAAQABAAEAAgABAAEAAQABAAIAAgABAAEAAgACAAUABgACAAYACQAFAAMACQAFAAkAEgAaACMALAA0AEYAPQBDAGkAfwCxAL8AxQDrACEBGQFOAaMB8AEkAnsC0QK0BrkJ",
          "dtype": "i2"
         },
         "yaxis": "y"
        },
        {
         "hovertemplate": "search_keyword=urban vegetation<br>year=%{x}<br>paper_count=%{y}<extra></extra>",
         "legendgroup": "urban vegetation",
         "line": {
          "color": "#B19CD9",
          "dash": "solid"
         },
         "marker": {
          "symbol": "circle"
         },
         "mode": "lines+markers",
         "name": "urban vegetation",
         "orientation": "v",
         "showlegend": true,
         "type": "scatter",
         "x": {
          "bdata": "sgezB7QHtQe2B7cHuAe5B7oHuwe8B70Hvge/B8AHwQfCB8MHxAfFB8YHxwfIB8kHygfLB8wHzQfOB88H0AfRB9IH0wfUB9UH1gfXB9gH2QfaB9sH3AfdB94H3wfgB+EH4gfjB+QH5QfmB+cH6Ac=",
          "dtype": "i2"
         },
         "xaxis": "x",
         "y": {
          "bdata": "AwACAAEAAwAFAAIAAgAGAAQAAwAHAAgAAwAIAAcABgAFAAgACgANAA4AEgAMABMAEwAQABsAGwAbABwALQAwAEkATABSAGkAeACFAJ4AiACyAMYA5gAUAS8BQgFUAYIBqgEMAvUBIQJKAoYFCAc=",
          "dtype": "i2"
         },
         "yaxis": "y"
        },
        {
         "hovertemplate": "search_keyword=urban wildlife<br>year=%{x}<br>paper_count=%{y}<extra></extra>",
         "legendgroup": "urban wildlife",
         "line": {
          "color": "#D67B7B",
          "dash": "solid"
         },
         "marker": {
          "symbol": "circle"
         },
         "mode": "lines+markers",
         "name": "urban wildlife",
         "orientation": "v",
         "showlegend": true,
         "type": "scatter",
         "x": {
          "bdata": "sge0B7cHuAe5B7oHuwe8B70Hvge/B8AHwQfCB8MHxAfFB8YHxwfIB8kHygfLB8wHzQfOB88H0AfRB9IH0wfUB9UH1gfXB9gH2QfaB9sH3AfdB94H3wfgB+EH4gfjB+QH5QfmB+cH6Ac=",
          "dtype": "i2"
         },
         "xaxis": "x",
         "y": {
          "bdata": "AgACAAQABQAEAAUAAwAHAAUAAQADAAYACQADAAkACgANAAkACQAEAAoABgAWABIAFQARAA4AGQAiACEAMgA4ACIANwBDAEMAQgBCAFEAXwBrAH0AYwB7AHoApwCmAOcA1AC8AEIBhgE=",
          "dtype": "i2"
         },
         "yaxis": "y"
        }
       ],
       "layout": {
        "font": {
         "size": 12
        },
        "height": 600,
        "legend": {
         "title": {
          "text": "Keyword"
         },
         "tracegroupgap": 0
        },
        "template": {
         "data": {
          "bar": [
           {
            "error_x": {
             "color": "#f2f5fa"
            },
            "error_y": {
             "color": "#f2f5fa"
            },
            "marker": {
             "line": {
              "color": "rgb(17,17,17)",
              "width": 0.5
             },
             "pattern": {
              "fillmode": "overlay",
              "size": 10,
              "solidity": 0.2
             }
            },
            "type": "bar"
           }
          ],
          "barpolar": [
           {
            "marker": {
             "line": {
              "color": "rgb(17,17,17)",
              "width": 0.5
             },
             "pattern": {
              "fillmode": "overlay",
              "size": 10,
              "solidity": 0.2
             }
            },
            "type": "barpolar"
           }
          ],
          "carpet": [
           {
            "aaxis": {
             "endlinecolor": "#A2B1C6",
             "gridcolor": "#506784",
             "linecolor": "#506784",
             "minorgridcolor": "#506784",
             "startlinecolor": "#A2B1C6"
            },
            "baxis": {
             "endlinecolor": "#A2B1C6",
             "gridcolor": "#506784",
             "linecolor": "#506784",
             "minorgridcolor": "#506784",
             "startlinecolor": "#A2B1C6"
            },
            "type": "carpet"
           }
          ],
          "choropleth": [
           {
            "colorbar": {
             "outlinewidth": 0,
             "ticks": ""
            },
            "type": "choropleth"
           }
          ],
          "contour": [
           {
            "colorbar": {
             "outlinewidth": 0,
             "ticks": ""
            },
            "colorscale": [
             [
              0,
              "#0d0887"
             ],
             [
              0.1111111111111111,
              "#46039f"
             ],
             [
              0.2222222222222222,
              "#7201a8"
             ],
             [
              0.3333333333333333,
              "#9c179e"
             ],
             [
              0.4444444444444444,
              "#bd3786"
             ],
             [
              0.5555555555555556,
              "#d8576b"
             ],
             [
              0.6666666666666666,
              "#ed7953"
             ],
             [
              0.7777777777777778,
              "#fb9f3a"
             ],
             [
              0.8888888888888888,
              "#fdca26"
             ],
             [
              1,
              "#f0f921"
             ]
            ],
            "type": "contour"
           }
          ],
          "contourcarpet": [
           {
            "colorbar": {
             "outlinewidth": 0,
             "ticks": ""
            },
            "type": "contourcarpet"
           }
          ],
          "heatmap": [
           {
            "colorbar": {
             "outlinewidth": 0,
             "ticks": ""
            },
            "colorscale": [
             [
              0,
              "#0d0887"
             ],
             [
              0.1111111111111111,
              "#46039f"
             ],
             [
              0.2222222222222222,
              "#7201a8"
             ],
             [
              0.3333333333333333,
              "#9c179e"
             ],
             [
              0.4444444444444444,
              "#bd3786"
             ],
             [
              0.5555555555555556,
              "#d8576b"
             ],
             [
              0.6666666666666666,
              "#ed7953"
             ],
             [
              0.7777777777777778,
              "#fb9f3a"
             ],
             [
              0.8888888888888888,
              "#fdca26"
             ],
             [
              1,
              "#f0f921"
             ]
            ],
            "type": "heatmap"
           }
          ],
          "histogram": [
           {
            "marker": {
             "pattern": {
              "fillmode": "overlay",
              "size": 10,
              "solidity": 0.2
             }
            },
            "type": "histogram"
           }
          ],
          "histogram2d": [
           {
            "colorbar": {
             "outlinewidth": 0,
             "ticks": ""
            },
            "colorscale": [
             [
              0,
              "#0d0887"
             ],
             [
              0.1111111111111111,
              "#46039f"
             ],
             [
              0.2222222222222222,
              "#7201a8"
             ],
             [
              0.3333333333333333,
              "#9c179e"
             ],
             [
              0.4444444444444444,
              "#bd3786"
             ],
             [
              0.5555555555555556,
              "#d8576b"
             ],
             [
              0.6666666666666666,
              "#ed7953"
             ],
             [
              0.7777777777777778,
              "#fb9f3a"
             ],
             [
              0.8888888888888888,
              "#fdca26"
             ],
             [
              1,
              "#f0f921"
             ]
            ],
            "type": "histogram2d"
           }
          ],
          "histogram2dcontour": [
           {
            "colorbar": {
             "outlinewidth": 0,
             "ticks": ""
            },
            "colorscale": [
             [
              0,
              "#0d0887"
             ],
             [
              0.1111111111111111,
              "#46039f"
             ],
             [
              0.2222222222222222,
              "#7201a8"
             ],
             [
              0.3333333333333333,
              "#9c179e"
             ],
             [
              0.4444444444444444,
              "#bd3786"
             ],
             [
              0.5555555555555556,
              "#d8576b"
             ],
             [
              0.6666666666666666,
              "#ed7953"
             ],
             [
              0.7777777777777778,
              "#fb9f3a"
             ],
             [
              0.8888888888888888,
              "#fdca26"
             ],
             [
              1,
              "#f0f921"
             ]
            ],
            "type": "histogram2dcontour"
           }
          ],
          "mesh3d": [
           {
            "colorbar": {
             "outlinewidth": 0,
             "ticks": ""
            },
            "type": "mesh3d"
           }
          ],
          "parcoords": [
           {
            "line": {
             "colorbar": {
              "outlinewidth": 0,
              "ticks": ""
             }
            },
            "type": "parcoords"
           }
          ],
          "pie": [
           {
            "automargin": true,
            "type": "pie"
           }
          ],
          "scatter": [
           {
            "marker": {
             "line": {
              "color": "#283442"
             }
            },
            "type": "scatter"
           }
          ],
          "scatter3d": [
           {
            "line": {
             "colorbar": {
              "outlinewidth": 0,
              "ticks": ""
             }
            },
            "marker": {
             "colorbar": {
              "outlinewidth": 0,
              "ticks": ""
             }
            },
            "type": "scatter3d"
           }
          ],
          "scattercarpet": [
           {
            "marker": {
             "colorbar": {
              "outlinewidth": 0,
              "ticks": ""
             }
            },
            "type": "scattercarpet"
           }
          ],
          "scattergeo": [
           {
            "marker": {
             "colorbar": {
              "outlinewidth": 0,
              "ticks": ""
             }
            },
            "type": "scattergeo"
           }
          ],
          "scattergl": [
           {
            "marker": {
             "line": {
              "color": "#283442"
             }
            },
            "type": "scattergl"
           }
          ],
          "scattermap": [
           {
            "marker": {
             "colorbar": {
              "outlinewidth": 0,
              "ticks": ""
             }
            },
            "type": "scattermap"
           }
          ],
          "scattermapbox": [
           {
            "marker": {
             "colorbar": {
              "outlinewidth": 0,
              "ticks": ""
             }
            },
            "type": "scattermapbox"
           }
          ],
          "scatterpolar": [
           {
            "marker": {
             "colorbar": {
              "outlinewidth": 0,
              "ticks": ""
             }
            },
            "type": "scatterpolar"
           }
          ],
          "scatterpolargl": [
           {
            "marker": {
             "colorbar": {
              "outlinewidth": 0,
              "ticks": ""
             }
            },
            "type": "scatterpolargl"
           }
          ],
          "scatterternary": [
           {
            "marker": {
             "colorbar": {
              "outlinewidth": 0,
              "ticks": ""
             }
            },
            "type": "scatterternary"
           }
          ],
          "surface": [
           {
            "colorbar": {
             "outlinewidth": 0,
             "ticks": ""
            },
            "colorscale": [
             [
              0,
              "#0d0887"
             ],
             [
              0.1111111111111111,
              "#46039f"
             ],
             [
              0.2222222222222222,
              "#7201a8"
             ],
             [
              0.3333333333333333,
              "#9c179e"
             ],
             [
              0.4444444444444444,
              "#bd3786"
             ],
             [
              0.5555555555555556,
              "#d8576b"
             ],
             [
              0.6666666666666666,
              "#ed7953"
             ],
             [
              0.7777777777777778,
              "#fb9f3a"
             ],
             [
              0.8888888888888888,
              "#fdca26"
             ],
             [
              1,
              "#f0f921"
             ]
            ],
            "type": "surface"
           }
          ],
          "table": [
           {
            "cells": {
             "fill": {
              "color": "#506784"
             },
             "line": {
              "color": "rgb(17,17,17)"
             }
            },
            "header": {
             "fill": {
              "color": "#2a3f5f"
             },
             "line": {
              "color": "rgb(17,17,17)"
             }
            },
            "type": "table"
           }
          ]
         },
         "layout": {
          "annotationdefaults": {
           "arrowcolor": "#f2f5fa",
           "arrowhead": 0,
           "arrowwidth": 1
          },
          "autotypenumbers": "strict",
          "coloraxis": {
           "colorbar": {
            "outlinewidth": 0,
            "ticks": ""
           }
          },
          "colorscale": {
           "diverging": [
            [
             0,
             "#8e0152"
            ],
            [
             0.1,
             "#c51b7d"
            ],
            [
             0.2,
             "#de77ae"
            ],
            [
             0.3,
             "#f1b6da"
            ],
            [
             0.4,
             "#fde0ef"
            ],
            [
             0.5,
             "#f7f7f7"
            ],
            [
             0.6,
             "#e6f5d0"
            ],
            [
             0.7,
             "#b8e186"
            ],
            [
             0.8,
             "#7fbc41"
            ],
            [
             0.9,
             "#4d9221"
            ],
            [
             1,
             "#276419"
            ]
           ],
           "sequential": [
            [
             0,
             "#0d0887"
            ],
            [
             0.1111111111111111,
             "#46039f"
            ],
            [
             0.2222222222222222,
             "#7201a8"
            ],
            [
             0.3333333333333333,
             "#9c179e"
            ],
            [
             0.4444444444444444,
             "#bd3786"
            ],
            [
             0.5555555555555556,
             "#d8576b"
            ],
            [
             0.6666666666666666,
             "#ed7953"
            ],
            [
             0.7777777777777778,
             "#fb9f3a"
            ],
            [
             0.8888888888888888,
             "#fdca26"
            ],
            [
             1,
             "#f0f921"
            ]
           ],
           "sequentialminus": [
            [
             0,
             "#0d0887"
            ],
            [
             0.1111111111111111,
             "#46039f"
            ],
            [
             0.2222222222222222,
             "#7201a8"
            ],
            [
             0.3333333333333333,
             "#9c179e"
            ],
            [
             0.4444444444444444,
             "#bd3786"
            ],
            [
             0.5555555555555556,
             "#d8576b"
            ],
            [
             0.6666666666666666,
             "#ed7953"
            ],
            [
             0.7777777777777778,
             "#fb9f3a"
            ],
            [
             0.8888888888888888,
             "#fdca26"
            ],
            [
             1,
             "#f0f921"
            ]
           ]
          },
          "colorway": [
           "#636efa",
           "#EF553B",
           "#00cc96",
           "#ab63fa",
           "#FFA15A",
           "#19d3f3",
           "#FF6692",
           "#B6E880",
           "#FF97FF",
           "#FECB52"
          ],
          "font": {
           "color": "#f2f5fa"
          },
          "geo": {
           "bgcolor": "rgb(17,17,17)",
           "lakecolor": "rgb(17,17,17)",
           "landcolor": "rgb(17,17,17)",
           "showlakes": true,
           "showland": true,
           "subunitcolor": "#506784"
          },
          "hoverlabel": {
           "align": "left"
          },
          "hovermode": "closest",
          "mapbox": {
           "style": "dark"
          },
          "paper_bgcolor": "rgb(17,17,17)",
          "plot_bgcolor": "rgb(17,17,17)",
          "polar": {
           "angularaxis": {
            "gridcolor": "#506784",
            "linecolor": "#506784",
            "ticks": ""
           },
           "bgcolor": "rgb(17,17,17)",
           "radialaxis": {
            "gridcolor": "#506784",
            "linecolor": "#506784",
            "ticks": ""
           }
          },
          "scene": {
           "xaxis": {
            "backgroundcolor": "rgb(17,17,17)",
            "gridcolor": "#506784",
            "gridwidth": 2,
            "linecolor": "#506784",
            "showbackground": true,
            "ticks": "",
            "zerolinecolor": "#C8D4E3"
           },
           "yaxis": {
            "backgroundcolor": "rgb(17,17,17)",
            "gridcolor": "#506784",
            "gridwidth": 2,
            "linecolor": "#506784",
            "showbackground": true,
            "ticks": "",
            "zerolinecolor": "#C8D4E3"
           },
           "zaxis": {
            "backgroundcolor": "rgb(17,17,17)",
            "gridcolor": "#506784",
            "gridwidth": 2,
            "linecolor": "#506784",
            "showbackground": true,
            "ticks": "",
            "zerolinecolor": "#C8D4E3"
           }
          },
          "shapedefaults": {
           "line": {
            "color": "#f2f5fa"
           }
          },
          "sliderdefaults": {
           "bgcolor": "#C8D4E3",
           "bordercolor": "rgb(17,17,17)",
           "borderwidth": 1,
           "tickwidth": 0
          },
          "ternary": {
           "aaxis": {
            "gridcolor": "#506784",
            "linecolor": "#506784",
            "ticks": ""
           },
           "baxis": {
            "gridcolor": "#506784",
            "linecolor": "#506784",
            "ticks": ""
           },
           "bgcolor": "rgb(17,17,17)",
           "caxis": {
            "gridcolor": "#506784",
            "linecolor": "#506784",
            "ticks": ""
           }
          },
          "title": {
           "x": 0.05
          },
          "updatemenudefaults": {
           "bgcolor": "#506784",
           "borderwidth": 0
          },
          "xaxis": {
           "automargin": true,
           "gridcolor": "#283442",
           "linecolor": "#506784",
           "ticks": "",
           "title": {
            "standoff": 15
           },
           "zerolinecolor": "#283442",
           "zerolinewidth": 2
          },
          "yaxis": {
           "automargin": true,
           "gridcolor": "#283442",
           "linecolor": "#506784",
           "ticks": "",
           "title": {
            "standoff": 15
           },
           "zerolinecolor": "#283442",
           "zerolinewidth": 2
          }
         }
        },
        "title": {
         "text": "Research Papers Published by Year"
        },
        "width": 1000,
        "xaxis": {
         "anchor": "y",
         "domain": [
          0,
          1
         ],
         "dtick": 5,
         "showgrid": true,
         "tickangle": 45,
         "title": {
          "text": "Year"
         }
        },
        "yaxis": {
         "anchor": "x",
         "domain": [
          0,
          1
         ],
         "showgrid": true,
         "title": {
          "text": "Number of Papers"
         }
        }
       }
      }
     },
     "metadata": {},
     "output_type": "display_data"
    }
   ],
   "source": [
    "color_map = {\n",
    "    'urban ecology': '#6B9BD2',\n",
    "    'urban biodiversity': '#E6A366',\n",
    "    'urban green spaces': '#7FB069',\n",
    "    'urban wildlife': '#D67B7B',\n",
    "    'urban vegetation': '#B19CD9',\n",
    "    'urban ecosystem': '#E6A8D0',\n",
    "    'total': \"#FFD700\"\n",
    "}\n",
    "\n",
    "fig = px.line(\n",
    "    df_keywords,\n",
    "    x='year',\n",
    "    y='paper_count',\n",
    "    color='search_keyword',\n",
    "    color_discrete_map=color_map,\n",
    "    title='Research Papers Published by Year',\n",
    "    markers=True,\n",
    ")\n",
    "\n",
    "fig.update_layout(\n",
    "    xaxis_title='Year',\n",
    "    yaxis_title='Number of Papers',\n",
    "    legend_title='Keyword',\n",
    "    font=dict(size=12),\n",
    "    width=1000,\n",
    "    height=600,\n",
    "    template='plotly_dark',\n",
    "    xaxis=dict(showgrid=True,\n",
    "               dtick=5,\n",
    "               tickangle=45),\n",
    "    yaxis=dict(showgrid=True),\n",
    ")\n",
    "\n",
    "fig.show()\n"
   ]
  },
  {
   "cell_type": "markdown",
   "id": "14197968",
   "metadata": {},
   "source": [
    "Totals graph:"
   ]
  },
  {
   "cell_type": "code",
   "execution_count": 9,
   "id": "ff9d19e7",
   "metadata": {},
   "outputs": [
    {
     "data": {
      "application/vnd.plotly.v1+json": {
       "config": {
        "plotlyServerURL": "https://plot.ly"
       },
       "data": [
        {
         "hovertemplate": "search_keyword=total<br>year=%{x}<br>paper_count=%{y}<extra></extra>",
         "legendgroup": "total",
         "line": {
          "color": "#FFD700",
          "dash": "solid"
         },
         "marker": {
          "symbol": "circle"
         },
         "mode": "lines+markers",
         "name": "total",
         "orientation": "v",
         "showlegend": true,
         "type": "scatter",
         "x": {
          "bdata": "sgezB7QHtQe2B7cHuAe5B7oHuwe8B70Hvge/B8AHwQfCB8MHxAfFB8YHxwfIB8kHygfLB8wHzQfOB88H0AfRB9IH0wfUB9UH1gfXB9gH2QfaB9sH3AfdB94H3wfgB+EH4gfjB+QH5QfmB+cH6Ac=",
          "dtype": "i2"
         },
         "xaxis": "x",
         "y": {
          "bdata": "HQAJAA0ADgAUAB0AFAAVABgAFAAaACEADgAfAB8AIAAZACsALQA2ADUAQwAwAFIATwBQAGgAcwBvAHsAvADkABgBfgGnAbIBKQI0ArcC4QJdAyYEfgRNBbsFfga0BikHvwgWChkLTwzNDEYcySU=",
          "dtype": "i2"
         },
         "yaxis": "y"
        }
       ],
       "layout": {
        "font": {
         "size": 12
        },
        "height": 600,
        "legend": {
         "title": {
          "text": "Keyword"
         },
         "tracegroupgap": 0
        },
        "template": {
         "data": {
          "bar": [
           {
            "error_x": {
             "color": "#f2f5fa"
            },
            "error_y": {
             "color": "#f2f5fa"
            },
            "marker": {
             "line": {
              "color": "rgb(17,17,17)",
              "width": 0.5
             },
             "pattern": {
              "fillmode": "overlay",
              "size": 10,
              "solidity": 0.2
             }
            },
            "type": "bar"
           }
          ],
          "barpolar": [
           {
            "marker": {
             "line": {
              "color": "rgb(17,17,17)",
              "width": 0.5
             },
             "pattern": {
              "fillmode": "overlay",
              "size": 10,
              "solidity": 0.2
             }
            },
            "type": "barpolar"
           }
          ],
          "carpet": [
           {
            "aaxis": {
             "endlinecolor": "#A2B1C6",
             "gridcolor": "#506784",
             "linecolor": "#506784",
             "minorgridcolor": "#506784",
             "startlinecolor": "#A2B1C6"
            },
            "baxis": {
             "endlinecolor": "#A2B1C6",
             "gridcolor": "#506784",
             "linecolor": "#506784",
             "minorgridcolor": "#506784",
             "startlinecolor": "#A2B1C6"
            },
            "type": "carpet"
           }
          ],
          "choropleth": [
           {
            "colorbar": {
             "outlinewidth": 0,
             "ticks": ""
            },
            "type": "choropleth"
           }
          ],
          "contour": [
           {
            "colorbar": {
             "outlinewidth": 0,
             "ticks": ""
            },
            "colorscale": [
             [
              0,
              "#0d0887"
             ],
             [
              0.1111111111111111,
              "#46039f"
             ],
             [
              0.2222222222222222,
              "#7201a8"
             ],
             [
              0.3333333333333333,
              "#9c179e"
             ],
             [
              0.4444444444444444,
              "#bd3786"
             ],
             [
              0.5555555555555556,
              "#d8576b"
             ],
             [
              0.6666666666666666,
              "#ed7953"
             ],
             [
              0.7777777777777778,
              "#fb9f3a"
             ],
             [
              0.8888888888888888,
              "#fdca26"
             ],
             [
              1,
              "#f0f921"
             ]
            ],
            "type": "contour"
           }
          ],
          "contourcarpet": [
           {
            "colorbar": {
             "outlinewidth": 0,
             "ticks": ""
            },
            "type": "contourcarpet"
           }
          ],
          "heatmap": [
           {
            "colorbar": {
             "outlinewidth": 0,
             "ticks": ""
            },
            "colorscale": [
             [
              0,
              "#0d0887"
             ],
             [
              0.1111111111111111,
              "#46039f"
             ],
             [
              0.2222222222222222,
              "#7201a8"
             ],
             [
              0.3333333333333333,
              "#9c179e"
             ],
             [
              0.4444444444444444,
              "#bd3786"
             ],
             [
              0.5555555555555556,
              "#d8576b"
             ],
             [
              0.6666666666666666,
              "#ed7953"
             ],
             [
              0.7777777777777778,
              "#fb9f3a"
             ],
             [
              0.8888888888888888,
              "#fdca26"
             ],
             [
              1,
              "#f0f921"
             ]
            ],
            "type": "heatmap"
           }
          ],
          "histogram": [
           {
            "marker": {
             "pattern": {
              "fillmode": "overlay",
              "size": 10,
              "solidity": 0.2
             }
            },
            "type": "histogram"
           }
          ],
          "histogram2d": [
           {
            "colorbar": {
             "outlinewidth": 0,
             "ticks": ""
            },
            "colorscale": [
             [
              0,
              "#0d0887"
             ],
             [
              0.1111111111111111,
              "#46039f"
             ],
             [
              0.2222222222222222,
              "#7201a8"
             ],
             [
              0.3333333333333333,
              "#9c179e"
             ],
             [
              0.4444444444444444,
              "#bd3786"
             ],
             [
              0.5555555555555556,
              "#d8576b"
             ],
             [
              0.6666666666666666,
              "#ed7953"
             ],
             [
              0.7777777777777778,
              "#fb9f3a"
             ],
             [
              0.8888888888888888,
              "#fdca26"
             ],
             [
              1,
              "#f0f921"
             ]
            ],
            "type": "histogram2d"
           }
          ],
          "histogram2dcontour": [
           {
            "colorbar": {
             "outlinewidth": 0,
             "ticks": ""
            },
            "colorscale": [
             [
              0,
              "#0d0887"
             ],
             [
              0.1111111111111111,
              "#46039f"
             ],
             [
              0.2222222222222222,
              "#7201a8"
             ],
             [
              0.3333333333333333,
              "#9c179e"
             ],
             [
              0.4444444444444444,
              "#bd3786"
             ],
             [
              0.5555555555555556,
              "#d8576b"
             ],
             [
              0.6666666666666666,
              "#ed7953"
             ],
             [
              0.7777777777777778,
              "#fb9f3a"
             ],
             [
              0.8888888888888888,
              "#fdca26"
             ],
             [
              1,
              "#f0f921"
             ]
            ],
            "type": "histogram2dcontour"
           }
          ],
          "mesh3d": [
           {
            "colorbar": {
             "outlinewidth": 0,
             "ticks": ""
            },
            "type": "mesh3d"
           }
          ],
          "parcoords": [
           {
            "line": {
             "colorbar": {
              "outlinewidth": 0,
              "ticks": ""
             }
            },
            "type": "parcoords"
           }
          ],
          "pie": [
           {
            "automargin": true,
            "type": "pie"
           }
          ],
          "scatter": [
           {
            "marker": {
             "line": {
              "color": "#283442"
             }
            },
            "type": "scatter"
           }
          ],
          "scatter3d": [
           {
            "line": {
             "colorbar": {
              "outlinewidth": 0,
              "ticks": ""
             }
            },
            "marker": {
             "colorbar": {
              "outlinewidth": 0,
              "ticks": ""
             }
            },
            "type": "scatter3d"
           }
          ],
          "scattercarpet": [
           {
            "marker": {
             "colorbar": {
              "outlinewidth": 0,
              "ticks": ""
             }
            },
            "type": "scattercarpet"
           }
          ],
          "scattergeo": [
           {
            "marker": {
             "colorbar": {
              "outlinewidth": 0,
              "ticks": ""
             }
            },
            "type": "scattergeo"
           }
          ],
          "scattergl": [
           {
            "marker": {
             "line": {
              "color": "#283442"
             }
            },
            "type": "scattergl"
           }
          ],
          "scattermap": [
           {
            "marker": {
             "colorbar": {
              "outlinewidth": 0,
              "ticks": ""
             }
            },
            "type": "scattermap"
           }
          ],
          "scattermapbox": [
           {
            "marker": {
             "colorbar": {
              "outlinewidth": 0,
              "ticks": ""
             }
            },
            "type": "scattermapbox"
           }
          ],
          "scatterpolar": [
           {
            "marker": {
             "colorbar": {
              "outlinewidth": 0,
              "ticks": ""
             }
            },
            "type": "scatterpolar"
           }
          ],
          "scatterpolargl": [
           {
            "marker": {
             "colorbar": {
              "outlinewidth": 0,
              "ticks": ""
             }
            },
            "type": "scatterpolargl"
           }
          ],
          "scatterternary": [
           {
            "marker": {
             "colorbar": {
              "outlinewidth": 0,
              "ticks": ""
             }
            },
            "type": "scatterternary"
           }
          ],
          "surface": [
           {
            "colorbar": {
             "outlinewidth": 0,
             "ticks": ""
            },
            "colorscale": [
             [
              0,
              "#0d0887"
             ],
             [
              0.1111111111111111,
              "#46039f"
             ],
             [
              0.2222222222222222,
              "#7201a8"
             ],
             [
              0.3333333333333333,
              "#9c179e"
             ],
             [
              0.4444444444444444,
              "#bd3786"
             ],
             [
              0.5555555555555556,
              "#d8576b"
             ],
             [
              0.6666666666666666,
              "#ed7953"
             ],
             [
              0.7777777777777778,
              "#fb9f3a"
             ],
             [
              0.8888888888888888,
              "#fdca26"
             ],
             [
              1,
              "#f0f921"
             ]
            ],
            "type": "surface"
           }
          ],
          "table": [
           {
            "cells": {
             "fill": {
              "color": "#506784"
             },
             "line": {
              "color": "rgb(17,17,17)"
             }
            },
            "header": {
             "fill": {
              "color": "#2a3f5f"
             },
             "line": {
              "color": "rgb(17,17,17)"
             }
            },
            "type": "table"
           }
          ]
         },
         "layout": {
          "annotationdefaults": {
           "arrowcolor": "#f2f5fa",
           "arrowhead": 0,
           "arrowwidth": 1
          },
          "autotypenumbers": "strict",
          "coloraxis": {
           "colorbar": {
            "outlinewidth": 0,
            "ticks": ""
           }
          },
          "colorscale": {
           "diverging": [
            [
             0,
             "#8e0152"
            ],
            [
             0.1,
             "#c51b7d"
            ],
            [
             0.2,
             "#de77ae"
            ],
            [
             0.3,
             "#f1b6da"
            ],
            [
             0.4,
             "#fde0ef"
            ],
            [
             0.5,
             "#f7f7f7"
            ],
            [
             0.6,
             "#e6f5d0"
            ],
            [
             0.7,
             "#b8e186"
            ],
            [
             0.8,
             "#7fbc41"
            ],
            [
             0.9,
             "#4d9221"
            ],
            [
             1,
             "#276419"
            ]
           ],
           "sequential": [
            [
             0,
             "#0d0887"
            ],
            [
             0.1111111111111111,
             "#46039f"
            ],
            [
             0.2222222222222222,
             "#7201a8"
            ],
            [
             0.3333333333333333,
             "#9c179e"
            ],
            [
             0.4444444444444444,
             "#bd3786"
            ],
            [
             0.5555555555555556,
             "#d8576b"
            ],
            [
             0.6666666666666666,
             "#ed7953"
            ],
            [
             0.7777777777777778,
             "#fb9f3a"
            ],
            [
             0.8888888888888888,
             "#fdca26"
            ],
            [
             1,
             "#f0f921"
            ]
           ],
           "sequentialminus": [
            [
             0,
             "#0d0887"
            ],
            [
             0.1111111111111111,
             "#46039f"
            ],
            [
             0.2222222222222222,
             "#7201a8"
            ],
            [
             0.3333333333333333,
             "#9c179e"
            ],
            [
             0.4444444444444444,
             "#bd3786"
            ],
            [
             0.5555555555555556,
             "#d8576b"
            ],
            [
             0.6666666666666666,
             "#ed7953"
            ],
            [
             0.7777777777777778,
             "#fb9f3a"
            ],
            [
             0.8888888888888888,
             "#fdca26"
            ],
            [
             1,
             "#f0f921"
            ]
           ]
          },
          "colorway": [
           "#636efa",
           "#EF553B",
           "#00cc96",
           "#ab63fa",
           "#FFA15A",
           "#19d3f3",
           "#FF6692",
           "#B6E880",
           "#FF97FF",
           "#FECB52"
          ],
          "font": {
           "color": "#f2f5fa"
          },
          "geo": {
           "bgcolor": "rgb(17,17,17)",
           "lakecolor": "rgb(17,17,17)",
           "landcolor": "rgb(17,17,17)",
           "showlakes": true,
           "showland": true,
           "subunitcolor": "#506784"
          },
          "hoverlabel": {
           "align": "left"
          },
          "hovermode": "closest",
          "mapbox": {
           "style": "dark"
          },
          "paper_bgcolor": "rgb(17,17,17)",
          "plot_bgcolor": "rgb(17,17,17)",
          "polar": {
           "angularaxis": {
            "gridcolor": "#506784",
            "linecolor": "#506784",
            "ticks": ""
           },
           "bgcolor": "rgb(17,17,17)",
           "radialaxis": {
            "gridcolor": "#506784",
            "linecolor": "#506784",
            "ticks": ""
           }
          },
          "scene": {
           "xaxis": {
            "backgroundcolor": "rgb(17,17,17)",
            "gridcolor": "#506784",
            "gridwidth": 2,
            "linecolor": "#506784",
            "showbackground": true,
            "ticks": "",
            "zerolinecolor": "#C8D4E3"
           },
           "yaxis": {
            "backgroundcolor": "rgb(17,17,17)",
            "gridcolor": "#506784",
            "gridwidth": 2,
            "linecolor": "#506784",
            "showbackground": true,
            "ticks": "",
            "zerolinecolor": "#C8D4E3"
           },
           "zaxis": {
            "backgroundcolor": "rgb(17,17,17)",
            "gridcolor": "#506784",
            "gridwidth": 2,
            "linecolor": "#506784",
            "showbackground": true,
            "ticks": "",
            "zerolinecolor": "#C8D4E3"
           }
          },
          "shapedefaults": {
           "line": {
            "color": "#f2f5fa"
           }
          },
          "sliderdefaults": {
           "bgcolor": "#C8D4E3",
           "bordercolor": "rgb(17,17,17)",
           "borderwidth": 1,
           "tickwidth": 0
          },
          "ternary": {
           "aaxis": {
            "gridcolor": "#506784",
            "linecolor": "#506784",
            "ticks": ""
           },
           "baxis": {
            "gridcolor": "#506784",
            "linecolor": "#506784",
            "ticks": ""
           },
           "bgcolor": "rgb(17,17,17)",
           "caxis": {
            "gridcolor": "#506784",
            "linecolor": "#506784",
            "ticks": ""
           }
          },
          "title": {
           "x": 0.05
          },
          "updatemenudefaults": {
           "bgcolor": "#506784",
           "borderwidth": 0
          },
          "xaxis": {
           "automargin": true,
           "gridcolor": "#283442",
           "linecolor": "#506784",
           "ticks": "",
           "title": {
            "standoff": 15
           },
           "zerolinecolor": "#283442",
           "zerolinewidth": 2
          },
          "yaxis": {
           "automargin": true,
           "gridcolor": "#283442",
           "linecolor": "#506784",
           "ticks": "",
           "title": {
            "standoff": 15
           },
           "zerolinecolor": "#283442",
           "zerolinewidth": 2
          }
         }
        },
        "title": {
         "text": "Research Papers Published by Year"
        },
        "width": 1000,
        "xaxis": {
         "anchor": "y",
         "domain": [
          0,
          1
         ],
         "dtick": 5,
         "showgrid": true,
         "tickangle": 45,
         "title": {
          "text": "Year"
         }
        },
        "yaxis": {
         "anchor": "x",
         "domain": [
          0,
          1
         ],
         "showgrid": true,
         "title": {
          "text": "Number of Papers"
         }
        }
       }
      }
     },
     "metadata": {},
     "output_type": "display_data"
    }
   ],
   "source": [
    "fig = px.line(\n",
    "    df_totals,\n",
    "    x='year',\n",
    "    y='paper_count',\n",
    "    color='search_keyword',\n",
    "    color_discrete_map=color_map,\n",
    "    title='Research Papers Published by Year',\n",
    "    markers=True,\n",
    ")\n",
    "\n",
    "fig.update_layout(\n",
    "    xaxis_title='Year',\n",
    "    yaxis_title='Number of Papers',\n",
    "    legend_title='Keyword',\n",
    "    font=dict(size=12),\n",
    "    width=1000,\n",
    "    height=600,\n",
    "    template='plotly_dark',\n",
    "    xaxis=dict(showgrid=True,\n",
    "               dtick=5,\n",
    "               tickangle=45),\n",
    "    yaxis=dict(showgrid=True),\n",
    ")\n",
    "\n",
    "fig.show()"
   ]
  },
  {
   "cell_type": "code",
   "execution_count": 10,
   "id": "4197d3ef",
   "metadata": {},
   "outputs": [],
   "source": [
    "df_keyword_pivot = df_keywords.pivot(index='year', columns='search_keyword', values='paper_count')\n",
    "df_rate = df_keyword_pivot.pct_change(fill_method=None)\n",
    "df_rate.fillna(0, inplace=True)\n",
    "df_rate.reset_index(inplace=True)"
   ]
  },
  {
   "cell_type": "code",
   "execution_count": 11,
   "id": "437237d0",
   "metadata": {},
   "outputs": [
    {
     "data": {
      "application/vnd.plotly.v1+json": {
       "config": {
        "plotlyServerURL": "https://plot.ly"
       },
       "data": [
        {
         "hovertemplate": "search_keyword=urban biodiversity<br>year=%{x}<br>growth_rolling_avg=%{y}<extra></extra>",
         "legendgroup": "urban biodiversity",
         "line": {
          "color": "#E6A366",
          "dash": "solid"
         },
         "marker": {
          "symbol": "circle"
         },
         "mode": "lines+markers",
         "name": "urban biodiversity",
         "orientation": "v",
         "showlegend": true,
         "type": "scatter",
         "x": {
          "bdata": "sgezB7QHtQe2B7cHuAe5B7oHuwe8B70Hvge/B8AHwQfCB8MHxAfFB8YHxwfIB8kHygfLB8wHzQfOB88H0AfRB9IH0wfUB9UH1gfXB9gH2QfaB9sH3AfdB94H3wfgB+EH4gfjB+QH5QfmB+cH6Ac=",
          "dtype": "i2"
         },
         "xaxis": "x5",
         "y": {
          "bdata": "AAAAAAAAAAAAAAAAAAAAAAAAAAAAAAAAAAAAAAAAAAAAAAAAAAAAAAAAAAAAAAAAAAAAAAAAAAAAAAAAAAAAAAAAAAAAAAAAAAAAAAAAAAAAAAAAAAAAAAAAAAAAAAAAAAAAAAAAAAAAAAAAAAAAAAAAAAAAAAAAAAAAAAAAAAAAAAAAAAAAAAAAAAAAAAAAAAAAAAAAAAAAAAAAAAAAAAAAAAAAAAAAVVVVVVVV1T8AAAAAAADgP8hxHMdxHOc/sQVbsAVb0D9bsAVbsAXbPxVswRZswbY/OI7jOI7j2D84juM4juPYP3Icx3Ecx+E/+77v+77v2z9M0zRN0zTFP1AzUM1ANbM/JfBbhDPV1T/DEY3zmh3eP4mu3XJRaeE/no//v/hC1D/LR1mCw+a4P/UFec6+Vr4/G1IdnEbpsD/ZvVI3LzTJP9zXxuujDcY/5E+k1QxxxD+vmim3SuTEPwHHTuZYDcM/x0vKnAWbxz/tyh6KwSe2P6uFw+lOcK8/637Y+kURuj84JIKCjz3CP+nboGqCOMg/nUntD2CTvz9DKVth6quzP9vgPe+aB9o/pYSmvkej4D8=",
          "dtype": "f8"
         },
         "yaxis": "y5"
        },
        {
         "hovertemplate": "search_keyword=urban ecology<br>year=%{x}<br>growth_rolling_avg=%{y}<extra></extra>",
         "legendgroup": "urban ecology",
         "line": {
          "color": "#6B9BD2",
          "dash": "solid"
         },
         "marker": {
          "symbol": "circle"
         },
         "mode": "lines+markers",
         "name": "urban ecology",
         "orientation": "v",
         "showlegend": true,
         "type": "scatter",
         "x": {
          "bdata": "sgezB7QHtQe2B7cHuAe5B7oHuwe8B70Hvge/B8AHwQfCB8MHxAfFB8YHxwfIB8kHygfLB8wHzQfOB88H0AfRB9IH0wfUB9UH1gfXB9gH2QfaB9sH3AfdB94H3wfgB+EH4gfjB+QH5QfmB+cH6Ac=",
          "dtype": "i2"
         },
         "xaxis": "x6",
         "y": {
          "bdata": "Nb+LToKI4D9YVh3YJ2W1vxD3EdxHcK+/U2E9hfUUxr9RVVVVVVXFP1NVVVVVVd0/fQH9BfQX2D+2j+A+gvvQP30W01lMZ7G/dfDBBx98sD8riJJmYfe5P8UhLAD7kLM/QCHBvHYWgj/kcA7ncA7HP1C+5Vu+5as/B6/wCq/wyj9jm7VZm7W5v1V5AcLKVke/mzU7N4NxoD8CU6y1HNPQP1uhBizIobg/+BoFp8WvwT+r4Wa+NryDvxl9pBp9pNI/X9k7Y9k7wz+bxkiBu++4P6C+1iwq3qK/QF3pY0pxvz8vTF5RyE7DP3idY2hA77Y/kWMAeJyOyz9P1VNr4YfRP9WoZ1+QUtM/diMuju5R0D/seeGz09rNPwuLntpTdLg/ADzlZTVnwT/7Q9l3ms/EP9065MWikNY/BZo2/16AuD+bojHM9V6+P+XqVPTV47I/bDAhj9ZzwD9InEXu4PS+PwsRZft8PK0/sBaTGhyitz+VApPbWz+BP3Wtk1LeKqk/1Z2/kv/tnz83hkHy7VnCPx/KfTU7e8A/vTcRt5qGsz+Fp1nhPWKiP1PVD8HVZdI/bevdTKZr1j8=",
          "dtype": "f8"
         },
         "yaxis": "y6"
        },
        {
         "hovertemplate": "search_keyword=urban ecosystem<br>year=%{x}<br>growth_rolling_avg=%{y}<extra></extra>",
         "legendgroup": "urban ecosystem",
         "line": {
          "color": "#E6A8D0",
          "dash": "solid"
         },
         "marker": {
          "symbol": "circle"
         },
         "mode": "lines+markers",
         "name": "urban ecosystem",
         "orientation": "v",
         "showlegend": true,
         "type": "scatter",
         "x": {
          "bdata": "sgezB7QHtQe2B7cHuAe5B7oHuwe8B70Hvge/B8AHwQfCB8MHxAfFB8YHxwfIB8kHygfLB8wHzQfOB88H0AfRB9IH0wfUB9UH1gfXB9gH2QfaB9sH3AfdB94H3wfgB+EH4gfjB+QH5QfmB+cH6Ac=",
          "dtype": "i2"
         },
         "xaxis": "x3",
         "y": {
          "bdata": "Q8TSPXT+1D9z34YJSuCwPwAAAAAAAAAA////////7z+qqqqqqqryP////////+8/EMdxHMdxvD94HMdxHMfBv2NVVVVVVbW/bBzHcRzHwT9Lx3Ecx3GcvwAAAAAAAPw/juM4juM48j9xHMdxHMcFQE36pE/6pO8/7+7u7u7u8j+BLdiCLdjSPyzLsizLsuQ/dE7ndE7n5D8PIzESIzHCP7UwCZMwCZO/9Ya1b1j7xj9xWd3sKiPEP9fsKiMEiMc/VN3sKiMEwD9xb5Wm+CXJP09XUV1Fdc0/T1dRXUV1xT9jcLHBxQa3P+88z/M8z8M/vgmcwAmc0D+s/6xgkDLdP7FaXWbr4tI/NVvRziHr0j/jbix+pyHKP8jCbwXlc8c/hVpOkEsWuD9zYxDkuj6yP6Qh40km4cM/GUHzrgPpxz/dj99zUtXMP+sP//AP/8g/Za7maq7mwj+YaBtIE8bKPwX3u0SlDrw/A4rigqBhxT+bYvqxtHa9PwUZDjK2rLg/oKGXKYf8vj+rMXBdz5y/PzNXpq+Ow8U/uFrZD8Eswz9j9aJuc3a8P5P5v9SFcd4//Rmsnt6I4D8=",
          "dtype": "f8"
         },
         "yaxis": "y3"
        },
        {
         "hovertemplate": "search_keyword=urban green spaces<br>year=%{x}<br>growth_rolling_avg=%{y}<extra></extra>",
         "legendgroup": "urban green spaces",
         "line": {
          "color": "#7FB069",
          "dash": "solid"
         },
         "marker": {
          "symbol": "circle"
         },
         "mode": "lines+markers",
         "name": "urban green spaces",
         "orientation": "v",
         "showlegend": true,
         "type": "scatter",
         "x": {
          "bdata": "sgezB7QHtQe2B7cHuAe5B7oHuwe8B70Hvge/B8AHwQfCB8MHxAfFB8YHxwfIB8kHygfLB8wHzQfOB88H0AfRB9IH0wfUB9UH1gfXB9gH2QfaB9sH3AfdB94H3wfgB+EH4gfjB+QH5QfmB+cH6Ac=",
          "dtype": "i2"
         },
         "xaxis": "x4",
         "y": {
          "bdata": "fRqtoOKQ4D91FFGP+1Kwv1tVVVVVVcW/W1VVVVVVxb8AAAAAAAAAAAAAAAAAAAAAAAAAAAAAAAAAAAAAAAAAAAAAAAAAAAAAW1VVVVVVxb9bVVVVVVXFv1tVVVVVVcW/AAAAAAAAAABTVVVVVVXVP1NVVVVVVdU/U1VVVVVV1T8AAAAAAAAAAAAAAAAAAAAAU1VVVVVV1T9TVVVVVVXVP6mqqqqqquo/ISIiIiIi4j+zYAu2YAvWP68FW7AFW+A/4jiO4ziO4z+pqqqqqqrqP1BVVVVVVcU/FxERERERwb8QERERERHhP2yKUcPfptg/A5J1rjwg6T+xzpUHJOvcPw1/m2LU8Oc/mDHE7YYZ4z+gZa9LEFrWP81R7irGv9A/zVHuKsa/0D9LnGcFhQrBPzCWb7rh9bo/UMXmi/boxj8P1imt7qrSP+CcuBvi99g/Xf6MzMIczT8IdmGXUoPFP+DjUeLw47k/wKfOi+tfwz/9vVMvcdrAP118bsytq8A/cx3FlYK5wT/w65fAIr/KP+3ROmAbLMc/XR5VmXUWwz+Vp5RHewbBPy+wp4+82+E/oaNdlkr45D8=",
          "dtype": "f8"
         },
         "yaxis": "y4"
        },
        {
         "hovertemplate": "search_keyword=urban vegetation<br>year=%{x}<br>growth_rolling_avg=%{y}<extra></extra>",
         "legendgroup": "urban vegetation",
         "line": {
          "color": "#B19CD9",
          "dash": "solid"
         },
         "marker": {
          "symbol": "circle"
         },
         "mode": "lines+markers",
         "name": "urban vegetation",
         "orientation": "v",
         "showlegend": true,
         "type": "scatter",
         "x": {
          "bdata": "sgezB7QHtQe2B7cHuAe5B7oHuwe8B70Hvge/B8AHwQfCB8MHxAfFB8YHxwfIB8kHygfLB8wHzQfOB88H0AfRB9IH0wfUB9UH1gfXB9gH2QfaB9sH3AfdB94H3wfgB+EH4gfjB+QH5QfmB+cH6Ac=",
          "dtype": "i2"
         },
         "xaxis": "x",
         "y": {
          "bdata": "d4ZGAniG4z+74hTxnP2jP3Mcx3Ecx9G/OI7jOI7j2D/IcRzHcRznP7dgC7ZgC+Y/IGzBFmzBlj/d3d3d3d3dP3Ecx3Ecx+E/jeM4juM43j8AAAAAAADQP4uiKIqiKNo/i6IoiqIo0j9QFEVRFEXZP+M4juM4jtM/dV3XdV3X3T+jKIqiKIrCv5uMyZiMybg/f9InfdInzT+JiIiIiIjYP/urv/qrv8o/XcRFXMRFzD8VQAEUQAGEP7dt27Zt28Y/U1VVVVVVtT9tIruJ7CbCP4vpLKazmMY/i+ksprOYxj9VVVVVVVXNP9Xp1vywSIk/GA21iSl8yz+bOo0MV1TOP8VXfMVXfNk/HS1JgfHRyj+ANQXWFFjLP+sdRwfeFsE/Y2MnHV9uxT9zdzI6WK/GP80rAHzNvMI/8E5QJC3Oqj/o7UMD3YK+P90NDSchD7g/Q30gy7jdyD+d2HsmFDnEP5PeAKRVmsM/xeFSFPPDvj9LM8TxDHiyP1CS61uNqrU/a59zWHoouT+7Zu2YYQLEP/WxA3pburg/NSF9+iRhtz+V7seENFakPzV5auyXz+A/cRw2NTTJ4j8=",
          "dtype": "f8"
         },
         "yaxis": "y"
        },
        {
         "hovertemplate": "search_keyword=urban wildlife<br>year=%{x}<br>growth_rolling_avg=%{y}<extra></extra>",
         "legendgroup": "urban wildlife",
         "line": {
          "color": "#D67B7B",
          "dash": "solid"
         },
         "marker": {
          "symbol": "circle"
         },
         "mode": "lines+markers",
         "name": "urban wildlife",
         "orientation": "v",
         "showlegend": true,
         "type": "scatter",
         "x": {
          "bdata": "sgezB7QHtQe2B7cHuAe5B7oHuwe8B70Hvge/B8AHwQfCB8MHxAfFB8YHxwfIB8kHygfLB8wHzQfOB88H0AfRB9IH0wfUB9UH1gfXB9gH2QfaB9sH3AfdB94H3wfgB+EH4gfjB+QH5QfmB+cH6Ac=",
          "dtype": "i2"
         },
         "xaxis": "x2",
         "y": {
          "bdata": "mw88E8f74T9rOjylb0u3PwAAAAAAAAAAAAAAAAAAAAAAAAAAAAAAAAAAAAAAAAAAVVVVVVVVtT8VERERERGRP5uZmZmZmbk/3d3d3d3dvb/rkz7pkz7ZPx+6oRu6ocs/G1IhFVIhtT8UOIETOIHTP3h3d3d3d+c/q6qqqqqq8j9xHMdxHMfRP+M4juM4juM/Ce0ltJfQ3j+Am2LU8LfpP2saUbxvpqE/AFABFVABZb+oJhX9e2rSv19CewntJdQ/rHPlAck6xz9swRZswRb0P+jAJbkGPeY/nSExb2dI7D8DMEZ6AYyxv5AvF5EvF7G/0w7e0Q7ewT8ckODnXK3UP0CzAwuA0Nc/tpxs390K0j8vLwIbS9jJP33IAFcArbQ/k6YF9wxsvT95V4m+bubCP9Uxpne91NE/pbVkbTRYsT+rz/XHy2B0v2s2znnMHrI/lXjl5EoSwT/QzgVx/3XGP2UrrxEI8cM/gAPCAv2JnT/Fk8LI7EqxP2uJ79o884E/QUEIMPi7yT97L7pKSkW+PzMtWJEyGNA/aIjCa0jiuT+1XzBjCbywP7AJTyFgEsY/pB9GoLZL0T8=",
          "dtype": "f8"
         },
         "yaxis": "y2"
        }
       ],
       "layout": {
        "annotations": [
         {
          "font": {},
          "showarrow": false,
          "text": "",
          "x": 0.245,
          "xanchor": "center",
          "xref": "paper",
          "y": 0.2866666666666666,
          "yanchor": "bottom",
          "yref": "paper"
         },
         {
          "font": {},
          "showarrow": false,
          "text": "",
          "x": 0.755,
          "xanchor": "center",
          "xref": "paper",
          "y": 0.2866666666666666,
          "yanchor": "bottom",
          "yref": "paper"
         },
         {
          "font": {},
          "showarrow": false,
          "text": "",
          "x": 0.245,
          "xanchor": "center",
          "xref": "paper",
          "y": 0.6433333333333333,
          "yanchor": "bottom",
          "yref": "paper"
         },
         {
          "font": {},
          "showarrow": false,
          "text": "",
          "x": 0.755,
          "xanchor": "center",
          "xref": "paper",
          "y": 0.6433333333333333,
          "yanchor": "bottom",
          "yref": "paper"
         },
         {
          "font": {},
          "showarrow": false,
          "text": "",
          "x": 0.245,
          "xanchor": "center",
          "xref": "paper",
          "y": 0.9999999999999999,
          "yanchor": "bottom",
          "yref": "paper"
         },
         {
          "font": {},
          "showarrow": false,
          "text": "",
          "x": 0.755,
          "xanchor": "center",
          "xref": "paper",
          "y": 0.9999999999999999,
          "yanchor": "bottom",
          "yref": "paper"
         }
        ],
        "font": {
         "size": 12
        },
        "height": 700,
        "legend": {
         "title": {
          "text": "Keyword"
         },
         "tracegroupgap": 0
        },
        "template": {
         "data": {
          "bar": [
           {
            "error_x": {
             "color": "#f2f5fa"
            },
            "error_y": {
             "color": "#f2f5fa"
            },
            "marker": {
             "line": {
              "color": "rgb(17,17,17)",
              "width": 0.5
             },
             "pattern": {
              "fillmode": "overlay",
              "size": 10,
              "solidity": 0.2
             }
            },
            "type": "bar"
           }
          ],
          "barpolar": [
           {
            "marker": {
             "line": {
              "color": "rgb(17,17,17)",
              "width": 0.5
             },
             "pattern": {
              "fillmode": "overlay",
              "size": 10,
              "solidity": 0.2
             }
            },
            "type": "barpolar"
           }
          ],
          "carpet": [
           {
            "aaxis": {
             "endlinecolor": "#A2B1C6",
             "gridcolor": "#506784",
             "linecolor": "#506784",
             "minorgridcolor": "#506784",
             "startlinecolor": "#A2B1C6"
            },
            "baxis": {
             "endlinecolor": "#A2B1C6",
             "gridcolor": "#506784",
             "linecolor": "#506784",
             "minorgridcolor": "#506784",
             "startlinecolor": "#A2B1C6"
            },
            "type": "carpet"
           }
          ],
          "choropleth": [
           {
            "colorbar": {
             "outlinewidth": 0,
             "ticks": ""
            },
            "type": "choropleth"
           }
          ],
          "contour": [
           {
            "colorbar": {
             "outlinewidth": 0,
             "ticks": ""
            },
            "colorscale": [
             [
              0,
              "#0d0887"
             ],
             [
              0.1111111111111111,
              "#46039f"
             ],
             [
              0.2222222222222222,
              "#7201a8"
             ],
             [
              0.3333333333333333,
              "#9c179e"
             ],
             [
              0.4444444444444444,
              "#bd3786"
             ],
             [
              0.5555555555555556,
              "#d8576b"
             ],
             [
              0.6666666666666666,
              "#ed7953"
             ],
             [
              0.7777777777777778,
              "#fb9f3a"
             ],
             [
              0.8888888888888888,
              "#fdca26"
             ],
             [
              1,
              "#f0f921"
             ]
            ],
            "type": "contour"
           }
          ],
          "contourcarpet": [
           {
            "colorbar": {
             "outlinewidth": 0,
             "ticks": ""
            },
            "type": "contourcarpet"
           }
          ],
          "heatmap": [
           {
            "colorbar": {
             "outlinewidth": 0,
             "ticks": ""
            },
            "colorscale": [
             [
              0,
              "#0d0887"
             ],
             [
              0.1111111111111111,
              "#46039f"
             ],
             [
              0.2222222222222222,
              "#7201a8"
             ],
             [
              0.3333333333333333,
              "#9c179e"
             ],
             [
              0.4444444444444444,
              "#bd3786"
             ],
             [
              0.5555555555555556,
              "#d8576b"
             ],
             [
              0.6666666666666666,
              "#ed7953"
             ],
             [
              0.7777777777777778,
              "#fb9f3a"
             ],
             [
              0.8888888888888888,
              "#fdca26"
             ],
             [
              1,
              "#f0f921"
             ]
            ],
            "type": "heatmap"
           }
          ],
          "histogram": [
           {
            "marker": {
             "pattern": {
              "fillmode": "overlay",
              "size": 10,
              "solidity": 0.2
             }
            },
            "type": "histogram"
           }
          ],
          "histogram2d": [
           {
            "colorbar": {
             "outlinewidth": 0,
             "ticks": ""
            },
            "colorscale": [
             [
              0,
              "#0d0887"
             ],
             [
              0.1111111111111111,
              "#46039f"
             ],
             [
              0.2222222222222222,
              "#7201a8"
             ],
             [
              0.3333333333333333,
              "#9c179e"
             ],
             [
              0.4444444444444444,
              "#bd3786"
             ],
             [
              0.5555555555555556,
              "#d8576b"
             ],
             [
              0.6666666666666666,
              "#ed7953"
             ],
             [
              0.7777777777777778,
              "#fb9f3a"
             ],
             [
              0.8888888888888888,
              "#fdca26"
             ],
             [
              1,
              "#f0f921"
             ]
            ],
            "type": "histogram2d"
           }
          ],
          "histogram2dcontour": [
           {
            "colorbar": {
             "outlinewidth": 0,
             "ticks": ""
            },
            "colorscale": [
             [
              0,
              "#0d0887"
             ],
             [
              0.1111111111111111,
              "#46039f"
             ],
             [
              0.2222222222222222,
              "#7201a8"
             ],
             [
              0.3333333333333333,
              "#9c179e"
             ],
             [
              0.4444444444444444,
              "#bd3786"
             ],
             [
              0.5555555555555556,
              "#d8576b"
             ],
             [
              0.6666666666666666,
              "#ed7953"
             ],
             [
              0.7777777777777778,
              "#fb9f3a"
             ],
             [
              0.8888888888888888,
              "#fdca26"
             ],
             [
              1,
              "#f0f921"
             ]
            ],
            "type": "histogram2dcontour"
           }
          ],
          "mesh3d": [
           {
            "colorbar": {
             "outlinewidth": 0,
             "ticks": ""
            },
            "type": "mesh3d"
           }
          ],
          "parcoords": [
           {
            "line": {
             "colorbar": {
              "outlinewidth": 0,
              "ticks": ""
             }
            },
            "type": "parcoords"
           }
          ],
          "pie": [
           {
            "automargin": true,
            "type": "pie"
           }
          ],
          "scatter": [
           {
            "marker": {
             "line": {
              "color": "#283442"
             }
            },
            "type": "scatter"
           }
          ],
          "scatter3d": [
           {
            "line": {
             "colorbar": {
              "outlinewidth": 0,
              "ticks": ""
             }
            },
            "marker": {
             "colorbar": {
              "outlinewidth": 0,
              "ticks": ""
             }
            },
            "type": "scatter3d"
           }
          ],
          "scattercarpet": [
           {
            "marker": {
             "colorbar": {
              "outlinewidth": 0,
              "ticks": ""
             }
            },
            "type": "scattercarpet"
           }
          ],
          "scattergeo": [
           {
            "marker": {
             "colorbar": {
              "outlinewidth": 0,
              "ticks": ""
             }
            },
            "type": "scattergeo"
           }
          ],
          "scattergl": [
           {
            "marker": {
             "line": {
              "color": "#283442"
             }
            },
            "type": "scattergl"
           }
          ],
          "scattermap": [
           {
            "marker": {
             "colorbar": {
              "outlinewidth": 0,
              "ticks": ""
             }
            },
            "type": "scattermap"
           }
          ],
          "scattermapbox": [
           {
            "marker": {
             "colorbar": {
              "outlinewidth": 0,
              "ticks": ""
             }
            },
            "type": "scattermapbox"
           }
          ],
          "scatterpolar": [
           {
            "marker": {
             "colorbar": {
              "outlinewidth": 0,
              "ticks": ""
             }
            },
            "type": "scatterpolar"
           }
          ],
          "scatterpolargl": [
           {
            "marker": {
             "colorbar": {
              "outlinewidth": 0,
              "ticks": ""
             }
            },
            "type": "scatterpolargl"
           }
          ],
          "scatterternary": [
           {
            "marker": {
             "colorbar": {
              "outlinewidth": 0,
              "ticks": ""
             }
            },
            "type": "scatterternary"
           }
          ],
          "surface": [
           {
            "colorbar": {
             "outlinewidth": 0,
             "ticks": ""
            },
            "colorscale": [
             [
              0,
              "#0d0887"
             ],
             [
              0.1111111111111111,
              "#46039f"
             ],
             [
              0.2222222222222222,
              "#7201a8"
             ],
             [
              0.3333333333333333,
              "#9c179e"
             ],
             [
              0.4444444444444444,
              "#bd3786"
             ],
             [
              0.5555555555555556,
              "#d8576b"
             ],
             [
              0.6666666666666666,
              "#ed7953"
             ],
             [
              0.7777777777777778,
              "#fb9f3a"
             ],
             [
              0.8888888888888888,
              "#fdca26"
             ],
             [
              1,
              "#f0f921"
             ]
            ],
            "type": "surface"
           }
          ],
          "table": [
           {
            "cells": {
             "fill": {
              "color": "#506784"
             },
             "line": {
              "color": "rgb(17,17,17)"
             }
            },
            "header": {
             "fill": {
              "color": "#2a3f5f"
             },
             "line": {
              "color": "rgb(17,17,17)"
             }
            },
            "type": "table"
           }
          ]
         },
         "layout": {
          "annotationdefaults": {
           "arrowcolor": "#f2f5fa",
           "arrowhead": 0,
           "arrowwidth": 1
          },
          "autotypenumbers": "strict",
          "coloraxis": {
           "colorbar": {
            "outlinewidth": 0,
            "ticks": ""
           }
          },
          "colorscale": {
           "diverging": [
            [
             0,
             "#8e0152"
            ],
            [
             0.1,
             "#c51b7d"
            ],
            [
             0.2,
             "#de77ae"
            ],
            [
             0.3,
             "#f1b6da"
            ],
            [
             0.4,
             "#fde0ef"
            ],
            [
             0.5,
             "#f7f7f7"
            ],
            [
             0.6,
             "#e6f5d0"
            ],
            [
             0.7,
             "#b8e186"
            ],
            [
             0.8,
             "#7fbc41"
            ],
            [
             0.9,
             "#4d9221"
            ],
            [
             1,
             "#276419"
            ]
           ],
           "sequential": [
            [
             0,
             "#0d0887"
            ],
            [
             0.1111111111111111,
             "#46039f"
            ],
            [
             0.2222222222222222,
             "#7201a8"
            ],
            [
             0.3333333333333333,
             "#9c179e"
            ],
            [
             0.4444444444444444,
             "#bd3786"
            ],
            [
             0.5555555555555556,
             "#d8576b"
            ],
            [
             0.6666666666666666,
             "#ed7953"
            ],
            [
             0.7777777777777778,
             "#fb9f3a"
            ],
            [
             0.8888888888888888,
             "#fdca26"
            ],
            [
             1,
             "#f0f921"
            ]
           ],
           "sequentialminus": [
            [
             0,
             "#0d0887"
            ],
            [
             0.1111111111111111,
             "#46039f"
            ],
            [
             0.2222222222222222,
             "#7201a8"
            ],
            [
             0.3333333333333333,
             "#9c179e"
            ],
            [
             0.4444444444444444,
             "#bd3786"
            ],
            [
             0.5555555555555556,
             "#d8576b"
            ],
            [
             0.6666666666666666,
             "#ed7953"
            ],
            [
             0.7777777777777778,
             "#fb9f3a"
            ],
            [
             0.8888888888888888,
             "#fdca26"
            ],
            [
             1,
             "#f0f921"
            ]
           ]
          },
          "colorway": [
           "#636efa",
           "#EF553B",
           "#00cc96",
           "#ab63fa",
           "#FFA15A",
           "#19d3f3",
           "#FF6692",
           "#B6E880",
           "#FF97FF",
           "#FECB52"
          ],
          "font": {
           "color": "#f2f5fa"
          },
          "geo": {
           "bgcolor": "rgb(17,17,17)",
           "lakecolor": "rgb(17,17,17)",
           "landcolor": "rgb(17,17,17)",
           "showlakes": true,
           "showland": true,
           "subunitcolor": "#506784"
          },
          "hoverlabel": {
           "align": "left"
          },
          "hovermode": "closest",
          "mapbox": {
           "style": "dark"
          },
          "paper_bgcolor": "rgb(17,17,17)",
          "plot_bgcolor": "rgb(17,17,17)",
          "polar": {
           "angularaxis": {
            "gridcolor": "#506784",
            "linecolor": "#506784",
            "ticks": ""
           },
           "bgcolor": "rgb(17,17,17)",
           "radialaxis": {
            "gridcolor": "#506784",
            "linecolor": "#506784",
            "ticks": ""
           }
          },
          "scene": {
           "xaxis": {
            "backgroundcolor": "rgb(17,17,17)",
            "gridcolor": "#506784",
            "gridwidth": 2,
            "linecolor": "#506784",
            "showbackground": true,
            "ticks": "",
            "zerolinecolor": "#C8D4E3"
           },
           "yaxis": {
            "backgroundcolor": "rgb(17,17,17)",
            "gridcolor": "#506784",
            "gridwidth": 2,
            "linecolor": "#506784",
            "showbackground": true,
            "ticks": "",
            "zerolinecolor": "#C8D4E3"
           },
           "zaxis": {
            "backgroundcolor": "rgb(17,17,17)",
            "gridcolor": "#506784",
            "gridwidth": 2,
            "linecolor": "#506784",
            "showbackground": true,
            "ticks": "",
            "zerolinecolor": "#C8D4E3"
           }
          },
          "shapedefaults": {
           "line": {
            "color": "#f2f5fa"
           }
          },
          "sliderdefaults": {
           "bgcolor": "#C8D4E3",
           "bordercolor": "rgb(17,17,17)",
           "borderwidth": 1,
           "tickwidth": 0
          },
          "ternary": {
           "aaxis": {
            "gridcolor": "#506784",
            "linecolor": "#506784",
            "ticks": ""
           },
           "baxis": {
            "gridcolor": "#506784",
            "linecolor": "#506784",
            "ticks": ""
           },
           "bgcolor": "rgb(17,17,17)",
           "caxis": {
            "gridcolor": "#506784",
            "linecolor": "#506784",
            "ticks": ""
           }
          },
          "title": {
           "x": 0.05
          },
          "updatemenudefaults": {
           "bgcolor": "#506784",
           "borderwidth": 0
          },
          "xaxis": {
           "automargin": true,
           "gridcolor": "#283442",
           "linecolor": "#506784",
           "ticks": "",
           "title": {
            "standoff": 15
           },
           "zerolinecolor": "#283442",
           "zerolinewidth": 2
          },
          "yaxis": {
           "automargin": true,
           "gridcolor": "#283442",
           "linecolor": "#506784",
           "ticks": "",
           "title": {
            "standoff": 15
           },
           "zerolinecolor": "#283442",
           "zerolinewidth": 2
          }
         }
        },
        "title": {
         "text": "Publication Growth Rate by Year"
        },
        "width": 1200,
        "xaxis": {
         "anchor": "y",
         "domain": [
          0,
          0.49
         ],
         "showgrid": true,
         "tickangle": 45,
         "title": {
          "text": "Year"
         }
        },
        "xaxis2": {
         "anchor": "y2",
         "domain": [
          0.51,
          1
         ],
         "title": {
          "text": "Year"
         }
        },
        "xaxis3": {
         "anchor": "y3",
         "domain": [
          0,
          0.49
         ],
         "showticklabels": false,
         "title": {
          "text": "Year"
         }
        },
        "xaxis4": {
         "anchor": "y4",
         "domain": [
          0.51,
          1
         ],
         "showticklabels": false,
         "title": {
          "text": "Year"
         }
        },
        "xaxis5": {
         "anchor": "y5",
         "domain": [
          0,
          0.49
         ],
         "showticklabels": false,
         "title": {
          "text": "Year"
         }
        },
        "xaxis6": {
         "anchor": "y6",
         "domain": [
          0.51,
          1
         ],
         "showticklabels": false,
         "title": {
          "text": "Year"
         }
        },
        "yaxis": {
         "anchor": "x",
         "domain": [
          0,
          0.2866666666666666
         ],
         "showgrid": true,
         "title": {
          "text": "Growth Rate (%)"
         }
        },
        "yaxis2": {
         "anchor": "x2",
         "domain": [
          0,
          0.2866666666666666
         ],
         "matches": "y",
         "showticklabels": false,
         "title": {
          "text": "Growth Rate (%)"
         }
        },
        "yaxis3": {
         "anchor": "x3",
         "domain": [
          0.35666666666666663,
          0.6433333333333333
         ],
         "matches": "y",
         "title": {
          "text": "Growth Rate (%)"
         }
        },
        "yaxis4": {
         "anchor": "x4",
         "domain": [
          0.35666666666666663,
          0.6433333333333333
         ],
         "matches": "y",
         "showticklabels": false,
         "title": {
          "text": "Growth Rate (%)"
         }
        },
        "yaxis5": {
         "anchor": "x5",
         "domain": [
          0.7133333333333333,
          0.9999999999999999
         ],
         "matches": "y",
         "title": {
          "text": "Growth Rate (%)"
         }
        },
        "yaxis6": {
         "anchor": "x6",
         "domain": [
          0.7133333333333333,
          0.9999999999999999
         ],
         "matches": "y",
         "showticklabels": false,
         "title": {
          "text": "Growth Rate (%)"
         }
        }
       }
      }
     },
     "metadata": {},
     "output_type": "display_data"
    }
   ],
   "source": [
    "df_melted = df_rate.melt(id_vars=\"year\", var_name=\"search_keyword\", value_name=\"growth_rate\")\n",
    "df_melted['acceleration'] = df_melted.groupby('search_keyword')['growth_rate'].diff()\n",
    "df_melted['growth_rolling_avg'] = df_melted['growth_rate'].rolling(window=3, min_periods=1).mean()\n",
    "df_melted.head()\n",
    "\n",
    "fig = px.line(\n",
    "    df_melted,\n",
    "    x='year',\n",
    "    y='growth_rolling_avg',\n",
    "    color='search_keyword',\n",
    "    color_discrete_map=color_map,\n",
    "    title='Publication Growth Rate by Year',\n",
    "    markers=True,\n",
    "    facet_col='search_keyword',\n",
    "    facet_col_wrap=2,\n",
    ")\n",
    "\n",
    "for annotation in fig.layout.annotations:\n",
    "    annotation.text = \"\"\n",
    "\n",
    "fig.update_yaxes(title_text=\"Growth Rate (%)\")\n",
    "fig.update_xaxes(title_text=\"Year\", matches=None)\n",
    "\n",
    "fig.update_layout(\n",
    "    legend_title='Keyword',\n",
    "    font=dict(size=12),\n",
    "    width=1200,\n",
    "    height=700,\n",
    "    template='plotly_dark',\n",
    "    xaxis=dict(showgrid=True,\n",
    "               tickangle=45),\n",
    "    yaxis=dict(showgrid=True),\n",
    ")\n",
    "\n",
    "fig.show()\n"
   ]
  },
  {
   "cell_type": "markdown",
   "id": "83404bac",
   "metadata": {},
   "source": [
    "# Regression Analysis on All Papers Published"
   ]
  },
  {
   "cell_type": "markdown",
   "id": "c11bb3db",
   "metadata": {},
   "source": [
    "We'll start with a standard linear regression analysis, then later do a log transform to fit our data to an exponentail growth and see what fits better. The results may change depending on our dataset (year range we choose to obtain our paper data) \n",
    "\n",
    "NOTE: I added a cutoff to the data on 2023, as the spike in papers published after that date seems like an outlier, possibily related to the COVID pandemic. I'm making an educated assumption, but we'll only find out for sure in a few years."
   ]
  },
  {
   "cell_type": "code",
   "execution_count": 12,
   "id": "d5001e2b",
   "metadata": {},
   "outputs": [
    {
     "data": {
      "image/png": "[encoded data removed]",
      "text/plain": [
       "<Figure size 1600x800 with 1 Axes>"
      ]
     },
     "metadata": {},
     "output_type": "display_data"
    }
   ],
   "source": [
    "regplot_query = 'year < 2023'\n",
    "\n",
    "plt.style.use('dark_background')\n",
    "plt.figure(figsize=(8,4), dpi=200)\n",
    "\n",
    "with sns.axes_style(\"darkgrid\", rc={\n",
    "    \"axes.facecolor\": \"#1e1e1e\",\n",
    "    \"figure.facecolor\": \"#121212\",\n",
    "    \"grid.color\": \"#444444\",\n",
    "    \"text.color\": \"white\",\n",
    "    \"xtick.color\": \"white\",\n",
    "    \"ytick.color\": \"white\",\n",
    "    \"axes.labelcolor\": \"white\",\n",
    "    \"axes.edgecolor\": \"white\",\n",
    "}):\n",
    "    with np.errstate(divide='ignore', over='ignore', invalid='ignore'):\n",
    "        sns.regplot(\n",
    "                data=df_totals.query(regplot_query),\n",
    "                x='year',\n",
    "                y='paper_count',\n",
    "                scatter_kws={\n",
    "                    'marker': 'o',\n",
    "                    's': 50,\n",
    "                    'alpha': 0.7,\n",
    "                    'color': \"#FFD700\"\n",
    "                    },\n",
    "                line_kws={\n",
    "                    'linewidth': 2,\n",
    "                    'alpha': 0.8,\n",
    "                    'color': \"#B41D3B\"\n",
    "                    },\n",
    "            )\n",
    "\n",
    "plt.title('Published Paper Count Regression Analysis')\n",
    "plt.ylabel('Papers Published')\n",
    "    \n",
    "plt.show()\n"
   ]
  },
  {
   "cell_type": "code",
   "execution_count": 13,
   "id": "16f6c995",
   "metadata": {},
   "outputs": [
    {
     "name": "stdout",
     "output_type": "stream",
     "text": [
      "R² Score: 0.654\n",
      "Coefficient 46.43\n"
     ]
    }
   ],
   "source": [
    "regression = LinearRegression()\n",
    "X = pd.DataFrame(df_totals.query(regplot_query), columns=['year'])\n",
    "y = pd.DataFrame(df_totals.query(regplot_query), columns=['paper_count'])\n",
    "regression.fit(X, y)\n",
    "print(f'R² Score: {round(regression.score(X, y),3)}')\n",
    "print(f'Coefficient {round(regression.coef_[0][0],2)}')"
   ]
  },
  {
   "cell_type": "markdown",
   "id": "4dbaa093",
   "metadata": {},
   "source": [
    "The linear model shows a poor fit. Below I'll perform the log transform to see if an exponential growth model fits better my data."
   ]
  },
  {
   "cell_type": "code",
   "execution_count": 14,
   "id": "77e7499a",
   "metadata": {},
   "outputs": [
    {
     "data": {
      "image/png": "[encoded data removed]",
      "text/plain": [
       "<Figure size 1600x800 with 1 Axes>"
      ]
     },
     "metadata": {},
     "output_type": "display_data"
    }
   ],
   "source": [
    "df_log = df_totals.copy()\n",
    "df_log['paper_count_log'] = np.log(df_log['paper_count'] + 1)\n",
    "\n",
    "plt.figure(figsize=(8,4), dpi=200)\n",
    "with sns.axes_style(\"darkgrid\", rc={\n",
    "    \"axes.facecolor\": \"#1e1e1e\",\n",
    "    \"figure.facecolor\": \"#121212\",\n",
    "    \"grid.color\": \"#444444\",\n",
    "    \"text.color\": \"white\",\n",
    "    \"xtick.color\": \"white\",\n",
    "    \"ytick.color\": \"white\",\n",
    "    \"axes.labelcolor\": \"white\",\n",
    "    \"axes.edgecolor\": \"white\",\n",
    "}):\n",
    "    with np.errstate(divide='ignore', over='ignore', invalid='ignore'):        \n",
    "        sns.regplot(\n",
    "                data=df_log.query(regplot_query),\n",
    "                x='year',\n",
    "                y='paper_count_log',\n",
    "                scatter_kws={\n",
    "                    'marker': 'o',\n",
    "                    's': 50,\n",
    "                    'alpha': 0.7,\n",
    "                    'color': \"#FFD700\"\n",
    "                    },\n",
    "                line_kws={\n",
    "                    'linewidth': 2,\n",
    "                    'alpha': 0.8,\n",
    "                    'color': \"#B41D3B\"\n",
    "                    },\n",
    "            )\n",
    "\n",
    "plt.title('Published Paper Count - Log Scale (Test for Exponential Growth)')\n",
    "plt.ylabel('Log(Papers Published)')\n",
    "plt.show()\n"
   ]
  },
  {
   "cell_type": "code",
   "execution_count": 15,
   "id": "2e2340e8",
   "metadata": {},
   "outputs": [
    {
     "name": "stdout",
     "output_type": "stream",
     "text": [
      "R² Score: 0.958\n",
      "Coefficient 0.11\n",
      "Growth rate: 9.42% per year\n"
     ]
    }
   ],
   "source": [
    "y_log = np.log(y + 1)\n",
    "regression.fit(X, y_log)\n",
    "print(f'R² Score: {round(regression.score(X, y_log),3)}')\n",
    "print(f'Coefficient {round(regression.coef_[0][0],2)}')\n",
    "growth_rate = (np.exp(0.09) - 1) * 100\n",
    "print(f'Growth rate: {growth_rate:.2f}% per year')"
   ]
  },
  {
   "cell_type": "markdown",
   "id": "3ae4b4cb",
   "metadata": {},
   "source": [
    "We see a great fit in this case, indicating the growth is exponential. Although, a plateau at some point is likely due to real world limits regarding to scientific research and production. Infinite growth is unrealistic.\n",
    "\n",
    "Now let's analyze the data per keyword, and go a little deeper into the data."
   ]
  },
  {
   "cell_type": "markdown",
   "id": "62724f6f",
   "metadata": {},
   "source": [
    "# Per Keyword Analysis"
   ]
  },
  {
   "cell_type": "markdown",
   "id": "86b6fc5f",
   "metadata": {},
   "source": [
    "We'll do the same as above, starting with the linear regression analysis, then moving the to the exponential growth analysis (log transform)."
   ]
  },
  {
   "cell_type": "code",
   "execution_count": 16,
   "id": "e43954bb",
   "metadata": {},
   "outputs": [
    {
     "name": "stdout",
     "output_type": "stream",
     "text": [
      "COMPREHENSIVE GROWTH ANALYSIS\n",
      "================================================================================\n",
      "\n",
      "MODEL COMPARISON RESULTS:\n",
      "------------------------------------------------------------\n",
      "              keyword  r_squared_linear  r_squared_log   better_fit  \\\n",
      "3  urban green spaces          0.565300       0.902696  Exponential   \n",
      "2     urban ecosystem          0.627945       0.953374  Exponential   \n",
      "4    urban vegetation          0.691501       0.969694  Exponential   \n",
      "0  urban biodiversity          0.705057       0.924442  Exponential   \n",
      "5      urban wildlife          0.734276       0.928677  Exponential   \n",
      "1       urban ecology          0.750077       0.908944  Exponential   \n",
      "\n",
      "   annual_growth_rate_percent  r_squared_difference  \n",
      "3                   13.667951              0.337396  \n",
      "2                   13.457328              0.325429  \n",
      "4                   11.707948              0.278193  \n",
      "0                   15.761449              0.219385  \n",
      "5                    9.307008              0.194401  \n",
      "1                    8.263884              0.158867  \n",
      "\n",
      "\n",
      "LOGARITHMIC REGRESSION RESULTS (Testing Exponential Growth):\n",
      "--------------------------------------------------------------------------------\n",
      "              keyword  annual_growth_rate_percent  doubling_time_years  \\\n",
      "0  urban biodiversity                   15.761449             4.735860   \n",
      "3  urban green spaces                   13.667951             5.410508   \n",
      "2     urban ecosystem                   13.457328             5.489987   \n",
      "4    urban vegetation                   11.707948             6.260493   \n",
      "5      urban wildlife                    9.307008             7.789017   \n",
      "1       urban ecology                    8.263884             8.729656   \n",
      "\n",
      "   r_squared       p_value                    trend_interpretation  \n",
      "0   0.924442  1.201750e-20  Significantly increasing (exponential)  \n",
      "3   0.902696  2.022544e-25  Significantly increasing (exponential)  \n",
      "2   0.953374  5.970199e-35  Significantly increasing (exponential)  \n",
      "4   0.969694  2.144954e-40  Significantly increasing (exponential)  \n",
      "5   0.928677  3.564277e-29  Significantly increasing (exponential)  \n",
      "1   0.908944  3.375454e-28  Significantly increasing (exponential)  \n"
     ]
    },
    {
     "data": {
      "image/png": "[encoded data removed]",
      "text/plain": [
       "<Figure size 1600x1800 with 6 Axes>"
      ]
     },
     "metadata": {},
     "output_type": "display_data"
    },
    {
     "name": "stdout",
     "output_type": "stream",
     "text": [
      "\n",
      "================================================================================\n",
      "KEY INSIGHTS - GROWTH PATTERN ANALYSIS:\n",
      "================================================================================\n",
      "Fastest linear growth: urban ecosystem (14.29 papers/year)\n",
      "Fastest exponential growth: urban biodiversity (15.8% per year)\n",
      "  - Doubling time: 4.7 years\n",
      "Fields better explained by exponential growth: 6/6 (100.0%)\n",
      "Significant linear trends: 6/6\n",
      "Significant exponential trends: 6/6\n",
      "Biggest improvement with exponential model: urban green spaces (ΔR² = +0.337)\n"
     ]
    }
   ],
   "source": [
    "def linear_trend_analysis(df_keywords):\n",
    "    \"\"\"\n",
    "    Perform linear regression analysis for each keyword\n",
    "    Returns comprehensive trend statistics\n",
    "    \"\"\"\n",
    "    results = []\n",
    "    \n",
    "    for keyword in df_keywords['search_keyword'].unique():\n",
    "        keyword_data = df_keywords[df_keywords['search_keyword'] == keyword].sort_values('year')\n",
    "        years = keyword_data['year'].values\n",
    "        counts = keyword_data['paper_count'].values\n",
    "        \n",
    "        slope, intercept, r_value, p_value, std_err = linregress(years, counts)\n",
    "        \n",
    "        r_squared = r_value**2\n",
    "        \n",
    "        n = len(years)\n",
    "        t_val = stats.t.ppf(0.975, n-2)\n",
    "        slope_ci_lower = slope - t_val * std_err\n",
    "        slope_ci_upper = slope + t_val * std_err\n",
    "        \n",
    "        if p_value < 0.05:\n",
    "            if slope > 0:\n",
    "                trend_interpretation = \"Significantly increasing\"\n",
    "            else:\n",
    "                trend_interpretation = \"Significantly decreasing\"\n",
    "        else:\n",
    "            trend_interpretation = \"No significant trend\"\n",
    "        \n",
    "        total_papers = counts.sum()\n",
    "        avg_papers_per_year = counts.mean()\n",
    "        \n",
    "        results.append({\n",
    "            'keyword': keyword,\n",
    "            'slope_papers_per_year': slope,\n",
    "            'intercept': intercept,\n",
    "            'r_squared': r_squared,\n",
    "            'p_value': p_value,\n",
    "            'std_error': std_err,\n",
    "            'slope_ci_lower': slope_ci_lower,\n",
    "            'slope_ci_upper': slope_ci_upper,\n",
    "            'trend_interpretation': trend_interpretation,\n",
    "            'total_papers': total_papers,\n",
    "            'avg_papers_per_year': avg_papers_per_year,\n",
    "            'significant_trend': p_value < 0.05,\n",
    "            'years_analyzed': n\n",
    "        })\n",
    "    \n",
    "    return pd.DataFrame(results)\n",
    "\n",
    "def log_trend_analysis(df_keywords, min_papers=1):\n",
    "    \"\"\"\n",
    "    Perform logarithmic regression analysis for each keyword to test exponential growth\n",
    "    Uses log(paper_count + 1) to handle zero values\n",
    "    Returns comprehensive trend statistics for exponential growth patterns\n",
    "    \"\"\"\n",
    "    results = []\n",
    "    \n",
    "    for keyword in df_keywords['search_keyword'].unique():\n",
    "        keyword_data = df_keywords[df_keywords['search_keyword'] == keyword].sort_values('year')\n",
    "        years = keyword_data['year'].values\n",
    "        counts = keyword_data['paper_count'].values\n",
    "        \n",
    "        # Filter out years with very low counts if specified\n",
    "        if min_papers > 0:\n",
    "            valid_mask = counts >= min_papers\n",
    "            if valid_mask.sum() < 3:  # Need at least 3 points for regression\n",
    "                continue\n",
    "            years = years[valid_mask]\n",
    "            counts = counts[valid_mask]\n",
    "        \n",
    "        # Log transform: log(count + 1) to handle zeros\n",
    "        log_counts = np.log(counts + 1)\n",
    "        \n",
    "        # Skip if we don't have enough valid data points\n",
    "        if len(years) < 3:\n",
    "            continue\n",
    "            \n",
    "        slope, intercept, r_value, p_value, std_err = linregress(years, log_counts)\n",
    "        \n",
    "        r_squared = r_value**2\n",
    "        \n",
    "        n = len(years)\n",
    "        t_val = stats.t.ppf(0.975, n-2)\n",
    "        slope_ci_lower = slope - t_val * std_err\n",
    "        slope_ci_upper = slope + t_val * std_err\n",
    "        \n",
    "        # Calculate annual growth rate percentage\n",
    "        # If log(y) = slope*x + intercept, then y = exp(intercept) * exp(slope)^x\n",
    "        # Annual growth rate = (exp(slope) - 1) * 100\n",
    "        annual_growth_rate = (np.exp(slope) - 1) * 100\n",
    "        \n",
    "        if p_value < 0.05:\n",
    "            if slope > 0:\n",
    "                trend_interpretation = \"Significantly increasing (exponential)\"\n",
    "            else:\n",
    "                trend_interpretation = \"Significantly decreasing (exponential)\"\n",
    "        else:\n",
    "            trend_interpretation = \"No significant exponential trend\"\n",
    "        \n",
    "        total_papers = counts.sum()\n",
    "        avg_papers_per_year = counts.mean()\n",
    "        \n",
    "        # Calculate doubling time (only meaningful for positive growth)\n",
    "        doubling_time = np.log(2) / slope if slope > 0 else np.inf\n",
    "        \n",
    "        results.append({\n",
    "            'keyword': keyword,\n",
    "            'log_slope': slope,\n",
    "            'log_intercept': intercept,\n",
    "            'r_squared': r_squared,\n",
    "            'p_value': p_value,\n",
    "            'std_error': std_err,\n",
    "            'slope_ci_lower': slope_ci_lower,\n",
    "            'slope_ci_upper': slope_ci_upper,\n",
    "            'annual_growth_rate_percent': annual_growth_rate,\n",
    "            'doubling_time_years': doubling_time,\n",
    "            'trend_interpretation': trend_interpretation,\n",
    "            'total_papers': total_papers,\n",
    "            'avg_papers_per_year': avg_papers_per_year,\n",
    "            'significant_trend': p_value < 0.05,\n",
    "            'years_analyzed': n\n",
    "        })\n",
    "    \n",
    "    return pd.DataFrame(results)\n",
    "\n",
    "def compare_linear_vs_exponential(df_keywords, min_papers=1):\n",
    "    \"\"\"\n",
    "    Compare linear vs exponential growth models for each keyword\n",
    "    Returns comparison results\n",
    "    \"\"\"\n",
    "    linear_results = linear_trend_analysis(df_keywords)\n",
    "    log_results = log_trend_analysis(df_keywords, min_papers)\n",
    "    \n",
    "    # Merge results for comparison\n",
    "    comparison = pd.merge(linear_results[['keyword', 'r_squared', 'p_value', 'significant_trend']], \n",
    "                         log_results[['keyword', 'r_squared', 'p_value', 'significant_trend', 'annual_growth_rate_percent', 'doubling_time_years']], \n",
    "                         on='keyword', suffixes=('_linear', '_log'))\n",
    "    \n",
    "    # Determine better fit\n",
    "    comparison['better_fit'] = np.where(comparison['r_squared_log'] > comparison['r_squared_linear'], \n",
    "                                       'Exponential', 'Linear')\n",
    "    comparison['r_squared_difference'] = comparison['r_squared_log'] - comparison['r_squared_linear']\n",
    "    \n",
    "    return comparison, linear_results, log_results\n",
    "\n",
    "\n",
    "print(\"COMPREHENSIVE GROWTH ANALYSIS\")\n",
    "print(\"=\" * 80)\n",
    "\n",
    "\n",
    "cutoff_keywords = df_keywords.query(regplot_query)\n",
    "comparison, linear_results, log_results = compare_linear_vs_exponential(cutoff_keywords, min_papers=1)\n",
    "\n",
    "print(\"\\nMODEL COMPARISON RESULTS:\")\n",
    "print(\"-\" * 60)\n",
    "display_cols = ['keyword', 'r_squared_linear', 'r_squared_log', 'better_fit', \n",
    "                'annual_growth_rate_percent', 'r_squared_difference']\n",
    "print(comparison[display_cols].sort_values('r_squared_difference', ascending=False))\n",
    "\n",
    "print(\"\\n\\nLOGARITHMIC REGRESSION RESULTS (Testing Exponential Growth):\")\n",
    "print(\"-\" * 80)\n",
    "log_display_cols = ['keyword', 'annual_growth_rate_percent', 'doubling_time_years', \n",
    "                   'r_squared', 'p_value', 'trend_interpretation']\n",
    "print(log_results[log_display_cols].sort_values('annual_growth_rate_percent', ascending=False))\n",
    "\n",
    "# Create comprehensive visualization\n",
    "fig, axes = plt.subplots(3, 2, figsize=(16, 18))\n",
    "\n",
    "# 1. R-squared comparison\n",
    "ax1 = axes[0, 0]\n",
    "x_pos = np.arange(len(comparison))\n",
    "width = 0.35\n",
    "ax1.bar(x_pos - width/2, comparison['r_squared_linear'], width, label='Linear Model', alpha=0.7, color='blue')\n",
    "ax1.bar(x_pos + width/2, comparison['r_squared_log'], width, label='Exponential Model', alpha=0.7, color='red')\n",
    "ax1.set_xticks(x_pos)\n",
    "ax1.set_xticklabels(comparison['keyword'], rotation=45, ha='right')\n",
    "ax1.set_ylabel('R-squared Value')\n",
    "ax1.set_title('Model Fit Comparison: Linear vs Exponential')\n",
    "ax1.legend(bbox_to_anchor=(1.05, 1), loc='upper left', fontsize=10)\n",
    "ax1.grid(True, alpha=0.3)\n",
    "\n",
    "# 2. Annual growth rates from exponential model\n",
    "ax2 = axes[0, 1]\n",
    "growth_rates = log_results['annual_growth_rate_percent']\n",
    "colors = ['green' if sig else 'red' for sig in log_results['significant_trend']]\n",
    "bars = ax2.bar(range(len(log_results)), growth_rates, color=colors, alpha=0.7)\n",
    "ax2.set_xticks(range(len(log_results)))\n",
    "ax2.set_xticklabels(log_results['keyword'], rotation=45, ha='right')\n",
    "ax2.set_ylabel('Annual Growth Rate (%)')\n",
    "ax2.set_title('Annual Growth Rates (Exponential Model)\\n(Green = Significant, Red = Not Significant)')\n",
    "ax2.axhline(y=0, color='black', linestyle='-', alpha=0.3)\n",
    "ax2.grid(True, alpha=0.3)\n",
    "\n",
    "for bar, rate in zip(bars, growth_rates):\n",
    "    if not np.isnan(rate) and abs(rate) < 1000:\n",
    "        ax2.text(bar.get_x() + bar.get_width()/2, bar.get_height() + 0.1, \n",
    "                f'{rate:.1f}%', ha='center', va='bottom', fontsize=8)\n",
    "\n",
    "# 3. Doubling times (only for positive growth)\n",
    "ax3 = axes[1, 0]\n",
    "finite_doubling = log_results[log_results['doubling_time_years'] != np.inf]\n",
    "if len(finite_doubling) > 0:\n",
    "    ax3.bar(range(len(finite_doubling)), finite_doubling['doubling_time_years'], alpha=0.7, color='orange')\n",
    "    ax3.set_xticks(range(len(finite_doubling)))\n",
    "    ax3.set_xticklabels(finite_doubling['keyword'], rotation=45, ha='right')\n",
    "    ax3.set_ylabel('Years to Double')\n",
    "    ax3.set_title('Doubling Time (Years) - Growing Fields Only')\n",
    "    ax3.grid(True, alpha=0.3)\n",
    "else:\n",
    "    ax3.text(0.5, 0.5, 'No fields with\\npositive exponential growth', \n",
    "            ha='center', va='center', transform=ax3.transAxes, fontsize=12)\n",
    "    ax3.set_title('Doubling Time (Years)')\n",
    "\n",
    "# 4. Linear trend slopes with confidence intervals (conditional on better fit)\n",
    "ax4 = axes[1, 1]\n",
    "# Only show linear trends for keywords where linear model fits better\n",
    "linear_better_mask = comparison['better_fit'] == 'Linear'\n",
    "if linear_better_mask.any():\n",
    "    linear_better_keywords = comparison[linear_better_mask]['keyword'].tolist()\n",
    "    linear_subset = linear_results[linear_results['keyword'].isin(linear_better_keywords)]\n",
    "    \n",
    "    colors = ['green' if sig else 'red' for sig in linear_subset['significant_trend']]\n",
    "    keywords = linear_subset['keyword']\n",
    "    slopes = linear_subset['slope_papers_per_year']\n",
    "    ci_lower = linear_subset['slope_ci_lower']\n",
    "    ci_upper = linear_subset['slope_ci_upper']\n",
    "    \n",
    "    y_pos = np.arange(len(keywords))\n",
    "    ax4.barh(y_pos, slopes, color=colors, alpha=0.7)\n",
    "    ax4.errorbar(slopes, y_pos, xerr=[slopes - ci_lower, ci_upper - slopes], \n",
    "                fmt='none', color='black', capsize=5)\n",
    "    ax4.set_yticks(y_pos)\n",
    "    ax4.set_yticklabels(keywords)\n",
    "    ax4.set_xlabel('Growth Rate (Papers per Year)')\n",
    "    ax4.set_title('Linear Growth Rates (Linear Model Fits Better)\\n(Green = Significant, Red = Not Significant)')\n",
    "    ax4.axvline(x=0, color='black', linestyle='--', alpha=0.5)\n",
    "    ax4.grid(True, alpha=0.3)\n",
    "else:\n",
    "    ax4.text(0.5, 0.5, 'No keywords have\\nbetter linear fits', \n",
    "            ha='center', va='center', transform=ax4.transAxes, fontsize=12)\n",
    "    ax4.set_title('Linear Growth Rates (Linear Model Fits Better)')\n",
    "    ax4.set_xlabel('Growth Rate (Papers per Year)')\n",
    "    ax4.set_ylabel('Keywords')\n",
    "\n",
    "# 5. Actual vs Predicted - Linear Model\n",
    "ax5 = axes[2, 0]\n",
    "for i, keyword in enumerate(linear_results['keyword']):\n",
    "    keyword_data = cutoff_keywords[cutoff_keywords['search_keyword'] == keyword].sort_values('year')\n",
    "    years = keyword_data['year'].values\n",
    "    counts = keyword_data['paper_count'].values\n",
    "    \n",
    "    slope = linear_results[linear_results['keyword'] == keyword]['slope_papers_per_year'].iloc[0]\n",
    "    intercept = linear_results[linear_results['keyword'] == keyword]['intercept'].iloc[0]\n",
    "    predicted = slope * years + intercept\n",
    "    \n",
    "    # Use color_map if available, otherwise use default colors\n",
    "    try:\n",
    "        color = color_map.get(keyword, plt.cm.tab10(i % 10))\n",
    "    except:\n",
    "        color = plt.cm.tab10(i % 10)\n",
    "    \n",
    "    ax5.scatter(predicted, counts, alpha=0.7, label=keyword, s=30, color=color)\n",
    "\n",
    "# Perfect prediction line\n",
    "max_val = max(ax5.get_xlim()[1], ax5.get_ylim()[1])\n",
    "min_val = min(ax5.get_xlim()[0], ax5.get_ylim()[0])\n",
    "ax5.plot([min_val, max_val], [min_val, max_val], 'w--', alpha=0.5, label='Perfect Prediction')\n",
    "ax5.set_xlabel('Predicted Papers (Linear Model)')\n",
    "ax5.set_ylabel('Actual Papers')\n",
    "ax5.set_title('Actual vs Predicted: Linear Model')\n",
    "ax5.legend(bbox_to_anchor=(1.05, 1), loc='upper left', fontsize=10)\n",
    "ax5.grid(True, alpha=0.3)\n",
    "\n",
    "# 6. Actual vs Predicted - Exponential Model\n",
    "ax6 = axes[2, 1]\n",
    "\n",
    "# Calculate R² for the combined exponential model fit to verify\n",
    "all_actual_exp = []\n",
    "all_predicted_exp = []\n",
    "\n",
    "for i, keyword in enumerate(log_results['keyword']):\n",
    "    keyword_data = cutoff_keywords[cutoff_keywords['search_keyword'] == keyword].sort_values('year')\n",
    "    years = keyword_data['year'].values\n",
    "    counts = keyword_data['paper_count'].values\n",
    "    \n",
    "    min_papers = 1\n",
    "    valid_mask = counts >= min_papers\n",
    "    if valid_mask.sum() < 3:\n",
    "        continue\n",
    "    \n",
    "    years_filtered = years[valid_mask]\n",
    "    counts_filtered = counts[valid_mask]\n",
    "    \n",
    "    log_slope = log_results[log_results['keyword'] == keyword]['log_slope'].iloc[0]\n",
    "    log_intercept = log_results[log_results['keyword'] == keyword]['log_intercept'].iloc[0]\n",
    "    \n",
    "    # The regression was: log(count + 1) = slope * year + intercept\n",
    "    # So: predicted_log = slope * year + intercept\n",
    "    # And: predicted_count = exp(predicted_log) - 1\n",
    "    predicted_log = log_slope * years_filtered + log_intercept\n",
    "    predicted_counts = np.exp(predicted_log) - 1\n",
    "    \n",
    "    # Store for overall fit assessment\n",
    "    all_actual_exp.extend(counts_filtered)\n",
    "    all_predicted_exp.extend(predicted_counts)\n",
    "    \n",
    "    # Use color_map if available, otherwise use default colors\n",
    "    try:\n",
    "        color = color_map.get(keyword, plt.cm.tab10(i % 10))\n",
    "    except:\n",
    "        color = plt.cm.tab10(i % 10)\n",
    "    \n",
    "    ax6.scatter(predicted_counts, counts_filtered, alpha=0.7, label=keyword, s=30, color=color)\n",
    "\n",
    "# Perfect prediction line\n",
    "if len(all_actual_exp) > 0:\n",
    "    max_val = max(max(all_predicted_exp), max(all_actual_exp))\n",
    "    min_val = max(0, min(min(all_predicted_exp), min(all_actual_exp)))  # Don't go below 0\n",
    "    ax6.plot([min_val, max_val], [min_val, max_val], 'w--', alpha=0.5, label='Perfect Prediction')\n",
    "    \n",
    "    # Calculate and display overall R² for exponential model\n",
    "    if len(all_actual_exp) > 1:\n",
    "        ss_res = np.sum((np.array(all_actual_exp) - np.array(all_predicted_exp)) ** 2)\n",
    "        ss_tot = np.sum((np.array(all_actual_exp) - np.mean(all_actual_exp)) ** 2)\n",
    "        r_squared_combined = 1 - (ss_res / ss_tot) if ss_tot > 0 else 0\n",
    "        ax6.text(0.05, 0.95, f'Combined R² = {r_squared_combined:.3f}', \n",
    "                transform=ax6.transAxes, bbox=dict(boxstyle=\"round,pad=0.3\", facecolor=\"darkgray\", alpha=0.8))\n",
    "\n",
    "ax6.set_xlabel('Predicted Papers (Exponential Model)')\n",
    "ax6.set_ylabel('Actual Papers')\n",
    "ax6.set_title('Actual vs Predicted: Exponential Model')\n",
    "ax6.grid(True, alpha=0.3)\n",
    "\n",
    "# Add diagnostic text if points are systematically above/below line\n",
    "if len(all_actual_exp) > 0:\n",
    "    residuals = np.array(all_actual_exp) - np.array(all_predicted_exp)\n",
    "    mean_residual = np.mean(residuals)\n",
    "    if abs(mean_residual) > np.std(all_actual_exp) * 0.1:\n",
    "        bias_direction = \"above\" if mean_residual > 0 else \"below\"\n",
    "        ax6.text(0.05, 0.85, f'Systematic bias: points tend to be {bias_direction} line\\n(Mean residual: {mean_residual:.1f})', \n",
    "                transform=ax6.transAxes, bbox=dict(boxstyle=\"round,pad=0.3\", facecolor=\"orange\", alpha=0.8),\n",
    "                fontsize=9)\n",
    "\n",
    "\n",
    "plt.style.use('dark_background')\n",
    "plt.tight_layout()\n",
    "plt.show()\n",
    "\n",
    "# Summary insights\n",
    "print(\"\\n\" + \"=\"*80)\n",
    "print(\"KEY INSIGHTS - GROWTH PATTERN ANALYSIS:\")\n",
    "print(\"=\"*80)\n",
    "\n",
    "# Linear model insights\n",
    "fastest_linear = linear_results.loc[linear_results['slope_papers_per_year'].idxmax()]\n",
    "print(f\"Fastest linear growth: {fastest_linear['keyword']} ({fastest_linear['slope_papers_per_year']:.2f} papers/year)\")\n",
    "\n",
    "# Exponential model insights\n",
    "if len(log_results) > 0:\n",
    "    fastest_exponential = log_results.loc[log_results['annual_growth_rate_percent'].idxmax()]\n",
    "    print(f\"Fastest exponential growth: {fastest_exponential['keyword']} ({fastest_exponential['annual_growth_rate_percent']:.1f}% per year)\")\n",
    "    \n",
    "    if fastest_exponential['doubling_time_years'] != np.inf:\n",
    "        print(f\"  - Doubling time: {fastest_exponential['doubling_time_years']:.1f} years\")\n",
    "\n",
    "# Model comparison insights\n",
    "exponential_better = len(comparison[comparison['better_fit'] == 'Exponential'])\n",
    "total_fields = len(comparison)\n",
    "print(f\"Fields better explained by exponential growth: {exponential_better}/{total_fields} ({exponential_better/total_fields*100:.1f}%)\")\n",
    "\n",
    "# Significant trends\n",
    "linear_sig = len(linear_results[linear_results['significant_trend']])\n",
    "log_sig = len(log_results[log_results['significant_trend']]) if len(log_results) > 0 else 0\n",
    "print(f\"Significant linear trends: {linear_sig}/{len(linear_results)}\")\n",
    "print(f\"Significant exponential trends: {log_sig}/{len(log_results) if len(log_results) > 0 else 0}\")\n",
    "\n",
    "# Best improvements\n",
    "if len(comparison) > 0:\n",
    "    best_improvement = comparison.loc[comparison['r_squared_difference'].idxmax()]\n",
    "    if best_improvement['r_squared_difference'] > 0:\n",
    "        print(f\"Biggest improvement with exponential model: {best_improvement['keyword']} (ΔR² = +{best_improvement['r_squared_difference']:.3f})\")"
   ]
  },
  {
   "cell_type": "markdown",
   "id": "b8efab06",
   "metadata": {},
   "source": [
    "# Analyzing Keyword correlation\n",
    "\n",
    "I'll look into how often a keyword appears by itself and with eachother to see correlation between them."
   ]
  },
  {
   "cell_type": "code",
   "execution_count": 17,
   "id": "6b47a0c0",
   "metadata": {},
   "outputs": [
    {
     "data": {
      "application/vnd.microsoft.datawrangler.viewer.v0+json": {
       "columns": [
        {
         "name": "index",
         "rawType": "int64",
         "type": "integer"
        },
        {
         "name": "paperId",
         "rawType": "object",
         "type": "string"
        },
        {
         "name": "keywords",
         "rawType": "object",
         "type": "unknown"
        },
        {
         "name": "year",
         "rawType": "int64",
         "type": "integer"
        }
       ],
       "ref": "9f088d1e-ebc2-409d-b21f-f6b7ed0b3d69",
       "rows": [
        [
         "0",
         "13fd14447241a1e5e8cd10064d9855553331fe51",
         "['urban ecology', 'urban ecosystem']",
         "1970"
        ],
        [
         "1",
         "250bcb8cbe58cbfd1c7dc70e09ad7a3fd74afbf8",
         "['urban ecology']",
         "1970"
        ],
        [
         "2",
         "2e772a949494b95b57543f2c4dc0b9f5bfc5b5ce",
         "['urban ecology']",
         "1970"
        ],
        [
         "3",
         "420f3de22d956ec99fdd0a18535ef437ce46f7e6",
         "['urban ecology']",
         "1970"
        ],
        [
         "4",
         "461781b809402ff625f2fc3a01f0f3f56bf2044c",
         "['urban ecology']",
         "1970"
        ]
       ],
       "shape": {
        "columns": 3,
        "rows": 5
       }
      },
      "text/html": [
       "<div>\n",
       "<style scoped>\n",
       "    .dataframe tbody tr th:only-of-type {\n",
       "        vertical-align: middle;\n",
       "    }\n",
       "\n",
       "    .dataframe tbody tr th {\n",
       "        vertical-align: top;\n",
       "    }\n",
       "\n",
       "    .dataframe thead th {\n",
       "        text-align: right;\n",
       "    }\n",
       "</style>\n",
       "<table border=\"1\" class=\"dataframe\">\n",
       "  <thead>\n",
       "    <tr style=\"text-align: right;\">\n",
       "      <th></th>\n",
       "      <th>paperId</th>\n",
       "      <th>keywords</th>\n",
       "      <th>year</th>\n",
       "    </tr>\n",
       "  </thead>\n",
       "  <tbody>\n",
       "    <tr>\n",
       "      <th>0</th>\n",
       "      <td>13fd14447241a1e5e8cd10064d9855553331fe51</td>\n",
       "      <td>[urban ecology, urban ecosystem]</td>\n",
       "      <td>1970</td>\n",
       "    </tr>\n",
       "    <tr>\n",
       "      <th>1</th>\n",
       "      <td>250bcb8cbe58cbfd1c7dc70e09ad7a3fd74afbf8</td>\n",
       "      <td>[urban ecology]</td>\n",
       "      <td>1970</td>\n",
       "    </tr>\n",
       "    <tr>\n",
       "      <th>2</th>\n",
       "      <td>2e772a949494b95b57543f2c4dc0b9f5bfc5b5ce</td>\n",
       "      <td>[urban ecology]</td>\n",
       "      <td>1970</td>\n",
       "    </tr>\n",
       "    <tr>\n",
       "      <th>3</th>\n",
       "      <td>420f3de22d956ec99fdd0a18535ef437ce46f7e6</td>\n",
       "      <td>[urban ecology]</td>\n",
       "      <td>1970</td>\n",
       "    </tr>\n",
       "    <tr>\n",
       "      <th>4</th>\n",
       "      <td>461781b809402ff625f2fc3a01f0f3f56bf2044c</td>\n",
       "      <td>[urban ecology]</td>\n",
       "      <td>1970</td>\n",
       "    </tr>\n",
       "  </tbody>\n",
       "</table>\n",
       "</div>"
      ],
      "text/plain": [
       "                                    paperId                          keywords  \\\n",
       "0  13fd14447241a1e5e8cd10064d9855553331fe51  [urban ecology, urban ecosystem]   \n",
       "1  250bcb8cbe58cbfd1c7dc70e09ad7a3fd74afbf8                   [urban ecology]   \n",
       "2  2e772a949494b95b57543f2c4dc0b9f5bfc5b5ce                   [urban ecology]   \n",
       "3  420f3de22d956ec99fdd0a18535ef437ce46f7e6                   [urban ecology]   \n",
       "4  461781b809402ff625f2fc3a01f0f3f56bf2044c                   [urban ecology]   \n",
       "\n",
       "   year  \n",
       "0  1970  \n",
       "1  1970  \n",
       "2  1970  \n",
       "3  1970  \n",
       "4  1970  "
      ]
     },
     "execution_count": 17,
     "metadata": {},
     "output_type": "execute_result"
    }
   ],
   "source": [
    "with sqlite3.connect(PAPERS_DB_PATH) as conn:\n",
    "    df_keyword_ocurrence = pd.read_sql_query(\"\"\"\n",
    "    SELECT paperId, search_keyword, year\n",
    "    FROM papers\n",
    "    WHERE search_keyword IS NOT NULL AND search_keyword != ''\n",
    "    ORDER BY year\n",
    "\"\"\", conn)\n",
    "\n",
    "\n",
    "df_keyword_ocurrence.rename(columns={'search_keyword': 'keywords'},inplace=True)\n",
    "\n",
    "df_keyword_ocurrence['keywords'] = df_keyword_ocurrence['keywords'].str.split(',')\n",
    "df_keyword_ocurrence['keywords'] = df_keyword_ocurrence['keywords'].apply(\n",
    "    lambda lst: [kw.strip() for kw in lst]\n",
    ")\n",
    "\n",
    "df_keyword_ocurrence.head()"
   ]
  },
  {
   "cell_type": "code",
   "execution_count": 18,
   "id": "ff3e3f78",
   "metadata": {},
   "outputs": [
    {
     "data": {
      "application/vnd.microsoft.datawrangler.viewer.v0+json": {
       "columns": [
        {
         "name": "keywords",
         "rawType": "object",
         "type": "string"
        },
        {
         "name": "total",
         "rawType": "int64",
         "type": "integer"
        },
        {
         "name": "solo",
         "rawType": "int64",
         "type": "integer"
        },
        {
         "name": "solo_ratio",
         "rawType": "float64",
         "type": "float"
        }
       ],
       "ref": "fddf652b-f873-4f26-98d3-1eccb16f9017",
       "rows": [
        [
         "urban ecosystem",
         "14238",
         "8939",
         "0.63"
        ],
        [
         "urban green spaces",
         "9415",
         "6384",
         "0.68"
        ],
        [
         "urban vegetation",
         "9318",
         "5911",
         "0.63"
        ],
        [
         "urban ecology",
         "5913",
         "3887",
         "0.66"
        ],
        [
         "urban biodiversity",
         "5902",
         "2230",
         "0.38"
        ]
       ],
       "shape": {
        "columns": 3,
        "rows": 5
       }
      },
      "text/html": [
       "<div>\n",
       "<style scoped>\n",
       "    .dataframe tbody tr th:only-of-type {\n",
       "        vertical-align: middle;\n",
       "    }\n",
       "\n",
       "    .dataframe tbody tr th {\n",
       "        vertical-align: top;\n",
       "    }\n",
       "\n",
       "    .dataframe thead th {\n",
       "        text-align: right;\n",
       "    }\n",
       "</style>\n",
       "<table border=\"1\" class=\"dataframe\">\n",
       "  <thead>\n",
       "    <tr style=\"text-align: right;\">\n",
       "      <th></th>\n",
       "      <th>total</th>\n",
       "      <th>solo</th>\n",
       "      <th>solo_ratio</th>\n",
       "    </tr>\n",
       "    <tr>\n",
       "      <th>keywords</th>\n",
       "      <th></th>\n",
       "      <th></th>\n",
       "      <th></th>\n",
       "    </tr>\n",
       "  </thead>\n",
       "  <tbody>\n",
       "    <tr>\n",
       "      <th>urban ecosystem</th>\n",
       "      <td>14238</td>\n",
       "      <td>8939</td>\n",
       "      <td>0.63</td>\n",
       "    </tr>\n",
       "    <tr>\n",
       "      <th>urban green spaces</th>\n",
       "      <td>9415</td>\n",
       "      <td>6384</td>\n",
       "      <td>0.68</td>\n",
       "    </tr>\n",
       "    <tr>\n",
       "      <th>urban vegetation</th>\n",
       "      <td>9318</td>\n",
       "      <td>5911</td>\n",
       "      <td>0.63</td>\n",
       "    </tr>\n",
       "    <tr>\n",
       "      <th>urban ecology</th>\n",
       "      <td>5913</td>\n",
       "      <td>3887</td>\n",
       "      <td>0.66</td>\n",
       "    </tr>\n",
       "    <tr>\n",
       "      <th>urban biodiversity</th>\n",
       "      <td>5902</td>\n",
       "      <td>2230</td>\n",
       "      <td>0.38</td>\n",
       "    </tr>\n",
       "  </tbody>\n",
       "</table>\n",
       "</div>"
      ],
      "text/plain": [
       "                    total  solo  solo_ratio\n",
       "keywords                                   \n",
       "urban ecosystem     14238  8939        0.63\n",
       "urban green spaces   9415  6384        0.68\n",
       "urban vegetation     9318  5911        0.63\n",
       "urban ecology        5913  3887        0.66\n",
       "urban biodiversity   5902  2230        0.38"
      ]
     },
     "execution_count": 18,
     "metadata": {},
     "output_type": "execute_result"
    }
   ],
   "source": [
    "df_exploded_ocurrence = df_keyword_ocurrence.explode(\"keywords\")\n",
    "df_exploded_ocurrence[\"keywords\"] = df_exploded_ocurrence[\"keywords\"].str.strip()\n",
    "keyword_counts = df_exploded_ocurrence[\"keywords\"].value_counts()\n",
    "\n",
    "df_single_keyword = df_keyword_ocurrence[df_keyword_ocurrence[\"keywords\"].apply(len) == 1]\n",
    "solo_counts = df_single_keyword.explode(\"keywords\")[\"keywords\"].value_counts()\n",
    "\n",
    "df_keyword_stats = pd.DataFrame({\n",
    "    \"total\": keyword_counts,\n",
    "    \"solo\": solo_counts\n",
    "}).fillna(0)\n",
    "\n",
    "df_keyword_stats[\"solo_ratio\"] = (df_keyword_stats[\"solo\"] / df_keyword_stats[\"total\"]).round(2)\n",
    "df_keyword_stats.head()\n"
   ]
  },
  {
   "cell_type": "code",
   "execution_count": 21,
   "id": "b6cdb885",
   "metadata": {},
   "outputs": [],
   "source": [
    "pair_counts = Counter()\n",
    "\n",
    "for keyword_list in df_keyword_ocurrence[\"keywords\"]:\n",
    "    unique_keywords = sorted([kw.strip() for kw in keyword_list])\n",
    "    for kw1, kw2 in combinations(unique_keywords, 2):\n",
    "        pair_counts[(kw1, kw2)] += 1\n",
    "        \n",
    "all_keywords = sorted(keyword_counts.index)\n",
    "\n",
    "cooc_matrix = pd.DataFrame(np.zeros((len(all_keywords), len(all_keywords))),\n",
    "                           index=all_keywords, columns=all_keywords)\n",
    "\n",
    "for (kw1, kw2), count in pair_counts.items():\n",
    "    cooc_matrix.at[kw1, kw2] = (count / keyword_counts[kw1]).round(2)\n",
    "    cooc_matrix.at[kw2, kw1] = (count / keyword_counts[kw2]).round(2)\n",
    "    \n",
    "    \n",
    "for kw in cooc_matrix.index:\n",
    "    if kw in df_keyword_stats.index:\n",
    "        cooc_matrix.at[kw, kw] = df_keyword_stats.at[kw, \"solo_ratio\"]"
   ]
  },
  {
   "cell_type": "code",
   "execution_count": 44,
   "id": "9c675213",
   "metadata": {},
   "outputs": [
    {
     "data": {
      "image/png": "[encoded data removed]",
      "text/plain": [
       "<Figure size 720x720 with 2 Axes>"
      ]
     },
     "metadata": {},
     "output_type": "display_data"
    }
   ],
   "source": [
    "num_keywords = len(cooc_matrix)\n",
    "cell_size = 1.2\n",
    "\n",
    "plt.figure(figsize=(num_keywords * cell_size, num_keywords * cell_size))\n",
    "\n",
    "mask = np.triu(np.ones_like(cooc_matrix, dtype=bool))\n",
    "\n",
    "sns.heatmap(cooc_matrix, \n",
    "            mask=mask,\n",
    "            cmap=\"magma\",\n",
    "            annot=True,\n",
    "            fmt=\".2f\",\n",
    "            square=True, \n",
    "            cbar_kws={\"shrink\": 0.6})\n",
    "\n",
    "plt.title(\"Keyword Co-occurrence Ratios\", fontdict={'fontsize':20}, pad=20)\n",
    "plt.xticks(rotation=45, ha='right')\n",
    "plt.show()"
   ]
  }
 ],
 "metadata": {
  "kernelspec": {
   "display_name": ".venv",
   "language": "python",
   "name": "python3"
  },
  "language_info": {
   "codemirror_mode": {
    "name": "ipython",
    "version": 3
   },
   "file_extension": ".py",
   "mimetype": "text/x-python",
   "name": "python",
   "nbconvert_exporter": "python",
   "pygments_lexer": "ipython3",
   "version": "3.13.2"
  }
 },
 "nbformat": 4,
 "nbformat_minor": 5
}
