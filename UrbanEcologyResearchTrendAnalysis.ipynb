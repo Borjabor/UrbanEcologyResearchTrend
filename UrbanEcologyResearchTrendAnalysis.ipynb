{
 "cells": [
  {
   "cell_type": "markdown",
   "id": "21e9aaad",
   "metadata": {},
   "source": [
    "# Urban Ecology Research Trend Analysis\n",
    "\n",
    "Type: NLP + Time Series + Web Data | Domain: Scientific + environmental | Format: Notebook\n",
    "- Use PubMed or Semantic Scholar API to extract papers on 'urban ecology'.\n",
    "- Track number of publications per year.\n",
    "- Perform keyword frequency and topic modeling.\n",
    "- Map institutions or authors by location \n",
    "    .Use author search and Research Organization Registry (ror.org) to map institutions to locations."
   ]
  },
  {
   "cell_type": "code",
   "execution_count": null,
   "id": "394e5343",
   "metadata": {},
   "outputs": [],
   "source": [
    "# For future author search\n",
    "\n",
    "AUTHOR_URL = 'https://api.semanticscholar.org/graph/v1/author/batch'\n",
    "AUTHOR_FIELDS = 'affiliations'\n",
    "AUTHORS_DB_PATH = 'papers.db'\n",
    "authors_schema = \"\"\"\n",
    "    authorId TEXT PRIMARY KEY,\n",
    "    name TEXT,\n",
    "    affiliation TEXT\n",
    "\"\"\""
   ]
  },
  {
   "cell_type": "code",
   "execution_count": 6,
   "id": "854a13d3",
   "metadata": {},
   "outputs": [],
   "source": [
    "import os\n",
    "import time\n",
    "import requests\n",
    "import pandas as pd\n",
    "import numpy as np\n",
    "import sqlite3\n",
    "import plotly.express as px\n",
    "import seaborn as sns\n",
    "import matplotlib.pyplot as plt\n",
    "import matplotlib.dates as mdates\n",
    "import scipy.stats as stats\n",
    "from scipy.stats import linregress\n",
    "from sklearn.linear_model import LinearRegression\n",
    "from sklearn.preprocessing import PolynomialFeatures\n",
    "\n",
    "BASE_URL = 'http://api.semanticscholar.org/graph/v1/paper/search/bulk'\n",
    "FIELDS = 'title,year,authors,url'\n",
    "PUBLICATION_TYPES = 'Review,JournalArticle,Study,Book,BookSection'\n",
    "DELAY = 5  # delay between requests to avoid rate limiting\n",
    "RETRY_DELAY = 5  # seconds before retrying on failure\n",
    "YEAR_RANGE = '2000-2024'\n",
    "PAPERS_DB_PATH = 'papers.db'\n",
    "papers_schema = \"\"\"\n",
    "    paperId TEXT PRIMARY KEY,\n",
    "    title TEXT,\n",
    "    year INTEGER,\n",
    "    authors TEXT,\n",
    "    url TEXT,\n",
    "    search_keyword TEXT,\n",
    "    firstAuthorId TEXT\n",
    "\"\"\"\n",
    "\n",
    "query_list = [\n",
    "    'urban ecology',\n",
    "    'urban biodiversity',\n",
    "    'urban ecosystem',\n",
    "    'urban green spaces',\n",
    "    'urban wildlife',\n",
    "    'urban vegetation',\n",
    "]"
   ]
  },
  {
   "cell_type": "code",
   "execution_count": 43,
   "id": "e4835c3c",
   "metadata": {},
   "outputs": [
    {
     "name": "stdout",
     "output_type": "stream",
     "text": [
      "✅ Progress trackers for \"urban ecology\" removed.\n",
      "✅ Progress trackers for \"urban biodiversity\" removed.\n",
      "✅ Progress trackers for \"urban ecosystem\" removed.\n",
      "✅ Progress trackers for \"urban green spaces\" removed.\n",
      "✅ Progress trackers for \"urban wildlife\" removed.\n",
      "✅ Progress trackers for \"urban vegetation\" removed.\n",
      "✅ Output file \"papers.db\" removed.\n"
     ]
    }
   ],
   "source": [
    "# Run this to clear the .txt progress trackers\n",
    "\n",
    "for keyword in query_list:\n",
    "    done_file = f'done_{keyword}.txt'\n",
    "    token_file = f'token_{keyword}.txt'\n",
    "    if os.path.exists(done_file):\n",
    "        os.remove(done_file)\n",
    "        print(f'✅ Progress trackers for \"{keyword}\" removed.')\n",
    "    if os.path.exists(token_file):\n",
    "        os.remove(token_file)\n",
    "        print(f'✅ Progress trackers for \"{keyword}\" removed.')\n",
    "  \n",
    "if os.path.exists(PAPERS_DB_PATH):      \n",
    "    os.remove(PAPERS_DB_PATH)\n",
    "    print(f'✅ Output file \"{PAPERS_DB_PATH}\" removed.')"
   ]
  },
  {
   "cell_type": "code",
   "execution_count": 44,
   "id": "9fa39136",
   "metadata": {},
   "outputs": [],
   "source": [
    "# === Helper functions ===\n",
    "# keeps track of keywords and tokens to allow to keep retrieving papers from \n",
    "# where you left off in case of a request/response error\n",
    "def save_token(keyword, token):\n",
    "    with open(f'token_{keyword}.txt', 'w') as f:\n",
    "        f.write(token)\n",
    "\n",
    "def load_token(keyword):\n",
    "    filename = f'token_{keyword}.txt'\n",
    "    if os.path.exists(filename):\n",
    "        with open(filename, 'r') as f:\n",
    "            return f.read().strip()\n",
    "    return None\n",
    "\n",
    "def mark_done(keyword):\n",
    "    with open(f'done_{keyword}.txt', 'w') as f:\n",
    "        f.write('completed')\n",
    "\n",
    "def is_done(keyword):\n",
    "    return os.path.exists(f'done_{keyword}.txt')\n",
    "\n",
    "def delete_token(keyword):\n",
    "    filename = f'token_{keyword}.txt'\n",
    "    if os.path.exists(filename):\n",
    "        os.remove(filename)\n"
   ]
  },
  {
   "cell_type": "code",
   "execution_count": 45,
   "id": "b2e20ba5",
   "metadata": {},
   "outputs": [],
   "source": [
    "# === Database and Dataframe setup ===\n",
    "\n",
    "def init_table(db_path, table_name, schema_sql):\n",
    "    conn = sqlite3.connect(db_path)\n",
    "    c = conn.cursor()\n",
    "    c.execute(f\"CREATE TABLE IF NOT EXISTS {table_name} ({schema_sql})\")\n",
    "    conn.commit()\n",
    "    conn.close()\n",
    "    \n",
    "def save_paper_to_db(paper, keyword):\n",
    "    conn = sqlite3.connect(PAPERS_DB_PATH)\n",
    "    c = conn.cursor()\n",
    "\n",
    "    paper_id = paper.get(\"paperId\")\n",
    "    title = paper.get(\"title\")\n",
    "    year = paper.get(\"year\")\n",
    "    url = paper.get(\"url\")\n",
    "    authors_list = paper.get(\"authors\", [])\n",
    "    authors = \", \".join([a.get(\"name\") for a in authors_list if a.get(\"name\")])\n",
    "    first_author_id = authors_list[0].get(\"authorId\") if authors_list else None\n",
    "\n",
    "    try:\n",
    "        c.execute(\"SELECT search_keyword FROM papers WHERE paperId = ?\", (paper_id,))\n",
    "        existing = c.fetchone()\n",
    "        \n",
    "        if existing:\n",
    "            existing_keywords = existing[0].split(\", \") if existing[0] else []\n",
    "            if keyword not in existing_keywords:\n",
    "                existing_keywords.append(keyword)\n",
    "                updated_keywords = \", \".join(existing_keywords)\n",
    "                c.execute(\"UPDATE papers SET search_keyword = ? WHERE paperId = ?\", \n",
    "                         (updated_keywords, paper_id))\n",
    "        else:\n",
    "            c.execute(\"\"\"\n",
    "                INSERT INTO papers \n",
    "                (paperId, title, year, authors, url, search_keyword, firstAuthorId)\n",
    "                VALUES (?, ?, ?, ?, ?, ?, ?)\n",
    "            \"\"\", (paper_id, title, year, authors, url, keyword, first_author_id))\n",
    "        \n",
    "        conn.commit()\n",
    "    except sqlite3.Error as e:\n",
    "        print(f\"❌ DB error for paper {paper_id}: {e}\")\n",
    "    finally:\n",
    "        conn.close()"
   ]
  },
  {
   "cell_type": "code",
   "execution_count": 46,
   "id": "3efc42f1",
   "metadata": {},
   "outputs": [
    {
     "name": "stdout",
     "output_type": "stream",
     "text": [
      "\n",
      "🔍 Processing keyword: \"urban ecology\"\n",
      "⏳ Starting fresh for keyword \"urban ecology\"\n",
      "📄 Retrieved 1000 papers so far for \"urban ecology\"\n",
      "📄 Retrieved 2000 papers so far for \"urban ecology\"\n",
      "📄 Retrieved 3000 papers so far for \"urban ecology\"\n",
      "📄 Retrieved 4000 papers so far for \"urban ecology\"\n",
      "📄 Retrieved 5000 papers so far for \"urban ecology\"\n",
      "📄 Retrieved 5472 papers so far for \"urban ecology\"\n",
      "✅ Completed all pages for \"urban ecology\"\n",
      "\n",
      "🔍 Processing keyword: \"urban biodiversity\"\n",
      "⏳ Starting fresh for keyword \"urban biodiversity\"\n",
      "📄 Retrieved 1000 papers so far for \"urban biodiversity\"\n",
      "📄 Retrieved 2000 papers so far for \"urban biodiversity\"\n",
      "📄 Retrieved 3000 papers so far for \"urban biodiversity\"\n",
      "📄 Retrieved 4000 papers so far for \"urban biodiversity\"\n",
      "📄 Retrieved 5000 papers so far for \"urban biodiversity\"\n",
      "📄 Retrieved 5844 papers so far for \"urban biodiversity\"\n",
      "✅ Completed all pages for \"urban biodiversity\"\n",
      "\n",
      "🔍 Processing keyword: \"urban ecosystem\"\n",
      "⏳ Starting fresh for keyword \"urban ecosystem\"\n",
      "📄 Retrieved 1000 papers so far for \"urban ecosystem\"\n",
      "📄 Retrieved 2000 papers so far for \"urban ecosystem\"\n",
      "📄 Retrieved 3000 papers so far for \"urban ecosystem\"\n",
      "📄 Retrieved 4000 papers so far for \"urban ecosystem\"\n",
      "📄 Retrieved 5000 papers so far for \"urban ecosystem\"\n",
      "📄 Retrieved 6000 papers so far for \"urban ecosystem\"\n",
      "📄 Retrieved 7000 papers so far for \"urban ecosystem\"\n",
      "📄 Retrieved 8000 papers so far for \"urban ecosystem\"\n",
      "📄 Retrieved 9000 papers so far for \"urban ecosystem\"\n",
      "📄 Retrieved 10000 papers so far for \"urban ecosystem\"\n",
      "📄 Retrieved 11000 papers so far for \"urban ecosystem\"\n",
      "📄 Retrieved 12000 papers so far for \"urban ecosystem\"\n",
      "📄 Retrieved 13000 papers so far for \"urban ecosystem\"\n",
      "📄 Retrieved 13950 papers so far for \"urban ecosystem\"\n",
      "✅ Completed all pages for \"urban ecosystem\"\n",
      "\n",
      "🔍 Processing keyword: \"urban green spaces\"\n",
      "⏳ Starting fresh for keyword \"urban green spaces\"\n",
      "📄 Retrieved 1000 papers so far for \"urban green spaces\"\n",
      "📄 Retrieved 2000 papers so far for \"urban green spaces\"\n",
      "📄 Retrieved 3000 papers so far for \"urban green spaces\"\n",
      "📄 Retrieved 4000 papers so far for \"urban green spaces\"\n",
      "📄 Retrieved 5000 papers so far for \"urban green spaces\"\n",
      "📄 Retrieved 6000 papers so far for \"urban green spaces\"\n",
      "📄 Retrieved 7000 papers so far for \"urban green spaces\"\n",
      "📄 Retrieved 8000 papers so far for \"urban green spaces\"\n",
      "📄 Retrieved 9000 papers so far for \"urban green spaces\"\n",
      "📄 Retrieved 9342 papers so far for \"urban green spaces\"\n",
      "✅ Completed all pages for \"urban green spaces\"\n",
      "\n",
      "🔍 Processing keyword: \"urban wildlife\"\n",
      "⏳ Starting fresh for keyword \"urban wildlife\"\n",
      "📄 Retrieved 1000 papers so far for \"urban wildlife\"\n",
      "📄 Retrieved 2000 papers so far for \"urban wildlife\"\n",
      "📄 Retrieved 2982 papers so far for \"urban wildlife\"\n",
      "✅ Completed all pages for \"urban wildlife\"\n",
      "\n",
      "🔍 Processing keyword: \"urban vegetation\"\n",
      "⏳ Starting fresh for keyword \"urban vegetation\"\n",
      "📄 Retrieved 1000 papers so far for \"urban vegetation\"\n",
      "📄 Retrieved 2000 papers so far for \"urban vegetation\"\n",
      "📄 Retrieved 3000 papers so far for \"urban vegetation\"\n",
      "📄 Retrieved 4000 papers so far for \"urban vegetation\"\n",
      "📄 Retrieved 5000 papers so far for \"urban vegetation\"\n",
      "📄 Retrieved 6000 papers so far for \"urban vegetation\"\n",
      "📄 Retrieved 7000 papers so far for \"urban vegetation\"\n",
      "📄 Retrieved 8000 papers so far for \"urban vegetation\"\n",
      "📄 Retrieved 9000 papers so far for \"urban vegetation\"\n",
      "📄 Retrieved 9005 papers so far for \"urban vegetation\"\n",
      "✅ Completed all pages for \"urban vegetation\"\n",
      "\n",
      "🎉 All keywords processed.\n"
     ]
    }
   ],
   "source": [
    "# === Main loop over keywords ===\n",
    "\n",
    "init_table(PAPERS_DB_PATH, \"papers\", papers_schema)\n",
    "\n",
    "for keyword in query_list:\n",
    "    print(f'\\n🔍 Processing keyword: \"{keyword}\"')\n",
    "\n",
    "    if is_done(keyword):\n",
    "        print(f'✅ Keyword \"{keyword}\" already completed. Skipping.')\n",
    "        continue\n",
    "\n",
    "    token = load_token(keyword)\n",
    "    if token:\n",
    "        print(f'🔄 Resuming from saved token for \"{keyword}\": {token}')\n",
    "    else:\n",
    "        print(f'⏳ Starting fresh for keyword \"{keyword}\"')\n",
    "\n",
    "    retrieved = 0\n",
    "\n",
    "    while True:\n",
    "        params = {\n",
    "            'query': keyword,\n",
    "            'fields': FIELDS,\n",
    "            'publicationTypes': PUBLICATION_TYPES,\n",
    "            'limit': 1000\n",
    "        }\n",
    "        if YEAR_RANGE:\n",
    "            params['year'] = YEAR_RANGE\n",
    "        if token:\n",
    "            params['token'] = token\n",
    "\n",
    "        # Retry logic\n",
    "        for attempt in range(2):\n",
    "            try:\n",
    "                response = requests.get(BASE_URL, params=params, timeout=15)\n",
    "                response.raise_for_status()\n",
    "                data = response.json()\n",
    "                break\n",
    "            except requests.exceptions.RequestException as e:\n",
    "                print(f'❌ Request error on attempt {attempt+1} for \"{keyword}\": {e}')\n",
    "                if attempt == 0:\n",
    "                    print(f'⏳ Retrying after {RETRY_DELAY} seconds...')\n",
    "                    time.sleep(RETRY_DELAY)\n",
    "                else:\n",
    "                    print('⚠️ Skipping this batch due to repeated failure.')\n",
    "                    data = None\n",
    "\n",
    "        if data is None:\n",
    "            print(f'⚠️ No data retrieved for keyword \"{keyword}\", breaking loop.')\n",
    "            break\n",
    "\n",
    "        papers = data.get('data', [])\n",
    "        if not papers:\n",
    "            print(f'⚠️ No papers returned, assuming end of results for \"{keyword}\"')\n",
    "            break\n",
    "\n",
    "        retrieved += len(papers)\n",
    "        print(f'📄 Retrieved {retrieved} papers so far for \"{keyword}\"')\n",
    "\n",
    "        for paper in papers:\n",
    "            save_paper_to_db(paper, keyword)\n",
    "\n",
    "        token = data.get('token')\n",
    "        if token:\n",
    "            token = data['token']\n",
    "            save_token(keyword, token)\n",
    "            time.sleep(DELAY)\n",
    "        else:\n",
    "            print(f'✅ Completed all pages for \"{keyword}\"')\n",
    "            delete_token(keyword)\n",
    "            mark_done(keyword)\n",
    "            break\n",
    "\n",
    "print('\\n🎉 All keywords processed.')"
   ]
  },
  {
   "cell_type": "code",
   "execution_count": 4,
   "id": "9cb32e8b",
   "metadata": {},
   "outputs": [
    {
     "data": {
      "application/vnd.microsoft.datawrangler.viewer.v0+json": {
       "columns": [
        {
         "name": "index",
         "rawType": "int64",
         "type": "integer"
        },
        {
         "name": "year",
         "rawType": "int64",
         "type": "integer"
        },
        {
         "name": "search_keyword",
         "rawType": "object",
         "type": "string"
        },
        {
         "name": "paper_count",
         "rawType": "int64",
         "type": "integer"
        }
       ],
       "ref": "92e78525-4226-43dc-bd12-e614ec4ce390",
       "rows": [
        [
         "0",
         "2000",
         "urban biodiversity",
         "16"
        ],
        [
         "1",
         "2000",
         "urban ecology",
         "47"
        ],
        [
         "2",
         "2000",
         "urban ecosystem",
         "46"
        ],
        [
         "3",
         "2000",
         "urban green spaces",
         "9"
        ],
        [
         "4",
         "2000",
         "urban vegetation",
         "45"
        ]
       ],
       "shape": {
        "columns": 3,
        "rows": 5
       }
      },
      "text/html": [
       "<div>\n",
       "<style scoped>\n",
       "    .dataframe tbody tr th:only-of-type {\n",
       "        vertical-align: middle;\n",
       "    }\n",
       "\n",
       "    .dataframe tbody tr th {\n",
       "        vertical-align: top;\n",
       "    }\n",
       "\n",
       "    .dataframe thead th {\n",
       "        text-align: right;\n",
       "    }\n",
       "</style>\n",
       "<table border=\"1\" class=\"dataframe\">\n",
       "  <thead>\n",
       "    <tr style=\"text-align: right;\">\n",
       "      <th></th>\n",
       "      <th>year</th>\n",
       "      <th>search_keyword</th>\n",
       "      <th>paper_count</th>\n",
       "    </tr>\n",
       "  </thead>\n",
       "  <tbody>\n",
       "    <tr>\n",
       "      <th>0</th>\n",
       "      <td>2000</td>\n",
       "      <td>urban biodiversity</td>\n",
       "      <td>16</td>\n",
       "    </tr>\n",
       "    <tr>\n",
       "      <th>1</th>\n",
       "      <td>2000</td>\n",
       "      <td>urban ecology</td>\n",
       "      <td>47</td>\n",
       "    </tr>\n",
       "    <tr>\n",
       "      <th>2</th>\n",
       "      <td>2000</td>\n",
       "      <td>urban ecosystem</td>\n",
       "      <td>46</td>\n",
       "    </tr>\n",
       "    <tr>\n",
       "      <th>3</th>\n",
       "      <td>2000</td>\n",
       "      <td>urban green spaces</td>\n",
       "      <td>9</td>\n",
       "    </tr>\n",
       "    <tr>\n",
       "      <th>4</th>\n",
       "      <td>2000</td>\n",
       "      <td>urban vegetation</td>\n",
       "      <td>45</td>\n",
       "    </tr>\n",
       "  </tbody>\n",
       "</table>\n",
       "</div>"
      ],
      "text/plain": [
       "   year      search_keyword  paper_count\n",
       "0  2000  urban biodiversity           16\n",
       "1  2000       urban ecology           47\n",
       "2  2000     urban ecosystem           46\n",
       "3  2000  urban green spaces            9\n",
       "4  2000    urban vegetation           45"
      ]
     },
     "execution_count": 4,
     "metadata": {},
     "output_type": "execute_result"
    }
   ],
   "source": [
    "with sqlite3.connect(PAPERS_DB_PATH) as conn:\n",
    "    df_raw = pd.read_sql_query(\"\"\"\n",
    "    SELECT year, search_keyword\n",
    "    FROM papers\n",
    "    WHERE year < 2025 AND search_keyword IS NOT NULL AND search_keyword != ''\n",
    "    \"\"\", conn)\n",
    "\n",
    "rows = []\n",
    "for _, row in df_raw.iterrows():\n",
    "    keywords = [k.strip() for k in row['search_keyword'].split(',')]\n",
    "    for keyword in keywords:\n",
    "        if keyword:\n",
    "            rows.append({'year': row['year'], 'search_keyword': keyword})\n",
    "\n",
    "df_expanded = pd.DataFrame(rows)\n",
    "df_keywords = df_expanded.groupby(['year', 'search_keyword']).size().reset_index(name='paper_count')\n",
    "df_keywords = df_keywords.sort_values('year')\n",
    "df_keywords.head()"
   ]
  },
  {
   "cell_type": "code",
   "execution_count": 60,
   "id": "8aa91fc8",
   "metadata": {},
   "outputs": [
    {
     "data": {
      "application/vnd.plotly.v1+json": {
       "config": {
        "plotlyServerURL": "https://plot.ly"
       },
       "data": [
        {
         "hovertemplate": "search_keyword=urban biodiversity<br>year=%{x}<br>paper_count=%{y}<extra></extra>",
         "legendgroup": "urban biodiversity",
         "line": {
          "color": "#636efa",
          "dash": "solid"
         },
         "marker": {
          "symbol": "circle"
         },
         "mode": "lines+markers",
         "name": "urban biodiversity",
         "orientation": "v",
         "showlegend": true,
         "type": "scatter",
         "x": {
          "bdata": "0AfRB9IH0wfUB9UH1gfXB9gH2QfaB9sH3AfdB94H3wfgB+EH4gfjB+QH5QfmB+cH6Ac=",
          "dtype": "i2"
         },
         "xaxis": "x",
         "y": {
          "bdata": "EAATABEAIQA0ADoASQBDAE8AVwByAH4AhgCxALwA3ADiAN8AIAFMAXUBmAGcAWgD4gQ=",
          "dtype": "i2"
         },
         "yaxis": "y"
        },
        {
         "hovertemplate": "search_keyword=urban ecology<br>year=%{x}<br>paper_count=%{y}<extra></extra>",
         "legendgroup": "urban ecology",
         "line": {
          "color": "#EF553B",
          "dash": "solid"
         },
         "marker": {
          "symbol": "circle"
         },
         "mode": "lines+markers",
         "name": "urban ecology",
         "orientation": "v",
         "showlegend": true,
         "type": "scatter",
         "x": {
          "bdata": "0AfRB9IH0wfUB9UH1gfXB9gH2QfaB9sH3AfdB94H3wfgB+EH4gfjB+QH5QfmB+cH6Ac=",
          "dtype": "i2"
         },
         "xaxis": "x",
         "y": {
          "bdata": "LwAxADcAWABWAD0AaQBvAI4AhwCYAK4AwgDWAMwA+QDUAOQACgE8AUYBSQFfAXMC7wI=",
          "dtype": "i2"
         },
         "yaxis": "y"
        },
        {
         "hovertemplate": "search_keyword=urban ecosystem<br>year=%{x}<br>paper_count=%{y}<extra></extra>",
         "legendgroup": "urban ecosystem",
         "line": {
          "color": "#00cc96",
          "dash": "solid"
         },
         "marker": {
          "symbol": "circle"
         },
         "mode": "lines+markers",
         "name": "urban ecosystem",
         "orientation": "v",
         "showlegend": true,
         "type": "scatter",
         "x": {
          "bdata": "0AfRB9IH0wfUB9UH1gfXB9gH2QfaB9sH3AfdB94H3wfgB+EH4gfjB+QH5QfmB+cH6Ac=",
          "dtype": "i2"
         },
         "xaxis": "x",
         "y": {
          "bdata": "LgA8AEwAZABnAHwAggB9ALYA0ADgADIBMwGCAZwB4wEWAhwCoQLtAl0D/gP7A+8IsQs=",
          "dtype": "i2"
         },
         "yaxis": "y"
        },
        {
         "hovertemplate": "search_keyword=urban green spaces<br>year=%{x}<br>paper_count=%{y}<extra></extra>",
         "legendgroup": "urban green spaces",
         "line": {
          "color": "#ab63fa",
          "dash": "solid"
         },
         "marker": {
          "symbol": "circle"
         },
         "mode": "lines+markers",
         "name": "urban green spaces",
         "orientation": "v",
         "showlegend": true,
         "type": "scatter",
         "x": {
          "bdata": "0AfRB9IH0wfUB9UH1gfXB9gH2QfaB9sH3AfdB94H3wfgB+EH4gfjB+QH5QfmB+cH6Ac=",
          "dtype": "i2"
         },
         "xaxis": "x",
         "y": {
          "bdata": "CQASABoAIwAsADQARgA9AEMAaQB/ALEAvwDFAOsAIQEZAU4BowHwASQCewLRArQGuQk=",
          "dtype": "i2"
         },
         "yaxis": "y"
        },
        {
         "hovertemplate": "search_keyword=urban vegetation<br>year=%{x}<br>paper_count=%{y}<extra></extra>",
         "legendgroup": "urban vegetation",
         "line": {
          "color": "#FFA15A",
          "dash": "solid"
         },
         "marker": {
          "symbol": "circle"
         },
         "mode": "lines+markers",
         "name": "urban vegetation",
         "orientation": "v",
         "showlegend": true,
         "type": "scatter",
         "x": {
          "bdata": "0AfRB9IH0wfUB9UH1gfXB9gH2QfaB9sH3AfdB94H3wfgB+EH4gfjB+QH5QfmB+cH6Ac=",
          "dtype": "i2"
         },
         "xaxis": "x",
         "y": {
          "bdata": "LQAwAEkATABSAGkAeACFAJ4AiACyAMYA5gAUAS8BQgFUAYIBqgEMAvUBIQJKAoYFCAc=",
          "dtype": "i2"
         },
         "yaxis": "y"
        },
        {
         "hovertemplate": "search_keyword=urban wildlife<br>year=%{x}<br>paper_count=%{y}<extra></extra>",
         "legendgroup": "urban wildlife",
         "line": {
          "color": "#19d3f3",
          "dash": "solid"
         },
         "marker": {
          "symbol": "circle"
         },
         "mode": "lines+markers",
         "name": "urban wildlife",
         "orientation": "v",
         "showlegend": true,
         "type": "scatter",
         "x": {
          "bdata": "0AfRB9IH0wfUB9UH1gfXB9gH2QfaB9sH3AfdB94H3wfgB+EH4gfjB+QH5QfmB+cH6Ac=",
          "dtype": "i2"
         },
         "xaxis": "x",
         "y": {
          "bdata": "GQAiACEAMgA4ACMANwBDAEMAQgBCAFEAXwBrAH0AYwB7AHoApwCmAOcA1AC8AEIBhgE=",
          "dtype": "i2"
         },
         "yaxis": "y"
        }
       ],
       "layout": {
        "font": {
         "size": 12
        },
        "height": 600,
        "legend": {
         "title": {
          "text": "Keyword"
         },
         "tracegroupgap": 0
        },
        "template": {
         "data": {
          "bar": [
           {
            "error_x": {
             "color": "#f2f5fa"
            },
            "error_y": {
             "color": "#f2f5fa"
            },
            "marker": {
             "line": {
              "color": "rgb(17,17,17)",
              "width": 0.5
             },
             "pattern": {
              "fillmode": "overlay",
              "size": 10,
              "solidity": 0.2
             }
            },
            "type": "bar"
           }
          ],
          "barpolar": [
           {
            "marker": {
             "line": {
              "color": "rgb(17,17,17)",
              "width": 0.5
             },
             "pattern": {
              "fillmode": "overlay",
              "size": 10,
              "solidity": 0.2
             }
            },
            "type": "barpolar"
           }
          ],
          "carpet": [
           {
            "aaxis": {
             "endlinecolor": "#A2B1C6",
             "gridcolor": "#506784",
             "linecolor": "#506784",
             "minorgridcolor": "#506784",
             "startlinecolor": "#A2B1C6"
            },
            "baxis": {
             "endlinecolor": "#A2B1C6",
             "gridcolor": "#506784",
             "linecolor": "#506784",
             "minorgridcolor": "#506784",
             "startlinecolor": "#A2B1C6"
            },
            "type": "carpet"
           }
          ],
          "choropleth": [
           {
            "colorbar": {
             "outlinewidth": 0,
             "ticks": ""
            },
            "type": "choropleth"
           }
          ],
          "contour": [
           {
            "colorbar": {
             "outlinewidth": 0,
             "ticks": ""
            },
            "colorscale": [
             [
              0,
              "#0d0887"
             ],
             [
              0.1111111111111111,
              "#46039f"
             ],
             [
              0.2222222222222222,
              "#7201a8"
             ],
             [
              0.3333333333333333,
              "#9c179e"
             ],
             [
              0.4444444444444444,
              "#bd3786"
             ],
             [
              0.5555555555555556,
              "#d8576b"
             ],
             [
              0.6666666666666666,
              "#ed7953"
             ],
             [
              0.7777777777777778,
              "#fb9f3a"
             ],
             [
              0.8888888888888888,
              "#fdca26"
             ],
             [
              1,
              "#f0f921"
             ]
            ],
            "type": "contour"
           }
          ],
          "contourcarpet": [
           {
            "colorbar": {
             "outlinewidth": 0,
             "ticks": ""
            },
            "type": "contourcarpet"
           }
          ],
          "heatmap": [
           {
            "colorbar": {
             "outlinewidth": 0,
             "ticks": ""
            },
            "colorscale": [
             [
              0,
              "#0d0887"
             ],
             [
              0.1111111111111111,
              "#46039f"
             ],
             [
              0.2222222222222222,
              "#7201a8"
             ],
             [
              0.3333333333333333,
              "#9c179e"
             ],
             [
              0.4444444444444444,
              "#bd3786"
             ],
             [
              0.5555555555555556,
              "#d8576b"
             ],
             [
              0.6666666666666666,
              "#ed7953"
             ],
             [
              0.7777777777777778,
              "#fb9f3a"
             ],
             [
              0.8888888888888888,
              "#fdca26"
             ],
             [
              1,
              "#f0f921"
             ]
            ],
            "type": "heatmap"
           }
          ],
          "histogram": [
           {
            "marker": {
             "pattern": {
              "fillmode": "overlay",
              "size": 10,
              "solidity": 0.2
             }
            },
            "type": "histogram"
           }
          ],
          "histogram2d": [
           {
            "colorbar": {
             "outlinewidth": 0,
             "ticks": ""
            },
            "colorscale": [
             [
              0,
              "#0d0887"
             ],
             [
              0.1111111111111111,
              "#46039f"
             ],
             [
              0.2222222222222222,
              "#7201a8"
             ],
             [
              0.3333333333333333,
              "#9c179e"
             ],
             [
              0.4444444444444444,
              "#bd3786"
             ],
             [
              0.5555555555555556,
              "#d8576b"
             ],
             [
              0.6666666666666666,
              "#ed7953"
             ],
             [
              0.7777777777777778,
              "#fb9f3a"
             ],
             [
              0.8888888888888888,
              "#fdca26"
             ],
             [
              1,
              "#f0f921"
             ]
            ],
            "type": "histogram2d"
           }
          ],
          "histogram2dcontour": [
           {
            "colorbar": {
             "outlinewidth": 0,
             "ticks": ""
            },
            "colorscale": [
             [
              0,
              "#0d0887"
             ],
             [
              0.1111111111111111,
              "#46039f"
             ],
             [
              0.2222222222222222,
              "#7201a8"
             ],
             [
              0.3333333333333333,
              "#9c179e"
             ],
             [
              0.4444444444444444,
              "#bd3786"
             ],
             [
              0.5555555555555556,
              "#d8576b"
             ],
             [
              0.6666666666666666,
              "#ed7953"
             ],
             [
              0.7777777777777778,
              "#fb9f3a"
             ],
             [
              0.8888888888888888,
              "#fdca26"
             ],
             [
              1,
              "#f0f921"
             ]
            ],
            "type": "histogram2dcontour"
           }
          ],
          "mesh3d": [
           {
            "colorbar": {
             "outlinewidth": 0,
             "ticks": ""
            },
            "type": "mesh3d"
           }
          ],
          "parcoords": [
           {
            "line": {
             "colorbar": {
              "outlinewidth": 0,
              "ticks": ""
             }
            },
            "type": "parcoords"
           }
          ],
          "pie": [
           {
            "automargin": true,
            "type": "pie"
           }
          ],
          "scatter": [
           {
            "marker": {
             "line": {
              "color": "#283442"
             }
            },
            "type": "scatter"
           }
          ],
          "scatter3d": [
           {
            "line": {
             "colorbar": {
              "outlinewidth": 0,
              "ticks": ""
             }
            },
            "marker": {
             "colorbar": {
              "outlinewidth": 0,
              "ticks": ""
             }
            },
            "type": "scatter3d"
           }
          ],
          "scattercarpet": [
           {
            "marker": {
             "colorbar": {
              "outlinewidth": 0,
              "ticks": ""
             }
            },
            "type": "scattercarpet"
           }
          ],
          "scattergeo": [
           {
            "marker": {
             "colorbar": {
              "outlinewidth": 0,
              "ticks": ""
             }
            },
            "type": "scattergeo"
           }
          ],
          "scattergl": [
           {
            "marker": {
             "line": {
              "color": "#283442"
             }
            },
            "type": "scattergl"
           }
          ],
          "scattermap": [
           {
            "marker": {
             "colorbar": {
              "outlinewidth": 0,
              "ticks": ""
             }
            },
            "type": "scattermap"
           }
          ],
          "scattermapbox": [
           {
            "marker": {
             "colorbar": {
              "outlinewidth": 0,
              "ticks": ""
             }
            },
            "type": "scattermapbox"
           }
          ],
          "scatterpolar": [
           {
            "marker": {
             "colorbar": {
              "outlinewidth": 0,
              "ticks": ""
             }
            },
            "type": "scatterpolar"
           }
          ],
          "scatterpolargl": [
           {
            "marker": {
             "colorbar": {
              "outlinewidth": 0,
              "ticks": ""
             }
            },
            "type": "scatterpolargl"
           }
          ],
          "scatterternary": [
           {
            "marker": {
             "colorbar": {
              "outlinewidth": 0,
              "ticks": ""
             }
            },
            "type": "scatterternary"
           }
          ],
          "surface": [
           {
            "colorbar": {
             "outlinewidth": 0,
             "ticks": ""
            },
            "colorscale": [
             [
              0,
              "#0d0887"
             ],
             [
              0.1111111111111111,
              "#46039f"
             ],
             [
              0.2222222222222222,
              "#7201a8"
             ],
             [
              0.3333333333333333,
              "#9c179e"
             ],
             [
              0.4444444444444444,
              "#bd3786"
             ],
             [
              0.5555555555555556,
              "#d8576b"
             ],
             [
              0.6666666666666666,
              "#ed7953"
             ],
             [
              0.7777777777777778,
              "#fb9f3a"
             ],
             [
              0.8888888888888888,
              "#fdca26"
             ],
             [
              1,
              "#f0f921"
             ]
            ],
            "type": "surface"
           }
          ],
          "table": [
           {
            "cells": {
             "fill": {
              "color": "#506784"
             },
             "line": {
              "color": "rgb(17,17,17)"
             }
            },
            "header": {
             "fill": {
              "color": "#2a3f5f"
             },
             "line": {
              "color": "rgb(17,17,17)"
             }
            },
            "type": "table"
           }
          ]
         },
         "layout": {
          "annotationdefaults": {
           "arrowcolor": "#f2f5fa",
           "arrowhead": 0,
           "arrowwidth": 1
          },
          "autotypenumbers": "strict",
          "coloraxis": {
           "colorbar": {
            "outlinewidth": 0,
            "ticks": ""
           }
          },
          "colorscale": {
           "diverging": [
            [
             0,
             "#8e0152"
            ],
            [
             0.1,
             "#c51b7d"
            ],
            [
             0.2,
             "#de77ae"
            ],
            [
             0.3,
             "#f1b6da"
            ],
            [
             0.4,
             "#fde0ef"
            ],
            [
             0.5,
             "#f7f7f7"
            ],
            [
             0.6,
             "#e6f5d0"
            ],
            [
             0.7,
             "#b8e186"
            ],
            [
             0.8,
             "#7fbc41"
            ],
            [
             0.9,
             "#4d9221"
            ],
            [
             1,
             "#276419"
            ]
           ],
           "sequential": [
            [
             0,
             "#0d0887"
            ],
            [
             0.1111111111111111,
             "#46039f"
            ],
            [
             0.2222222222222222,
             "#7201a8"
            ],
            [
             0.3333333333333333,
             "#9c179e"
            ],
            [
             0.4444444444444444,
             "#bd3786"
            ],
            [
             0.5555555555555556,
             "#d8576b"
            ],
            [
             0.6666666666666666,
             "#ed7953"
            ],
            [
             0.7777777777777778,
             "#fb9f3a"
            ],
            [
             0.8888888888888888,
             "#fdca26"
            ],
            [
             1,
             "#f0f921"
            ]
           ],
           "sequentialminus": [
            [
             0,
             "#0d0887"
            ],
            [
             0.1111111111111111,
             "#46039f"
            ],
            [
             0.2222222222222222,
             "#7201a8"
            ],
            [
             0.3333333333333333,
             "#9c179e"
            ],
            [
             0.4444444444444444,
             "#bd3786"
            ],
            [
             0.5555555555555556,
             "#d8576b"
            ],
            [
             0.6666666666666666,
             "#ed7953"
            ],
            [
             0.7777777777777778,
             "#fb9f3a"
            ],
            [
             0.8888888888888888,
             "#fdca26"
            ],
            [
             1,
             "#f0f921"
            ]
           ]
          },
          "colorway": [
           "#636efa",
           "#EF553B",
           "#00cc96",
           "#ab63fa",
           "#FFA15A",
           "#19d3f3",
           "#FF6692",
           "#B6E880",
           "#FF97FF",
           "#FECB52"
          ],
          "font": {
           "color": "#f2f5fa"
          },
          "geo": {
           "bgcolor": "rgb(17,17,17)",
           "lakecolor": "rgb(17,17,17)",
           "landcolor": "rgb(17,17,17)",
           "showlakes": true,
           "showland": true,
           "subunitcolor": "#506784"
          },
          "hoverlabel": {
           "align": "left"
          },
          "hovermode": "closest",
          "mapbox": {
           "style": "dark"
          },
          "paper_bgcolor": "rgb(17,17,17)",
          "plot_bgcolor": "rgb(17,17,17)",
          "polar": {
           "angularaxis": {
            "gridcolor": "#506784",
            "linecolor": "#506784",
            "ticks": ""
           },
           "bgcolor": "rgb(17,17,17)",
           "radialaxis": {
            "gridcolor": "#506784",
            "linecolor": "#506784",
            "ticks": ""
           }
          },
          "scene": {
           "xaxis": {
            "backgroundcolor": "rgb(17,17,17)",
            "gridcolor": "#506784",
            "gridwidth": 2,
            "linecolor": "#506784",
            "showbackground": true,
            "ticks": "",
            "zerolinecolor": "#C8D4E3"
           },
           "yaxis": {
            "backgroundcolor": "rgb(17,17,17)",
            "gridcolor": "#506784",
            "gridwidth": 2,
            "linecolor": "#506784",
            "showbackground": true,
            "ticks": "",
            "zerolinecolor": "#C8D4E3"
           },
           "zaxis": {
            "backgroundcolor": "rgb(17,17,17)",
            "gridcolor": "#506784",
            "gridwidth": 2,
            "linecolor": "#506784",
            "showbackground": true,
            "ticks": "",
            "zerolinecolor": "#C8D4E3"
           }
          },
          "shapedefaults": {
           "line": {
            "color": "#f2f5fa"
           }
          },
          "sliderdefaults": {
           "bgcolor": "#C8D4E3",
           "bordercolor": "rgb(17,17,17)",
           "borderwidth": 1,
           "tickwidth": 0
          },
          "ternary": {
           "aaxis": {
            "gridcolor": "#506784",
            "linecolor": "#506784",
            "ticks": ""
           },
           "baxis": {
            "gridcolor": "#506784",
            "linecolor": "#506784",
            "ticks": ""
           },
           "bgcolor": "rgb(17,17,17)",
           "caxis": {
            "gridcolor": "#506784",
            "linecolor": "#506784",
            "ticks": ""
           }
          },
          "title": {
           "x": 0.05
          },
          "updatemenudefaults": {
           "bgcolor": "#506784",
           "borderwidth": 0
          },
          "xaxis": {
           "automargin": true,
           "gridcolor": "#283442",
           "linecolor": "#506784",
           "ticks": "",
           "title": {
            "standoff": 15
           },
           "zerolinecolor": "#283442",
           "zerolinewidth": 2
          },
          "yaxis": {
           "automargin": true,
           "gridcolor": "#283442",
           "linecolor": "#506784",
           "ticks": "",
           "title": {
            "standoff": 15
           },
           "zerolinecolor": "#283442",
           "zerolinewidth": 2
          }
         }
        },
        "title": {
         "text": "Research Papers Published by Year"
        },
        "width": 800,
        "xaxis": {
         "anchor": "y",
         "domain": [
          0,
          1
         ],
         "dtick": 1,
         "showgrid": true,
         "tickangle": 45,
         "title": {
          "text": "Year"
         }
        },
        "yaxis": {
         "anchor": "x",
         "domain": [
          0,
          1
         ],
         "showgrid": true,
         "title": {
          "text": "Number of Papers"
         }
        }
       }
      }
     },
     "metadata": {},
     "output_type": "display_data"
    }
   ],
   "source": [
    "fig = px.line(\n",
    "    df_keywords,\n",
    "    x='year',\n",
    "    y='paper_count',\n",
    "    color='search_keyword',\n",
    "    title='Research Papers Published by Year',\n",
    "    markers=True,\n",
    ")\n",
    "\n",
    "fig.update_layout(\n",
    "    xaxis_title='Year',\n",
    "    yaxis_title='Number of Papers',\n",
    "    legend_title='Keyword',\n",
    "    font=dict(size=12),\n",
    "    width=800,\n",
    "    height=600,\n",
    "    template='plotly_dark',\n",
    "    xaxis=dict(showgrid=True,\n",
    "               dtick=1,\n",
    "               tickangle=45),\n",
    "    yaxis=dict(showgrid=True),\n",
    ")\n",
    "\n",
    "fig.show()\n"
   ]
  },
  {
   "cell_type": "code",
   "execution_count": null,
   "id": "4197d3ef",
   "metadata": {},
   "outputs": [],
   "source": [
    "df_keyword_pivot = df_keywords.pivot(index='year', columns='search_keyword', values='paper_count')\n",
    "df_rate = df_keyword_pivot.pct_change()\n",
    "df_rate.fillna(0, inplace=True)\n",
    "df_rate.reset_index(inplace=True)"
   ]
  },
  {
   "cell_type": "code",
   "execution_count": null,
   "id": "437237d0",
   "metadata": {},
   "outputs": [
    {
     "data": {
      "application/vnd.plotly.v1+json": {
       "config": {
        "plotlyServerURL": "https://plot.ly"
       },
       "data": [
        {
         "hovertemplate": "search_keyword=urban biodiversity<br>year=%{x}<br>growth_rolling_avg=%{y}<extra></extra>",
         "legendgroup": "urban biodiversity",
         "line": {
          "color": "#636efa",
          "dash": "solid"
         },
         "marker": {
          "symbol": "circle"
         },
         "mode": "lines+markers",
         "name": "urban biodiversity",
         "orientation": "v",
         "showlegend": true,
         "type": "scatter",
         "x": {
          "bdata": "0AfRB9IH0wfUB9UH1gfXB9gH2QfaB9sH3AfdB94H3wfgB+EH4gfjB+QH5QfmB+cH6Ac=",
          "dtype": "i2"
         },
         "xaxis": "x5",
         "y": {
          "bdata": "AAAAAAAAAAAAAAAAAAAAABVswRZswZY/F2zBFmzB0j9U+XHzP8rdP3ir6zugXeA/J7k08gyb0D+AZn4xm7axP7vDdQAu+LE/i+WqwaYjtT+onpND/0/NP1VQZKET28g/fZ6C++LXyD89jF660LPHP1jXS5MehsY/BeF9mJAGyD/l25Zkebm2P6BlFwdK564/1Z177fHLvz+9yU0NNkXAP60rD5onyMY/MEoCZMjEvz8lVNG/iPG5P2T6xPc96Ns/SgO++9KQ4D8=",
          "dtype": "f8"
         },
         "yaxis": "y5"
        },
        {
         "hovertemplate": "search_keyword=urban ecology<br>year=%{x}<br>growth_rolling_avg=%{y}<extra></extra>",
         "legendgroup": "urban ecology",
         "line": {
          "color": "#EF553B",
          "dash": "solid"
         },
         "marker": {
          "symbol": "circle"
         },
         "mode": "lines+markers",
         "name": "urban ecology",
         "orientation": "v",
         "showlegend": true,
         "type": "scatter",
         "x": {
          "bdata": "0AfRB9IH0wfUB9UH1gfXB9gH2QfaB9sH3AfdB94H3wfgB+EH4gfjB+QH5QfmB+cH6Ac=",
          "dtype": "i2"
         },
         "xaxis": "x6",
         "y": {
          "bdata": "14JYYKOJ4D8rS5/EPwfDP1W1CgsOKaw/2+NilDq10D+XIw7KeynOP2De9wakEbk//e360lSiwT8k8Kntr67EP9Q3hCixv9Y/rXsRw3nWtz8oPhBrBF2/P+3qVPTV47I/cDAhj9ZzwD9QnEXu4PS+PxsRZft8PK0/uBaTGhyitz/VApPbWz+BP4Wtk1LeKqk/9Z2/kv/tnz+og/3n3TDCP2AHSerwdcA/QLKnIAZ8sz/VppbdVPGiPw1+Yl23RtI/SwQoyII+1j8=",
          "dtype": "f8"
         },
         "yaxis": "y6"
        },
        {
         "hovertemplate": "search_keyword=urban ecosystem<br>year=%{x}<br>growth_rolling_avg=%{y}<extra></extra>",
         "legendgroup": "urban ecosystem",
         "line": {
          "color": "#00cc96",
          "dash": "solid"
         },
         "marker": {
          "symbol": "circle"
         },
         "mode": "lines+markers",
         "name": "urban ecosystem",
         "orientation": "v",
         "showlegend": true,
         "type": "scatter",
         "x": {
          "bdata": "0AfRB9IH0wfUB9UH1gfXB9gH2QfaB9sH3AfdB94H3wfgB+EH4gfjB+QH5QfmB+cH6Ac=",
          "dtype": "i2"
         },
         "xaxis": "x3",
         "y": {
          "bdata": "IN0cuVDR1D/VIoWV7SbLPzi1HcrZZsw/Uzsam80+1D/xH1Il0MnBP19YtP/j4sk/073sCZdRvT/tfJW5NFG+P39ibiM2q8E/jG+0xXZ6xT/LwJXfOKrLP2CUPB9EE80/cU/Nnf8txz/X1amtfrHIP0MJ5JFL1Lg/QOXIOhPfwj919dj9vh/FP/UwyXcxYLw/kGVr6GLIwT+FiF7+T+W9P0uVF9TDcMM/iNZrLGZ+wz+V8tcDRoDAP3QlTQzApN8/p1CGrweA4D8=",
          "dtype": "f8"
         },
         "yaxis": "y3"
        },
        {
         "hovertemplate": "search_keyword=urban green spaces<br>year=%{x}<br>growth_rolling_avg=%{y}<extra></extra>",
         "legendgroup": "urban green spaces",
         "line": {
          "color": "#ab63fa",
          "dash": "solid"
         },
         "marker": {
          "symbol": "circle"
         },
         "mode": "lines+markers",
         "name": "urban green spaces",
         "orientation": "v",
         "showlegend": true,
         "type": "scatter",
         "x": {
          "bdata": "0AfRB9IH0wfUB9UH1gfXB9gH2QfaB9sH3AfdB94H3wfgB+EH4gfjB+QH5QfmB+cH6Ac=",
          "dtype": "i2"
         },
         "xaxis": "x4",
         "y": {
          "bdata": "FaFVkk1Q4D8Ec+3AXDvgP7SX0F5Ce+E/R/f8VwgO4T/Fh54KzOLOPwOy1coFWMc/qebev0NT0T/omBYdxFW+P9gFvwgSgrk/rKerxi0Nzz+DdT50fTrWP4EOw1ZlkNs/ZeqUPanNyz81gfAO1HfAP9VS7/4k3rY/2OoO0wZNxT9hdOx57OPEP4PB31b0U78/2EifiiVzuz+gZHartaLJP40/HR3OqsY/O6AIOt7OxD/LMcF5JUvAP2AN8EHV7+E/JiOH51fy5D8=",
          "dtype": "f8"
         },
         "yaxis": "y4"
        },
        {
         "hovertemplate": "search_keyword=urban vegetation<br>year=%{x}<br>growth_rolling_avg=%{y}<extra></extra>",
         "legendgroup": "urban vegetation",
         "line": {
          "color": "#FFA15A",
          "dash": "solid"
         },
         "marker": {
          "symbol": "circle"
         },
         "mode": "lines+markers",
         "name": "urban vegetation",
         "orientation": "v",
         "showlegend": true,
         "type": "scatter",
         "x": {
          "bdata": "0AfRB9IH0wfUB9UH1gfXB9gH2QfaB9sH3AfdB94H3wfgB+EH4gfjB+QH5QfmB+cH6Ac=",
          "dtype": "i2"
         },
         "xaxis": "x",
         "y": {
          "bdata": "AFbZU6+N4z8vK3W02jjQPzWZXpPpNck/UD2grY13wz8rcOOzSnm8PxAaaPNS9rY/ddyq5vhxyD+l4wKd8uTIP80VWGm6A8k/VZieWEnTuD/1sgfLCrK2P7veVCO8K7M/XTl4ObMPxD9DTdj6zWbCP2De1XnJjcE/KwQugRNAvT8LVkA2056zP5Ab8wHfKrc/W222sAjetj9Vi21+6eXEP1AZPgJ7vLQ/SzoYq430tj+Ve90Dt+WePymg5WBBteA/DKx+GElJ4j8=",
          "dtype": "f8"
         },
         "yaxis": "y"
        },
        {
         "hovertemplate": "search_keyword=urban wildlife<br>year=%{x}<br>growth_rolling_avg=%{y}<extra></extra>",
         "legendgroup": "urban wildlife",
         "line": {
          "color": "#19d3f3",
          "dash": "solid"
         },
         "marker": {
          "symbol": "circle"
         },
         "mode": "lines+markers",
         "name": "urban wildlife",
         "orientation": "v",
         "showlegend": true,
         "type": "scatter",
         "x": {
          "bdata": "0AfRB9IH0wfUB9UH1gfXB9gH2QfaB9sH3AfdB94H3wfgB+EH4gfjB+QH5QfmB+cH6Ac=",
          "dtype": "i2"
         },
         "xaxis": "x2",
         "y": {
          "bdata": "15s+Z5x24T9lVjjbtTW4P7u5ubm5ucE/gKGsBc4Q0z/L7PdQGVzSP/Dn7wqagLA/AHKKEHKKkD8AGqABGqC5P5hk355LQ8s/FQJNIdAUuj9VilSNwnOQPwCGHonBAJg/W2q9yrGZzD9ADlFaANjGP2v42xSjhsU/xdg2GC6Mpb/FXuzFXuytP0WtB64TbqQ/NTlg0NL5yT9VIJ+LU9K+P6g8s9b2m9E/AAbtl8g4sz9o86d7Y5K0P2QlbveHWMY/10xNwFnAyz8=",
          "dtype": "f8"
         },
         "yaxis": "y2"
        }
       ],
       "layout": {
        "annotations": [
         {
          "font": {},
          "showarrow": false,
          "text": "",
          "x": 0.245,
          "xanchor": "center",
          "xref": "paper",
          "y": 0.2866666666666666,
          "yanchor": "bottom",
          "yref": "paper"
         },
         {
          "font": {},
          "showarrow": false,
          "text": "",
          "x": 0.755,
          "xanchor": "center",
          "xref": "paper",
          "y": 0.2866666666666666,
          "yanchor": "bottom",
          "yref": "paper"
         },
         {
          "font": {},
          "showarrow": false,
          "text": "",
          "x": 0.245,
          "xanchor": "center",
          "xref": "paper",
          "y": 0.6433333333333333,
          "yanchor": "bottom",
          "yref": "paper"
         },
         {
          "font": {},
          "showarrow": false,
          "text": "",
          "x": 0.755,
          "xanchor": "center",
          "xref": "paper",
          "y": 0.6433333333333333,
          "yanchor": "bottom",
          "yref": "paper"
         },
         {
          "font": {},
          "showarrow": false,
          "text": "",
          "x": 0.245,
          "xanchor": "center",
          "xref": "paper",
          "y": 0.9999999999999999,
          "yanchor": "bottom",
          "yref": "paper"
         },
         {
          "font": {},
          "showarrow": false,
          "text": "",
          "x": 0.755,
          "xanchor": "center",
          "xref": "paper",
          "y": 0.9999999999999999,
          "yanchor": "bottom",
          "yref": "paper"
         }
        ],
        "font": {
         "size": 12
        },
        "height": 600,
        "legend": {
         "title": {
          "text": "Keyword"
         },
         "tracegroupgap": 0
        },
        "template": {
         "data": {
          "bar": [
           {
            "error_x": {
             "color": "#f2f5fa"
            },
            "error_y": {
             "color": "#f2f5fa"
            },
            "marker": {
             "line": {
              "color": "rgb(17,17,17)",
              "width": 0.5
             },
             "pattern": {
              "fillmode": "overlay",
              "size": 10,
              "solidity": 0.2
             }
            },
            "type": "bar"
           }
          ],
          "barpolar": [
           {
            "marker": {
             "line": {
              "color": "rgb(17,17,17)",
              "width": 0.5
             },
             "pattern": {
              "fillmode": "overlay",
              "size": 10,
              "solidity": 0.2
             }
            },
            "type": "barpolar"
           }
          ],
          "carpet": [
           {
            "aaxis": {
             "endlinecolor": "#A2B1C6",
             "gridcolor": "#506784",
             "linecolor": "#506784",
             "minorgridcolor": "#506784",
             "startlinecolor": "#A2B1C6"
            },
            "baxis": {
             "endlinecolor": "#A2B1C6",
             "gridcolor": "#506784",
             "linecolor": "#506784",
             "minorgridcolor": "#506784",
             "startlinecolor": "#A2B1C6"
            },
            "type": "carpet"
           }
          ],
          "choropleth": [
           {
            "colorbar": {
             "outlinewidth": 0,
             "ticks": ""
            },
            "type": "choropleth"
           }
          ],
          "contour": [
           {
            "colorbar": {
             "outlinewidth": 0,
             "ticks": ""
            },
            "colorscale": [
             [
              0,
              "#0d0887"
             ],
             [
              0.1111111111111111,
              "#46039f"
             ],
             [
              0.2222222222222222,
              "#7201a8"
             ],
             [
              0.3333333333333333,
              "#9c179e"
             ],
             [
              0.4444444444444444,
              "#bd3786"
             ],
             [
              0.5555555555555556,
              "#d8576b"
             ],
             [
              0.6666666666666666,
              "#ed7953"
             ],
             [
              0.7777777777777778,
              "#fb9f3a"
             ],
             [
              0.8888888888888888,
              "#fdca26"
             ],
             [
              1,
              "#f0f921"
             ]
            ],
            "type": "contour"
           }
          ],
          "contourcarpet": [
           {
            "colorbar": {
             "outlinewidth": 0,
             "ticks": ""
            },
            "type": "contourcarpet"
           }
          ],
          "heatmap": [
           {
            "colorbar": {
             "outlinewidth": 0,
             "ticks": ""
            },
            "colorscale": [
             [
              0,
              "#0d0887"
             ],
             [
              0.1111111111111111,
              "#46039f"
             ],
             [
              0.2222222222222222,
              "#7201a8"
             ],
             [
              0.3333333333333333,
              "#9c179e"
             ],
             [
              0.4444444444444444,
              "#bd3786"
             ],
             [
              0.5555555555555556,
              "#d8576b"
             ],
             [
              0.6666666666666666,
              "#ed7953"
             ],
             [
              0.7777777777777778,
              "#fb9f3a"
             ],
             [
              0.8888888888888888,
              "#fdca26"
             ],
             [
              1,
              "#f0f921"
             ]
            ],
            "type": "heatmap"
           }
          ],
          "histogram": [
           {
            "marker": {
             "pattern": {
              "fillmode": "overlay",
              "size": 10,
              "solidity": 0.2
             }
            },
            "type": "histogram"
           }
          ],
          "histogram2d": [
           {
            "colorbar": {
             "outlinewidth": 0,
             "ticks": ""
            },
            "colorscale": [
             [
              0,
              "#0d0887"
             ],
             [
              0.1111111111111111,
              "#46039f"
             ],
             [
              0.2222222222222222,
              "#7201a8"
             ],
             [
              0.3333333333333333,
              "#9c179e"
             ],
             [
              0.4444444444444444,
              "#bd3786"
             ],
             [
              0.5555555555555556,
              "#d8576b"
             ],
             [
              0.6666666666666666,
              "#ed7953"
             ],
             [
              0.7777777777777778,
              "#fb9f3a"
             ],
             [
              0.8888888888888888,
              "#fdca26"
             ],
             [
              1,
              "#f0f921"
             ]
            ],
            "type": "histogram2d"
           }
          ],
          "histogram2dcontour": [
           {
            "colorbar": {
             "outlinewidth": 0,
             "ticks": ""
            },
            "colorscale": [
             [
              0,
              "#0d0887"
             ],
             [
              0.1111111111111111,
              "#46039f"
             ],
             [
              0.2222222222222222,
              "#7201a8"
             ],
             [
              0.3333333333333333,
              "#9c179e"
             ],
             [
              0.4444444444444444,
              "#bd3786"
             ],
             [
              0.5555555555555556,
              "#d8576b"
             ],
             [
              0.6666666666666666,
              "#ed7953"
             ],
             [
              0.7777777777777778,
              "#fb9f3a"
             ],
             [
              0.8888888888888888,
              "#fdca26"
             ],
             [
              1,
              "#f0f921"
             ]
            ],
            "type": "histogram2dcontour"
           }
          ],
          "mesh3d": [
           {
            "colorbar": {
             "outlinewidth": 0,
             "ticks": ""
            },
            "type": "mesh3d"
           }
          ],
          "parcoords": [
           {
            "line": {
             "colorbar": {
              "outlinewidth": 0,
              "ticks": ""
             }
            },
            "type": "parcoords"
           }
          ],
          "pie": [
           {
            "automargin": true,
            "type": "pie"
           }
          ],
          "scatter": [
           {
            "marker": {
             "line": {
              "color": "#283442"
             }
            },
            "type": "scatter"
           }
          ],
          "scatter3d": [
           {
            "line": {
             "colorbar": {
              "outlinewidth": 0,
              "ticks": ""
             }
            },
            "marker": {
             "colorbar": {
              "outlinewidth": 0,
              "ticks": ""
             }
            },
            "type": "scatter3d"
           }
          ],
          "scattercarpet": [
           {
            "marker": {
             "colorbar": {
              "outlinewidth": 0,
              "ticks": ""
             }
            },
            "type": "scattercarpet"
           }
          ],
          "scattergeo": [
           {
            "marker": {
             "colorbar": {
              "outlinewidth": 0,
              "ticks": ""
             }
            },
            "type": "scattergeo"
           }
          ],
          "scattergl": [
           {
            "marker": {
             "line": {
              "color": "#283442"
             }
            },
            "type": "scattergl"
           }
          ],
          "scattermap": [
           {
            "marker": {
             "colorbar": {
              "outlinewidth": 0,
              "ticks": ""
             }
            },
            "type": "scattermap"
           }
          ],
          "scattermapbox": [
           {
            "marker": {
             "colorbar": {
              "outlinewidth": 0,
              "ticks": ""
             }
            },
            "type": "scattermapbox"
           }
          ],
          "scatterpolar": [
           {
            "marker": {
             "colorbar": {
              "outlinewidth": 0,
              "ticks": ""
             }
            },
            "type": "scatterpolar"
           }
          ],
          "scatterpolargl": [
           {
            "marker": {
             "colorbar": {
              "outlinewidth": 0,
              "ticks": ""
             }
            },
            "type": "scatterpolargl"
           }
          ],
          "scatterternary": [
           {
            "marker": {
             "colorbar": {
              "outlinewidth": 0,
              "ticks": ""
             }
            },
            "type": "scatterternary"
           }
          ],
          "surface": [
           {
            "colorbar": {
             "outlinewidth": 0,
             "ticks": ""
            },
            "colorscale": [
             [
              0,
              "#0d0887"
             ],
             [
              0.1111111111111111,
              "#46039f"
             ],
             [
              0.2222222222222222,
              "#7201a8"
             ],
             [
              0.3333333333333333,
              "#9c179e"
             ],
             [
              0.4444444444444444,
              "#bd3786"
             ],
             [
              0.5555555555555556,
              "#d8576b"
             ],
             [
              0.6666666666666666,
              "#ed7953"
             ],
             [
              0.7777777777777778,
              "#fb9f3a"
             ],
             [
              0.8888888888888888,
              "#fdca26"
             ],
             [
              1,
              "#f0f921"
             ]
            ],
            "type": "surface"
           }
          ],
          "table": [
           {
            "cells": {
             "fill": {
              "color": "#506784"
             },
             "line": {
              "color": "rgb(17,17,17)"
             }
            },
            "header": {
             "fill": {
              "color": "#2a3f5f"
             },
             "line": {
              "color": "rgb(17,17,17)"
             }
            },
            "type": "table"
           }
          ]
         },
         "layout": {
          "annotationdefaults": {
           "arrowcolor": "#f2f5fa",
           "arrowhead": 0,
           "arrowwidth": 1
          },
          "autotypenumbers": "strict",
          "coloraxis": {
           "colorbar": {
            "outlinewidth": 0,
            "ticks": ""
           }
          },
          "colorscale": {
           "diverging": [
            [
             0,
             "#8e0152"
            ],
            [
             0.1,
             "#c51b7d"
            ],
            [
             0.2,
             "#de77ae"
            ],
            [
             0.3,
             "#f1b6da"
            ],
            [
             0.4,
             "#fde0ef"
            ],
            [
             0.5,
             "#f7f7f7"
            ],
            [
             0.6,
             "#e6f5d0"
            ],
            [
             0.7,
             "#b8e186"
            ],
            [
             0.8,
             "#7fbc41"
            ],
            [
             0.9,
             "#4d9221"
            ],
            [
             1,
             "#276419"
            ]
           ],
           "sequential": [
            [
             0,
             "#0d0887"
            ],
            [
             0.1111111111111111,
             "#46039f"
            ],
            [
             0.2222222222222222,
             "#7201a8"
            ],
            [
             0.3333333333333333,
             "#9c179e"
            ],
            [
             0.4444444444444444,
             "#bd3786"
            ],
            [
             0.5555555555555556,
             "#d8576b"
            ],
            [
             0.6666666666666666,
             "#ed7953"
            ],
            [
             0.7777777777777778,
             "#fb9f3a"
            ],
            [
             0.8888888888888888,
             "#fdca26"
            ],
            [
             1,
             "#f0f921"
            ]
           ],
           "sequentialminus": [
            [
             0,
             "#0d0887"
            ],
            [
             0.1111111111111111,
             "#46039f"
            ],
            [
             0.2222222222222222,
             "#7201a8"
            ],
            [
             0.3333333333333333,
             "#9c179e"
            ],
            [
             0.4444444444444444,
             "#bd3786"
            ],
            [
             0.5555555555555556,
             "#d8576b"
            ],
            [
             0.6666666666666666,
             "#ed7953"
            ],
            [
             0.7777777777777778,
             "#fb9f3a"
            ],
            [
             0.8888888888888888,
             "#fdca26"
            ],
            [
             1,
             "#f0f921"
            ]
           ]
          },
          "colorway": [
           "#636efa",
           "#EF553B",
           "#00cc96",
           "#ab63fa",
           "#FFA15A",
           "#19d3f3",
           "#FF6692",
           "#B6E880",
           "#FF97FF",
           "#FECB52"
          ],
          "font": {
           "color": "#f2f5fa"
          },
          "geo": {
           "bgcolor": "rgb(17,17,17)",
           "lakecolor": "rgb(17,17,17)",
           "landcolor": "rgb(17,17,17)",
           "showlakes": true,
           "showland": true,
           "subunitcolor": "#506784"
          },
          "hoverlabel": {
           "align": "left"
          },
          "hovermode": "closest",
          "mapbox": {
           "style": "dark"
          },
          "paper_bgcolor": "rgb(17,17,17)",
          "plot_bgcolor": "rgb(17,17,17)",
          "polar": {
           "angularaxis": {
            "gridcolor": "#506784",
            "linecolor": "#506784",
            "ticks": ""
           },
           "bgcolor": "rgb(17,17,17)",
           "radialaxis": {
            "gridcolor": "#506784",
            "linecolor": "#506784",
            "ticks": ""
           }
          },
          "scene": {
           "xaxis": {
            "backgroundcolor": "rgb(17,17,17)",
            "gridcolor": "#506784",
            "gridwidth": 2,
            "linecolor": "#506784",
            "showbackground": true,
            "ticks": "",
            "zerolinecolor": "#C8D4E3"
           },
           "yaxis": {
            "backgroundcolor": "rgb(17,17,17)",
            "gridcolor": "#506784",
            "gridwidth": 2,
            "linecolor": "#506784",
            "showbackground": true,
            "ticks": "",
            "zerolinecolor": "#C8D4E3"
           },
           "zaxis": {
            "backgroundcolor": "rgb(17,17,17)",
            "gridcolor": "#506784",
            "gridwidth": 2,
            "linecolor": "#506784",
            "showbackground": true,
            "ticks": "",
            "zerolinecolor": "#C8D4E3"
           }
          },
          "shapedefaults": {
           "line": {
            "color": "#f2f5fa"
           }
          },
          "sliderdefaults": {
           "bgcolor": "#C8D4E3",
           "bordercolor": "rgb(17,17,17)",
           "borderwidth": 1,
           "tickwidth": 0
          },
          "ternary": {
           "aaxis": {
            "gridcolor": "#506784",
            "linecolor": "#506784",
            "ticks": ""
           },
           "baxis": {
            "gridcolor": "#506784",
            "linecolor": "#506784",
            "ticks": ""
           },
           "bgcolor": "rgb(17,17,17)",
           "caxis": {
            "gridcolor": "#506784",
            "linecolor": "#506784",
            "ticks": ""
           }
          },
          "title": {
           "x": 0.05
          },
          "updatemenudefaults": {
           "bgcolor": "#506784",
           "borderwidth": 0
          },
          "xaxis": {
           "automargin": true,
           "gridcolor": "#283442",
           "linecolor": "#506784",
           "ticks": "",
           "title": {
            "standoff": 15
           },
           "zerolinecolor": "#283442",
           "zerolinewidth": 2
          },
          "yaxis": {
           "automargin": true,
           "gridcolor": "#283442",
           "linecolor": "#506784",
           "ticks": "",
           "title": {
            "standoff": 15
           },
           "zerolinecolor": "#283442",
           "zerolinewidth": 2
          }
         }
        },
        "title": {
         "text": "Publication Growth Rate by Year"
        },
        "width": 1200,
        "xaxis": {
         "anchor": "y",
         "domain": [
          0,
          0.49
         ],
         "showgrid": true,
         "tickangle": 45,
         "title": {
          "text": "Year"
         }
        },
        "xaxis2": {
         "anchor": "y2",
         "domain": [
          0.51,
          1
         ],
         "matches": "x",
         "title": {
          "text": "Year"
         }
        },
        "xaxis3": {
         "anchor": "y3",
         "domain": [
          0,
          0.49
         ],
         "matches": "x",
         "showticklabels": false,
         "title": {
          "text": "Year"
         }
        },
        "xaxis4": {
         "anchor": "y4",
         "domain": [
          0.51,
          1
         ],
         "matches": "x",
         "showticklabels": false,
         "title": {
          "text": "Year"
         }
        },
        "xaxis5": {
         "anchor": "y5",
         "domain": [
          0,
          0.49
         ],
         "matches": "x",
         "showticklabels": false,
         "title": {
          "text": "Year"
         }
        },
        "xaxis6": {
         "anchor": "y6",
         "domain": [
          0.51,
          1
         ],
         "matches": "x",
         "showticklabels": false,
         "title": {
          "text": "Year"
         }
        },
        "yaxis": {
         "anchor": "x",
         "domain": [
          0,
          0.2866666666666666
         ],
         "showgrid": true,
         "title": {
          "text": "Growth Rate (%)"
         }
        },
        "yaxis2": {
         "anchor": "x2",
         "domain": [
          0,
          0.2866666666666666
         ],
         "matches": "y",
         "showticklabels": false,
         "title": {
          "text": "Growth Rate (%)"
         }
        },
        "yaxis3": {
         "anchor": "x3",
         "domain": [
          0.35666666666666663,
          0.6433333333333333
         ],
         "matches": "y",
         "title": {
          "text": "Growth Rate (%)"
         }
        },
        "yaxis4": {
         "anchor": "x4",
         "domain": [
          0.35666666666666663,
          0.6433333333333333
         ],
         "matches": "y",
         "showticklabels": false,
         "title": {
          "text": "Growth Rate (%)"
         }
        },
        "yaxis5": {
         "anchor": "x5",
         "domain": [
          0.7133333333333333,
          0.9999999999999999
         ],
         "matches": "y",
         "title": {
          "text": "Growth Rate (%)"
         }
        },
        "yaxis6": {
         "anchor": "x6",
         "domain": [
          0.7133333333333333,
          0.9999999999999999
         ],
         "matches": "y",
         "showticklabels": false,
         "title": {
          "text": "Growth Rate (%)"
         }
        }
       }
      }
     },
     "metadata": {},
     "output_type": "display_data"
    }
   ],
   "source": [
    "df_melted = df_rate.melt(id_vars=\"year\", var_name=\"search_keyword\", value_name=\"growth_rate\")\n",
    "df_melted['acceleration'] = df_melted.groupby('search_keyword')['growth_rate'].diff()\n",
    "df_melted['growth_rolling_avg'] = df_melted['growth_rate'].rolling(window=3, min_periods=1).mean()\n",
    "df_melted.head()\n",
    "\n",
    "fig = px.line(\n",
    "    df_melted,\n",
    "    x='year',\n",
    "    y='growth_rolling_avg',\n",
    "    color='search_keyword',\n",
    "    title='Publication Growth Rate by Year',\n",
    "    markers=True,\n",
    "    facet_col='search_keyword',\n",
    "    facet_col_wrap=2,\n",
    ")\n",
    "\n",
    "for annotation in fig.layout.annotations:\n",
    "    annotation.text = \"\"\n",
    "\n",
    "fig.update_yaxes(title_text=\"Growth Rate (%)\", matches=None)\n",
    "fig.update_xaxes(title_text=\"Year\", matches=None)\n",
    "\n",
    "fig.update_layout(\n",
    "    legend_title='Keyword',\n",
    "    font=dict(size=12),\n",
    "    width=1200,\n",
    "    height=600,\n",
    "    template='plotly_dark',\n",
    "    xaxis=dict(showgrid=True,\n",
    "               tickangle=45),\n",
    "    yaxis=dict(showgrid=True),\n",
    ")\n",
    "\n",
    "fig.show()\n"
   ]
  },
  {
   "cell_type": "markdown",
   "id": "83404bac",
   "metadata": {},
   "source": [
    "# Regression Analysis on All Papers Published"
   ]
  },
  {
   "cell_type": "code",
   "execution_count": 76,
   "id": "cffb9049",
   "metadata": {},
   "outputs": [],
   "source": [
    "color_map = {\n",
    "    'urban ecology': 'tab:blue',\n",
    "    'urban biodiversity': 'tab:orange',\n",
    "    'urban green spaces': 'tab:green',\n",
    "    'urban wildlife': 'tab:red',\n",
    "    'urban vegetation': 'tab:purple',\n",
    "    'urban ecosystem': 'tab:pink'\n",
    "}"
   ]
  },
  {
   "cell_type": "code",
   "execution_count": 84,
   "id": "d5001e2b",
   "metadata": {},
   "outputs": [
    {
     "data": {
      "image/png": "[encoded data removed]",
      "text/plain": [
       "<Figure size 1600x800 with 1 Axes>"
      ]
     },
     "metadata": {},
     "output_type": "display_data"
    }
   ],
   "source": [
    "plt.figure(figsize=(8,4), dpi=200)\n",
    "with sns.axes_style('darkgrid'):\n",
    "    with np.errstate(divide='ignore', over='ignore', invalid='ignore'):\n",
    "        sns.scatterplot(\n",
    "                data=df_keywords.query('year < 2023'),\n",
    "                x='year',\n",
    "                y='paper_count',\n",
    "                hue='search_keyword',\n",
    "                palette=color_map,\n",
    "                s=50,\n",
    "                alpha=0.7\n",
    "            )\n",
    "        ax = sns.regplot(\n",
    "                data=df_keywords.query('year < 2023'),\n",
    "                x='year',\n",
    "                y='paper_count',\n",
    "                scatter=False,\n",
    "                line_kws={\n",
    "                    'linewidth': 2,\n",
    "                    'alpha': 0.8,\n",
    "                    'color': \"#b41d3b\"\n",
    "                    },\n",
    "            )\n",
    "\n",
    "plt.title('Published Paper Count Regression Analysis')\n",
    "plt.ylabel('Papers Published')\n",
    "    \n",
    "plt.show()\n"
   ]
  },
  {
   "cell_type": "code",
   "execution_count": 58,
   "metadata": {},
   "outputs": [
    {
     "name": "stdout",
     "output_type": "stream",
     "text": [
      "R² Score: 0.587\n",
      "Coefficient 22.89\n"
     ]
    }
   ],
   "source": [
    "regression = LinearRegression()\n",
    "X = pd.DataFrame(df_keywords.query('year < 2023'), columns=['year'])\n",
    "y = pd.DataFrame(df_keywords.query('year < 2023'), columns=['paper_count'])\n",
    "regression.fit(X, y)\n",
    "print(f'R² Score: {round(regression.score(X, y),3)}')\n",
    "print(f'Coefficient {round(regression.coef_[0][0],2)}')"
   ]
  },
  {
   "cell_type": "markdown",
   "id": "3ae4b4cb",
   "metadata": {},
   "source": [
    "A cutoff before 2023 made the fit a little better (with the full data R² = 0.4), since we got rid of the spike in 2023 and 2024, but it still isn't great, meaning the model does not explain a large portion of the variance in the data. Could be due to accelerated growth seen yearly. We can try a log transform and a polynomial regression to see if it fits better."
   ]
  },
  {
   "cell_type": "code",
   "execution_count": 59,
   "id": "10d585c4",
   "metadata": {},
   "outputs": [
    {
     "name": "stdout",
     "output_type": "stream",
     "text": [
      "Log Transform - R² Score:, 0.773\n",
      "Log Transform - Coefficient:, 0.125\n"
     ]
    }
   ],
   "source": [
    "y_log = np.log(y + 1)\n",
    "regression.fit(X, y_log)\n",
    "print(f'Log Transform - R² Score:, {round(regression.score(X, y_log),3)}')\n",
    "print(f'Log Transform - Coefficient:, {round(regression.coef_[0][0],3)}')"
   ]
  },
  {
   "cell_type": "code",
   "execution_count": 61,
   "id": "b5ed7311",
   "metadata": {},
   "outputs": [
    {
     "name": "stdout",
     "output_type": "stream",
     "text": [
      "Polynomial - R² Score: 0.632\n",
      "Linear term: -4288.701\n",
      "Quadratic term: 1.072\n"
     ]
    }
   ],
   "source": [
    "poly_features = PolynomialFeatures(degree=2)\n",
    "X_poly = poly_features.fit_transform(X)\n",
    "regression.fit(X_poly, y)\n",
    "print(f'Polynomial - R² Score: {round(regression.score(X_poly, y), 3)}')\n",
    "print(f'Linear term: {regression.coef_[0][1]:.3f}')\n",
    "print(f'Quadratic term: {regression.coef_[0][2]:.3f}')"
   ]
  },
  {
   "cell_type": "markdown",
   "id": "af6e1cd6",
   "metadata": {},
   "source": [
    "With the linear term suggesting a decline, which we do not see in the data, we can conclude the log transform is the better fit, meaning papers seem to be published at an increasing rate. NOTE: the cutoff date of 2023 was to get rid of the spike seen after that year, which could be a reflection of the COVID-19 pandemic, and an increase interest in urban research due to the event."
   ]
  },
  {
   "cell_type": "markdown",
   "id": "62724f6f",
   "metadata": {},
   "source": [
    "# Per Keyword Analysis"
   ]
  },
  {
   "cell_type": "code",
   "execution_count": 79,
   "id": "223e5dcf",
   "metadata": {},
   "outputs": [
    {
     "name": "stdout",
     "output_type": "stream",
     "text": [
      "Linear Regression Trend Analysis Results:\n",
      "============================================================\n",
      "              keyword  slope_papers_per_year  r_squared       p_value  \\\n",
      "2     urban ecosystem              43.129447   0.899362  6.104089e-12   \n",
      "3  urban green spaces              29.075099   0.872341  7.518669e-11   \n",
      "4    urban vegetation              24.776680   0.943883  1.295930e-14   \n",
      "0  urban biodiversity              18.169960   0.926575  2.198442e-13   \n",
      "1       urban ecology              13.974308   0.963149  1.551768e-16   \n",
      "5      urban wildlife               8.236166   0.880392  3.778144e-11   \n",
      "\n",
      "       trend_interpretation  total_papers  \n",
      "2  Significantly increasing          8670  \n",
      "3  Significantly increasing          5137  \n",
      "4  Significantly increasing          5791  \n",
      "0  Significantly increasing          3722  \n",
      "1  Significantly increasing          4094  \n",
      "5  Significantly increasing          2270  \n"
     ]
    },
    {
     "data": {
      "image/png": "[encoded data removed]",
      "text/plain": [
       "<Figure size 1500x1200 with 4 Axes>"
      ]
     },
     "metadata": {},
     "output_type": "display_data"
    },
    {
     "name": "stdout",
     "output_type": "stream",
     "text": [
      "\n",
      "============================================================\n",
      "KEY INSIGHTS:\n",
      "============================================================\n",
      "Fastest growing field: urban ecosystem (43.13 papers/year)\n",
      "Most productive field: urban ecosystem (8670 total papers)\n",
      "Fields with significant trends: 6/6\n",
      "Best linear fit: urban ecology (R² = 0.963)\n"
     ]
    }
   ],
   "source": [
    "def linear_trend_analysis(df_keywords):\n",
    "    \"\"\"\n",
    "    Perform linear regression analysis for each keyword\n",
    "    Returns comprehensive trend statistics\n",
    "    \"\"\"\n",
    "    results = []\n",
    "    \n",
    "    for keyword in df_keywords['search_keyword'].unique():\n",
    "        keyword_data = df_keywords[df_keywords['search_keyword'] == keyword].sort_values('year')\n",
    "        years = keyword_data['year'].values\n",
    "        counts = keyword_data['paper_count'].values\n",
    "        \n",
    "        slope, intercept, r_value, p_value, std_err = linregress(years, counts)\n",
    "        \n",
    "        r_squared = r_value**2\n",
    "        predicted_values = slope * years + intercept\n",
    "        residuals = counts - predicted_values\n",
    "        \n",
    "        n = len(years)\n",
    "        t_val = stats.t.ppf(0.975, n-2)\n",
    "        slope_ci_lower = slope - t_val * std_err\n",
    "        slope_ci_upper = slope + t_val * std_err\n",
    "        \n",
    "        if p_value < 0.05:\n",
    "            if slope > 0:\n",
    "                trend_interpretation = \"Significantly increasing\"\n",
    "            else:\n",
    "                trend_interpretation = \"Significantly decreasing\"\n",
    "        else:\n",
    "            trend_interpretation = \"No significant trend\"\n",
    "        \n",
    "        total_papers = counts.sum()\n",
    "        avg_papers_per_year = counts.mean()\n",
    "        \n",
    "        results.append({\n",
    "            'keyword': keyword,\n",
    "            'slope_papers_per_year': slope,\n",
    "            'intercept': intercept,\n",
    "            'r_squared': r_squared,\n",
    "            'p_value': p_value,\n",
    "            'std_error': std_err,\n",
    "            'slope_ci_lower': slope_ci_lower,\n",
    "            'slope_ci_upper': slope_ci_upper,\n",
    "            'trend_interpretation': trend_interpretation,\n",
    "            'total_papers': total_papers,\n",
    "            'avg_papers_per_year': avg_papers_per_year,\n",
    "            'significant_trend': p_value < 0.05,\n",
    "            'years_analyzed': n\n",
    "        })\n",
    "    \n",
    "    return pd.DataFrame(results)\n",
    "\n",
    "cutoff_keywords = df_keywords.query('year < 2023') # Cutoff at 2022 before the spike in papers\n",
    "\n",
    "trend_results = linear_trend_analysis(cutoff_keywords)\n",
    "\n",
    "print(\"Linear Regression Trend Analysis Results:\")\n",
    "print(\"=\" * 60)\n",
    "display_cols = ['keyword', 'slope_papers_per_year', 'r_squared', 'p_value', \n",
    "                'trend_interpretation', 'total_papers']\n",
    "print(trend_results[display_cols].sort_values('slope_papers_per_year', ascending=False))\n",
    "\n",
    "# Create comprehensive visualization\n",
    "fig, axes = plt.subplots(2, 2, figsize=(15, 12))\n",
    "color_map = {\n",
    "    'urban ecology': 'tab:blue',\n",
    "    'urban biodiversity': 'tab:orange',\n",
    "    'urban green spaces': 'tab:green',\n",
    "    'urban wildlife': 'tab:red',\n",
    "    'urban vegetation': 'tab:purple',\n",
    "    'urban ecosystem': 'tab:pink'\n",
    "}\n",
    "\n",
    "# 1. Trend slopes with confidence intervals\n",
    "ax1 = axes[0, 0]\n",
    "colors = ['green' if sig else 'red' for sig in trend_results['significant_trend']]\n",
    "keywords = trend_results['keyword']\n",
    "slopes = trend_results['slope_papers_per_year']\n",
    "ci_lower = trend_results['slope_ci_lower']\n",
    "ci_upper = trend_results['slope_ci_upper']\n",
    "\n",
    "y_pos = np.arange(len(keywords))\n",
    "ax1.barh(y_pos, slopes, color=colors, alpha=0.7)\n",
    "ax1.errorbar(slopes, y_pos, xerr=[slopes - ci_lower, ci_upper - slopes], \n",
    "            fmt='none', color='black', capsize=5)\n",
    "ax1.set_yticks(y_pos)\n",
    "ax1.set_yticklabels(keywords)\n",
    "ax1.set_xlabel('Growth Rate (Papers per Year)')\n",
    "ax1.set_title('Linear Trend Analysis\\n(Green = Significant, Red = Not Significant)')\n",
    "ax1.axvline(x=0, color='black', linestyle='--', alpha=0.5)\n",
    "\n",
    "# 2. R-squared values\n",
    "ax2 = axes[0, 1]\n",
    "ax2.bar(range(len(trend_results)), trend_results['r_squared'], color=colors, alpha=0.7)\n",
    "ax2.set_xticks(range(len(trend_results)))\n",
    "ax2.set_xticklabels(keywords, rotation=45, ha='right')\n",
    "ax2.set_ylabel('R-squared Value')\n",
    "ax2.set_title('Model Fit Quality (R²)\\n(Green = Significant, Red = Not Significant)')\n",
    "ax2.axhline(y=0.5, color='red', linestyle='--', alpha=0.5, label='Moderate fit')\n",
    "\n",
    "# 3. Actual vs predicted scatter plot for each keyword\n",
    "ax3 = axes[1, 0]\n",
    "for i, keyword in enumerate(keywords):\n",
    "    keyword_data = cutoff_keywords[cutoff_keywords['search_keyword'] == keyword].sort_values('year')\n",
    "    years = keyword_data['year'].values\n",
    "    counts = keyword_data['paper_count'].values\n",
    "    \n",
    "    slope = trend_results[trend_results['keyword'] == keyword]['slope_papers_per_year'].iloc[0]\n",
    "    intercept = trend_results[trend_results['keyword'] == keyword]['intercept'].iloc[0]\n",
    "    predicted = slope * years + intercept\n",
    "    \n",
    "    ax3.scatter(predicted, counts, alpha=0.7, label=keyword, s=30,color=color_map.get(keyword, 'black'))\n",
    "\n",
    "ax3.plot([0, max(ax3.get_xlim())], [0, max(ax3.get_xlim())], 'k--', alpha=0.5)\n",
    "ax3.set_xlabel('Predicted Papers')\n",
    "ax3.set_ylabel('Actual Papers')\n",
    "ax3.set_title('Actual vs Predicted Values')\n",
    "ax3.legend(bbox_to_anchor=(1.05, 1), loc='upper left')\n",
    "\n",
    "\n",
    "# 4. Total research volume by keyword\n",
    "ax4 = axes[1, 1]\n",
    "total_papers = trend_results.set_index('keyword')['total_papers'].sort_values(ascending=True)\n",
    "colors = [color_map.get(keyword, 'black') for keyword in total_papers.index]\n",
    "ax4.barh(range(len(total_papers)), total_papers.values, color=colors, alpha=0.7)\n",
    "ax4.set_yticks(range(len(total_papers)))\n",
    "ax4.set_yticklabels(total_papers.index)\n",
    "ax4.set_xlabel(f'Total Papers ({YEAR_RANGE})')\n",
    "ax4.set_title('Research Volume by Keyword')\n",
    "\n",
    "plt.tight_layout()\n",
    "plt.show()\n",
    "\n",
    "# Summary insights\n",
    "print(\"\\n\" + \"=\"*60)\n",
    "print(\"KEY INSIGHTS:\")\n",
    "print(\"=\"*60)\n",
    "fastest_growing = trend_results.loc[trend_results['slope_papers_per_year'].idxmax()]\n",
    "print(f\"Fastest growing field: {fastest_growing['keyword']} ({fastest_growing['slope_papers_per_year']:.2f} papers/year)\")\n",
    "\n",
    "most_productive = trend_results.loc[trend_results['total_papers'].idxmax()]\n",
    "print(f\"Most productive field: {most_productive['keyword']} ({most_productive['total_papers']:.0f} total papers)\")\n",
    "\n",
    "significant_trends = trend_results[trend_results['significant_trend']]\n",
    "print(f\"Fields with significant trends: {len(significant_trends)}/{len(trend_results)}\")\n",
    "\n",
    "best_fit = trend_results.loc[trend_results['r_squared'].idxmax()]\n",
    "print(f\"Best linear fit: {best_fit['keyword']} (R² = {best_fit['r_squared']:.3f})\")"
   ]
  },
  {
   "cell_type": "code",
   "execution_count": null,
   "id": "32c8541c",
   "metadata": {},
   "outputs": [],
   "source": []
  }
 ],
 "metadata": {
  "kernelspec": {
   "display_name": ".venv",
   "language": "python",
   "name": "python3"
  },
  "language_info": {
   "codemirror_mode": {
    "name": "ipython",
    "version": 3
   },
   "file_extension": ".py",
   "mimetype": "text/x-python",
   "name": "python",
   "nbconvert_exporter": "python",
   "pygments_lexer": "ipython3",
   "version": "3.13.2"
  }
 },
 "nbformat": 4,
 "nbformat_minor": 5
}
