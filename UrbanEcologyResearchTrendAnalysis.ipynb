{
 "cells": [
  {
   "cell_type": "markdown",
   "id": "21e9aaad",
   "metadata": {},
   "source": [
    "# Urban Ecology Research Trend Analysis\n",
    "\n",
    "Type: NLP + Time Series + Web Data | Domain: Scientific + environmental | Format: Notebook\n",
    "- Use PubMed or Semantic Scholar API to extract papers on 'urban ecology'.\n",
    "- Track number of publications per year.\n",
    "- Perform keyword frequency and topic modeling.\n",
    "- Map institutions or authors by location \n",
    "    .Use author search and Research Organization Registry (ror.org) to map institutions to locations."
   ]
  },
  {
   "cell_type": "code",
   "execution_count": 1,
   "id": "854a13d3",
   "metadata": {},
   "outputs": [],
   "source": [
    "import os\n",
    "import sys\n",
    "import time\n",
    "import math\n",
    "import pycountry\n",
    "import requests\n",
    "import pandas as pd\n",
    "import numpy as np\n",
    "import sqlite3\n",
    "import plotly.express as px\n",
    "import seaborn as sns\n",
    "import matplotlib.pyplot as plt\n",
    "import matplotlib.dates as mdates\n",
    "import scipy.stats as stats\n",
    "from itertools import combinations\n",
    "from collections import Counter\n",
    "\n",
    "BASE_URL = 'https://api.openalex.org/works'\n",
    "DELAY = 1  # Small delay between requests\n",
    "RETRY_DELAY = 5  # seconds before retrying on failure\n",
    "YEAR_RANGE = '1970-2023' # We start on 1970 as that is considered the decade where urban ecology started gaining interest. We stop on 2023 as it's the last year with complete data\n",
    "PAPERS_DB_PATH = 'papers.db'\n",
    "\n",
    "papers_schema = \"\"\"\n",
    "    paperId TEXT PRIMARY KEY,\n",
    "    title TEXT,\n",
    "    year INTEGER,\n",
    "    authors TEXT,\n",
    "    url TEXT,\n",
    "    search_keyword TEXT,\n",
    "    firstAuthorCountryIso TEXT,\n",
    "    firstAuthorId TEXT,\n",
    "    journal TEXT,\n",
    "    citationCount INTEGER\n",
    "\"\"\"\n",
    "\n",
    "query_list = [\n",
    "    'urban ecology',\n",
    "    'urban biodiversity',\n",
    "    'urban ecosystem',\n",
    "    'urban green spaces',\n",
    "    'urban wildlife',\n",
    "    'urban vegetation',\n",
    "]\n",
    "\n",
    "# Authors Data\n",
    "AUTHOR_URL = 'https://api.openalex.org/authors'\n",
    "\n",
    "authors_schema = \"\"\"\n",
    "    authorId TEXT PRIMARY KEY,\n",
    "    name TEXT,\n",
    "    last_known_institution_name TEXT,\n",
    "    last_known_institution_ror TEXT,\n",
    "    country_code TEXT,\n",
    "    country_name TEXT\n",
    "\"\"\"\n",
    "\n",
    "ROR_CLIENT_ID = 'U7CHDW7L27GVX0ZOUVTT0Z1QG8E1BL70'"
   ]
  },
  {
   "cell_type": "code",
   "execution_count": null,
   "id": "e4835c3c",
   "metadata": {},
   "outputs": [
    {
     "name": "stdout",
     "output_type": "stream",
     "text": [
      "✅ Progress tracker \"cursor_urban ecology.txt\" removed.\n",
      "✅ Progress tracker \"cursor_urban biodiversity.txt\" removed.\n",
      "✅ Progress tracker \"cursor_urban ecosystem.txt\" removed.\n",
      "✅ Progress tracker \"cursor_urban green spaces.txt\" removed.\n",
      "✅ Progress tracker \"cursor_urban wildlife.txt\" removed.\n",
      "✅ Progress tracker \"cursor_urban vegetation.txt\" removed.\n",
      "✅ Output file \"papers.db\" removed.\n"
     ]
    }
   ],
   "source": [
    "# Run this to clear the .txt progress trackers\n",
    "\n",
    "'''for keyword in query_list:\n",
    "    done_file = f'done_{keyword}.txt'\n",
    "    page_file = f'page_{keyword}.txt'\n",
    "    cursor_file = f'cursor_{keyword}.txt'\n",
    "    \n",
    "    for file_path in [done_file, page_file, cursor_file]:\n",
    "        if os.path.exists(file_path):\n",
    "            os.remove(file_path)\n",
    "            print(f'✅ Progress tracker \"{file_path}\" removed.')\n",
    "  \n",
    "if os.path.exists(PAPERS_DB_PATH):      \n",
    "    os.remove(PAPERS_DB_PATH)\n",
    "    print(f'✅ Output file \"{PAPERS_DB_PATH}\" removed.')'''"
   ]
  },
  {
   "cell_type": "code",
   "execution_count": 2,
   "id": "9fa39136",
   "metadata": {},
   "outputs": [],
   "source": [
    "# === Helper functions ===\n",
    "\n",
    "def save_cursor(keyword, cursor):\n",
    "    \"\"\"Save the current cursor for pagination\"\"\"\n",
    "    with open(f'cursor_{keyword}.txt', 'w') as f:\n",
    "        f.write(cursor)\n",
    "\n",
    "def load_cursor(keyword):\n",
    "    \"\"\"Load the last cursor for pagination\"\"\"\n",
    "    filename = f'cursor_{keyword}.txt'\n",
    "    if os.path.exists(filename):\n",
    "        with open(filename, 'r') as f:\n",
    "            return f.read().strip()\n",
    "    return None\n",
    "\n",
    "def mark_done(keyword):\n",
    "    with open(f'done_{keyword}.txt', 'w') as f:\n",
    "        f.write('completed')\n",
    "\n",
    "def is_done(keyword):\n",
    "    return os.path.exists(f'done_{keyword}.txt')\n",
    "\n",
    "def delete_cursor(keyword):\n",
    "    \"\"\"Clean up cursor tracking file when done\"\"\"\n",
    "    filename = f'cursor_{keyword}.txt'\n",
    "    if os.path.exists(filename):\n",
    "        os.remove(filename)\n",
    "\n",
    "def get_first_author_country(authorships_list):\n",
    "    \"\"\"Extract country ISO code prioritizing first author, with fallback to other authors\"\"\"\n",
    "    if not authorships_list:\n",
    "        return None\n",
    "    \n",
    "    first_authorship = authorships_list[0]\n",
    "    institutions = first_authorship.get('institutions', [])\n",
    "    \n",
    "    for institution in institutions:\n",
    "        country_code = institution.get('country_code')\n",
    "        if country_code:\n",
    "            return country_code\n",
    "    \n",
    "    for authorship in authorships_list[1:]:\n",
    "        institutions = authorship.get('institutions', [])\n",
    "        \n",
    "        for institution in institutions:\n",
    "            country_code = institution.get('country_code')\n",
    "            if country_code:\n",
    "                return country_code\n",
    "    \n",
    "    return None"
   ]
  },
  {
   "cell_type": "code",
   "execution_count": 3,
   "id": "b2e20ba5",
   "metadata": {},
   "outputs": [],
   "source": [
    "# === Database and Dataframe setup ===\n",
    "\n",
    "def init_table(db_path, table_name, schema_sql):\n",
    "    conn = sqlite3.connect(db_path)\n",
    "    c = conn.cursor()\n",
    "    c.execute(f'CREATE TABLE IF NOT EXISTS {table_name} ({schema_sql})')\n",
    "    conn.commit()\n",
    "    conn.close()\n",
    "    \n",
    "def save_paper_to_db(paper, keyword):\n",
    "    conn = sqlite3.connect(PAPERS_DB_PATH)\n",
    "    c = conn.cursor()\n",
    "\n",
    "    paper_id = paper.get('id', '').replace('https://openalex.org/', '')\n",
    "    title = paper.get('title')\n",
    "    year = paper.get('publication_year')\n",
    "    citation_count = paper.get('cited_by_count', 0)\n",
    "    \n",
    "    primary_location = paper.get('primary_location', {})\n",
    "    journal = None\n",
    "    url = None\n",
    "    if primary_location:\n",
    "        source = primary_location.get('source', {})\n",
    "        journal = source.get('display_name') if source else None\n",
    "        url = primary_location.get('landing_page_url')\n",
    "    \n",
    "    authorships = paper.get('authorships', [])\n",
    "    authors_list = []\n",
    "    first_author_id = None\n",
    "    first_author_country = None\n",
    "    \n",
    "    for authorship in authorships:\n",
    "        author = authorship.get('author', {})\n",
    "        author_name = author.get('display_name')\n",
    "        if author_name:\n",
    "            authors_list.append(author_name)\n",
    "            \n",
    "        if not first_author_id and author.get('id'):\n",
    "            first_author_id = author.get('id').replace('https://openalex.org/', '')\n",
    "            first_author_country = get_first_author_country([authorship])\n",
    "    \n",
    "    authors = ', '.join(authors_list)\n",
    "\n",
    "    try:\n",
    "        c.execute('SELECT search_keyword FROM papers WHERE paperId = ?', (paper_id,))\n",
    "        existing = c.fetchone()\n",
    "        \n",
    "        if existing:\n",
    "            existing_keywords = existing[0].split(', ') if existing[0] else []\n",
    "            if keyword not in existing_keywords:\n",
    "                existing_keywords.append(keyword)\n",
    "                updated_keywords = ', '.join(existing_keywords)\n",
    "                c.execute('UPDATE papers SET search_keyword = ? WHERE paperId = ?', \n",
    "                         (updated_keywords, paper_id))\n",
    "        else:\n",
    "            c.execute(\"\"\"\n",
    "                INSERT INTO papers \n",
    "                (paperId, title, year, authors, url, search_keyword, firstAuthorCountryIso, \n",
    "                 firstAuthorId, journal, citationCount)\n",
    "                VALUES (?, ?, ?, ?, ?, ?, ?, ?, ?, ?)\n",
    "            \"\"\", (paper_id, title, year, authors, url, keyword, first_author_country, \n",
    "                  first_author_id, journal, citation_count))\n",
    "        \n",
    "        conn.commit()\n",
    "    except sqlite3.Error as e:\n",
    "        print(f'❌ DB error for paper {paper_id}: {e}')\n",
    "    finally:\n",
    "        conn.close()"
   ]
  },
  {
   "cell_type": "code",
   "execution_count": 5,
   "id": "3efc42f1",
   "metadata": {},
   "outputs": [
    {
     "data": {
      "text/plain": [
       "'# === Main loop for paper retrieval from OpenAlex ===\\n\\ninit_table(PAPERS_DB_PATH, \\'papers\\', papers_schema)\\n\\nfor keyword in query_list:\\n    print(f\\'\\n🔍 Processing keyword: \"{keyword}\"\\')\\n\\n    if is_done(keyword):\\n        print(f\\'✅ Keyword \"{keyword}\" already completed. Skipping.\\')\\n        continue\\n\\n    current_cursor = load_cursor(keyword)\\n    if current_cursor:\\n        print(f\\'🔄 Resuming from saved cursor for \"{keyword}\"\\')\\n        cursor = current_cursor\\n    else:\\n        print(f\\'⏳ Starting fresh for keyword \"{keyword}\"\\')\\n        cursor = \\'*\\'\\n\\n    retrieved = 0\\n    page_count = 0\\n\\n    while True:\\n        page_count += 1\\n\\n        params = {\\n            \\'search\\': keyword,\\n            \\'filter\\': f\\'type:journal-article|book|book-chapter|monograph,publication_year:{YEAR_RANGE}\\',\\n            \\'per_page\\': 200,\\n            \\'cursor\\': cursor,\\n            \\'mailto\\': \\'andre.borja.miranda@gmail.com\\'\\n        }\\n\\n        for attempt in range(2):\\n            try:\\n                sys.stdout.flush() # Flush statements to avoid an issue that waas happening where print statements were duplicated after the request\\n\\n                response = requests.get(BASE_URL, params=params, timeout=30)\\n                response.raise_for_status()\\n\\n                sys.stdout.flush()\\n\\n                data = response.json()\\n                break\\n            except requests.exceptions.RequestException as e:\\n                print(f\\'❌ Request error on attempt {attempt+1} for \"{keyword}\" page {page_count}: {e}\\')\\n                if attempt == 0:\\n                    print(f\\'⏳ Retrying after {RETRY_DELAY} seconds...\\')\\n                    time.sleep(RETRY_DELAY)\\n                else:\\n                    print(\\'⚠️ Skipping this batch due to repeated failure.\\')\\n                    data = None\\n\\n        if data is None:\\n            print(f\\'⚠️ No data retrieved for keyword \"{keyword}\" page {page_count}, breaking loop.\\')\\n            break\\n\\n        if \\'error\\' in data:\\n            print(f\\'❌ API Error for \"{keyword}\": {data.get(\"message\", \"Unknown error\")}\\')\\n            break\\n\\n        papers = data.get(\\'results\\', [])\\n        if not papers:\\n            print(f\\'✅ No more papers available for \"{keyword}\" (reached end of results)\\')\\n            print(f\\'✅ Completed all available results for \"{keyword}\" (total: {retrieved} papers across {page_count} pages)\\')\\n            delete_cursor(keyword)\\n            mark_done(keyword)\\n            break\\n\\n        retrieved += len(papers)\\n        print(f\\'📄 Page {page_count}: {retrieved} papers retrieved for \"{keyword}\"\\')\\n\\n        for paper in papers:\\n            save_paper_to_db(paper, keyword)\\n\\n        meta = data.get(\\'meta\\', {})\\n        next_cursor = meta.get(\\'next_cursor\\')\\n\\n        if next_cursor:\\n            cursor = next_cursor\\n            save_cursor(keyword, cursor)\\n            time.sleep(DELAY)\\n\\n        else:\\n            #Fallback redundancy in case the \"if not papers\" check fails\\n            print(f\\'✅ No more cursor available for \"{keyword}\" (total: {retrieved} papers across {page_count} pages)\\')\\n            delete_cursor(keyword)\\n            mark_done(keyword)\\n            break\\n\\nprint(\\'\\n🎉 All keywords processed.\\')'"
      ]
     },
     "execution_count": 5,
     "metadata": {},
     "output_type": "execute_result"
    }
   ],
   "source": [
    "'''# === Main loop for paper retrieval from OpenAlex ===\n",
    "\n",
    "init_table(PAPERS_DB_PATH, 'papers', papers_schema)\n",
    "\n",
    "for keyword in query_list:\n",
    "    print(f'\\n🔍 Processing keyword: \"{keyword}\"')\n",
    "\n",
    "    if is_done(keyword):\n",
    "        print(f'✅ Keyword \"{keyword}\" already completed. Skipping.')\n",
    "        continue\n",
    "\n",
    "    current_cursor = load_cursor(keyword)\n",
    "    if current_cursor:\n",
    "        print(f'🔄 Resuming from saved cursor for \"{keyword}\"')\n",
    "        cursor = current_cursor\n",
    "    else:\n",
    "        print(f'⏳ Starting fresh for keyword \"{keyword}\"')\n",
    "        cursor = '*'\n",
    "\n",
    "    retrieved = 0\n",
    "    page_count = 0\n",
    "\n",
    "    while True:\n",
    "        page_count += 1\n",
    "        \n",
    "        params = {\n",
    "            'search': keyword,\n",
    "            'filter': f'type:journal-article|book|book-chapter|monograph,publication_year:{YEAR_RANGE}',\n",
    "            'per_page': 200,\n",
    "            'cursor': cursor,\n",
    "            'mailto': 'andre.borja.miranda@gmail.com'\n",
    "        }\n",
    "\n",
    "        for attempt in range(2):\n",
    "            try:\n",
    "                sys.stdout.flush() # Flush statements to avoid an issue that waas happening where print statements were duplicated after the request\n",
    "                \n",
    "                response = requests.get(BASE_URL, params=params, timeout=30)\n",
    "                response.raise_for_status()\n",
    "                \n",
    "                sys.stdout.flush()\n",
    "                \n",
    "                data = response.json()\n",
    "                break\n",
    "            except requests.exceptions.RequestException as e:\n",
    "                print(f'❌ Request error on attempt {attempt+1} for \"{keyword}\" page {page_count}: {e}')\n",
    "                if attempt == 0:\n",
    "                    print(f'⏳ Retrying after {RETRY_DELAY} seconds...')\n",
    "                    time.sleep(RETRY_DELAY)\n",
    "                else:\n",
    "                    print('⚠️ Skipping this batch due to repeated failure.')\n",
    "                    data = None\n",
    "\n",
    "        if data is None:\n",
    "            print(f'⚠️ No data retrieved for keyword \"{keyword}\" page {page_count}, breaking loop.')\n",
    "            break\n",
    "\n",
    "        if 'error' in data:\n",
    "            print(f'❌ API Error for \"{keyword}\": {data.get(\"message\", \"Unknown error\")}')\n",
    "            break\n",
    "\n",
    "        papers = data.get('results', [])\n",
    "        if not papers:\n",
    "            print(f'✅ No more papers available for \"{keyword}\" (reached end of results)')\n",
    "            print(f'✅ Completed all available results for \"{keyword}\" (total: {retrieved} papers across {page_count} pages)')\n",
    "            delete_cursor(keyword)\n",
    "            mark_done(keyword)\n",
    "            break\n",
    "\n",
    "        retrieved += len(papers)\n",
    "        print(f'📄 Page {page_count}: {retrieved} papers retrieved for \"{keyword}\"')\n",
    "\n",
    "        for paper in papers:\n",
    "            save_paper_to_db(paper, keyword)\n",
    "\n",
    "        meta = data.get('meta', {})\n",
    "        next_cursor = meta.get('next_cursor')\n",
    "        \n",
    "        if next_cursor:\n",
    "            cursor = next_cursor\n",
    "            save_cursor(keyword, cursor)\n",
    "            time.sleep(DELAY)\n",
    "            \n",
    "        else:\n",
    "            #Fallback redundancy in case the \"if not papers\" check fails\n",
    "            print(f'✅ No more cursor available for \"{keyword}\" (total: {retrieved} papers across {page_count} pages)')\n",
    "            delete_cursor(keyword)\n",
    "            mark_done(keyword)\n",
    "            break\n",
    "\n",
    "print('\\n🎉 All keywords processed.')'''"
   ]
  },
  {
   "cell_type": "code",
   "execution_count": 5,
   "id": "9cb32e8b",
   "metadata": {},
   "outputs": [
    {
     "data": {
      "application/vnd.microsoft.datawrangler.viewer.v0+json": {
       "columns": [
        {
         "name": "index",
         "rawType": "int64",
         "type": "integer"
        },
        {
         "name": "year",
         "rawType": "int64",
         "type": "integer"
        },
        {
         "name": "search_keyword",
         "rawType": "object",
         "type": "string"
        },
        {
         "name": "paper_count",
         "rawType": "int64",
         "type": "integer"
        }
       ],
       "ref": "adcefd53-6719-4a66-a8a1-13491959c031",
       "rows": [
        [
         "0",
         "1970",
         "urban biodiversity",
         "1"
        ],
        [
         "1",
         "1970",
         "urban ecology",
         "7"
        ],
        [
         "2",
         "1970",
         "urban ecosystem",
         "1"
        ],
        [
         "3",
         "1970",
         "urban green spaces",
         "10"
        ],
        [
         "4",
         "1970",
         "urban vegetation",
         "14"
        ]
       ],
       "shape": {
        "columns": 3,
        "rows": 5
       }
      },
      "text/html": [
       "<div>\n",
       "<style scoped>\n",
       "    .dataframe tbody tr th:only-of-type {\n",
       "        vertical-align: middle;\n",
       "    }\n",
       "\n",
       "    .dataframe tbody tr th {\n",
       "        vertical-align: top;\n",
       "    }\n",
       "\n",
       "    .dataframe thead th {\n",
       "        text-align: right;\n",
       "    }\n",
       "</style>\n",
       "<table border=\"1\" class=\"dataframe\">\n",
       "  <thead>\n",
       "    <tr style=\"text-align: right;\">\n",
       "      <th></th>\n",
       "      <th>year</th>\n",
       "      <th>search_keyword</th>\n",
       "      <th>paper_count</th>\n",
       "    </tr>\n",
       "  </thead>\n",
       "  <tbody>\n",
       "    <tr>\n",
       "      <th>0</th>\n",
       "      <td>1970</td>\n",
       "      <td>urban biodiversity</td>\n",
       "      <td>1</td>\n",
       "    </tr>\n",
       "    <tr>\n",
       "      <th>1</th>\n",
       "      <td>1970</td>\n",
       "      <td>urban ecology</td>\n",
       "      <td>7</td>\n",
       "    </tr>\n",
       "    <tr>\n",
       "      <th>2</th>\n",
       "      <td>1970</td>\n",
       "      <td>urban ecosystem</td>\n",
       "      <td>1</td>\n",
       "    </tr>\n",
       "    <tr>\n",
       "      <th>3</th>\n",
       "      <td>1970</td>\n",
       "      <td>urban green spaces</td>\n",
       "      <td>10</td>\n",
       "    </tr>\n",
       "    <tr>\n",
       "      <th>4</th>\n",
       "      <td>1970</td>\n",
       "      <td>urban vegetation</td>\n",
       "      <td>14</td>\n",
       "    </tr>\n",
       "  </tbody>\n",
       "</table>\n",
       "</div>"
      ],
      "text/plain": [
       "   year      search_keyword  paper_count\n",
       "0  1970  urban biodiversity            1\n",
       "1  1970       urban ecology            7\n",
       "2  1970     urban ecosystem            1\n",
       "3  1970  urban green spaces           10\n",
       "4  1970    urban vegetation           14"
      ]
     },
     "execution_count": 5,
     "metadata": {},
     "output_type": "execute_result"
    }
   ],
   "source": [
    "with sqlite3.connect(PAPERS_DB_PATH) as conn:\n",
    "    df_raw = pd.read_sql_query(\"\"\"\n",
    "    SELECT year, search_keyword\n",
    "    FROM papers\n",
    "    WHERE search_keyword IS NOT NULL AND search_keyword != ''\n",
    "    \"\"\", conn)\n",
    "\n",
    "rows = []\n",
    "for _, row in df_raw.iterrows():\n",
    "    keywords = [k.strip() for k in row['search_keyword'].split(',')]\n",
    "    for keyword in keywords:\n",
    "        if keyword:\n",
    "            rows.append({'year': row['year'], 'search_keyword': keyword})\n",
    "\n",
    "df_expanded = pd.DataFrame(rows)\n",
    "df_keywords = df_expanded.groupby(['year', 'search_keyword']).size().reset_index(name='paper_count')\n",
    "\n",
    "df_totals = df_expanded.groupby('year').size().reset_index(name='paper_count')\n",
    "df_totals['search_keyword'] = 'total'\n",
    "\n",
    "df_keywords = df_keywords.sort_values('year')\n",
    "df_keywords.head()"
   ]
  },
  {
   "cell_type": "code",
   "execution_count": 6,
   "id": "8aa91fc8",
   "metadata": {},
   "outputs": [
    {
     "data": {
      "application/vnd.plotly.v1+json": {
       "config": {
        "plotlyServerURL": "https://plot.ly"
       },
       "data": [
        {
         "hovertemplate": "search_keyword=urban biodiversity<br>year=%{x}<br>paper_count=%{y}<extra></extra>",
         "legendgroup": "urban biodiversity",
         "line": {
          "color": "#E6A366",
          "dash": "solid"
         },
         "marker": {
          "symbol": "circle"
         },
         "mode": "lines+markers",
         "name": "urban biodiversity",
         "orientation": "v",
         "showlegend": true,
         "type": "scatter",
         "x": {
          "bdata": "sge8B70HvgfCB8QHxQfGB8cHyAfJB8oHywfMB80HzgfPB9AH0QfSB9MH1AfVB9YH1wfYB9kH2gfbB9wH3QfeB98H4AfhB+IH4wfkB+UH5gfnBw==",
          "dtype": "i2"
         },
         "xaxis": "x",
         "y": {
          "bdata": "AQABAAEAAQABAAEAAQAIAAUAEAASABoAKQAhAB4APwA+AFAAlwBnAHQAjACNALgA6QAPATwBDgHRAW4CcQIqAg8DwQOXBJcFgQT0AloEegW6Bg==",
          "dtype": "i2"
         },
         "yaxis": "y"
        },
        {
         "hovertemplate": "search_keyword=urban ecology<br>year=%{x}<br>paper_count=%{y}<extra></extra>",
         "legendgroup": "urban ecology",
         "line": {
          "color": "#6B9BD2",
          "dash": "solid"
         },
         "marker": {
          "symbol": "circle"
         },
         "mode": "lines+markers",
         "name": "urban ecology",
         "orientation": "v",
         "showlegend": true,
         "type": "scatter",
         "x": {
          "bdata": "sgezB7QHtQe2B7cHuAe5B7oHuwe8B70Hvge/B8AHwQfCB8MHxAfFB8YHxwfIB8kHygfLB8wHzQfOB88H0AfRB9IH0wfUB9UH1gfXB9gH2QfaB9sH3AfdB94H3wfgB+EH4gfjB+QH5QfmB+cH",
          "dtype": "i2"
         },
         "xaxis": "x",
         "y": {
          "bdata": "BwAPAAkAEQARABIAEwAOABkAHAAhACIAGAASAB0AEgAYABgAIQArACkAKwAwAEYAMQA7AEEALgBTAG0AXwC9AHMAkwDWAM0A/ABNAV8B2wFsARUC6ALHAsMCWgT0BHIFHwccBmIE+ATOBXsH",
          "dtype": "i2"
         },
         "yaxis": "y"
        },
        {
         "hovertemplate": "search_keyword=urban ecosystem<br>year=%{x}<br>paper_count=%{y}<extra></extra>",
         "legendgroup": "urban ecosystem",
         "line": {
          "color": "#E6A8D0",
          "dash": "solid"
         },
         "marker": {
          "symbol": "circle"
         },
         "mode": "lines+markers",
         "name": "urban ecosystem",
         "orientation": "v",
         "showlegend": true,
         "type": "scatter",
         "x": {
          "bdata": "sgezB7QHtQe2B7cHuAe5B7oHuwe8B70Hvge/B8AHwQfCB8MHxAfFB8YHxwfIB8kHygfLB8wHzQfOB88H0AfRB9IH0wfUB9UH1gfXB9gH2QfaB9sH3AfdB94H3wfgB+EH4gfjB+QH5QfmB+cH",
          "dtype": "i2"
         },
         "xaxis": "x",
         "y": {
          "bdata": "AQAGAAoADQAJAA8AEAAfAA8AGwAdADEAHAASABsADAAZABgAIwA1AC4AKwA4AEcAQQBRAEYAVABeAGsAdQDyAJoA0gD8APMAPAFmAaIBBgLVAUADPQQTBP0DjwVQB3oIfQr1CNQFPwjSCQcM",
          "dtype": "i2"
         },
         "yaxis": "y"
        },
        {
         "hovertemplate": "search_keyword=urban green spaces<br>year=%{x}<br>paper_count=%{y}<extra></extra>",
         "legendgroup": "urban green spaces",
         "line": {
          "color": "#7FB069",
          "dash": "solid"
         },
         "marker": {
          "symbol": "circle"
         },
         "mode": "lines+markers",
         "name": "urban green spaces",
         "orientation": "v",
         "showlegend": true,
         "type": "scatter",
         "x": {
          "bdata": "sgezB7QHtQe2B7cHuAe5B7oHuwe8B70Hvge/B8AHwQfCB8MHxAfFB8YHxwfIB8kHygfLB8wHzQfOB88H0AfRB9IH0wfUB9UH1gfXB9gH2QfaB9sH3AfdB94H3wfgB+EH4gfjB+QH5QfmB+cH",
          "dtype": "i2"
         },
         "xaxis": "x",
         "y": {
          "bdata": "CgAIAA0AEAANABAAFgAUABQAFAAWACAAKgAYABoAGQAVABoAHQAjACYALAAlADAAMgBIAD4AQgBaAF0AmACdAJsA4QDnAPoAOwGCAZwBIAJuAiADqwS9BKsE2Ab+BzgJsgpSCosHygnUCsoN",
          "dtype": "i2"
         },
         "yaxis": "y"
        },
        {
         "hovertemplate": "search_keyword=urban vegetation<br>year=%{x}<br>paper_count=%{y}<extra></extra>",
         "legendgroup": "urban vegetation",
         "line": {
          "color": "#B19CD9",
          "dash": "solid"
         },
         "marker": {
          "symbol": "circle"
         },
         "mode": "lines+markers",
         "name": "urban vegetation",
         "orientation": "v",
         "showlegend": true,
         "type": "scatter",
         "x": {
          "bdata": "sgezB7QHtQe2B7cHuAe5B7oHuwe8B70Hvge/B8AHwQfCB8MHxAfFB8YHxwfIB8kHygfLB8wHzQfOB88H0AfRB9IH0wfUB9UH1gfXB9gH2QfaB9sH3AfdB94H3wfgB+EH4gfjB+QH5QfmB+cH",
          "dtype": "i2"
         },
         "xaxis": "x",
         "y": {
          "bdata": "DgAOABIAHgAcABwAGwAfABQAIQAbAEAAKQAlAB4AIAAtACsAMwA7ADkAQgA+AD8AQQBNAFMARQBYAGwAmACoAIEAtwDVAL0A7ABGAW4BkwFNAW0CBAMRA4UCJwPVA3oELwU+BFgCYwPkAwcF",
          "dtype": "i2"
         },
         "yaxis": "y"
        },
        {
         "hovertemplate": "search_keyword=urban wildlife<br>year=%{x}<br>paper_count=%{y}<extra></extra>",
         "legendgroup": "urban wildlife",
         "line": {
          "color": "#D67B7B",
          "dash": "solid"
         },
         "marker": {
          "symbol": "circle"
         },
         "mode": "lines+markers",
         "name": "urban wildlife",
         "orientation": "v",
         "showlegend": true,
         "type": "scatter",
         "x": {
          "bdata": "sgezB7QHtQe2B7cHuAe5B7oHuwe8B70Hvge/B8AHwQfCB8MHxAfFB8YHxwfIB8kHygfLB8wHzQfOB88H0AfRB9IH0wfUB9UH1gfXB9gH2QfaB9sH3AfdB94H3wfgB+EH4gfjB+QH5QfmB+cH",
          "dtype": "i2"
         },
         "xaxis": "x",
         "y": {
          "bdata": "CAALAA0ADwAPABMAEgATABEAEwAcAB8AIgASABcAEQAYABkAJQAvACgAIwAmADQAMQBAADYAOwBJAEYAVQB/AGYAbQCHAIMAowDKAM4A+QDNADgBcgHFAYYB9AE9AsEC4gI5AsMBBgKWAvYC",
          "dtype": "i2"
         },
         "yaxis": "y"
        }
       ],
       "layout": {
        "font": {
         "size": 12
        },
        "height": 600,
        "legend": {
         "title": {
          "text": "Keyword"
         },
         "tracegroupgap": 0
        },
        "template": {
         "data": {
          "bar": [
           {
            "error_x": {
             "color": "#f2f5fa"
            },
            "error_y": {
             "color": "#f2f5fa"
            },
            "marker": {
             "line": {
              "color": "rgb(17,17,17)",
              "width": 0.5
             },
             "pattern": {
              "fillmode": "overlay",
              "size": 10,
              "solidity": 0.2
             }
            },
            "type": "bar"
           }
          ],
          "barpolar": [
           {
            "marker": {
             "line": {
              "color": "rgb(17,17,17)",
              "width": 0.5
             },
             "pattern": {
              "fillmode": "overlay",
              "size": 10,
              "solidity": 0.2
             }
            },
            "type": "barpolar"
           }
          ],
          "carpet": [
           {
            "aaxis": {
             "endlinecolor": "#A2B1C6",
             "gridcolor": "#506784",
             "linecolor": "#506784",
             "minorgridcolor": "#506784",
             "startlinecolor": "#A2B1C6"
            },
            "baxis": {
             "endlinecolor": "#A2B1C6",
             "gridcolor": "#506784",
             "linecolor": "#506784",
             "minorgridcolor": "#506784",
             "startlinecolor": "#A2B1C6"
            },
            "type": "carpet"
           }
          ],
          "choropleth": [
           {
            "colorbar": {
             "outlinewidth": 0,
             "ticks": ""
            },
            "type": "choropleth"
           }
          ],
          "contour": [
           {
            "colorbar": {
             "outlinewidth": 0,
             "ticks": ""
            },
            "colorscale": [
             [
              0,
              "#0d0887"
             ],
             [
              0.1111111111111111,
              "#46039f"
             ],
             [
              0.2222222222222222,
              "#7201a8"
             ],
             [
              0.3333333333333333,
              "#9c179e"
             ],
             [
              0.4444444444444444,
              "#bd3786"
             ],
             [
              0.5555555555555556,
              "#d8576b"
             ],
             [
              0.6666666666666666,
              "#ed7953"
             ],
             [
              0.7777777777777778,
              "#fb9f3a"
             ],
             [
              0.8888888888888888,
              "#fdca26"
             ],
             [
              1,
              "#f0f921"
             ]
            ],
            "type": "contour"
           }
          ],
          "contourcarpet": [
           {
            "colorbar": {
             "outlinewidth": 0,
             "ticks": ""
            },
            "type": "contourcarpet"
           }
          ],
          "heatmap": [
           {
            "colorbar": {
             "outlinewidth": 0,
             "ticks": ""
            },
            "colorscale": [
             [
              0,
              "#0d0887"
             ],
             [
              0.1111111111111111,
              "#46039f"
             ],
             [
              0.2222222222222222,
              "#7201a8"
             ],
             [
              0.3333333333333333,
              "#9c179e"
             ],
             [
              0.4444444444444444,
              "#bd3786"
             ],
             [
              0.5555555555555556,
              "#d8576b"
             ],
             [
              0.6666666666666666,
              "#ed7953"
             ],
             [
              0.7777777777777778,
              "#fb9f3a"
             ],
             [
              0.8888888888888888,
              "#fdca26"
             ],
             [
              1,
              "#f0f921"
             ]
            ],
            "type": "heatmap"
           }
          ],
          "histogram": [
           {
            "marker": {
             "pattern": {
              "fillmode": "overlay",
              "size": 10,
              "solidity": 0.2
             }
            },
            "type": "histogram"
           }
          ],
          "histogram2d": [
           {
            "colorbar": {
             "outlinewidth": 0,
             "ticks": ""
            },
            "colorscale": [
             [
              0,
              "#0d0887"
             ],
             [
              0.1111111111111111,
              "#46039f"
             ],
             [
              0.2222222222222222,
              "#7201a8"
             ],
             [
              0.3333333333333333,
              "#9c179e"
             ],
             [
              0.4444444444444444,
              "#bd3786"
             ],
             [
              0.5555555555555556,
              "#d8576b"
             ],
             [
              0.6666666666666666,
              "#ed7953"
             ],
             [
              0.7777777777777778,
              "#fb9f3a"
             ],
             [
              0.8888888888888888,
              "#fdca26"
             ],
             [
              1,
              "#f0f921"
             ]
            ],
            "type": "histogram2d"
           }
          ],
          "histogram2dcontour": [
           {
            "colorbar": {
             "outlinewidth": 0,
             "ticks": ""
            },
            "colorscale": [
             [
              0,
              "#0d0887"
             ],
             [
              0.1111111111111111,
              "#46039f"
             ],
             [
              0.2222222222222222,
              "#7201a8"
             ],
             [
              0.3333333333333333,
              "#9c179e"
             ],
             [
              0.4444444444444444,
              "#bd3786"
             ],
             [
              0.5555555555555556,
              "#d8576b"
             ],
             [
              0.6666666666666666,
              "#ed7953"
             ],
             [
              0.7777777777777778,
              "#fb9f3a"
             ],
             [
              0.8888888888888888,
              "#fdca26"
             ],
             [
              1,
              "#f0f921"
             ]
            ],
            "type": "histogram2dcontour"
           }
          ],
          "mesh3d": [
           {
            "colorbar": {
             "outlinewidth": 0,
             "ticks": ""
            },
            "type": "mesh3d"
           }
          ],
          "parcoords": [
           {
            "line": {
             "colorbar": {
              "outlinewidth": 0,
              "ticks": ""
             }
            },
            "type": "parcoords"
           }
          ],
          "pie": [
           {
            "automargin": true,
            "type": "pie"
           }
          ],
          "scatter": [
           {
            "marker": {
             "line": {
              "color": "#283442"
             }
            },
            "type": "scatter"
           }
          ],
          "scatter3d": [
           {
            "line": {
             "colorbar": {
              "outlinewidth": 0,
              "ticks": ""
             }
            },
            "marker": {
             "colorbar": {
              "outlinewidth": 0,
              "ticks": ""
             }
            },
            "type": "scatter3d"
           }
          ],
          "scattercarpet": [
           {
            "marker": {
             "colorbar": {
              "outlinewidth": 0,
              "ticks": ""
             }
            },
            "type": "scattercarpet"
           }
          ],
          "scattergeo": [
           {
            "marker": {
             "colorbar": {
              "outlinewidth": 0,
              "ticks": ""
             }
            },
            "type": "scattergeo"
           }
          ],
          "scattergl": [
           {
            "marker": {
             "line": {
              "color": "#283442"
             }
            },
            "type": "scattergl"
           }
          ],
          "scattermap": [
           {
            "marker": {
             "colorbar": {
              "outlinewidth": 0,
              "ticks": ""
             }
            },
            "type": "scattermap"
           }
          ],
          "scattermapbox": [
           {
            "marker": {
             "colorbar": {
              "outlinewidth": 0,
              "ticks": ""
             }
            },
            "type": "scattermapbox"
           }
          ],
          "scatterpolar": [
           {
            "marker": {
             "colorbar": {
              "outlinewidth": 0,
              "ticks": ""
             }
            },
            "type": "scatterpolar"
           }
          ],
          "scatterpolargl": [
           {
            "marker": {
             "colorbar": {
              "outlinewidth": 0,
              "ticks": ""
             }
            },
            "type": "scatterpolargl"
           }
          ],
          "scatterternary": [
           {
            "marker": {
             "colorbar": {
              "outlinewidth": 0,
              "ticks": ""
             }
            },
            "type": "scatterternary"
           }
          ],
          "surface": [
           {
            "colorbar": {
             "outlinewidth": 0,
             "ticks": ""
            },
            "colorscale": [
             [
              0,
              "#0d0887"
             ],
             [
              0.1111111111111111,
              "#46039f"
             ],
             [
              0.2222222222222222,
              "#7201a8"
             ],
             [
              0.3333333333333333,
              "#9c179e"
             ],
             [
              0.4444444444444444,
              "#bd3786"
             ],
             [
              0.5555555555555556,
              "#d8576b"
             ],
             [
              0.6666666666666666,
              "#ed7953"
             ],
             [
              0.7777777777777778,
              "#fb9f3a"
             ],
             [
              0.8888888888888888,
              "#fdca26"
             ],
             [
              1,
              "#f0f921"
             ]
            ],
            "type": "surface"
           }
          ],
          "table": [
           {
            "cells": {
             "fill": {
              "color": "#506784"
             },
             "line": {
              "color": "rgb(17,17,17)"
             }
            },
            "header": {
             "fill": {
              "color": "#2a3f5f"
             },
             "line": {
              "color": "rgb(17,17,17)"
             }
            },
            "type": "table"
           }
          ]
         },
         "layout": {
          "annotationdefaults": {
           "arrowcolor": "#f2f5fa",
           "arrowhead": 0,
           "arrowwidth": 1
          },
          "autotypenumbers": "strict",
          "coloraxis": {
           "colorbar": {
            "outlinewidth": 0,
            "ticks": ""
           }
          },
          "colorscale": {
           "diverging": [
            [
             0,
             "#8e0152"
            ],
            [
             0.1,
             "#c51b7d"
            ],
            [
             0.2,
             "#de77ae"
            ],
            [
             0.3,
             "#f1b6da"
            ],
            [
             0.4,
             "#fde0ef"
            ],
            [
             0.5,
             "#f7f7f7"
            ],
            [
             0.6,
             "#e6f5d0"
            ],
            [
             0.7,
             "#b8e186"
            ],
            [
             0.8,
             "#7fbc41"
            ],
            [
             0.9,
             "#4d9221"
            ],
            [
             1,
             "#276419"
            ]
           ],
           "sequential": [
            [
             0,
             "#0d0887"
            ],
            [
             0.1111111111111111,
             "#46039f"
            ],
            [
             0.2222222222222222,
             "#7201a8"
            ],
            [
             0.3333333333333333,
             "#9c179e"
            ],
            [
             0.4444444444444444,
             "#bd3786"
            ],
            [
             0.5555555555555556,
             "#d8576b"
            ],
            [
             0.6666666666666666,
             "#ed7953"
            ],
            [
             0.7777777777777778,
             "#fb9f3a"
            ],
            [
             0.8888888888888888,
             "#fdca26"
            ],
            [
             1,
             "#f0f921"
            ]
           ],
           "sequentialminus": [
            [
             0,
             "#0d0887"
            ],
            [
             0.1111111111111111,
             "#46039f"
            ],
            [
             0.2222222222222222,
             "#7201a8"
            ],
            [
             0.3333333333333333,
             "#9c179e"
            ],
            [
             0.4444444444444444,
             "#bd3786"
            ],
            [
             0.5555555555555556,
             "#d8576b"
            ],
            [
             0.6666666666666666,
             "#ed7953"
            ],
            [
             0.7777777777777778,
             "#fb9f3a"
            ],
            [
             0.8888888888888888,
             "#fdca26"
            ],
            [
             1,
             "#f0f921"
            ]
           ]
          },
          "colorway": [
           "#636efa",
           "#EF553B",
           "#00cc96",
           "#ab63fa",
           "#FFA15A",
           "#19d3f3",
           "#FF6692",
           "#B6E880",
           "#FF97FF",
           "#FECB52"
          ],
          "font": {
           "color": "#f2f5fa"
          },
          "geo": {
           "bgcolor": "rgb(17,17,17)",
           "lakecolor": "rgb(17,17,17)",
           "landcolor": "rgb(17,17,17)",
           "showlakes": true,
           "showland": true,
           "subunitcolor": "#506784"
          },
          "hoverlabel": {
           "align": "left"
          },
          "hovermode": "closest",
          "mapbox": {
           "style": "dark"
          },
          "paper_bgcolor": "rgb(17,17,17)",
          "plot_bgcolor": "rgb(17,17,17)",
          "polar": {
           "angularaxis": {
            "gridcolor": "#506784",
            "linecolor": "#506784",
            "ticks": ""
           },
           "bgcolor": "rgb(17,17,17)",
           "radialaxis": {
            "gridcolor": "#506784",
            "linecolor": "#506784",
            "ticks": ""
           }
          },
          "scene": {
           "xaxis": {
            "backgroundcolor": "rgb(17,17,17)",
            "gridcolor": "#506784",
            "gridwidth": 2,
            "linecolor": "#506784",
            "showbackground": true,
            "ticks": "",
            "zerolinecolor": "#C8D4E3"
           },
           "yaxis": {
            "backgroundcolor": "rgb(17,17,17)",
            "gridcolor": "#506784",
            "gridwidth": 2,
            "linecolor": "#506784",
            "showbackground": true,
            "ticks": "",
            "zerolinecolor": "#C8D4E3"
           },
           "zaxis": {
            "backgroundcolor": "rgb(17,17,17)",
            "gridcolor": "#506784",
            "gridwidth": 2,
            "linecolor": "#506784",
            "showbackground": true,
            "ticks": "",
            "zerolinecolor": "#C8D4E3"
           }
          },
          "shapedefaults": {
           "line": {
            "color": "#f2f5fa"
           }
          },
          "sliderdefaults": {
           "bgcolor": "#C8D4E3",
           "bordercolor": "rgb(17,17,17)",
           "borderwidth": 1,
           "tickwidth": 0
          },
          "ternary": {
           "aaxis": {
            "gridcolor": "#506784",
            "linecolor": "#506784",
            "ticks": ""
           },
           "baxis": {
            "gridcolor": "#506784",
            "linecolor": "#506784",
            "ticks": ""
           },
           "bgcolor": "rgb(17,17,17)",
           "caxis": {
            "gridcolor": "#506784",
            "linecolor": "#506784",
            "ticks": ""
           }
          },
          "title": {
           "x": 0.05
          },
          "updatemenudefaults": {
           "bgcolor": "#506784",
           "borderwidth": 0
          },
          "xaxis": {
           "automargin": true,
           "gridcolor": "#283442",
           "linecolor": "#506784",
           "ticks": "",
           "title": {
            "standoff": 15
           },
           "zerolinecolor": "#283442",
           "zerolinewidth": 2
          },
          "yaxis": {
           "automargin": true,
           "gridcolor": "#283442",
           "linecolor": "#506784",
           "ticks": "",
           "title": {
            "standoff": 15
           },
           "zerolinecolor": "#283442",
           "zerolinewidth": 2
          }
         }
        },
        "title": {
         "text": "Research Papers Published by Year"
        },
        "width": 1000,
        "xaxis": {
         "anchor": "y",
         "domain": [
          0,
          1
         ],
         "dtick": 5,
         "showgrid": true,
         "tickangle": 45,
         "title": {
          "text": "Year"
         }
        },
        "yaxis": {
         "anchor": "x",
         "domain": [
          0,
          1
         ],
         "showgrid": true,
         "title": {
          "text": "Number of Papers"
         }
        }
       }
      }
     },
     "metadata": {},
     "output_type": "display_data"
    }
   ],
   "source": [
    "color_map = {\n",
    "    'urban ecology': '#6B9BD2',\n",
    "    'urban biodiversity': '#E6A366',\n",
    "    'urban green spaces': '#7FB069',\n",
    "    'urban wildlife': '#D67B7B',\n",
    "    'urban vegetation': '#B19CD9',\n",
    "    'urban ecosystem': '#E6A8D0',\n",
    "    'total': '#FFD700'\n",
    "}\n",
    "\n",
    "fig = px.line(\n",
    "    df_keywords,\n",
    "    x='year',\n",
    "    y='paper_count',\n",
    "    color='search_keyword',\n",
    "    color_discrete_map=color_map,\n",
    "    title='Research Papers Published by Year',\n",
    "    markers=True,\n",
    ")\n",
    "\n",
    "fig.update_layout(\n",
    "    xaxis_title='Year',\n",
    "    yaxis_title='Number of Papers',\n",
    "    legend_title='Keyword',\n",
    "    font=dict(size=12),\n",
    "    width=1000,\n",
    "    height=600,\n",
    "    template='plotly_dark',\n",
    "    xaxis=dict(showgrid=True,\n",
    "               dtick=5,\n",
    "               tickangle=45),\n",
    "    yaxis=dict(showgrid=True),\n",
    ")\n",
    "\n",
    "fig.show()\n"
   ]
  },
  {
   "cell_type": "markdown",
   "id": "14197968",
   "metadata": {},
   "source": [
    "Totals graph:"
   ]
  },
  {
   "cell_type": "code",
   "execution_count": 7,
   "id": "ff9d19e7",
   "metadata": {},
   "outputs": [
    {
     "data": {
      "application/vnd.plotly.v1+json": {
       "config": {
        "plotlyServerURL": "https://plot.ly"
       },
       "data": [
        {
         "hovertemplate": "search_keyword=total<br>year=%{x}<br>paper_count=%{y}<extra></extra>",
         "legendgroup": "total",
         "line": {
          "color": "#FFD700",
          "dash": "solid"
         },
         "marker": {
          "symbol": "circle"
         },
         "mode": "lines+markers",
         "name": "total",
         "orientation": "v",
         "showlegend": true,
         "type": "scatter",
         "x": {
          "bdata": "sgezB7QHtQe2B7cHuAe5B7oHuwe8B70Hvge/B8AHwQfCB8MHxAfFB8YHxwfIB8kHygfLB8wHzQfOB88H0AfRB9IH0wfUB9UH1gfXB9gH2QfaB9sH3AfdB94H3wfgB+EH4gfjB+QH5QfmB+cH",
          "dtype": "i2"
         },
         "xaxis": "x",
         "y": {
          "bdata": "KQA2AD8AWwBSAGAAZgBzAGEAfwCMANMAqgBzAIcAaACMAI4AugDuAOYA7AABAUIBMAGKAW8BYgHrASUCqQIKBPYC3gOhBIcEugUuB+gHyQnXCOsNtBLeEqAR6xgVHvYi9ilbJNAYxCBoJgMw",
          "dtype": "i2"
         },
         "yaxis": "y"
        }
       ],
       "layout": {
        "font": {
         "size": 12
        },
        "height": 600,
        "legend": {
         "title": {
          "text": "Keyword"
         },
         "tracegroupgap": 0
        },
        "template": {
         "data": {
          "bar": [
           {
            "error_x": {
             "color": "#f2f5fa"
            },
            "error_y": {
             "color": "#f2f5fa"
            },
            "marker": {
             "line": {
              "color": "rgb(17,17,17)",
              "width": 0.5
             },
             "pattern": {
              "fillmode": "overlay",
              "size": 10,
              "solidity": 0.2
             }
            },
            "type": "bar"
           }
          ],
          "barpolar": [
           {
            "marker": {
             "line": {
              "color": "rgb(17,17,17)",
              "width": 0.5
             },
             "pattern": {
              "fillmode": "overlay",
              "size": 10,
              "solidity": 0.2
             }
            },
            "type": "barpolar"
           }
          ],
          "carpet": [
           {
            "aaxis": {
             "endlinecolor": "#A2B1C6",
             "gridcolor": "#506784",
             "linecolor": "#506784",
             "minorgridcolor": "#506784",
             "startlinecolor": "#A2B1C6"
            },
            "baxis": {
             "endlinecolor": "#A2B1C6",
             "gridcolor": "#506784",
             "linecolor": "#506784",
             "minorgridcolor": "#506784",
             "startlinecolor": "#A2B1C6"
            },
            "type": "carpet"
           }
          ],
          "choropleth": [
           {
            "colorbar": {
             "outlinewidth": 0,
             "ticks": ""
            },
            "type": "choropleth"
           }
          ],
          "contour": [
           {
            "colorbar": {
             "outlinewidth": 0,
             "ticks": ""
            },
            "colorscale": [
             [
              0,
              "#0d0887"
             ],
             [
              0.1111111111111111,
              "#46039f"
             ],
             [
              0.2222222222222222,
              "#7201a8"
             ],
             [
              0.3333333333333333,
              "#9c179e"
             ],
             [
              0.4444444444444444,
              "#bd3786"
             ],
             [
              0.5555555555555556,
              "#d8576b"
             ],
             [
              0.6666666666666666,
              "#ed7953"
             ],
             [
              0.7777777777777778,
              "#fb9f3a"
             ],
             [
              0.8888888888888888,
              "#fdca26"
             ],
             [
              1,
              "#f0f921"
             ]
            ],
            "type": "contour"
           }
          ],
          "contourcarpet": [
           {
            "colorbar": {
             "outlinewidth": 0,
             "ticks": ""
            },
            "type": "contourcarpet"
           }
          ],
          "heatmap": [
           {
            "colorbar": {
             "outlinewidth": 0,
             "ticks": ""
            },
            "colorscale": [
             [
              0,
              "#0d0887"
             ],
             [
              0.1111111111111111,
              "#46039f"
             ],
             [
              0.2222222222222222,
              "#7201a8"
             ],
             [
              0.3333333333333333,
              "#9c179e"
             ],
             [
              0.4444444444444444,
              "#bd3786"
             ],
             [
              0.5555555555555556,
              "#d8576b"
             ],
             [
              0.6666666666666666,
              "#ed7953"
             ],
             [
              0.7777777777777778,
              "#fb9f3a"
             ],
             [
              0.8888888888888888,
              "#fdca26"
             ],
             [
              1,
              "#f0f921"
             ]
            ],
            "type": "heatmap"
           }
          ],
          "histogram": [
           {
            "marker": {
             "pattern": {
              "fillmode": "overlay",
              "size": 10,
              "solidity": 0.2
             }
            },
            "type": "histogram"
           }
          ],
          "histogram2d": [
           {
            "colorbar": {
             "outlinewidth": 0,
             "ticks": ""
            },
            "colorscale": [
             [
              0,
              "#0d0887"
             ],
             [
              0.1111111111111111,
              "#46039f"
             ],
             [
              0.2222222222222222,
              "#7201a8"
             ],
             [
              0.3333333333333333,
              "#9c179e"
             ],
             [
              0.4444444444444444,
              "#bd3786"
             ],
             [
              0.5555555555555556,
              "#d8576b"
             ],
             [
              0.6666666666666666,
              "#ed7953"
             ],
             [
              0.7777777777777778,
              "#fb9f3a"
             ],
             [
              0.8888888888888888,
              "#fdca26"
             ],
             [
              1,
              "#f0f921"
             ]
            ],
            "type": "histogram2d"
           }
          ],
          "histogram2dcontour": [
           {
            "colorbar": {
             "outlinewidth": 0,
             "ticks": ""
            },
            "colorscale": [
             [
              0,
              "#0d0887"
             ],
             [
              0.1111111111111111,
              "#46039f"
             ],
             [
              0.2222222222222222,
              "#7201a8"
             ],
             [
              0.3333333333333333,
              "#9c179e"
             ],
             [
              0.4444444444444444,
              "#bd3786"
             ],
             [
              0.5555555555555556,
              "#d8576b"
             ],
             [
              0.6666666666666666,
              "#ed7953"
             ],
             [
              0.7777777777777778,
              "#fb9f3a"
             ],
             [
              0.8888888888888888,
              "#fdca26"
             ],
             [
              1,
              "#f0f921"
             ]
            ],
            "type": "histogram2dcontour"
           }
          ],
          "mesh3d": [
           {
            "colorbar": {
             "outlinewidth": 0,
             "ticks": ""
            },
            "type": "mesh3d"
           }
          ],
          "parcoords": [
           {
            "line": {
             "colorbar": {
              "outlinewidth": 0,
              "ticks": ""
             }
            },
            "type": "parcoords"
           }
          ],
          "pie": [
           {
            "automargin": true,
            "type": "pie"
           }
          ],
          "scatter": [
           {
            "marker": {
             "line": {
              "color": "#283442"
             }
            },
            "type": "scatter"
           }
          ],
          "scatter3d": [
           {
            "line": {
             "colorbar": {
              "outlinewidth": 0,
              "ticks": ""
             }
            },
            "marker": {
             "colorbar": {
              "outlinewidth": 0,
              "ticks": ""
             }
            },
            "type": "scatter3d"
           }
          ],
          "scattercarpet": [
           {
            "marker": {
             "colorbar": {
              "outlinewidth": 0,
              "ticks": ""
             }
            },
            "type": "scattercarpet"
           }
          ],
          "scattergeo": [
           {
            "marker": {
             "colorbar": {
              "outlinewidth": 0,
              "ticks": ""
             }
            },
            "type": "scattergeo"
           }
          ],
          "scattergl": [
           {
            "marker": {
             "line": {
              "color": "#283442"
             }
            },
            "type": "scattergl"
           }
          ],
          "scattermap": [
           {
            "marker": {
             "colorbar": {
              "outlinewidth": 0,
              "ticks": ""
             }
            },
            "type": "scattermap"
           }
          ],
          "scattermapbox": [
           {
            "marker": {
             "colorbar": {
              "outlinewidth": 0,
              "ticks": ""
             }
            },
            "type": "scattermapbox"
           }
          ],
          "scatterpolar": [
           {
            "marker": {
             "colorbar": {
              "outlinewidth": 0,
              "ticks": ""
             }
            },
            "type": "scatterpolar"
           }
          ],
          "scatterpolargl": [
           {
            "marker": {
             "colorbar": {
              "outlinewidth": 0,
              "ticks": ""
             }
            },
            "type": "scatterpolargl"
           }
          ],
          "scatterternary": [
           {
            "marker": {
             "colorbar": {
              "outlinewidth": 0,
              "ticks": ""
             }
            },
            "type": "scatterternary"
           }
          ],
          "surface": [
           {
            "colorbar": {
             "outlinewidth": 0,
             "ticks": ""
            },
            "colorscale": [
             [
              0,
              "#0d0887"
             ],
             [
              0.1111111111111111,
              "#46039f"
             ],
             [
              0.2222222222222222,
              "#7201a8"
             ],
             [
              0.3333333333333333,
              "#9c179e"
             ],
             [
              0.4444444444444444,
              "#bd3786"
             ],
             [
              0.5555555555555556,
              "#d8576b"
             ],
             [
              0.6666666666666666,
              "#ed7953"
             ],
             [
              0.7777777777777778,
              "#fb9f3a"
             ],
             [
              0.8888888888888888,
              "#fdca26"
             ],
             [
              1,
              "#f0f921"
             ]
            ],
            "type": "surface"
           }
          ],
          "table": [
           {
            "cells": {
             "fill": {
              "color": "#506784"
             },
             "line": {
              "color": "rgb(17,17,17)"
             }
            },
            "header": {
             "fill": {
              "color": "#2a3f5f"
             },
             "line": {
              "color": "rgb(17,17,17)"
             }
            },
            "type": "table"
           }
          ]
         },
         "layout": {
          "annotationdefaults": {
           "arrowcolor": "#f2f5fa",
           "arrowhead": 0,
           "arrowwidth": 1
          },
          "autotypenumbers": "strict",
          "coloraxis": {
           "colorbar": {
            "outlinewidth": 0,
            "ticks": ""
           }
          },
          "colorscale": {
           "diverging": [
            [
             0,
             "#8e0152"
            ],
            [
             0.1,
             "#c51b7d"
            ],
            [
             0.2,
             "#de77ae"
            ],
            [
             0.3,
             "#f1b6da"
            ],
            [
             0.4,
             "#fde0ef"
            ],
            [
             0.5,
             "#f7f7f7"
            ],
            [
             0.6,
             "#e6f5d0"
            ],
            [
             0.7,
             "#b8e186"
            ],
            [
             0.8,
             "#7fbc41"
            ],
            [
             0.9,
             "#4d9221"
            ],
            [
             1,
             "#276419"
            ]
           ],
           "sequential": [
            [
             0,
             "#0d0887"
            ],
            [
             0.1111111111111111,
             "#46039f"
            ],
            [
             0.2222222222222222,
             "#7201a8"
            ],
            [
             0.3333333333333333,
             "#9c179e"
            ],
            [
             0.4444444444444444,
             "#bd3786"
            ],
            [
             0.5555555555555556,
             "#d8576b"
            ],
            [
             0.6666666666666666,
             "#ed7953"
            ],
            [
             0.7777777777777778,
             "#fb9f3a"
            ],
            [
             0.8888888888888888,
             "#fdca26"
            ],
            [
             1,
             "#f0f921"
            ]
           ],
           "sequentialminus": [
            [
             0,
             "#0d0887"
            ],
            [
             0.1111111111111111,
             "#46039f"
            ],
            [
             0.2222222222222222,
             "#7201a8"
            ],
            [
             0.3333333333333333,
             "#9c179e"
            ],
            [
             0.4444444444444444,
             "#bd3786"
            ],
            [
             0.5555555555555556,
             "#d8576b"
            ],
            [
             0.6666666666666666,
             "#ed7953"
            ],
            [
             0.7777777777777778,
             "#fb9f3a"
            ],
            [
             0.8888888888888888,
             "#fdca26"
            ],
            [
             1,
             "#f0f921"
            ]
           ]
          },
          "colorway": [
           "#636efa",
           "#EF553B",
           "#00cc96",
           "#ab63fa",
           "#FFA15A",
           "#19d3f3",
           "#FF6692",
           "#B6E880",
           "#FF97FF",
           "#FECB52"
          ],
          "font": {
           "color": "#f2f5fa"
          },
          "geo": {
           "bgcolor": "rgb(17,17,17)",
           "lakecolor": "rgb(17,17,17)",
           "landcolor": "rgb(17,17,17)",
           "showlakes": true,
           "showland": true,
           "subunitcolor": "#506784"
          },
          "hoverlabel": {
           "align": "left"
          },
          "hovermode": "closest",
          "mapbox": {
           "style": "dark"
          },
          "paper_bgcolor": "rgb(17,17,17)",
          "plot_bgcolor": "rgb(17,17,17)",
          "polar": {
           "angularaxis": {
            "gridcolor": "#506784",
            "linecolor": "#506784",
            "ticks": ""
           },
           "bgcolor": "rgb(17,17,17)",
           "radialaxis": {
            "gridcolor": "#506784",
            "linecolor": "#506784",
            "ticks": ""
           }
          },
          "scene": {
           "xaxis": {
            "backgroundcolor": "rgb(17,17,17)",
            "gridcolor": "#506784",
            "gridwidth": 2,
            "linecolor": "#506784",
            "showbackground": true,
            "ticks": "",
            "zerolinecolor": "#C8D4E3"
           },
           "yaxis": {
            "backgroundcolor": "rgb(17,17,17)",
            "gridcolor": "#506784",
            "gridwidth": 2,
            "linecolor": "#506784",
            "showbackground": true,
            "ticks": "",
            "zerolinecolor": "#C8D4E3"
           },
           "zaxis": {
            "backgroundcolor": "rgb(17,17,17)",
            "gridcolor": "#506784",
            "gridwidth": 2,
            "linecolor": "#506784",
            "showbackground": true,
            "ticks": "",
            "zerolinecolor": "#C8D4E3"
           }
          },
          "shapedefaults": {
           "line": {
            "color": "#f2f5fa"
           }
          },
          "sliderdefaults": {
           "bgcolor": "#C8D4E3",
           "bordercolor": "rgb(17,17,17)",
           "borderwidth": 1,
           "tickwidth": 0
          },
          "ternary": {
           "aaxis": {
            "gridcolor": "#506784",
            "linecolor": "#506784",
            "ticks": ""
           },
           "baxis": {
            "gridcolor": "#506784",
            "linecolor": "#506784",
            "ticks": ""
           },
           "bgcolor": "rgb(17,17,17)",
           "caxis": {
            "gridcolor": "#506784",
            "linecolor": "#506784",
            "ticks": ""
           }
          },
          "title": {
           "x": 0.05
          },
          "updatemenudefaults": {
           "bgcolor": "#506784",
           "borderwidth": 0
          },
          "xaxis": {
           "automargin": true,
           "gridcolor": "#283442",
           "linecolor": "#506784",
           "ticks": "",
           "title": {
            "standoff": 15
           },
           "zerolinecolor": "#283442",
           "zerolinewidth": 2
          },
          "yaxis": {
           "automargin": true,
           "gridcolor": "#283442",
           "linecolor": "#506784",
           "ticks": "",
           "title": {
            "standoff": 15
           },
           "zerolinecolor": "#283442",
           "zerolinewidth": 2
          }
         }
        },
        "title": {
         "text": "Research Papers Published by Year"
        },
        "width": 1000,
        "xaxis": {
         "anchor": "y",
         "domain": [
          0,
          1
         ],
         "dtick": 5,
         "showgrid": true,
         "tickangle": 45,
         "title": {
          "text": "Year"
         }
        },
        "yaxis": {
         "anchor": "x",
         "domain": [
          0,
          1
         ],
         "showgrid": true,
         "title": {
          "text": "Number of Papers"
         }
        }
       }
      }
     },
     "metadata": {},
     "output_type": "display_data"
    }
   ],
   "source": [
    "fig = px.line(\n",
    "    df_totals,\n",
    "    x='year',\n",
    "    y='paper_count',\n",
    "    color='search_keyword',\n",
    "    color_discrete_map=color_map,\n",
    "    title='Research Papers Published by Year',\n",
    "    markers=True,\n",
    ")\n",
    "\n",
    "fig.update_layout(\n",
    "    xaxis_title='Year',\n",
    "    yaxis_title='Number of Papers',\n",
    "    legend_title='Keyword',\n",
    "    font=dict(size=12),\n",
    "    width=1000,\n",
    "    height=600,\n",
    "    template='plotly_dark',\n",
    "    xaxis=dict(showgrid=True,\n",
    "               dtick=5,\n",
    "               tickangle=45),\n",
    "    yaxis=dict(showgrid=True),\n",
    ")\n",
    "\n",
    "fig.show()"
   ]
  },
  {
   "cell_type": "markdown",
   "id": "83404bac",
   "metadata": {},
   "source": [
    "# Regression Analysis on All Papers Published"
   ]
  },
  {
   "cell_type": "markdown",
   "id": "c11bb3db",
   "metadata": {},
   "source": [
    "We'll perform both linear and exponential regression analysis to determine which model better fits the overall growth pattern of urban ecology research publications. This analysis will help us understand whether the field is experiencing linear or exponential growth. "
   ]
  },
  {
   "cell_type": "code",
   "execution_count": 9,
   "id": "d5001e2b",
   "metadata": {},
   "outputs": [
    {
     "name": "stdout",
     "output_type": "stream",
     "text": [
      "COMPREHENSIVE GROWTH ANALYSIS - TOTAL PAPERS\n",
      "================================================================================\n",
      "\n",
      "MODEL COMPARISON RESULTS:\n",
      "------------------------------------------------------------\n",
      "Linear R²: 0.6440\n",
      "Exponential R²: 0.9605\n",
      "Better fit: Exponential\n",
      "R² difference: +0.3165\n",
      "\n",
      "LINEAR MODEL RESULTS:\n",
      "----------------------------------------\n",
      "Growth rate: 169.32 papers/year\n",
      "R²: 0.6440\n",
      "P-value: 2.96e-13\n",
      "\n",
      "EXPONENTIAL MODEL RESULTS:\n",
      "----------------------------------------\n",
      "Annual growth rate: 11.1% per year\n",
      "Doubling time: 6.6 years\n",
      "R²: 0.9605\n",
      "P-value: 3.70e-38\n"
     ]
    },
    {
     "data": {
      "image/png": "[encoded data removed]",
      "text/plain": [
       "<Figure size 1600x1200 with 4 Axes>"
      ]
     },
     "metadata": {},
     "output_type": "display_data"
    },
    {
     "name": "stdout",
     "output_type": "stream",
     "text": [
      "\n",
      "================================================================================\n",
      "KEY INSIGHTS - TOTAL PAPERS GROWTH ANALYSIS:\n",
      "================================================================================\n",
      "✓ The field shows EXPONENTIAL growth with 11.1% annual growth rate\n",
      "✓ Research output doubles every 6.6 years\n",
      "✓ Exponential model explains 96.0% of variance\n",
      "✓ Model improvement: +0.3165 R² difference\n",
      "✓ Growth trend is statistically significant (p < 0.05)\n",
      "⚠ High growth rate (11.1%/year) may not be sustainable long-term\n"
     ]
    }
   ],
   "source": [
    "def analyze_total_papers_growth():\n",
    "    \"\"\"\n",
    "    Comprehensive analysis comparing linear vs exponential growth models for total papers\n",
    "    \"\"\"\n",
    "    # Prepare data\n",
    "    years = df_totals['year'].values\n",
    "    counts = df_totals['paper_count'].values\n",
    "    \n",
    "    # Linear regression\n",
    "    slope_linear, intercept_linear, r_value_linear, p_value_linear, std_err_linear = stats.linregress(years, counts)\n",
    "    r_squared_linear = r_value_linear**2\n",
    "    \n",
    "    # Exponential regression (log transform)\n",
    "    log_counts = np.log(counts + 1)\n",
    "    slope_log, intercept_log, r_value_log, p_value_log, std_err_log = stats.linregress(years, log_counts)\n",
    "    r_squared_log = r_value_log**2\n",
    "    \n",
    "    # Calculate growth metrics\n",
    "    annual_growth_rate = (np.exp(slope_log) - 1) * 100\n",
    "    doubling_time = np.log(2) / slope_log if slope_log > 0 else np.inf\n",
    "    \n",
    "    # Determine better fit\n",
    "    better_fit = 'Exponential' if r_squared_log > r_squared_linear else 'Linear'\n",
    "    r_squared_difference = r_squared_log - r_squared_linear\n",
    "    \n",
    "    # Generate predictions\n",
    "    predicted_linear = slope_linear * years + intercept_linear\n",
    "    predicted_log = np.exp(slope_log * years + intercept_log) - 1\n",
    "    \n",
    "    results = {\n",
    "        'linear': {\n",
    "            'slope': slope_linear,\n",
    "            'intercept': intercept_linear,\n",
    "            'r_squared': r_squared_linear,\n",
    "            'p_value': p_value_linear,\n",
    "            'predicted': predicted_linear\n",
    "        },\n",
    "        'exponential': {\n",
    "            'slope': slope_log,\n",
    "            'intercept': intercept_log,\n",
    "            'r_squared': r_squared_log,\n",
    "            'p_value': p_value_log,\n",
    "            'annual_growth_rate': annual_growth_rate,\n",
    "            'doubling_time': doubling_time,\n",
    "            'predicted': predicted_log\n",
    "        },\n",
    "        'comparison': {\n",
    "            'better_fit': better_fit,\n",
    "            'r_squared_difference': r_squared_difference\n",
    "        },\n",
    "        'data': {\n",
    "            'years': years,\n",
    "            'counts': counts,\n",
    "            'log_counts': log_counts\n",
    "        }\n",
    "    }\n",
    "    \n",
    "    return results\n",
    "\n",
    "# Perform analysis\n",
    "print('COMPREHENSIVE GROWTH ANALYSIS - TOTAL PAPERS')\n",
    "print('=' * 80)\n",
    "\n",
    "analysis = analyze_total_papers_growth()\n",
    "\n",
    "# Display results\n",
    "print('\\nMODEL COMPARISON RESULTS:')\n",
    "print('-' * 60)\n",
    "print(f\"Linear R²: {analysis['linear']['r_squared']:.4f}\")\n",
    "print(f\"Exponential R²: {analysis['exponential']['r_squared']:.4f}\")\n",
    "print(f\"Better fit: {analysis['comparison']['better_fit']}\")\n",
    "print(f\"R² difference: {analysis['comparison']['r_squared_difference']:+.4f}\")\n",
    "\n",
    "print('\\nLINEAR MODEL RESULTS:')\n",
    "print('-' * 40)\n",
    "print(f\"Growth rate: {analysis['linear']['slope']:.2f} papers/year\")\n",
    "print(f\"R²: {analysis['linear']['r_squared']:.4f}\")\n",
    "print(f\"P-value: {analysis['linear']['p_value']:.2e}\")\n",
    "\n",
    "print('\\nEXPONENTIAL MODEL RESULTS:')\n",
    "print('-' * 40)\n",
    "print(f\"Annual growth rate: {analysis['exponential']['annual_growth_rate']:.1f}% per year\")\n",
    "print(f\"Doubling time: {analysis['exponential']['doubling_time']:.1f} years\")\n",
    "print(f\"R²: {analysis['exponential']['r_squared']:.4f}\")\n",
    "print(f\"P-value: {analysis['exponential']['p_value']:.2e}\")\n",
    "\n",
    "# Create comprehensive visualization\n",
    "plt.style.use('dark_background')\n",
    "fig, axes = plt.subplots(2, 2, figsize=(16, 12))\n",
    "\n",
    "# 1. Model comparison\n",
    "ax1 = axes[0, 0]\n",
    "models = ['Linear', 'Exponential']\n",
    "r_squared_values = [analysis['linear']['r_squared'], analysis['exponential']['r_squared']]\n",
    "colors = ['blue', 'red']\n",
    "\n",
    "bars = ax1.bar(models, r_squared_values, color=colors, alpha=0.7)\n",
    "ax1.set_ylabel('R-squared Value')\n",
    "ax1.set_title('Model Fit Comparison')\n",
    "ax1.set_ylim(0, 1)\n",
    "ax1.grid(True, alpha=0.3)\n",
    "\n",
    "for bar, value in zip(bars, r_squared_values):\n",
    "    ax1.text(bar.get_x() + bar.get_width()/2, bar.get_height() + 0.01, \n",
    "             f'{value:.3f}', ha='center', va='bottom', fontweight='bold')\n",
    "\n",
    "# 2. Original data with both fits\n",
    "ax2 = axes[0, 1]\n",
    "ax2.scatter(analysis['data']['years'], analysis['data']['counts'], \n",
    "           alpha=0.7, s=50, color='#FFD700', label='Actual Data', zorder=3)\n",
    "ax2.plot(analysis['data']['years'], analysis['linear']['predicted'], \n",
    "         color='blue', linewidth=2, label=f'Linear (R²={analysis[\"linear\"][\"r_squared\"]:.3f})', alpha=0.8)\n",
    "ax2.plot(analysis['data']['years'], analysis['exponential']['predicted'], \n",
    "         color='red', linewidth=2, label=f'Exponential (R²={analysis[\"exponential\"][\"r_squared\"]:.3f})', alpha=0.8)\n",
    "\n",
    "ax2.set_xlabel('Year')\n",
    "ax2.set_ylabel('Papers Published')\n",
    "ax2.set_title('Growth Models Comparison')\n",
    "ax2.legend()\n",
    "ax2.grid(True, alpha=0.3)\n",
    "\n",
    "# 3. Log-scale visualization\n",
    "ax3 = axes[1, 0]\n",
    "ax3.scatter(analysis['data']['years'], analysis['data']['log_counts'], \n",
    "           alpha=0.7, s=50, color='#FFD700', label='Log(Actual Data)', zorder=3)\n",
    "ax3.plot(analysis['data']['years'], \n",
    "         analysis['exponential']['slope'] * analysis['data']['years'] + analysis['exponential']['intercept'],\n",
    "         color='red', linewidth=2, label=f'Log-Linear Fit (R²={analysis[\"exponential\"][\"r_squared\"]:.3f})', alpha=0.8)\n",
    "\n",
    "ax3.set_xlabel('Year')\n",
    "ax3.set_ylabel('Log(Papers Published)')\n",
    "ax3.set_title('Exponential Model (Log Scale)')\n",
    "ax3.legend()\n",
    "ax3.grid(True, alpha=0.3)\n",
    "\n",
    "# 4. Residuals analysis\n",
    "ax4 = axes[1, 1]\n",
    "residuals_linear = analysis['data']['counts'] - analysis['linear']['predicted']\n",
    "residuals_exp = analysis['data']['counts'] - analysis['exponential']['predicted']\n",
    "\n",
    "ax4.scatter(analysis['data']['years'], residuals_linear, \n",
    "           alpha=0.7, s=30, color='blue', label='Linear Residuals')\n",
    "ax4.scatter(analysis['data']['years'], residuals_exp, \n",
    "           alpha=0.7, s=30, color='red', label='Exponential Residuals')\n",
    "ax4.axhline(y=0, color='white', linestyle='--', alpha=0.5)\n",
    "\n",
    "ax4.set_xlabel('Year')\n",
    "ax4.set_ylabel('Residuals')\n",
    "ax4.set_title('Model Residuals')\n",
    "ax4.legend()\n",
    "ax4.grid(True, alpha=0.3)\n",
    "\n",
    "plt.tight_layout()\n",
    "plt.show()\n",
    "\n",
    "# Key insights\n",
    "print(\"\\n\" + \"=\"*80)\n",
    "print(\"KEY INSIGHTS - TOTAL PAPERS GROWTH ANALYSIS:\")\n",
    "print(\"=\"*80)\n",
    "\n",
    "if analysis['comparison']['better_fit'] == 'Exponential':\n",
    "    print(f\"✓ The field shows EXPONENTIAL growth with {analysis['exponential']['annual_growth_rate']:.1f}% annual growth rate\")\n",
    "    print(f\"✓ Research output doubles every {analysis['exponential']['doubling_time']:.1f} years\")\n",
    "    print(f\"✓ Exponential model explains {analysis['exponential']['r_squared']*100:.1f}% of variance\")\n",
    "else:\n",
    "    print(f\"✓ The field shows LINEAR growth with {analysis['linear']['slope']:.2f} papers/year increase\")\n",
    "    print(f\"✓ Linear model explains {analysis['linear']['r_squared']*100:.1f}% of variance\")\n",
    "\n",
    "print(f\"✓ Model improvement: {analysis['comparison']['r_squared_difference']:+.4f} R² difference\")\n",
    "\n",
    "if analysis['exponential']['p_value'] < 0.05:\n",
    "    print(\"✓ Growth trend is statistically significant (p < 0.05)\")\n",
    "else:\n",
    "    print(\"⚠ Growth trend is not statistically significant (p ≥ 0.05)\")\n",
    "\n",
    "if analysis['exponential']['annual_growth_rate'] > 10:\n",
    "    print(f\"⚠ High growth rate ({analysis['exponential']['annual_growth_rate']:.1f}%/year) may not be sustainable long-term\")\n",
    "else:\n",
    "    print(f\"✓ Moderate growth rate ({analysis['exponential']['annual_growth_rate']:.1f}%/year) appears sustainable\")"
   ]
  },
  {
   "cell_type": "markdown",
   "id": "62724f6f",
   "metadata": {},
   "source": [
    "# Per Keyword Analysis"
   ]
  },
  {
   "cell_type": "markdown",
   "id": "86b6fc5f",
   "metadata": {},
   "source": [
    "We'll do the same as above, but this time doing both the linear and exponential analysis in one go and see how both models compare on a per keyword basis."
   ]
  },
  {
   "cell_type": "code",
   "execution_count": 10,
   "id": "e43954bb",
   "metadata": {},
   "outputs": [
    {
     "name": "stdout",
     "output_type": "stream",
     "text": [
      "COMPREHENSIVE GROWTH ANALYSIS\n",
      "================================================================================\n",
      "\n",
      "MODEL COMPARISON RESULTS:\n",
      "------------------------------------------------------------\n",
      "              keyword  r_squared_linear  r_squared_log   better_fit  \\\n",
      "2     urban ecosystem          0.615529       0.952564  Exponential   \n",
      "3  urban green spaces          0.615049       0.946375  Exponential   \n",
      "1       urban ecology          0.646892       0.947195  Exponential   \n",
      "0  urban biodiversity          0.674296       0.939802  Exponential   \n",
      "4    urban vegetation          0.693672       0.946765  Exponential   \n",
      "5      urban wildlife          0.719227       0.961730  Exponential   \n",
      "\n",
      "   annual_growth_rate_percent  r_squared_difference  \n",
      "2                   12.294559              0.337035  \n",
      "3                   12.061090              0.331326  \n",
      "1                   10.617228              0.300303  \n",
      "0                   17.977592              0.265506  \n",
      "4                    8.853252              0.253093  \n",
      "5                    8.589296              0.242503  \n",
      "\n",
      "\n",
      "LOGARITHMIC REGRESSION RESULTS (Testing Exponential Growth):\n",
      "--------------------------------------------------------------------------------\n",
      "              keyword  annual_growth_rate_percent  doubling_time_years  \\\n",
      "0  urban biodiversity                   17.977592             4.192646   \n",
      "2     urban ecosystem                   12.294559             5.977714   \n",
      "3  urban green spaces                   12.061090             6.086967   \n",
      "1       urban ecology                   10.617228             6.869259   \n",
      "4    urban vegetation                    8.853252             8.170969   \n",
      "5      urban wildlife                    8.589296             8.411710   \n",
      "\n",
      "   r_squared       p_value                    trend_interpretation  \n",
      "0   0.939802  2.080995e-25  Significantly increasing (exponential)  \n",
      "2   0.952564  4.273582e-36  Significantly increasing (exponential)  \n",
      "3   0.946375  1.039787e-34  Significantly increasing (exponential)  \n",
      "1   0.947195  6.963555e-35  Significantly increasing (exponential)  \n",
      "4   0.946765  8.598278e-35  Significantly increasing (exponential)  \n",
      "5   0.961730  1.600434e-38  Significantly increasing (exponential)  \n"
     ]
    },
    {
     "data": {
      "image/png": "[encoded data removed]",
      "text/plain": [
       "<Figure size 1600x1800 with 6 Axes>"
      ]
     },
     "metadata": {},
     "output_type": "display_data"
    },
    {
     "name": "stdout",
     "output_type": "stream",
     "text": [
      "\n",
      "================================================================================\n",
      "KEY INSIGHTS - GROWTH PATTERN ANALYSIS:\n",
      "================================================================================\n",
      "Fastest linear growth: urban green spaces (46.35 papers/year)\n",
      "Fastest exponential growth: urban biodiversity (18.0% per year)\n",
      "  - Doubling time: 4.2 years\n",
      "Fields better explained by exponential growth: 6/6 (100.0%)\n",
      "Significant linear trends: 6/6\n",
      "Significant exponential trends: 6/6\n",
      "Biggest improvement with exponential model: urban ecosystem (ΔR² = +0.337)\n"
     ]
    }
   ],
   "source": [
    "def linear_trend_analysis(df_keywords):\n",
    "    \"\"\"\n",
    "    Perform linear regression analysis for each keyword\n",
    "    Returns comprehensive trend statistics\n",
    "    \"\"\"\n",
    "    results = []\n",
    "    \n",
    "    for keyword in df_keywords['search_keyword'].unique():\n",
    "        keyword_data = df_keywords[df_keywords['search_keyword'] == keyword].sort_values('year')\n",
    "        years = keyword_data['year'].values\n",
    "        counts = keyword_data['paper_count'].values\n",
    "        \n",
    "        slope, intercept, r_value, p_value, std_err = stats.linregress(years, counts)\n",
    "        \n",
    "        r_squared = r_value**2\n",
    "        \n",
    "        n = len(years)\n",
    "        t_val = stats.t.ppf(0.975, n-2)\n",
    "        slope_ci_lower = slope - t_val * std_err\n",
    "        slope_ci_upper = slope + t_val * std_err\n",
    "        \n",
    "        if p_value < 0.05:\n",
    "            if slope > 0:\n",
    "                trend_interpretation = 'Significantly increasing'\n",
    "            else:\n",
    "                trend_interpretation = 'Significantly decreasing'\n",
    "        else:\n",
    "            trend_interpretation = 'No significant trend'\n",
    "        \n",
    "        total_papers = counts.sum()\n",
    "        avg_papers_per_year = counts.mean()\n",
    "        \n",
    "        results.append({\n",
    "            'keyword': keyword,\n",
    "            'slope_papers_per_year': slope,\n",
    "            'intercept': intercept,\n",
    "            'r_squared': r_squared,\n",
    "            'p_value': p_value,\n",
    "            'std_error': std_err,\n",
    "            'slope_ci_lower': slope_ci_lower,\n",
    "            'slope_ci_upper': slope_ci_upper,\n",
    "            'trend_interpretation': trend_interpretation,\n",
    "            'total_papers': total_papers,\n",
    "            'avg_papers_per_year': avg_papers_per_year,\n",
    "            'significant_trend': p_value < 0.05,\n",
    "            'years_analyzed': n\n",
    "        })\n",
    "    \n",
    "    return pd.DataFrame(results)\n",
    "\n",
    "def log_trend_analysis(df_keywords, min_papers=1):\n",
    "    \"\"\"\n",
    "    Perform logarithmic regression analysis for each keyword to test exponential growth\n",
    "    Uses log(paper_count + 1) to handle zero values\n",
    "    Returns comprehensive trend statistics for exponential growth patterns\n",
    "    \"\"\"\n",
    "    results = []\n",
    "    \n",
    "    for keyword in df_keywords['search_keyword'].unique():\n",
    "        keyword_data = df_keywords[df_keywords['search_keyword'] == keyword].sort_values('year')\n",
    "        years = keyword_data['year'].values\n",
    "        counts = keyword_data['paper_count'].values\n",
    "        \n",
    "        # Filter out years with very low counts if specified\n",
    "        if min_papers > 0:\n",
    "            valid_mask = counts >= min_papers\n",
    "            if valid_mask.sum() < 3:  # Need at least 3 points for regression\n",
    "                continue\n",
    "            years = years[valid_mask]\n",
    "            counts = counts[valid_mask]\n",
    "        \n",
    "        # Log transform: log(count + 1) to handle zeros\n",
    "        log_counts = np.log(counts + 1)\n",
    "        \n",
    "        # Skip if we don't have enough valid data points\n",
    "        if len(years) < 3:\n",
    "            continue\n",
    "            \n",
    "        slope, intercept, r_value, p_value, std_err = stats.linregress(years, log_counts)\n",
    "        \n",
    "        r_squared = r_value**2\n",
    "        \n",
    "        n = len(years)\n",
    "        t_val = stats.t.ppf(0.975, n-2)\n",
    "        slope_ci_lower = slope - t_val * std_err\n",
    "        slope_ci_upper = slope + t_val * std_err\n",
    "        \n",
    "        # Calculate annual growth rate percentage\n",
    "        # If log(y) = slope*x + intercept, then y = exp(intercept) * exp(slope)^x\n",
    "        # Annual growth rate = (exp(slope) - 1) * 100\n",
    "        annual_growth_rate = (np.exp(slope) - 1) * 100\n",
    "        \n",
    "        if p_value < 0.05:\n",
    "            if slope > 0:\n",
    "                trend_interpretation = 'Significantly increasing (exponential)'\n",
    "            else:\n",
    "                trend_interpretation = 'Significantly decreasing (exponential)'\n",
    "        else:\n",
    "            trend_interpretation = 'No significant exponential trend'\n",
    "        \n",
    "        total_papers = counts.sum()\n",
    "        avg_papers_per_year = counts.mean()\n",
    "        \n",
    "        # Calculate doubling time (only meaningful for positive growth)\n",
    "        doubling_time = np.log(2) / slope if slope > 0 else np.inf\n",
    "        \n",
    "        results.append({\n",
    "            'keyword': keyword,\n",
    "            'log_slope': slope,\n",
    "            'log_intercept': intercept,\n",
    "            'r_squared': r_squared,\n",
    "            'p_value': p_value,\n",
    "            'std_error': std_err,\n",
    "            'slope_ci_lower': slope_ci_lower,\n",
    "            'slope_ci_upper': slope_ci_upper,\n",
    "            'annual_growth_rate_percent': annual_growth_rate,\n",
    "            'doubling_time_years': doubling_time,\n",
    "            'trend_interpretation': trend_interpretation,\n",
    "            'total_papers': total_papers,\n",
    "            'avg_papers_per_year': avg_papers_per_year,\n",
    "            'significant_trend': p_value < 0.05,\n",
    "            'years_analyzed': n\n",
    "        })\n",
    "    \n",
    "    return pd.DataFrame(results)\n",
    "\n",
    "def compare_linear_vs_exponential(df_keywords, min_papers=1):\n",
    "    \"\"\"\n",
    "    Compare linear vs exponential growth models for each keyword\n",
    "    Returns comparison results\n",
    "    \"\"\"\n",
    "    linear_results = linear_trend_analysis(df_keywords)\n",
    "    log_results = log_trend_analysis(df_keywords, min_papers)\n",
    "    \n",
    "    # Merge results for comparison\n",
    "    comparison = pd.merge(linear_results[['keyword', 'r_squared', 'p_value', 'significant_trend']], \n",
    "                         log_results[['keyword', 'r_squared', 'p_value', 'significant_trend', 'annual_growth_rate_percent', 'doubling_time_years']], \n",
    "                         on='keyword', suffixes=('_linear', '_log'))\n",
    "    \n",
    "    # Determine better fit\n",
    "    comparison['better_fit'] = np.where(comparison['r_squared_log'] > comparison['r_squared_linear'], \n",
    "                                       'Exponential', 'Linear')\n",
    "    comparison['r_squared_difference'] = comparison['r_squared_log'] - comparison['r_squared_linear']\n",
    "    \n",
    "    return comparison, linear_results, log_results\n",
    "\n",
    "\n",
    "print('COMPREHENSIVE GROWTH ANALYSIS')\n",
    "print('=' * 80)\n",
    "\n",
    "\n",
    "df_keywords = df_keywords\n",
    "comparison, linear_results, log_results = compare_linear_vs_exponential(df_keywords, min_papers=1)\n",
    "\n",
    "print('\\nMODEL COMPARISON RESULTS:')\n",
    "print('-' * 60)\n",
    "display_cols = ['keyword', 'r_squared_linear', 'r_squared_log', 'better_fit', \n",
    "                'annual_growth_rate_percent', 'r_squared_difference']\n",
    "print(comparison[display_cols].sort_values('r_squared_difference', ascending=False))\n",
    "\n",
    "print('\\n\\nLOGARITHMIC REGRESSION RESULTS (Testing Exponential Growth):')\n",
    "print('-' * 80)\n",
    "log_display_cols = ['keyword', 'annual_growth_rate_percent', 'doubling_time_years', \n",
    "                   'r_squared', 'p_value', 'trend_interpretation']\n",
    "print(log_results[log_display_cols].sort_values('annual_growth_rate_percent', ascending=False))\n",
    "\n",
    "fig, axes = plt.subplots(3, 2, figsize=(16, 18))\n",
    "\n",
    "# 1. R-squared comparison\n",
    "ax1 = axes[0, 0]\n",
    "x_pos = np.arange(len(comparison))\n",
    "width = 0.35\n",
    "ax1.bar(x_pos - width/2, comparison['r_squared_linear'], width, label='Linear Model', alpha=0.7, color='blue')\n",
    "ax1.bar(x_pos + width/2, comparison['r_squared_log'], width, label='Exponential Model', alpha=0.7, color='red')\n",
    "ax1.set_xticks(x_pos)\n",
    "ax1.set_xticklabels(comparison['keyword'], rotation=45, ha='right')\n",
    "ax1.set_ylabel('R-squared Value')\n",
    "ax1.set_title('Model Fit Comparison: Linear vs Exponential')\n",
    "ax1.legend(bbox_to_anchor=(1.05, 1), loc='upper left', fontsize=10)\n",
    "ax1.grid(True, alpha=0.3)\n",
    "\n",
    "# 2. Annual growth rates from exponential model\n",
    "ax2 = axes[0, 1]\n",
    "growth_rates = log_results['annual_growth_rate_percent']\n",
    "colors = ['green' if sig else 'red' for sig in log_results['significant_trend']]\n",
    "bars = ax2.bar(range(len(log_results)), growth_rates, color=colors, alpha=0.7)\n",
    "ax2.set_xticks(range(len(log_results)))\n",
    "ax2.set_xticklabels(log_results['keyword'], rotation=45, ha='right')\n",
    "ax2.set_ylabel('Annual Growth Rate (%)')\n",
    "ax2.set_title('Annual Growth Rates (Exponential Model)\\n(Green = Significant, Red = Not Significant)')\n",
    "ax2.axhline(y=0, color='black', linestyle='-', alpha=0.3)\n",
    "ax2.grid(True, alpha=0.3)\n",
    "\n",
    "for bar, rate in zip(bars, growth_rates):\n",
    "    if not np.isnan(rate) and abs(rate) < 1000:\n",
    "        ax2.text(bar.get_x() + bar.get_width()/2, bar.get_height() + 0.1, \n",
    "                f'{rate:.1f}%', ha='center', va='bottom', fontsize=8)\n",
    "\n",
    "# 3. Doubling times (only for positive growth)\n",
    "ax3 = axes[1, 0]\n",
    "finite_doubling = log_results[log_results['doubling_time_years'] != np.inf]\n",
    "if len(finite_doubling) > 0:\n",
    "    ax3.bar(range(len(finite_doubling)), finite_doubling['doubling_time_years'], alpha=0.7, color='orange')\n",
    "    ax3.set_xticks(range(len(finite_doubling)))\n",
    "    ax3.set_xticklabels(finite_doubling['keyword'], rotation=45, ha='right')\n",
    "    ax3.set_ylabel('Years to Double')\n",
    "    ax3.set_title('Doubling Time (Years) - Growing Fields Only')\n",
    "    ax3.grid(True, alpha=0.3)\n",
    "else:\n",
    "    ax3.text(0.5, 0.5, 'No fields with\\npositive exponential growth', \n",
    "            ha='center', va='center', transform=ax3.transAxes, fontsize=12)\n",
    "    ax3.set_title('Doubling Time (Years)')\n",
    "\n",
    "# 4. Linear trend slopes with confidence intervals (conditional on better fit)\n",
    "ax4 = axes[1, 1]\n",
    "\n",
    "linear_better_mask = comparison['better_fit'] == 'Linear'\n",
    "if linear_better_mask.any():\n",
    "    linear_better_keywords = comparison[linear_better_mask]['keyword'].tolist()\n",
    "    linear_subset = linear_results[linear_results['keyword'].isin(linear_better_keywords)]\n",
    "    \n",
    "    colors = ['green' if sig else 'red' for sig in linear_subset['significant_trend']]\n",
    "    keywords = linear_subset['keyword']\n",
    "    slopes = linear_subset['slope_papers_per_year']\n",
    "    ci_lower = linear_subset['slope_ci_lower']\n",
    "    ci_upper = linear_subset['slope_ci_upper']\n",
    "    \n",
    "    y_pos = np.arange(len(keywords))\n",
    "    ax4.barh(y_pos, slopes, color=colors, alpha=0.7)\n",
    "    ax4.errorbar(slopes, y_pos, xerr=[slopes - ci_lower, ci_upper - slopes], \n",
    "                fmt='none', color='black', capsize=5)\n",
    "    ax4.set_yticks(y_pos)\n",
    "    ax4.set_yticklabels(keywords)\n",
    "    ax4.set_xlabel('Growth Rate (Papers per Year)')\n",
    "    ax4.set_title('Linear Growth Rates (Linear Model Fits Better)\\n(Green = Significant, Red = Not Significant)')\n",
    "    ax4.axvline(x=0, color='black', linestyle='--', alpha=0.5)\n",
    "    ax4.grid(True, alpha=0.3)\n",
    "else:\n",
    "    ax4.text(0.5, 0.5, 'No keywords have\\nbetter linear fits', \n",
    "            ha='center', va='center', transform=ax4.transAxes, fontsize=12)\n",
    "    ax4.set_title('Linear Growth Rates (Linear Model Fits Better)')\n",
    "    ax4.set_xlabel('Growth Rate (Papers per Year)')\n",
    "    ax4.set_ylabel('Keywords')\n",
    "\n",
    "# 5. Actual vs Predicted - Linear Model\n",
    "ax5 = axes[2, 0]\n",
    "for i, keyword in enumerate(linear_results['keyword']):\n",
    "    keyword_data = df_keywords[df_keywords['search_keyword'] == keyword].sort_values('year')\n",
    "    years = keyword_data['year'].values\n",
    "    counts = keyword_data['paper_count'].values\n",
    "    \n",
    "    slope = linear_results[linear_results['keyword'] == keyword]['slope_papers_per_year'].iloc[0]\n",
    "    intercept = linear_results[linear_results['keyword'] == keyword]['intercept'].iloc[0]\n",
    "    predicted = slope * years + intercept\n",
    "    \n",
    "    try:\n",
    "        color = color_map.get(keyword, plt.cm.tab10(i % 10))\n",
    "    except:\n",
    "        color = plt.cm.tab10(i % 10)\n",
    "    \n",
    "    ax5.scatter(predicted, counts, alpha=0.7, label=keyword, s=30, color=color)\n",
    "\n",
    "# Perfect prediction line\n",
    "max_val = max(ax5.get_xlim()[1], ax5.get_ylim()[1])\n",
    "min_val = min(ax5.get_xlim()[0], ax5.get_ylim()[0])\n",
    "ax5.plot([min_val, max_val], [min_val, max_val], 'w--', alpha=0.5, label='Perfect Prediction')\n",
    "ax5.set_xlabel('Predicted Papers (Linear Model)')\n",
    "ax5.set_ylabel('Actual Papers')\n",
    "ax5.set_title('Actual vs Predicted: Linear Model')\n",
    "ax5.legend(bbox_to_anchor=(1.05, 1), loc='upper left', fontsize=10)\n",
    "ax5.grid(True, alpha=0.3)\n",
    "\n",
    "# 6. Actual vs Predicted - Exponential Model\n",
    "ax6 = axes[2, 1]\n",
    "\n",
    "all_actual_exp = []\n",
    "all_predicted_exp = []\n",
    "\n",
    "for i, keyword in enumerate(log_results['keyword']):\n",
    "    keyword_data = df_keywords[df_keywords['search_keyword'] == keyword].sort_values('year')\n",
    "    years = keyword_data['year'].values\n",
    "    counts = keyword_data['paper_count'].values\n",
    "    \n",
    "    min_papers = 1\n",
    "    valid_mask = counts >= min_papers\n",
    "    if valid_mask.sum() < 3:\n",
    "        continue\n",
    "    \n",
    "    years_filtered = years[valid_mask]\n",
    "    counts_filtered = counts[valid_mask]\n",
    "    \n",
    "    log_slope = log_results[log_results['keyword'] == keyword]['log_slope'].iloc[0]\n",
    "    log_intercept = log_results[log_results['keyword'] == keyword]['log_intercept'].iloc[0]\n",
    "    \n",
    "    predicted_log = log_slope * years_filtered + log_intercept\n",
    "    predicted_counts = np.exp(predicted_log) - 1\n",
    "    \n",
    "    all_actual_exp.extend(counts_filtered)\n",
    "    all_predicted_exp.extend(predicted_counts)\n",
    "    \n",
    "    try:\n",
    "        color = color_map.get(keyword, plt.cm.tab10(i % 10))\n",
    "    except:\n",
    "        color = plt.cm.tab10(i % 10)\n",
    "    \n",
    "    ax6.scatter(predicted_counts, counts_filtered, alpha=0.7, label=keyword, s=30, color=color)\n",
    "\n",
    "# Perfect prediction line\n",
    "if len(all_actual_exp) > 0:\n",
    "    max_val = max(max(all_predicted_exp), max(all_actual_exp))\n",
    "    min_val = max(0, min(min(all_predicted_exp), min(all_actual_exp)))  # Don't go below 0\n",
    "    ax6.plot([min_val, max_val], [min_val, max_val], 'w--', alpha=0.5, label='Perfect Prediction')\n",
    "    \n",
    "    if len(all_actual_exp) > 1:\n",
    "        ss_res = np.sum((np.array(all_actual_exp) - np.array(all_predicted_exp)) ** 2)\n",
    "        ss_tot = np.sum((np.array(all_actual_exp) - np.mean(all_actual_exp)) ** 2)\n",
    "        r_squared_combined = 1 - (ss_res / ss_tot) if ss_tot > 0 else 0\n",
    "        ax6.text(0.05, 0.95, f'Combined R² = {r_squared_combined:.3f}', \n",
    "                transform=ax6.transAxes, bbox=dict(boxstyle=\"round,pad=0.3\", facecolor=\"darkgray\", alpha=0.8))\n",
    "\n",
    "ax6.set_xlabel('Predicted Papers (Exponential Model)')\n",
    "ax6.set_ylabel('Actual Papers')\n",
    "ax6.set_title('Actual vs Predicted: Exponential Model')\n",
    "ax6.grid(True, alpha=0.3)\n",
    "\n",
    "if len(all_actual_exp) > 0:\n",
    "    residuals = np.array(all_actual_exp) - np.array(all_predicted_exp)\n",
    "    mean_residual = np.mean(residuals)\n",
    "    if abs(mean_residual) > np.std(all_actual_exp) * 0.1:\n",
    "        bias_direction = \"above\" if mean_residual > 0 else \"below\"\n",
    "        ax6.text(0.05, 0.85, f'Systematic bias: points tend to be {bias_direction} line\\n(Mean residual: {mean_residual:.1f})', \n",
    "                transform=ax6.transAxes, bbox=dict(boxstyle=\"round,pad=0.3\", facecolor=\"orange\", alpha=0.8),\n",
    "                fontsize=9)\n",
    "\n",
    "\n",
    "plt.tight_layout()\n",
    "plt.show()\n",
    "\n",
    "# Summary insights\n",
    "print(\"\\n\" + \"=\"*80)\n",
    "print(\"KEY INSIGHTS - GROWTH PATTERN ANALYSIS:\")\n",
    "print(\"=\"*80)\n",
    "\n",
    "# Linear model insights\n",
    "fastest_linear = linear_results.loc[linear_results['slope_papers_per_year'].idxmax()]\n",
    "print(f\"Fastest linear growth: {fastest_linear['keyword']} ({fastest_linear['slope_papers_per_year']:.2f} papers/year)\")\n",
    "\n",
    "# Exponential model insights\n",
    "if len(log_results) > 0:\n",
    "    fastest_exponential = log_results.loc[log_results['annual_growth_rate_percent'].idxmax()]\n",
    "    print(f\"Fastest exponential growth: {fastest_exponential['keyword']} ({fastest_exponential['annual_growth_rate_percent']:.1f}% per year)\")\n",
    "    \n",
    "    if fastest_exponential['doubling_time_years'] != np.inf:\n",
    "        print(f\"  - Doubling time: {fastest_exponential['doubling_time_years']:.1f} years\")\n",
    "\n",
    "# Model comparison insights\n",
    "exponential_better = len(comparison[comparison['better_fit'] == 'Exponential'])\n",
    "total_fields = len(comparison)\n",
    "print(f\"Fields better explained by exponential growth: {exponential_better}/{total_fields} ({exponential_better/total_fields*100:.1f}%)\")\n",
    "\n",
    "# Significant trends\n",
    "linear_sig = len(linear_results[linear_results['significant_trend']])\n",
    "log_sig = len(log_results[log_results['significant_trend']]) if len(log_results) > 0 else 0\n",
    "print(f\"Significant linear trends: {linear_sig}/{len(linear_results)}\")\n",
    "print(f\"Significant exponential trends: {log_sig}/{len(log_results) if len(log_results) > 0 else 0}\")\n",
    "\n",
    "# Best improvements\n",
    "if len(comparison) > 0:\n",
    "    best_improvement = comparison.loc[comparison['r_squared_difference'].idxmax()]\n",
    "    if best_improvement['r_squared_difference'] > 0:\n",
    "        print(f\"Biggest improvement with exponential model: {best_improvement['keyword']} (ΔR² = +{best_improvement['r_squared_difference']:.3f})\")"
   ]
  },
  {
   "cell_type": "markdown",
   "id": "b8efab06",
   "metadata": {},
   "source": [
    "# Analyzing Keyword correlation\n",
    "\n",
    "I'll look into relationships between keywords, looking into wether they tend to appear together often. To begin with, I'll look at the whole of my data, looking at all of the papers obtained. I will be analyzing my data with Cosine Similarity to avoid biases towards more popular keywords. "
   ]
  },
  {
   "cell_type": "code",
   "execution_count": 11,
   "id": "6b47a0c0",
   "metadata": {},
   "outputs": [
    {
     "data": {
      "application/vnd.microsoft.datawrangler.viewer.v0+json": {
       "columns": [
        {
         "name": "index",
         "rawType": "int64",
         "type": "integer"
        },
        {
         "name": "paperId",
         "rawType": "object",
         "type": "string"
        },
        {
         "name": "keywords",
         "rawType": "object",
         "type": "unknown"
        },
        {
         "name": "year",
         "rawType": "int64",
         "type": "integer"
        }
       ],
       "ref": "3ef7c058-7811-4b18-8ffa-a417fe5a63d9",
       "rows": [
        [
         "0",
         "W594319624",
         "['urban ecology']",
         "1970"
        ],
        [
         "1",
         "W2902120482",
         "['urban ecology', 'urban green spaces', 'urban wildlife']",
         "1970"
        ],
        [
         "2",
         "W2475615813",
         "['urban ecology', 'urban green spaces', 'urban wildlife', 'urban vegetation']",
         "1970"
        ],
        [
         "3",
         "W4206441299",
         "['urban ecology', 'urban vegetation']",
         "1970"
        ],
        [
         "4",
         "W4247273480",
         "['urban ecology', 'urban wildlife', 'urban vegetation']",
         "1970"
        ]
       ],
       "shape": {
        "columns": 3,
        "rows": 5
       }
      },
      "text/html": [
       "<div>\n",
       "<style scoped>\n",
       "    .dataframe tbody tr th:only-of-type {\n",
       "        vertical-align: middle;\n",
       "    }\n",
       "\n",
       "    .dataframe tbody tr th {\n",
       "        vertical-align: top;\n",
       "    }\n",
       "\n",
       "    .dataframe thead th {\n",
       "        text-align: right;\n",
       "    }\n",
       "</style>\n",
       "<table border=\"1\" class=\"dataframe\">\n",
       "  <thead>\n",
       "    <tr style=\"text-align: right;\">\n",
       "      <th></th>\n",
       "      <th>paperId</th>\n",
       "      <th>keywords</th>\n",
       "      <th>year</th>\n",
       "    </tr>\n",
       "  </thead>\n",
       "  <tbody>\n",
       "    <tr>\n",
       "      <th>0</th>\n",
       "      <td>W594319624</td>\n",
       "      <td>[urban ecology]</td>\n",
       "      <td>1970</td>\n",
       "    </tr>\n",
       "    <tr>\n",
       "      <th>1</th>\n",
       "      <td>W2902120482</td>\n",
       "      <td>[urban ecology, urban green spaces, urban wild...</td>\n",
       "      <td>1970</td>\n",
       "    </tr>\n",
       "    <tr>\n",
       "      <th>2</th>\n",
       "      <td>W2475615813</td>\n",
       "      <td>[urban ecology, urban green spaces, urban wild...</td>\n",
       "      <td>1970</td>\n",
       "    </tr>\n",
       "    <tr>\n",
       "      <th>3</th>\n",
       "      <td>W4206441299</td>\n",
       "      <td>[urban ecology, urban vegetation]</td>\n",
       "      <td>1970</td>\n",
       "    </tr>\n",
       "    <tr>\n",
       "      <th>4</th>\n",
       "      <td>W4247273480</td>\n",
       "      <td>[urban ecology, urban wildlife, urban vegetation]</td>\n",
       "      <td>1970</td>\n",
       "    </tr>\n",
       "  </tbody>\n",
       "</table>\n",
       "</div>"
      ],
      "text/plain": [
       "       paperId                                           keywords  year\n",
       "0   W594319624                                    [urban ecology]  1970\n",
       "1  W2902120482  [urban ecology, urban green spaces, urban wild...  1970\n",
       "2  W2475615813  [urban ecology, urban green spaces, urban wild...  1970\n",
       "3  W4206441299                  [urban ecology, urban vegetation]  1970\n",
       "4  W4247273480  [urban ecology, urban wildlife, urban vegetation]  1970"
      ]
     },
     "execution_count": 11,
     "metadata": {},
     "output_type": "execute_result"
    }
   ],
   "source": [
    "with sqlite3.connect(PAPERS_DB_PATH) as conn:\n",
    "    df_keyword_occurrence = pd.read_sql_query(\"\"\"\n",
    "    SELECT paperId, search_keyword, year\n",
    "    FROM papers\n",
    "    ORDER BY year\n",
    "\"\"\", conn)\n",
    "\n",
    "\n",
    "df_keyword_occurrence.rename(columns={'search_keyword': 'keywords'},inplace=True)\n",
    "\n",
    "df_keyword_occurrence['keywords'] = df_keyword_occurrence['keywords'].str.split(',')\n",
    "df_keyword_occurrence['keywords'] = df_keyword_occurrence['keywords'].apply(\n",
    "    lambda lst: [kw.strip() for kw in lst]\n",
    ")\n",
    "\n",
    "df_keyword_occurrence.head()"
   ]
  },
  {
   "cell_type": "code",
   "execution_count": 12,
   "id": "ff3e3f78",
   "metadata": {},
   "outputs": [
    {
     "data": {
      "image/png": "[encoded data removed]",
      "text/plain": [
       "<Figure size 720x720 with 2 Axes>"
      ]
     },
     "metadata": {},
     "output_type": "display_data"
    }
   ],
   "source": [
    "df_exploded_occurrence = df_keyword_occurrence.explode(\"keywords\")\n",
    "df_exploded_occurrence[\"keywords\"] = df_exploded_occurrence[\"keywords\"].str.strip()\n",
    "keyword_counts = df_exploded_occurrence[\"keywords\"].value_counts()\n",
    "\n",
    "df_single_keyword = df_keyword_occurrence[df_keyword_occurrence[\"keywords\"].apply(len) == 1]\n",
    "solo_counts = df_single_keyword.explode(\"keywords\")[\"keywords\"].value_counts()\n",
    "\n",
    "df_keyword_stats = pd.DataFrame({\n",
    "    \"total\": keyword_counts,\n",
    "    \"solo\": solo_counts\n",
    "}).fillna(0)\n",
    "\n",
    "df_keyword_stats[\"solo_ratio\"] = (df_keyword_stats[\"solo\"] / df_keyword_stats[\"total\"]).round(2)\n",
    "\n",
    "pair_counts = Counter()\n",
    "\n",
    "for keyword_list in df_keyword_occurrence[\"keywords\"]:\n",
    "    unique_keywords = sorted([kw.strip() for kw in keyword_list])\n",
    "    for kw1, kw2 in combinations(unique_keywords, 2):\n",
    "        pair_counts[(kw1, kw2)] += 1\n",
    "        \n",
    "all_keywords = sorted(keyword_counts.index)\n",
    "\n",
    "cooc_matrix = pd.DataFrame(np.zeros((len(all_keywords), len(all_keywords))),\n",
    "                           index=all_keywords, columns=all_keywords)\n",
    "\n",
    "for (kw1, kw2), count in pair_counts.items():\n",
    "    cooc_matrix.at[kw2, kw1] = count / math.sqrt(keyword_counts[kw1] * keyword_counts[kw2])\n",
    "num_keywords = len(cooc_matrix)\n",
    "cell_size = 1.2\n",
    "\n",
    "plt.figure(figsize=(num_keywords * cell_size, num_keywords * cell_size))\n",
    "\n",
    "mask = np.triu(np.ones_like(cooc_matrix, dtype=bool))\n",
    "\n",
    "sns.heatmap(cooc_matrix, \n",
    "            mask=mask,\n",
    "            cmap=\"viridis\",\n",
    "            annot=True,\n",
    "            fmt=\".2f\",\n",
    "            square=True, \n",
    "            cbar_kws={\"shrink\": 0.6},\n",
    "            vmin=0,\n",
    "            vmax=1)\n",
    "\n",
    "plt.suptitle(\"Keyword-Pair Cosine Similarity\", fontsize=24, x=0.45, y=0.91)\n",
    "plt.title(\"(Values closer to 1 indicate strong relation)\", fontsize=14)\n",
    "plt.xticks(rotation=45, ha='right')\n",
    "plt.show()"
   ]
  },
  {
   "cell_type": "markdown",
   "id": "ff29655f",
   "metadata": {},
   "source": [
    "We can see the keywords have relatively low similarity, meaning they do occur together occasionally, but mostly cover their own fields. Whiles this might be bad news in other scenarios, I believe it actually is a positive outlook in this case, as it shows my choice of keywords cast a wider net to obtain a larger amount of papers related to the research of urban environments.\n",
    "\n",
    "Next I looked into the data over time, seeing how the relatioships changed over time. Since initial data was sparse, which can cause some issues with the similarity calculation, I went with 5-year intervals. That is, i grouped all of the data every 5 years before I performed the relationship analysis."
   ]
  },
  {
   "cell_type": "code",
   "execution_count": 13,
   "id": "7c3f6c8f",
   "metadata": {},
   "outputs": [
    {
     "data": {
      "image/png": "[encoded data removed]",
      "text/plain": [
       "<Figure size 1600x1000 with 2 Axes>"
      ]
     },
     "metadata": {},
     "output_type": "display_data"
    }
   ],
   "source": [
    "df_keyword_pivot = df_keywords.pivot(index='search_keyword', columns='year', values='paper_count')\n",
    "df_keyword_pivot.fillna(0, inplace=True)\n",
    "\n",
    "year_pair_counts = {}\n",
    "\n",
    "for _, row in df_keyword_occurrence.iterrows():\n",
    "    year = row['year']\n",
    "    year_bin = (year // 5) * 5\n",
    "    keyword_list = row['keywords']\n",
    "    \n",
    "    unique_keywords = sorted([kw.strip() for kw in keyword_list])\n",
    "    for kw1, kw2 in combinations(unique_keywords, 2):\n",
    "        pair_key = f\"{kw1} × {kw2}\"\n",
    "        \n",
    "        if year_bin not in year_pair_counts:\n",
    "            year_pair_counts[year_bin] = {}\n",
    "        if pair_key not in year_pair_counts[year_bin]:\n",
    "            year_pair_counts[year_bin][pair_key] = 0\n",
    "        year_pair_counts[year_bin][pair_key] += 1\n",
    "\n",
    "pair_time_data = []\n",
    "for year_bin, pairs_dict in year_pair_counts.items():\n",
    "    for pair, count in pairs_dict.items():\n",
    "        pair_time_data.append({\n",
    "            'year_bin': year_bin,\n",
    "            'keyword_pair': pair,\n",
    "            'cooccurrence_count': count\n",
    "        })\n",
    "\n",
    "df_pair_time = pd.DataFrame(pair_time_data)\n",
    "df_pair_pivot = df_pair_time.pivot(index='keyword_pair', columns='year_bin', values='cooccurrence_count')\n",
    "df_pair_pivot.fillna(0, inplace=True)\n",
    "\n",
    "df_keywords_binned = df_keywords.copy()\n",
    "df_keywords_binned['year_bin'] = (df_keywords_binned['year'] // 5) * 5\n",
    "df_keyword_binned_counts = df_keywords_binned.groupby(['search_keyword', 'year_bin'])['paper_count'].sum().reset_index()\n",
    "df_keyword_year_counts = df_keyword_binned_counts.pivot(index='search_keyword', columns='year_bin', values='paper_count')\n",
    "df_keyword_year_counts.fillna(0, inplace=True)\n",
    "\n",
    "df_pair_similarity = df_pair_pivot.copy()\n",
    "\n",
    "for pair_name in df_pair_similarity.index:\n",
    "    kw1, kw2 = pair_name.split(' × ')\n",
    "    \n",
    "    for year_bin in df_pair_similarity.columns:\n",
    "        if year_bin in df_keyword_year_counts.columns:\n",
    "            kw1_count = df_keyword_year_counts.loc[kw1, year_bin] if kw1 in df_keyword_year_counts.index else 0\n",
    "            kw2_count = df_keyword_year_counts.loc[kw2, year_bin] if kw2 in df_keyword_year_counts.index else 0\n",
    "            \n",
    "            if kw1_count > 0 and kw2_count > 0:\n",
    "                df_pair_similarity.loc[pair_name, year_bin] = df_pair_pivot.loc[pair_name, year_bin] / math.sqrt(kw1_count * kw2_count)\n",
    "            else:\n",
    "                df_pair_similarity.loc[pair_name, year_bin] = 0\n",
    "                \n",
    "\n",
    "plt.figure(figsize=(16, 10))\n",
    "\n",
    "year_totals = df_pair_similarity.sum(axis=0)\n",
    "active_years = year_totals[year_totals > 0].index\n",
    "df_similarity_active = df_pair_similarity[active_years]\n",
    "\n",
    "mask_zeros = df_similarity_active == 0\n",
    "\n",
    "sns.heatmap(df_similarity_active, \n",
    "            mask=mask_zeros,\n",
    "            cmap=\"viridis\",\n",
    "            cbar_kws={\"shrink\": 0.5, \"label\": \"Cosine Similarity (0-1)\"},\n",
    "            yticklabels=True,\n",
    "            xticklabels=True,\n",
    "            vmin=0,\n",
    "            vmax=1)\n",
    "\n",
    "plt.suptitle(\"Keyword Pair Similarity Over Time (5-Year Intervals)\", fontsize=20, y=0.99, x=0.52)\n",
    "plt.title(\"(Lighter colors indicate stronger relationships; black means either keyword had no papers)\", fontsize=12, pad=15)\n",
    "plt.xlabel(\"5-Year Period\", fontsize=12)\n",
    "plt.ylabel(\"Keyword Pairs\", fontsize=12)\n",
    "plt.xticks(rotation=45)\n",
    "plt.yticks(rotation=0)\n",
    "plt.tight_layout()\n",
    "plt.show()"
   ]
  },
  {
   "cell_type": "markdown",
   "id": "9f2376c0",
   "metadata": {},
   "source": [
    "A similar picture to our matrix above showed up hear with the data over time. Relatioships didn't change much over time, with the one interesting case being the urban biodiversity X urban ecosystem case, which could mean a trend of shared research over time, though the value still isn't high enough to draw any conslusions."
   ]
  },
  {
   "cell_type": "markdown",
   "id": "18a624f5",
   "metadata": {},
   "source": [
    "# Geographical Data Analysis\n",
    "\n",
    "In this next step, I'll obtain geographical data to draw a choropleth map with the publication data. We'll first need to perform some API calls again to fill in the gaps of our country ISO data, since OpenAlex doesn't have a lot of institution data indexed.\n",
    "\n",
    "\n",
    "We'll start by doing more OpenAlex calls to fill a second table in our papers.db, gathering every first author, as we ll as their affiliation (institution) and its Research Organization Registry (ROR).\n",
    "We'll use this ID to make some more API call to ROR as they'll help us obtain the missing country data."
   ]
  },
  {
   "cell_type": "code",
   "execution_count": 14,
   "id": "0d879e4c",
   "metadata": {},
   "outputs": [],
   "source": [
    "# === Author Data Retrieval Helper Functions ===\n",
    "\n",
    "def get_unique_author_ids():\n",
    "    \"\"\"Retrieve unique first author IDs from papers database\"\"\"\n",
    "    with sqlite3.connect(PAPERS_DB_PATH) as conn:\n",
    "        df_authors = pd.read_sql_query(\"\"\"\n",
    "        SELECT DISTINCT firstAuthorId \n",
    "        FROM papers \n",
    "        WHERE firstAuthorId IS NOT NULL \n",
    "        AND firstAuthorId != ''\n",
    "        ORDER BY firstAuthorId\n",
    "        \"\"\", conn)\n",
    "    return df_authors['firstAuthorId'].tolist()\n",
    "\n",
    "def save_author_to_db(author_data):\n",
    "    \"\"\"Save author information to database\"\"\"\n",
    "    conn = sqlite3.connect(PAPERS_DB_PATH)\n",
    "    c = conn.cursor()\n",
    "    \n",
    "    # Create authors table if it doesn't exist\n",
    "    c.execute(f'CREATE TABLE IF NOT EXISTS authors ({authors_schema})')\n",
    "    \n",
    "    author_id = author_data.get('id', '').replace('https://openalex.org/', '')\n",
    "    name = author_data.get('display_name')\n",
    "    \n",
    "    # Get last known institution information\n",
    "    institution_name = None\n",
    "    institution_ror = None\n",
    "    \n",
    "    # Try last_known_institutions (plural) - this is the correct OpenAlex API field\n",
    "    last_known_institutions = author_data.get('last_known_institutions', [])\n",
    "    if last_known_institutions and len(last_known_institutions) > 0:\n",
    "        institution = last_known_institutions[0]  # Get the most recent institution\n",
    "        institution_name = institution.get('display_name')\n",
    "        institution_ror = institution.get('ror')\n",
    "        if institution_ror:\n",
    "            institution_ror = institution_ror.replace('https://ror.org/', '')\n",
    "    \n",
    "    # Fallback: try old singular field in case API varies\n",
    "    if not institution_name:\n",
    "        last_known_institution = author_data.get('last_known_institution')\n",
    "        if last_known_institution:\n",
    "            institution_name = last_known_institution.get('display_name')\n",
    "            institution_ror = last_known_institution.get('ror')\n",
    "            if institution_ror:\n",
    "                institution_ror = institution_ror.replace('https://ror.org/', '')\n",
    "    \n",
    "    try:\n",
    "        # Check if author already exists\n",
    "        c.execute('SELECT authorId FROM authors WHERE authorId = ?', (author_id,))\n",
    "        existing = c.fetchone()\n",
    "        \n",
    "        if existing:\n",
    "            # Update existing record\n",
    "            c.execute(\"\"\"\n",
    "                UPDATE authors \n",
    "                SET name = ?, last_known_institution_name = ?, last_known_institution_ror = ?\n",
    "                WHERE authorId = ?\n",
    "            \"\"\", (name, institution_name, institution_ror, author_id))\n",
    "        else:\n",
    "            # Insert new record\n",
    "            c.execute(\"\"\"\n",
    "                INSERT INTO authors \n",
    "                (authorId, name, last_known_institution_name, last_known_institution_ror, country_code, country_name)\n",
    "                VALUES (?, ?, ?, ?, ?, ?)\n",
    "            \"\"\", (author_id, name, institution_name, institution_ror, None, None))\n",
    "        \n",
    "        conn.commit()\n",
    "        return True\n",
    "        \n",
    "    except sqlite3.Error as e:\n",
    "        print(f'❌ DB error for author {author_id}: {e}')\n",
    "        return False\n",
    "    finally:\n",
    "        conn.close()\n"
   ]
  },
  {
   "cell_type": "code",
   "execution_count": null,
   "id": "c59a1b13",
   "metadata": {},
   "outputs": [
    {
     "name": "stdout",
     "output_type": "stream",
     "text": [
      "🔍 PHASE 2: AUTHOR DATA RETRIEVAL (ENHANCED)\n",
      "============================================================\n",
      "📊 Found 45821 unique first authors\n",
      "📚 Existing authors in database: 45805\n",
      "🏢 Current institution coverage:\n",
      "   Authors with institution names: 41,455 (90.5%)\n",
      "   Authors with ROR IDs: 41,453 (90.5%)\n",
      "🆕 New authors to fetch: 16\n",
      "🔄 Existing authors to re-fetch (missing institutions): 4350\n",
      "📝 Total authors to process: 4366\n",
      "\n",
      "🚀 Starting enhanced author retrieval: 4366 authors\n",
      "   - 16 new authors\n",
      "   - 4350 re-fetch for missing institutions\n",
      "📡 Batch 1/88: Fetching authors 1-50...\n",
      "🆕 New authors to fetch: 16\n",
      "🔄 Existing authors to re-fetch (missing institutions): 4350\n",
      "📝 Total authors to process: 4366\n",
      "\n",
      "🚀 Starting enhanced author retrieval: 4366 authors\n",
      "   - 16 new authors\n",
      "   - 4350 re-fetch for missing institutions\n",
      "📡 Batch 1/88: Fetching authors 1-50...\n",
      "✅ Batch results: 50/50 saved, 3 new institution data\n",
      "✅ Batch results: 50/50 saved, 3 new institution data\n",
      "📡 Batch 2/88: Fetching authors 51-100...\n",
      "📡 Batch 2/88: Fetching authors 51-100...\n",
      "✅ Batch results: 50/50 saved, 1 new institution data\n",
      "✅ Batch results: 50/50 saved, 1 new institution data\n",
      "📡 Batch 3/88: Fetching authors 101-150...\n",
      "📡 Batch 3/88: Fetching authors 101-150...\n",
      "✅ Batch results: 50/50 saved, 0 new institution data\n",
      "✅ Batch results: 50/50 saved, 0 new institution data\n",
      "📡 Batch 4/88: Fetching authors 151-200...\n",
      "📡 Batch 4/88: Fetching authors 151-200...\n",
      "✅ Batch results: 50/50 saved, 0 new institution data\n",
      "✅ Batch results: 50/50 saved, 0 new institution data\n",
      "📡 Batch 5/88: Fetching authors 201-250...\n",
      "📡 Batch 5/88: Fetching authors 201-250...\n",
      "✅ Batch results: 50/50 saved, 0 new institution data\n",
      "✅ Batch results: 50/50 saved, 0 new institution data\n",
      "📡 Batch 6/88: Fetching authors 251-300...\n",
      "📡 Batch 6/88: Fetching authors 251-300...\n",
      "✅ Batch results: 50/50 saved, 0 new institution data\n",
      "✅ Batch results: 50/50 saved, 0 new institution data\n",
      "📡 Batch 7/88: Fetching authors 301-350...\n",
      "📡 Batch 7/88: Fetching authors 301-350...\n",
      "✅ Batch results: 50/50 saved, 0 new institution data\n",
      "✅ Batch results: 50/50 saved, 0 new institution data\n",
      "📡 Batch 8/88: Fetching authors 351-400...\n",
      "📡 Batch 8/88: Fetching authors 351-400...\n",
      "✅ Batch results: 50/50 saved, 0 new institution data\n",
      "✅ Batch results: 50/50 saved, 0 new institution data\n",
      "📡 Batch 9/88: Fetching authors 401-450...\n",
      "📡 Batch 9/88: Fetching authors 401-450...\n",
      "✅ Batch results: 50/50 saved, 0 new institution data\n",
      "✅ Batch results: 50/50 saved, 0 new institution data\n",
      "📡 Batch 10/88: Fetching authors 451-500...\n",
      "📡 Batch 10/88: Fetching authors 451-500...\n",
      "✅ Batch results: 50/50 saved, 0 new institution data\n",
      "✅ Batch results: 50/50 saved, 0 new institution data\n",
      "📡 Batch 11/88: Fetching authors 501-550...\n",
      "📡 Batch 11/88: Fetching authors 501-550...\n",
      "✅ Batch results: 50/50 saved, 0 new institution data\n",
      "✅ Batch results: 50/50 saved, 0 new institution data\n",
      "📡 Batch 12/88: Fetching authors 551-600...\n",
      "📡 Batch 12/88: Fetching authors 551-600...\n",
      "✅ Batch results: 50/50 saved, 0 new institution data\n",
      "✅ Batch results: 50/50 saved, 0 new institution data\n",
      "📡 Batch 13/88: Fetching authors 601-650...\n",
      "📡 Batch 13/88: Fetching authors 601-650...\n",
      "✅ Batch results: 50/50 saved, 0 new institution data\n",
      "✅ Batch results: 50/50 saved, 0 new institution data\n",
      "📡 Batch 14/88: Fetching authors 651-700...\n",
      "📡 Batch 14/88: Fetching authors 651-700...\n",
      "✅ Batch results: 49/50 saved, 0 new institution data\n",
      "✅ Batch results: 49/50 saved, 0 new institution data\n",
      "📡 Batch 15/88: Fetching authors 701-750...\n",
      "📡 Batch 15/88: Fetching authors 701-750...\n",
      "✅ Batch results: 50/50 saved, 0 new institution data\n",
      "✅ Batch results: 50/50 saved, 0 new institution data\n",
      "📡 Batch 16/88: Fetching authors 751-800...\n",
      "📡 Batch 16/88: Fetching authors 751-800...\n",
      "✅ Batch results: 50/50 saved, 0 new institution data\n",
      "✅ Batch results: 50/50 saved, 0 new institution data\n",
      "📡 Batch 17/88: Fetching authors 801-850...\n",
      "📡 Batch 17/88: Fetching authors 801-850...\n",
      "✅ Batch results: 50/50 saved, 0 new institution data\n",
      "✅ Batch results: 50/50 saved, 0 new institution data\n",
      "📡 Batch 18/88: Fetching authors 851-900...\n",
      "📡 Batch 18/88: Fetching authors 851-900...\n",
      "✅ Batch results: 50/50 saved, 0 new institution data\n",
      "✅ Batch results: 50/50 saved, 0 new institution data\n",
      "📡 Batch 19/88: Fetching authors 901-950...\n",
      "📡 Batch 19/88: Fetching authors 901-950...\n",
      "✅ Batch results: 50/50 saved, 0 new institution data\n",
      "✅ Batch results: 50/50 saved, 0 new institution data\n",
      "📡 Batch 20/88: Fetching authors 951-1000...\n",
      "📡 Batch 20/88: Fetching authors 951-1000...\n",
      "✅ Batch results: 50/50 saved, 0 new institution data\n",
      "✅ Batch results: 50/50 saved, 0 new institution data\n",
      "📡 Batch 21/88: Fetching authors 1001-1050...\n",
      "📡 Batch 21/88: Fetching authors 1001-1050...\n",
      "✅ Batch results: 50/50 saved, 0 new institution data\n",
      "✅ Batch results: 50/50 saved, 0 new institution data\n",
      "📡 Batch 22/88: Fetching authors 1051-1100...\n",
      "📡 Batch 22/88: Fetching authors 1051-1100...\n",
      "✅ Batch results: 50/50 saved, 0 new institution data\n",
      "✅ Batch results: 50/50 saved, 0 new institution data\n",
      "📡 Batch 23/88: Fetching authors 1101-1150...\n",
      "📡 Batch 23/88: Fetching authors 1101-1150...\n",
      "✅ Batch results: 50/50 saved, 0 new institution data\n",
      "✅ Batch results: 50/50 saved, 0 new institution data\n",
      "📡 Batch 24/88: Fetching authors 1151-1200...\n",
      "📡 Batch 24/88: Fetching authors 1151-1200...\n",
      "✅ Batch results: 50/50 saved, 0 new institution data\n",
      "✅ Batch results: 50/50 saved, 0 new institution data\n",
      "📡 Batch 25/88: Fetching authors 1201-1250...\n",
      "📡 Batch 25/88: Fetching authors 1201-1250...\n",
      "✅ Batch results: 50/50 saved, 0 new institution data\n",
      "✅ Batch results: 50/50 saved, 0 new institution data\n",
      "📡 Batch 26/88: Fetching authors 1251-1300...\n",
      "📡 Batch 26/88: Fetching authors 1251-1300...\n",
      "✅ Batch results: 50/50 saved, 0 new institution data\n",
      "✅ Batch results: 50/50 saved, 0 new institution data\n",
      "📡 Batch 27/88: Fetching authors 1301-1350...\n",
      "📡 Batch 27/88: Fetching authors 1301-1350...\n",
      "✅ Batch results: 50/50 saved, 0 new institution data\n",
      "✅ Batch results: 50/50 saved, 0 new institution data\n",
      "📡 Batch 28/88: Fetching authors 1351-1400...\n",
      "📡 Batch 28/88: Fetching authors 1351-1400...\n",
      "✅ Batch results: 50/50 saved, 0 new institution data\n",
      "✅ Batch results: 50/50 saved, 0 new institution data\n",
      "📡 Batch 29/88: Fetching authors 1401-1450...\n",
      "📡 Batch 29/88: Fetching authors 1401-1450...\n",
      "✅ Batch results: 50/50 saved, 0 new institution data\n",
      "✅ Batch results: 50/50 saved, 0 new institution data\n",
      "📡 Batch 30/88: Fetching authors 1451-1500...\n",
      "📡 Batch 30/88: Fetching authors 1451-1500...\n",
      "✅ Batch results: 50/50 saved, 0 new institution data\n",
      "✅ Batch results: 50/50 saved, 0 new institution data\n",
      "📡 Batch 31/88: Fetching authors 1501-1550...\n",
      "📡 Batch 31/88: Fetching authors 1501-1550...\n",
      "✅ Batch results: 50/50 saved, 0 new institution data\n",
      "✅ Batch results: 50/50 saved, 0 new institution data\n",
      "📡 Batch 32/88: Fetching authors 1551-1600...\n",
      "📡 Batch 32/88: Fetching authors 1551-1600...\n",
      "✅ Batch results: 50/50 saved, 0 new institution data\n",
      "✅ Batch results: 50/50 saved, 0 new institution data\n",
      "📡 Batch 33/88: Fetching authors 1601-1650...\n",
      "📡 Batch 33/88: Fetching authors 1601-1650...\n",
      "✅ Batch results: 50/50 saved, 0 new institution data\n",
      "✅ Batch results: 50/50 saved, 0 new institution data\n",
      "📡 Batch 34/88: Fetching authors 1651-1700...\n",
      "📡 Batch 34/88: Fetching authors 1651-1700...\n",
      "✅ Batch results: 50/50 saved, 0 new institution data\n",
      "✅ Batch results: 50/50 saved, 0 new institution data\n",
      "📡 Batch 35/88: Fetching authors 1701-1750...\n",
      "📡 Batch 35/88: Fetching authors 1701-1750...\n",
      "✅ Batch results: 49/50 saved, 0 new institution data\n",
      "✅ Batch results: 49/50 saved, 0 new institution data\n",
      "📡 Batch 36/88: Fetching authors 1751-1800...\n",
      "📡 Batch 36/88: Fetching authors 1751-1800...\n",
      "✅ Batch results: 50/50 saved, 0 new institution data\n",
      "✅ Batch results: 50/50 saved, 0 new institution data\n",
      "📡 Batch 37/88: Fetching authors 1801-1850...\n",
      "📡 Batch 37/88: Fetching authors 1801-1850...\n",
      "✅ Batch results: 50/50 saved, 0 new institution data\n",
      "✅ Batch results: 50/50 saved, 0 new institution data\n",
      "📡 Batch 38/88: Fetching authors 1851-1900...\n",
      "📡 Batch 38/88: Fetching authors 1851-1900...\n",
      "✅ Batch results: 50/50 saved, 0 new institution data\n",
      "✅ Batch results: 50/50 saved, 0 new institution data\n",
      "📡 Batch 39/88: Fetching authors 1901-1950...\n",
      "📡 Batch 39/88: Fetching authors 1901-1950...\n",
      "✅ Batch results: 50/50 saved, 0 new institution data\n",
      "✅ Batch results: 50/50 saved, 0 new institution data\n",
      "📡 Batch 40/88: Fetching authors 1951-2000...\n",
      "📡 Batch 40/88: Fetching authors 1951-2000...\n",
      "✅ Batch results: 49/50 saved, 0 new institution data\n",
      "✅ Batch results: 49/50 saved, 0 new institution data\n",
      "📡 Batch 41/88: Fetching authors 2001-2050...\n",
      "📡 Batch 41/88: Fetching authors 2001-2050...\n",
      "✅ Batch results: 50/50 saved, 0 new institution data\n",
      "✅ Batch results: 50/50 saved, 0 new institution data\n",
      "📡 Batch 42/88: Fetching authors 2051-2100...\n",
      "📡 Batch 42/88: Fetching authors 2051-2100...\n",
      "✅ Batch results: 50/50 saved, 0 new institution data\n",
      "✅ Batch results: 50/50 saved, 0 new institution data\n",
      "📡 Batch 43/88: Fetching authors 2101-2150...\n",
      "📡 Batch 43/88: Fetching authors 2101-2150...\n",
      "✅ Batch results: 50/50 saved, 0 new institution data\n",
      "✅ Batch results: 50/50 saved, 0 new institution data\n",
      "📡 Batch 44/88: Fetching authors 2151-2200...\n",
      "📡 Batch 44/88: Fetching authors 2151-2200...\n",
      "✅ Batch results: 50/50 saved, 0 new institution data\n",
      "✅ Batch results: 50/50 saved, 0 new institution data\n",
      "📡 Batch 45/88: Fetching authors 2201-2250...\n",
      "📡 Batch 45/88: Fetching authors 2201-2250...\n",
      "✅ Batch results: 50/50 saved, 0 new institution data\n",
      "✅ Batch results: 50/50 saved, 0 new institution data\n",
      "📡 Batch 46/88: Fetching authors 2251-2300...\n",
      "📡 Batch 46/88: Fetching authors 2251-2300...\n",
      "✅ Batch results: 50/50 saved, 0 new institution data\n",
      "✅ Batch results: 50/50 saved, 0 new institution data\n",
      "📡 Batch 47/88: Fetching authors 2301-2350...\n",
      "📡 Batch 47/88: Fetching authors 2301-2350...\n",
      "✅ Batch results: 50/50 saved, 0 new institution data\n",
      "✅ Batch results: 50/50 saved, 0 new institution data\n",
      "📡 Batch 48/88: Fetching authors 2351-2400...\n",
      "📡 Batch 48/88: Fetching authors 2351-2400...\n",
      "✅ Batch results: 50/50 saved, 0 new institution data\n",
      "✅ Batch results: 50/50 saved, 0 new institution data\n",
      "📡 Batch 49/88: Fetching authors 2401-2450...\n",
      "📡 Batch 49/88: Fetching authors 2401-2450...\n",
      "✅ Batch results: 50/50 saved, 0 new institution data\n",
      "✅ Batch results: 50/50 saved, 0 new institution data\n",
      "📡 Batch 50/88: Fetching authors 2451-2500...\n",
      "📡 Batch 50/88: Fetching authors 2451-2500...\n",
      "✅ Batch results: 50/50 saved, 0 new institution data\n",
      "✅ Batch results: 50/50 saved, 0 new institution data\n",
      "📡 Batch 51/88: Fetching authors 2501-2550...\n",
      "📡 Batch 51/88: Fetching authors 2501-2550...\n",
      "✅ Batch results: 50/50 saved, 0 new institution data\n",
      "✅ Batch results: 50/50 saved, 0 new institution data\n",
      "📡 Batch 52/88: Fetching authors 2551-2600...\n",
      "📡 Batch 52/88: Fetching authors 2551-2600...\n",
      "✅ Batch results: 50/50 saved, 0 new institution data\n",
      "✅ Batch results: 50/50 saved, 0 new institution data\n",
      "📡 Batch 53/88: Fetching authors 2601-2650...\n",
      "📡 Batch 53/88: Fetching authors 2601-2650...\n",
      "✅ Batch results: 50/50 saved, 0 new institution data\n",
      "✅ Batch results: 50/50 saved, 0 new institution data\n",
      "📡 Batch 54/88: Fetching authors 2651-2700...\n",
      "📡 Batch 54/88: Fetching authors 2651-2700...\n",
      "✅ Batch results: 50/50 saved, 0 new institution data\n",
      "✅ Batch results: 50/50 saved, 0 new institution data\n",
      "📡 Batch 55/88: Fetching authors 2701-2750...\n",
      "📡 Batch 55/88: Fetching authors 2701-2750...\n",
      "✅ Batch results: 50/50 saved, 0 new institution data\n",
      "✅ Batch results: 50/50 saved, 0 new institution data\n",
      "📡 Batch 56/88: Fetching authors 2751-2800...\n",
      "📡 Batch 56/88: Fetching authors 2751-2800...\n",
      "✅ Batch results: 50/50 saved, 0 new institution data\n",
      "✅ Batch results: 50/50 saved, 0 new institution data\n",
      "📡 Batch 57/88: Fetching authors 2801-2850...\n",
      "📡 Batch 57/88: Fetching authors 2801-2850...\n",
      "✅ Batch results: 50/50 saved, 0 new institution data\n",
      "✅ Batch results: 50/50 saved, 0 new institution data\n",
      "📡 Batch 58/88: Fetching authors 2851-2900...\n",
      "📡 Batch 58/88: Fetching authors 2851-2900...\n",
      "✅ Batch results: 50/50 saved, 0 new institution data\n",
      "✅ Batch results: 50/50 saved, 0 new institution data\n",
      "📡 Batch 59/88: Fetching authors 2901-2950...\n",
      "📡 Batch 59/88: Fetching authors 2901-2950...\n",
      "✅ Batch results: 50/50 saved, 0 new institution data\n",
      "✅ Batch results: 50/50 saved, 0 new institution data\n",
      "📡 Batch 60/88: Fetching authors 2951-3000...\n",
      "📡 Batch 60/88: Fetching authors 2951-3000...\n",
      "✅ Batch results: 39/50 saved, 0 new institution data\n",
      "✅ Batch results: 39/50 saved, 0 new institution data\n",
      "📡 Batch 61/88: Fetching authors 3001-3050...\n",
      "📡 Batch 61/88: Fetching authors 3001-3050...\n",
      "✅ Batch results: 50/50 saved, 0 new institution data\n",
      "✅ Batch results: 50/50 saved, 0 new institution data\n",
      "📡 Batch 62/88: Fetching authors 3051-3100...\n",
      "📡 Batch 62/88: Fetching authors 3051-3100...\n",
      "✅ Batch results: 50/50 saved, 0 new institution data\n",
      "✅ Batch results: 50/50 saved, 0 new institution data\n",
      "📡 Batch 63/88: Fetching authors 3101-3150...\n",
      "📡 Batch 63/88: Fetching authors 3101-3150...\n",
      "✅ Batch results: 50/50 saved, 0 new institution data\n",
      "✅ Batch results: 50/50 saved, 0 new institution data\n",
      "📡 Batch 64/88: Fetching authors 3151-3200...\n",
      "📡 Batch 64/88: Fetching authors 3151-3200...\n",
      "✅ Batch results: 50/50 saved, 0 new institution data\n",
      "✅ Batch results: 50/50 saved, 0 new institution data\n",
      "📡 Batch 65/88: Fetching authors 3201-3250...\n",
      "📡 Batch 65/88: Fetching authors 3201-3250...\n",
      "✅ Batch results: 50/50 saved, 0 new institution data\n",
      "✅ Batch results: 50/50 saved, 0 new institution data\n",
      "📡 Batch 66/88: Fetching authors 3251-3300...\n",
      "📡 Batch 66/88: Fetching authors 3251-3300...\n",
      "✅ Batch results: 50/50 saved, 0 new institution data\n",
      "✅ Batch results: 50/50 saved, 0 new institution data\n",
      "📡 Batch 67/88: Fetching authors 3301-3350...\n",
      "📡 Batch 67/88: Fetching authors 3301-3350...\n",
      "✅ Batch results: 50/50 saved, 0 new institution data\n",
      "✅ Batch results: 50/50 saved, 0 new institution data\n",
      "📡 Batch 68/88: Fetching authors 3351-3400...\n",
      "📡 Batch 68/88: Fetching authors 3351-3400...\n",
      "✅ Batch results: 50/50 saved, 0 new institution data\n",
      "✅ Batch results: 50/50 saved, 0 new institution data\n",
      "📡 Batch 69/88: Fetching authors 3401-3450...\n",
      "📡 Batch 69/88: Fetching authors 3401-3450...\n",
      "✅ Batch results: 50/50 saved, 0 new institution data\n",
      "✅ Batch results: 50/50 saved, 0 new institution data\n",
      "📡 Batch 70/88: Fetching authors 3451-3500...\n",
      "📡 Batch 70/88: Fetching authors 3451-3500...\n",
      "✅ Batch results: 50/50 saved, 0 new institution data\n",
      "✅ Batch results: 50/50 saved, 0 new institution data\n",
      "📡 Batch 71/88: Fetching authors 3501-3550...\n",
      "📡 Batch 71/88: Fetching authors 3501-3550...\n",
      "✅ Batch results: 50/50 saved, 0 new institution data\n",
      "✅ Batch results: 50/50 saved, 0 new institution data\n",
      "📡 Batch 72/88: Fetching authors 3551-3600...\n",
      "📡 Batch 72/88: Fetching authors 3551-3600...\n",
      "✅ Batch results: 50/50 saved, 0 new institution data\n",
      "✅ Batch results: 50/50 saved, 0 new institution data\n",
      "📡 Batch 73/88: Fetching authors 3601-3650...\n",
      "📡 Batch 73/88: Fetching authors 3601-3650...\n",
      "✅ Batch results: 50/50 saved, 0 new institution data\n",
      "✅ Batch results: 50/50 saved, 0 new institution data\n",
      "📡 Batch 74/88: Fetching authors 3651-3700...\n",
      "📡 Batch 74/88: Fetching authors 3651-3700...\n",
      "✅ Batch results: 50/50 saved, 0 new institution data\n",
      "✅ Batch results: 50/50 saved, 0 new institution data\n",
      "📡 Batch 75/88: Fetching authors 3701-3750...\n",
      "📡 Batch 75/88: Fetching authors 3701-3750...\n",
      "✅ Batch results: 50/50 saved, 0 new institution data\n",
      "✅ Batch results: 50/50 saved, 0 new institution data\n",
      "📡 Batch 76/88: Fetching authors 3751-3800...\n",
      "📡 Batch 76/88: Fetching authors 3751-3800...\n",
      "✅ Batch results: 49/50 saved, 0 new institution data\n",
      "✅ Batch results: 49/50 saved, 0 new institution data\n",
      "📡 Batch 77/88: Fetching authors 3801-3850...\n",
      "📡 Batch 77/88: Fetching authors 3801-3850...\n",
      "✅ Batch results: 50/50 saved, 0 new institution data\n",
      "✅ Batch results: 50/50 saved, 0 new institution data\n",
      "📡 Batch 78/88: Fetching authors 3851-3900...\n",
      "📡 Batch 78/88: Fetching authors 3851-3900...\n",
      "✅ Batch results: 50/50 saved, 0 new institution data\n",
      "✅ Batch results: 50/50 saved, 0 new institution data\n",
      "📡 Batch 79/88: Fetching authors 3901-3950...\n",
      "📡 Batch 79/88: Fetching authors 3901-3950...\n",
      "✅ Batch results: 50/50 saved, 0 new institution data\n",
      "✅ Batch results: 50/50 saved, 0 new institution data\n",
      "📡 Batch 80/88: Fetching authors 3951-4000...\n",
      "📡 Batch 80/88: Fetching authors 3951-4000...\n",
      "✅ Batch results: 50/50 saved, 0 new institution data\n",
      "✅ Batch results: 50/50 saved, 0 new institution data\n",
      "📡 Batch 81/88: Fetching authors 4001-4050...\n",
      "📡 Batch 81/88: Fetching authors 4001-4050...\n",
      "✅ Batch results: 50/50 saved, 0 new institution data\n",
      "✅ Batch results: 50/50 saved, 0 new institution data\n",
      "📡 Batch 82/88: Fetching authors 4051-4100...\n",
      "📡 Batch 82/88: Fetching authors 4051-4100...\n",
      "✅ Batch results: 50/50 saved, 0 new institution data\n",
      "✅ Batch results: 50/50 saved, 0 new institution data\n",
      "📡 Batch 83/88: Fetching authors 4101-4150...\n",
      "📡 Batch 83/88: Fetching authors 4101-4150...\n",
      "✅ Batch results: 50/50 saved, 0 new institution data\n",
      "✅ Batch results: 50/50 saved, 0 new institution data\n",
      "📡 Batch 84/88: Fetching authors 4151-4200...\n",
      "📡 Batch 84/88: Fetching authors 4151-4200...\n",
      "✅ Batch results: 50/50 saved, 0 new institution data\n",
      "✅ Batch results: 50/50 saved, 0 new institution data\n",
      "📡 Batch 85/88: Fetching authors 4201-4250...\n",
      "📡 Batch 85/88: Fetching authors 4201-4250...\n",
      "✅ Batch results: 50/50 saved, 0 new institution data\n",
      "✅ Batch results: 50/50 saved, 0 new institution data\n",
      "📡 Batch 86/88: Fetching authors 4251-4300...\n",
      "📡 Batch 86/88: Fetching authors 4251-4300...\n",
      "✅ Batch results: 50/50 saved, 0 new institution data\n",
      "✅ Batch results: 50/50 saved, 0 new institution data\n",
      "📡 Batch 87/88: Fetching authors 4301-4350...\n",
      "📡 Batch 87/88: Fetching authors 4301-4350...\n",
      "✅ Batch results: 50/50 saved, 0 new institution data\n",
      "✅ Batch results: 50/50 saved, 0 new institution data\n",
      "📡 Batch 88/88: Fetching authors 4351-4366...\n",
      "📡 Batch 88/88: Fetching authors 4351-4366...\n",
      "✅ Batch results: 15/16 saved, 0 new institution data\n",
      "\n",
      "🎉 Enhanced author retrieval completed!\n",
      "📊 Results: 4350/4366 authors successfully processed\n",
      "🏢 Institution updates: 4 authors gained institution data\n",
      "\n",
      "============================================================\n",
      "ENHANCED AUTHOR DATA SUMMARY\n",
      "============================================================\n",
      "✅ Total authors: 45,805.0\n",
      "✅ Authors with institutions: 41,459.0 (90.5%)\n",
      "✅ Authors with ROR IDs: 41,457.0 (90.5%)\n",
      "✅ Unique institutions (ROR): 10,463.0\n",
      "⚠️  Still missing institutions: 4,346 authors\n",
      "\n",
      "📋 Authors without institution data may be:\n",
      "   • Independent researchers\n",
      "   • Authors from institutions not in OpenAlex\n",
      "   • Data quality issues in original papers\n",
      "✅ Batch results: 15/16 saved, 0 new institution data\n",
      "\n",
      "🎉 Enhanced author retrieval completed!\n",
      "📊 Results: 4350/4366 authors successfully processed\n",
      "🏢 Institution updates: 4 authors gained institution data\n",
      "\n",
      "============================================================\n",
      "ENHANCED AUTHOR DATA SUMMARY\n",
      "============================================================\n",
      "✅ Total authors: 45,805.0\n",
      "✅ Authors with institutions: 41,459.0 (90.5%)\n",
      "✅ Authors with ROR IDs: 41,457.0 (90.5%)\n",
      "✅ Unique institutions (ROR): 10,463.0\n",
      "⚠️  Still missing institutions: 4,346 authors\n",
      "\n",
      "📋 Authors without institution data may be:\n",
      "   • Independent researchers\n",
      "   • Authors from institutions not in OpenAlex\n",
      "   • Data quality issues in original papers\n"
     ]
    }
   ],
   "source": [
    "# === Execute Author Data Retrieval Loop (Enhanced) ===\n",
    "\n",
    "print('🔍 PHASE 2: AUTHOR DATA RETRIEVAL (ENHANCED)')\n",
    "print('=' * 60)\n",
    "\n",
    "# Get unique author IDs\n",
    "unique_author_ids = get_unique_author_ids()\n",
    "print(f'📊 Found {len(unique_author_ids)} unique first authors')\n",
    "\n",
    "# Check existing authors\n",
    "init_table(PAPERS_DB_PATH, 'authors', authors_schema)\n",
    "\n",
    "with sqlite3.connect(PAPERS_DB_PATH) as conn:\n",
    "    try:\n",
    "        existing_authors = pd.read_sql_query('SELECT COUNT(*) as count FROM authors', conn)\n",
    "        existing_count = existing_authors['count'].iloc[0]\n",
    "        print(f'📚 Existing authors in database: {existing_count}')\n",
    "        \n",
    "        # Check institution coverage\n",
    "        institution_stats = pd.read_sql_query(\"\"\"\n",
    "        SELECT \n",
    "            COUNT(*) as total_authors,\n",
    "            COUNT(last_known_institution_name) as authors_with_institutions,\n",
    "            COUNT(last_known_institution_ror) as authors_with_ror\n",
    "        FROM authors\n",
    "        \"\"\", conn).iloc[0]\n",
    "        \n",
    "        print(f'🏢 Current institution coverage:')\n",
    "        print(f'   Authors with institution names: {institution_stats[\"authors_with_institutions\"]:,} ({institution_stats[\"authors_with_institutions\"]/institution_stats[\"total_authors\"]*100:.1f}%)')\n",
    "        print(f'   Authors with ROR IDs: {institution_stats[\"authors_with_ror\"]:,} ({institution_stats[\"authors_with_ror\"]/institution_stats[\"total_authors\"]*100:.1f}%)')\n",
    "        \n",
    "    except:\n",
    "        existing_count = 0\n",
    "        print('📚 No existing authors table found - created new one')\n",
    "\n",
    "# Determine which authors to fetch - include those missing institution data\n",
    "if existing_count > 0:\n",
    "    with sqlite3.connect(PAPERS_DB_PATH) as conn:\n",
    "        # Get authors that either don't exist OR are missing institution data\n",
    "        authors_needing_fetch = pd.read_sql_query(\"\"\"\n",
    "        SELECT DISTINCT p.firstAuthorId\n",
    "        FROM papers p\n",
    "        WHERE p.firstAuthorId IS NOT NULL \n",
    "        AND p.firstAuthorId != ''\n",
    "        AND (\n",
    "            -- Author doesn't exist in authors table\n",
    "            NOT EXISTS (SELECT 1 FROM authors a WHERE a.authorId = p.firstAuthorId)\n",
    "            OR\n",
    "            -- Author exists but missing institution data\n",
    "            EXISTS (\n",
    "                SELECT 1 FROM authors a \n",
    "                WHERE a.authorId = p.firstAuthorId \n",
    "                AND (a.last_known_institution_name IS NULL OR a.last_known_institution_name = '')\n",
    "            )\n",
    "        )\n",
    "        ORDER BY p.firstAuthorId\n",
    "        \"\"\", conn)\n",
    "        \n",
    "        authors_to_fetch = authors_needing_fetch['firstAuthorId'].tolist()\n",
    "        \n",
    "        # Separate new vs re-fetch for reporting\n",
    "        existing_ids = pd.read_sql_query('SELECT authorId FROM authors', conn)['authorId'].tolist()\n",
    "        new_author_ids = [aid for aid in authors_to_fetch if aid not in existing_ids]\n",
    "        refetch_author_ids = [aid for aid in authors_to_fetch if aid in existing_ids]\n",
    "        \n",
    "        print(f'🆕 New authors to fetch: {len(new_author_ids)}')\n",
    "        print(f'🔄 Existing authors to re-fetch (missing institutions): {len(refetch_author_ids)}')\n",
    "        print(f'📝 Total authors to process: {len(authors_to_fetch)}')\n",
    "        \n",
    "else:\n",
    "    authors_to_fetch = unique_author_ids\n",
    "    new_author_ids = authors_to_fetch\n",
    "    refetch_author_ids = []\n",
    "    print(f'⏳ Fetching all {len(unique_author_ids)} authors')\n",
    "\n",
    "if len(authors_to_fetch) == 0:\n",
    "    print('✅ All authors already in database with complete institution data!')\n",
    "else:\n",
    "    # === Enhanced Author Retrieval Loop ===\n",
    "    total_authors = len(authors_to_fetch)\n",
    "    processed = 0\n",
    "    successful = 0\n",
    "    updated_institutions = 0\n",
    "    batch_size = 50  # OpenAlex max per request\n",
    "    \n",
    "    print(f'\\n🚀 Starting enhanced author retrieval: {total_authors} authors')\n",
    "    print(f'   - {len(new_author_ids)} new authors')\n",
    "    print(f'   - {len(refetch_author_ids)} re-fetch for missing institutions')\n",
    "    \n",
    "    # Process in batches\n",
    "    for i in range(0, total_authors, batch_size):\n",
    "        batch = authors_to_fetch[i:i + batch_size]\n",
    "        batch_urls = [f'https://openalex.org/{author_id}' for author_id in batch]\n",
    "        \n",
    "        params = {\n",
    "            'filter': f'openalex_id:{\"|\".join(batch_urls)}',\n",
    "            'per_page': len(batch),\n",
    "            'mailto': 'andre.borja.miranda@gmail.com'\n",
    "        }\n",
    "        \n",
    "        batch_num = i//batch_size + 1\n",
    "        total_batches = (total_authors + batch_size - 1)//batch_size\n",
    "        \n",
    "        for attempt in range(2):\n",
    "            try:\n",
    "                print(f'📡 Batch {batch_num}/{total_batches}: Fetching authors {i+1}-{min(i+batch_size, total_authors)}...')\n",
    "                \n",
    "                sys.stdout.flush()\n",
    "                response = requests.get(AUTHOR_URL, params=params, timeout=30)\n",
    "                response.raise_for_status()\n",
    "                sys.stdout.flush()\n",
    "                \n",
    "                data = response.json()\n",
    "                break\n",
    "                \n",
    "            except requests.exceptions.RequestException as e:\n",
    "                print(f'❌ Request error on attempt {attempt+1}: {e}')\n",
    "                if attempt == 0:\n",
    "                    print(f'⏳ Retrying after {RETRY_DELAY} seconds...')\n",
    "                    time.sleep(RETRY_DELAY)\n",
    "                else:\n",
    "                    print('⚠️ Skipping this batch due to repeated failure.')\n",
    "                    data = None\n",
    "        \n",
    "        if data is None:\n",
    "            continue\n",
    "            \n",
    "        if 'error' in data:\n",
    "            print(f'❌ API Error: {data.get(\"message\", \"Unknown error\")}')\n",
    "            continue\n",
    "            \n",
    "        authors = data.get('results', [])\n",
    "        \n",
    "        # Save each author to database and track institution updates\n",
    "        batch_successful = 0\n",
    "        batch_institution_updates = 0\n",
    "        \n",
    "        for author in authors:\n",
    "            author_id = author.get('id', '').replace('https://openalex.org/', '')\n",
    "            was_refetch = author_id in refetch_author_ids\n",
    "            \n",
    "            # Check if this author had institution data before (for re-fetches)\n",
    "            had_institution_before = False\n",
    "            if was_refetch:\n",
    "                with sqlite3.connect(PAPERS_DB_PATH) as conn:\n",
    "                    existing_institution = pd.read_sql_query(\"\"\"\n",
    "                    SELECT last_known_institution_name \n",
    "                    FROM authors \n",
    "                    WHERE authorId = ?\n",
    "                    \"\"\", conn, params=(author_id,))\n",
    "                    \n",
    "                    if not existing_institution.empty:\n",
    "                        had_institution_before = bool(existing_institution.iloc[0]['last_known_institution_name'])\n",
    "            \n",
    "            if save_author_to_db(author):\n",
    "                batch_successful += 1\n",
    "                \n",
    "                # Track if we successfully added institution data for a re-fetch\n",
    "                if was_refetch and not had_institution_before:\n",
    "                    last_known_institutions = author.get('last_known_institutions', [])\n",
    "                    if last_known_institutions and len(last_known_institutions) > 0:\n",
    "                        institution = last_known_institutions[0]\n",
    "                        if institution.get('display_name'):\n",
    "                            batch_institution_updates += 1\n",
    "        \n",
    "        successful += batch_successful\n",
    "        updated_institutions += batch_institution_updates\n",
    "        processed += len(batch)\n",
    "        \n",
    "        print(f'✅ Batch results: {batch_successful}/{len(batch)} saved, {batch_institution_updates} new institution data')\n",
    "        \n",
    "        # Rate limiting\n",
    "        if i + batch_size < total_authors:\n",
    "            time.sleep(DELAY)\n",
    "    \n",
    "    print(f'\\n🎉 Enhanced author retrieval completed!')\n",
    "    print(f'📊 Results: {successful}/{processed} authors successfully processed')\n",
    "    print(f'🏢 Institution updates: {updated_institutions} authors gained institution data')\n",
    "\n",
    "# Enhanced Summary\n",
    "print('\\n' + '='*60)\n",
    "print('ENHANCED AUTHOR DATA SUMMARY')\n",
    "print('='*60)\n",
    "\n",
    "with sqlite3.connect(PAPERS_DB_PATH) as conn:\n",
    "    summary_stats = pd.read_sql_query(\"\"\"\n",
    "    SELECT \n",
    "        COUNT(*) as total_authors,\n",
    "        COUNT(last_known_institution_name) as authors_with_institutions,\n",
    "        COUNT(last_known_institution_ror) as authors_with_ror,\n",
    "        COUNT(DISTINCT last_known_institution_ror) as unique_ror_institutions,\n",
    "        \n",
    "        -- Coverage improvement metrics\n",
    "        ROUND(COUNT(last_known_institution_name) * 100.0 / COUNT(*), 1) as institution_coverage_pct,\n",
    "        ROUND(COUNT(last_known_institution_ror) * 100.0 / COUNT(*), 1) as ror_coverage_pct\n",
    "    FROM authors\n",
    "    \"\"\", conn)\n",
    "    \n",
    "    # Also check which authors still have no institution data\n",
    "    missing_institutions = pd.read_sql_query(\"\"\"\n",
    "    SELECT COUNT(*) as authors_missing_institutions\n",
    "    FROM authors\n",
    "    WHERE last_known_institution_name IS NULL OR last_known_institution_name = ''\n",
    "    \"\"\", conn).iloc[0]['authors_missing_institutions']\n",
    "    \n",
    "    stats = summary_stats.iloc[0]\n",
    "    print(f\"✅ Total authors: {stats['total_authors']:,}\")\n",
    "    print(f\"✅ Authors with institutions: {stats['authors_with_institutions']:,} ({stats['institution_coverage_pct']}%)\")\n",
    "    print(f\"✅ Authors with ROR IDs: {stats['authors_with_ror']:,} ({stats['ror_coverage_pct']}%)\")\n",
    "    print(f\"✅ Unique institutions (ROR): {stats['unique_ror_institutions']:,}\")"
   ]
  },
  {
   "cell_type": "code",
   "execution_count": 17,
   "id": "66d8b62f",
   "metadata": {},
   "outputs": [
    {
     "name": "stdout",
     "output_type": "stream",
     "text": [
      "🌍 PHASE 3: ROR GEOGRAPHIC ENHANCEMENT (RESUMABLE)\n",
      "============================================================\n",
      "📈 CURRENT PROGRESS:\n",
      "   Authors with ROR IDs: 41,457\n",
      "   Already have country data: 41,453\n",
      "   Still need country data: 4\n",
      "   Progress: 100.0% complete\n",
      "\n",
      "🎯 RESUMING ENHANCEMENT:\n",
      "   Remaining ROR IDs: 4\n",
      "   Authors to be enhanced: 4\n",
      "   Realistic time estimate: ~0.2 minutes\n",
      "\n",
      "📡 Batch 1/1: Processing 4 ROR IDs...\n",
      "✅ Batch results: 4 successful, 0 failed, 4 DB updates\n",
      "⏱️ Batch took 1.6s (0.41s per request)\n",
      "\n",
      "🎉 ROR enhancement completed in 0.0 minutes!\n",
      "📊 Final results: 4 successful updates, 0 failed requests\n",
      "\n",
      "🔄 Updating papers with author-derived country data...\n",
      "✅ Updated 2 papers with author-derived country data\n",
      "\n",
      "============================================================\n",
      "GEOGRAPHIC ENHANCEMENT SUMMARY\n",
      "============================================================\n",
      "📄 Papers: 66,047.0 total, 52,239.0 with country (79.1%)\n",
      "👥 Authors: 45,805.0 total, 41,457.0 with country data\n",
      "🌏 Unique countries identified: 191.0\n",
      "\n",
      "🎯 Geographic enhancement complete! Ready for visualization.\n",
      "✅ Batch results: 4 successful, 0 failed, 4 DB updates\n",
      "⏱️ Batch took 1.6s (0.41s per request)\n",
      "\n",
      "🎉 ROR enhancement completed in 0.0 minutes!\n",
      "📊 Final results: 4 successful updates, 0 failed requests\n",
      "\n",
      "🔄 Updating papers with author-derived country data...\n",
      "✅ Updated 2 papers with author-derived country data\n",
      "\n",
      "============================================================\n",
      "GEOGRAPHIC ENHANCEMENT SUMMARY\n",
      "============================================================\n",
      "📄 Papers: 66,047.0 total, 52,239.0 with country (79.1%)\n",
      "👥 Authors: 45,805.0 total, 41,457.0 with country data\n",
      "🌏 Unique countries identified: 191.0\n",
      "\n",
      "🎯 Geographic enhancement complete! Ready for visualization.\n"
     ]
    }
   ],
   "source": [
    "# === PHASE 3: ROR GEOGRAPHIC ENHANCEMENT (RESUMABLE) ===\n",
    "\n",
    "print('🌍 PHASE 3: ROR GEOGRAPHIC ENHANCEMENT (RESUMABLE)')\n",
    "print('=' * 60)\n",
    "\n",
    "ROR_BASE_URL = 'https://api.ror.org/v2/organizations'\n",
    "ROR_DELAY = 0.1  # More conservative delay (600 requests/min)\n",
    "MAX_RETRIES = 3\n",
    "\n",
    "def get_ror_country_data_robust(ror_ids_batch, max_retries=MAX_RETRIES):\n",
    "    \"\"\"Enhanced ROR data fetching with session reuse and better error handling\"\"\"\n",
    "    ror_data = {}\n",
    "    headers = {\n",
    "        'User-Agent': f'UrbanEcologyResearch/1.0 (https://github.com/Borjabor/UrbanEcologyResearchTrend; {ROR_CLIENT_ID})',\n",
    "        'Accept': 'application/json',\n",
    "        'Connection': 'keep-alive'\n",
    "    }\n",
    "    \n",
    "    # Use session for connection reuse (major performance improvement)\n",
    "    session = requests.Session()\n",
    "    session.headers.update(headers)\n",
    "    \n",
    "    successful_requests = 0\n",
    "    failed_requests = 0\n",
    "    \n",
    "    for ror_id in ror_ids_batch:\n",
    "        success = False\n",
    "        \n",
    "        for attempt in range(max_retries):\n",
    "            try:\n",
    "                start_request = time.time()\n",
    "                response = session.get(\n",
    "                    f\"{ROR_BASE_URL}/{ror_id}\", \n",
    "                    timeout=15,  # Increased timeout\n",
    "                    stream=False\n",
    "                )\n",
    "                \n",
    "                if response.status_code == 200:\n",
    "                    data = response.json()\n",
    "                    locations = data.get('locations', [])\n",
    "                    \n",
    "                    if locations:\n",
    "                        geonames = locations[0].get('geonames_details', {})\n",
    "                        country_code = geonames.get('country_code')\n",
    "                        country_name = geonames.get('country_name')\n",
    "                        \n",
    "                        ror_data[ror_id] = {\n",
    "                            'country_code': country_code, \n",
    "                            'country_name': country_name\n",
    "                        } if country_code else None\n",
    "                    else:\n",
    "                        ror_data[ror_id] = None\n",
    "                    \n",
    "                    successful_requests += 1\n",
    "                    success = True\n",
    "                    break\n",
    "                    \n",
    "                elif response.status_code == 429:  # Rate limited\n",
    "                    wait_time = 5 + (attempt * 2)  # Exponential backoff\n",
    "                    print(f\"⏳ Rate limited on {ror_id}, waiting {wait_time}s...\")\n",
    "                    time.sleep(wait_time)\n",
    "                    \n",
    "                elif response.status_code == 404:\n",
    "                    print(f\"❌ ROR ID not found: {ror_id}\")\n",
    "                    ror_data[ror_id] = None\n",
    "                    success = True\n",
    "                    break\n",
    "                    \n",
    "                else:\n",
    "                    print(f\"⚠️ HTTP {response.status_code} for {ror_id} (attempt {attempt+1})\")\n",
    "                    if attempt < max_retries - 1:\n",
    "                        time.sleep(2)\n",
    "                    \n",
    "            except requests.exceptions.Timeout:\n",
    "                print(f\"⏱️ Timeout for {ror_id} (attempt {attempt+1})\")\n",
    "                if attempt < max_retries - 1:\n",
    "                    time.sleep(3)\n",
    "                    \n",
    "            except requests.exceptions.ConnectionError:\n",
    "                print(f\"🔌 Connection error for {ror_id} (attempt {attempt+1})\")\n",
    "                if attempt < max_retries - 1:\n",
    "                    time.sleep(5)  # Longer wait for connection issues\n",
    "                    \n",
    "            except requests.exceptions.RequestException as e:\n",
    "                print(f\"❌ Request error for {ror_id} (attempt {attempt+1}): {e}\")\n",
    "                if attempt < max_retries - 1:\n",
    "                    time.sleep(2)\n",
    "        \n",
    "        if not success:\n",
    "            print(f\"🚫 Failed to fetch {ror_id} after {max_retries} attempts\")\n",
    "            ror_data[ror_id] = None\n",
    "            failed_requests += 1\n",
    "        \n",
    "        # Conservative rate limiting\n",
    "        time.sleep(ROR_DELAY)\n",
    "    \n",
    "    session.close()\n",
    "    return ror_data, successful_requests, failed_requests\n",
    "\n",
    "# Setup: Add country columns to authors table if needed\n",
    "with sqlite3.connect(PAPERS_DB_PATH) as conn:\n",
    "    c = conn.cursor()\n",
    "    c.execute(\"PRAGMA table_info(authors)\")\n",
    "    existing_columns = {col[1] for col in c.fetchall()}\n",
    "    \n",
    "    for col in ['country_code', 'country_name']:\n",
    "        if col not in existing_columns:\n",
    "            c.execute(f\"ALTER TABLE authors ADD COLUMN {col} TEXT\")\n",
    "            print(f\"✅ Added {col} column to authors table\")\n",
    "    \n",
    "    conn.commit()\n",
    "\n",
    "# Check current progress and get remaining ROR IDs\n",
    "with sqlite3.connect(PAPERS_DB_PATH) as conn:\n",
    "    # Check overall progress first\n",
    "    progress_stats = pd.read_sql_query(\"\"\"\n",
    "    SELECT \n",
    "        COUNT(*) as total_authors_with_ror,\n",
    "        COUNT(country_code) as authors_with_country,\n",
    "        COUNT(*) - COUNT(country_code) as authors_missing_country\n",
    "    FROM authors \n",
    "    WHERE last_known_institution_ror IS NOT NULL\n",
    "    \"\"\", conn).iloc[0]\n",
    "    \n",
    "    print(f\"📈 CURRENT PROGRESS:\")\n",
    "    print(f\"   Authors with ROR IDs: {progress_stats['total_authors_with_ror']:,}\")\n",
    "    print(f\"   Already have country data: {progress_stats['authors_with_country']:,}\")\n",
    "    print(f\"   Still need country data: {progress_stats['authors_missing_country']:,}\")\n",
    "    \n",
    "    if progress_stats['authors_with_country'] > 0:\n",
    "        completion_pct = (progress_stats['authors_with_country'] / progress_stats['total_authors_with_ror']) * 100\n",
    "        print(f\"   Progress: {completion_pct:.1f}% complete\")\n",
    "    \n",
    "    # Get remaining ROR IDs to process\n",
    "    ror_stats = pd.read_sql_query(\"\"\"\n",
    "    SELECT last_known_institution_ror, COUNT(DISTINCT authorId) as author_count\n",
    "    FROM authors \n",
    "    WHERE last_known_institution_ror IS NOT NULL \n",
    "    AND (country_code IS NULL OR country_code = '')\n",
    "    GROUP BY last_known_institution_ror\n",
    "    ORDER BY author_count DESC\n",
    "    \"\"\", conn)\n",
    "\n",
    "if len(ror_stats) == 0:\n",
    "    print(\"\\n✅ All authors with ROR IDs already have country data!\")\n",
    "else:\n",
    "    ror_ids_to_fetch = ror_stats['last_known_institution_ror'].tolist()\n",
    "    total_authors_to_enhance = ror_stats['author_count'].sum()\n",
    "    \n",
    "    print(f\"\\n🎯 RESUMING ENHANCEMENT:\")\n",
    "    print(f\"   Remaining ROR IDs: {len(ror_ids_to_fetch)}\")\n",
    "    print(f\"   Authors to be enhanced: {total_authors_to_enhance:,}\")\n",
    "    \n",
    "    # Realistic time estimation based on:\n",
    "    # - 0.1s delay per request\n",
    "    # - ~2-3s average per request (including network overhead, retries)\n",
    "    estimated_seconds_per_request = 2.5\n",
    "    estimated_total_minutes = (len(ror_ids_to_fetch) * estimated_seconds_per_request) / 60\n",
    "    print(f\"   Realistic time estimate: ~{estimated_total_minutes:.1f} minutes\")\n",
    "    \n",
    "    # Use smaller batches for better resumability\n",
    "    batch_size = 25  # Smaller batches = better progress tracking\n",
    "    successful_total = 0\n",
    "    failed_total = 0\n",
    "    \n",
    "    start_time = time.time()\n",
    "    \n",
    "    for i in range(0, len(ror_ids_to_fetch), batch_size):\n",
    "        batch = ror_ids_to_fetch[i:i + batch_size]\n",
    "        batch_num = i // batch_size + 1\n",
    "        total_batches = (len(ror_ids_to_fetch) + batch_size - 1) // batch_size\n",
    "        \n",
    "        print(f\"\\n📡 Batch {batch_num}/{total_batches}: Processing {len(batch)} ROR IDs...\")\n",
    "        batch_start_time = time.time()\n",
    "        \n",
    "        # Fetch data for this batch\n",
    "        ror_results, batch_successful, batch_failed = get_ror_country_data_robust(batch)\n",
    "        \n",
    "        # Update database immediately after each batch (for resumability)\n",
    "        with sqlite3.connect(PAPERS_DB_PATH) as conn:\n",
    "            c = conn.cursor()\n",
    "            batch_updates = 0\n",
    "            \n",
    "            for ror_id, data in ror_results.items():\n",
    "                if data and data.get('country_code'):\n",
    "                    try:\n",
    "                        c.execute(\"\"\"\n",
    "                        UPDATE authors \n",
    "                        SET country_code = ?, country_name = ? \n",
    "                        WHERE last_known_institution_ror = ?\n",
    "                        \"\"\", (data['country_code'], data['country_name'], ror_id))\n",
    "                        batch_updates += 1\n",
    "                    except sqlite3.Error as e:\n",
    "                        print(f\"❌ DB error for ROR {ror_id}: {e}\")\n",
    "            \n",
    "            conn.commit()\n",
    "            \n",
    "        successful_total += batch_updates\n",
    "        failed_total += batch_failed\n",
    "        \n",
    "        # Performance tracking and ETA calculation\n",
    "        batch_duration = time.time() - batch_start_time\n",
    "        avg_time_per_request = batch_duration / len(batch)\n",
    "        \n",
    "        print(f\"✅ Batch results: {batch_successful} successful, {batch_failed} failed, {batch_updates} DB updates\")\n",
    "        print(f\"⏱️ Batch took {batch_duration:.1f}s ({avg_time_per_request:.2f}s per request)\")\n",
    "        \n",
    "        # Calculate ETA based on actual performance\n",
    "        if batch_num >= 2:  # Wait for at least 2 batches for stable estimate\n",
    "            elapsed_time = time.time() - start_time\n",
    "            avg_time_per_batch = elapsed_time / batch_num\n",
    "            remaining_batches = total_batches - batch_num\n",
    "            eta_minutes = (remaining_batches * avg_time_per_batch) / 60\n",
    "            \n",
    "            print(f\"📊 Overall progress: {batch_num}/{total_batches} batches ({(batch_num/total_batches)*100:.1f}%)\")\n",
    "            print(f\"⏰ ETA: {eta_minutes:.1f} minutes remaining\")\n",
    "    \n",
    "    total_duration = time.time() - start_time\n",
    "    print(f\"\\n🎉 ROR enhancement completed in {total_duration/60:.1f} minutes!\")\n",
    "    print(f\"📊 Final results: {successful_total} successful updates, {failed_total} failed requests\")\n",
    "\n",
    "# Update papers table using enhanced author country data (single SQL operation)\n",
    "print(f\"\\n🔄 Updating papers with author-derived country data...\")\n",
    "\n",
    "with sqlite3.connect(PAPERS_DB_PATH) as conn:\n",
    "    result = conn.execute(\"\"\"\n",
    "    UPDATE papers \n",
    "    SET firstAuthorCountryIso = (\n",
    "        SELECT a.country_code \n",
    "        FROM authors a \n",
    "        WHERE a.authorId = papers.firstAuthorId AND a.country_code IS NOT NULL\n",
    "    )\n",
    "    WHERE firstAuthorCountryIso IS NULL \n",
    "    AND EXISTS (\n",
    "        SELECT 1 FROM authors a \n",
    "        WHERE a.authorId = papers.firstAuthorId AND a.country_code IS NOT NULL\n",
    "    )\n",
    "    \"\"\")\n",
    "    \n",
    "    updated_count = result.rowcount\n",
    "    conn.commit()\n",
    "    print(f\"✅ Updated {updated_count} papers with author-derived country data\")\n",
    "\n",
    "# Final summary statistics\n",
    "print(f\"\\n{'='*60}\\nGEOGRAPHIC ENHANCEMENT SUMMARY\\n{'='*60}\")\n",
    "\n",
    "with sqlite3.connect(PAPERS_DB_PATH) as conn:\n",
    "    stats = pd.read_sql_query(\"\"\"\n",
    "    SELECT \n",
    "        -- Papers\n",
    "        COUNT(*) as total_papers,\n",
    "        COUNT(firstAuthorCountryIso) as papers_with_country,\n",
    "        ROUND(COUNT(firstAuthorCountryIso) * 100.0 / COUNT(*), 1) as papers_coverage_pct,\n",
    "        \n",
    "        -- Authors  \n",
    "        (SELECT COUNT(*) FROM authors) as total_authors,\n",
    "        (SELECT COUNT(country_code) FROM authors) as authors_with_country,\n",
    "        (SELECT COUNT(DISTINCT country_code) FROM authors WHERE country_code IS NOT NULL) as unique_countries\n",
    "    FROM papers\n",
    "    \"\"\", conn).iloc[0]\n",
    "\n",
    "print(f\"📄 Papers: {stats['total_papers']:,} total, {stats['papers_with_country']:,} with country ({stats['papers_coverage_pct']}%)\")\n",
    "print(f\"👥 Authors: {stats['total_authors']:,} total, {stats['authors_with_country']:,} with country data\")\n",
    "print(f\"🌏 Unique countries identified: {stats['unique_countries']:,}\")\n",
    "print(\"\\n🎯 Geographic enhancement complete! Ready for visualization.\")"
   ]
  },
  {
   "cell_type": "code",
   "execution_count": 18,
   "id": "0591c484",
   "metadata": {},
   "outputs": [],
   "source": [
    "# === Country Code Conversion Functions ===\n",
    "\n",
    "def convert_alpha2_to_alpha3(alpha2_code):\n",
    "    \"\"\"Convert ISO 3166-1 alpha-2 country code to alpha-3\"\"\"\n",
    "    try:\n",
    "        country = pycountry.countries.get(alpha_2=alpha2_code)\n",
    "        return country.alpha_3 if country else None\n",
    "    except:\n",
    "        return None\n",
    "\n",
    "def get_country_name(alpha2_code):\n",
    "    \"\"\"Get country name from ISO 3166-1 alpha-2 country code\"\"\"\n",
    "    try:\n",
    "        country = pycountry.countries.get(alpha_2=alpha2_code)\n",
    "        return country.name if country else None\n",
    "    except:\n",
    "        return None"
   ]
  },
  {
   "cell_type": "code",
   "execution_count": null,
   "id": "750d260f",
   "metadata": {},
   "outputs": [
    {
     "name": "stdout",
     "output_type": "stream",
     "text": [
      "⚠️ Found unmapped country codes:\n",
      "XK: 3 papers\n"
     ]
    },
    {
     "data": {
      "application/vnd.microsoft.datawrangler.viewer.v0+json": {
       "columns": [
        {
         "name": "index",
         "rawType": "int64",
         "type": "integer"
        },
        {
         "name": "alpha2_code",
         "rawType": "object",
         "type": "string"
        },
        {
         "name": "paper_count",
         "rawType": "int64",
         "type": "integer"
        },
        {
         "name": "alpha3_code",
         "rawType": "object",
         "type": "string"
        },
        {
         "name": "country_name",
         "rawType": "object",
         "type": "string"
        }
       ],
       "ref": "8b234f48-1a6d-4e9c-b3be-25067785f8ec",
       "rows": [
        [
         "0",
         "US",
         "13481",
         "USA",
         "United States"
        ],
        [
         "1",
         "GB",
         "6124",
         "GBR",
         "United Kingdom"
        ],
        [
         "2",
         "AU",
         "2460",
         "AUS",
         "Australia"
        ],
        [
         "3",
         "DE",
         "2455",
         "DEU",
         "Germany"
        ],
        [
         "4",
         "IT",
         "2182",
         "ITA",
         "Italy"
        ],
        [
         "5",
         "IN",
         "1792",
         "IND",
         "India"
        ],
        [
         "6",
         "CA",
         "1604",
         "CAN",
         "Canada"
        ],
        [
         "7",
         "CN",
         "1538",
         "CHN",
         "China"
        ],
        [
         "8",
         "FR",
         "1523",
         "FRA",
         "France"
        ],
        [
         "9",
         "BR",
         "1515",
         "BRA",
         "Brazil"
        ],
        [
         "10",
         "NL",
         "1458",
         "NLD",
         "Netherlands"
        ],
        [
         "11",
         "ES",
         "1249",
         "ESP",
         "Spain"
        ],
        [
         "12",
         "SE",
         "833",
         "SWE",
         "Sweden"
        ],
        [
         "13",
         "PT",
         "734",
         "PRT",
         "Portugal"
        ],
        [
         "14",
         "ZA",
         "678",
         "ZAF",
         "South Africa"
        ],
        [
         "15",
         "CH",
         "656",
         "CHE",
         "Switzerland"
        ],
        [
         "16",
         "JP",
         "616",
         "JPN",
         "Japan"
        ],
        [
         "17",
         "MX",
         "547",
         "MEX",
         "Mexico"
        ],
        [
         "18",
         "BE",
         "534",
         "BEL",
         "Belgium"
        ],
        [
         "19",
         "PL",
         "509",
         "POL",
         "Poland"
        ]
       ],
       "shape": {
        "columns": 4,
        "rows": 20
       }
      },
      "text/html": [
       "<div>\n",
       "<style scoped>\n",
       "    .dataframe tbody tr th:only-of-type {\n",
       "        vertical-align: middle;\n",
       "    }\n",
       "\n",
       "    .dataframe tbody tr th {\n",
       "        vertical-align: top;\n",
       "    }\n",
       "\n",
       "    .dataframe thead th {\n",
       "        text-align: right;\n",
       "    }\n",
       "</style>\n",
       "<table border=\"1\" class=\"dataframe\">\n",
       "  <thead>\n",
       "    <tr style=\"text-align: right;\">\n",
       "      <th></th>\n",
       "      <th>alpha2_code</th>\n",
       "      <th>paper_count</th>\n",
       "      <th>alpha3_code</th>\n",
       "      <th>country_name</th>\n",
       "    </tr>\n",
       "  </thead>\n",
       "  <tbody>\n",
       "    <tr>\n",
       "      <th>0</th>\n",
       "      <td>US</td>\n",
       "      <td>13481</td>\n",
       "      <td>USA</td>\n",
       "      <td>United States</td>\n",
       "    </tr>\n",
       "    <tr>\n",
       "      <th>1</th>\n",
       "      <td>GB</td>\n",
       "      <td>6124</td>\n",
       "      <td>GBR</td>\n",
       "      <td>United Kingdom</td>\n",
       "    </tr>\n",
       "    <tr>\n",
       "      <th>2</th>\n",
       "      <td>AU</td>\n",
       "      <td>2460</td>\n",
       "      <td>AUS</td>\n",
       "      <td>Australia</td>\n",
       "    </tr>\n",
       "    <tr>\n",
       "      <th>3</th>\n",
       "      <td>DE</td>\n",
       "      <td>2455</td>\n",
       "      <td>DEU</td>\n",
       "      <td>Germany</td>\n",
       "    </tr>\n",
       "    <tr>\n",
       "      <th>4</th>\n",
       "      <td>IT</td>\n",
       "      <td>2182</td>\n",
       "      <td>ITA</td>\n",
       "      <td>Italy</td>\n",
       "    </tr>\n",
       "    <tr>\n",
       "      <th>5</th>\n",
       "      <td>IN</td>\n",
       "      <td>1792</td>\n",
       "      <td>IND</td>\n",
       "      <td>India</td>\n",
       "    </tr>\n",
       "    <tr>\n",
       "      <th>6</th>\n",
       "      <td>CA</td>\n",
       "      <td>1604</td>\n",
       "      <td>CAN</td>\n",
       "      <td>Canada</td>\n",
       "    </tr>\n",
       "    <tr>\n",
       "      <th>7</th>\n",
       "      <td>CN</td>\n",
       "      <td>1538</td>\n",
       "      <td>CHN</td>\n",
       "      <td>China</td>\n",
       "    </tr>\n",
       "    <tr>\n",
       "      <th>8</th>\n",
       "      <td>FR</td>\n",
       "      <td>1523</td>\n",
       "      <td>FRA</td>\n",
       "      <td>France</td>\n",
       "    </tr>\n",
       "    <tr>\n",
       "      <th>9</th>\n",
       "      <td>BR</td>\n",
       "      <td>1515</td>\n",
       "      <td>BRA</td>\n",
       "      <td>Brazil</td>\n",
       "    </tr>\n",
       "    <tr>\n",
       "      <th>10</th>\n",
       "      <td>NL</td>\n",
       "      <td>1458</td>\n",
       "      <td>NLD</td>\n",
       "      <td>Netherlands</td>\n",
       "    </tr>\n",
       "    <tr>\n",
       "      <th>11</th>\n",
       "      <td>ES</td>\n",
       "      <td>1249</td>\n",
       "      <td>ESP</td>\n",
       "      <td>Spain</td>\n",
       "    </tr>\n",
       "    <tr>\n",
       "      <th>12</th>\n",
       "      <td>SE</td>\n",
       "      <td>833</td>\n",
       "      <td>SWE</td>\n",
       "      <td>Sweden</td>\n",
       "    </tr>\n",
       "    <tr>\n",
       "      <th>13</th>\n",
       "      <td>PT</td>\n",
       "      <td>734</td>\n",
       "      <td>PRT</td>\n",
       "      <td>Portugal</td>\n",
       "    </tr>\n",
       "    <tr>\n",
       "      <th>14</th>\n",
       "      <td>ZA</td>\n",
       "      <td>678</td>\n",
       "      <td>ZAF</td>\n",
       "      <td>South Africa</td>\n",
       "    </tr>\n",
       "    <tr>\n",
       "      <th>15</th>\n",
       "      <td>CH</td>\n",
       "      <td>656</td>\n",
       "      <td>CHE</td>\n",
       "      <td>Switzerland</td>\n",
       "    </tr>\n",
       "    <tr>\n",
       "      <th>16</th>\n",
       "      <td>JP</td>\n",
       "      <td>616</td>\n",
       "      <td>JPN</td>\n",
       "      <td>Japan</td>\n",
       "    </tr>\n",
       "    <tr>\n",
       "      <th>17</th>\n",
       "      <td>MX</td>\n",
       "      <td>547</td>\n",
       "      <td>MEX</td>\n",
       "      <td>Mexico</td>\n",
       "    </tr>\n",
       "    <tr>\n",
       "      <th>18</th>\n",
       "      <td>BE</td>\n",
       "      <td>534</td>\n",
       "      <td>BEL</td>\n",
       "      <td>Belgium</td>\n",
       "    </tr>\n",
       "    <tr>\n",
       "      <th>19</th>\n",
       "      <td>PL</td>\n",
       "      <td>509</td>\n",
       "      <td>POL</td>\n",
       "      <td>Poland</td>\n",
       "    </tr>\n",
       "  </tbody>\n",
       "</table>\n",
       "</div>"
      ],
      "text/plain": [
       "   alpha2_code  paper_count alpha3_code    country_name\n",
       "0           US        13481         USA   United States\n",
       "1           GB         6124         GBR  United Kingdom\n",
       "2           AU         2460         AUS       Australia\n",
       "3           DE         2455         DEU         Germany\n",
       "4           IT         2182         ITA           Italy\n",
       "5           IN         1792         IND           India\n",
       "6           CA         1604         CAN          Canada\n",
       "7           CN         1538         CHN           China\n",
       "8           FR         1523         FRA          France\n",
       "9           BR         1515         BRA          Brazil\n",
       "10          NL         1458         NLD     Netherlands\n",
       "11          ES         1249         ESP           Spain\n",
       "12          SE          833         SWE          Sweden\n",
       "13          PT          734         PRT        Portugal\n",
       "14          ZA          678         ZAF    South Africa\n",
       "15          CH          656         CHE     Switzerland\n",
       "16          JP          616         JPN           Japan\n",
       "17          MX          547         MEX          Mexico\n",
       "18          BE          534         BEL         Belgium\n",
       "19          PL          509         POL          Poland"
      ]
     },
     "execution_count": 20,
     "metadata": {},
     "output_type": "execute_result"
    }
   ],
   "source": [
    "with sqlite3.connect(PAPERS_DB_PATH) as conn:\n",
    "    df_countries_raw = pd.read_sql_query(\"\"\"\n",
    "    SELECT \n",
    "        firstAuthorCountryIso as alpha2_code,\n",
    "        COUNT(*) as paper_count\n",
    "    FROM papers\n",
    "    WHERE firstAuthorCountryIso IS NOT NULL\n",
    "    GROUP BY firstAuthorCountryIso\n",
    "    ORDER BY paper_count DESC\n",
    "    \"\"\", conn)\n",
    "\n",
    "df_countries = df_countries_raw.copy()\n",
    "df_countries['alpha3_code'] = df_countries['alpha2_code'].apply(convert_alpha2_to_alpha3)\n",
    "df_countries['country_name'] = df_countries['alpha2_code'].apply(get_country_name)\n",
    "\n",
    "unmapped = df_countries[df_countries['alpha3_code'].isna()]\n",
    "if not unmapped.empty:\n",
    "    print('⚠️ Found unmapped country codes:')\n",
    "    for _, row in unmapped.iterrows():\n",
    "        print(f'{row[\"alpha2_code\"]}: {row[\"paper_count\"]} papers')\n",
    "\n",
    "df_countries.dropna(subset=['alpha3_code', 'country_name'], inplace=True)\n",
    "\n",
    "df_countries.head(20)"
   ]
  },
  {
   "cell_type": "code",
   "execution_count": 22,
   "id": "69e7fd49",
   "metadata": {},
   "outputs": [
    {
     "data": {
      "application/vnd.plotly.v1+json": {
       "config": {
        "plotlyServerURL": "https://plot.ly"
       },
       "data": [
        {
         "coloraxis": "coloraxis",
         "customdata": [
          [
           "USA",
           13481,
           "United States"
          ],
          [
           "GBR",
           6124,
           "United Kingdom"
          ],
          [
           "AUS",
           2460,
           "Australia"
          ],
          [
           "DEU",
           2455,
           "Germany"
          ],
          [
           "ITA",
           2182,
           "Italy"
          ],
          [
           "IND",
           1792,
           "India"
          ],
          [
           "CAN",
           1604,
           "Canada"
          ],
          [
           "CHN",
           1538,
           "China"
          ],
          [
           "FRA",
           1523,
           "France"
          ],
          [
           "BRA",
           1515,
           "Brazil"
          ],
          [
           "NLD",
           1458,
           "Netherlands"
          ],
          [
           "ESP",
           1249,
           "Spain"
          ],
          [
           "SWE",
           833,
           "Sweden"
          ],
          [
           "PRT",
           734,
           "Portugal"
          ],
          [
           "ZAF",
           678,
           "South Africa"
          ],
          [
           "CHE",
           656,
           "Switzerland"
          ],
          [
           "JPN",
           616,
           "Japan"
          ],
          [
           "MEX",
           547,
           "Mexico"
          ],
          [
           "BEL",
           534,
           "Belgium"
          ],
          [
           "POL",
           509,
           "Poland"
          ],
          [
           "TUR",
           455,
           "Türkiye"
          ],
          [
           "NOR",
           452,
           "Norway"
          ],
          [
           "FIN",
           440,
           "Finland"
          ],
          [
           "AUT",
           397,
           "Austria"
          ],
          [
           "DNK",
           396,
           "Denmark"
          ],
          [
           "IDN",
           354,
           "Indonesia"
          ],
          [
           "GRC",
           319,
           "Greece"
          ],
          [
           "SGP",
           309,
           "Singapore"
          ],
          [
           "IRL",
           304,
           "Ireland"
          ],
          [
           "RUS",
           269,
           "Russian Federation"
          ],
          [
           "NZL",
           269,
           "New Zealand"
          ],
          [
           "NGA",
           248,
           "Nigeria"
          ],
          [
           "HKG",
           231,
           "Hong Kong"
          ],
          [
           "MYS",
           229,
           "Malaysia"
          ],
          [
           "ISR",
           222,
           "Israel"
          ],
          [
           "ROU",
           180,
           "Romania"
          ],
          [
           "UKR",
           178,
           "Ukraine"
          ],
          [
           "SVN",
           176,
           "Slovenia"
          ],
          [
           "HUN",
           173,
           "Hungary"
          ],
          [
           "ARG",
           168,
           "Argentina"
          ],
          [
           "CZE",
           167,
           "Czechia"
          ],
          [
           "COL",
           156,
           "Colombia"
          ],
          [
           "KEN",
           150,
           "Kenya"
          ],
          [
           "KOR",
           149,
           "Korea, Republic of"
          ],
          [
           "EGY",
           142,
           "Egypt"
          ],
          [
           "CHL",
           141,
           "Chile"
          ],
          [
           "SRB",
           140,
           "Serbia"
          ],
          [
           "PAK",
           138,
           "Pakistan"
          ],
          [
           "IRN",
           128,
           "Iran, Islamic Republic of"
          ],
          [
           "BGD",
           121,
           "Bangladesh"
          ],
          [
           "THA",
           104,
           "Thailand"
          ],
          [
           "TWN",
           100,
           "Taiwan, Province of China"
          ],
          [
           "HRV",
           95,
           "Croatia"
          ],
          [
           "PHL",
           87,
           "Philippines"
          ],
          [
           "SVK",
           81,
           "Slovakia"
          ],
          [
           "ARE",
           79,
           "United Arab Emirates"
          ],
          [
           "VNM",
           78,
           "Viet Nam"
          ],
          [
           "ETH",
           71,
           "Ethiopia"
          ],
          [
           "SAU",
           70,
           "Saudi Arabia"
          ],
          [
           "MAR",
           67,
           "Morocco"
          ],
          [
           "GHA",
           66,
           "Ghana"
          ],
          [
           "LKA",
           63,
           "Sri Lanka"
          ],
          [
           "EST",
           63,
           "Estonia"
          ],
          [
           "ECU",
           63,
           "Ecuador"
          ],
          [
           "TUN",
           60,
           "Tunisia"
          ],
          [
           "TZA",
           58,
           "Tanzania, United Republic of"
          ],
          [
           "PER",
           56,
           "Peru"
          ],
          [
           "BGR",
           50,
           "Bulgaria"
          ],
          [
           "CYP",
           47,
           "Cyprus"
          ],
          [
           "QAT",
           46,
           "Qatar"
          ],
          [
           "LUX",
           44,
           "Luxembourg"
          ],
          [
           "NPL",
           41,
           "Nepal"
          ],
          [
           "ZWE",
           39,
           "Zimbabwe"
          ],
          [
           "CMR",
           39,
           "Cameroon"
          ],
          [
           "LTU",
           38,
           "Lithuania"
          ],
          [
           "LBN",
           38,
           "Lebanon"
          ],
          [
           "DZA",
           35,
           "Algeria"
          ],
          [
           "SSD",
           33,
           "South Sudan"
          ],
          [
           "CRI",
           32,
           "Costa Rica"
          ],
          [
           "VEN",
           28,
           "Venezuela, Bolivarian Republic of"
          ],
          [
           "UGA",
           28,
           "Uganda"
          ],
          [
           "MLT",
           28,
           "Malta"
          ],
          [
           "ISL",
           26,
           "Iceland"
          ],
          [
           "BIH",
           25,
           "Bosnia and Herzegovina"
          ],
          [
           "ZMB",
           23,
           "Zambia"
          ],
          [
           "JOR",
           23,
           "Jordan"
          ],
          [
           "PRI",
           22,
           "Puerto Rico"
          ],
          [
           "KAZ",
           22,
           "Kazakhstan"
          ],
          [
           "MKD",
           20,
           "North Macedonia"
          ],
          [
           "LVA",
           20,
           "Latvia"
          ],
          [
           "URY",
           19,
           "Uruguay"
          ],
          [
           "MNE",
           18,
           "Montenegro"
          ],
          [
           "OMN",
           16,
           "Oman"
          ],
          [
           "UZB",
           15,
           "Uzbekistan"
          ],
          [
           "KWT",
           15,
           "Kuwait"
          ],
          [
           "IRQ",
           15,
           "Iraq"
          ],
          [
           "FJI",
           15,
           "Fiji"
          ],
          [
           "BRN",
           15,
           "Brunei Darussalam"
          ],
          [
           "CUB",
           14,
           "Cuba"
          ],
          [
           "BFA",
           14,
           "Burkina Faso"
          ],
          [
           "ALB",
           14,
           "Albania"
          ],
          [
           "NAM",
           13,
           "Namibia"
          ],
          [
           "GNB",
           13,
           "Guinea-Bissau"
          ],
          [
           "MOZ",
           12,
           "Mozambique"
          ],
          [
           "MAC",
           12,
           "Macao"
          ],
          [
           "BOL",
           12,
           "Bolivia, Plurinational State of"
          ],
          [
           "KHM",
           11,
           "Cambodia"
          ],
          [
           "JAM",
           11,
           "Jamaica"
          ],
          [
           "ARM",
           11,
           "Armenia"
          ],
          [
           "MWI",
           10,
           "Malawi"
          ],
          [
           "MNG",
           10,
           "Mongolia"
          ],
          [
           "CIV",
           10,
           "Côte d'Ivoire"
          ],
          [
           "AZE",
           10,
           "Azerbaijan"
          ],
          [
           "AFG",
           10,
           "Afghanistan"
          ],
          [
           "TTO",
           9,
           "Trinidad and Tobago"
          ],
          [
           "HND",
           9,
           "Honduras"
          ],
          [
           "BWA",
           9,
           "Botswana"
          ],
          [
           "VGB",
           7,
           "Virgin Islands, British"
          ],
          [
           "PSE",
           7,
           "Palestine, State of"
          ],
          [
           "MUS",
           7,
           "Mauritius"
          ],
          [
           "BEN",
           7,
           "Benin"
          ],
          [
           "BHR",
           7,
           "Bahrain"
          ],
          [
           "MLI",
           6,
           "Mali"
          ],
          [
           "GTM",
           6,
           "Guatemala"
          ],
          [
           "COD",
           6,
           "Congo, The Democratic Republic of the"
          ],
          [
           "SYR",
           5,
           "Syrian Arab Republic"
          ],
          [
           "SEN",
           5,
           "Senegal"
          ],
          [
           "SLE",
           5,
           "Sierra Leone"
          ],
          [
           "RWA",
           5,
           "Rwanda"
          ],
          [
           "MDA",
           5,
           "Moldova, Republic of"
          ],
          [
           "YEM",
           4,
           "Yemen"
          ],
          [
           "WSM",
           4,
           "Samoa"
          ],
          [
           "PYF",
           4,
           "French Polynesia"
          ],
          [
           "PAN",
           4,
           "Panama"
          ],
          [
           "NER",
           4,
           "Niger"
          ],
          [
           "MMR",
           4,
           "Myanmar"
          ],
          [
           "LIE",
           4,
           "Liechtenstein"
          ],
          [
           "HTI",
           4,
           "Haiti"
          ],
          [
           "BTN",
           4,
           "Bhutan"
          ],
          [
           "TJK",
           3,
           "Tajikistan"
          ],
          [
           "SUR",
           3,
           "Suriname"
          ],
          [
           "SDN",
           3,
           "Sudan"
          ],
          [
           "REU",
           3,
           "Réunion"
          ],
          [
           "PRY",
           3,
           "Paraguay"
          ],
          [
           "LBR",
           3,
           "Liberia"
          ],
          [
           "KGZ",
           3,
           "Kyrgyzstan"
          ],
          [
           "GLP",
           3,
           "Guadeloupe"
          ],
          [
           "GRD",
           3,
           "Grenada"
          ],
          [
           "COG",
           3,
           "Congo"
          ],
          [
           "BLR",
           3,
           "Belarus"
          ],
          [
           "BDI",
           3,
           "Burundi"
          ],
          [
           "MYT",
           2,
           "Mayotte"
          ],
          [
           "TGO",
           2,
           "Togo"
          ],
          [
           "SWZ",
           2,
           "Eswatini"
          ],
          [
           "PLW",
           2,
           "Palau"
          ],
          [
           "PNG",
           2,
           "Papua New Guinea"
          ],
          [
           "NCL",
           2,
           "New Caledonia"
          ],
          [
           "LBY",
           2,
           "Libya"
          ],
          [
           "GUY",
           2,
           "Guyana"
          ],
          [
           "GUM",
           2,
           "Guam"
          ],
          [
           "GEO",
           2,
           "Georgia"
          ],
          [
           "BRB",
           2,
           "Barbados"
          ],
          [
           "VIR",
           1,
           "Virgin Islands, U.S."
          ],
          [
           "TON",
           1,
           "Tonga"
          ],
          [
           "TLS",
           1,
           "Timor-Leste"
          ],
          [
           "TCD",
           1,
           "Chad"
          ],
          [
           "SMR",
           1,
           "San Marino"
          ],
          [
           "SLB",
           1,
           "Solomon Islands"
          ],
          [
           "NIC",
           1,
           "Nicaragua"
          ],
          [
           "LSO",
           1,
           "Lesotho"
          ],
          [
           "LAO",
           1,
           "Lao People's Democratic Republic"
          ],
          [
           "GIN",
           1,
           "Guinea"
          ],
          [
           "GMB",
           1,
           "Gambia"
          ],
          [
           "GRL",
           1,
           "Greenland"
          ],
          [
           "GUF",
           1,
           "French Guiana"
          ],
          [
           "FRO",
           1,
           "Faroe Islands"
          ],
          [
           "FSM",
           1,
           "Micronesia, Federated States of"
          ],
          [
           "FLK",
           1,
           "Falkland Islands (Malvinas)"
          ],
          [
           "ERI",
           1,
           "Eritrea"
          ],
          [
           "DOM",
           1,
           "Dominican Republic"
          ],
          [
           "DMA",
           1,
           "Dominica"
          ],
          [
           "CUW",
           1,
           "Curaçao"
          ],
          [
           "CPV",
           1,
           "Cabo Verde"
          ],
          [
           "BHS",
           1,
           "Bahamas"
          ],
          [
           "ABW",
           1,
           "Aruba"
          ],
          [
           "AGO",
           1,
           "Angola"
          ],
          [
           "ATG",
           1,
           "Antigua and Barbuda"
          ]
         ],
         "geo": "geo",
         "hovertemplate": "<b>%{hovertext}</b><br><br>ISO Alpha-3=%{customdata[0]}<br>Number of Papers=%{z:,}<extra></extra>",
         "hovertext": [
          "United States",
          "United Kingdom",
          "Australia",
          "Germany",
          "Italy",
          "India",
          "Canada",
          "China",
          "France",
          "Brazil",
          "Netherlands",
          "Spain",
          "Sweden",
          "Portugal",
          "South Africa",
          "Switzerland",
          "Japan",
          "Mexico",
          "Belgium",
          "Poland",
          "Türkiye",
          "Norway",
          "Finland",
          "Austria",
          "Denmark",
          "Indonesia",
          "Greece",
          "Singapore",
          "Ireland",
          "Russian Federation",
          "New Zealand",
          "Nigeria",
          "Hong Kong",
          "Malaysia",
          "Israel",
          "Romania",
          "Ukraine",
          "Slovenia",
          "Hungary",
          "Argentina",
          "Czechia",
          "Colombia",
          "Kenya",
          "Korea, Republic of",
          "Egypt",
          "Chile",
          "Serbia",
          "Pakistan",
          "Iran, Islamic Republic of",
          "Bangladesh",
          "Thailand",
          "Taiwan, Province of China",
          "Croatia",
          "Philippines",
          "Slovakia",
          "United Arab Emirates",
          "Viet Nam",
          "Ethiopia",
          "Saudi Arabia",
          "Morocco",
          "Ghana",
          "Sri Lanka",
          "Estonia",
          "Ecuador",
          "Tunisia",
          "Tanzania, United Republic of",
          "Peru",
          "Bulgaria",
          "Cyprus",
          "Qatar",
          "Luxembourg",
          "Nepal",
          "Zimbabwe",
          "Cameroon",
          "Lithuania",
          "Lebanon",
          "Algeria",
          "South Sudan",
          "Costa Rica",
          "Venezuela, Bolivarian Republic of",
          "Uganda",
          "Malta",
          "Iceland",
          "Bosnia and Herzegovina",
          "Zambia",
          "Jordan",
          "Puerto Rico",
          "Kazakhstan",
          "North Macedonia",
          "Latvia",
          "Uruguay",
          "Montenegro",
          "Oman",
          "Uzbekistan",
          "Kuwait",
          "Iraq",
          "Fiji",
          "Brunei Darussalam",
          "Cuba",
          "Burkina Faso",
          "Albania",
          "Namibia",
          "Guinea-Bissau",
          "Mozambique",
          "Macao",
          "Bolivia, Plurinational State of",
          "Cambodia",
          "Jamaica",
          "Armenia",
          "Malawi",
          "Mongolia",
          "Côte d'Ivoire",
          "Azerbaijan",
          "Afghanistan",
          "Trinidad and Tobago",
          "Honduras",
          "Botswana",
          "Virgin Islands, British",
          "Palestine, State of",
          "Mauritius",
          "Benin",
          "Bahrain",
          "Mali",
          "Guatemala",
          "Congo, The Democratic Republic of the",
          "Syrian Arab Republic",
          "Senegal",
          "Sierra Leone",
          "Rwanda",
          "Moldova, Republic of",
          "Yemen",
          "Samoa",
          "French Polynesia",
          "Panama",
          "Niger",
          "Myanmar",
          "Liechtenstein",
          "Haiti",
          "Bhutan",
          "Tajikistan",
          "Suriname",
          "Sudan",
          "Réunion",
          "Paraguay",
          "Liberia",
          "Kyrgyzstan",
          "Guadeloupe",
          "Grenada",
          "Congo",
          "Belarus",
          "Burundi",
          "Mayotte",
          "Togo",
          "Eswatini",
          "Palau",
          "Papua New Guinea",
          "New Caledonia",
          "Libya",
          "Guyana",
          "Guam",
          "Georgia",
          "Barbados",
          "Virgin Islands, U.S.",
          "Tonga",
          "Timor-Leste",
          "Chad",
          "San Marino",
          "Solomon Islands",
          "Nicaragua",
          "Lesotho",
          "Lao People's Democratic Republic",
          "Guinea",
          "Gambia",
          "Greenland",
          "French Guiana",
          "Faroe Islands",
          "Micronesia, Federated States of",
          "Falkland Islands (Malvinas)",
          "Eritrea",
          "Dominican Republic",
          "Dominica",
          "Curaçao",
          "Cabo Verde",
          "Bahamas",
          "Aruba",
          "Angola",
          "Antigua and Barbuda"
         ],
         "locations": [
          "USA",
          "GBR",
          "AUS",
          "DEU",
          "ITA",
          "IND",
          "CAN",
          "CHN",
          "FRA",
          "BRA",
          "NLD",
          "ESP",
          "SWE",
          "PRT",
          "ZAF",
          "CHE",
          "JPN",
          "MEX",
          "BEL",
          "POL",
          "TUR",
          "NOR",
          "FIN",
          "AUT",
          "DNK",
          "IDN",
          "GRC",
          "SGP",
          "IRL",
          "RUS",
          "NZL",
          "NGA",
          "HKG",
          "MYS",
          "ISR",
          "ROU",
          "UKR",
          "SVN",
          "HUN",
          "ARG",
          "CZE",
          "COL",
          "KEN",
          "KOR",
          "EGY",
          "CHL",
          "SRB",
          "PAK",
          "IRN",
          "BGD",
          "THA",
          "TWN",
          "HRV",
          "PHL",
          "SVK",
          "ARE",
          "VNM",
          "ETH",
          "SAU",
          "MAR",
          "GHA",
          "LKA",
          "EST",
          "ECU",
          "TUN",
          "TZA",
          "PER",
          "BGR",
          "CYP",
          "QAT",
          "LUX",
          "NPL",
          "ZWE",
          "CMR",
          "LTU",
          "LBN",
          "DZA",
          "SSD",
          "CRI",
          "VEN",
          "UGA",
          "MLT",
          "ISL",
          "BIH",
          "ZMB",
          "JOR",
          "PRI",
          "KAZ",
          "MKD",
          "LVA",
          "URY",
          "MNE",
          "OMN",
          "UZB",
          "KWT",
          "IRQ",
          "FJI",
          "BRN",
          "CUB",
          "BFA",
          "ALB",
          "NAM",
          "GNB",
          "MOZ",
          "MAC",
          "BOL",
          "KHM",
          "JAM",
          "ARM",
          "MWI",
          "MNG",
          "CIV",
          "AZE",
          "AFG",
          "TTO",
          "HND",
          "BWA",
          "VGB",
          "PSE",
          "MUS",
          "BEN",
          "BHR",
          "MLI",
          "GTM",
          "COD",
          "SYR",
          "SEN",
          "SLE",
          "RWA",
          "MDA",
          "YEM",
          "WSM",
          "PYF",
          "PAN",
          "NER",
          "MMR",
          "LIE",
          "HTI",
          "BTN",
          "TJK",
          "SUR",
          "SDN",
          "REU",
          "PRY",
          "LBR",
          "KGZ",
          "GLP",
          "GRD",
          "COG",
          "BLR",
          "BDI",
          "MYT",
          "TGO",
          "SWZ",
          "PLW",
          "PNG",
          "NCL",
          "LBY",
          "GUY",
          "GUM",
          "GEO",
          "BRB",
          "VIR",
          "TON",
          "TLS",
          "TCD",
          "SMR",
          "SLB",
          "NIC",
          "LSO",
          "LAO",
          "GIN",
          "GMB",
          "GRL",
          "GUF",
          "FRO",
          "FSM",
          "FLK",
          "ERI",
          "DOM",
          "DMA",
          "CUW",
          "CPV",
          "BHS",
          "ABW",
          "AGO",
          "ATG"
         ],
         "marker": {
          "line": {
           "color": "white",
           "width": 0.5
          }
         },
         "name": "",
         "type": "choropleth",
         "z": {
          "bdata": "qTTsF5wJlwmGCAAHRAYCBvMF6wWyBeEEQQPeAqYCkAJoAiMCFgL9AccBxAG4AY0BjAFiAT8BNQEwAQ0BDQH4AOcA5QDeALQAsgCwAK0AqACnAJwAlgCVAI4AjQCMAIoAgAB5AGgAZABfAFcAUQBPAE4ARwBGAEMAQgA/AD8APwA8ADoAOAAyAC8ALgAsACkAJwAnACYAJgAjACEAIAAcABwAHAAaABkAFwAXABYAFgAUABQAEwASABAADwAPAA8ADwAPAA4ADgAOAA0ADQAMAAwADAALAAsACwAKAAoACgAKAAoACQAJAAkABwAHAAcABwAHAAYABgAGAAUABQAFAAUABQAEAAQABAAEAAQABAAEAAQABAADAAMAAwADAAMAAwADAAMAAwADAAMAAwACAAIAAgACAAIAAgACAAIAAgACAAIAAQABAAEAAQABAAEAAQABAAEAAQABAAEAAQABAAEAAQABAAEAAQABAAEAAQABAAEAAQA=",
          "dtype": "i2"
         }
        }
       ],
       "layout": {
        "coloraxis": {
         "colorbar": {
          "tickfont": {
           "color": "white"
          },
          "title": {
           "font": {
            "color": "white"
           },
           "text": "Number of Papers"
          }
         },
         "colorscale": [
          [
           0,
           "#440154"
          ],
          [
           0.1111111111111111,
           "#482878"
          ],
          [
           0.2222222222222222,
           "#3e4989"
          ],
          [
           0.3333333333333333,
           "#31688e"
          ],
          [
           0.4444444444444444,
           "#26828e"
          ],
          [
           0.5555555555555556,
           "#1f9e89"
          ],
          [
           0.6666666666666666,
           "#35b779"
          ],
          [
           0.7777777777777778,
           "#6ece58"
          ],
          [
           0.8888888888888888,
           "#b5de2b"
          ],
          [
           1,
           "#fde725"
          ]
         ]
        },
        "geo": {
         "bgcolor": "rgba(0,0,0,0)",
         "center": {},
         "coastlinecolor": "white",
         "coastlinewidth": 0.5,
         "domain": {
          "x": [
           0,
           1
          ],
          "y": [
           0,
           1
          ]
         },
         "landcolor": "rgb(70, 70, 70)",
         "oceancolor": "rgb(30, 30, 30)",
         "projection": {
          "type": "natural earth"
         },
         "showcoastlines": true,
         "showframe": false,
         "showland": true,
         "showocean": true
        },
        "height": 700,
        "legend": {
         "tracegroupgap": 0
        },
        "template": {
         "data": {
          "bar": [
           {
            "error_x": {
             "color": "#f2f5fa"
            },
            "error_y": {
             "color": "#f2f5fa"
            },
            "marker": {
             "line": {
              "color": "rgb(17,17,17)",
              "width": 0.5
             },
             "pattern": {
              "fillmode": "overlay",
              "size": 10,
              "solidity": 0.2
             }
            },
            "type": "bar"
           }
          ],
          "barpolar": [
           {
            "marker": {
             "line": {
              "color": "rgb(17,17,17)",
              "width": 0.5
             },
             "pattern": {
              "fillmode": "overlay",
              "size": 10,
              "solidity": 0.2
             }
            },
            "type": "barpolar"
           }
          ],
          "carpet": [
           {
            "aaxis": {
             "endlinecolor": "#A2B1C6",
             "gridcolor": "#506784",
             "linecolor": "#506784",
             "minorgridcolor": "#506784",
             "startlinecolor": "#A2B1C6"
            },
            "baxis": {
             "endlinecolor": "#A2B1C6",
             "gridcolor": "#506784",
             "linecolor": "#506784",
             "minorgridcolor": "#506784",
             "startlinecolor": "#A2B1C6"
            },
            "type": "carpet"
           }
          ],
          "choropleth": [
           {
            "colorbar": {
             "outlinewidth": 0,
             "ticks": ""
            },
            "type": "choropleth"
           }
          ],
          "contour": [
           {
            "colorbar": {
             "outlinewidth": 0,
             "ticks": ""
            },
            "colorscale": [
             [
              0,
              "#0d0887"
             ],
             [
              0.1111111111111111,
              "#46039f"
             ],
             [
              0.2222222222222222,
              "#7201a8"
             ],
             [
              0.3333333333333333,
              "#9c179e"
             ],
             [
              0.4444444444444444,
              "#bd3786"
             ],
             [
              0.5555555555555556,
              "#d8576b"
             ],
             [
              0.6666666666666666,
              "#ed7953"
             ],
             [
              0.7777777777777778,
              "#fb9f3a"
             ],
             [
              0.8888888888888888,
              "#fdca26"
             ],
             [
              1,
              "#f0f921"
             ]
            ],
            "type": "contour"
           }
          ],
          "contourcarpet": [
           {
            "colorbar": {
             "outlinewidth": 0,
             "ticks": ""
            },
            "type": "contourcarpet"
           }
          ],
          "heatmap": [
           {
            "colorbar": {
             "outlinewidth": 0,
             "ticks": ""
            },
            "colorscale": [
             [
              0,
              "#0d0887"
             ],
             [
              0.1111111111111111,
              "#46039f"
             ],
             [
              0.2222222222222222,
              "#7201a8"
             ],
             [
              0.3333333333333333,
              "#9c179e"
             ],
             [
              0.4444444444444444,
              "#bd3786"
             ],
             [
              0.5555555555555556,
              "#d8576b"
             ],
             [
              0.6666666666666666,
              "#ed7953"
             ],
             [
              0.7777777777777778,
              "#fb9f3a"
             ],
             [
              0.8888888888888888,
              "#fdca26"
             ],
             [
              1,
              "#f0f921"
             ]
            ],
            "type": "heatmap"
           }
          ],
          "histogram": [
           {
            "marker": {
             "pattern": {
              "fillmode": "overlay",
              "size": 10,
              "solidity": 0.2
             }
            },
            "type": "histogram"
           }
          ],
          "histogram2d": [
           {
            "colorbar": {
             "outlinewidth": 0,
             "ticks": ""
            },
            "colorscale": [
             [
              0,
              "#0d0887"
             ],
             [
              0.1111111111111111,
              "#46039f"
             ],
             [
              0.2222222222222222,
              "#7201a8"
             ],
             [
              0.3333333333333333,
              "#9c179e"
             ],
             [
              0.4444444444444444,
              "#bd3786"
             ],
             [
              0.5555555555555556,
              "#d8576b"
             ],
             [
              0.6666666666666666,
              "#ed7953"
             ],
             [
              0.7777777777777778,
              "#fb9f3a"
             ],
             [
              0.8888888888888888,
              "#fdca26"
             ],
             [
              1,
              "#f0f921"
             ]
            ],
            "type": "histogram2d"
           }
          ],
          "histogram2dcontour": [
           {
            "colorbar": {
             "outlinewidth": 0,
             "ticks": ""
            },
            "colorscale": [
             [
              0,
              "#0d0887"
             ],
             [
              0.1111111111111111,
              "#46039f"
             ],
             [
              0.2222222222222222,
              "#7201a8"
             ],
             [
              0.3333333333333333,
              "#9c179e"
             ],
             [
              0.4444444444444444,
              "#bd3786"
             ],
             [
              0.5555555555555556,
              "#d8576b"
             ],
             [
              0.6666666666666666,
              "#ed7953"
             ],
             [
              0.7777777777777778,
              "#fb9f3a"
             ],
             [
              0.8888888888888888,
              "#fdca26"
             ],
             [
              1,
              "#f0f921"
             ]
            ],
            "type": "histogram2dcontour"
           }
          ],
          "mesh3d": [
           {
            "colorbar": {
             "outlinewidth": 0,
             "ticks": ""
            },
            "type": "mesh3d"
           }
          ],
          "parcoords": [
           {
            "line": {
             "colorbar": {
              "outlinewidth": 0,
              "ticks": ""
             }
            },
            "type": "parcoords"
           }
          ],
          "pie": [
           {
            "automargin": true,
            "type": "pie"
           }
          ],
          "scatter": [
           {
            "marker": {
             "line": {
              "color": "#283442"
             }
            },
            "type": "scatter"
           }
          ],
          "scatter3d": [
           {
            "line": {
             "colorbar": {
              "outlinewidth": 0,
              "ticks": ""
             }
            },
            "marker": {
             "colorbar": {
              "outlinewidth": 0,
              "ticks": ""
             }
            },
            "type": "scatter3d"
           }
          ],
          "scattercarpet": [
           {
            "marker": {
             "colorbar": {
              "outlinewidth": 0,
              "ticks": ""
             }
            },
            "type": "scattercarpet"
           }
          ],
          "scattergeo": [
           {
            "marker": {
             "colorbar": {
              "outlinewidth": 0,
              "ticks": ""
             }
            },
            "type": "scattergeo"
           }
          ],
          "scattergl": [
           {
            "marker": {
             "line": {
              "color": "#283442"
             }
            },
            "type": "scattergl"
           }
          ],
          "scattermap": [
           {
            "marker": {
             "colorbar": {
              "outlinewidth": 0,
              "ticks": ""
             }
            },
            "type": "scattermap"
           }
          ],
          "scattermapbox": [
           {
            "marker": {
             "colorbar": {
              "outlinewidth": 0,
              "ticks": ""
             }
            },
            "type": "scattermapbox"
           }
          ],
          "scatterpolar": [
           {
            "marker": {
             "colorbar": {
              "outlinewidth": 0,
              "ticks": ""
             }
            },
            "type": "scatterpolar"
           }
          ],
          "scatterpolargl": [
           {
            "marker": {
             "colorbar": {
              "outlinewidth": 0,
              "ticks": ""
             }
            },
            "type": "scatterpolargl"
           }
          ],
          "scatterternary": [
           {
            "marker": {
             "colorbar": {
              "outlinewidth": 0,
              "ticks": ""
             }
            },
            "type": "scatterternary"
           }
          ],
          "surface": [
           {
            "colorbar": {
             "outlinewidth": 0,
             "ticks": ""
            },
            "colorscale": [
             [
              0,
              "#0d0887"
             ],
             [
              0.1111111111111111,
              "#46039f"
             ],
             [
              0.2222222222222222,
              "#7201a8"
             ],
             [
              0.3333333333333333,
              "#9c179e"
             ],
             [
              0.4444444444444444,
              "#bd3786"
             ],
             [
              0.5555555555555556,
              "#d8576b"
             ],
             [
              0.6666666666666666,
              "#ed7953"
             ],
             [
              0.7777777777777778,
              "#fb9f3a"
             ],
             [
              0.8888888888888888,
              "#fdca26"
             ],
             [
              1,
              "#f0f921"
             ]
            ],
            "type": "surface"
           }
          ],
          "table": [
           {
            "cells": {
             "fill": {
              "color": "#506784"
             },
             "line": {
              "color": "rgb(17,17,17)"
             }
            },
            "header": {
             "fill": {
              "color": "#2a3f5f"
             },
             "line": {
              "color": "rgb(17,17,17)"
             }
            },
            "type": "table"
           }
          ]
         },
         "layout": {
          "annotationdefaults": {
           "arrowcolor": "#f2f5fa",
           "arrowhead": 0,
           "arrowwidth": 1
          },
          "autotypenumbers": "strict",
          "coloraxis": {
           "colorbar": {
            "outlinewidth": 0,
            "ticks": ""
           }
          },
          "colorscale": {
           "diverging": [
            [
             0,
             "#8e0152"
            ],
            [
             0.1,
             "#c51b7d"
            ],
            [
             0.2,
             "#de77ae"
            ],
            [
             0.3,
             "#f1b6da"
            ],
            [
             0.4,
             "#fde0ef"
            ],
            [
             0.5,
             "#f7f7f7"
            ],
            [
             0.6,
             "#e6f5d0"
            ],
            [
             0.7,
             "#b8e186"
            ],
            [
             0.8,
             "#7fbc41"
            ],
            [
             0.9,
             "#4d9221"
            ],
            [
             1,
             "#276419"
            ]
           ],
           "sequential": [
            [
             0,
             "#0d0887"
            ],
            [
             0.1111111111111111,
             "#46039f"
            ],
            [
             0.2222222222222222,
             "#7201a8"
            ],
            [
             0.3333333333333333,
             "#9c179e"
            ],
            [
             0.4444444444444444,
             "#bd3786"
            ],
            [
             0.5555555555555556,
             "#d8576b"
            ],
            [
             0.6666666666666666,
             "#ed7953"
            ],
            [
             0.7777777777777778,
             "#fb9f3a"
            ],
            [
             0.8888888888888888,
             "#fdca26"
            ],
            [
             1,
             "#f0f921"
            ]
           ],
           "sequentialminus": [
            [
             0,
             "#0d0887"
            ],
            [
             0.1111111111111111,
             "#46039f"
            ],
            [
             0.2222222222222222,
             "#7201a8"
            ],
            [
             0.3333333333333333,
             "#9c179e"
            ],
            [
             0.4444444444444444,
             "#bd3786"
            ],
            [
             0.5555555555555556,
             "#d8576b"
            ],
            [
             0.6666666666666666,
             "#ed7953"
            ],
            [
             0.7777777777777778,
             "#fb9f3a"
            ],
            [
             0.8888888888888888,
             "#fdca26"
            ],
            [
             1,
             "#f0f921"
            ]
           ]
          },
          "colorway": [
           "#636efa",
           "#EF553B",
           "#00cc96",
           "#ab63fa",
           "#FFA15A",
           "#19d3f3",
           "#FF6692",
           "#B6E880",
           "#FF97FF",
           "#FECB52"
          ],
          "font": {
           "color": "#f2f5fa"
          },
          "geo": {
           "bgcolor": "rgb(17,17,17)",
           "lakecolor": "rgb(17,17,17)",
           "landcolor": "rgb(17,17,17)",
           "showlakes": true,
           "showland": true,
           "subunitcolor": "#506784"
          },
          "hoverlabel": {
           "align": "left"
          },
          "hovermode": "closest",
          "mapbox": {
           "style": "dark"
          },
          "paper_bgcolor": "rgb(17,17,17)",
          "plot_bgcolor": "rgb(17,17,17)",
          "polar": {
           "angularaxis": {
            "gridcolor": "#506784",
            "linecolor": "#506784",
            "ticks": ""
           },
           "bgcolor": "rgb(17,17,17)",
           "radialaxis": {
            "gridcolor": "#506784",
            "linecolor": "#506784",
            "ticks": ""
           }
          },
          "scene": {
           "xaxis": {
            "backgroundcolor": "rgb(17,17,17)",
            "gridcolor": "#506784",
            "gridwidth": 2,
            "linecolor": "#506784",
            "showbackground": true,
            "ticks": "",
            "zerolinecolor": "#C8D4E3"
           },
           "yaxis": {
            "backgroundcolor": "rgb(17,17,17)",
            "gridcolor": "#506784",
            "gridwidth": 2,
            "linecolor": "#506784",
            "showbackground": true,
            "ticks": "",
            "zerolinecolor": "#C8D4E3"
           },
           "zaxis": {
            "backgroundcolor": "rgb(17,17,17)",
            "gridcolor": "#506784",
            "gridwidth": 2,
            "linecolor": "#506784",
            "showbackground": true,
            "ticks": "",
            "zerolinecolor": "#C8D4E3"
           }
          },
          "shapedefaults": {
           "line": {
            "color": "#f2f5fa"
           }
          },
          "sliderdefaults": {
           "bgcolor": "#C8D4E3",
           "bordercolor": "rgb(17,17,17)",
           "borderwidth": 1,
           "tickwidth": 0
          },
          "ternary": {
           "aaxis": {
            "gridcolor": "#506784",
            "linecolor": "#506784",
            "ticks": ""
           },
           "baxis": {
            "gridcolor": "#506784",
            "linecolor": "#506784",
            "ticks": ""
           },
           "bgcolor": "rgb(17,17,17)",
           "caxis": {
            "gridcolor": "#506784",
            "linecolor": "#506784",
            "ticks": ""
           }
          },
          "title": {
           "x": 0.05
          },
          "updatemenudefaults": {
           "bgcolor": "#506784",
           "borderwidth": 0
          },
          "xaxis": {
           "automargin": true,
           "gridcolor": "#283442",
           "linecolor": "#506784",
           "ticks": "",
           "title": {
            "standoff": 15
           },
           "zerolinecolor": "#283442",
           "zerolinewidth": 2
          },
          "yaxis": {
           "automargin": true,
           "gridcolor": "#283442",
           "linecolor": "#506784",
           "ticks": "",
           "title": {
            "standoff": 15
           },
           "zerolinecolor": "#283442",
           "zerolinewidth": 2
          }
         }
        },
        "title": {
         "font": {
          "size": 16
         },
         "text": "Global Distribution of Urban Ecology Research Papers by First Author Country"
        },
        "width": 1200
       }
      }
     },
     "metadata": {},
     "output_type": "display_data"
    },
    {
     "name": "stdout",
     "output_type": "stream",
     "text": [
      "================================================================================\n"
     ]
    },
    {
     "data": {
      "application/vnd.plotly.v1+json": {
       "config": {
        "plotlyServerURL": "https://plot.ly"
       },
       "data": [
        {
         "customdata": [
          [
           "US",
           "USA",
           13481
          ],
          [
           "GB",
           "GBR",
           6124
          ],
          [
           "AU",
           "AUS",
           2460
          ],
          [
           "DE",
           "DEU",
           2455
          ],
          [
           "IT",
           "ITA",
           2182
          ],
          [
           "IN",
           "IND",
           1792
          ],
          [
           "CA",
           "CAN",
           1604
          ],
          [
           "CN",
           "CHN",
           1538
          ],
          [
           "FR",
           "FRA",
           1523
          ],
          [
           "BR",
           "BRA",
           1515
          ],
          [
           "NL",
           "NLD",
           1458
          ],
          [
           "ES",
           "ESP",
           1249
          ],
          [
           "SE",
           "SWE",
           833
          ],
          [
           "PT",
           "PRT",
           734
          ],
          [
           "ZA",
           "ZAF",
           678
          ],
          [
           "CH",
           "CHE",
           656
          ],
          [
           "JP",
           "JPN",
           616
          ],
          [
           "MX",
           "MEX",
           547
          ],
          [
           "BE",
           "BEL",
           534
          ],
          [
           "PL",
           "POL",
           509
          ]
         ],
         "domain": {
          "x": [
           0,
           1
          ],
          "y": [
           0,
           1
          ]
         },
         "hovertemplate": "<b>%{label}</b><br>Papers: %{value:,}<br>ISO-3: %{customdata[1]}<br><extra></extra>",
         "labels": [
          "United States",
          "United Kingdom",
          "Australia",
          "Germany",
          "Italy",
          "India",
          "Canada",
          "China",
          "France",
          "Brazil",
          "Netherlands",
          "Spain",
          "Sweden",
          "Portugal",
          "South Africa",
          "Switzerland",
          "Japan",
          "Mexico",
          "Belgium",
          "Poland"
         ],
         "marker": {
          "coloraxis": "coloraxis",
          "colors": {
           "bdata": "qTTsF5wJlwmGCAAHRAYCBvMF6wWyBeEEQQPeAqYCkAJoAiMCFgL9AQ==",
           "dtype": "i2"
          }
         },
         "name": "",
         "parents": [
          "",
          "",
          "",
          "",
          "",
          "",
          "",
          "",
          "",
          "",
          "",
          "",
          "",
          "",
          "",
          "",
          "",
          "",
          "",
          ""
         ],
         "textfont": {
          "color": [
           "black",
           "white",
           "white",
           "white",
           "white",
           "white",
           "white",
           "white",
           "white",
           "white",
           "white",
           "white",
           "white",
           "white",
           "white",
           "white",
           "white",
           "white",
           "white",
           "white"
          ],
          "size": 12
         },
         "textinfo": "label+value",
         "type": "treemap",
         "values": {
          "bdata": "qTTsF5wJlwmGCAAHRAYCBvMF6wWyBeEEQQPeAqYCkAJoAiMCFgL9AQ==",
          "dtype": "i2"
         }
        }
       ],
       "layout": {
        "coloraxis": {
         "colorbar": {
          "title": {
           "text": "Number of Papers"
          }
         },
         "colorscale": [
          [
           0,
           "#440154"
          ],
          [
           0.1111111111111111,
           "#482878"
          ],
          [
           0.2222222222222222,
           "#3e4989"
          ],
          [
           0.3333333333333333,
           "#31688e"
          ],
          [
           0.4444444444444444,
           "#26828e"
          ],
          [
           0.5555555555555556,
           "#1f9e89"
          ],
          [
           0.6666666666666666,
           "#35b779"
          ],
          [
           0.7777777777777778,
           "#6ece58"
          ],
          [
           0.8888888888888888,
           "#b5de2b"
          ],
          [
           1,
           "#fde725"
          ]
         ]
        },
        "font": {
         "size": 14
        },
        "height": 700,
        "legend": {
         "tracegroupgap": 0
        },
        "margin": {
         "b": 25,
         "l": 25,
         "r": 25,
         "t": 50
        },
        "template": {
         "data": {
          "bar": [
           {
            "error_x": {
             "color": "#f2f5fa"
            },
            "error_y": {
             "color": "#f2f5fa"
            },
            "marker": {
             "line": {
              "color": "rgb(17,17,17)",
              "width": 0.5
             },
             "pattern": {
              "fillmode": "overlay",
              "size": 10,
              "solidity": 0.2
             }
            },
            "type": "bar"
           }
          ],
          "barpolar": [
           {
            "marker": {
             "line": {
              "color": "rgb(17,17,17)",
              "width": 0.5
             },
             "pattern": {
              "fillmode": "overlay",
              "size": 10,
              "solidity": 0.2
             }
            },
            "type": "barpolar"
           }
          ],
          "carpet": [
           {
            "aaxis": {
             "endlinecolor": "#A2B1C6",
             "gridcolor": "#506784",
             "linecolor": "#506784",
             "minorgridcolor": "#506784",
             "startlinecolor": "#A2B1C6"
            },
            "baxis": {
             "endlinecolor": "#A2B1C6",
             "gridcolor": "#506784",
             "linecolor": "#506784",
             "minorgridcolor": "#506784",
             "startlinecolor": "#A2B1C6"
            },
            "type": "carpet"
           }
          ],
          "choropleth": [
           {
            "colorbar": {
             "outlinewidth": 0,
             "ticks": ""
            },
            "type": "choropleth"
           }
          ],
          "contour": [
           {
            "colorbar": {
             "outlinewidth": 0,
             "ticks": ""
            },
            "colorscale": [
             [
              0,
              "#0d0887"
             ],
             [
              0.1111111111111111,
              "#46039f"
             ],
             [
              0.2222222222222222,
              "#7201a8"
             ],
             [
              0.3333333333333333,
              "#9c179e"
             ],
             [
              0.4444444444444444,
              "#bd3786"
             ],
             [
              0.5555555555555556,
              "#d8576b"
             ],
             [
              0.6666666666666666,
              "#ed7953"
             ],
             [
              0.7777777777777778,
              "#fb9f3a"
             ],
             [
              0.8888888888888888,
              "#fdca26"
             ],
             [
              1,
              "#f0f921"
             ]
            ],
            "type": "contour"
           }
          ],
          "contourcarpet": [
           {
            "colorbar": {
             "outlinewidth": 0,
             "ticks": ""
            },
            "type": "contourcarpet"
           }
          ],
          "heatmap": [
           {
            "colorbar": {
             "outlinewidth": 0,
             "ticks": ""
            },
            "colorscale": [
             [
              0,
              "#0d0887"
             ],
             [
              0.1111111111111111,
              "#46039f"
             ],
             [
              0.2222222222222222,
              "#7201a8"
             ],
             [
              0.3333333333333333,
              "#9c179e"
             ],
             [
              0.4444444444444444,
              "#bd3786"
             ],
             [
              0.5555555555555556,
              "#d8576b"
             ],
             [
              0.6666666666666666,
              "#ed7953"
             ],
             [
              0.7777777777777778,
              "#fb9f3a"
             ],
             [
              0.8888888888888888,
              "#fdca26"
             ],
             [
              1,
              "#f0f921"
             ]
            ],
            "type": "heatmap"
           }
          ],
          "histogram": [
           {
            "marker": {
             "pattern": {
              "fillmode": "overlay",
              "size": 10,
              "solidity": 0.2
             }
            },
            "type": "histogram"
           }
          ],
          "histogram2d": [
           {
            "colorbar": {
             "outlinewidth": 0,
             "ticks": ""
            },
            "colorscale": [
             [
              0,
              "#0d0887"
             ],
             [
              0.1111111111111111,
              "#46039f"
             ],
             [
              0.2222222222222222,
              "#7201a8"
             ],
             [
              0.3333333333333333,
              "#9c179e"
             ],
             [
              0.4444444444444444,
              "#bd3786"
             ],
             [
              0.5555555555555556,
              "#d8576b"
             ],
             [
              0.6666666666666666,
              "#ed7953"
             ],
             [
              0.7777777777777778,
              "#fb9f3a"
             ],
             [
              0.8888888888888888,
              "#fdca26"
             ],
             [
              1,
              "#f0f921"
             ]
            ],
            "type": "histogram2d"
           }
          ],
          "histogram2dcontour": [
           {
            "colorbar": {
             "outlinewidth": 0,
             "ticks": ""
            },
            "colorscale": [
             [
              0,
              "#0d0887"
             ],
             [
              0.1111111111111111,
              "#46039f"
             ],
             [
              0.2222222222222222,
              "#7201a8"
             ],
             [
              0.3333333333333333,
              "#9c179e"
             ],
             [
              0.4444444444444444,
              "#bd3786"
             ],
             [
              0.5555555555555556,
              "#d8576b"
             ],
             [
              0.6666666666666666,
              "#ed7953"
             ],
             [
              0.7777777777777778,
              "#fb9f3a"
             ],
             [
              0.8888888888888888,
              "#fdca26"
             ],
             [
              1,
              "#f0f921"
             ]
            ],
            "type": "histogram2dcontour"
           }
          ],
          "mesh3d": [
           {
            "colorbar": {
             "outlinewidth": 0,
             "ticks": ""
            },
            "type": "mesh3d"
           }
          ],
          "parcoords": [
           {
            "line": {
             "colorbar": {
              "outlinewidth": 0,
              "ticks": ""
             }
            },
            "type": "parcoords"
           }
          ],
          "pie": [
           {
            "automargin": true,
            "type": "pie"
           }
          ],
          "scatter": [
           {
            "marker": {
             "line": {
              "color": "#283442"
             }
            },
            "type": "scatter"
           }
          ],
          "scatter3d": [
           {
            "line": {
             "colorbar": {
              "outlinewidth": 0,
              "ticks": ""
             }
            },
            "marker": {
             "colorbar": {
              "outlinewidth": 0,
              "ticks": ""
             }
            },
            "type": "scatter3d"
           }
          ],
          "scattercarpet": [
           {
            "marker": {
             "colorbar": {
              "outlinewidth": 0,
              "ticks": ""
             }
            },
            "type": "scattercarpet"
           }
          ],
          "scattergeo": [
           {
            "marker": {
             "colorbar": {
              "outlinewidth": 0,
              "ticks": ""
             }
            },
            "type": "scattergeo"
           }
          ],
          "scattergl": [
           {
            "marker": {
             "line": {
              "color": "#283442"
             }
            },
            "type": "scattergl"
           }
          ],
          "scattermap": [
           {
            "marker": {
             "colorbar": {
              "outlinewidth": 0,
              "ticks": ""
             }
            },
            "type": "scattermap"
           }
          ],
          "scattermapbox": [
           {
            "marker": {
             "colorbar": {
              "outlinewidth": 0,
              "ticks": ""
             }
            },
            "type": "scattermapbox"
           }
          ],
          "scatterpolar": [
           {
            "marker": {
             "colorbar": {
              "outlinewidth": 0,
              "ticks": ""
             }
            },
            "type": "scatterpolar"
           }
          ],
          "scatterpolargl": [
           {
            "marker": {
             "colorbar": {
              "outlinewidth": 0,
              "ticks": ""
             }
            },
            "type": "scatterpolargl"
           }
          ],
          "scatterternary": [
           {
            "marker": {
             "colorbar": {
              "outlinewidth": 0,
              "ticks": ""
             }
            },
            "type": "scatterternary"
           }
          ],
          "surface": [
           {
            "colorbar": {
             "outlinewidth": 0,
             "ticks": ""
            },
            "colorscale": [
             [
              0,
              "#0d0887"
             ],
             [
              0.1111111111111111,
              "#46039f"
             ],
             [
              0.2222222222222222,
              "#7201a8"
             ],
             [
              0.3333333333333333,
              "#9c179e"
             ],
             [
              0.4444444444444444,
              "#bd3786"
             ],
             [
              0.5555555555555556,
              "#d8576b"
             ],
             [
              0.6666666666666666,
              "#ed7953"
             ],
             [
              0.7777777777777778,
              "#fb9f3a"
             ],
             [
              0.8888888888888888,
              "#fdca26"
             ],
             [
              1,
              "#f0f921"
             ]
            ],
            "type": "surface"
           }
          ],
          "table": [
           {
            "cells": {
             "fill": {
              "color": "#506784"
             },
             "line": {
              "color": "rgb(17,17,17)"
             }
            },
            "header": {
             "fill": {
              "color": "#2a3f5f"
             },
             "line": {
              "color": "rgb(17,17,17)"
             }
            },
            "type": "table"
           }
          ]
         },
         "layout": {
          "annotationdefaults": {
           "arrowcolor": "#f2f5fa",
           "arrowhead": 0,
           "arrowwidth": 1
          },
          "autotypenumbers": "strict",
          "coloraxis": {
           "colorbar": {
            "outlinewidth": 0,
            "ticks": ""
           }
          },
          "colorscale": {
           "diverging": [
            [
             0,
             "#8e0152"
            ],
            [
             0.1,
             "#c51b7d"
            ],
            [
             0.2,
             "#de77ae"
            ],
            [
             0.3,
             "#f1b6da"
            ],
            [
             0.4,
             "#fde0ef"
            ],
            [
             0.5,
             "#f7f7f7"
            ],
            [
             0.6,
             "#e6f5d0"
            ],
            [
             0.7,
             "#b8e186"
            ],
            [
             0.8,
             "#7fbc41"
            ],
            [
             0.9,
             "#4d9221"
            ],
            [
             1,
             "#276419"
            ]
           ],
           "sequential": [
            [
             0,
             "#0d0887"
            ],
            [
             0.1111111111111111,
             "#46039f"
            ],
            [
             0.2222222222222222,
             "#7201a8"
            ],
            [
             0.3333333333333333,
             "#9c179e"
            ],
            [
             0.4444444444444444,
             "#bd3786"
            ],
            [
             0.5555555555555556,
             "#d8576b"
            ],
            [
             0.6666666666666666,
             "#ed7953"
            ],
            [
             0.7777777777777778,
             "#fb9f3a"
            ],
            [
             0.8888888888888888,
             "#fdca26"
            ],
            [
             1,
             "#f0f921"
            ]
           ],
           "sequentialminus": [
            [
             0,
             "#0d0887"
            ],
            [
             0.1111111111111111,
             "#46039f"
            ],
            [
             0.2222222222222222,
             "#7201a8"
            ],
            [
             0.3333333333333333,
             "#9c179e"
            ],
            [
             0.4444444444444444,
             "#bd3786"
            ],
            [
             0.5555555555555556,
             "#d8576b"
            ],
            [
             0.6666666666666666,
             "#ed7953"
            ],
            [
             0.7777777777777778,
             "#fb9f3a"
            ],
            [
             0.8888888888888888,
             "#fdca26"
            ],
            [
             1,
             "#f0f921"
            ]
           ]
          },
          "colorway": [
           "#636efa",
           "#EF553B",
           "#00cc96",
           "#ab63fa",
           "#FFA15A",
           "#19d3f3",
           "#FF6692",
           "#B6E880",
           "#FF97FF",
           "#FECB52"
          ],
          "font": {
           "color": "#f2f5fa"
          },
          "geo": {
           "bgcolor": "rgb(17,17,17)",
           "lakecolor": "rgb(17,17,17)",
           "landcolor": "rgb(17,17,17)",
           "showlakes": true,
           "showland": true,
           "subunitcolor": "#506784"
          },
          "hoverlabel": {
           "align": "left"
          },
          "hovermode": "closest",
          "mapbox": {
           "style": "dark"
          },
          "paper_bgcolor": "rgb(17,17,17)",
          "plot_bgcolor": "rgb(17,17,17)",
          "polar": {
           "angularaxis": {
            "gridcolor": "#506784",
            "linecolor": "#506784",
            "ticks": ""
           },
           "bgcolor": "rgb(17,17,17)",
           "radialaxis": {
            "gridcolor": "#506784",
            "linecolor": "#506784",
            "ticks": ""
           }
          },
          "scene": {
           "xaxis": {
            "backgroundcolor": "rgb(17,17,17)",
            "gridcolor": "#506784",
            "gridwidth": 2,
            "linecolor": "#506784",
            "showbackground": true,
            "ticks": "",
            "zerolinecolor": "#C8D4E3"
           },
           "yaxis": {
            "backgroundcolor": "rgb(17,17,17)",
            "gridcolor": "#506784",
            "gridwidth": 2,
            "linecolor": "#506784",
            "showbackground": true,
            "ticks": "",
            "zerolinecolor": "#C8D4E3"
           },
           "zaxis": {
            "backgroundcolor": "rgb(17,17,17)",
            "gridcolor": "#506784",
            "gridwidth": 2,
            "linecolor": "#506784",
            "showbackground": true,
            "ticks": "",
            "zerolinecolor": "#C8D4E3"
           }
          },
          "shapedefaults": {
           "line": {
            "color": "#f2f5fa"
           }
          },
          "sliderdefaults": {
           "bgcolor": "#C8D4E3",
           "bordercolor": "rgb(17,17,17)",
           "borderwidth": 1,
           "tickwidth": 0
          },
          "ternary": {
           "aaxis": {
            "gridcolor": "#506784",
            "linecolor": "#506784",
            "ticks": ""
           },
           "baxis": {
            "gridcolor": "#506784",
            "linecolor": "#506784",
            "ticks": ""
           },
           "bgcolor": "rgb(17,17,17)",
           "caxis": {
            "gridcolor": "#506784",
            "linecolor": "#506784",
            "ticks": ""
           }
          },
          "title": {
           "x": 0.05
          },
          "updatemenudefaults": {
           "bgcolor": "#506784",
           "borderwidth": 0
          },
          "xaxis": {
           "automargin": true,
           "gridcolor": "#283442",
           "linecolor": "#506784",
           "ticks": "",
           "title": {
            "standoff": 15
           },
           "zerolinecolor": "#283442",
           "zerolinewidth": 2
          },
          "yaxis": {
           "automargin": true,
           "gridcolor": "#283442",
           "linecolor": "#506784",
           "ticks": "",
           "title": {
            "standoff": 15
           },
           "zerolinecolor": "#283442",
           "zerolinewidth": 2
          }
         }
        },
        "title": {
         "font": {
          "size": 18
         },
         "text": "Top 20 Countries by Urban Ecology Research Output"
        },
        "width": 1200
       }
      }
     },
     "metadata": {},
     "output_type": "display_data"
    }
   ],
   "source": [
    "fig = px.choropleth(\n",
    "    df_countries, \n",
    "    locations='alpha3_code',\n",
    "    color='paper_count',\n",
    "    hover_name='country_name',\n",
    "    hover_data={\n",
    "        'alpha3_code': True, \n",
    "        'paper_count': ':,',\n",
    "        'country_name': False\n",
    "    },\n",
    "    color_continuous_scale='Viridis',\n",
    "    title='Global Distribution of Urban Ecology Research Papers by First Author Country',\n",
    "    labels={\n",
    "        'paper_count': 'Number of Papers',\n",
    "        'alpha3_code': 'ISO Alpha-3'\n",
    "    }\n",
    ")\n",
    "\n",
    "fig.update_traces(\n",
    "    marker_line_color='white',\n",
    "    marker_line_width=0.5\n",
    ")\n",
    "\n",
    "fig.update_layout(\n",
    "    template='plotly_dark',\n",
    "    width=1200,\n",
    "    height=700,\n",
    "    title_font_size=16,\n",
    "    geo=dict(\n",
    "        showframe=False,\n",
    "        showcoastlines=True,\n",
    "        coastlinecolor='white',\n",
    "        coastlinewidth=0.5,\n",
    "        showland=True,\n",
    "        landcolor='rgb(70, 70, 70)',\n",
    "        showocean=True,\n",
    "        oceancolor='rgb(30, 30, 30)',\n",
    "        projection_type='natural earth',\n",
    "        bgcolor='rgba(0,0,0,0)',\n",
    "    ),\n",
    "    coloraxis_colorbar=dict(\n",
    "        title_font_color='white',\n",
    "        tickfont_color='white'\n",
    "    )\n",
    ")\n",
    "\n",
    "fig.show()\n",
    "\n",
    "print('=' * 80)\n",
    "\n",
    "fig_treemap = px.treemap(\n",
    "    df_countries.head(20),\n",
    "    names='country_name',\n",
    "    values='paper_count',\n",
    "    parents=[''] * 20, \n",
    "    title='Top 20 Countries by Urban Ecology Research Output',\n",
    "    labels={'paper_count': 'Number of Papers', 'country_name': 'Country'},\n",
    "    color='paper_count',\n",
    "    color_continuous_scale='Viridis',\n",
    "    hover_data={\n",
    "        'alpha2_code': True,\n",
    "        'alpha3_code': True,\n",
    "        'paper_count': ':,',\n",
    "    }\n",
    ")\n",
    "\n",
    "# Threshold calculation to avoid unreadable text\n",
    "max_val = df_countries.head(20)['paper_count'].max()\n",
    "min_val = df_countries.head(20)['paper_count'].min()\n",
    "threshold = min_val + (max_val - min_val) * 0.7\n",
    "\n",
    "text_colors = ['black' if val > threshold else 'white' for val in df_countries.head(20)['paper_count']]\n",
    "\n",
    "fig_treemap.update_traces(\n",
    "    textinfo='label+value',\n",
    "    textfont_size=12,\n",
    "    textfont_color=text_colors,\n",
    "    hovertemplate='<b>%{label}</b><br>' +\n",
    "                  'Papers: %{value:,}<br>' +\n",
    "                  'ISO-3: %{customdata[1]}<br>' +\n",
    "                  '<extra></extra>'\n",
    ")\n",
    "\n",
    "fig_treemap.update_layout(\n",
    "    height=700,\n",
    "    width=1200,\n",
    "    template='plotly_dark',\n",
    "    font=dict(size=14),\n",
    "    title_font_size=18,\n",
    "    margin=dict(t=50, l=25, r=25, b=25)\n",
    ")\n",
    "\n",
    "fig_treemap.show()"
   ]
  },
  {
   "cell_type": "code",
   "execution_count": null,
   "id": "9447ebd3",
   "metadata": {},
   "outputs": [],
   "source": []
  }
 ],
 "metadata": {
  "kernelspec": {
   "display_name": ".venv",
   "language": "python",
   "name": "python3"
  },
  "language_info": {
   "codemirror_mode": {
    "name": "ipython",
    "version": 3
   },
   "file_extension": ".py",
   "mimetype": "text/x-python",
   "name": "python",
   "nbconvert_exporter": "python",
   "pygments_lexer": "ipython3",
   "version": "3.13.2"
  }
 },
 "nbformat": 4,
 "nbformat_minor": 5
}
