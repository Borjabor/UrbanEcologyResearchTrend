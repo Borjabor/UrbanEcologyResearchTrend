{
 "cells": [
  {
   "cell_type": "markdown",
   "id": "21e9aaad",
   "metadata": {},
   "source": [
    "# Urban Ecology Research Trend Analysis\n",
    "\n",
    "In this notebook I'll analyse the trend of scientific research performed within an urban environment. I have chosen a few specific keywords related to Urban Ecology that I used to retrieve published papers using the OpenAlex API. I later enhanced my dataset be obtaining missing country data from the Research Organization Registry (ROR) to perform some geographical analysis.\n",
    "\n",
    "**Note: I chose a date range starting on 1970 as that is the decade when the term Urban Ecology started getting traction. I cutoff my data in 2023 as there is still data missing from OpenAlex for the year 2024"
   ]
  },
  {
   "cell_type": "markdown",
   "id": "62a5288c",
   "metadata": {},
   "source": [
    "## Section 1: Setup & Configuration\n",
    "\n",
    "This section contains all the initial setup: imports, constants, database schemas, helper functions, and utility code needed for the analysis."
   ]
  },
  {
   "cell_type": "code",
   "execution_count": 1,
   "id": "854a13d3",
   "metadata": {},
   "outputs": [],
   "source": [
    "import os\n",
    "import sys\n",
    "import time\n",
    "import math\n",
    "import pycountry\n",
    "import requests\n",
    "import pandas as pd\n",
    "import numpy as np\n",
    "import sqlite3\n",
    "import plotly.express as px\n",
    "import seaborn as sns\n",
    "import matplotlib.pyplot as plt\n",
    "import matplotlib.dates as mdates\n",
    "import scipy.stats as stats\n",
    "from itertools import combinations\n",
    "from collections import Counter\n",
    "\n",
    "BASE_URL = 'https://api.openalex.org/works'\n",
    "DELAY = 1  # Small delay between requests\n",
    "RETRY_DELAY = 5  # seconds before retrying on failure\n",
    "YEAR_RANGE = '1970-2023' # We start on 1970 as that is considered the decade where urban ecology started gaining interest. We stop on 2023 as it's the last year with complete data\n",
    "PAPERS_DB_PATH = 'papers.db'\n",
    "CONTROL_DB_PATH = 'ecology_papers.db'\n",
    "\n",
    "papers_schema = \"\"\"\n",
    "    paperId TEXT PRIMARY KEY,\n",
    "    title TEXT,\n",
    "    year INTEGER,\n",
    "    authors TEXT,\n",
    "    url TEXT,\n",
    "    search_keyword TEXT,\n",
    "    firstAuthorCountryIso TEXT,\n",
    "    firstAuthorId TEXT,\n",
    "    journal TEXT,\n",
    "    citationCount INTEGER\n",
    "\"\"\"\n",
    "\n",
    "control_query = ['ecology']\n",
    "\n",
    "query_list = [\n",
    "    'urban ecology',\n",
    "    'urban biodiversity',\n",
    "    'urban ecosystem',\n",
    "    'urban green spaces',\n",
    "    'urban wildlife',\n",
    "    'urban vegetation',\n",
    "]\n",
    "\n",
    "AUTHOR_URL = 'https://api.openalex.org/authors'\n",
    "\n",
    "authors_schema = \"\"\"\n",
    "    authorId TEXT PRIMARY KEY,\n",
    "    name TEXT,\n",
    "    last_known_institution_name TEXT,\n",
    "    last_known_institution_ror TEXT,\n",
    "    country_code TEXT,\n",
    "    country_name TEXT\n",
    "\"\"\"\n",
    "\n",
    "ROR_CLIENT_ID = 'U7CHDW7L27GVX0ZOUVTT0Z1QG8E1BL70'\n",
    "ROR_BASE_URL = 'https://api.ror.org/v2/organizations'\n",
    "ROR_DELAY = 0.1  # Conservative delay (600 requests/min against their 2000/min limit)\n",
    "MAX_RETRIES = 3\n",
    "\n",
    "color_map = {\n",
    "    'urban ecology': '#6B9BD2',\n",
    "    'urban biodiversity': '#E6A366',\n",
    "    'urban green spaces': '#7FB069',\n",
    "    'urban wildlife': '#D67B7B',\n",
    "    'urban vegetation': '#B19CD9',\n",
    "    'urban ecosystem': '#E6A8D0',\n",
    "    'total': '#FFD700'\n",
    "}"
   ]
  },
  {
   "cell_type": "markdown",
   "id": "14d95e86",
   "metadata": {},
   "source": [
    "#### === Helper Functions ==="
   ]
  },
  {
   "cell_type": "code",
   "execution_count": 7,
   "id": "e4835c3c",
   "metadata": {},
   "outputs": [
    {
     "name": "stdout",
     "output_type": "stream",
     "text": [
      "Progress tracker \"done_urban ecology.txt\" removed.\n",
      "Progress tracker \"done_urban biodiversity.txt\" removed.\n",
      "Progress tracker \"done_urban ecosystem.txt\" removed.\n",
      "Progress tracker \"done_urban green spaces.txt\" removed.\n",
      "Progress tracker \"done_urban wildlife.txt\" removed.\n",
      "Progress tracker \"done_urban vegetation.txt\" removed.\n",
      "Output file \"papers.db\" removed.\n"
     ]
    }
   ],
   "source": [
    "# Run this to clear the .txt progress trackers\n",
    "\n",
    "for keyword in query_list:\n",
    "    done_file = f'done_{keyword}.txt'\n",
    "    page_file = f'page_{keyword}.txt'\n",
    "    cursor_file = f'cursor_{keyword}.txt'\n",
    "    \n",
    "    for file_path in [done_file, page_file, cursor_file]:\n",
    "        if os.path.exists(file_path):\n",
    "            os.remove(file_path)\n",
    "            print(f'Progress tracker \"{file_path}\" removed.')\n",
    "  \n",
    "if os.path.exists(PAPERS_DB_PATH):      \n",
    "    os.remove(PAPERS_DB_PATH)\n",
    "    print(f'Output file \"{PAPERS_DB_PATH}\" removed.')"
   ]
  },
  {
   "cell_type": "code",
   "execution_count": 2,
   "id": "9fa39136",
   "metadata": {},
   "outputs": [],
   "source": [
    "# === Paper Retrieval Helper functions ===\n",
    "\n",
    "def save_cursor(keyword, cursor):\n",
    "    \"\"\"Save the current cursor for pagination\"\"\"\n",
    "    with open(f'cursor_{keyword}.txt', 'w') as f:\n",
    "        f.write(cursor)\n",
    "\n",
    "def load_cursor(keyword):\n",
    "    \"\"\"Load the last cursor for pagination\"\"\"\n",
    "    filename = f'cursor_{keyword}.txt'\n",
    "    if os.path.exists(filename):\n",
    "        with open(filename, 'r') as f:\n",
    "            return f.read().strip()\n",
    "    return None\n",
    "\n",
    "def mark_done(keyword):\n",
    "    with open(f'done_{keyword}.txt', 'w') as f:\n",
    "        f.write('completed')\n",
    "\n",
    "def is_done(keyword):\n",
    "    return os.path.exists(f'done_{keyword}.txt')\n",
    "\n",
    "def delete_cursor(keyword):\n",
    "    \"\"\"Clean up cursor tracking file when done\"\"\"\n",
    "    filename = f'cursor_{keyword}.txt'\n",
    "    if os.path.exists(filename):\n",
    "        os.remove(filename)\n",
    "\n",
    "def get_first_author_country(authorships_list):\n",
    "    \"\"\"Extract country ISO code prioritizing first author, with fallback to other authors\"\"\"\n",
    "    if not authorships_list:\n",
    "        return None\n",
    "    \n",
    "    first_authorship = authorships_list[0]\n",
    "    institutions = first_authorship.get('institutions', [])\n",
    "    \n",
    "    for institution in institutions:\n",
    "        country_code = institution.get('country_code')\n",
    "        if country_code:\n",
    "            return country_code\n",
    "    \n",
    "    for authorship in authorships_list[1:]:\n",
    "        institutions = authorship.get('institutions', [])\n",
    "        \n",
    "        for institution in institutions:\n",
    "            country_code = institution.get('country_code')\n",
    "            if country_code:\n",
    "                return country_code\n",
    "    \n",
    "    return None\n",
    "\n",
    "\n",
    "# === Author Data Retrieval Helper Functions ===\n",
    "\n",
    "def get_unique_author_ids():\n",
    "    \"\"\"Retrieve unique first author IDs from papers database\"\"\"\n",
    "    with sqlite3.connect(PAPERS_DB_PATH) as conn:\n",
    "        df_authors = pd.read_sql_query(\"\"\"\n",
    "        SELECT DISTINCT firstAuthorId \n",
    "        FROM papers \n",
    "        WHERE firstAuthorId IS NOT NULL \n",
    "        AND firstAuthorId != ''\n",
    "        ORDER BY firstAuthorId\n",
    "        \"\"\", conn)\n",
    "    return df_authors['firstAuthorId'].tolist()\n",
    "\n",
    "def save_author_to_db(author_data):\n",
    "    \"\"\"Save author information to database\"\"\"\n",
    "    conn = sqlite3.connect(PAPERS_DB_PATH)\n",
    "    c = conn.cursor()\n",
    "    \n",
    "    c.execute(f'CREATE TABLE IF NOT EXISTS authors ({authors_schema})')\n",
    "    \n",
    "    author_id = author_data.get('id', '').replace('https://openalex.org/', '')\n",
    "    name = author_data.get('display_name')\n",
    "    \n",
    "    institution_name = None\n",
    "    institution_ror = None\n",
    "    \n",
    "    last_known_institutions = author_data.get('last_known_institutions', [])\n",
    "    if last_known_institutions and len(last_known_institutions) > 0:\n",
    "        institution = last_known_institutions[0]  # Get the most recent institution\n",
    "        institution_name = institution.get('display_name')\n",
    "        institution_ror = institution.get('ror')\n",
    "        if institution_ror:\n",
    "            institution_ror = institution_ror.replace('https://ror.org/', '')\n",
    "    \n",
    "    # Fallback: try old singular field in case API varies\n",
    "    if not institution_name:\n",
    "        last_known_institution = author_data.get('last_known_institution')\n",
    "        if last_known_institution:\n",
    "            institution_name = last_known_institution.get('display_name')\n",
    "            institution_ror = last_known_institution.get('ror')\n",
    "            if institution_ror:\n",
    "                institution_ror = institution_ror.replace('https://ror.org/', '')\n",
    "    \n",
    "    try:\n",
    "        c.execute('SELECT authorId FROM authors WHERE authorId = ?', (author_id,))\n",
    "        existing = c.fetchone()\n",
    "        \n",
    "        if existing:\n",
    "            c.execute(\"\"\"\n",
    "                UPDATE authors \n",
    "                SET name = ?, last_known_institution_name = ?, last_known_institution_ror = ?\n",
    "                WHERE authorId = ?\n",
    "            \"\"\", (name, institution_name, institution_ror, author_id))\n",
    "        else:\n",
    "            c.execute(\"\"\"\n",
    "                INSERT INTO authors \n",
    "                (authorId, name, last_known_institution_name, last_known_institution_ror, country_code, country_name)\n",
    "                VALUES (?, ?, ?, ?, ?, ?)\n",
    "            \"\"\", (author_id, name, institution_name, institution_ror, None, None))\n",
    "        \n",
    "        conn.commit()\n",
    "        return True\n",
    "        \n",
    "    except sqlite3.Error as e:\n",
    "        print(f'DB error for author {author_id}: {e}')\n",
    "        return False\n",
    "    finally:\n",
    "        conn.close()\n",
    "\n",
    "\n",
    "# === Country Code Conversion Functions ===\n",
    "\n",
    "def convert_alpha2_to_alpha3(alpha2_code):\n",
    "    \"\"\"Convert ISO 3166-1 alpha-2 country code to alpha-3\"\"\"\n",
    "    try:\n",
    "        country = pycountry.countries.get(alpha_2=alpha2_code)\n",
    "        return country.alpha_3 if country else None\n",
    "    except:\n",
    "        return None\n",
    "\n",
    "def get_country_name(alpha2_code):\n",
    "    \"\"\"Get country name from ISO 3166-1 alpha-2 country code\"\"\"\n",
    "    try:\n",
    "        country = pycountry.countries.get(alpha_2=alpha2_code)\n",
    "        return country.name if country else None\n",
    "    except:\n",
    "        return None\n",
    "    \n",
    "# === ROR Data Helper Funtion ===\n",
    "    \n",
    "def get_ror_country_data_robust(ror_ids_batch, max_retries=MAX_RETRIES):\n",
    "    \"\"\"ROR data fetching with session reuse and error handling\"\"\"\n",
    "    ror_data = {}\n",
    "    headers = {\n",
    "        'User-Agent': f'UrbanEcologyResearch/1.0 (https://github.com/Borjabor/UrbanEcologyResearchTrend; {ROR_CLIENT_ID})',\n",
    "        'Accept': 'application/json',\n",
    "        'Connection': 'keep-alive'\n",
    "    }\n",
    "    \n",
    "    session = requests.Session()\n",
    "    session.headers.update(headers)\n",
    "    \n",
    "    successful_requests = 0\n",
    "    failed_requests = 0\n",
    "    \n",
    "    for ror_id in ror_ids_batch:\n",
    "        success = False\n",
    "        \n",
    "        for attempt in range(max_retries):\n",
    "            try:\n",
    "                response = session.get(\n",
    "                    f\"{ROR_BASE_URL}/{ror_id}\", \n",
    "                    timeout=15,\n",
    "                    stream=False\n",
    "                )\n",
    "                \n",
    "                if response.status_code == 200:\n",
    "                    data = response.json()\n",
    "                    locations = data.get('locations', [])\n",
    "                    \n",
    "                    if locations:\n",
    "                        geonames = locations[0].get('geonames_details', {})\n",
    "                        country_code = geonames.get('country_code')\n",
    "                        country_name = geonames.get('country_name')\n",
    "                        \n",
    "                        ror_data[ror_id] = {\n",
    "                            'country_code': country_code, \n",
    "                            'country_name': country_name\n",
    "                        } if country_code else None\n",
    "                    else:\n",
    "                        ror_data[ror_id] = None\n",
    "                    \n",
    "                    successful_requests += 1\n",
    "                    success = True\n",
    "                    break\n",
    "                    \n",
    "                elif response.status_code == 429:\n",
    "                    wait_time = 5 + (attempt * 2)\n",
    "                    print(f\"Rate limited on {ror_id}, waiting {wait_time}s...\")\n",
    "                    time.sleep(wait_time)\n",
    "                    \n",
    "                elif response.status_code == 404:\n",
    "                    print(f\"ROR ID not found: {ror_id}\")\n",
    "                    ror_data[ror_id] = None\n",
    "                    success = True\n",
    "                    break\n",
    "                    \n",
    "                else:\n",
    "                    print(f\"HTTP {response.status_code} for {ror_id} (attempt {attempt+1})\")\n",
    "                    if attempt < max_retries - 1:\n",
    "                        time.sleep(2)\n",
    "                    \n",
    "            except requests.exceptions.Timeout:\n",
    "                print(f\"Timeout for {ror_id} (attempt {attempt+1})\")\n",
    "                if attempt < max_retries - 1:\n",
    "                    time.sleep(3)\n",
    "                    \n",
    "            except requests.exceptions.ConnectionError:\n",
    "                print(f\"Connection error for {ror_id} (attempt {attempt+1})\")\n",
    "                if attempt < max_retries - 1:\n",
    "                    time.sleep(5)\n",
    "                    \n",
    "            except requests.exceptions.RequestException as e:\n",
    "                print(f\"Request error for {ror_id} (attempt {attempt+1}): {e}\")\n",
    "                if attempt < max_retries - 1:\n",
    "                    time.sleep(2)\n",
    "        \n",
    "        if not success:\n",
    "            print(f\"Failed to fetch {ror_id} after {max_retries} attempts\")\n",
    "            ror_data[ror_id] = None\n",
    "            failed_requests += 1\n",
    "        \n",
    "        time.sleep(ROR_DELAY)\n",
    "    \n",
    "    session.close()\n",
    "    return ror_data, successful_requests, failed_requests\n"
   ]
  },
  {
   "cell_type": "code",
   "execution_count": 3,
   "id": "b2e20ba5",
   "metadata": {},
   "outputs": [],
   "source": [
    "# === Database Setup ===\n",
    "\n",
    "def init_table(db_path, table_name, schema_sql):\n",
    "    conn = sqlite3.connect(db_path)\n",
    "    c = conn.cursor()\n",
    "    c.execute(f'CREATE TABLE IF NOT EXISTS {table_name} ({schema_sql})')\n",
    "    conn.commit()\n",
    "    conn.close()\n",
    "    \n",
    "def save_paper_to_db(paper, keyword):\n",
    "    conn = sqlite3.connect(PAPERS_DB_PATH)\n",
    "    c = conn.cursor()\n",
    "\n",
    "    paper_id = paper.get('id', '').replace('https://openalex.org/', '')\n",
    "    title = paper.get('title')\n",
    "    year = paper.get('publication_year')\n",
    "    citation_count = paper.get('cited_by_count', 0)\n",
    "    \n",
    "    primary_location = paper.get('primary_location', {})\n",
    "    journal = None\n",
    "    url = None\n",
    "    if primary_location:\n",
    "        source = primary_location.get('source', {})\n",
    "        journal = source.get('display_name') if source else None\n",
    "        url = primary_location.get('landing_page_url')\n",
    "    \n",
    "    authorships = paper.get('authorships', [])\n",
    "    authors_list = []\n",
    "    first_author_id = None\n",
    "    first_author_country = None\n",
    "    \n",
    "    for authorship in authorships:\n",
    "        author = authorship.get('author', {})\n",
    "        author_name = author.get('display_name')\n",
    "        if author_name:\n",
    "            authors_list.append(author_name)\n",
    "            \n",
    "        if not first_author_id and author.get('id'):\n",
    "            first_author_id = author.get('id').replace('https://openalex.org/', '')\n",
    "            first_author_country = get_first_author_country([authorship])\n",
    "    \n",
    "    authors = ', '.join(authors_list)\n",
    "\n",
    "    try:\n",
    "        c.execute('SELECT search_keyword FROM papers WHERE paperId = ?', (paper_id,))\n",
    "        existing = c.fetchone()\n",
    "        \n",
    "        if existing:\n",
    "            existing_keywords = existing[0].split(', ') if existing[0] else []\n",
    "            if keyword not in existing_keywords:\n",
    "                existing_keywords.append(keyword)\n",
    "                updated_keywords = ', '.join(existing_keywords)\n",
    "                c.execute('UPDATE papers SET search_keyword = ? WHERE paperId = ?', \n",
    "                         (updated_keywords, paper_id))\n",
    "        else:\n",
    "            c.execute(\"\"\"\n",
    "                INSERT INTO papers \n",
    "                (paperId, title, year, authors, url, search_keyword, firstAuthorCountryIso, \n",
    "                 firstAuthorId, journal, citationCount)\n",
    "                VALUES (?, ?, ?, ?, ?, ?, ?, ?, ?, ?)\n",
    "            \"\"\", (paper_id, title, year, authors, url, keyword, first_author_country, \n",
    "                  first_author_id, journal, citation_count))\n",
    "        \n",
    "        conn.commit()\n",
    "    except sqlite3.Error as e:\n",
    "        print(f'DB error for paper {paper_id}: {e}')\n",
    "    finally:\n",
    "        conn.close()"
   ]
  },
  {
   "cell_type": "markdown",
   "id": "282d0d81",
   "metadata": {},
   "source": [
    "## Section 2: Data Fetching & Database Building\n",
    "\n",
    "This section handles all API interactions and database population:\n",
    "- Paper retrieval from OpenAlex API\n",
    "- Author data collection from OpenAlex API\n",
    "- ROR geographic enhancement\n",
    "- Country code conversion utilities\n",
    "\n",
    "The retrieval loops all have error handling, retry logic, and progress trackers to allow for \"resuming\" in case something goes wrong during the data retrieval.\n",
    "\n",
    "**Note**: These cells build and populate the `papers.db` database with all research data."
   ]
  },
  {
   "cell_type": "code",
   "execution_count": null,
   "id": "3efc42f1",
   "metadata": {},
   "outputs": [
    {
     "name": "stdout",
     "output_type": "stream",
     "text": [
      "\n",
      "Processing keyword: \"ecology\"\n",
      "Starting fresh for keyword \"ecology\"\n",
      "Page 1: 200 papers retrieved for \"ecology\"\n",
      "Page 1: 200 papers retrieved for \"ecology\"\n",
      "Page 2: 400 papers retrieved for \"ecology\"\n",
      "Page 2: 400 papers retrieved for \"ecology\"\n",
      "Page 3: 600 papers retrieved for \"ecology\"\n",
      "Page 3: 600 papers retrieved for \"ecology\"\n",
      "Page 4: 800 papers retrieved for \"ecology\"\n",
      "Page 4: 800 papers retrieved for \"ecology\"\n",
      "Page 5: 1000 papers retrieved for \"ecology\"\n",
      "Page 5: 1000 papers retrieved for \"ecology\"\n",
      "Page 6: 1200 papers retrieved for \"ecology\"\n",
      "Page 6: 1200 papers retrieved for \"ecology\"\n",
      "Page 7: 1400 papers retrieved for \"ecology\"\n",
      "Page 7: 1400 papers retrieved for \"ecology\"\n",
      "Page 8: 1600 papers retrieved for \"ecology\"\n",
      "Page 8: 1600 papers retrieved for \"ecology\"\n",
      "Page 9: 1800 papers retrieved for \"ecology\"\n",
      "Page 9: 1800 papers retrieved for \"ecology\"\n",
      "Page 10: 2000 papers retrieved for \"ecology\"\n",
      "Page 10: 2000 papers retrieved for \"ecology\"\n",
      "Page 11: 2200 papers retrieved for \"ecology\"\n",
      "Page 11: 2200 papers retrieved for \"ecology\"\n",
      "Page 12: 2400 papers retrieved for \"ecology\"\n",
      "Page 12: 2400 papers retrieved for \"ecology\"\n",
      "Page 13: 2600 papers retrieved for \"ecology\"\n",
      "Page 13: 2600 papers retrieved for \"ecology\"\n",
      "Page 14: 2800 papers retrieved for \"ecology\"\n",
      "Page 14: 2800 papers retrieved for \"ecology\"\n",
      "Page 15: 3000 papers retrieved for \"ecology\"\n",
      "Page 15: 3000 papers retrieved for \"ecology\"\n",
      "Page 16: 3200 papers retrieved for \"ecology\"\n",
      "Page 16: 3200 papers retrieved for \"ecology\"\n",
      "Page 17: 3400 papers retrieved for \"ecology\"\n",
      "Page 17: 3400 papers retrieved for \"ecology\"\n",
      "Page 18: 3600 papers retrieved for \"ecology\"\n",
      "Page 18: 3600 papers retrieved for \"ecology\"\n",
      "Page 19: 3800 papers retrieved for \"ecology\"\n",
      "Page 19: 3800 papers retrieved for \"ecology\"\n",
      "Page 20: 4000 papers retrieved for \"ecology\"\n",
      "Page 20: 4000 papers retrieved for \"ecology\"\n",
      "Page 21: 4200 papers retrieved for \"ecology\"\n",
      "Page 21: 4200 papers retrieved for \"ecology\"\n",
      "Page 22: 4400 papers retrieved for \"ecology\"\n",
      "Page 22: 4400 papers retrieved for \"ecology\"\n",
      "Page 23: 4600 papers retrieved for \"ecology\"\n",
      "Page 23: 4600 papers retrieved for \"ecology\"\n",
      "Page 24: 4800 papers retrieved for \"ecology\"\n",
      "Page 24: 4800 papers retrieved for \"ecology\"\n",
      "Page 25: 5000 papers retrieved for \"ecology\"\n",
      "Page 25: 5000 papers retrieved for \"ecology\"\n",
      "Page 26: 5200 papers retrieved for \"ecology\"\n",
      "Page 26: 5200 papers retrieved for \"ecology\"\n",
      "Page 27: 5400 papers retrieved for \"ecology\"\n",
      "Page 27: 5400 papers retrieved for \"ecology\"\n",
      "Page 28: 5600 papers retrieved for \"ecology\"\n",
      "Page 28: 5600 papers retrieved for \"ecology\"\n",
      "Page 29: 5800 papers retrieved for \"ecology\"\n",
      "Page 29: 5800 papers retrieved for \"ecology\"\n",
      "Page 30: 6000 papers retrieved for \"ecology\"\n",
      "Page 30: 6000 papers retrieved for \"ecology\"\n",
      "Page 31: 6200 papers retrieved for \"ecology\"\n",
      "Page 31: 6200 papers retrieved for \"ecology\"\n",
      "Page 32: 6400 papers retrieved for \"ecology\"\n",
      "Page 32: 6400 papers retrieved for \"ecology\"\n",
      "Page 33: 6600 papers retrieved for \"ecology\"\n",
      "Page 33: 6600 papers retrieved for \"ecology\"\n",
      "Page 34: 6800 papers retrieved for \"ecology\"\n",
      "Page 34: 6800 papers retrieved for \"ecology\"\n",
      "Page 35: 7000 papers retrieved for \"ecology\"\n",
      "Page 35: 7000 papers retrieved for \"ecology\"\n",
      "Page 36: 7200 papers retrieved for \"ecology\"\n",
      "Page 36: 7200 papers retrieved for \"ecology\"\n",
      "Page 37: 7400 papers retrieved for \"ecology\"\n",
      "Page 37: 7400 papers retrieved for \"ecology\"\n",
      "Page 38: 7600 papers retrieved for \"ecology\"\n",
      "Page 38: 7600 papers retrieved for \"ecology\"\n",
      "Page 39: 7800 papers retrieved for \"ecology\"\n",
      "Page 39: 7800 papers retrieved for \"ecology\"\n",
      "Page 40: 8000 papers retrieved for \"ecology\"\n",
      "Page 40: 8000 papers retrieved for \"ecology\"\n",
      "Page 41: 8200 papers retrieved for \"ecology\"\n",
      "Page 41: 8200 papers retrieved for \"ecology\"\n",
      "Page 42: 8400 papers retrieved for \"ecology\"\n",
      "Page 42: 8400 papers retrieved for \"ecology\"\n",
      "Page 43: 8600 papers retrieved for \"ecology\"\n",
      "Page 43: 8600 papers retrieved for \"ecology\"\n",
      "Page 44: 8800 papers retrieved for \"ecology\"\n",
      "Page 44: 8800 papers retrieved for \"ecology\"\n",
      "Page 45: 9000 papers retrieved for \"ecology\"\n",
      "Page 45: 9000 papers retrieved for \"ecology\"\n",
      "Page 46: 9200 papers retrieved for \"ecology\"\n",
      "Page 46: 9200 papers retrieved for \"ecology\"\n",
      "Page 47: 9400 papers retrieved for \"ecology\"\n",
      "Page 47: 9400 papers retrieved for \"ecology\"\n",
      "Page 48: 9600 papers retrieved for \"ecology\"\n",
      "Page 48: 9600 papers retrieved for \"ecology\"\n",
      "Page 49: 9800 papers retrieved for \"ecology\"\n",
      "Page 49: 9800 papers retrieved for \"ecology\"\n",
      "Page 50: 10000 papers retrieved for \"ecology\"\n",
      "Page 50: 10000 papers retrieved for \"ecology\"\n",
      "Page 51: 10200 papers retrieved for \"ecology\"\n",
      "Page 51: 10200 papers retrieved for \"ecology\"\n",
      "Page 52: 10400 papers retrieved for \"ecology\"\n",
      "Page 52: 10400 papers retrieved for \"ecology\"\n",
      "Page 53: 10600 papers retrieved for \"ecology\"\n",
      "Page 53: 10600 papers retrieved for \"ecology\"\n",
      "Page 54: 10800 papers retrieved for \"ecology\"\n",
      "Page 54: 10800 papers retrieved for \"ecology\"\n",
      "Page 55: 11000 papers retrieved for \"ecology\"\n",
      "Page 55: 11000 papers retrieved for \"ecology\"\n",
      "Page 56: 11200 papers retrieved for \"ecology\"\n",
      "Page 56: 11200 papers retrieved for \"ecology\"\n",
      "Page 57: 11400 papers retrieved for \"ecology\"\n",
      "Page 57: 11400 papers retrieved for \"ecology\"\n",
      "Page 58: 11600 papers retrieved for \"ecology\"\n",
      "Page 58: 11600 papers retrieved for \"ecology\"\n",
      "Page 59: 11800 papers retrieved for \"ecology\"\n",
      "Page 59: 11800 papers retrieved for \"ecology\"\n",
      "Page 60: 12000 papers retrieved for \"ecology\"\n",
      "Page 60: 12000 papers retrieved for \"ecology\"\n",
      "Page 61: 12200 papers retrieved for \"ecology\"\n",
      "Page 61: 12200 papers retrieved for \"ecology\"\n",
      "Page 62: 12400 papers retrieved for \"ecology\"\n",
      "Page 62: 12400 papers retrieved for \"ecology\"\n",
      "Page 63: 12600 papers retrieved for \"ecology\"\n",
      "Page 63: 12600 papers retrieved for \"ecology\"\n",
      "Page 64: 12800 papers retrieved for \"ecology\"\n",
      "Page 64: 12800 papers retrieved for \"ecology\"\n",
      "Page 65: 13000 papers retrieved for \"ecology\"\n",
      "Page 65: 13000 papers retrieved for \"ecology\"\n",
      "Page 66: 13200 papers retrieved for \"ecology\"\n",
      "Page 66: 13200 papers retrieved for \"ecology\"\n",
      "Page 67: 13400 papers retrieved for \"ecology\"\n",
      "Page 67: 13400 papers retrieved for \"ecology\"\n",
      "Page 68: 13600 papers retrieved for \"ecology\"\n",
      "Page 68: 13600 papers retrieved for \"ecology\"\n",
      "Page 69: 13800 papers retrieved for \"ecology\"\n",
      "Page 69: 13800 papers retrieved for \"ecology\"\n",
      "Page 70: 14000 papers retrieved for \"ecology\"\n",
      "Page 70: 14000 papers retrieved for \"ecology\"\n",
      "Page 71: 14200 papers retrieved for \"ecology\"\n",
      "Page 71: 14200 papers retrieved for \"ecology\"\n",
      "Page 72: 14400 papers retrieved for \"ecology\"\n",
      "Page 72: 14400 papers retrieved for \"ecology\"\n",
      "Page 73: 14600 papers retrieved for \"ecology\"\n",
      "Page 73: 14600 papers retrieved for \"ecology\"\n",
      "Page 74: 14800 papers retrieved for \"ecology\"\n",
      "Page 74: 14800 papers retrieved for \"ecology\"\n",
      "Page 75: 15000 papers retrieved for \"ecology\"\n",
      "Page 75: 15000 papers retrieved for \"ecology\"\n",
      "Page 76: 15200 papers retrieved for \"ecology\"\n",
      "Page 76: 15200 papers retrieved for \"ecology\"\n",
      "Page 77: 15400 papers retrieved for \"ecology\"\n",
      "Page 77: 15400 papers retrieved for \"ecology\"\n",
      "Page 78: 15600 papers retrieved for \"ecology\"\n",
      "Page 78: 15600 papers retrieved for \"ecology\"\n",
      "Page 79: 15800 papers retrieved for \"ecology\"\n",
      "Page 79: 15800 papers retrieved for \"ecology\"\n",
      "Page 80: 16000 papers retrieved for \"ecology\"\n",
      "Page 80: 16000 papers retrieved for \"ecology\"\n",
      "Page 81: 16200 papers retrieved for \"ecology\"\n",
      "Page 81: 16200 papers retrieved for \"ecology\"\n",
      "Page 82: 16400 papers retrieved for \"ecology\"\n",
      "Page 82: 16400 papers retrieved for \"ecology\"\n",
      "Page 83: 16600 papers retrieved for \"ecology\"\n",
      "Page 83: 16600 papers retrieved for \"ecology\"\n",
      "Page 84: 16800 papers retrieved for \"ecology\"\n",
      "Page 84: 16800 papers retrieved for \"ecology\"\n",
      "Page 85: 17000 papers retrieved for \"ecology\"\n",
      "Page 85: 17000 papers retrieved for \"ecology\"\n",
      "Page 86: 17200 papers retrieved for \"ecology\"\n",
      "Page 86: 17200 papers retrieved for \"ecology\"\n",
      "Page 87: 17400 papers retrieved for \"ecology\"\n",
      "Page 87: 17400 papers retrieved for \"ecology\"\n",
      "Page 88: 17600 papers retrieved for \"ecology\"\n",
      "Page 88: 17600 papers retrieved for \"ecology\"\n",
      "Page 89: 17800 papers retrieved for \"ecology\"\n",
      "Page 89: 17800 papers retrieved for \"ecology\"\n",
      "Page 90: 18000 papers retrieved for \"ecology\"\n",
      "Page 90: 18000 papers retrieved for \"ecology\"\n",
      "Page 91: 18200 papers retrieved for \"ecology\"\n",
      "Page 91: 18200 papers retrieved for \"ecology\"\n",
      "Page 92: 18400 papers retrieved for \"ecology\"\n",
      "Page 92: 18400 papers retrieved for \"ecology\"\n",
      "Page 93: 18600 papers retrieved for \"ecology\"\n",
      "Page 93: 18600 papers retrieved for \"ecology\"\n",
      "Page 94: 18800 papers retrieved for \"ecology\"\n",
      "Page 94: 18800 papers retrieved for \"ecology\"\n",
      "Page 95: 19000 papers retrieved for \"ecology\"\n",
      "Page 95: 19000 papers retrieved for \"ecology\"\n",
      "Page 96: 19200 papers retrieved for \"ecology\"\n",
      "Page 96: 19200 papers retrieved for \"ecology\"\n",
      "Page 97: 19400 papers retrieved for \"ecology\"\n",
      "Page 97: 19400 papers retrieved for \"ecology\"\n",
      "Page 98: 19600 papers retrieved for \"ecology\"\n",
      "Page 98: 19600 papers retrieved for \"ecology\"\n",
      "Page 99: 19800 papers retrieved for \"ecology\"\n",
      "Page 99: 19800 papers retrieved for \"ecology\"\n",
      "Page 100: 20000 papers retrieved for \"ecology\"\n",
      "Page 100: 20000 papers retrieved for \"ecology\"\n",
      "Page 101: 20200 papers retrieved for \"ecology\"\n",
      "Page 101: 20200 papers retrieved for \"ecology\"\n",
      "Page 102: 20400 papers retrieved for \"ecology\"\n",
      "Page 102: 20400 papers retrieved for \"ecology\"\n",
      "Page 103: 20600 papers retrieved for \"ecology\"\n",
      "Page 103: 20600 papers retrieved for \"ecology\"\n",
      "Page 104: 20800 papers retrieved for \"ecology\"\n",
      "Page 104: 20800 papers retrieved for \"ecology\"\n",
      "Page 105: 21000 papers retrieved for \"ecology\"\n",
      "Page 105: 21000 papers retrieved for \"ecology\"\n",
      "Page 106: 21200 papers retrieved for \"ecology\"\n",
      "Page 106: 21200 papers retrieved for \"ecology\"\n",
      "Page 107: 21400 papers retrieved for \"ecology\"\n",
      "Page 107: 21400 papers retrieved for \"ecology\"\n",
      "Page 108: 21600 papers retrieved for \"ecology\"\n",
      "Page 108: 21600 papers retrieved for \"ecology\"\n",
      "Page 109: 21800 papers retrieved for \"ecology\"\n",
      "Page 109: 21800 papers retrieved for \"ecology\"\n",
      "Page 110: 22000 papers retrieved for \"ecology\"\n",
      "Page 110: 22000 papers retrieved for \"ecology\"\n",
      "Page 111: 22200 papers retrieved for \"ecology\"\n",
      "Page 111: 22200 papers retrieved for \"ecology\"\n",
      "Page 112: 22400 papers retrieved for \"ecology\"\n",
      "Page 112: 22400 papers retrieved for \"ecology\"\n",
      "Page 113: 22600 papers retrieved for \"ecology\"\n",
      "Page 113: 22600 papers retrieved for \"ecology\"\n",
      "Page 114: 22800 papers retrieved for \"ecology\"\n",
      "Page 114: 22800 papers retrieved for \"ecology\"\n",
      "Page 115: 23000 papers retrieved for \"ecology\"\n",
      "Page 115: 23000 papers retrieved for \"ecology\"\n",
      "Page 116: 23200 papers retrieved for \"ecology\"\n",
      "Page 116: 23200 papers retrieved for \"ecology\"\n",
      "Page 117: 23400 papers retrieved for \"ecology\"\n",
      "Page 117: 23400 papers retrieved for \"ecology\"\n",
      "Page 118: 23600 papers retrieved for \"ecology\"\n",
      "Page 118: 23600 papers retrieved for \"ecology\"\n",
      "Page 119: 23800 papers retrieved for \"ecology\"\n",
      "Page 119: 23800 papers retrieved for \"ecology\"\n",
      "Page 120: 24000 papers retrieved for \"ecology\"\n",
      "Page 120: 24000 papers retrieved for \"ecology\"\n",
      "Page 121: 24200 papers retrieved for \"ecology\"\n",
      "Page 121: 24200 papers retrieved for \"ecology\"\n",
      "Page 122: 24400 papers retrieved for \"ecology\"\n",
      "Page 122: 24400 papers retrieved for \"ecology\"\n",
      "Page 123: 24600 papers retrieved for \"ecology\"\n",
      "Page 123: 24600 papers retrieved for \"ecology\"\n",
      "Page 124: 24800 papers retrieved for \"ecology\"\n",
      "Page 124: 24800 papers retrieved for \"ecology\"\n",
      "Page 125: 25000 papers retrieved for \"ecology\"\n",
      "Page 125: 25000 papers retrieved for \"ecology\"\n",
      "Page 126: 25200 papers retrieved for \"ecology\"\n",
      "Page 126: 25200 papers retrieved for \"ecology\"\n",
      "Page 127: 25400 papers retrieved for \"ecology\"\n",
      "Page 127: 25400 papers retrieved for \"ecology\"\n",
      "Page 128: 25600 papers retrieved for \"ecology\"\n",
      "Page 128: 25600 papers retrieved for \"ecology\"\n",
      "Page 129: 25800 papers retrieved for \"ecology\"\n",
      "Page 129: 25800 papers retrieved for \"ecology\"\n",
      "Page 130: 26000 papers retrieved for \"ecology\"\n",
      "Page 130: 26000 papers retrieved for \"ecology\"\n",
      "Page 131: 26200 papers retrieved for \"ecology\"\n",
      "Page 131: 26200 papers retrieved for \"ecology\"\n",
      "Page 132: 26400 papers retrieved for \"ecology\"\n",
      "Page 132: 26400 papers retrieved for \"ecology\"\n",
      "Page 133: 26600 papers retrieved for \"ecology\"\n",
      "Page 133: 26600 papers retrieved for \"ecology\"\n",
      "Page 134: 26800 papers retrieved for \"ecology\"\n",
      "Page 134: 26800 papers retrieved for \"ecology\"\n",
      "Page 135: 27000 papers retrieved for \"ecology\"\n",
      "Page 135: 27000 papers retrieved for \"ecology\"\n",
      "Page 136: 27200 papers retrieved for \"ecology\"\n",
      "Page 136: 27200 papers retrieved for \"ecology\"\n",
      "Page 137: 27400 papers retrieved for \"ecology\"\n",
      "Page 137: 27400 papers retrieved for \"ecology\"\n",
      "Page 138: 27600 papers retrieved for \"ecology\"\n",
      "Page 138: 27600 papers retrieved for \"ecology\"\n",
      "Page 139: 27800 papers retrieved for \"ecology\"\n",
      "Page 139: 27800 papers retrieved for \"ecology\"\n",
      "Page 140: 28000 papers retrieved for \"ecology\"\n",
      "Page 140: 28000 papers retrieved for \"ecology\"\n",
      "Page 141: 28200 papers retrieved for \"ecology\"\n",
      "Page 141: 28200 papers retrieved for \"ecology\"\n",
      "Page 142: 28400 papers retrieved for \"ecology\"\n",
      "Page 142: 28400 papers retrieved for \"ecology\"\n",
      "Page 143: 28600 papers retrieved for \"ecology\"\n",
      "Page 143: 28600 papers retrieved for \"ecology\"\n",
      "Page 144: 28800 papers retrieved for \"ecology\"\n",
      "Page 144: 28800 papers retrieved for \"ecology\"\n",
      "Page 145: 29000 papers retrieved for \"ecology\"\n",
      "Page 145: 29000 papers retrieved for \"ecology\"\n",
      "Page 146: 29200 papers retrieved for \"ecology\"\n",
      "Page 146: 29200 papers retrieved for \"ecology\"\n",
      "Page 147: 29400 papers retrieved for \"ecology\"\n",
      "Page 147: 29400 papers retrieved for \"ecology\"\n",
      "Page 148: 29600 papers retrieved for \"ecology\"\n",
      "Page 148: 29600 papers retrieved for \"ecology\"\n",
      "Page 149: 29800 papers retrieved for \"ecology\"\n",
      "Page 149: 29800 papers retrieved for \"ecology\"\n",
      "Page 150: 30000 papers retrieved for \"ecology\"\n",
      "Page 150: 30000 papers retrieved for \"ecology\"\n",
      "Page 151: 30200 papers retrieved for \"ecology\"\n",
      "Page 151: 30200 papers retrieved for \"ecology\"\n",
      "Page 152: 30400 papers retrieved for \"ecology\"\n",
      "Page 152: 30400 papers retrieved for \"ecology\"\n",
      "Page 153: 30600 papers retrieved for \"ecology\"\n",
      "Page 153: 30600 papers retrieved for \"ecology\"\n",
      "Page 154: 30800 papers retrieved for \"ecology\"\n",
      "Page 154: 30800 papers retrieved for \"ecology\"\n",
      "Page 155: 31000 papers retrieved for \"ecology\"\n",
      "Page 155: 31000 papers retrieved for \"ecology\"\n",
      "Page 156: 31200 papers retrieved for \"ecology\"\n",
      "Page 156: 31200 papers retrieved for \"ecology\"\n",
      "Page 157: 31400 papers retrieved for \"ecology\"\n",
      "Page 157: 31400 papers retrieved for \"ecology\"\n",
      "Page 158: 31600 papers retrieved for \"ecology\"\n",
      "Page 158: 31600 papers retrieved for \"ecology\"\n",
      "Page 159: 31800 papers retrieved for \"ecology\"\n",
      "Page 159: 31800 papers retrieved for \"ecology\"\n",
      "Page 160: 32000 papers retrieved for \"ecology\"\n",
      "Page 160: 32000 papers retrieved for \"ecology\"\n",
      "Page 161: 32200 papers retrieved for \"ecology\"\n",
      "Page 161: 32200 papers retrieved for \"ecology\"\n",
      "Page 162: 32400 papers retrieved for \"ecology\"\n",
      "Page 162: 32400 papers retrieved for \"ecology\"\n",
      "Page 163: 32600 papers retrieved for \"ecology\"\n",
      "Page 163: 32600 papers retrieved for \"ecology\"\n",
      "Page 164: 32800 papers retrieved for \"ecology\"\n",
      "Page 164: 32800 papers retrieved for \"ecology\"\n",
      "Page 165: 33000 papers retrieved for \"ecology\"\n",
      "Page 165: 33000 papers retrieved for \"ecology\"\n",
      "Page 166: 33200 papers retrieved for \"ecology\"\n",
      "Page 166: 33200 papers retrieved for \"ecology\"\n",
      "Page 167: 33400 papers retrieved for \"ecology\"\n",
      "Page 167: 33400 papers retrieved for \"ecology\"\n",
      "Page 168: 33600 papers retrieved for \"ecology\"\n",
      "Page 168: 33600 papers retrieved for \"ecology\"\n",
      "Page 169: 33800 papers retrieved for \"ecology\"\n",
      "Page 169: 33800 papers retrieved for \"ecology\"\n",
      "Page 170: 34000 papers retrieved for \"ecology\"\n",
      "Page 170: 34000 papers retrieved for \"ecology\"\n",
      "Page 171: 34200 papers retrieved for \"ecology\"\n",
      "Page 171: 34200 papers retrieved for \"ecology\"\n",
      "Page 172: 34400 papers retrieved for \"ecology\"\n",
      "Page 172: 34400 papers retrieved for \"ecology\"\n",
      "Page 173: 34600 papers retrieved for \"ecology\"\n",
      "Page 173: 34600 papers retrieved for \"ecology\"\n",
      "Page 174: 34800 papers retrieved for \"ecology\"\n",
      "Page 174: 34800 papers retrieved for \"ecology\"\n",
      "Page 175: 35000 papers retrieved for \"ecology\"\n",
      "Page 175: 35000 papers retrieved for \"ecology\"\n",
      "Page 176: 35200 papers retrieved for \"ecology\"\n",
      "Page 176: 35200 papers retrieved for \"ecology\"\n",
      "Page 177: 35400 papers retrieved for \"ecology\"\n",
      "Page 177: 35400 papers retrieved for \"ecology\"\n",
      "Page 178: 35600 papers retrieved for \"ecology\"\n",
      "Page 178: 35600 papers retrieved for \"ecology\"\n",
      "Page 179: 35800 papers retrieved for \"ecology\"\n",
      "Page 179: 35800 papers retrieved for \"ecology\"\n",
      "Page 180: 36000 papers retrieved for \"ecology\"\n",
      "Page 180: 36000 papers retrieved for \"ecology\"\n",
      "Page 181: 36200 papers retrieved for \"ecology\"\n",
      "Page 181: 36200 papers retrieved for \"ecology\"\n",
      "Page 182: 36400 papers retrieved for \"ecology\"\n",
      "Page 182: 36400 papers retrieved for \"ecology\"\n",
      "Page 183: 36600 papers retrieved for \"ecology\"\n",
      "Page 183: 36600 papers retrieved for \"ecology\"\n",
      "Page 184: 36800 papers retrieved for \"ecology\"\n",
      "Page 184: 36800 papers retrieved for \"ecology\"\n",
      "Page 185: 37000 papers retrieved for \"ecology\"\n",
      "Page 185: 37000 papers retrieved for \"ecology\"\n",
      "Page 186: 37200 papers retrieved for \"ecology\"\n",
      "Page 186: 37200 papers retrieved for \"ecology\"\n",
      "Page 187: 37400 papers retrieved for \"ecology\"\n",
      "Page 187: 37400 papers retrieved for \"ecology\"\n",
      "Page 188: 37600 papers retrieved for \"ecology\"\n",
      "Page 188: 37600 papers retrieved for \"ecology\"\n",
      "Page 189: 37800 papers retrieved for \"ecology\"\n",
      "Page 189: 37800 papers retrieved for \"ecology\"\n",
      "Page 190: 38000 papers retrieved for \"ecology\"\n",
      "Page 190: 38000 papers retrieved for \"ecology\"\n",
      "Page 191: 38200 papers retrieved for \"ecology\"\n",
      "Page 191: 38200 papers retrieved for \"ecology\"\n",
      "Page 192: 38400 papers retrieved for \"ecology\"\n",
      "Page 192: 38400 papers retrieved for \"ecology\"\n",
      "Page 193: 38600 papers retrieved for \"ecology\"\n",
      "Page 193: 38600 papers retrieved for \"ecology\"\n",
      "Page 194: 38800 papers retrieved for \"ecology\"\n",
      "Page 194: 38800 papers retrieved for \"ecology\"\n",
      "Page 195: 39000 papers retrieved for \"ecology\"\n",
      "Page 195: 39000 papers retrieved for \"ecology\"\n",
      "Page 196: 39200 papers retrieved for \"ecology\"\n",
      "Page 196: 39200 papers retrieved for \"ecology\"\n",
      "Page 197: 39400 papers retrieved for \"ecology\"\n",
      "Page 197: 39400 papers retrieved for \"ecology\"\n",
      "Page 198: 39600 papers retrieved for \"ecology\"\n",
      "Page 198: 39600 papers retrieved for \"ecology\"\n",
      "Page 199: 39800 papers retrieved for \"ecology\"\n",
      "Page 199: 39800 papers retrieved for \"ecology\"\n",
      "Page 200: 40000 papers retrieved for \"ecology\"\n",
      "Page 200: 40000 papers retrieved for \"ecology\"\n",
      "Page 201: 40200 papers retrieved for \"ecology\"\n",
      "Page 201: 40200 papers retrieved for \"ecology\"\n",
      "Page 202: 40400 papers retrieved for \"ecology\"\n",
      "Page 202: 40400 papers retrieved for \"ecology\"\n",
      "Page 203: 40600 papers retrieved for \"ecology\"\n",
      "Page 203: 40600 papers retrieved for \"ecology\"\n",
      "Page 204: 40800 papers retrieved for \"ecology\"\n",
      "Page 204: 40800 papers retrieved for \"ecology\"\n",
      "Page 205: 41000 papers retrieved for \"ecology\"\n",
      "Page 205: 41000 papers retrieved for \"ecology\"\n",
      "Page 206: 41200 papers retrieved for \"ecology\"\n",
      "Page 206: 41200 papers retrieved for \"ecology\"\n",
      "Page 207: 41400 papers retrieved for \"ecology\"\n",
      "Page 207: 41400 papers retrieved for \"ecology\"\n",
      "Page 208: 41600 papers retrieved for \"ecology\"\n",
      "Page 208: 41600 papers retrieved for \"ecology\"\n",
      "Page 209: 41800 papers retrieved for \"ecology\"\n",
      "Page 209: 41800 papers retrieved for \"ecology\"\n",
      "Page 210: 42000 papers retrieved for \"ecology\"\n",
      "Page 210: 42000 papers retrieved for \"ecology\"\n",
      "Page 211: 42200 papers retrieved for \"ecology\"\n",
      "Page 211: 42200 papers retrieved for \"ecology\"\n",
      "Page 212: 42400 papers retrieved for \"ecology\"\n",
      "Page 212: 42400 papers retrieved for \"ecology\"\n",
      "Page 213: 42600 papers retrieved for \"ecology\"\n",
      "Page 213: 42600 papers retrieved for \"ecology\"\n",
      "Page 214: 42800 papers retrieved for \"ecology\"\n",
      "Page 214: 42800 papers retrieved for \"ecology\"\n",
      "Page 215: 43000 papers retrieved for \"ecology\"\n",
      "Page 215: 43000 papers retrieved for \"ecology\"\n",
      "Page 216: 43200 papers retrieved for \"ecology\"\n",
      "Page 216: 43200 papers retrieved for \"ecology\"\n",
      "Page 217: 43400 papers retrieved for \"ecology\"\n",
      "Page 217: 43400 papers retrieved for \"ecology\"\n",
      "Page 218: 43600 papers retrieved for \"ecology\"\n",
      "Page 218: 43600 papers retrieved for \"ecology\"\n",
      "Page 219: 43800 papers retrieved for \"ecology\"\n",
      "Page 219: 43800 papers retrieved for \"ecology\"\n",
      "Page 220: 44000 papers retrieved for \"ecology\"\n",
      "Page 220: 44000 papers retrieved for \"ecology\"\n",
      "Page 221: 44200 papers retrieved for \"ecology\"\n",
      "Page 221: 44200 papers retrieved for \"ecology\"\n",
      "Page 222: 44400 papers retrieved for \"ecology\"\n",
      "Page 222: 44400 papers retrieved for \"ecology\"\n",
      "Page 223: 44600 papers retrieved for \"ecology\"\n",
      "Page 223: 44600 papers retrieved for \"ecology\"\n",
      "Page 224: 44800 papers retrieved for \"ecology\"\n",
      "Page 224: 44800 papers retrieved for \"ecology\"\n",
      "Page 225: 45000 papers retrieved for \"ecology\"\n",
      "Page 225: 45000 papers retrieved for \"ecology\"\n",
      "Page 226: 45200 papers retrieved for \"ecology\"\n",
      "Page 226: 45200 papers retrieved for \"ecology\"\n",
      "Page 227: 45400 papers retrieved for \"ecology\"\n",
      "Page 227: 45400 papers retrieved for \"ecology\"\n",
      "Page 228: 45600 papers retrieved for \"ecology\"\n",
      "Page 228: 45600 papers retrieved for \"ecology\"\n",
      "Page 229: 45800 papers retrieved for \"ecology\"\n",
      "Page 229: 45800 papers retrieved for \"ecology\"\n",
      "Page 230: 46000 papers retrieved for \"ecology\"\n",
      "Page 230: 46000 papers retrieved for \"ecology\"\n",
      "Page 231: 46200 papers retrieved for \"ecology\"\n",
      "Page 231: 46200 papers retrieved for \"ecology\"\n",
      "Page 232: 46400 papers retrieved for \"ecology\"\n",
      "Page 232: 46400 papers retrieved for \"ecology\"\n",
      "Page 233: 46600 papers retrieved for \"ecology\"\n",
      "Page 233: 46600 papers retrieved for \"ecology\"\n",
      "Page 234: 46800 papers retrieved for \"ecology\"\n",
      "Page 234: 46800 papers retrieved for \"ecology\"\n",
      "Page 235: 47000 papers retrieved for \"ecology\"\n",
      "Page 235: 47000 papers retrieved for \"ecology\"\n",
      "Page 236: 47200 papers retrieved for \"ecology\"\n",
      "Page 236: 47200 papers retrieved for \"ecology\"\n",
      "Page 237: 47400 papers retrieved for \"ecology\"\n",
      "Page 237: 47400 papers retrieved for \"ecology\"\n",
      "Page 238: 47600 papers retrieved for \"ecology\"\n",
      "Page 238: 47600 papers retrieved for \"ecology\"\n",
      "Page 239: 47800 papers retrieved for \"ecology\"\n",
      "Page 239: 47800 papers retrieved for \"ecology\"\n",
      "Page 240: 48000 papers retrieved for \"ecology\"\n",
      "Page 240: 48000 papers retrieved for \"ecology\"\n",
      "Page 241: 48200 papers retrieved for \"ecology\"\n",
      "Page 241: 48200 papers retrieved for \"ecology\"\n",
      "Page 242: 48400 papers retrieved for \"ecology\"\n",
      "Page 242: 48400 papers retrieved for \"ecology\"\n",
      "Page 243: 48600 papers retrieved for \"ecology\"\n",
      "Page 243: 48600 papers retrieved for \"ecology\"\n",
      "Page 244: 48800 papers retrieved for \"ecology\"\n",
      "Page 244: 48800 papers retrieved for \"ecology\"\n",
      "Page 245: 49000 papers retrieved for \"ecology\"\n",
      "Page 245: 49000 papers retrieved for \"ecology\"\n",
      "Page 246: 49200 papers retrieved for \"ecology\"\n",
      "Page 246: 49200 papers retrieved for \"ecology\"\n",
      "Page 247: 49400 papers retrieved for \"ecology\"\n",
      "Page 247: 49400 papers retrieved for \"ecology\"\n",
      "Page 248: 49600 papers retrieved for \"ecology\"\n",
      "Page 248: 49600 papers retrieved for \"ecology\"\n",
      "Page 249: 49800 papers retrieved for \"ecology\"\n",
      "Page 249: 49800 papers retrieved for \"ecology\"\n",
      "Page 250: 50000 papers retrieved for \"ecology\"\n",
      "Page 250: 50000 papers retrieved for \"ecology\"\n",
      "Page 251: 50200 papers retrieved for \"ecology\"\n",
      "Page 251: 50200 papers retrieved for \"ecology\"\n",
      "Page 252: 50400 papers retrieved for \"ecology\"\n",
      "Page 252: 50400 papers retrieved for \"ecology\"\n",
      "Page 253: 50600 papers retrieved for \"ecology\"\n",
      "Page 253: 50600 papers retrieved for \"ecology\"\n",
      "Page 254: 50800 papers retrieved for \"ecology\"\n",
      "Page 254: 50800 papers retrieved for \"ecology\"\n",
      "Page 255: 51000 papers retrieved for \"ecology\"\n",
      "Page 255: 51000 papers retrieved for \"ecology\"\n",
      "Page 256: 51200 papers retrieved for \"ecology\"\n",
      "Page 256: 51200 papers retrieved for \"ecology\"\n",
      "Page 257: 51400 papers retrieved for \"ecology\"\n",
      "Page 257: 51400 papers retrieved for \"ecology\"\n",
      "Page 258: 51600 papers retrieved for \"ecology\"\n",
      "Page 258: 51600 papers retrieved for \"ecology\"\n",
      "Page 259: 51800 papers retrieved for \"ecology\"\n",
      "Page 259: 51800 papers retrieved for \"ecology\"\n",
      "Page 260: 52000 papers retrieved for \"ecology\"\n",
      "Page 260: 52000 papers retrieved for \"ecology\"\n",
      "Page 261: 52200 papers retrieved for \"ecology\"\n",
      "Page 261: 52200 papers retrieved for \"ecology\"\n",
      "Page 262: 52400 papers retrieved for \"ecology\"\n",
      "Page 262: 52400 papers retrieved for \"ecology\"\n",
      "Page 263: 52600 papers retrieved for \"ecology\"\n",
      "Page 263: 52600 papers retrieved for \"ecology\"\n",
      "Page 264: 52800 papers retrieved for \"ecology\"\n",
      "Page 264: 52800 papers retrieved for \"ecology\"\n",
      "Page 265: 53000 papers retrieved for \"ecology\"\n",
      "Page 265: 53000 papers retrieved for \"ecology\"\n",
      "Page 266: 53200 papers retrieved for \"ecology\"\n",
      "Page 266: 53200 papers retrieved for \"ecology\"\n",
      "Page 267: 53400 papers retrieved for \"ecology\"\n",
      "Page 267: 53400 papers retrieved for \"ecology\"\n",
      "Page 268: 53600 papers retrieved for \"ecology\"\n",
      "Page 268: 53600 papers retrieved for \"ecology\"\n",
      "Page 269: 53800 papers retrieved for \"ecology\"\n",
      "Page 269: 53800 papers retrieved for \"ecology\"\n",
      "Page 270: 54000 papers retrieved for \"ecology\"\n",
      "Page 270: 54000 papers retrieved for \"ecology\"\n",
      "Page 271: 54200 papers retrieved for \"ecology\"\n",
      "Page 271: 54200 papers retrieved for \"ecology\"\n",
      "Page 272: 54400 papers retrieved for \"ecology\"\n",
      "Page 272: 54400 papers retrieved for \"ecology\"\n",
      "Page 273: 54600 papers retrieved for \"ecology\"\n",
      "Page 273: 54600 papers retrieved for \"ecology\"\n",
      "Page 274: 54800 papers retrieved for \"ecology\"\n",
      "Page 274: 54800 papers retrieved for \"ecology\"\n",
      "Page 275: 55000 papers retrieved for \"ecology\"\n",
      "Page 275: 55000 papers retrieved for \"ecology\"\n",
      "Page 276: 55200 papers retrieved for \"ecology\"\n",
      "Page 276: 55200 papers retrieved for \"ecology\"\n",
      "Page 277: 55400 papers retrieved for \"ecology\"\n",
      "Page 277: 55400 papers retrieved for \"ecology\"\n",
      "Page 278: 55600 papers retrieved for \"ecology\"\n",
      "Page 278: 55600 papers retrieved for \"ecology\"\n",
      "Page 279: 55800 papers retrieved for \"ecology\"\n",
      "Page 279: 55800 papers retrieved for \"ecology\"\n",
      "Page 280: 56000 papers retrieved for \"ecology\"\n",
      "Page 280: 56000 papers retrieved for \"ecology\"\n",
      "Page 281: 56200 papers retrieved for \"ecology\"\n",
      "Page 281: 56200 papers retrieved for \"ecology\"\n",
      "Page 282: 56400 papers retrieved for \"ecology\"\n",
      "Page 282: 56400 papers retrieved for \"ecology\"\n",
      "Page 283: 56600 papers retrieved for \"ecology\"\n",
      "Page 283: 56600 papers retrieved for \"ecology\"\n",
      "Page 284: 56800 papers retrieved for \"ecology\"\n",
      "Page 284: 56800 papers retrieved for \"ecology\"\n",
      "Page 285: 57000 papers retrieved for \"ecology\"\n",
      "Page 285: 57000 papers retrieved for \"ecology\"\n",
      "Page 286: 57200 papers retrieved for \"ecology\"\n",
      "Page 286: 57200 papers retrieved for \"ecology\"\n",
      "Page 287: 57400 papers retrieved for \"ecology\"\n",
      "Page 287: 57400 papers retrieved for \"ecology\"\n",
      "Page 288: 57600 papers retrieved for \"ecology\"\n",
      "Page 288: 57600 papers retrieved for \"ecology\"\n",
      "Page 289: 57800 papers retrieved for \"ecology\"\n",
      "Page 289: 57800 papers retrieved for \"ecology\"\n",
      "Page 290: 58000 papers retrieved for \"ecology\"\n",
      "Page 290: 58000 papers retrieved for \"ecology\"\n",
      "Page 291: 58200 papers retrieved for \"ecology\"\n",
      "Page 291: 58200 papers retrieved for \"ecology\"\n",
      "Page 292: 58400 papers retrieved for \"ecology\"\n",
      "Page 292: 58400 papers retrieved for \"ecology\"\n",
      "Page 293: 58600 papers retrieved for \"ecology\"\n",
      "Page 293: 58600 papers retrieved for \"ecology\"\n",
      "Page 294: 58800 papers retrieved for \"ecology\"\n",
      "Page 294: 58800 papers retrieved for \"ecology\"\n",
      "Page 295: 59000 papers retrieved for \"ecology\"\n",
      "Page 295: 59000 papers retrieved for \"ecology\"\n",
      "Page 296: 59200 papers retrieved for \"ecology\"\n",
      "Page 296: 59200 papers retrieved for \"ecology\"\n",
      "Page 297: 59400 papers retrieved for \"ecology\"\n",
      "Page 297: 59400 papers retrieved for \"ecology\"\n",
      "Page 298: 59600 papers retrieved for \"ecology\"\n",
      "Page 298: 59600 papers retrieved for \"ecology\"\n",
      "Page 299: 59800 papers retrieved for \"ecology\"\n",
      "Page 299: 59800 papers retrieved for \"ecology\"\n",
      "Page 300: 60000 papers retrieved for \"ecology\"\n",
      "Page 300: 60000 papers retrieved for \"ecology\"\n",
      "Page 301: 60200 papers retrieved for \"ecology\"\n",
      "Page 301: 60200 papers retrieved for \"ecology\"\n",
      "Page 302: 60400 papers retrieved for \"ecology\"\n",
      "Page 302: 60400 papers retrieved for \"ecology\"\n",
      "Page 303: 60600 papers retrieved for \"ecology\"\n",
      "Page 303: 60600 papers retrieved for \"ecology\"\n",
      "Page 304: 60800 papers retrieved for \"ecology\"\n",
      "Page 304: 60800 papers retrieved for \"ecology\"\n",
      "Page 305: 61000 papers retrieved for \"ecology\"\n",
      "Page 305: 61000 papers retrieved for \"ecology\"\n",
      "Page 306: 61200 papers retrieved for \"ecology\"\n",
      "Page 306: 61200 papers retrieved for \"ecology\"\n",
      "Page 307: 61400 papers retrieved for \"ecology\"\n",
      "Page 307: 61400 papers retrieved for \"ecology\"\n",
      "Page 308: 61600 papers retrieved for \"ecology\"\n",
      "Page 308: 61600 papers retrieved for \"ecology\"\n",
      "Page 309: 61800 papers retrieved for \"ecology\"\n",
      "Page 309: 61800 papers retrieved for \"ecology\"\n",
      "Page 310: 62000 papers retrieved for \"ecology\"\n",
      "Page 310: 62000 papers retrieved for \"ecology\"\n",
      "Page 311: 62200 papers retrieved for \"ecology\"\n",
      "Page 311: 62200 papers retrieved for \"ecology\"\n",
      "Page 312: 62400 papers retrieved for \"ecology\"\n",
      "Page 312: 62400 papers retrieved for \"ecology\"\n",
      "Page 313: 62600 papers retrieved for \"ecology\"\n",
      "Page 313: 62600 papers retrieved for \"ecology\"\n",
      "Page 314: 62800 papers retrieved for \"ecology\"\n",
      "Page 314: 62800 papers retrieved for \"ecology\"\n",
      "Page 315: 63000 papers retrieved for \"ecology\"\n",
      "Page 315: 63000 papers retrieved for \"ecology\"\n",
      "Page 316: 63200 papers retrieved for \"ecology\"\n",
      "Page 316: 63200 papers retrieved for \"ecology\"\n",
      "Page 317: 63400 papers retrieved for \"ecology\"\n",
      "Page 317: 63400 papers retrieved for \"ecology\"\n",
      "Page 318: 63600 papers retrieved for \"ecology\"\n",
      "Page 318: 63600 papers retrieved for \"ecology\"\n",
      "Page 319: 63800 papers retrieved for \"ecology\"\n",
      "Page 319: 63800 papers retrieved for \"ecology\"\n",
      "Page 320: 64000 papers retrieved for \"ecology\"\n",
      "Page 320: 64000 papers retrieved for \"ecology\"\n",
      "Page 321: 64200 papers retrieved for \"ecology\"\n",
      "Page 321: 64200 papers retrieved for \"ecology\"\n",
      "Page 322: 64400 papers retrieved for \"ecology\"\n",
      "Page 322: 64400 papers retrieved for \"ecology\"\n",
      "Page 323: 64600 papers retrieved for \"ecology\"\n",
      "Page 323: 64600 papers retrieved for \"ecology\"\n",
      "Page 324: 64800 papers retrieved for \"ecology\"\n",
      "Page 324: 64800 papers retrieved for \"ecology\"\n",
      "Page 325: 65000 papers retrieved for \"ecology\"\n",
      "Page 325: 65000 papers retrieved for \"ecology\"\n",
      "Page 326: 65200 papers retrieved for \"ecology\"\n",
      "Page 326: 65200 papers retrieved for \"ecology\"\n",
      "Page 327: 65400 papers retrieved for \"ecology\"\n",
      "Page 327: 65400 papers retrieved for \"ecology\"\n",
      "Page 328: 65600 papers retrieved for \"ecology\"\n",
      "Page 328: 65600 papers retrieved for \"ecology\"\n",
      "Page 329: 65800 papers retrieved for \"ecology\"\n",
      "Page 329: 65800 papers retrieved for \"ecology\"\n",
      "Page 330: 66000 papers retrieved for \"ecology\"\n",
      "Page 330: 66000 papers retrieved for \"ecology\"\n",
      "Page 331: 66200 papers retrieved for \"ecology\"\n",
      "Page 331: 66200 papers retrieved for \"ecology\"\n",
      "Page 332: 66400 papers retrieved for \"ecology\"\n",
      "Page 332: 66400 papers retrieved for \"ecology\"\n",
      "Page 333: 66600 papers retrieved for \"ecology\"\n",
      "Page 333: 66600 papers retrieved for \"ecology\"\n",
      "Page 334: 66800 papers retrieved for \"ecology\"\n",
      "Page 334: 66800 papers retrieved for \"ecology\"\n",
      "Page 335: 67000 papers retrieved for \"ecology\"\n",
      "Page 335: 67000 papers retrieved for \"ecology\"\n",
      "Page 336: 67200 papers retrieved for \"ecology\"\n",
      "Page 336: 67200 papers retrieved for \"ecology\"\n",
      "Page 337: 67400 papers retrieved for \"ecology\"\n",
      "Page 337: 67400 papers retrieved for \"ecology\"\n",
      "Page 338: 67600 papers retrieved for \"ecology\"\n",
      "Page 338: 67600 papers retrieved for \"ecology\"\n",
      "Page 339: 67800 papers retrieved for \"ecology\"\n",
      "Page 339: 67800 papers retrieved for \"ecology\"\n",
      "Page 340: 68000 papers retrieved for \"ecology\"\n",
      "Page 340: 68000 papers retrieved for \"ecology\"\n",
      "Page 341: 68200 papers retrieved for \"ecology\"\n",
      "Page 341: 68200 papers retrieved for \"ecology\"\n",
      "Page 342: 68400 papers retrieved for \"ecology\"\n",
      "Page 342: 68400 papers retrieved for \"ecology\"\n",
      "Page 343: 68600 papers retrieved for \"ecology\"\n",
      "Page 343: 68600 papers retrieved for \"ecology\"\n",
      "Page 344: 68800 papers retrieved for \"ecology\"\n",
      "Page 344: 68800 papers retrieved for \"ecology\"\n",
      "Page 345: 69000 papers retrieved for \"ecology\"\n",
      "Page 345: 69000 papers retrieved for \"ecology\"\n",
      "Page 346: 69200 papers retrieved for \"ecology\"\n",
      "Page 346: 69200 papers retrieved for \"ecology\"\n",
      "Page 347: 69400 papers retrieved for \"ecology\"\n",
      "Page 347: 69400 papers retrieved for \"ecology\"\n",
      "Page 348: 69600 papers retrieved for \"ecology\"\n",
      "Page 348: 69600 papers retrieved for \"ecology\"\n",
      "Page 349: 69800 papers retrieved for \"ecology\"\n",
      "Page 349: 69800 papers retrieved for \"ecology\"\n",
      "Page 350: 70000 papers retrieved for \"ecology\"\n",
      "Page 350: 70000 papers retrieved for \"ecology\"\n",
      "Page 351: 70200 papers retrieved for \"ecology\"\n",
      "Page 351: 70200 papers retrieved for \"ecology\"\n",
      "Page 352: 70400 papers retrieved for \"ecology\"\n",
      "Page 352: 70400 papers retrieved for \"ecology\"\n",
      "Page 353: 70600 papers retrieved for \"ecology\"\n",
      "Page 353: 70600 papers retrieved for \"ecology\"\n",
      "Page 354: 70800 papers retrieved for \"ecology\"\n",
      "Page 354: 70800 papers retrieved for \"ecology\"\n",
      "Page 355: 71000 papers retrieved for \"ecology\"\n",
      "Page 355: 71000 papers retrieved for \"ecology\"\n",
      "Page 356: 71200 papers retrieved for \"ecology\"\n",
      "Page 356: 71200 papers retrieved for \"ecology\"\n",
      "Page 357: 71400 papers retrieved for \"ecology\"\n",
      "Page 357: 71400 papers retrieved for \"ecology\"\n",
      "Page 358: 71600 papers retrieved for \"ecology\"\n",
      "Page 358: 71600 papers retrieved for \"ecology\"\n",
      "Page 359: 71800 papers retrieved for \"ecology\"\n",
      "Page 359: 71800 papers retrieved for \"ecology\"\n",
      "Page 360: 72000 papers retrieved for \"ecology\"\n",
      "Page 360: 72000 papers retrieved for \"ecology\"\n",
      "Page 361: 72200 papers retrieved for \"ecology\"\n",
      "Page 361: 72200 papers retrieved for \"ecology\"\n",
      "Page 362: 72400 papers retrieved for \"ecology\"\n",
      "Page 362: 72400 papers retrieved for \"ecology\"\n",
      "Page 363: 72600 papers retrieved for \"ecology\"\n",
      "Page 363: 72600 papers retrieved for \"ecology\"\n",
      "Page 364: 72800 papers retrieved for \"ecology\"\n",
      "Page 364: 72800 papers retrieved for \"ecology\"\n",
      "Page 365: 73000 papers retrieved for \"ecology\"\n",
      "Page 365: 73000 papers retrieved for \"ecology\"\n",
      "Page 366: 73200 papers retrieved for \"ecology\"\n",
      "Page 366: 73200 papers retrieved for \"ecology\"\n",
      "Page 367: 73400 papers retrieved for \"ecology\"\n",
      "Page 367: 73400 papers retrieved for \"ecology\"\n",
      "Page 368: 73600 papers retrieved for \"ecology\"\n",
      "Page 368: 73600 papers retrieved for \"ecology\"\n",
      "Page 369: 73800 papers retrieved for \"ecology\"\n",
      "Page 369: 73800 papers retrieved for \"ecology\"\n",
      "Page 370: 74000 papers retrieved for \"ecology\"\n",
      "Page 370: 74000 papers retrieved for \"ecology\"\n",
      "Page 371: 74200 papers retrieved for \"ecology\"\n",
      "Page 371: 74200 papers retrieved for \"ecology\"\n",
      "Page 372: 74400 papers retrieved for \"ecology\"\n",
      "Page 372: 74400 papers retrieved for \"ecology\"\n",
      "Page 373: 74600 papers retrieved for \"ecology\"\n",
      "Page 373: 74600 papers retrieved for \"ecology\"\n",
      "Page 374: 74800 papers retrieved for \"ecology\"\n",
      "Page 374: 74800 papers retrieved for \"ecology\"\n",
      "Page 375: 75000 papers retrieved for \"ecology\"\n",
      "Page 375: 75000 papers retrieved for \"ecology\"\n",
      "Page 376: 75200 papers retrieved for \"ecology\"\n",
      "Page 376: 75200 papers retrieved for \"ecology\"\n",
      "Page 377: 75400 papers retrieved for \"ecology\"\n",
      "Page 377: 75400 papers retrieved for \"ecology\"\n",
      "Page 378: 75600 papers retrieved for \"ecology\"\n",
      "Page 378: 75600 papers retrieved for \"ecology\"\n",
      "Page 379: 75800 papers retrieved for \"ecology\"\n",
      "Page 379: 75800 papers retrieved for \"ecology\"\n",
      "Page 380: 76000 papers retrieved for \"ecology\"\n",
      "Page 380: 76000 papers retrieved for \"ecology\"\n",
      "Page 381: 76200 papers retrieved for \"ecology\"\n",
      "Page 381: 76200 papers retrieved for \"ecology\"\n",
      "Page 382: 76400 papers retrieved for \"ecology\"\n",
      "Page 382: 76400 papers retrieved for \"ecology\"\n",
      "Page 383: 76600 papers retrieved for \"ecology\"\n",
      "Page 383: 76600 papers retrieved for \"ecology\"\n",
      "Page 384: 76800 papers retrieved for \"ecology\"\n",
      "Page 384: 76800 papers retrieved for \"ecology\"\n",
      "Page 385: 77000 papers retrieved for \"ecology\"\n",
      "Page 385: 77000 papers retrieved for \"ecology\"\n",
      "Page 386: 77200 papers retrieved for \"ecology\"\n",
      "Page 386: 77200 papers retrieved for \"ecology\"\n",
      "Page 387: 77400 papers retrieved for \"ecology\"\n",
      "Page 387: 77400 papers retrieved for \"ecology\"\n",
      "Page 388: 77600 papers retrieved for \"ecology\"\n",
      "Page 388: 77600 papers retrieved for \"ecology\"\n",
      "Page 389: 77800 papers retrieved for \"ecology\"\n",
      "Page 389: 77800 papers retrieved for \"ecology\"\n",
      "Page 390: 78000 papers retrieved for \"ecology\"\n",
      "Page 390: 78000 papers retrieved for \"ecology\"\n",
      "Page 391: 78200 papers retrieved for \"ecology\"\n",
      "Page 391: 78200 papers retrieved for \"ecology\"\n",
      "Page 392: 78400 papers retrieved for \"ecology\"\n",
      "Page 392: 78400 papers retrieved for \"ecology\"\n",
      "Page 393: 78600 papers retrieved for \"ecology\"\n",
      "Page 393: 78600 papers retrieved for \"ecology\"\n",
      "Page 394: 78800 papers retrieved for \"ecology\"\n",
      "Page 394: 78800 papers retrieved for \"ecology\"\n",
      "Page 395: 79000 papers retrieved for \"ecology\"\n",
      "Page 395: 79000 papers retrieved for \"ecology\"\n",
      "Page 396: 79200 papers retrieved for \"ecology\"\n",
      "Page 396: 79200 papers retrieved for \"ecology\"\n",
      "Page 397: 79400 papers retrieved for \"ecology\"\n",
      "Page 397: 79400 papers retrieved for \"ecology\"\n",
      "Page 398: 79600 papers retrieved for \"ecology\"\n",
      "Page 398: 79600 papers retrieved for \"ecology\"\n",
      "Page 399: 79800 papers retrieved for \"ecology\"\n",
      "Page 399: 79800 papers retrieved for \"ecology\"\n",
      "Page 400: 80000 papers retrieved for \"ecology\"\n",
      "Page 400: 80000 papers retrieved for \"ecology\"\n",
      "Page 401: 80200 papers retrieved for \"ecology\"\n",
      "Page 401: 80200 papers retrieved for \"ecology\"\n",
      "Page 402: 80400 papers retrieved for \"ecology\"\n",
      "Page 402: 80400 papers retrieved for \"ecology\"\n",
      "Page 403: 80600 papers retrieved for \"ecology\"\n",
      "Page 403: 80600 papers retrieved for \"ecology\"\n",
      "Page 404: 80800 papers retrieved for \"ecology\"\n",
      "Page 404: 80800 papers retrieved for \"ecology\"\n",
      "Page 405: 81000 papers retrieved for \"ecology\"\n",
      "Page 405: 81000 papers retrieved for \"ecology\"\n",
      "Page 406: 81200 papers retrieved for \"ecology\"\n",
      "Page 406: 81200 papers retrieved for \"ecology\"\n",
      "Page 407: 81400 papers retrieved for \"ecology\"\n",
      "Page 407: 81400 papers retrieved for \"ecology\"\n",
      "Page 408: 81600 papers retrieved for \"ecology\"\n",
      "Page 408: 81600 papers retrieved for \"ecology\"\n",
      "Page 409: 81800 papers retrieved for \"ecology\"\n",
      "Page 409: 81800 papers retrieved for \"ecology\"\n",
      "Page 410: 82000 papers retrieved for \"ecology\"\n",
      "Page 410: 82000 papers retrieved for \"ecology\"\n",
      "Request error on attempt 1 for \"ecology\" page 411: HTTPSConnectionPool(host='api.openalex.org', port=443): Read timed out. (read timeout=30)\n",
      "Retrying after 5 seconds...\n",
      "Request error on attempt 1 for \"ecology\" page 411: HTTPSConnectionPool(host='api.openalex.org', port=443): Read timed out. (read timeout=30)\n",
      "Retrying after 5 seconds...\n",
      "Page 411: 82200 papers retrieved for \"ecology\"\n",
      "Page 411: 82200 papers retrieved for \"ecology\"\n",
      "Page 412: 82400 papers retrieved for \"ecology\"\n",
      "Page 412: 82400 papers retrieved for \"ecology\"\n",
      "Page 413: 82600 papers retrieved for \"ecology\"\n",
      "Page 413: 82600 papers retrieved for \"ecology\"\n",
      "Page 414: 82800 papers retrieved for \"ecology\"\n",
      "Page 414: 82800 papers retrieved for \"ecology\"\n",
      "Page 415: 83000 papers retrieved for \"ecology\"\n",
      "Page 415: 83000 papers retrieved for \"ecology\"\n",
      "Page 416: 83200 papers retrieved for \"ecology\"\n",
      "Page 416: 83200 papers retrieved for \"ecology\"\n",
      "Page 417: 83400 papers retrieved for \"ecology\"\n",
      "Page 417: 83400 papers retrieved for \"ecology\"\n",
      "Page 418: 83600 papers retrieved for \"ecology\"\n",
      "Page 418: 83600 papers retrieved for \"ecology\"\n",
      "Page 419: 83800 papers retrieved for \"ecology\"\n",
      "Page 419: 83800 papers retrieved for \"ecology\"\n",
      "Page 420: 84000 papers retrieved for \"ecology\"\n",
      "Page 420: 84000 papers retrieved for \"ecology\"\n",
      "Page 421: 84200 papers retrieved for \"ecology\"\n",
      "Page 421: 84200 papers retrieved for \"ecology\"\n",
      "Page 422: 84400 papers retrieved for \"ecology\"\n",
      "Page 422: 84400 papers retrieved for \"ecology\"\n",
      "Page 423: 84600 papers retrieved for \"ecology\"\n",
      "Page 423: 84600 papers retrieved for \"ecology\"\n",
      "Page 424: 84800 papers retrieved for \"ecology\"\n",
      "Page 424: 84800 papers retrieved for \"ecology\"\n",
      "Page 425: 85000 papers retrieved for \"ecology\"\n",
      "Page 425: 85000 papers retrieved for \"ecology\"\n",
      "Page 426: 85200 papers retrieved for \"ecology\"\n",
      "Page 426: 85200 papers retrieved for \"ecology\"\n",
      "Page 427: 85400 papers retrieved for \"ecology\"\n",
      "Page 427: 85400 papers retrieved for \"ecology\"\n",
      "Page 428: 85600 papers retrieved for \"ecology\"\n",
      "Page 428: 85600 papers retrieved for \"ecology\"\n",
      "Page 429: 85800 papers retrieved for \"ecology\"\n",
      "Page 429: 85800 papers retrieved for \"ecology\"\n",
      "Page 430: 86000 papers retrieved for \"ecology\"\n",
      "Page 430: 86000 papers retrieved for \"ecology\"\n",
      "Page 431: 86200 papers retrieved for \"ecology\"\n",
      "Page 431: 86200 papers retrieved for \"ecology\"\n",
      "Page 432: 86400 papers retrieved for \"ecology\"\n",
      "Page 432: 86400 papers retrieved for \"ecology\"\n",
      "Page 433: 86600 papers retrieved for \"ecology\"\n",
      "Page 433: 86600 papers retrieved for \"ecology\"\n",
      "Page 434: 86800 papers retrieved for \"ecology\"\n",
      "Page 434: 86800 papers retrieved for \"ecology\"\n",
      "Page 435: 87000 papers retrieved for \"ecology\"\n",
      "Page 435: 87000 papers retrieved for \"ecology\"\n",
      "Page 436: 87200 papers retrieved for \"ecology\"\n",
      "Page 436: 87200 papers retrieved for \"ecology\"\n",
      "Page 437: 87400 papers retrieved for \"ecology\"\n",
      "Page 437: 87400 papers retrieved for \"ecology\"\n",
      "Page 438: 87600 papers retrieved for \"ecology\"\n",
      "Page 438: 87600 papers retrieved for \"ecology\"\n",
      "Page 439: 87800 papers retrieved for \"ecology\"\n",
      "Page 439: 87800 papers retrieved for \"ecology\"\n",
      "Page 440: 88000 papers retrieved for \"ecology\"\n",
      "Page 440: 88000 papers retrieved for \"ecology\"\n",
      "Page 441: 88200 papers retrieved for \"ecology\"\n",
      "Page 441: 88200 papers retrieved for \"ecology\"\n",
      "Page 442: 88400 papers retrieved for \"ecology\"\n",
      "Page 442: 88400 papers retrieved for \"ecology\"\n",
      "Page 443: 88600 papers retrieved for \"ecology\"\n",
      "Page 443: 88600 papers retrieved for \"ecology\"\n",
      "Page 444: 88800 papers retrieved for \"ecology\"\n",
      "Page 444: 88800 papers retrieved for \"ecology\"\n",
      "Page 445: 89000 papers retrieved for \"ecology\"\n",
      "Page 445: 89000 papers retrieved for \"ecology\"\n",
      "Page 446: 89200 papers retrieved for \"ecology\"\n",
      "Page 446: 89200 papers retrieved for \"ecology\"\n",
      "Page 447: 89400 papers retrieved for \"ecology\"\n",
      "Page 447: 89400 papers retrieved for \"ecology\"\n",
      "Page 448: 89600 papers retrieved for \"ecology\"\n",
      "Page 448: 89600 papers retrieved for \"ecology\"\n",
      "Page 449: 89800 papers retrieved for \"ecology\"\n",
      "Page 449: 89800 papers retrieved for \"ecology\"\n",
      "Page 450: 90000 papers retrieved for \"ecology\"\n",
      "Page 450: 90000 papers retrieved for \"ecology\"\n",
      "Page 451: 90200 papers retrieved for \"ecology\"\n",
      "Page 451: 90200 papers retrieved for \"ecology\"\n",
      "Page 452: 90400 papers retrieved for \"ecology\"\n",
      "Page 452: 90400 papers retrieved for \"ecology\"\n",
      "Page 453: 90600 papers retrieved for \"ecology\"\n",
      "Page 453: 90600 papers retrieved for \"ecology\"\n",
      "Page 454: 90800 papers retrieved for \"ecology\"\n",
      "Page 454: 90800 papers retrieved for \"ecology\"\n",
      "Page 455: 91000 papers retrieved for \"ecology\"\n",
      "Page 455: 91000 papers retrieved for \"ecology\"\n",
      "Page 456: 91200 papers retrieved for \"ecology\"\n",
      "Page 456: 91200 papers retrieved for \"ecology\"\n",
      "Page 457: 91400 papers retrieved for \"ecology\"\n",
      "Page 457: 91400 papers retrieved for \"ecology\"\n",
      "Page 458: 91600 papers retrieved for \"ecology\"\n",
      "Page 458: 91600 papers retrieved for \"ecology\"\n",
      "Page 459: 91800 papers retrieved for \"ecology\"\n",
      "Page 459: 91800 papers retrieved for \"ecology\"\n",
      "Page 460: 92000 papers retrieved for \"ecology\"\n",
      "Page 460: 92000 papers retrieved for \"ecology\"\n",
      "Page 461: 92200 papers retrieved for \"ecology\"\n",
      "Page 461: 92200 papers retrieved for \"ecology\"\n",
      "Page 462: 92400 papers retrieved for \"ecology\"\n",
      "Page 462: 92400 papers retrieved for \"ecology\"\n",
      "Page 463: 92600 papers retrieved for \"ecology\"\n",
      "Page 463: 92600 papers retrieved for \"ecology\"\n",
      "Page 464: 92800 papers retrieved for \"ecology\"\n",
      "Page 464: 92800 papers retrieved for \"ecology\"\n",
      "Page 465: 93000 papers retrieved for \"ecology\"\n",
      "Page 465: 93000 papers retrieved for \"ecology\"\n",
      "Page 466: 93200 papers retrieved for \"ecology\"\n",
      "Page 466: 93200 papers retrieved for \"ecology\"\n",
      "Page 467: 93400 papers retrieved for \"ecology\"\n",
      "Page 467: 93400 papers retrieved for \"ecology\"\n",
      "Page 468: 93542 papers retrieved for \"ecology\"\n",
      "Page 468: 93542 papers retrieved for \"ecology\"\n",
      "No more papers available for \"ecology\" (reached end of results)\n",
      "Completed all available results for \"ecology\" (total: 93542 papers across 469 pages)\n",
      "\n",
      "All keywords processed.\n",
      "No more papers available for \"ecology\" (reached end of results)\n",
      "Completed all available results for \"ecology\" (total: 93542 papers across 469 pages)\n",
      "\n",
      "All keywords processed.\n"
     ]
    }
   ],
   "source": [
    "# === Main loop for paper retrieval from OpenAlex ===\n",
    "\n",
    "init_table(PAPERS_DB_PATH, 'papers', papers_schema)\n",
    "\n",
    "for keyword in query_list:\n",
    "    print(f'\\nProcessing keyword: \"{keyword}\"')\n",
    "\n",
    "    if is_done(keyword):\n",
    "        print(f'Keyword \"{keyword}\" already completed. Skipping.')\n",
    "        continue\n",
    "\n",
    "    current_cursor = load_cursor(keyword)\n",
    "    if current_cursor:\n",
    "        print(f'Resuming from saved cursor for \"{keyword}\"')\n",
    "        cursor = current_cursor\n",
    "    else:\n",
    "        print(f'Starting fresh for keyword \"{keyword}\"')\n",
    "        cursor = '*'\n",
    "\n",
    "    retrieved = 0\n",
    "    page_count = 0\n",
    "\n",
    "    while True:\n",
    "        page_count += 1\n",
    "        \n",
    "        params = {\n",
    "            'search': keyword,\n",
    "            'filter': f'type:journal-article|book|book-chapter|monograph,publication_year:{YEAR_RANGE}',\n",
    "            'per_page': 200,\n",
    "            'cursor': cursor,\n",
    "            'mailto': 'andre.borja.miranda@gmail.com'\n",
    "        }\n",
    "\n",
    "        for attempt in range(2):\n",
    "            try:\n",
    "                sys.stdout.flush() # Flush statements to avoid an issue that waas happening where print statements were duplicated after the request\n",
    "                \n",
    "                response = requests.get(BASE_URL, params=params, timeout=30)\n",
    "                response.raise_for_status()\n",
    "                \n",
    "                sys.stdout.flush()\n",
    "                \n",
    "                data = response.json()\n",
    "                break\n",
    "            except requests.exceptions.RequestException as e:\n",
    "                print(f'Request error on attempt {attempt+1} for \"{keyword}\" page {page_count}: {e}')\n",
    "                if attempt == 0:\n",
    "                    print(f'Retrying after {RETRY_DELAY} seconds...')\n",
    "                    time.sleep(RETRY_DELAY)\n",
    "                else:\n",
    "                    print('Skipping this batch due to repeated failure.')\n",
    "                    data = None\n",
    "\n",
    "        if data is None:\n",
    "            print(f'No data retrieved for keyword \"{keyword}\" page {page_count}, breaking loop.')\n",
    "            break\n",
    "\n",
    "        if 'error' in data:\n",
    "            print(f'API Error for \"{keyword}\": {data.get(\"message\", \"Unknown error\")}')\n",
    "            break\n",
    "\n",
    "        papers = data.get('results', [])\n",
    "        if not papers:\n",
    "            print(f'No more papers available for \"{keyword}\" (reached end of results)')\n",
    "            print(f'Completed all available results for \"{keyword}\" (total: {retrieved} papers across {page_count} pages)')\n",
    "            delete_cursor(keyword)\n",
    "            mark_done(keyword)\n",
    "            break\n",
    "\n",
    "        retrieved += len(papers)\n",
    "        print(f'Page {page_count}: {retrieved} papers retrieved for \"{keyword}\"')\n",
    "\n",
    "        for paper in papers:\n",
    "            save_paper_to_db(paper, keyword)\n",
    "\n",
    "        meta = data.get('meta', {})\n",
    "        next_cursor = meta.get('next_cursor')\n",
    "        \n",
    "        if next_cursor:\n",
    "            cursor = next_cursor\n",
    "            save_cursor(keyword, cursor)\n",
    "            time.sleep(DELAY)\n",
    "            \n",
    "        else:\n",
    "            #Fallback redundancy in case the \"if not papers\" check fails\n",
    "            print(f'No more cursor available for \"{keyword}\" (total: {retrieved} papers across {page_count} pages)')\n",
    "            delete_cursor(keyword)\n",
    "            mark_done(keyword)\n",
    "            break\n",
    "\n",
    "print('\\nAll keywords processed.')"
   ]
  },
  {
   "cell_type": "markdown",
   "id": "e1197d5d",
   "metadata": {},
   "source": [
    "#### === Author Data Retrieval Loop ==="
   ]
  },
  {
   "cell_type": "code",
   "execution_count": null,
   "id": "c59a1b13",
   "metadata": {},
   "outputs": [],
   "source": [
    "unique_author_ids = get_unique_author_ids()\n",
    "print(f'Found {len(unique_author_ids)} unique first authors')\n",
    "\n",
    "# Check existing authors\n",
    "init_table(PAPERS_DB_PATH, 'authors', authors_schema)\n",
    "\n",
    "with sqlite3.connect(PAPERS_DB_PATH) as conn:\n",
    "    try:\n",
    "        existing_authors = pd.read_sql_query('SELECT COUNT(*) as count FROM authors', conn)\n",
    "        existing_count = existing_authors['count'].iloc[0]\n",
    "        print(f'Existing authors in database: {existing_count}')\n",
    "        \n",
    "        # Check institution coverage\n",
    "        institution_stats = pd.read_sql_query(\"\"\"\n",
    "        SELECT \n",
    "            COUNT(*) as total_authors,\n",
    "            COUNT(last_known_institution_name) as authors_with_institutions,\n",
    "            COUNT(last_known_institution_ror) as authors_with_ror\n",
    "        FROM authors\n",
    "        \"\"\", conn).iloc[0]\n",
    "        \n",
    "        print(f'Current institution coverage:')\n",
    "        print(f'  Authors with institution names: {institution_stats[\"authors_with_institutions\"]:,} ({institution_stats[\"authors_with_institutions\"]/institution_stats[\"total_authors\"]*100:.1f}%)')\n",
    "        print(f'  Authors with ROR IDs: {institution_stats[\"authors_with_ror\"]:,} ({institution_stats[\"authors_with_ror\"]/institution_stats[\"total_authors\"]*100:.1f}%)')\n",
    "        \n",
    "    except:\n",
    "        existing_count = 0\n",
    "        print('No existing authors table found - created new one')\n",
    "\n",
    "# Determine which authors to fetch - include those missing institution data\n",
    "if existing_count > 0:\n",
    "    with sqlite3.connect(PAPERS_DB_PATH) as conn:\n",
    "        # Get authors that either don't exist OR are missing institution data\n",
    "        authors_needing_fetch = pd.read_sql_query(\"\"\"\n",
    "        SELECT DISTINCT p.firstAuthorId\n",
    "        FROM papers p\n",
    "        WHERE p.firstAuthorId IS NOT NULL \n",
    "        AND p.firstAuthorId != ''\n",
    "        AND (\n",
    "            -- Author doesn't exist in authors table\n",
    "            NOT EXISTS (SELECT 1 FROM authors a WHERE a.authorId = p.firstAuthorId)\n",
    "            OR\n",
    "            -- Author exists but missing institution data\n",
    "            EXISTS (\n",
    "                SELECT 1 FROM authors a \n",
    "                WHERE a.authorId = p.firstAuthorId \n",
    "                AND (a.last_known_institution_name IS NULL OR a.last_known_institution_name = '')\n",
    "            )\n",
    "        )\n",
    "        ORDER BY p.firstAuthorId\n",
    "        \"\"\", conn)\n",
    "        \n",
    "        authors_to_fetch = authors_needing_fetch['firstAuthorId'].tolist()\n",
    "        \n",
    "        # Separate new vs re-fetch for reporting\n",
    "        existing_ids_set = set(pd.read_sql_query('SELECT authorId FROM authors', conn)['authorId'])\n",
    "        new_author_ids = [aid for aid in authors_to_fetch if aid not in existing_ids_set]\n",
    "        refetch_author_ids = [aid for aid in authors_to_fetch if aid in existing_ids_set]\n",
    "        \n",
    "        print(f'New authors to fetch: {len(new_author_ids)}')\n",
    "        print(f'Existing authors to re-fetch (missing institutions): {len(refetch_author_ids)}')\n",
    "        print(f'Total authors to process: {len(authors_to_fetch)}')\n",
    "        \n",
    "else:\n",
    "    authors_to_fetch = unique_author_ids\n",
    "    new_author_ids = authors_to_fetch\n",
    "    refetch_author_ids = []\n",
    "    print(f'Fetching all {len(unique_author_ids)} authors')\n",
    "\n",
    "if len(authors_to_fetch) == 0:\n",
    "    print('All authors already in database with complete institution data!')\n",
    "else:\n",
    "    total_authors = len(authors_to_fetch)\n",
    "    processed = 0\n",
    "    successful = 0\n",
    "    updated_institutions = 0\n",
    "    batch_size = 50  # OpenAlex max per request\n",
    "    \n",
    "    print(f'\\nStarting enhanced author retrieval: {total_authors} authors')\n",
    "    print(f'   - {len(new_author_ids)} new authors')\n",
    "    print(f'   - {len(refetch_author_ids)} re-fetch for missing institutions')\n",
    "    \n",
    "    for i in range(0, total_authors, batch_size):\n",
    "        batch = authors_to_fetch[i:i + batch_size]\n",
    "        batch_urls = [f'https://openalex.org/{author_id}' for author_id in batch]\n",
    "        \n",
    "        params = {\n",
    "            'filter': f'openalex_id:{\"|\".join(batch_urls)}',\n",
    "            'per_page': len(batch),\n",
    "            'mailto': 'andre.borja.miranda@gmail.com'\n",
    "        }\n",
    "        \n",
    "        batch_num = i//batch_size + 1\n",
    "        total_batches = (total_authors + batch_size - 1)//batch_size\n",
    "        \n",
    "        for attempt in range(2):\n",
    "            try:\n",
    "                print(f'Batch {batch_num}/{total_batches}: Fetching authors {i+1}-{min(i+batch_size, total_authors)}...')\n",
    "                \n",
    "                sys.stdout.flush()\n",
    "                response = requests.get(AUTHOR_URL, params=params, timeout=30)\n",
    "                response.raise_for_status()\n",
    "                sys.stdout.flush()\n",
    "                \n",
    "                data = response.json()\n",
    "                break\n",
    "                \n",
    "            except requests.exceptions.RequestException as e:\n",
    "                print(f'Request error on attempt {attempt+1}: {e}')\n",
    "                if attempt == 0:\n",
    "                    print(f'Retrying after {RETRY_DELAY} seconds...')\n",
    "                    time.sleep(RETRY_DELAY)\n",
    "                else:\n",
    "                    print('Skipping this batch due to repeated failure.')\n",
    "                    data = None\n",
    "        \n",
    "        if data is None:\n",
    "            continue\n",
    "            \n",
    "        if 'error' in data:\n",
    "            print(f'API Error: {data.get(\"message\", \"Unknown error\")}')\n",
    "            continue\n",
    "            \n",
    "        authors = data.get('results', [])\n",
    "        \n",
    "        # Save each author to database and track institution updates\n",
    "        batch_successful = 0\n",
    "        batch_institution_updates = 0\n",
    "        \n",
    "        for author in authors:\n",
    "            author_id = author.get('id', '').replace('https://openalex.org/', '')\n",
    "            was_refetch = author_id in refetch_author_ids\n",
    "            \n",
    "            had_institution_before = False\n",
    "            if was_refetch:\n",
    "                with sqlite3.connect(PAPERS_DB_PATH) as conn:\n",
    "                    existing_institution = pd.read_sql_query(\"\"\"\n",
    "                    SELECT last_known_institution_name \n",
    "                    FROM authors \n",
    "                    WHERE authorId = ?\n",
    "                    \"\"\", conn, params=(author_id,))\n",
    "                    \n",
    "                    if not existing_institution.empty:\n",
    "                        had_institution_before = bool(existing_institution.iloc[0]['last_known_institution_name'])\n",
    "            \n",
    "            if save_author_to_db(author):\n",
    "                batch_successful += 1\n",
    "                \n",
    "                if was_refetch and not had_institution_before:\n",
    "                    last_known_institutions = author.get('last_known_institutions', [])\n",
    "                    if last_known_institutions and len(last_known_institutions) > 0:\n",
    "                        institution = last_known_institutions[0]\n",
    "                        if institution.get('display_name'):\n",
    "                            batch_institution_updates += 1\n",
    "        \n",
    "        successful += batch_successful\n",
    "        updated_institutions += batch_institution_updates\n",
    "        processed += len(batch)\n",
    "        \n",
    "        print(f'Batch results: {batch_successful}/{len(batch)} saved, {batch_institution_updates} new institution data')\n",
    "        \n",
    "        # Rate limiting\n",
    "        if i + batch_size < total_authors:\n",
    "            time.sleep(DELAY)\n",
    "    \n",
    "    print(f'\\nEnhanced author retrieval completed!')\n",
    "    print(f'Results: {successful}/{processed} authors successfully processed')\n",
    "    print(f'Institution updates: {updated_institutions} authors gained institution data')\n",
    "\n",
    "# Enhanced Summary\n",
    "print('\\n' + '='*60)\n",
    "print('ENHANCED AUTHOR DATA SUMMARY')\n",
    "print('='*60)\n",
    "\n",
    "with sqlite3.connect(PAPERS_DB_PATH) as conn:\n",
    "    summary_stats = pd.read_sql_query(\"\"\"\n",
    "    SELECT \n",
    "        COUNT(*) as total_authors,\n",
    "        COUNT(last_known_institution_name) as authors_with_institutions,\n",
    "        COUNT(last_known_institution_ror) as authors_with_ror,\n",
    "        COUNT(DISTINCT last_known_institution_ror) as unique_ror_institutions,\n",
    "        \n",
    "        -- Coverage improvement metrics\n",
    "        ROUND(COUNT(last_known_institution_name) * 100.0 / COUNT(*), 1) as institution_coverage_pct,\n",
    "        ROUND(COUNT(last_known_institution_ror) * 100.0 / COUNT(*), 1) as ror_coverage_pct\n",
    "    FROM authors\n",
    "    \"\"\", conn)\n",
    "    \n",
    "    missing_institutions = pd.read_sql_query(\"\"\"\n",
    "    SELECT COUNT(*) as authors_missing_institutions\n",
    "    FROM authors\n",
    "    WHERE last_known_institution_name IS NULL OR last_known_institution_name = ''\n",
    "    \"\"\", conn).iloc[0]['authors_missing_institutions']\n",
    "    \n",
    "    stats = summary_stats.iloc[0]\n",
    "    print(f\"Total authors: {stats['total_authors']:,}\")\n",
    "    print(f\"Authors with institutions: {stats['authors_with_institutions']:,} ({stats['institution_coverage_pct']}%)\")\n",
    "    print(f\"Authors with ROR IDs: {stats['authors_with_ror']:,} ({stats['ror_coverage_pct']}%)\")\n",
    "    print(f\"Unique institutions (ROR): {stats['unique_ror_institutions']:,}\")"
   ]
  },
  {
   "cell_type": "markdown",
   "id": "05f978a7",
   "metadata": {},
   "source": [
    "#### === ROR Geographic Data Retrieval ==="
   ]
  },
  {
   "cell_type": "code",
   "execution_count": null,
   "id": "66d8b62f",
   "metadata": {},
   "outputs": [
    {
     "name": "stdout",
     "output_type": "stream",
     "text": [
      "🌍 PHASE 3: ROR GEOGRAPHIC ENHANCEMENT (RESUMABLE)\n",
      "============================================================\n",
      "📈 CURRENT PROGRESS:\n",
      "   Authors with ROR IDs: 41,457\n",
      "   Already have country data: 41,453\n",
      "   Still need country data: 4\n",
      "   Progress: 100.0% complete\n",
      "\n",
      "🎯 RESUMING ENHANCEMENT:\n",
      "   Remaining ROR IDs: 4\n",
      "   Authors to be enhanced: 4\n",
      "   Realistic time estimate: ~0.2 minutes\n",
      "\n",
      "📡 Batch 1/1: Processing 4 ROR IDs...\n",
      "✅ Batch results: 4 successful, 0 failed, 4 DB updates\n",
      "⏱️ Batch took 1.6s (0.41s per request)\n",
      "\n",
      "🎉 ROR enhancement completed in 0.0 minutes!\n",
      "📊 Final results: 4 successful updates, 0 failed requests\n",
      "\n",
      "🔄 Updating papers with author-derived country data...\n",
      "✅ Updated 2 papers with author-derived country data\n",
      "\n",
      "============================================================\n",
      "GEOGRAPHIC ENHANCEMENT SUMMARY\n",
      "============================================================\n",
      "📄 Papers: 66,047.0 total, 52,239.0 with country (79.1%)\n",
      "👥 Authors: 45,805.0 total, 41,457.0 with country data\n",
      "🌏 Unique countries identified: 191.0\n",
      "\n",
      "🎯 Geographic enhancement complete! Ready for visualization.\n",
      "✅ Batch results: 4 successful, 0 failed, 4 DB updates\n",
      "⏱️ Batch took 1.6s (0.41s per request)\n",
      "\n",
      "🎉 ROR enhancement completed in 0.0 minutes!\n",
      "📊 Final results: 4 successful updates, 0 failed requests\n",
      "\n",
      "🔄 Updating papers with author-derived country data...\n",
      "✅ Updated 2 papers with author-derived country data\n",
      "\n",
      "============================================================\n",
      "GEOGRAPHIC ENHANCEMENT SUMMARY\n",
      "============================================================\n",
      "📄 Papers: 66,047.0 total, 52,239.0 with country (79.1%)\n",
      "👥 Authors: 45,805.0 total, 41,457.0 with country data\n",
      "🌏 Unique countries identified: 191.0\n",
      "\n",
      "🎯 Geographic enhancement complete! Ready for visualization.\n"
     ]
    }
   ],
   "source": [
    "\n",
    "# Setup: Add country columns to authors table if needed\n",
    "with sqlite3.connect(PAPERS_DB_PATH) as conn:\n",
    "    c = conn.cursor()\n",
    "    c.execute(\"PRAGMA table_info(authors)\")\n",
    "    existing_columns = {col[1] for col in c.fetchall()}\n",
    "    \n",
    "    for col in ['country_code', 'country_name']:\n",
    "        if col not in existing_columns:\n",
    "            c.execute(f\"ALTER TABLE authors ADD COLUMN {col} TEXT\")\n",
    "            print(f\"Added {col} column to authors table\")\n",
    "    \n",
    "    conn.commit()\n",
    "\n",
    "# Check current progress and get remaining ROR IDs\n",
    "with sqlite3.connect(PAPERS_DB_PATH) as conn:\n",
    "    progress_stats = pd.read_sql_query(\"\"\"\n",
    "    SELECT \n",
    "        COUNT(*) as total_authors_with_ror,\n",
    "        COUNT(country_code) as authors_with_country,\n",
    "        COUNT(*) - COUNT(country_code) as authors_missing_country\n",
    "    FROM authors \n",
    "    WHERE last_known_institution_ror IS NOT NULL\n",
    "    \"\"\", conn).iloc[0]\n",
    "    \n",
    "    print(f\"CURRENT PROGRESS:\")\n",
    "    print(f\"   Authors with ROR IDs: {progress_stats['total_authors_with_ror']:,}\")\n",
    "    print(f\"   Already have country data: {progress_stats['authors_with_country']:,}\")\n",
    "    print(f\"   Still need country data: {progress_stats['authors_missing_country']:,}\")\n",
    "    \n",
    "    if progress_stats['authors_with_country'] > 0:\n",
    "        completion_pct = (progress_stats['authors_with_country'] / progress_stats['total_authors_with_ror']) * 100\n",
    "        print(f\"   Progress: {completion_pct:.1f}% complete\")\n",
    "    \n",
    "    ror_stats = pd.read_sql_query(\"\"\"\n",
    "    SELECT last_known_institution_ror, COUNT(DISTINCT authorId) as author_count\n",
    "    FROM authors \n",
    "    WHERE last_known_institution_ror IS NOT NULL \n",
    "    AND (country_code IS NULL OR country_code = '')\n",
    "    GROUP BY last_known_institution_ror\n",
    "    ORDER BY author_count DESC\n",
    "    \"\"\", conn)\n",
    "\n",
    "if len(ror_stats) == 0:\n",
    "    print(\"\\nAll authors with ROR IDs already have country data!\")\n",
    "else:\n",
    "    ror_ids_to_fetch = ror_stats['last_known_institution_ror'].tolist()\n",
    "    total_authors_to_enhance = ror_stats['author_count'].sum()\n",
    "    \n",
    "    print(f\"\\nRESUMING ENHANCEMENT:\")\n",
    "    print(f\"   Remaining ROR IDs: {len(ror_ids_to_fetch)}\")\n",
    "    print(f\"   Authors to be enhanced: {total_authors_to_enhance:,}\")\n",
    "    \n",
    "    # Small batches for better resumability\n",
    "    batch_size = 25\n",
    "    successful_total = 0\n",
    "    failed_total = 0\n",
    "    \n",
    "    for i in range(0, len(ror_ids_to_fetch), batch_size):\n",
    "        batch = ror_ids_to_fetch[i:i + batch_size]\n",
    "        batch_num = i // batch_size + 1\n",
    "        total_batches = (len(ror_ids_to_fetch) + batch_size - 1) // batch_size\n",
    "        \n",
    "        print(f\"\\nBatch {batch_num}/{total_batches}: Processing {len(batch)} ROR IDs...\")\n",
    "        \n",
    "        ror_results, batch_successful, batch_failed = get_ror_country_data_robust(batch)\n",
    "        \n",
    "        with sqlite3.connect(PAPERS_DB_PATH) as conn:\n",
    "            c = conn.cursor()\n",
    "            batch_updates = 0\n",
    "            \n",
    "            for ror_id, data in ror_results.items():\n",
    "                if data and data.get('country_code'):\n",
    "                    try:\n",
    "                        c.execute(\"\"\"\n",
    "                        UPDATE authors \n",
    "                        SET country_code = ?, country_name = ? \n",
    "                        WHERE last_known_institution_ror = ?\n",
    "                        \"\"\", (data['country_code'], data['country_name'], ror_id))\n",
    "                        batch_updates += 1\n",
    "                    except sqlite3.Error as e:\n",
    "                        print(f\"DB error for ROR {ror_id}: {e}\")\n",
    "            \n",
    "            conn.commit()\n",
    "            \n",
    "        successful_total += batch_updates\n",
    "        failed_total += batch_failed\n",
    "        \n",
    "        print(f\"Batch results: {batch_successful} successful, {batch_failed} failed, {batch_updates} DB updates\")\n",
    "        print(f\"Overall progress: {batch_num}/{total_batches} batches ({(batch_num/total_batches)*100:.1f}%)\")\n",
    "    \n",
    "    print(f\"Final results: {successful_total} successful updates, {failed_total} failed requests\")\n",
    "\n",
    "print(f\"\\nUpdating papers with author-derived country data...\")\n",
    "\n",
    "with sqlite3.connect(PAPERS_DB_PATH) as conn:\n",
    "    result = conn.execute(\"\"\"\n",
    "    UPDATE papers \n",
    "    SET firstAuthorCountryIso = (\n",
    "        SELECT a.country_code \n",
    "        FROM authors a \n",
    "        WHERE a.authorId = papers.firstAuthorId AND a.country_code IS NOT NULL\n",
    "    )\n",
    "    WHERE firstAuthorCountryIso IS NULL \n",
    "    AND EXISTS (\n",
    "        SELECT 1 FROM authors a \n",
    "        WHERE a.authorId = papers.firstAuthorId AND a.country_code IS NOT NULL\n",
    "    )\n",
    "    \"\"\")\n",
    "    \n",
    "    updated_count = result.rowcount\n",
    "    conn.commit()\n",
    "    print(f\"Updated {updated_count} papers with author-derived country data\")\n",
    "\n",
    "print(f\"\\n{'='*60}\\nGEOGRAPHIC ENHANCEMENT SUMMARY\\n{'='*60}\")\n",
    "\n",
    "with sqlite3.connect(PAPERS_DB_PATH) as conn:\n",
    "    stats = pd.read_sql_query(\"\"\"\n",
    "    SELECT \n",
    "        -- Papers\n",
    "        COUNT(*) as total_papers,\n",
    "        COUNT(firstAuthorCountryIso) as papers_with_country,\n",
    "        ROUND(COUNT(firstAuthorCountryIso) * 100.0 / COUNT(*), 1) as papers_coverage_pct,\n",
    "        \n",
    "        -- Authors  \n",
    "        (SELECT COUNT(*) FROM authors) as total_authors,\n",
    "        (SELECT COUNT(country_code) FROM authors) as authors_with_country,\n",
    "        (SELECT COUNT(DISTINCT country_code) FROM authors WHERE country_code IS NOT NULL) as unique_countries\n",
    "    FROM papers\n",
    "    \"\"\", conn).iloc[0]\n",
    "\n",
    "print(f\"Papers: {stats['total_papers']:,} total, {stats['papers_with_country']:,} with country ({stats['papers_coverage_pct']}%)\")\n",
    "print(f\"Authors: {stats['total_authors']:,} total, {stats['authors_with_country']:,} with country data\")\n",
    "print(f\"Unique countries identified: {stats['unique_countries']:,}\")\n",
    "print(\"\\nGeographic enhancement complete! Ready for visualization.\")"
   ]
  },
  {
   "cell_type": "markdown",
   "id": "3d105746",
   "metadata": {},
   "source": [
    "## Section 3: Data Analysis & Visualization\n",
    "\n",
    "This section contains all the analytical work and visualizations:\n",
    "- Exploratory data analysis\n",
    "- Time series analysis and trend detection\n",
    "- Regression analysis (linear vs exponential growth)\n",
    "- Keyword correlation and co-occurrence analysis  \n",
    "- Geographic mapping and institutional analysis"
   ]
  },
  {
   "cell_type": "code",
   "execution_count": 7,
   "id": "9cb32e8b",
   "metadata": {},
   "outputs": [
    {
     "data": {
      "application/vnd.microsoft.datawrangler.viewer.v0+json": {
       "columns": [
        {
         "name": "index",
         "rawType": "int64",
         "type": "integer"
        },
        {
         "name": "year",
         "rawType": "int64",
         "type": "integer"
        },
        {
         "name": "search_keyword",
         "rawType": "object",
         "type": "string"
        },
        {
         "name": "paper_count",
         "rawType": "int64",
         "type": "integer"
        }
       ],
       "ref": "4721acc8-dadf-429b-a911-88e2ef1f6849",
       "rows": [
        [
         "0",
         "1970",
         "urban biodiversity",
         "1"
        ],
        [
         "1",
         "1970",
         "urban ecology",
         "7"
        ],
        [
         "2",
         "1970",
         "urban ecosystem",
         "1"
        ],
        [
         "3",
         "1970",
         "urban green spaces",
         "10"
        ],
        [
         "4",
         "1970",
         "urban vegetation",
         "14"
        ]
       ],
       "shape": {
        "columns": 3,
        "rows": 5
       }
      },
      "text/html": [
       "<div>\n",
       "<style scoped>\n",
       "    .dataframe tbody tr th:only-of-type {\n",
       "        vertical-align: middle;\n",
       "    }\n",
       "\n",
       "    .dataframe tbody tr th {\n",
       "        vertical-align: top;\n",
       "    }\n",
       "\n",
       "    .dataframe thead th {\n",
       "        text-align: right;\n",
       "    }\n",
       "</style>\n",
       "<table border=\"1\" class=\"dataframe\">\n",
       "  <thead>\n",
       "    <tr style=\"text-align: right;\">\n",
       "      <th></th>\n",
       "      <th>year</th>\n",
       "      <th>search_keyword</th>\n",
       "      <th>paper_count</th>\n",
       "    </tr>\n",
       "  </thead>\n",
       "  <tbody>\n",
       "    <tr>\n",
       "      <th>0</th>\n",
       "      <td>1970</td>\n",
       "      <td>urban biodiversity</td>\n",
       "      <td>1</td>\n",
       "    </tr>\n",
       "    <tr>\n",
       "      <th>1</th>\n",
       "      <td>1970</td>\n",
       "      <td>urban ecology</td>\n",
       "      <td>7</td>\n",
       "    </tr>\n",
       "    <tr>\n",
       "      <th>2</th>\n",
       "      <td>1970</td>\n",
       "      <td>urban ecosystem</td>\n",
       "      <td>1</td>\n",
       "    </tr>\n",
       "    <tr>\n",
       "      <th>3</th>\n",
       "      <td>1970</td>\n",
       "      <td>urban green spaces</td>\n",
       "      <td>10</td>\n",
       "    </tr>\n",
       "    <tr>\n",
       "      <th>4</th>\n",
       "      <td>1970</td>\n",
       "      <td>urban vegetation</td>\n",
       "      <td>14</td>\n",
       "    </tr>\n",
       "  </tbody>\n",
       "</table>\n",
       "</div>"
      ],
      "text/plain": [
       "   year      search_keyword  paper_count\n",
       "0  1970  urban biodiversity            1\n",
       "1  1970       urban ecology            7\n",
       "2  1970     urban ecosystem            1\n",
       "3  1970  urban green spaces           10\n",
       "4  1970    urban vegetation           14"
      ]
     },
     "execution_count": 7,
     "metadata": {},
     "output_type": "execute_result"
    }
   ],
   "source": [
    "with sqlite3.connect(PAPERS_DB_PATH) as conn:\n",
    "    df_raw = pd.read_sql_query(\"\"\"\n",
    "    SELECT year, search_keyword\n",
    "    FROM papers\n",
    "    WHERE search_keyword IS NOT NULL AND search_keyword != ''\n",
    "    \"\"\", conn)\n",
    "\n",
    "rows = []\n",
    "total_rows = []\n",
    "for _, row in df_raw.iterrows():\n",
    "    keywords = [k.strip() for k in row['search_keyword'].split(',')]\n",
    "    total_rows.append({'year': row['year'], 'search_keyword': 'total'})\n",
    "    for keyword in keywords:\n",
    "        if keyword:\n",
    "            rows.append({'year': row['year'], 'search_keyword': keyword})\n",
    "\n",
    "df_keywords = pd.DataFrame(rows).groupby(['year', 'search_keyword']).size().reset_index(name='paper_count')\n",
    "df_totals = pd.DataFrame(total_rows).groupby(['year', 'search_keyword']).size().reset_index(name='paper_count')\n",
    "df_totals['search_keyword'] = 'total'\n",
    "\n",
    "df_keywords = df_keywords.sort_values('year')\n",
    "df_keywords.head()"
   ]
  },
  {
   "cell_type": "code",
   "execution_count": 8,
   "id": "42d7e334",
   "metadata": {},
   "outputs": [],
   "source": [
    "# === Control Analysis on all Ecology Published Papers ===\n",
    "\n",
    "with sqlite3.connect(CONTROL_DB_PATH) as conn:\n",
    "    df_control = pd.read_sql_query(\"\"\"\n",
    "    SELECT year, COUNT(*) as paper_count\n",
    "    FROM papers\n",
    "    WHERE search_keyword IS NOT NULL AND search_keyword != ''\n",
    "    GROUP BY year\n",
    "    ORDER BY year\n",
    "    \"\"\", conn)\n",
    "\n",
    "df_control['search_keyword'] = 'ecology'\n",
    "\n",
    "df_combined = pd.concat([df_totals, df_control], ignore_index=True)"
   ]
  },
  {
   "cell_type": "markdown",
   "id": "5f3f3e27",
   "metadata": {},
   "source": [
    "### Published Papers Time Series\n",
    "\n",
    "We'll start with a simple analysis, simply looking at how many papers were published every year from 1970 to present day. \n",
    "First we look at the full data, looking at the sum of every paper published across every keyword, then at the data per keyword."
   ]
  },
  {
   "cell_type": "code",
   "execution_count": 9,
   "id": "ff9d19e7",
   "metadata": {},
   "outputs": [
    {
     "data": {
      "application/vnd.plotly.v1+json": {
       "config": {
        "plotlyServerURL": "https://plot.ly"
       },
       "data": [
        {
         "hovertemplate": "search_keyword=total<br>year=%{x}<br>paper_count=%{y}<extra></extra>",
         "legendgroup": "total",
         "line": {
          "color": "#FFD700",
          "dash": "solid"
         },
         "marker": {
          "symbol": "circle"
         },
         "mode": "lines+markers",
         "name": "total",
         "orientation": "v",
         "showlegend": true,
         "type": "scatter",
         "x": {
          "bdata": "sgezB7QHtQe2B7cHuAe5B7oHuwe8B70Hvge/B8AHwQfCB8MHxAfFB8YHxwfIB8kHygfLB8wHzQfOB88H0AfRB9IH0wfUB9UH1gfXB9gH2QfaB9sH3AfdB94H3wfgB+EH4gfjB+QH5QfmB+cH",
          "dtype": "i2"
         },
         "xaxis": "x",
         "y": {
          "bdata": "FgAeAB4ALgA2ADAARABBADYAQwBHAGwAWwAzAEoARABVAFAAZwB8AG4AeQCEAKgAngDQALkAsgACARcBhAHyAZgBHQJ3ApgCSQPbAxIEZgUQBcIHSQomCjMK7Q3qEEwTnxdIFV8O2xGiFI8Z",
          "dtype": "i2"
         },
         "yaxis": "y"
        },
        {
         "hovertemplate": "search_keyword=ecology<br>year=%{x}<br>paper_count=%{y}<extra></extra>",
         "legendgroup": "ecology",
         "line": {
          "color": "#2085D2",
          "dash": "solid"
         },
         "marker": {
          "symbol": "circle"
         },
         "mode": "lines+markers",
         "name": "ecology",
         "orientation": "v",
         "showlegend": true,
         "type": "scatter",
         "x": {
          "bdata": "sgezB7QHtQe2B7cHuAe5B7oHuwe8B70Hvge/B8AHwQfCB8MHxAfFB8YHxwfIB8kHygfLB8wHzQfOB88H0AfRB9IH0wfUB9UH1gfXB9gH2QfaB9sH3AfdB94H3wfgB+EH4gfjB+QH5QfmB+cH",
          "dtype": "i2"
         },
         "xaxis": "x",
         "y": {
          "bdata": "ZwCRAJIAsgC4AOwAzADuABoBTAE0Af8AVQEwAX4BJwEfAWQBiQHLAdABHgJEAlECWgLKAsQC6AJKA3AD5wO6BaMEqgSSBaUF8Aa0B7EIaAqECUYMbQ3cDoMNghGWExgX0xmeFvcQmRJOFS4Z",
          "dtype": "i2"
         },
         "yaxis": "y"
        }
       ],
       "layout": {
        "font": {
         "size": 12
        },
        "height": 600,
        "legend": {
         "title": {
          "text": "Keyword"
         },
         "tracegroupgap": 0
        },
        "template": {
         "data": {
          "bar": [
           {
            "error_x": {
             "color": "#f2f5fa"
            },
            "error_y": {
             "color": "#f2f5fa"
            },
            "marker": {
             "line": {
              "color": "rgb(17,17,17)",
              "width": 0.5
             },
             "pattern": {
              "fillmode": "overlay",
              "size": 10,
              "solidity": 0.2
             }
            },
            "type": "bar"
           }
          ],
          "barpolar": [
           {
            "marker": {
             "line": {
              "color": "rgb(17,17,17)",
              "width": 0.5
             },
             "pattern": {
              "fillmode": "overlay",
              "size": 10,
              "solidity": 0.2
             }
            },
            "type": "barpolar"
           }
          ],
          "carpet": [
           {
            "aaxis": {
             "endlinecolor": "#A2B1C6",
             "gridcolor": "#506784",
             "linecolor": "#506784",
             "minorgridcolor": "#506784",
             "startlinecolor": "#A2B1C6"
            },
            "baxis": {
             "endlinecolor": "#A2B1C6",
             "gridcolor": "#506784",
             "linecolor": "#506784",
             "minorgridcolor": "#506784",
             "startlinecolor": "#A2B1C6"
            },
            "type": "carpet"
           }
          ],
          "choropleth": [
           {
            "colorbar": {
             "outlinewidth": 0,
             "ticks": ""
            },
            "type": "choropleth"
           }
          ],
          "contour": [
           {
            "colorbar": {
             "outlinewidth": 0,
             "ticks": ""
            },
            "colorscale": [
             [
              0,
              "#0d0887"
             ],
             [
              0.1111111111111111,
              "#46039f"
             ],
             [
              0.2222222222222222,
              "#7201a8"
             ],
             [
              0.3333333333333333,
              "#9c179e"
             ],
             [
              0.4444444444444444,
              "#bd3786"
             ],
             [
              0.5555555555555556,
              "#d8576b"
             ],
             [
              0.6666666666666666,
              "#ed7953"
             ],
             [
              0.7777777777777778,
              "#fb9f3a"
             ],
             [
              0.8888888888888888,
              "#fdca26"
             ],
             [
              1,
              "#f0f921"
             ]
            ],
            "type": "contour"
           }
          ],
          "contourcarpet": [
           {
            "colorbar": {
             "outlinewidth": 0,
             "ticks": ""
            },
            "type": "contourcarpet"
           }
          ],
          "heatmap": [
           {
            "colorbar": {
             "outlinewidth": 0,
             "ticks": ""
            },
            "colorscale": [
             [
              0,
              "#0d0887"
             ],
             [
              0.1111111111111111,
              "#46039f"
             ],
             [
              0.2222222222222222,
              "#7201a8"
             ],
             [
              0.3333333333333333,
              "#9c179e"
             ],
             [
              0.4444444444444444,
              "#bd3786"
             ],
             [
              0.5555555555555556,
              "#d8576b"
             ],
             [
              0.6666666666666666,
              "#ed7953"
             ],
             [
              0.7777777777777778,
              "#fb9f3a"
             ],
             [
              0.8888888888888888,
              "#fdca26"
             ],
             [
              1,
              "#f0f921"
             ]
            ],
            "type": "heatmap"
           }
          ],
          "histogram": [
           {
            "marker": {
             "pattern": {
              "fillmode": "overlay",
              "size": 10,
              "solidity": 0.2
             }
            },
            "type": "histogram"
           }
          ],
          "histogram2d": [
           {
            "colorbar": {
             "outlinewidth": 0,
             "ticks": ""
            },
            "colorscale": [
             [
              0,
              "#0d0887"
             ],
             [
              0.1111111111111111,
              "#46039f"
             ],
             [
              0.2222222222222222,
              "#7201a8"
             ],
             [
              0.3333333333333333,
              "#9c179e"
             ],
             [
              0.4444444444444444,
              "#bd3786"
             ],
             [
              0.5555555555555556,
              "#d8576b"
             ],
             [
              0.6666666666666666,
              "#ed7953"
             ],
             [
              0.7777777777777778,
              "#fb9f3a"
             ],
             [
              0.8888888888888888,
              "#fdca26"
             ],
             [
              1,
              "#f0f921"
             ]
            ],
            "type": "histogram2d"
           }
          ],
          "histogram2dcontour": [
           {
            "colorbar": {
             "outlinewidth": 0,
             "ticks": ""
            },
            "colorscale": [
             [
              0,
              "#0d0887"
             ],
             [
              0.1111111111111111,
              "#46039f"
             ],
             [
              0.2222222222222222,
              "#7201a8"
             ],
             [
              0.3333333333333333,
              "#9c179e"
             ],
             [
              0.4444444444444444,
              "#bd3786"
             ],
             [
              0.5555555555555556,
              "#d8576b"
             ],
             [
              0.6666666666666666,
              "#ed7953"
             ],
             [
              0.7777777777777778,
              "#fb9f3a"
             ],
             [
              0.8888888888888888,
              "#fdca26"
             ],
             [
              1,
              "#f0f921"
             ]
            ],
            "type": "histogram2dcontour"
           }
          ],
          "mesh3d": [
           {
            "colorbar": {
             "outlinewidth": 0,
             "ticks": ""
            },
            "type": "mesh3d"
           }
          ],
          "parcoords": [
           {
            "line": {
             "colorbar": {
              "outlinewidth": 0,
              "ticks": ""
             }
            },
            "type": "parcoords"
           }
          ],
          "pie": [
           {
            "automargin": true,
            "type": "pie"
           }
          ],
          "scatter": [
           {
            "marker": {
             "line": {
              "color": "#283442"
             }
            },
            "type": "scatter"
           }
          ],
          "scatter3d": [
           {
            "line": {
             "colorbar": {
              "outlinewidth": 0,
              "ticks": ""
             }
            },
            "marker": {
             "colorbar": {
              "outlinewidth": 0,
              "ticks": ""
             }
            },
            "type": "scatter3d"
           }
          ],
          "scattercarpet": [
           {
            "marker": {
             "colorbar": {
              "outlinewidth": 0,
              "ticks": ""
             }
            },
            "type": "scattercarpet"
           }
          ],
          "scattergeo": [
           {
            "marker": {
             "colorbar": {
              "outlinewidth": 0,
              "ticks": ""
             }
            },
            "type": "scattergeo"
           }
          ],
          "scattergl": [
           {
            "marker": {
             "line": {
              "color": "#283442"
             }
            },
            "type": "scattergl"
           }
          ],
          "scattermap": [
           {
            "marker": {
             "colorbar": {
              "outlinewidth": 0,
              "ticks": ""
             }
            },
            "type": "scattermap"
           }
          ],
          "scattermapbox": [
           {
            "marker": {
             "colorbar": {
              "outlinewidth": 0,
              "ticks": ""
             }
            },
            "type": "scattermapbox"
           }
          ],
          "scatterpolar": [
           {
            "marker": {
             "colorbar": {
              "outlinewidth": 0,
              "ticks": ""
             }
            },
            "type": "scatterpolar"
           }
          ],
          "scatterpolargl": [
           {
            "marker": {
             "colorbar": {
              "outlinewidth": 0,
              "ticks": ""
             }
            },
            "type": "scatterpolargl"
           }
          ],
          "scatterternary": [
           {
            "marker": {
             "colorbar": {
              "outlinewidth": 0,
              "ticks": ""
             }
            },
            "type": "scatterternary"
           }
          ],
          "surface": [
           {
            "colorbar": {
             "outlinewidth": 0,
             "ticks": ""
            },
            "colorscale": [
             [
              0,
              "#0d0887"
             ],
             [
              0.1111111111111111,
              "#46039f"
             ],
             [
              0.2222222222222222,
              "#7201a8"
             ],
             [
              0.3333333333333333,
              "#9c179e"
             ],
             [
              0.4444444444444444,
              "#bd3786"
             ],
             [
              0.5555555555555556,
              "#d8576b"
             ],
             [
              0.6666666666666666,
              "#ed7953"
             ],
             [
              0.7777777777777778,
              "#fb9f3a"
             ],
             [
              0.8888888888888888,
              "#fdca26"
             ],
             [
              1,
              "#f0f921"
             ]
            ],
            "type": "surface"
           }
          ],
          "table": [
           {
            "cells": {
             "fill": {
              "color": "#506784"
             },
             "line": {
              "color": "rgb(17,17,17)"
             }
            },
            "header": {
             "fill": {
              "color": "#2a3f5f"
             },
             "line": {
              "color": "rgb(17,17,17)"
             }
            },
            "type": "table"
           }
          ]
         },
         "layout": {
          "annotationdefaults": {
           "arrowcolor": "#f2f5fa",
           "arrowhead": 0,
           "arrowwidth": 1
          },
          "autotypenumbers": "strict",
          "coloraxis": {
           "colorbar": {
            "outlinewidth": 0,
            "ticks": ""
           }
          },
          "colorscale": {
           "diverging": [
            [
             0,
             "#8e0152"
            ],
            [
             0.1,
             "#c51b7d"
            ],
            [
             0.2,
             "#de77ae"
            ],
            [
             0.3,
             "#f1b6da"
            ],
            [
             0.4,
             "#fde0ef"
            ],
            [
             0.5,
             "#f7f7f7"
            ],
            [
             0.6,
             "#e6f5d0"
            ],
            [
             0.7,
             "#b8e186"
            ],
            [
             0.8,
             "#7fbc41"
            ],
            [
             0.9,
             "#4d9221"
            ],
            [
             1,
             "#276419"
            ]
           ],
           "sequential": [
            [
             0,
             "#0d0887"
            ],
            [
             0.1111111111111111,
             "#46039f"
            ],
            [
             0.2222222222222222,
             "#7201a8"
            ],
            [
             0.3333333333333333,
             "#9c179e"
            ],
            [
             0.4444444444444444,
             "#bd3786"
            ],
            [
             0.5555555555555556,
             "#d8576b"
            ],
            [
             0.6666666666666666,
             "#ed7953"
            ],
            [
             0.7777777777777778,
             "#fb9f3a"
            ],
            [
             0.8888888888888888,
             "#fdca26"
            ],
            [
             1,
             "#f0f921"
            ]
           ],
           "sequentialminus": [
            [
             0,
             "#0d0887"
            ],
            [
             0.1111111111111111,
             "#46039f"
            ],
            [
             0.2222222222222222,
             "#7201a8"
            ],
            [
             0.3333333333333333,
             "#9c179e"
            ],
            [
             0.4444444444444444,
             "#bd3786"
            ],
            [
             0.5555555555555556,
             "#d8576b"
            ],
            [
             0.6666666666666666,
             "#ed7953"
            ],
            [
             0.7777777777777778,
             "#fb9f3a"
            ],
            [
             0.8888888888888888,
             "#fdca26"
            ],
            [
             1,
             "#f0f921"
            ]
           ]
          },
          "colorway": [
           "#636efa",
           "#EF553B",
           "#00cc96",
           "#ab63fa",
           "#FFA15A",
           "#19d3f3",
           "#FF6692",
           "#B6E880",
           "#FF97FF",
           "#FECB52"
          ],
          "font": {
           "color": "#f2f5fa"
          },
          "geo": {
           "bgcolor": "rgb(17,17,17)",
           "lakecolor": "rgb(17,17,17)",
           "landcolor": "rgb(17,17,17)",
           "showlakes": true,
           "showland": true,
           "subunitcolor": "#506784"
          },
          "hoverlabel": {
           "align": "left"
          },
          "hovermode": "closest",
          "mapbox": {
           "style": "dark"
          },
          "paper_bgcolor": "rgb(17,17,17)",
          "plot_bgcolor": "rgb(17,17,17)",
          "polar": {
           "angularaxis": {
            "gridcolor": "#506784",
            "linecolor": "#506784",
            "ticks": ""
           },
           "bgcolor": "rgb(17,17,17)",
           "radialaxis": {
            "gridcolor": "#506784",
            "linecolor": "#506784",
            "ticks": ""
           }
          },
          "scene": {
           "xaxis": {
            "backgroundcolor": "rgb(17,17,17)",
            "gridcolor": "#506784",
            "gridwidth": 2,
            "linecolor": "#506784",
            "showbackground": true,
            "ticks": "",
            "zerolinecolor": "#C8D4E3"
           },
           "yaxis": {
            "backgroundcolor": "rgb(17,17,17)",
            "gridcolor": "#506784",
            "gridwidth": 2,
            "linecolor": "#506784",
            "showbackground": true,
            "ticks": "",
            "zerolinecolor": "#C8D4E3"
           },
           "zaxis": {
            "backgroundcolor": "rgb(17,17,17)",
            "gridcolor": "#506784",
            "gridwidth": 2,
            "linecolor": "#506784",
            "showbackground": true,
            "ticks": "",
            "zerolinecolor": "#C8D4E3"
           }
          },
          "shapedefaults": {
           "line": {
            "color": "#f2f5fa"
           }
          },
          "sliderdefaults": {
           "bgcolor": "#C8D4E3",
           "bordercolor": "rgb(17,17,17)",
           "borderwidth": 1,
           "tickwidth": 0
          },
          "ternary": {
           "aaxis": {
            "gridcolor": "#506784",
            "linecolor": "#506784",
            "ticks": ""
           },
           "baxis": {
            "gridcolor": "#506784",
            "linecolor": "#506784",
            "ticks": ""
           },
           "bgcolor": "rgb(17,17,17)",
           "caxis": {
            "gridcolor": "#506784",
            "linecolor": "#506784",
            "ticks": ""
           }
          },
          "title": {
           "x": 0.05
          },
          "updatemenudefaults": {
           "bgcolor": "#506784",
           "borderwidth": 0
          },
          "xaxis": {
           "automargin": true,
           "gridcolor": "#283442",
           "linecolor": "#506784",
           "ticks": "",
           "title": {
            "standoff": 15
           },
           "zerolinecolor": "#283442",
           "zerolinewidth": 2
          },
          "yaxis": {
           "automargin": true,
           "gridcolor": "#283442",
           "linecolor": "#506784",
           "ticks": "",
           "title": {
            "standoff": 15
           },
           "zerolinecolor": "#283442",
           "zerolinewidth": 2
          }
         }
        },
        "title": {
         "text": "Urban Ecology vs General Ecology Research Papers Published per Year"
        },
        "width": 1000,
        "xaxis": {
         "anchor": "y",
         "domain": [
          0,
          1
         ],
         "dtick": 5,
         "showgrid": true,
         "tickangle": 45,
         "title": {
          "text": "Year"
         }
        },
        "yaxis": {
         "anchor": "x",
         "domain": [
          0,
          1
         ],
         "showgrid": true,
         "title": {
          "text": "Number of Papers"
         }
        }
       }
      }
     },
     "metadata": {},
     "output_type": "display_data"
    }
   ],
   "source": [
    "fig = px.line(\n",
    "    df_combined,\n",
    "    x='year',\n",
    "    y='paper_count',\n",
    "    color='search_keyword',\n",
    "    color_discrete_map={\n",
    "        **color_map,\n",
    "        'ecology': \"#2085D2\"\n",
    "    },\n",
    "    title='Urban Ecology vs General Ecology Research Papers Published per Year',\n",
    "    markers=True,\n",
    ")\n",
    "\n",
    "fig.update_layout(\n",
    "    xaxis_title='Year',\n",
    "    yaxis_title='Number of Papers',\n",
    "    legend_title='Keyword',\n",
    "    font=dict(size=12),\n",
    "    width=1000,\n",
    "    height=600,\n",
    "    template='plotly_dark',\n",
    "    xaxis=dict(showgrid=True,\n",
    "               dtick=5,\n",
    "               tickangle=45),\n",
    "    yaxis=dict(showgrid=True),\n",
    ")\n",
    "\n",
    "fig.show()"
   ]
  },
  {
   "cell_type": "markdown",
   "id": "4050cd35",
   "metadata": {},
   "source": [
    "We see a clear trend, where research volume quickly grows over the years. A curious data point happens around 2020, with a sharp drop in papers published, likely linked to the COVID pandemic, with numbers quickly picking up right after, following a similar slope as before.\n",
    "\n",
    "  \n",
    "\n",
    "That being said, the same trend can be observed for ecology as a whole. That is, scientific research is increasing in its totality, not only in urban environments. Although, looking at the latest data, urban research seem to be catching up, which could mean we might see just as many studies in cities as in more natural environments. Another possibility for that trend could be a result of the pandemic, where the scientific community started showing greater interest in urban environments post COVID, but that interst could decrease with time.\n",
    "\n",
    "  \n",
    "\n",
    "Although these are just guesses, and only with time we'll be able to confirm or refute either hypothesis.We see a clear trend, where research volume quickly grows over the years. A curious data point happens around 2020, with a sharp drop in papers published, likely linked to the COVID pandemic, with numbers quickly picking up right after, following a similar slope as before."
   ]
  },
  {
   "cell_type": "code",
   "execution_count": 10,
   "id": "8aa91fc8",
   "metadata": {},
   "outputs": [
    {
     "data": {
      "application/vnd.plotly.v1+json": {
       "config": {
        "plotlyServerURL": "https://plot.ly"
       },
       "data": [
        {
         "hovertemplate": "search_keyword=urban biodiversity<br>year=%{x}<br>paper_count=%{y}<extra></extra>",
         "legendgroup": "urban biodiversity",
         "line": {
          "color": "#E6A366",
          "dash": "solid"
         },
         "marker": {
          "symbol": "circle"
         },
         "mode": "lines+markers",
         "name": "urban biodiversity",
         "orientation": "v",
         "showlegend": true,
         "type": "scatter",
         "x": {
          "bdata": "sge8B70HvgfCB8QHxQfGB8cHyAfJB8oHywfMB80HzgfPB9AH0QfSB9MH1AfVB9YH1wfYB9kH2gfbB9wH3QfeB98H4AfhB+IH4wfkB+UH5gfnBw==",
          "dtype": "i2"
         },
         "xaxis": "x",
         "y": {
          "bdata": "AQABAAEAAQABAAEAAQAIAAUAEAASABoAKQAhAB4APwA+AFAAlwBnAHQAjACNALgA6QAPATwBDgHRAW4CcQIqAg8DwQOXBJcFgQT0AloEegW6Bg==",
          "dtype": "i2"
         },
         "yaxis": "y"
        },
        {
         "hovertemplate": "search_keyword=urban ecology<br>year=%{x}<br>paper_count=%{y}<extra></extra>",
         "legendgroup": "urban ecology",
         "line": {
          "color": "#6B9BD2",
          "dash": "solid"
         },
         "marker": {
          "symbol": "circle"
         },
         "mode": "lines+markers",
         "name": "urban ecology",
         "orientation": "v",
         "showlegend": true,
         "type": "scatter",
         "x": {
          "bdata": "sgezB7QHtQe2B7cHuAe5B7oHuwe8B70Hvge/B8AHwQfCB8MHxAfFB8YHxwfIB8kHygfLB8wHzQfOB88H0AfRB9IH0wfUB9UH1gfXB9gH2QfaB9sH3AfdB94H3wfgB+EH4gfjB+QH5QfmB+cH",
          "dtype": "i2"
         },
         "xaxis": "x",
         "y": {
          "bdata": "BwAPAAkAEQARABIAEwAOABkAHAAhACIAGAASAB0AEgAYABgAIQArACkAKwAwAEYAMQA7AEEALgBTAG0AXwC9AHMAkwDWAM0A/ABNAV8B2wFsARUC6ALHAsMCWgT0BHIFHwccBmIE+ATOBXsH",
          "dtype": "i2"
         },
         "yaxis": "y"
        },
        {
         "hovertemplate": "search_keyword=urban ecosystem<br>year=%{x}<br>paper_count=%{y}<extra></extra>",
         "legendgroup": "urban ecosystem",
         "line": {
          "color": "#E6A8D0",
          "dash": "solid"
         },
         "marker": {
          "symbol": "circle"
         },
         "mode": "lines+markers",
         "name": "urban ecosystem",
         "orientation": "v",
         "showlegend": true,
         "type": "scatter",
         "x": {
          "bdata": "sgezB7QHtQe2B7cHuAe5B7oHuwe8B70Hvge/B8AHwQfCB8MHxAfFB8YHxwfIB8kHygfLB8wHzQfOB88H0AfRB9IH0wfUB9UH1gfXB9gH2QfaB9sH3AfdB94H3wfgB+EH4gfjB+QH5QfmB+cH",
          "dtype": "i2"
         },
         "xaxis": "x",
         "y": {
          "bdata": "AQAGAAoADQAJAA8AEAAfAA8AGwAdADEAHAASABsADAAZABgAIwA1AC4AKwA4AEcAQQBRAEYAVABeAGsAdQDyAJoA0gD8APMAPAFmAaIBBgLVAUADPQQTBP0DjwVQB3oIfQr1CNQFPwjSCQcM",
          "dtype": "i2"
         },
         "yaxis": "y"
        },
        {
         "hovertemplate": "search_keyword=urban green spaces<br>year=%{x}<br>paper_count=%{y}<extra></extra>",
         "legendgroup": "urban green spaces",
         "line": {
          "color": "#7FB069",
          "dash": "solid"
         },
         "marker": {
          "symbol": "circle"
         },
         "mode": "lines+markers",
         "name": "urban green spaces",
         "orientation": "v",
         "showlegend": true,
         "type": "scatter",
         "x": {
          "bdata": "sgezB7QHtQe2B7cHuAe5B7oHuwe8B70Hvge/B8AHwQfCB8MHxAfFB8YHxwfIB8kHygfLB8wHzQfOB88H0AfRB9IH0wfUB9UH1gfXB9gH2QfaB9sH3AfdB94H3wfgB+EH4gfjB+QH5QfmB+cH",
          "dtype": "i2"
         },
         "xaxis": "x",
         "y": {
          "bdata": "CgAIAA0AEAANABAAFgAUABQAFAAWACAAKgAYABoAGQAVABoAHQAjACYALAAlADAAMgBIAD4AQgBaAF0AmACdAJsA4QDnAPoAOwGCAZwBIAJuAiADqwS9BKsE2Ab+BzgJsgpSCosHygnUCsoN",
          "dtype": "i2"
         },
         "yaxis": "y"
        },
        {
         "hovertemplate": "search_keyword=urban vegetation<br>year=%{x}<br>paper_count=%{y}<extra></extra>",
         "legendgroup": "urban vegetation",
         "line": {
          "color": "#B19CD9",
          "dash": "solid"
         },
         "marker": {
          "symbol": "circle"
         },
         "mode": "lines+markers",
         "name": "urban vegetation",
         "orientation": "v",
         "showlegend": true,
         "type": "scatter",
         "x": {
          "bdata": "sgezB7QHtQe2B7cHuAe5B7oHuwe8B70Hvge/B8AHwQfCB8MHxAfFB8YHxwfIB8kHygfLB8wHzQfOB88H0AfRB9IH0wfUB9UH1gfXB9gH2QfaB9sH3AfdB94H3wfgB+EH4gfjB+QH5QfmB+cH",
          "dtype": "i2"
         },
         "xaxis": "x",
         "y": {
          "bdata": "DgAOABIAHgAcABwAGwAfABQAIQAbAEAAKQAlAB4AIAAtACsAMwA7ADkAQgA+AD8AQQBNAFMARQBYAGwAmACoAIEAtwDVAL0A7ABGAW4BkwFNAW0CBAMRA4UCJwPVA3oELwU+BFgCYwPkAwcF",
          "dtype": "i2"
         },
         "yaxis": "y"
        },
        {
         "hovertemplate": "search_keyword=urban wildlife<br>year=%{x}<br>paper_count=%{y}<extra></extra>",
         "legendgroup": "urban wildlife",
         "line": {
          "color": "#D67B7B",
          "dash": "solid"
         },
         "marker": {
          "symbol": "circle"
         },
         "mode": "lines+markers",
         "name": "urban wildlife",
         "orientation": "v",
         "showlegend": true,
         "type": "scatter",
         "x": {
          "bdata": "sgezB7QHtQe2B7cHuAe5B7oHuwe8B70Hvge/B8AHwQfCB8MHxAfFB8YHxwfIB8kHygfLB8wHzQfOB88H0AfRB9IH0wfUB9UH1gfXB9gH2QfaB9sH3AfdB94H3wfgB+EH4gfjB+QH5QfmB+cH",
          "dtype": "i2"
         },
         "xaxis": "x",
         "y": {
          "bdata": "CAALAA0ADwAPABMAEgATABEAEwAcAB8AIgASABcAEQAYABkAJQAvACgAIwAmADQAMQBAADYAOwBJAEYAVQB/AGYAbQCHAIMAowDKAM4A+QDNADgBcgHFAYYB9AE9AsEC4gI5AsMBBgKWAvYC",
          "dtype": "i2"
         },
         "yaxis": "y"
        }
       ],
       "layout": {
        "font": {
         "size": 12
        },
        "height": 600,
        "legend": {
         "title": {
          "text": "Keyword"
         },
         "tracegroupgap": 0
        },
        "template": {
         "data": {
          "bar": [
           {
            "error_x": {
             "color": "#f2f5fa"
            },
            "error_y": {
             "color": "#f2f5fa"
            },
            "marker": {
             "line": {
              "color": "rgb(17,17,17)",
              "width": 0.5
             },
             "pattern": {
              "fillmode": "overlay",
              "size": 10,
              "solidity": 0.2
             }
            },
            "type": "bar"
           }
          ],
          "barpolar": [
           {
            "marker": {
             "line": {
              "color": "rgb(17,17,17)",
              "width": 0.5
             },
             "pattern": {
              "fillmode": "overlay",
              "size": 10,
              "solidity": 0.2
             }
            },
            "type": "barpolar"
           }
          ],
          "carpet": [
           {
            "aaxis": {
             "endlinecolor": "#A2B1C6",
             "gridcolor": "#506784",
             "linecolor": "#506784",
             "minorgridcolor": "#506784",
             "startlinecolor": "#A2B1C6"
            },
            "baxis": {
             "endlinecolor": "#A2B1C6",
             "gridcolor": "#506784",
             "linecolor": "#506784",
             "minorgridcolor": "#506784",
             "startlinecolor": "#A2B1C6"
            },
            "type": "carpet"
           }
          ],
          "choropleth": [
           {
            "colorbar": {
             "outlinewidth": 0,
             "ticks": ""
            },
            "type": "choropleth"
           }
          ],
          "contour": [
           {
            "colorbar": {
             "outlinewidth": 0,
             "ticks": ""
            },
            "colorscale": [
             [
              0,
              "#0d0887"
             ],
             [
              0.1111111111111111,
              "#46039f"
             ],
             [
              0.2222222222222222,
              "#7201a8"
             ],
             [
              0.3333333333333333,
              "#9c179e"
             ],
             [
              0.4444444444444444,
              "#bd3786"
             ],
             [
              0.5555555555555556,
              "#d8576b"
             ],
             [
              0.6666666666666666,
              "#ed7953"
             ],
             [
              0.7777777777777778,
              "#fb9f3a"
             ],
             [
              0.8888888888888888,
              "#fdca26"
             ],
             [
              1,
              "#f0f921"
             ]
            ],
            "type": "contour"
           }
          ],
          "contourcarpet": [
           {
            "colorbar": {
             "outlinewidth": 0,
             "ticks": ""
            },
            "type": "contourcarpet"
           }
          ],
          "heatmap": [
           {
            "colorbar": {
             "outlinewidth": 0,
             "ticks": ""
            },
            "colorscale": [
             [
              0,
              "#0d0887"
             ],
             [
              0.1111111111111111,
              "#46039f"
             ],
             [
              0.2222222222222222,
              "#7201a8"
             ],
             [
              0.3333333333333333,
              "#9c179e"
             ],
             [
              0.4444444444444444,
              "#bd3786"
             ],
             [
              0.5555555555555556,
              "#d8576b"
             ],
             [
              0.6666666666666666,
              "#ed7953"
             ],
             [
              0.7777777777777778,
              "#fb9f3a"
             ],
             [
              0.8888888888888888,
              "#fdca26"
             ],
             [
              1,
              "#f0f921"
             ]
            ],
            "type": "heatmap"
           }
          ],
          "histogram": [
           {
            "marker": {
             "pattern": {
              "fillmode": "overlay",
              "size": 10,
              "solidity": 0.2
             }
            },
            "type": "histogram"
           }
          ],
          "histogram2d": [
           {
            "colorbar": {
             "outlinewidth": 0,
             "ticks": ""
            },
            "colorscale": [
             [
              0,
              "#0d0887"
             ],
             [
              0.1111111111111111,
              "#46039f"
             ],
             [
              0.2222222222222222,
              "#7201a8"
             ],
             [
              0.3333333333333333,
              "#9c179e"
             ],
             [
              0.4444444444444444,
              "#bd3786"
             ],
             [
              0.5555555555555556,
              "#d8576b"
             ],
             [
              0.6666666666666666,
              "#ed7953"
             ],
             [
              0.7777777777777778,
              "#fb9f3a"
             ],
             [
              0.8888888888888888,
              "#fdca26"
             ],
             [
              1,
              "#f0f921"
             ]
            ],
            "type": "histogram2d"
           }
          ],
          "histogram2dcontour": [
           {
            "colorbar": {
             "outlinewidth": 0,
             "ticks": ""
            },
            "colorscale": [
             [
              0,
              "#0d0887"
             ],
             [
              0.1111111111111111,
              "#46039f"
             ],
             [
              0.2222222222222222,
              "#7201a8"
             ],
             [
              0.3333333333333333,
              "#9c179e"
             ],
             [
              0.4444444444444444,
              "#bd3786"
             ],
             [
              0.5555555555555556,
              "#d8576b"
             ],
             [
              0.6666666666666666,
              "#ed7953"
             ],
             [
              0.7777777777777778,
              "#fb9f3a"
             ],
             [
              0.8888888888888888,
              "#fdca26"
             ],
             [
              1,
              "#f0f921"
             ]
            ],
            "type": "histogram2dcontour"
           }
          ],
          "mesh3d": [
           {
            "colorbar": {
             "outlinewidth": 0,
             "ticks": ""
            },
            "type": "mesh3d"
           }
          ],
          "parcoords": [
           {
            "line": {
             "colorbar": {
              "outlinewidth": 0,
              "ticks": ""
             }
            },
            "type": "parcoords"
           }
          ],
          "pie": [
           {
            "automargin": true,
            "type": "pie"
           }
          ],
          "scatter": [
           {
            "marker": {
             "line": {
              "color": "#283442"
             }
            },
            "type": "scatter"
           }
          ],
          "scatter3d": [
           {
            "line": {
             "colorbar": {
              "outlinewidth": 0,
              "ticks": ""
             }
            },
            "marker": {
             "colorbar": {
              "outlinewidth": 0,
              "ticks": ""
             }
            },
            "type": "scatter3d"
           }
          ],
          "scattercarpet": [
           {
            "marker": {
             "colorbar": {
              "outlinewidth": 0,
              "ticks": ""
             }
            },
            "type": "scattercarpet"
           }
          ],
          "scattergeo": [
           {
            "marker": {
             "colorbar": {
              "outlinewidth": 0,
              "ticks": ""
             }
            },
            "type": "scattergeo"
           }
          ],
          "scattergl": [
           {
            "marker": {
             "line": {
              "color": "#283442"
             }
            },
            "type": "scattergl"
           }
          ],
          "scattermap": [
           {
            "marker": {
             "colorbar": {
              "outlinewidth": 0,
              "ticks": ""
             }
            },
            "type": "scattermap"
           }
          ],
          "scattermapbox": [
           {
            "marker": {
             "colorbar": {
              "outlinewidth": 0,
              "ticks": ""
             }
            },
            "type": "scattermapbox"
           }
          ],
          "scatterpolar": [
           {
            "marker": {
             "colorbar": {
              "outlinewidth": 0,
              "ticks": ""
             }
            },
            "type": "scatterpolar"
           }
          ],
          "scatterpolargl": [
           {
            "marker": {
             "colorbar": {
              "outlinewidth": 0,
              "ticks": ""
             }
            },
            "type": "scatterpolargl"
           }
          ],
          "scatterternary": [
           {
            "marker": {
             "colorbar": {
              "outlinewidth": 0,
              "ticks": ""
             }
            },
            "type": "scatterternary"
           }
          ],
          "surface": [
           {
            "colorbar": {
             "outlinewidth": 0,
             "ticks": ""
            },
            "colorscale": [
             [
              0,
              "#0d0887"
             ],
             [
              0.1111111111111111,
              "#46039f"
             ],
             [
              0.2222222222222222,
              "#7201a8"
             ],
             [
              0.3333333333333333,
              "#9c179e"
             ],
             [
              0.4444444444444444,
              "#bd3786"
             ],
             [
              0.5555555555555556,
              "#d8576b"
             ],
             [
              0.6666666666666666,
              "#ed7953"
             ],
             [
              0.7777777777777778,
              "#fb9f3a"
             ],
             [
              0.8888888888888888,
              "#fdca26"
             ],
             [
              1,
              "#f0f921"
             ]
            ],
            "type": "surface"
           }
          ],
          "table": [
           {
            "cells": {
             "fill": {
              "color": "#506784"
             },
             "line": {
              "color": "rgb(17,17,17)"
             }
            },
            "header": {
             "fill": {
              "color": "#2a3f5f"
             },
             "line": {
              "color": "rgb(17,17,17)"
             }
            },
            "type": "table"
           }
          ]
         },
         "layout": {
          "annotationdefaults": {
           "arrowcolor": "#f2f5fa",
           "arrowhead": 0,
           "arrowwidth": 1
          },
          "autotypenumbers": "strict",
          "coloraxis": {
           "colorbar": {
            "outlinewidth": 0,
            "ticks": ""
           }
          },
          "colorscale": {
           "diverging": [
            [
             0,
             "#8e0152"
            ],
            [
             0.1,
             "#c51b7d"
            ],
            [
             0.2,
             "#de77ae"
            ],
            [
             0.3,
             "#f1b6da"
            ],
            [
             0.4,
             "#fde0ef"
            ],
            [
             0.5,
             "#f7f7f7"
            ],
            [
             0.6,
             "#e6f5d0"
            ],
            [
             0.7,
             "#b8e186"
            ],
            [
             0.8,
             "#7fbc41"
            ],
            [
             0.9,
             "#4d9221"
            ],
            [
             1,
             "#276419"
            ]
           ],
           "sequential": [
            [
             0,
             "#0d0887"
            ],
            [
             0.1111111111111111,
             "#46039f"
            ],
            [
             0.2222222222222222,
             "#7201a8"
            ],
            [
             0.3333333333333333,
             "#9c179e"
            ],
            [
             0.4444444444444444,
             "#bd3786"
            ],
            [
             0.5555555555555556,
             "#d8576b"
            ],
            [
             0.6666666666666666,
             "#ed7953"
            ],
            [
             0.7777777777777778,
             "#fb9f3a"
            ],
            [
             0.8888888888888888,
             "#fdca26"
            ],
            [
             1,
             "#f0f921"
            ]
           ],
           "sequentialminus": [
            [
             0,
             "#0d0887"
            ],
            [
             0.1111111111111111,
             "#46039f"
            ],
            [
             0.2222222222222222,
             "#7201a8"
            ],
            [
             0.3333333333333333,
             "#9c179e"
            ],
            [
             0.4444444444444444,
             "#bd3786"
            ],
            [
             0.5555555555555556,
             "#d8576b"
            ],
            [
             0.6666666666666666,
             "#ed7953"
            ],
            [
             0.7777777777777778,
             "#fb9f3a"
            ],
            [
             0.8888888888888888,
             "#fdca26"
            ],
            [
             1,
             "#f0f921"
            ]
           ]
          },
          "colorway": [
           "#636efa",
           "#EF553B",
           "#00cc96",
           "#ab63fa",
           "#FFA15A",
           "#19d3f3",
           "#FF6692",
           "#B6E880",
           "#FF97FF",
           "#FECB52"
          ],
          "font": {
           "color": "#f2f5fa"
          },
          "geo": {
           "bgcolor": "rgb(17,17,17)",
           "lakecolor": "rgb(17,17,17)",
           "landcolor": "rgb(17,17,17)",
           "showlakes": true,
           "showland": true,
           "subunitcolor": "#506784"
          },
          "hoverlabel": {
           "align": "left"
          },
          "hovermode": "closest",
          "mapbox": {
           "style": "dark"
          },
          "paper_bgcolor": "rgb(17,17,17)",
          "plot_bgcolor": "rgb(17,17,17)",
          "polar": {
           "angularaxis": {
            "gridcolor": "#506784",
            "linecolor": "#506784",
            "ticks": ""
           },
           "bgcolor": "rgb(17,17,17)",
           "radialaxis": {
            "gridcolor": "#506784",
            "linecolor": "#506784",
            "ticks": ""
           }
          },
          "scene": {
           "xaxis": {
            "backgroundcolor": "rgb(17,17,17)",
            "gridcolor": "#506784",
            "gridwidth": 2,
            "linecolor": "#506784",
            "showbackground": true,
            "ticks": "",
            "zerolinecolor": "#C8D4E3"
           },
           "yaxis": {
            "backgroundcolor": "rgb(17,17,17)",
            "gridcolor": "#506784",
            "gridwidth": 2,
            "linecolor": "#506784",
            "showbackground": true,
            "ticks": "",
            "zerolinecolor": "#C8D4E3"
           },
           "zaxis": {
            "backgroundcolor": "rgb(17,17,17)",
            "gridcolor": "#506784",
            "gridwidth": 2,
            "linecolor": "#506784",
            "showbackground": true,
            "ticks": "",
            "zerolinecolor": "#C8D4E3"
           }
          },
          "shapedefaults": {
           "line": {
            "color": "#f2f5fa"
           }
          },
          "sliderdefaults": {
           "bgcolor": "#C8D4E3",
           "bordercolor": "rgb(17,17,17)",
           "borderwidth": 1,
           "tickwidth": 0
          },
          "ternary": {
           "aaxis": {
            "gridcolor": "#506784",
            "linecolor": "#506784",
            "ticks": ""
           },
           "baxis": {
            "gridcolor": "#506784",
            "linecolor": "#506784",
            "ticks": ""
           },
           "bgcolor": "rgb(17,17,17)",
           "caxis": {
            "gridcolor": "#506784",
            "linecolor": "#506784",
            "ticks": ""
           }
          },
          "title": {
           "x": 0.05
          },
          "updatemenudefaults": {
           "bgcolor": "#506784",
           "borderwidth": 0
          },
          "xaxis": {
           "automargin": true,
           "gridcolor": "#283442",
           "linecolor": "#506784",
           "ticks": "",
           "title": {
            "standoff": 15
           },
           "zerolinecolor": "#283442",
           "zerolinewidth": 2
          },
          "yaxis": {
           "automargin": true,
           "gridcolor": "#283442",
           "linecolor": "#506784",
           "ticks": "",
           "title": {
            "standoff": 15
           },
           "zerolinecolor": "#283442",
           "zerolinewidth": 2
          }
         }
        },
        "title": {
         "text": "Research Papers Published per Year (by Keyword)"
        },
        "width": 1000,
        "xaxis": {
         "anchor": "y",
         "domain": [
          0,
          1
         ],
         "dtick": 5,
         "showgrid": true,
         "tickangle": 45,
         "title": {
          "text": "Year"
         }
        },
        "yaxis": {
         "anchor": "x",
         "domain": [
          0,
          1
         ],
         "showgrid": true,
         "title": {
          "text": "Number of Papers"
         }
        }
       }
      }
     },
     "metadata": {},
     "output_type": "display_data"
    }
   ],
   "source": [
    "fig = px.line(\n",
    "    df_keywords,\n",
    "    x='year',\n",
    "    y='paper_count',\n",
    "    color='search_keyword',\n",
    "    color_discrete_map=color_map,\n",
    "    title='Research Papers Published per Year (by Keyword)',\n",
    "    markers=True,\n",
    ")\n",
    "\n",
    "fig.update_layout(\n",
    "    xaxis_title='Year',\n",
    "    yaxis_title='Number of Papers',\n",
    "    legend_title='Keyword',\n",
    "    font=dict(size=12),\n",
    "    width=1000,\n",
    "    height=600,\n",
    "    template='plotly_dark',\n",
    "    xaxis=dict(showgrid=True,\n",
    "               dtick=5,\n",
    "               tickangle=45),\n",
    "    yaxis=dict(showgrid=True),\n",
    ")\n",
    "\n",
    "fig.show()\n"
   ]
  },
  {
   "cell_type": "markdown",
   "id": "843c4cf1",
   "metadata": {},
   "source": [
    "Same as above, every keyword follows this same trend. While some are clearly more popular than others, the graph curves are similar among all of the keywords. Now let's look at the trend of the entire breadth of 'ecology' research, a broad term that can encompass both studies in and out of the cities. Is this simply and overall trend the field or are researchers showing increasing interest in urban environemts?"
   ]
  },
  {
   "cell_type": "markdown",
   "id": "83404bac",
   "metadata": {},
   "source": [
    "==========================================================================\n",
    "### Regression Analysis on All Papers Published"
   ]
  },
  {
   "cell_type": "markdown",
   "id": "c11bb3db",
   "metadata": {},
   "source": [
    "We'll perform both linear and exponential regression analysis to determine which model better fits the overall growth pattern of urban ecology research publications. This analysis will help us understand whether the field is experiencing linear or exponential growth. "
   ]
  },
  {
   "cell_type": "code",
   "execution_count": 11,
   "id": "d5001e2b",
   "metadata": {},
   "outputs": [
    {
     "name": "stdout",
     "output_type": "stream",
     "text": [
      "COMPREHENSIVE GROWTH ANALYSIS - TOTAL PAPERS\n",
      "================================================================================\n",
      "\n",
      "MODEL COMPARISON RESULTS:\n",
      "------------------------------------------------------------\n",
      "  keyword  r_squared_linear  r_squared_log   better_fit  \\\n",
      "0   total          0.644222       0.956675  Exponential   \n",
      "\n",
      "   annual_growth_rate_percent  r_squared_difference  \n",
      "0                    11.18029              0.312454  \n",
      "\n",
      "LINEAR MODEL RESULTS:\n",
      "----------------------------------------\n",
      "Growth rate: 93.87 papers/year\n",
      "R²: 0.6442\n",
      "P-value: 2.91e-13\n",
      "\n",
      "EXPONENTIAL MODEL RESULTS:\n",
      "----------------------------------------\n",
      "Annual growth rate: 11.2% per year\n",
      "Doubling time: 6.5 years\n",
      "R²: 0.9567\n",
      "P-value: 4.04e-37\n"
     ]
    },
    {
     "data": {
      "image/png": "[encoded data removed]",
      "text/plain": [
       "<Figure size 1600x1200 with 4 Axes>"
      ]
     },
     "metadata": {},
     "output_type": "display_data"
    },
    {
     "name": "stdout",
     "output_type": "stream",
     "text": [
      "\n",
      "================================================================================\n",
      "KEY INSIGHTS - TOTAL PAPERS GROWTH ANALYSIS:\n",
      "================================================================================\n",
      "✓ The field shows EXPONENTIAL growth with 11.2% annual growth rate\n",
      "✓ Research output doubles every 6.5 years\n",
      "✓ Exponential model explains 95.7% of variance\n",
      "✓ Model improvement: +0.3125 R² difference\n",
      "✓ Growth trend is statistically significant (p < 0.05)\n",
      "High growth rate (11.2%/year) may not be sustainable long-term\n"
     ]
    }
   ],
   "source": [
    "def linear_trend_analysis(df):\n",
    "    \"\"\"\n",
    "    Perform linear regression analysis for each keyword in the dataframe\n",
    "    Works with both single keyword (like df_totals) and multiple keyword dataframes (like df_keywords)\n",
    "    Returns comprehensive trend statistics\n",
    "    \"\"\"\n",
    "    results = []\n",
    "    \n",
    "    for keyword in df['search_keyword'].unique():\n",
    "        keyword_data = df[df['search_keyword'] == keyword].sort_values('year')\n",
    "        years = keyword_data['year'].values\n",
    "        counts = keyword_data['paper_count'].values\n",
    "        \n",
    "        slope, intercept, r_value, p_value, std_err = stats.linregress(years, counts)\n",
    "        \n",
    "        r_squared = r_value**2\n",
    "        \n",
    "        n = len(years)\n",
    "        t_val = stats.t.ppf(0.975, n-2)\n",
    "        slope_ci_lower = slope - t_val * std_err\n",
    "        slope_ci_upper = slope + t_val * std_err\n",
    "        \n",
    "        if p_value < 0.05:\n",
    "            if slope > 0:\n",
    "                trend_interpretation = 'Significantly increasing'\n",
    "            else:\n",
    "                trend_interpretation = 'Significantly decreasing'\n",
    "        else:\n",
    "            trend_interpretation = 'No significant trend'\n",
    "        \n",
    "        total_papers = counts.sum()\n",
    "        avg_papers_per_year = counts.mean()\n",
    "        \n",
    "        results.append({\n",
    "            'keyword': keyword,\n",
    "            'slope_papers_per_year': slope,\n",
    "            'intercept': intercept,\n",
    "            'r_squared': r_squared,\n",
    "            'p_value': p_value,\n",
    "            'std_error': std_err,\n",
    "            'slope_ci_lower': slope_ci_lower,\n",
    "            'slope_ci_upper': slope_ci_upper,\n",
    "            'trend_interpretation': trend_interpretation,\n",
    "            'total_papers': total_papers,\n",
    "            'avg_papers_per_year': avg_papers_per_year,\n",
    "            'significant_trend': p_value < 0.05,\n",
    "            'years_analyzed': n\n",
    "        })\n",
    "    \n",
    "    return pd.DataFrame(results)\n",
    "\n",
    "def log_trend_analysis(df, min_papers=1):\n",
    "    \"\"\"\n",
    "    Perform logarithmic regression analysis for each keyword to test exponential growth\n",
    "    Works with both single keyword (like df_totals) and multiple keyword dataframes (like df_keywords)\n",
    "    Uses log(paper_count + 1) to handle zero values\n",
    "    Returns comprehensive trend statistics for exponential growth patterns\n",
    "    \"\"\"\n",
    "    results = []\n",
    "    \n",
    "    for keyword in df['search_keyword'].unique():\n",
    "        keyword_data = df[df['search_keyword'] == keyword].sort_values('year')\n",
    "        years = keyword_data['year'].values\n",
    "        counts = keyword_data['paper_count'].values\n",
    "        \n",
    "        # Filter out years with very low counts if specified\n",
    "        if min_papers > 0:\n",
    "            valid_mask = counts >= min_papers\n",
    "            if valid_mask.sum() < 3:  # Need at least 3 points for regression\n",
    "                continue\n",
    "            years = years[valid_mask]\n",
    "            counts = counts[valid_mask]\n",
    "        \n",
    "        # Log transform: log(count + 1) to handle zeros\n",
    "        log_counts = np.log(counts + 1)\n",
    "        \n",
    "        # Skip if we don't have enough valid data points\n",
    "        if len(years) < 3:\n",
    "            continue\n",
    "            \n",
    "        slope, intercept, r_value, p_value, std_err = stats.linregress(years, log_counts)\n",
    "        \n",
    "        r_squared = r_value**2\n",
    "        \n",
    "        n = len(years)\n",
    "        t_val = stats.t.ppf(0.975, n-2)\n",
    "        slope_ci_lower = slope - t_val * std_err\n",
    "        slope_ci_upper = slope + t_val * std_err\n",
    "        \n",
    "        # Calculate annual growth rate percentage\n",
    "        # If log(y) = slope*x + intercept, then y = exp(intercept) * exp(slope)^x\n",
    "        # Annual growth rate = (exp(slope) - 1) * 100\n",
    "        annual_growth_rate = (np.exp(slope) - 1) * 100\n",
    "        \n",
    "        if p_value < 0.05:\n",
    "            if slope > 0:\n",
    "                trend_interpretation = 'Significantly increasing (exponential)'\n",
    "            else:\n",
    "                trend_interpretation = 'Significantly decreasing (exponential)'\n",
    "        else:\n",
    "            trend_interpretation = 'No significant exponential trend'\n",
    "        \n",
    "        total_papers = counts.sum()\n",
    "        avg_papers_per_year = counts.mean()\n",
    "        \n",
    "        # Calculate doubling time (only meaningful for positive growth)\n",
    "        doubling_time = np.log(2) / slope if slope > 0 else np.inf\n",
    "        \n",
    "        results.append({\n",
    "            'keyword': keyword,\n",
    "            'log_slope': slope,\n",
    "            'log_intercept': intercept,\n",
    "            'r_squared': r_squared,\n",
    "            'p_value': p_value,\n",
    "            'std_error': std_err,\n",
    "            'slope_ci_lower': slope_ci_lower,\n",
    "            'slope_ci_upper': slope_ci_upper,\n",
    "            'annual_growth_rate_percent': annual_growth_rate,\n",
    "            'doubling_time_years': doubling_time,\n",
    "            'trend_interpretation': trend_interpretation,\n",
    "            'total_papers': total_papers,\n",
    "            'avg_papers_per_year': avg_papers_per_year,\n",
    "            'significant_trend': p_value < 0.05,\n",
    "            'years_analyzed': n\n",
    "        })\n",
    "    \n",
    "    return pd.DataFrame(results)\n",
    "\n",
    "def compare_linear_vs_exponential(df, min_papers=1):\n",
    "    \"\"\"\n",
    "    Compare linear vs exponential growth models for each keyword in the dataframe\n",
    "    Works with both single keyword (like df_totals) and multiple keyword dataframes (like df_keywords)\n",
    "    Returns comparison results\n",
    "    \"\"\"\n",
    "    linear_results = linear_trend_analysis(df)\n",
    "    log_results = log_trend_analysis(df, min_papers)\n",
    "    \n",
    "    # Merge results for comparison\n",
    "    comparison = pd.merge(linear_results[['keyword', 'r_squared', 'p_value', 'significant_trend']], \n",
    "                         log_results[['keyword', 'r_squared', 'p_value', 'significant_trend', 'annual_growth_rate_percent', 'doubling_time_years']], \n",
    "                         on='keyword', suffixes=('_linear', '_log'))\n",
    "    \n",
    "    # Determine better fit\n",
    "    comparison['better_fit'] = np.where(comparison['r_squared_log'] > comparison['r_squared_linear'], \n",
    "                                       'Exponential', 'Linear')\n",
    "    comparison['r_squared_difference'] = comparison['r_squared_log'] - comparison['r_squared_linear']\n",
    "    \n",
    "    return comparison, linear_results, log_results\n",
    "\n",
    "# Perform analysis using the refactored functions\n",
    "print('COMPREHENSIVE GROWTH ANALYSIS - TOTAL PAPERS')\n",
    "print('=' * 80)\n",
    "\n",
    "comparison, linear_results, log_results = compare_linear_vs_exponential(df_totals, min_papers=1)\n",
    "\n",
    "# Display results\n",
    "print('\\nMODEL COMPARISON RESULTS:')\n",
    "print('-' * 60)\n",
    "display_cols = ['keyword', 'r_squared_linear', 'r_squared_log', 'better_fit', \n",
    "                'annual_growth_rate_percent', 'r_squared_difference']\n",
    "print(comparison[display_cols])\n",
    "\n",
    "print('\\nLINEAR MODEL RESULTS:')\n",
    "print('-' * 40)\n",
    "linear_total = linear_results.iloc[0]  # Since df_totals only has one keyword ('total')\n",
    "print(f\"Growth rate: {linear_total['slope_papers_per_year']:.2f} papers/year\")\n",
    "print(f\"R²: {linear_total['r_squared']:.4f}\")\n",
    "print(f\"P-value: {linear_total['p_value']:.2e}\")\n",
    "\n",
    "print('\\nEXPONENTIAL MODEL RESULTS:')\n",
    "print('-' * 40)\n",
    "log_total = log_results.iloc[0]  # Since df_totals only has one keyword ('total')\n",
    "print(f\"Annual growth rate: {log_total['annual_growth_rate_percent']:.1f}% per year\")\n",
    "print(f\"Doubling time: {log_total['doubling_time_years']:.1f} years\")\n",
    "print(f\"R²: {log_total['r_squared']:.4f}\")\n",
    "print(f\"P-value: {log_total['p_value']:.2e}\")\n",
    "\n",
    "# Create comprehensive visualization using the results from the refactored functions\n",
    "plt.style.use('dark_background')\n",
    "fig, axes = plt.subplots(2, 2, figsize=(16, 12))\n",
    "\n",
    "# 1. Model comparison\n",
    "ax1 = axes[0, 0]\n",
    "models = ['Linear', 'Exponential']\n",
    "r_squared_values = [linear_total['r_squared'], log_total['r_squared']]\n",
    "colors = ['blue', 'red']\n",
    "\n",
    "bars = ax1.bar(models, r_squared_values, color=colors, alpha=0.7)\n",
    "ax1.set_ylabel('R-squared Value')\n",
    "ax1.set_title('Model Fit Comparison')\n",
    "ax1.set_ylim(0, 1)\n",
    "ax1.grid(True, alpha=0.3)\n",
    "\n",
    "for bar, value in zip(bars, r_squared_values):\n",
    "    ax1.text(bar.get_x() + bar.get_width()/2, bar.get_height() + 0.01, \n",
    "             f'{value:.3f}', ha='center', va='bottom', fontweight='bold')\n",
    "\n",
    "# 2. Original data with both fits\n",
    "ax2 = axes[0, 1]\n",
    "years = df_totals['year'].values\n",
    "counts = df_totals['paper_count'].values\n",
    "predicted_linear = linear_total['slope_papers_per_year'] * years + linear_total['intercept']\n",
    "predicted_log = np.exp(log_total['log_slope'] * years + log_total['log_intercept']) - 1\n",
    "\n",
    "ax2.scatter(years, counts, alpha=0.7, s=50, color='#FFD700', label='Actual Data', zorder=3)\n",
    "ax2.plot(years, predicted_linear, color='blue', linewidth=2, \n",
    "         label=f'Linear (R²={linear_total[\"r_squared\"]:.3f})', alpha=0.8)\n",
    "ax2.plot(years, predicted_log, color='red', linewidth=2, \n",
    "         label=f'Exponential (R²={log_total[\"r_squared\"]:.3f})', alpha=0.8)\n",
    "\n",
    "ax2.set_xlabel('Year')\n",
    "ax2.set_ylabel('Papers Published')\n",
    "ax2.set_title('Growth Models Comparison')\n",
    "ax2.legend()\n",
    "ax2.grid(True, alpha=0.3)\n",
    "\n",
    "# 3. Log-scale visualization\n",
    "ax3 = axes[1, 0]\n",
    "log_counts = np.log(counts + 1)\n",
    "ax3.scatter(years, log_counts, alpha=0.7, s=50, color='#FFD700', label='Log(Actual Data)', zorder=3)\n",
    "ax3.plot(years, log_total['log_slope'] * years + log_total['log_intercept'],\n",
    "         color='red', linewidth=2, label=f'Log-Linear Fit (R²={log_total[\"r_squared\"]:.3f})', alpha=0.8)\n",
    "\n",
    "ax3.set_xlabel('Year')\n",
    "ax3.set_ylabel('Log(Papers Published)')\n",
    "ax3.set_title('Exponential Model (Log Scale)')\n",
    "ax3.legend()\n",
    "ax3.grid(True, alpha=0.3)\n",
    "\n",
    "# 4. Residuals analysis\n",
    "ax4 = axes[1, 1]\n",
    "residuals_linear = counts - predicted_linear\n",
    "residuals_exp = counts - predicted_log\n",
    "\n",
    "ax4.scatter(years, residuals_linear, alpha=0.7, s=30, color='blue', label='Linear Residuals')\n",
    "ax4.scatter(years, residuals_exp, alpha=0.7, s=30, color='red', label='Exponential Residuals')\n",
    "ax4.axhline(y=0, color='white', linestyle='--', alpha=0.5)\n",
    "\n",
    "ax4.set_xlabel('Year')\n",
    "ax4.set_ylabel('Residuals')\n",
    "ax4.set_title('Model Residuals')\n",
    "ax4.legend()\n",
    "ax4.grid(True, alpha=0.3)\n",
    "\n",
    "plt.tight_layout()\n",
    "plt.show()\n",
    "\n",
    "# Key insights\n",
    "print(\"\\n\" + \"=\"*80)\n",
    "print(\"KEY INSIGHTS - TOTAL PAPERS GROWTH ANALYSIS:\")\n",
    "print(\"=\"*80)\n",
    "\n",
    "comparison_total = comparison.iloc[0]  # Since df_totals only has one keyword ('total')\n",
    "\n",
    "if comparison_total['better_fit'] == 'Exponential':\n",
    "    print(f\"✓ The field shows EXPONENTIAL growth with {log_total['annual_growth_rate_percent']:.1f}% annual growth rate\")\n",
    "    print(f\"✓ Research output doubles every {log_total['doubling_time_years']:.1f} years\")\n",
    "    print(f\"✓ Exponential model explains {log_total['r_squared']*100:.1f}% of variance\")\n",
    "else:\n",
    "    print(f\"✓ The field shows LINEAR growth with {linear_total['slope_papers_per_year']:.2f} papers/year increase\")\n",
    "    print(f\"✓ Linear model explains {linear_total['r_squared']*100:.1f}% of variance\")\n",
    "\n",
    "print(f\"✓ Model improvement: {comparison_total['r_squared_difference']:+.4f} R² difference\")\n",
    "\n",
    "if log_total['p_value'] < 0.05:\n",
    "    print(\"✓ Growth trend is statistically significant (p < 0.05)\")\n",
    "else:\n",
    "    print(\"Growth trend is not statistically significant (p ≥ 0.05)\")\n",
    "\n",
    "if log_total['annual_growth_rate_percent'] > 10:\n",
    "    print(f\"High growth rate ({log_total['annual_growth_rate_percent']:.1f}%/year) may not be sustainable long-term\")\n",
    "else:\n",
    "    print(f\"✓ Moderate growth rate ({log_total['annual_growth_rate_percent']:.1f}%/year) appears sustainable\")"
   ]
  },
  {
   "cell_type": "markdown",
   "id": "62724f6f",
   "metadata": {},
   "source": [
    "==========================================================================\n",
    "### Per Keyword Regression Analysis"
   ]
  },
  {
   "cell_type": "markdown",
   "id": "86b6fc5f",
   "metadata": {},
   "source": [
    "We'll do the same as above, but this time doing both the linear and exponential analysis in one go and see how both models compare on a per keyword basis."
   ]
  },
  {
   "cell_type": "code",
   "execution_count": 12,
   "id": "e43954bb",
   "metadata": {},
   "outputs": [
    {
     "name": "stdout",
     "output_type": "stream",
     "text": [
      "COMPREHENSIVE GROWTH ANALYSIS\n",
      "================================================================================\n",
      "\n",
      "MODEL COMPARISON RESULTS:\n",
      "------------------------------------------------------------\n",
      "              keyword  r_squared_linear  r_squared_log   better_fit  \\\n",
      "2     urban ecosystem          0.615529       0.952564  Exponential   \n",
      "3  urban green spaces          0.615049       0.946375  Exponential   \n",
      "1       urban ecology          0.646892       0.947195  Exponential   \n",
      "0  urban biodiversity          0.674296       0.939802  Exponential   \n",
      "4    urban vegetation          0.693672       0.946765  Exponential   \n",
      "5      urban wildlife          0.719227       0.961730  Exponential   \n",
      "\n",
      "   annual_growth_rate_percent  r_squared_difference  \n",
      "2                   12.294559              0.337035  \n",
      "3                   12.061090              0.331326  \n",
      "1                   10.617228              0.300303  \n",
      "0                   17.977592              0.265506  \n",
      "4                    8.853252              0.253093  \n",
      "5                    8.589296              0.242503  \n",
      "\n",
      "\n",
      "LOGARITHMIC REGRESSION RESULTS (Testing Exponential Growth):\n",
      "--------------------------------------------------------------------------------\n",
      "              keyword  annual_growth_rate_percent  doubling_time_years  \\\n",
      "0  urban biodiversity                   17.977592             4.192646   \n",
      "2     urban ecosystem                   12.294559             5.977714   \n",
      "3  urban green spaces                   12.061090             6.086967   \n",
      "1       urban ecology                   10.617228             6.869259   \n",
      "4    urban vegetation                    8.853252             8.170969   \n",
      "5      urban wildlife                    8.589296             8.411710   \n",
      "\n",
      "   r_squared       p_value                    trend_interpretation  \n",
      "0   0.939802  2.080995e-25  Significantly increasing (exponential)  \n",
      "2   0.952564  4.273582e-36  Significantly increasing (exponential)  \n",
      "3   0.946375  1.039787e-34  Significantly increasing (exponential)  \n",
      "1   0.947195  6.963555e-35  Significantly increasing (exponential)  \n",
      "4   0.946765  8.598278e-35  Significantly increasing (exponential)  \n",
      "5   0.961730  1.600434e-38  Significantly increasing (exponential)  \n"
     ]
    },
    {
     "data": {
      "image/png": "[encoded data removed]",
      "text/plain": [
       "<Figure size 1600x1800 with 6 Axes>"
      ]
     },
     "metadata": {},
     "output_type": "display_data"
    },
    {
     "name": "stdout",
     "output_type": "stream",
     "text": [
      "\n",
      "================================================================================\n",
      "KEY INSIGHTS - GROWTH PATTERN ANALYSIS:\n",
      "================================================================================\n",
      "Fastest linear growth: urban green spaces (46.35 papers/year)\n",
      "Fastest exponential growth: urban biodiversity (18.0% per year)\n",
      "  - Doubling time: 4.2 years\n",
      "Fields better explained by exponential growth: 6/6 (100.0%)\n",
      "Significant linear trends: 6/6\n",
      "Significant exponential trends: 6/6\n",
      "Biggest improvement with exponential model: urban ecosystem (ΔR² = +0.337)\n"
     ]
    }
   ],
   "source": [
    "print('COMPREHENSIVE GROWTH ANALYSIS')\n",
    "print('=' * 80)\n",
    "\n",
    "comparison, linear_results, log_results = compare_linear_vs_exponential(df_keywords, min_papers=1)\n",
    "\n",
    "print('\\nMODEL COMPARISON RESULTS:')\n",
    "print('-' * 60)\n",
    "display_cols = ['keyword', 'r_squared_linear', 'r_squared_log', 'better_fit', \n",
    "                'annual_growth_rate_percent', 'r_squared_difference']\n",
    "print(comparison[display_cols].sort_values('r_squared_difference', ascending=False))\n",
    "\n",
    "print('\\n\\nLOGARITHMIC REGRESSION RESULTS (Testing Exponential Growth):')\n",
    "print('-' * 80)\n",
    "log_display_cols = ['keyword', 'annual_growth_rate_percent', 'doubling_time_years', \n",
    "                   'r_squared', 'p_value', 'trend_interpretation']\n",
    "print(log_results[log_display_cols].sort_values('annual_growth_rate_percent', ascending=False))\n",
    "\n",
    "fig, axes = plt.subplots(3, 2, figsize=(16, 18))\n",
    "\n",
    "# 1. R-squared comparison\n",
    "ax1 = axes[0, 0]\n",
    "x_pos = np.arange(len(comparison))\n",
    "width = 0.35\n",
    "ax1.bar(x_pos - width/2, comparison['r_squared_linear'], width, label='Linear Model', alpha=0.7, color='blue')\n",
    "ax1.bar(x_pos + width/2, comparison['r_squared_log'], width, label='Exponential Model', alpha=0.7, color='red')\n",
    "ax1.set_xticks(x_pos)\n",
    "ax1.set_xticklabels(comparison['keyword'], rotation=45, ha='right')\n",
    "ax1.set_ylabel('R-squared Value')\n",
    "ax1.set_title('Model Fit Comparison: Linear vs Exponential')\n",
    "ax1.legend(bbox_to_anchor=(1.05, 1), loc='upper left', fontsize=10)\n",
    "ax1.grid(True, alpha=0.3)\n",
    "\n",
    "# 2. Annual growth rates from exponential model\n",
    "ax2 = axes[0, 1]\n",
    "growth_rates = log_results['annual_growth_rate_percent']\n",
    "colors = ['green' if sig else 'red' for sig in log_results['significant_trend']]\n",
    "bars = ax2.bar(range(len(log_results)), growth_rates, color=colors, alpha=0.7)\n",
    "ax2.set_xticks(range(len(log_results)))\n",
    "ax2.set_xticklabels(log_results['keyword'], rotation=45, ha='right')\n",
    "ax2.set_ylabel('Annual Growth Rate (%)')\n",
    "ax2.set_title('Annual Growth Rates (Exponential Model)\\n(Green = Significant, Red = Not Significant)')\n",
    "ax2.axhline(y=0, color='black', linestyle='-', alpha=0.3)\n",
    "ax2.grid(True, alpha=0.3)\n",
    "\n",
    "for bar, rate in zip(bars, growth_rates):\n",
    "    if not np.isnan(rate) and abs(rate) < 1000:\n",
    "        ax2.text(bar.get_x() + bar.get_width()/2, bar.get_height() + 0.1, \n",
    "                f'{rate:.1f}%', ha='center', va='bottom', fontsize=8)\n",
    "\n",
    "# 3. Doubling times (only for positive growth)\n",
    "ax3 = axes[1, 0]\n",
    "finite_doubling = log_results[log_results['doubling_time_years'] != np.inf]\n",
    "if len(finite_doubling) > 0:\n",
    "    ax3.bar(range(len(finite_doubling)), finite_doubling['doubling_time_years'], alpha=0.7, color='orange')\n",
    "    ax3.set_xticks(range(len(finite_doubling)))\n",
    "    ax3.set_xticklabels(finite_doubling['keyword'], rotation=45, ha='right')\n",
    "    ax3.set_ylabel('Years to Double')\n",
    "    ax3.set_title('Doubling Time (Years) - Growing Fields Only')\n",
    "    ax3.grid(True, alpha=0.3)\n",
    "else:\n",
    "    ax3.text(0.5, 0.5, 'No fields with\\npositive exponential growth', \n",
    "            ha='center', va='center', transform=ax3.transAxes, fontsize=12)\n",
    "    ax3.set_title('Doubling Time (Years)')\n",
    "\n",
    "# 4. Linear trend slopes with confidence intervals (conditional on better fit)\n",
    "ax4 = axes[1, 1]\n",
    "\n",
    "linear_better_mask = comparison['better_fit'] == 'Linear'\n",
    "if linear_better_mask.any():\n",
    "    linear_subset = linear_results[linear_results['keyword'].isin(comparison[linear_better_mask]['keyword'])]\n",
    "    \n",
    "    colors = ['green' if sig else 'red' for sig in linear_subset['significant_trend']]\n",
    "    keywords = linear_subset['keyword']\n",
    "    slopes = linear_subset['slope_papers_per_year']\n",
    "    ci_lower = linear_subset['slope_ci_lower']\n",
    "    ci_upper = linear_subset['slope_ci_upper']\n",
    "    \n",
    "    y_pos = np.arange(len(keywords))\n",
    "    ax4.barh(y_pos, slopes, color=colors, alpha=0.7)\n",
    "    ax4.errorbar(slopes, y_pos, xerr=[slopes - ci_lower, ci_upper - slopes], \n",
    "                fmt='none', color='black', capsize=5)\n",
    "    ax4.set_yticks(y_pos)\n",
    "    ax4.set_yticklabels(keywords)\n",
    "    ax4.set_xlabel('Growth Rate (Papers per Year)')\n",
    "    ax4.set_title('Linear Growth Rates (Linear Model Fits Better)\\n(Green = Significant, Red = Not Significant)')\n",
    "    ax4.axvline(x=0, color='black', linestyle='--', alpha=0.5)\n",
    "    ax4.grid(True, alpha=0.3)\n",
    "else:\n",
    "    ax4.text(0.5, 0.5, 'No keywords have\\nbetter linear fits', \n",
    "            ha='center', va='center', transform=ax4.transAxes, fontsize=12)\n",
    "    ax4.set_title('Linear Growth Rates (Linear Model Fits Better)')\n",
    "    ax4.set_xlabel('Growth Rate (Papers per Year)')\n",
    "    ax4.set_ylabel('Keywords')\n",
    "\n",
    "# 5. Actual vs Predicted - Linear Model\n",
    "ax5 = axes[2, 0]\n",
    "for i, keyword in enumerate(linear_results['keyword']):\n",
    "    keyword_data = df_keywords[df_keywords['search_keyword'] == keyword].sort_values('year')\n",
    "    years = keyword_data['year'].values\n",
    "    counts = keyword_data['paper_count'].values\n",
    "    \n",
    "    slope = linear_results[linear_results['keyword'] == keyword]['slope_papers_per_year'].iloc[0]\n",
    "    intercept = linear_results[linear_results['keyword'] == keyword]['intercept'].iloc[0]\n",
    "    predicted = slope * years + intercept\n",
    "    \n",
    "    try:\n",
    "        color = color_map.get(keyword, plt.cm.tab10(i % 10))\n",
    "    except:\n",
    "        color = plt.cm.tab10(i % 10)\n",
    "    \n",
    "    ax5.scatter(predicted, counts, alpha=0.7, label=keyword, s=30, color=color)\n",
    "\n",
    "# Perfect prediction line\n",
    "max_val = max(ax5.get_xlim()[1], ax5.get_ylim()[1])\n",
    "min_val = min(ax5.get_xlim()[0], ax5.get_ylim()[0])\n",
    "ax5.plot([min_val, max_val], [min_val, max_val], 'w--', alpha=0.5, label='Perfect Prediction')\n",
    "ax5.set_xlabel('Predicted Papers (Linear Model)')\n",
    "ax5.set_ylabel('Actual Papers')\n",
    "ax5.set_title('Actual vs Predicted: Linear Model')\n",
    "ax5.legend(bbox_to_anchor=(1.05, 1), loc='upper left', fontsize=10)\n",
    "ax5.grid(True, alpha=0.3)\n",
    "\n",
    "# 6. Actual vs Predicted - Exponential Model\n",
    "ax6 = axes[2, 1]\n",
    "\n",
    "all_actual_exp = []\n",
    "all_predicted_exp = []\n",
    "\n",
    "for i, keyword in enumerate(log_results['keyword']):\n",
    "    keyword_data = df_keywords[df_keywords['search_keyword'] == keyword].sort_values('year')\n",
    "    years = keyword_data['year'].values\n",
    "    counts = keyword_data['paper_count'].values\n",
    "    \n",
    "    min_papers = 1\n",
    "    valid_mask = counts >= min_papers\n",
    "    if valid_mask.sum() < 3:\n",
    "        continue\n",
    "    \n",
    "    years_filtered = years[valid_mask]\n",
    "    counts_filtered = counts[valid_mask]\n",
    "    \n",
    "    log_slope = log_results[log_results['keyword'] == keyword]['log_slope'].iloc[0]\n",
    "    log_intercept = log_results[log_results['keyword'] == keyword]['log_intercept'].iloc[0]\n",
    "    \n",
    "    predicted_log = log_slope * years_filtered + log_intercept\n",
    "    predicted_counts = np.exp(predicted_log) - 1\n",
    "    \n",
    "    all_actual_exp.extend(counts_filtered)\n",
    "    all_predicted_exp.extend(predicted_counts)\n",
    "    \n",
    "    try:\n",
    "        color = color_map.get(keyword, plt.cm.tab10(i % 10))\n",
    "    except:\n",
    "        color = plt.cm.tab10(i % 10)\n",
    "    \n",
    "    ax6.scatter(predicted_counts, counts_filtered, alpha=0.7, label=keyword, s=30, color=color)\n",
    "\n",
    "# Perfect prediction line\n",
    "if len(all_actual_exp) > 0:\n",
    "    max_val = max(max(all_predicted_exp), max(all_actual_exp))\n",
    "    min_val = max(0, min(min(all_predicted_exp), min(all_actual_exp)))  # Don't go below 0\n",
    "    ax6.plot([min_val, max_val], [min_val, max_val], 'w--', alpha=0.5, label='Perfect Prediction')\n",
    "    \n",
    "    if len(all_actual_exp) > 1:\n",
    "        ss_res = np.sum((np.array(all_actual_exp) - np.array(all_predicted_exp)) ** 2)\n",
    "        ss_tot = np.sum((np.array(all_actual_exp) - np.mean(all_actual_exp)) ** 2)\n",
    "        r_squared_combined = 1 - (ss_res / ss_tot) if ss_tot > 0 else 0\n",
    "        ax6.text(0.05, 0.95, f'Combined R² = {r_squared_combined:.3f}', \n",
    "                transform=ax6.transAxes, bbox=dict(boxstyle=\"round,pad=0.3\", facecolor=\"darkgray\", alpha=0.8))\n",
    "\n",
    "ax6.set_xlabel('Predicted Papers (Exponential Model)')\n",
    "ax6.set_ylabel('Actual Papers')\n",
    "ax6.set_title('Actual vs Predicted: Exponential Model')\n",
    "ax6.grid(True, alpha=0.3)\n",
    "\n",
    "if len(all_actual_exp) > 0:\n",
    "    residuals = np.array(all_actual_exp) - np.array(all_predicted_exp)\n",
    "    mean_residual = np.mean(residuals)\n",
    "    if abs(mean_residual) > np.std(all_actual_exp) * 0.1:\n",
    "        bias_direction = \"above\" if mean_residual > 0 else \"below\"\n",
    "        ax6.text(0.05, 0.85, f'Systematic bias: points tend to be {bias_direction} line\\n(Mean residual: {mean_residual:.1f})', \n",
    "                transform=ax6.transAxes, bbox=dict(boxstyle=\"round,pad=0.3\", facecolor=\"orange\", alpha=0.8),\n",
    "                fontsize=9)\n",
    "\n",
    "\n",
    "plt.tight_layout()\n",
    "plt.show()\n",
    "\n",
    "# Summary insights\n",
    "print(\"\\n\" + \"=\"*80)\n",
    "print(\"KEY INSIGHTS - GROWTH PATTERN ANALYSIS:\")\n",
    "print(\"=\"*80)\n",
    "\n",
    "# Linear model insights\n",
    "fastest_linear = linear_results.loc[linear_results['slope_papers_per_year'].idxmax()]\n",
    "print(f\"Fastest linear growth: {fastest_linear['keyword']} ({fastest_linear['slope_papers_per_year']:.2f} papers/year)\")\n",
    "\n",
    "# Exponential model insights\n",
    "if len(log_results) > 0:\n",
    "    fastest_exponential = log_results.loc[log_results['annual_growth_rate_percent'].idxmax()]\n",
    "    print(f\"Fastest exponential growth: {fastest_exponential['keyword']} ({fastest_exponential['annual_growth_rate_percent']:.1f}% per year)\")\n",
    "    \n",
    "    if fastest_exponential['doubling_time_years'] != np.inf:\n",
    "        print(f\"  - Doubling time: {fastest_exponential['doubling_time_years']:.1f} years\")\n",
    "\n",
    "# Model comparison insights\n",
    "exponential_better = len(comparison[comparison['better_fit'] == 'Exponential'])\n",
    "total_fields = len(comparison)\n",
    "print(f\"Fields better explained by exponential growth: {exponential_better}/{total_fields} ({exponential_better/total_fields*100:.1f}%)\")\n",
    "\n",
    "# Significant trends\n",
    "linear_sig = len(linear_results[linear_results['significant_trend']])\n",
    "log_sig = len(log_results[log_results['significant_trend']]) if len(log_results) > 0 else 0\n",
    "print(f\"Significant linear trends: {linear_sig}/{len(linear_results)}\")\n",
    "print(f\"Significant exponential trends: {log_sig}/{len(log_results) if len(log_results) > 0 else 0}\")\n",
    "\n",
    "# Best improvements\n",
    "if len(comparison) > 0:\n",
    "    best_improvement = comparison.loc[comparison['r_squared_difference'].idxmax()]\n",
    "    if best_improvement['r_squared_difference'] > 0:\n",
    "        print(f\"Biggest improvement with exponential model: {best_improvement['keyword']} (ΔR² = +{best_improvement['r_squared_difference']:.3f})\")"
   ]
  },
  {
   "cell_type": "markdown",
   "id": "b8efab06",
   "metadata": {},
   "source": [
    "==========================================================================\n",
    "### Analyzing Keyword Relationship\n",
    "\n",
    "I'll look into relationships between keywords, looking into wether they tend to appear together often. To begin with, I'll look at the whole of my data, looking at all of the papers obtained. I will be analyzing my data with Cosine Similarity to avoid biases towards more popular keywords. "
   ]
  },
  {
   "cell_type": "code",
   "execution_count": 11,
   "id": "6b47a0c0",
   "metadata": {},
   "outputs": [
    {
     "data": {
      "application/vnd.microsoft.datawrangler.viewer.v0+json": {
       "columns": [
        {
         "name": "index",
         "rawType": "int64",
         "type": "integer"
        },
        {
         "name": "paperId",
         "rawType": "object",
         "type": "string"
        },
        {
         "name": "keywords",
         "rawType": "object",
         "type": "unknown"
        },
        {
         "name": "year",
         "rawType": "int64",
         "type": "integer"
        }
       ],
       "ref": "f2cd1fea-0070-4b1a-a6b6-add807c06419",
       "rows": [
        [
         "0",
         "W594319624",
         "['urban ecology']",
         "1970"
        ],
        [
         "1",
         "W2902120482",
         "['urban ecology', 'urban green spaces', 'urban wildlife']",
         "1970"
        ],
        [
         "2",
         "W2475615813",
         "['urban ecology', 'urban green spaces', 'urban wildlife', 'urban vegetation']",
         "1970"
        ],
        [
         "3",
         "W4206441299",
         "['urban ecology', 'urban vegetation']",
         "1970"
        ],
        [
         "4",
         "W4247273480",
         "['urban ecology', 'urban wildlife', 'urban vegetation']",
         "1970"
        ]
       ],
       "shape": {
        "columns": 3,
        "rows": 5
       }
      },
      "text/html": [
       "<div>\n",
       "<style scoped>\n",
       "    .dataframe tbody tr th:only-of-type {\n",
       "        vertical-align: middle;\n",
       "    }\n",
       "\n",
       "    .dataframe tbody tr th {\n",
       "        vertical-align: top;\n",
       "    }\n",
       "\n",
       "    .dataframe thead th {\n",
       "        text-align: right;\n",
       "    }\n",
       "</style>\n",
       "<table border=\"1\" class=\"dataframe\">\n",
       "  <thead>\n",
       "    <tr style=\"text-align: right;\">\n",
       "      <th></th>\n",
       "      <th>paperId</th>\n",
       "      <th>keywords</th>\n",
       "      <th>year</th>\n",
       "    </tr>\n",
       "  </thead>\n",
       "  <tbody>\n",
       "    <tr>\n",
       "      <th>0</th>\n",
       "      <td>W594319624</td>\n",
       "      <td>[urban ecology]</td>\n",
       "      <td>1970</td>\n",
       "    </tr>\n",
       "    <tr>\n",
       "      <th>1</th>\n",
       "      <td>W2902120482</td>\n",
       "      <td>[urban ecology, urban green spaces, urban wild...</td>\n",
       "      <td>1970</td>\n",
       "    </tr>\n",
       "    <tr>\n",
       "      <th>2</th>\n",
       "      <td>W2475615813</td>\n",
       "      <td>[urban ecology, urban green spaces, urban wild...</td>\n",
       "      <td>1970</td>\n",
       "    </tr>\n",
       "    <tr>\n",
       "      <th>3</th>\n",
       "      <td>W4206441299</td>\n",
       "      <td>[urban ecology, urban vegetation]</td>\n",
       "      <td>1970</td>\n",
       "    </tr>\n",
       "    <tr>\n",
       "      <th>4</th>\n",
       "      <td>W4247273480</td>\n",
       "      <td>[urban ecology, urban wildlife, urban vegetation]</td>\n",
       "      <td>1970</td>\n",
       "    </tr>\n",
       "  </tbody>\n",
       "</table>\n",
       "</div>"
      ],
      "text/plain": [
       "       paperId                                           keywords  year\n",
       "0   W594319624                                    [urban ecology]  1970\n",
       "1  W2902120482  [urban ecology, urban green spaces, urban wild...  1970\n",
       "2  W2475615813  [urban ecology, urban green spaces, urban wild...  1970\n",
       "3  W4206441299                  [urban ecology, urban vegetation]  1970\n",
       "4  W4247273480  [urban ecology, urban wildlife, urban vegetation]  1970"
      ]
     },
     "execution_count": 11,
     "metadata": {},
     "output_type": "execute_result"
    }
   ],
   "source": [
    "with sqlite3.connect(PAPERS_DB_PATH) as conn:\n",
    "    df_keyword_occurrence = pd.read_sql_query(\"\"\"\n",
    "    SELECT paperId, search_keyword, year\n",
    "    FROM papers\n",
    "    ORDER BY year\n",
    "\"\"\", conn)\n",
    "\n",
    "\n",
    "df_keyword_occurrence.rename(columns={'search_keyword': 'keywords'},inplace=True)\n",
    "\n",
    "df_keyword_occurrence['keywords'] = df_keyword_occurrence['keywords'].str.split(',')\n",
    "df_keyword_occurrence['keywords'] = df_keyword_occurrence['keywords'].apply(\n",
    "    lambda lst: [kw.strip() for kw in lst]\n",
    ")\n",
    "\n",
    "df_keyword_occurrence.head()"
   ]
  },
  {
   "cell_type": "code",
   "execution_count": 12,
   "id": "ff3e3f78",
   "metadata": {},
   "outputs": [
    {
     "data": {
      "image/png": "[encoded data removed]",
      "text/plain": [
       "<Figure size 720x720 with 2 Axes>"
      ]
     },
     "metadata": {},
     "output_type": "display_data"
    }
   ],
   "source": [
    "keyword_counts = pd.Series(dtype=int)\n",
    "solo_counts = pd.Series(dtype=int)\n",
    "\n",
    "for _, row in df_keyword_occurrence.iterrows():\n",
    "    keywords = row['keywords']\n",
    "    if len(keywords) == 1:\n",
    "        # Single keyword paper\n",
    "        kw = keywords[0].strip()\n",
    "        solo_counts[kw] = solo_counts.get(kw, 0) + 1\n",
    "        keyword_counts[kw] = keyword_counts.get(kw, 0) + 1\n",
    "    else:\n",
    "        # Multiple keyword paper\n",
    "        for kw in keywords:\n",
    "            kw = kw.strip()\n",
    "            keyword_counts[kw] = keyword_counts.get(kw, 0) + 1\n",
    "\n",
    "df_keyword_stats = pd.DataFrame({\n",
    "    \"total\": keyword_counts,\n",
    "    \"solo\": solo_counts\n",
    "}).fillna(0)\n",
    "\n",
    "df_keyword_stats[\"solo_ratio\"] = (df_keyword_stats[\"solo\"] / df_keyword_stats[\"total\"]).round(2)\n",
    "\n",
    "pair_counts = Counter()\n",
    "\n",
    "for keyword_list in df_keyword_occurrence[\"keywords\"]:\n",
    "    unique_keywords = sorted([kw.strip() for kw in keyword_list])\n",
    "    for kw1, kw2 in combinations(unique_keywords, 2):\n",
    "        pair_counts[(kw1, kw2)] += 1\n",
    "        \n",
    "all_keywords = sorted(keyword_counts.index)\n",
    "\n",
    "cooc_matrix = pd.DataFrame(np.zeros((len(all_keywords), len(all_keywords))),\n",
    "                           index=all_keywords, columns=all_keywords)\n",
    "\n",
    "for (kw1, kw2), count in pair_counts.items():\n",
    "    cooc_matrix.at[kw2, kw1] = count / math.sqrt(keyword_counts[kw1] * keyword_counts[kw2])\n",
    "num_keywords = len(cooc_matrix)\n",
    "cell_size = 1.2\n",
    "\n",
    "plt.figure(figsize=(num_keywords * cell_size, num_keywords * cell_size))\n",
    "\n",
    "mask = np.triu(np.ones_like(cooc_matrix, dtype=bool))\n",
    "\n",
    "sns.heatmap(cooc_matrix, \n",
    "            mask=mask,\n",
    "            cmap=\"viridis\",\n",
    "            annot=True,\n",
    "            fmt=\".2f\",\n",
    "            square=True, \n",
    "            cbar_kws={\"shrink\": 0.6},\n",
    "            vmin=0,\n",
    "            vmax=1)\n",
    "\n",
    "plt.suptitle(\"Keyword-Pair Cosine Similarity\", fontsize=24, x=0.45, y=0.91)\n",
    "plt.title(\"(Values closer to 1 indicate strong relation)\", fontsize=14)\n",
    "plt.xticks(rotation=45, ha='right')\n",
    "plt.show()"
   ]
  },
  {
   "cell_type": "markdown",
   "id": "ff29655f",
   "metadata": {},
   "source": [
    "We can see the keywords have relatively low similarity, meaning they do occur together occasionally, but mostly cover their own fields. Whiles this might be bad news in other scenarios, I believe it actually is a positive outlook in this case, as it shows my choice of keywords cast a wider net to obtain a larger amount of papers related to the research of urban environments.\n",
    "\n",
    "Next I looked into the data over time, seeing how the relatioships changed over time. Since initial data was sparse, which can cause some issues with the similarity calculation, I went with 5-year intervals. That is, i grouped all of the data every 5 years before I performed the relationship analysis."
   ]
  },
  {
   "cell_type": "code",
   "execution_count": 13,
   "id": "7c3f6c8f",
   "metadata": {},
   "outputs": [
    {
     "data": {
      "image/png": "[encoded data removed]",
      "text/plain": [
       "<Figure size 1600x1000 with 2 Axes>"
      ]
     },
     "metadata": {},
     "output_type": "display_data"
    }
   ],
   "source": [
    "df_keyword_pivot = df_keywords.pivot(index='search_keyword', columns='year', values='paper_count')\n",
    "df_keyword_pivot.fillna(0, inplace=True)\n",
    "\n",
    "year_pair_counts = {}\n",
    "\n",
    "for _, row in df_keyword_occurrence.iterrows():\n",
    "    year = row['year']\n",
    "    year_bin = (year // 5) * 5\n",
    "    keyword_list = row['keywords']\n",
    "    \n",
    "    unique_keywords = sorted([kw.strip() for kw in keyword_list])\n",
    "    for kw1, kw2 in combinations(unique_keywords, 2):\n",
    "        pair_key = f\"{kw1} × {kw2}\"\n",
    "        \n",
    "        if year_bin not in year_pair_counts:\n",
    "            year_pair_counts[year_bin] = {}\n",
    "        if pair_key not in year_pair_counts[year_bin]:\n",
    "            year_pair_counts[year_bin][pair_key] = 0\n",
    "        year_pair_counts[year_bin][pair_key] += 1\n",
    "\n",
    "pair_time_data = []\n",
    "for year_bin, pairs_dict in year_pair_counts.items():\n",
    "    for pair, count in pairs_dict.items():\n",
    "        pair_time_data.append({\n",
    "            'year_bin': year_bin,\n",
    "            'keyword_pair': pair,\n",
    "            'cooccurrence_count': count\n",
    "        })\n",
    "\n",
    "df_pair_pivot = pd.DataFrame(pair_time_data).pivot(index='keyword_pair', columns='year_bin', values='cooccurrence_count')\n",
    "df_pair_pivot.fillna(0, inplace=True)\n",
    "\n",
    "keyword_year_data = []\n",
    "for _, row in df_keywords.iterrows():\n",
    "    year_bin = (row['year'] // 5) * 5\n",
    "    keyword_year_data.append({\n",
    "        'search_keyword': row['search_keyword'],\n",
    "        'year_bin': year_bin,\n",
    "        'paper_count': row['paper_count']\n",
    "    })\n",
    "\n",
    "df_keyword_year_counts = (pd.DataFrame(keyword_year_data)\n",
    "                         .groupby(['search_keyword', 'year_bin'])['paper_count']\n",
    "                         .sum()\n",
    "                         .reset_index()\n",
    "                         .pivot(index='search_keyword', columns='year_bin', values='paper_count'))\n",
    "df_keyword_year_counts.fillna(0, inplace=True)\n",
    "\n",
    "df_pair_similarity = df_pair_pivot.copy()\n",
    "\n",
    "for pair_name in df_pair_similarity.index:\n",
    "    kw1, kw2 = pair_name.split(' × ')\n",
    "    \n",
    "    for year_bin in df_pair_similarity.columns:\n",
    "        if year_bin in df_keyword_year_counts.columns:\n",
    "            kw1_count = df_keyword_year_counts.loc[kw1, year_bin] if kw1 in df_keyword_year_counts.index else 0\n",
    "            kw2_count = df_keyword_year_counts.loc[kw2, year_bin] if kw2 in df_keyword_year_counts.index else 0\n",
    "            \n",
    "            if kw1_count > 0 and kw2_count > 0:\n",
    "                df_pair_similarity.loc[pair_name, year_bin] = df_pair_pivot.loc[pair_name, year_bin] / math.sqrt(kw1_count * kw2_count)\n",
    "            else:\n",
    "                df_pair_similarity.loc[pair_name, year_bin] = 0\n",
    "                \n",
    "\n",
    "plt.figure(figsize=(16, 10))\n",
    "\n",
    "year_totals = df_pair_similarity.sum(axis=0)\n",
    "active_years = year_totals[year_totals > 0].index\n",
    "df_similarity_active = df_pair_similarity[active_years]\n",
    "\n",
    "mask_zeros = df_similarity_active == 0\n",
    "\n",
    "sns.heatmap(df_similarity_active, \n",
    "            mask=mask_zeros,\n",
    "            cmap=\"viridis\",\n",
    "            cbar_kws={\"shrink\": 0.5, \"label\": \"Cosine Similarity (0-1)\"},\n",
    "            yticklabels=True,\n",
    "            xticklabels=True,\n",
    "            vmin=0,\n",
    "            vmax=1)\n",
    "\n",
    "plt.suptitle(\"Keyword Pair Similarity Over Time (5-Year Intervals)\", fontsize=20, y=0.99, x=0.52)\n",
    "plt.title(\"(Lighter colors indicate stronger relationships; black means either keyword had no papers)\", fontsize=12, pad=15)\n",
    "plt.xlabel(\"5-Year Period\", fontsize=12)\n",
    "plt.ylabel(\"Keyword Pairs\", fontsize=12)\n",
    "plt.xticks(rotation=45)\n",
    "plt.yticks(rotation=0)\n",
    "plt.tight_layout()\n",
    "plt.show()"
   ]
  },
  {
   "cell_type": "markdown",
   "id": "9f2376c0",
   "metadata": {},
   "source": [
    "A similar picture to our matrix above showed up hear with the data over time. Relatioships didn't change much over time, with the one interesting case being the urban biodiversity X urban ecosystem case, which could mean a trend of shared research over time, though the value still isn't high enough to draw any conslusions."
   ]
  },
  {
   "cell_type": "markdown",
   "id": "18a624f5",
   "metadata": {},
   "source": [
    "==========================================================================\n",
    "### Geographical Data Analysis\n",
    "\n",
    "In this next step, I'll obtain geographical data to draw a choropleth map with the publication data. We'll first need to perform some API calls again to fill in the gaps of our country ISO data, since OpenAlex doesn't have a lot of institution data indexed.\n",
    "\n",
    "\n",
    "We'll start by doing more OpenAlex calls to fill a second table in our papers.db, gathering every first author, as we ll as their affiliation (institution) and its Research Organization Registry (ROR).\n",
    "We'll use this ID to make some more API call to ROR as they'll help us obtain the missing country data."
   ]
  },
  {
   "cell_type": "code",
   "execution_count": null,
   "id": "750d260f",
   "metadata": {},
   "outputs": [
    {
     "name": "stdout",
     "output_type": "stream",
     "text": [
      "⚠️ Found unmapped country codes:\n",
      "XK: 3 papers\n"
     ]
    },
    {
     "data": {
      "application/vnd.microsoft.datawrangler.viewer.v0+json": {
       "columns": [
        {
         "name": "index",
         "rawType": "int64",
         "type": "integer"
        },
        {
         "name": "alpha2_code",
         "rawType": "object",
         "type": "string"
        },
        {
         "name": "paper_count",
         "rawType": "int64",
         "type": "integer"
        },
        {
         "name": "alpha3_code",
         "rawType": "object",
         "type": "string"
        },
        {
         "name": "country_name",
         "rawType": "object",
         "type": "string"
        }
       ],
       "ref": "2bd1e71b-6e37-459b-9d90-aa0559989b27",
       "rows": [
        [
         "0",
         "US",
         "13481",
         "USA",
         "United States"
        ],
        [
         "1",
         "GB",
         "6124",
         "GBR",
         "United Kingdom"
        ],
        [
         "2",
         "AU",
         "2460",
         "AUS",
         "Australia"
        ],
        [
         "3",
         "DE",
         "2455",
         "DEU",
         "Germany"
        ],
        [
         "4",
         "IT",
         "2182",
         "ITA",
         "Italy"
        ],
        [
         "5",
         "IN",
         "1792",
         "IND",
         "India"
        ],
        [
         "6",
         "CA",
         "1604",
         "CAN",
         "Canada"
        ],
        [
         "7",
         "CN",
         "1538",
         "CHN",
         "China"
        ],
        [
         "8",
         "FR",
         "1523",
         "FRA",
         "France"
        ],
        [
         "9",
         "BR",
         "1515",
         "BRA",
         "Brazil"
        ],
        [
         "10",
         "NL",
         "1458",
         "NLD",
         "Netherlands"
        ],
        [
         "11",
         "ES",
         "1249",
         "ESP",
         "Spain"
        ],
        [
         "12",
         "SE",
         "833",
         "SWE",
         "Sweden"
        ],
        [
         "13",
         "PT",
         "734",
         "PRT",
         "Portugal"
        ],
        [
         "14",
         "ZA",
         "678",
         "ZAF",
         "South Africa"
        ],
        [
         "15",
         "CH",
         "656",
         "CHE",
         "Switzerland"
        ],
        [
         "16",
         "JP",
         "616",
         "JPN",
         "Japan"
        ],
        [
         "17",
         "MX",
         "547",
         "MEX",
         "Mexico"
        ],
        [
         "18",
         "BE",
         "534",
         "BEL",
         "Belgium"
        ],
        [
         "19",
         "PL",
         "509",
         "POL",
         "Poland"
        ]
       ],
       "shape": {
        "columns": 4,
        "rows": 20
       }
      },
      "text/html": [
       "<div>\n",
       "<style scoped>\n",
       "    .dataframe tbody tr th:only-of-type {\n",
       "        vertical-align: middle;\n",
       "    }\n",
       "\n",
       "    .dataframe tbody tr th {\n",
       "        vertical-align: top;\n",
       "    }\n",
       "\n",
       "    .dataframe thead th {\n",
       "        text-align: right;\n",
       "    }\n",
       "</style>\n",
       "<table border=\"1\" class=\"dataframe\">\n",
       "  <thead>\n",
       "    <tr style=\"text-align: right;\">\n",
       "      <th></th>\n",
       "      <th>alpha2_code</th>\n",
       "      <th>paper_count</th>\n",
       "      <th>alpha3_code</th>\n",
       "      <th>country_name</th>\n",
       "    </tr>\n",
       "  </thead>\n",
       "  <tbody>\n",
       "    <tr>\n",
       "      <th>0</th>\n",
       "      <td>US</td>\n",
       "      <td>13481</td>\n",
       "      <td>USA</td>\n",
       "      <td>United States</td>\n",
       "    </tr>\n",
       "    <tr>\n",
       "      <th>1</th>\n",
       "      <td>GB</td>\n",
       "      <td>6124</td>\n",
       "      <td>GBR</td>\n",
       "      <td>United Kingdom</td>\n",
       "    </tr>\n",
       "    <tr>\n",
       "      <th>2</th>\n",
       "      <td>AU</td>\n",
       "      <td>2460</td>\n",
       "      <td>AUS</td>\n",
       "      <td>Australia</td>\n",
       "    </tr>\n",
       "    <tr>\n",
       "      <th>3</th>\n",
       "      <td>DE</td>\n",
       "      <td>2455</td>\n",
       "      <td>DEU</td>\n",
       "      <td>Germany</td>\n",
       "    </tr>\n",
       "    <tr>\n",
       "      <th>4</th>\n",
       "      <td>IT</td>\n",
       "      <td>2182</td>\n",
       "      <td>ITA</td>\n",
       "      <td>Italy</td>\n",
       "    </tr>\n",
       "    <tr>\n",
       "      <th>5</th>\n",
       "      <td>IN</td>\n",
       "      <td>1792</td>\n",
       "      <td>IND</td>\n",
       "      <td>India</td>\n",
       "    </tr>\n",
       "    <tr>\n",
       "      <th>6</th>\n",
       "      <td>CA</td>\n",
       "      <td>1604</td>\n",
       "      <td>CAN</td>\n",
       "      <td>Canada</td>\n",
       "    </tr>\n",
       "    <tr>\n",
       "      <th>7</th>\n",
       "      <td>CN</td>\n",
       "      <td>1538</td>\n",
       "      <td>CHN</td>\n",
       "      <td>China</td>\n",
       "    </tr>\n",
       "    <tr>\n",
       "      <th>8</th>\n",
       "      <td>FR</td>\n",
       "      <td>1523</td>\n",
       "      <td>FRA</td>\n",
       "      <td>France</td>\n",
       "    </tr>\n",
       "    <tr>\n",
       "      <th>9</th>\n",
       "      <td>BR</td>\n",
       "      <td>1515</td>\n",
       "      <td>BRA</td>\n",
       "      <td>Brazil</td>\n",
       "    </tr>\n",
       "    <tr>\n",
       "      <th>10</th>\n",
       "      <td>NL</td>\n",
       "      <td>1458</td>\n",
       "      <td>NLD</td>\n",
       "      <td>Netherlands</td>\n",
       "    </tr>\n",
       "    <tr>\n",
       "      <th>11</th>\n",
       "      <td>ES</td>\n",
       "      <td>1249</td>\n",
       "      <td>ESP</td>\n",
       "      <td>Spain</td>\n",
       "    </tr>\n",
       "    <tr>\n",
       "      <th>12</th>\n",
       "      <td>SE</td>\n",
       "      <td>833</td>\n",
       "      <td>SWE</td>\n",
       "      <td>Sweden</td>\n",
       "    </tr>\n",
       "    <tr>\n",
       "      <th>13</th>\n",
       "      <td>PT</td>\n",
       "      <td>734</td>\n",
       "      <td>PRT</td>\n",
       "      <td>Portugal</td>\n",
       "    </tr>\n",
       "    <tr>\n",
       "      <th>14</th>\n",
       "      <td>ZA</td>\n",
       "      <td>678</td>\n",
       "      <td>ZAF</td>\n",
       "      <td>South Africa</td>\n",
       "    </tr>\n",
       "    <tr>\n",
       "      <th>15</th>\n",
       "      <td>CH</td>\n",
       "      <td>656</td>\n",
       "      <td>CHE</td>\n",
       "      <td>Switzerland</td>\n",
       "    </tr>\n",
       "    <tr>\n",
       "      <th>16</th>\n",
       "      <td>JP</td>\n",
       "      <td>616</td>\n",
       "      <td>JPN</td>\n",
       "      <td>Japan</td>\n",
       "    </tr>\n",
       "    <tr>\n",
       "      <th>17</th>\n",
       "      <td>MX</td>\n",
       "      <td>547</td>\n",
       "      <td>MEX</td>\n",
       "      <td>Mexico</td>\n",
       "    </tr>\n",
       "    <tr>\n",
       "      <th>18</th>\n",
       "      <td>BE</td>\n",
       "      <td>534</td>\n",
       "      <td>BEL</td>\n",
       "      <td>Belgium</td>\n",
       "    </tr>\n",
       "    <tr>\n",
       "      <th>19</th>\n",
       "      <td>PL</td>\n",
       "      <td>509</td>\n",
       "      <td>POL</td>\n",
       "      <td>Poland</td>\n",
       "    </tr>\n",
       "  </tbody>\n",
       "</table>\n",
       "</div>"
      ],
      "text/plain": [
       "   alpha2_code  paper_count alpha3_code    country_name\n",
       "0           US        13481         USA   United States\n",
       "1           GB         6124         GBR  United Kingdom\n",
       "2           AU         2460         AUS       Australia\n",
       "3           DE         2455         DEU         Germany\n",
       "4           IT         2182         ITA           Italy\n",
       "5           IN         1792         IND           India\n",
       "6           CA         1604         CAN          Canada\n",
       "7           CN         1538         CHN           China\n",
       "8           FR         1523         FRA          France\n",
       "9           BR         1515         BRA          Brazil\n",
       "10          NL         1458         NLD     Netherlands\n",
       "11          ES         1249         ESP           Spain\n",
       "12          SE          833         SWE          Sweden\n",
       "13          PT          734         PRT        Portugal\n",
       "14          ZA          678         ZAF    South Africa\n",
       "15          CH          656         CHE     Switzerland\n",
       "16          JP          616         JPN           Japan\n",
       "17          MX          547         MEX          Mexico\n",
       "18          BE          534         BEL         Belgium\n",
       "19          PL          509         POL          Poland"
      ]
     },
     "execution_count": 14,
     "metadata": {},
     "output_type": "execute_result"
    }
   ],
   "source": [
    "with sqlite3.connect(PAPERS_DB_PATH) as conn:\n",
    "    df_countries = pd.read_sql_query(\"\"\"\n",
    "    SELECT \n",
    "        firstAuthorCountryIso as alpha2_code,\n",
    "        COUNT(*) as paper_count\n",
    "    FROM papers\n",
    "    WHERE firstAuthorCountryIso IS NOT NULL\n",
    "    GROUP BY firstAuthorCountryIso\n",
    "    ORDER BY paper_count DESC\n",
    "    \"\"\", conn)\n",
    "\n",
    "df_countries['alpha3_code'] = df_countries['alpha2_code'].apply(convert_alpha2_to_alpha3)\n",
    "df_countries['country_name'] = df_countries['alpha2_code'].apply(get_country_name)\n",
    "\n",
    "unmapped = df_countries[df_countries['alpha3_code'].isna()]\n",
    "if not unmapped.empty:\n",
    "    print('Found unmapped country codes:')\n",
    "    for _, row in unmapped.iterrows():\n",
    "        print(f'{row[\"alpha2_code\"]}: {row[\"paper_count\"]} papers')\n",
    "\n",
    "df_countries.dropna(subset=['alpha3_code', 'country_name'], inplace=True)\n",
    "\n",
    "df_countries.head(20)"
   ]
  },
  {
   "cell_type": "code",
   "execution_count": 6,
   "id": "69e7fd49",
   "metadata": {},
   "outputs": [
    {
     "ename": "NameError",
     "evalue": "name 'df_countries' is not defined",
     "output_type": "error",
     "traceback": [
      "\u001b[31m---------------------------------------------------------------------------\u001b[39m",
      "\u001b[31mNameError\u001b[39m                                 Traceback (most recent call last)",
      "\u001b[36mCell\u001b[39m\u001b[36m \u001b[39m\u001b[32mIn[6]\u001b[39m\u001b[32m, line 2\u001b[39m\n\u001b[32m      1\u001b[39m fig = px.choropleth(\n\u001b[32m----> \u001b[39m\u001b[32m2\u001b[39m     \u001b[43mdf_countries\u001b[49m, \n\u001b[32m      3\u001b[39m     locations=\u001b[33m'\u001b[39m\u001b[33malpha3_code\u001b[39m\u001b[33m'\u001b[39m,\n\u001b[32m      4\u001b[39m     color=\u001b[33m'\u001b[39m\u001b[33mpaper_count\u001b[39m\u001b[33m'\u001b[39m,\n\u001b[32m      5\u001b[39m     hover_name=\u001b[33m'\u001b[39m\u001b[33mcountry_name\u001b[39m\u001b[33m'\u001b[39m,\n\u001b[32m      6\u001b[39m     hover_data={\n\u001b[32m      7\u001b[39m         \u001b[33m'\u001b[39m\u001b[33malpha3_code\u001b[39m\u001b[33m'\u001b[39m: \u001b[38;5;28;01mTrue\u001b[39;00m, \n\u001b[32m      8\u001b[39m         \u001b[33m'\u001b[39m\u001b[33mpaper_count\u001b[39m\u001b[33m'\u001b[39m: \u001b[33m'\u001b[39m\u001b[33m:,\u001b[39m\u001b[33m'\u001b[39m,\n\u001b[32m      9\u001b[39m         \u001b[33m'\u001b[39m\u001b[33mcountry_name\u001b[39m\u001b[33m'\u001b[39m: \u001b[38;5;28;01mFalse\u001b[39;00m\n\u001b[32m     10\u001b[39m     },\n\u001b[32m     11\u001b[39m     color_continuous_scale=\u001b[33m'\u001b[39m\u001b[33mViridis\u001b[39m\u001b[33m'\u001b[39m,\n\u001b[32m     12\u001b[39m     title=\u001b[33m'\u001b[39m\u001b[33mGlobal Distribution of Urban Ecology Research Papers by First Author Country\u001b[39m\u001b[33m'\u001b[39m,\n\u001b[32m     13\u001b[39m     labels={\n\u001b[32m     14\u001b[39m         \u001b[33m'\u001b[39m\u001b[33mpaper_count\u001b[39m\u001b[33m'\u001b[39m: \u001b[33m'\u001b[39m\u001b[33mNumber of Papers\u001b[39m\u001b[33m'\u001b[39m,\n\u001b[32m     15\u001b[39m         \u001b[33m'\u001b[39m\u001b[33malpha3_code\u001b[39m\u001b[33m'\u001b[39m: \u001b[33m'\u001b[39m\u001b[33mISO Alpha-3\u001b[39m\u001b[33m'\u001b[39m\n\u001b[32m     16\u001b[39m     }\n\u001b[32m     17\u001b[39m )\n\u001b[32m     19\u001b[39m fig.update_traces(\n\u001b[32m     20\u001b[39m     marker_line_color=\u001b[33m'\u001b[39m\u001b[33mwhite\u001b[39m\u001b[33m'\u001b[39m,\n\u001b[32m     21\u001b[39m     marker_line_width=\u001b[32m0.5\u001b[39m\n\u001b[32m     22\u001b[39m )\n\u001b[32m     24\u001b[39m fig.update_layout(\n\u001b[32m     25\u001b[39m     template=\u001b[33m'\u001b[39m\u001b[33mplotly_dark\u001b[39m\u001b[33m'\u001b[39m,\n\u001b[32m     26\u001b[39m     width=\u001b[32m1200\u001b[39m,\n\u001b[32m   (...)\u001b[39m\u001b[32m     44\u001b[39m     )\n\u001b[32m     45\u001b[39m )\n",
      "\u001b[31mNameError\u001b[39m: name 'df_countries' is not defined"
     ]
    }
   ],
   "source": [
    "fig = px.choropleth(\n",
    "    df_countries, \n",
    "    locations='alpha3_code',\n",
    "    color='paper_count',\n",
    "    hover_name='country_name',\n",
    "    hover_data={\n",
    "        'alpha3_code': True, \n",
    "        'paper_count': ':,',\n",
    "        'country_name': False\n",
    "    },\n",
    "    color_continuous_scale='Viridis',\n",
    "    title='Global Distribution of Urban Ecology Research Papers by First Author Country',\n",
    "    labels={\n",
    "        'paper_count': 'Number of Papers',\n",
    "        'alpha3_code': 'ISO Alpha-3'\n",
    "    }\n",
    ")\n",
    "\n",
    "fig.update_traces(\n",
    "    marker_line_color='white',\n",
    "    marker_line_width=0.5\n",
    ")\n",
    "\n",
    "fig.update_layout(\n",
    "    template='plotly_dark',\n",
    "    width=1200,\n",
    "    height=700,\n",
    "    title_font_size=16,\n",
    "    geo=dict(\n",
    "        showframe=False,\n",
    "        showcoastlines=True,\n",
    "        coastlinecolor='white',\n",
    "        coastlinewidth=0.5,\n",
    "        showland=True,\n",
    "        landcolor='rgb(70, 70, 70)',\n",
    "        showocean=True,\n",
    "        oceancolor='rgb(30, 30, 30)',\n",
    "        projection_type='natural earth',\n",
    "        bgcolor='rgba(0,0,0,0)',\n",
    "    ),\n",
    "    coloraxis_colorbar=dict(\n",
    "        title_font_color='white',\n",
    "        tickfont_color='white'\n",
    "    )\n",
    ")\n",
    "\n",
    "fig.show()\n",
    "\n",
    "print('=' * 80)\n",
    "\n",
    "fig_treemap = px.treemap(\n",
    "    df_countries.head(20),\n",
    "    names='country_name',\n",
    "    values='paper_count',\n",
    "    parents=[''] * 20, \n",
    "    title='Top 20 Countries by Urban Ecology Research Output',\n",
    "    labels={'paper_count': 'Number of Papers', 'country_name': 'Country'},\n",
    "    color='paper_count',\n",
    "    color_continuous_scale='Viridis',\n",
    "    hover_data={\n",
    "        'alpha2_code': True,\n",
    "        'alpha3_code': True,\n",
    "        'paper_count': ':,',\n",
    "    }\n",
    ")\n",
    "\n",
    "# Threshold calculation to avoid unreadable text\n",
    "max_val = df_countries.head(20)['paper_count'].max()\n",
    "min_val = df_countries.head(20)['paper_count'].min()\n",
    "threshold = min_val + (max_val - min_val) * 0.7\n",
    "\n",
    "text_colors = ['black' if val > threshold else 'white' for val in df_countries.head(20)['paper_count']]\n",
    "\n",
    "fig_treemap.update_traces(\n",
    "    textinfo='label+value',\n",
    "    textfont_size=12,\n",
    "    textfont_color=text_colors,\n",
    "    hovertemplate='<b>%{label}</b><br>' +\n",
    "                  'Papers: %{value:,}<br>' +\n",
    "                  'ISO-3: %{customdata[1]}<br>' +\n",
    "                  '<extra></extra>'\n",
    ")\n",
    "\n",
    "fig_treemap.update_layout(\n",
    "    height=700,\n",
    "    width=1200,\n",
    "    template='plotly_dark',\n",
    "    font=dict(size=14),\n",
    "    title_font_size=18,\n",
    "    margin=dict(t=50, l=25, r=25, b=25)\n",
    ")\n",
    "\n",
    "fig_treemap.show()"
   ]
  },
  {
   "cell_type": "code",
   "execution_count": null,
   "id": "4a2afaa1",
   "metadata": {},
   "outputs": [],
   "source": []
  }
 ],
 "metadata": {
  "kernelspec": {
   "display_name": ".venv",
   "language": "python",
   "name": "python3"
  },
  "language_info": {
   "codemirror_mode": {
    "name": "ipython",
    "version": 3
   },
   "file_extension": ".py",
   "mimetype": "text/x-python",
   "name": "python",
   "nbconvert_exporter": "python",
   "pygments_lexer": "ipython3",
   "version": "3.13.2"
  }
 },
 "nbformat": 4,
 "nbformat_minor": 5
}
