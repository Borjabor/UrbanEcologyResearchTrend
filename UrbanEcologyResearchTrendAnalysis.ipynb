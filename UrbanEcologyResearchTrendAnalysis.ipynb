{
 "cells": [
  {
   "cell_type": "markdown",
   "id": "21e9aaad",
   "metadata": {},
   "source": [
    "# Urban Ecology Research Trend Analysis\n",
    "\n",
    "Type: NLP + Time Series + Web Data | Domain: Scientific + environmental | Format: Notebook\n",
    "- Use PubMed or Semantic Scholar API to extract papers on 'urban ecology'.\n",
    "- Track number of publications per year.\n",
    "- Perform keyword frequency and topic modeling.\n",
    "- Map institutions or authors by location \n",
    "    .Use author search and Research Organization Registry (ror.org) to map institutions to locations."
   ]
  },
  {
   "cell_type": "code",
   "execution_count": null,
   "id": "394e5343",
   "metadata": {},
   "outputs": [],
   "source": [
    "# For future author search\n",
    "\n",
    "AUTHOR_URL = 'https://api.semanticscholar.org/graph/v1/author/batch'\n",
    "AUTHOR_FIELDS = 'affiliations'\n",
    "AUTHORS_DB_PATH = 'papers.db'\n",
    "authors_schema = \"\"\"\n",
    "    authorId TEXT PRIMARY KEY,\n",
    "    name TEXT,\n",
    "    affiliation TEXT\n",
    "\"\"\""
   ]
  },
  {
   "cell_type": "code",
   "execution_count": 2,
   "id": "854a13d3",
   "metadata": {},
   "outputs": [],
   "source": [
    "import os\n",
    "import time\n",
    "import requests\n",
    "import pandas as pd\n",
    "import numpy as np\n",
    "import sqlite3\n",
    "import plotly.express as px\n",
    "import seaborn as sns\n",
    "import matplotlib.pyplot as plt\n",
    "import matplotlib.dates as mdates\n",
    "import scipy.stats as stats\n",
    "from scipy.stats import linregress\n",
    "from sklearn.linear_model import LinearRegression\n",
    "from sklearn.preprocessing import PolynomialFeatures\n",
    "\n",
    "BASE_URL = 'http://api.semanticscholar.org/graph/v1/paper/search/bulk'\n",
    "FIELDS = 'title,year,authors,url'\n",
    "PUBLICATION_TYPES = 'Review,JournalArticle,Study,Book,BookSection'\n",
    "DELAY = 5  # delay between requests to avoid rate limiting\n",
    "RETRY_DELAY = 5  # seconds before retrying on failure\n",
    "YEAR_RANGE = '1920-2024'\n",
    "PAPERS_DB_PATH = 'papers.db'\n",
    "papers_schema = \"\"\"\n",
    "    paperId TEXT PRIMARY KEY,\n",
    "    title TEXT,\n",
    "    year INTEGER,\n",
    "    authors TEXT,\n",
    "    url TEXT,\n",
    "    search_keyword TEXT,\n",
    "    firstAuthorId TEXT\n",
    "\"\"\"\n",
    "\n",
    "query_list = [\n",
    "    'urban ecology',\n",
    "    'urban biodiversity',\n",
    "    'urban ecosystem',\n",
    "    'urban green spaces',\n",
    "    'urban wildlife',\n",
    "    'urban vegetation',\n",
    "]"
   ]
  },
  {
   "cell_type": "code",
   "execution_count": 148,
   "id": "e4835c3c",
   "metadata": {},
   "outputs": [
    {
     "name": "stdout",
     "output_type": "stream",
     "text": [
      "✅ Progress trackers for \"urban ecology\" removed.\n",
      "✅ Progress trackers for \"urban biodiversity\" removed.\n",
      "✅ Progress trackers for \"urban ecosystem\" removed.\n",
      "✅ Progress trackers for \"urban green spaces\" removed.\n",
      "✅ Progress trackers for \"urban wildlife\" removed.\n",
      "✅ Progress trackers for \"urban vegetation\" removed.\n",
      "✅ Output file \"papers.db\" removed.\n"
     ]
    }
   ],
   "source": [
    "# Run this to clear the .txt progress trackers\n",
    "\n",
    "for keyword in query_list:\n",
    "    done_file = f'done_{keyword}.txt'\n",
    "    token_file = f'token_{keyword}.txt'\n",
    "    if os.path.exists(done_file):\n",
    "        os.remove(done_file)\n",
    "        print(f'✅ Progress trackers for \"{keyword}\" removed.')\n",
    "    if os.path.exists(token_file):\n",
    "        os.remove(token_file)\n",
    "        print(f'✅ Progress trackers for \"{keyword}\" removed.')\n",
    "  \n",
    "if os.path.exists(PAPERS_DB_PATH):      \n",
    "    os.remove(PAPERS_DB_PATH)\n",
    "    print(f'✅ Output file \"{PAPERS_DB_PATH}\" removed.')"
   ]
  },
  {
   "cell_type": "code",
   "execution_count": 3,
   "id": "9fa39136",
   "metadata": {},
   "outputs": [],
   "source": [
    "# === Helper functions ===\n",
    "# keeps track of keywords and tokens to allow to keep retrieving papers from \n",
    "# where you left off in case of a request/response error\n",
    "def save_token(keyword, token):\n",
    "    with open(f'token_{keyword}.txt', 'w') as f:\n",
    "        f.write(token)\n",
    "\n",
    "def load_token(keyword):\n",
    "    filename = f'token_{keyword}.txt'\n",
    "    if os.path.exists(filename):\n",
    "        with open(filename, 'r') as f:\n",
    "            return f.read().strip()\n",
    "    return None\n",
    "\n",
    "def mark_done(keyword):\n",
    "    with open(f'done_{keyword}.txt', 'w') as f:\n",
    "        f.write('completed')\n",
    "\n",
    "def is_done(keyword):\n",
    "    return os.path.exists(f'done_{keyword}.txt')\n",
    "\n",
    "def delete_token(keyword):\n",
    "    filename = f'token_{keyword}.txt'\n",
    "    if os.path.exists(filename):\n",
    "        os.remove(filename)\n"
   ]
  },
  {
   "cell_type": "code",
   "execution_count": 4,
   "id": "b2e20ba5",
   "metadata": {},
   "outputs": [],
   "source": [
    "# === Database and Dataframe setup ===\n",
    "\n",
    "def init_table(db_path, table_name, schema_sql):\n",
    "    conn = sqlite3.connect(db_path)\n",
    "    c = conn.cursor()\n",
    "    c.execute(f\"CREATE TABLE IF NOT EXISTS {table_name} ({schema_sql})\")\n",
    "    conn.commit()\n",
    "    conn.close()\n",
    "    \n",
    "def save_paper_to_db(paper, keyword):\n",
    "    conn = sqlite3.connect(PAPERS_DB_PATH)\n",
    "    c = conn.cursor()\n",
    "\n",
    "    paper_id = paper.get(\"paperId\")\n",
    "    title = paper.get(\"title\")\n",
    "    year = paper.get(\"year\")\n",
    "    url = paper.get(\"url\")\n",
    "    authors_list = paper.get(\"authors\", [])\n",
    "    authors = \", \".join([a.get(\"name\") for a in authors_list if a.get(\"name\")])\n",
    "    first_author_id = authors_list[0].get(\"authorId\") if authors_list else None\n",
    "\n",
    "    try:\n",
    "        c.execute(\"SELECT search_keyword FROM papers WHERE paperId = ?\", (paper_id,))\n",
    "        existing = c.fetchone()\n",
    "        \n",
    "        if existing:\n",
    "            existing_keywords = existing[0].split(\", \") if existing[0] else []\n",
    "            if keyword not in existing_keywords:\n",
    "                existing_keywords.append(keyword)\n",
    "                updated_keywords = \", \".join(existing_keywords)\n",
    "                c.execute(\"UPDATE papers SET search_keyword = ? WHERE paperId = ?\", \n",
    "                         (updated_keywords, paper_id))\n",
    "        else:\n",
    "            c.execute(\"\"\"\n",
    "                INSERT INTO papers \n",
    "                (paperId, title, year, authors, url, search_keyword, firstAuthorId)\n",
    "                VALUES (?, ?, ?, ?, ?, ?, ?)\n",
    "            \"\"\", (paper_id, title, year, authors, url, keyword, first_author_id))\n",
    "        \n",
    "        conn.commit()\n",
    "    except sqlite3.Error as e:\n",
    "        print(f\"❌ DB error for paper {paper_id}: {e}\")\n",
    "    finally:\n",
    "        conn.close()"
   ]
  },
  {
   "cell_type": "code",
   "execution_count": 149,
   "id": "3efc42f1",
   "metadata": {},
   "outputs": [
    {
     "name": "stdout",
     "output_type": "stream",
     "text": [
      "\n",
      "🔍 Processing keyword: \"urban ecology\"\n",
      "⏳ Starting fresh for keyword \"urban ecology\"\n",
      "📄 Retrieved 1000 papers so far for \"urban ecology\"\n",
      "📄 Retrieved 2000 papers so far for \"urban ecology\"\n",
      "📄 Retrieved 3000 papers so far for \"urban ecology\"\n",
      "📄 Retrieved 4000 papers so far for \"urban ecology\"\n",
      "📄 Retrieved 5000 papers so far for \"urban ecology\"\n",
      "📄 Retrieved 5973 papers so far for \"urban ecology\"\n",
      "✅ Completed all pages for \"urban ecology\"\n",
      "\n",
      "🔍 Processing keyword: \"urban biodiversity\"\n",
      "⏳ Starting fresh for keyword \"urban biodiversity\"\n",
      "📄 Retrieved 1000 papers so far for \"urban biodiversity\"\n",
      "📄 Retrieved 2000 papers so far for \"urban biodiversity\"\n",
      "📄 Retrieved 3000 papers so far for \"urban biodiversity\"\n",
      "📄 Retrieved 4000 papers so far for \"urban biodiversity\"\n",
      "📄 Retrieved 5000 papers so far for \"urban biodiversity\"\n",
      "📄 Retrieved 5903 papers so far for \"urban biodiversity\"\n",
      "✅ Completed all pages for \"urban biodiversity\"\n",
      "\n",
      "🔍 Processing keyword: \"urban ecosystem\"\n",
      "⏳ Starting fresh for keyword \"urban ecosystem\"\n",
      "📄 Retrieved 1000 papers so far for \"urban ecosystem\"\n",
      "📄 Retrieved 2000 papers so far for \"urban ecosystem\"\n",
      "📄 Retrieved 3000 papers so far for \"urban ecosystem\"\n",
      "📄 Retrieved 4000 papers so far for \"urban ecosystem\"\n",
      "📄 Retrieved 5000 papers so far for \"urban ecosystem\"\n",
      "📄 Retrieved 6000 papers so far for \"urban ecosystem\"\n",
      "📄 Retrieved 7000 papers so far for \"urban ecosystem\"\n",
      "📄 Retrieved 8000 papers so far for \"urban ecosystem\"\n",
      "📄 Retrieved 9000 papers so far for \"urban ecosystem\"\n",
      "📄 Retrieved 10000 papers so far for \"urban ecosystem\"\n",
      "📄 Retrieved 11000 papers so far for \"urban ecosystem\"\n",
      "📄 Retrieved 12000 papers so far for \"urban ecosystem\"\n",
      "📄 Retrieved 13000 papers so far for \"urban ecosystem\"\n",
      "📄 Retrieved 14000 papers so far for \"urban ecosystem\"\n",
      "📄 Retrieved 14245 papers so far for \"urban ecosystem\"\n",
      "✅ Completed all pages for \"urban ecosystem\"\n",
      "\n",
      "🔍 Processing keyword: \"urban green spaces\"\n",
      "⏳ Starting fresh for keyword \"urban green spaces\"\n",
      "📄 Retrieved 1000 papers so far for \"urban green spaces\"\n",
      "📄 Retrieved 2000 papers so far for \"urban green spaces\"\n",
      "📄 Retrieved 3000 papers so far for \"urban green spaces\"\n",
      "📄 Retrieved 4000 papers so far for \"urban green spaces\"\n",
      "📄 Retrieved 5000 papers so far for \"urban green spaces\"\n",
      "📄 Retrieved 6000 papers so far for \"urban green spaces\"\n",
      "📄 Retrieved 7000 papers so far for \"urban green spaces\"\n",
      "📄 Retrieved 8000 papers so far for \"urban green spaces\"\n",
      "📄 Retrieved 9000 papers so far for \"urban green spaces\"\n",
      "📄 Retrieved 9426 papers so far for \"urban green spaces\"\n",
      "✅ Completed all pages for \"urban green spaces\"\n",
      "\n",
      "🔍 Processing keyword: \"urban wildlife\"\n",
      "⏳ Starting fresh for keyword \"urban wildlife\"\n",
      "📄 Retrieved 1000 papers so far for \"urban wildlife\"\n",
      "📄 Retrieved 2000 papers so far for \"urban wildlife\"\n",
      "📄 Retrieved 3000 papers so far for \"urban wildlife\"\n",
      "📄 Retrieved 3210 papers so far for \"urban wildlife\"\n",
      "✅ Completed all pages for \"urban wildlife\"\n",
      "\n",
      "🔍 Processing keyword: \"urban vegetation\"\n",
      "⏳ Starting fresh for keyword \"urban vegetation\"\n",
      "📄 Retrieved 1000 papers so far for \"urban vegetation\"\n",
      "📄 Retrieved 2000 papers so far for \"urban vegetation\"\n",
      "📄 Retrieved 3000 papers so far for \"urban vegetation\"\n",
      "📄 Retrieved 4000 papers so far for \"urban vegetation\"\n",
      "📄 Retrieved 5000 papers so far for \"urban vegetation\"\n",
      "📄 Retrieved 6000 papers so far for \"urban vegetation\"\n",
      "📄 Retrieved 7000 papers so far for \"urban vegetation\"\n",
      "📄 Retrieved 8000 papers so far for \"urban vegetation\"\n",
      "📄 Retrieved 9000 papers so far for \"urban vegetation\"\n",
      "📄 Retrieved 9333 papers so far for \"urban vegetation\"\n",
      "✅ Completed all pages for \"urban vegetation\"\n",
      "\n",
      "🎉 All keywords processed.\n"
     ]
    }
   ],
   "source": [
    "# === Main loop over keywords ===\n",
    "\n",
    "init_table(PAPERS_DB_PATH, \"papers\", papers_schema)\n",
    "\n",
    "for keyword in query_list:\n",
    "    print(f'\\n🔍 Processing keyword: \"{keyword}\"')\n",
    "\n",
    "    if is_done(keyword):\n",
    "        print(f'✅ Keyword \"{keyword}\" already completed. Skipping.')\n",
    "        continue\n",
    "\n",
    "    token = load_token(keyword)\n",
    "    if token:\n",
    "        print(f'🔄 Resuming from saved token for \"{keyword}\": {token}')\n",
    "    else:\n",
    "        print(f'⏳ Starting fresh for keyword \"{keyword}\"')\n",
    "\n",
    "    retrieved = 0\n",
    "\n",
    "    while True:\n",
    "        params = {\n",
    "            'query': keyword,\n",
    "            'fields': FIELDS,\n",
    "            'publicationTypes': PUBLICATION_TYPES,\n",
    "            'limit': 1000\n",
    "        }\n",
    "        if YEAR_RANGE:\n",
    "            params['year'] = YEAR_RANGE\n",
    "        if token:\n",
    "            params['token'] = token\n",
    "\n",
    "        # Retry logic\n",
    "        for attempt in range(2):\n",
    "            try:\n",
    "                response = requests.get(BASE_URL, params=params, timeout=15)\n",
    "                response.raise_for_status()\n",
    "                data = response.json()\n",
    "                break\n",
    "            except requests.exceptions.RequestException as e:\n",
    "                print(f'❌ Request error on attempt {attempt+1} for \"{keyword}\": {e}')\n",
    "                if attempt == 0:\n",
    "                    print(f'⏳ Retrying after {RETRY_DELAY} seconds...')\n",
    "                    time.sleep(RETRY_DELAY)\n",
    "                else:\n",
    "                    print('⚠️ Skipping this batch due to repeated failure.')\n",
    "                    data = None\n",
    "\n",
    "        if data is None:\n",
    "            print(f'⚠️ No data retrieved for keyword \"{keyword}\", breaking loop.')\n",
    "            break\n",
    "\n",
    "        papers = data.get('data', [])\n",
    "        if not papers:\n",
    "            print(f'⚠️ No papers returned, assuming end of results for \"{keyword}\"')\n",
    "            break\n",
    "\n",
    "        retrieved += len(papers)\n",
    "        print(f'📄 Retrieved {retrieved} papers so far for \"{keyword}\"')\n",
    "\n",
    "        for paper in papers:\n",
    "            save_paper_to_db(paper, keyword)\n",
    "\n",
    "        token = data.get('token')\n",
    "        if token:\n",
    "            token = data['token']\n",
    "            save_token(keyword, token)\n",
    "            time.sleep(DELAY)\n",
    "        else:\n",
    "            print(f'✅ Completed all pages for \"{keyword}\"')\n",
    "            delete_token(keyword)\n",
    "            mark_done(keyword)\n",
    "            break\n",
    "\n",
    "print('\\n🎉 All keywords processed.')"
   ]
  },
  {
   "cell_type": "code",
   "execution_count": 5,
   "id": "9cb32e8b",
   "metadata": {},
   "outputs": [
    {
     "data": {
      "application/vnd.microsoft.datawrangler.viewer.v0+json": {
       "columns": [
        {
         "name": "index",
         "rawType": "int64",
         "type": "integer"
        },
        {
         "name": "year",
         "rawType": "int64",
         "type": "integer"
        },
        {
         "name": "search_keyword",
         "rawType": "object",
         "type": "string"
        },
        {
         "name": "paper_count",
         "rawType": "int64",
         "type": "integer"
        }
       ],
       "ref": "99275edc-3f82-4d35-a1dc-7956a5f96c57",
       "rows": [
        [
         "0",
         "1937",
         "urban vegetation",
         "1"
        ],
        [
         "1",
         "1938",
         "urban ecology",
         "1"
        ],
        [
         "2",
         "1940",
         "urban vegetation",
         "1"
        ],
        [
         "3",
         "1943",
         "urban ecology",
         "1"
        ],
        [
         "4",
         "1943",
         "urban green spaces",
         "1"
        ]
       ],
       "shape": {
        "columns": 3,
        "rows": 5
       }
      },
      "text/html": [
       "<div>\n",
       "<style scoped>\n",
       "    .dataframe tbody tr th:only-of-type {\n",
       "        vertical-align: middle;\n",
       "    }\n",
       "\n",
       "    .dataframe tbody tr th {\n",
       "        vertical-align: top;\n",
       "    }\n",
       "\n",
       "    .dataframe thead th {\n",
       "        text-align: right;\n",
       "    }\n",
       "</style>\n",
       "<table border=\"1\" class=\"dataframe\">\n",
       "  <thead>\n",
       "    <tr style=\"text-align: right;\">\n",
       "      <th></th>\n",
       "      <th>year</th>\n",
       "      <th>search_keyword</th>\n",
       "      <th>paper_count</th>\n",
       "    </tr>\n",
       "  </thead>\n",
       "  <tbody>\n",
       "    <tr>\n",
       "      <th>0</th>\n",
       "      <td>1937</td>\n",
       "      <td>urban vegetation</td>\n",
       "      <td>1</td>\n",
       "    </tr>\n",
       "    <tr>\n",
       "      <th>1</th>\n",
       "      <td>1938</td>\n",
       "      <td>urban ecology</td>\n",
       "      <td>1</td>\n",
       "    </tr>\n",
       "    <tr>\n",
       "      <th>2</th>\n",
       "      <td>1940</td>\n",
       "      <td>urban vegetation</td>\n",
       "      <td>1</td>\n",
       "    </tr>\n",
       "    <tr>\n",
       "      <th>3</th>\n",
       "      <td>1943</td>\n",
       "      <td>urban ecology</td>\n",
       "      <td>1</td>\n",
       "    </tr>\n",
       "    <tr>\n",
       "      <th>4</th>\n",
       "      <td>1943</td>\n",
       "      <td>urban green spaces</td>\n",
       "      <td>1</td>\n",
       "    </tr>\n",
       "  </tbody>\n",
       "</table>\n",
       "</div>"
      ],
      "text/plain": [
       "   year      search_keyword  paper_count\n",
       "0  1937    urban vegetation            1\n",
       "1  1938       urban ecology            1\n",
       "2  1940    urban vegetation            1\n",
       "3  1943       urban ecology            1\n",
       "4  1943  urban green spaces            1"
      ]
     },
     "execution_count": 5,
     "metadata": {},
     "output_type": "execute_result"
    }
   ],
   "source": [
    "with sqlite3.connect(PAPERS_DB_PATH) as conn:\n",
    "    df_raw = pd.read_sql_query(\"\"\"\n",
    "    SELECT year, search_keyword\n",
    "    FROM papers\n",
    "    WHERE year < 2025 AND search_keyword IS NOT NULL AND search_keyword != ''\n",
    "    \"\"\", conn)\n",
    "\n",
    "rows = []\n",
    "for _, row in df_raw.iterrows():\n",
    "    keywords = [k.strip() for k in row['search_keyword'].split(',')]\n",
    "    for keyword in keywords:\n",
    "        if keyword:\n",
    "            rows.append({'year': row['year'], 'search_keyword': keyword})\n",
    "\n",
    "df_expanded = pd.DataFrame(rows)\n",
    "df_keywords = df_expanded.groupby(['year', 'search_keyword']).size().reset_index(name='paper_count')\n",
    "\n",
    "df_totals = df_expanded.groupby('year').size().reset_index(name='paper_count')\n",
    "df_totals['search_keyword'] = 'total'\n",
    "\n",
    "df_keywords = df_keywords.sort_values('year')\n",
    "df_keywords.head()"
   ]
  },
  {
   "cell_type": "code",
   "execution_count": 6,
   "id": "c85d7d1b",
   "metadata": {},
   "outputs": [],
   "source": [
    "color_map = {\n",
    "    'urban ecology': '#6B9BD2',\n",
    "    'urban biodiversity': '#E6A366',\n",
    "    'urban green spaces': '#7FB069',\n",
    "    'urban wildlife': '#D67B7B',\n",
    "    'urban vegetation': '#B19CD9',\n",
    "    'urban ecosystem': '#E6A8D0',\n",
    "    'total': \"#FFD700\"\n",
    "}\n"
   ]
  },
  {
   "cell_type": "code",
   "execution_count": 7,
   "id": "8aa91fc8",
   "metadata": {},
   "outputs": [
    {
     "data": {
      "application/vnd.plotly.v1+json": {
       "config": {
        "plotlyServerURL": "https://plot.ly"
       },
       "data": [
        {
         "hovertemplate": "search_keyword=urban vegetation<br>year=%{x}<br>paper_count=%{y}<extra></extra>",
         "legendgroup": "urban vegetation",
         "line": {
          "color": "#B19CD9",
          "dash": "solid"
         },
         "marker": {
          "symbol": "circle"
         },
         "mode": "lines+markers",
         "name": "urban vegetation",
         "orientation": "v",
         "showlegend": true,
         "type": "scatter",
         "x": {
          "bdata": "kQeUB5sHnwehB6IHowenB6gHqQeuB7EHsgezB7QHtQe2B7cHuAe5B7oHuwe8B70Hvge/B8AHwQfCB8MHxAfFB8YHxwfIB8kHygfLB8wHzQfOB88H0AfRB9IH0wfUB9UH1gfXB9gH2QfaB9sH3AfdB94H3wfgB+EH4gfjB+QH5QfmB+cH6Ac=",
          "dtype": "i2"
         },
         "xaxis": "x",
         "y": {
          "bdata": "AQABAAEAAQABAAEAAQACAAEAAQACAAIAAwACAAEAAwAFAAIAAgAGAAQAAwAHAAgAAwAIAAcABgAFAAgACgANAA4AEgAMABMAEwAQABsAGwAbABwALQAwAEkATABSAGkAeACFAJ4AiACyAMYA5gAUAS8BQgFUAYIBqgEMAvUBIQJKAoYFCAc=",
          "dtype": "i2"
         },
         "yaxis": "y"
        },
        {
         "hovertemplate": "search_keyword=urban ecology<br>year=%{x}<br>paper_count=%{y}<extra></extra>",
         "legendgroup": "urban ecology",
         "line": {
          "color": "#6B9BD2",
          "dash": "solid"
         },
         "marker": {
          "symbol": "circle"
         },
         "mode": "lines+markers",
         "name": "urban ecology",
         "orientation": "v",
         "showlegend": true,
         "type": "scatter",
         "x": {
          "bdata": "kgeXB5gHmQeeB6IHowekB6YHpweoB6kHqgesB60HrgevB7AHsQeyB7MHtAe1B7YHtwe4B7kHuge7B7wHvQe+B78HwAfBB8IHwwfEB8UHxgfHB8gHyQfKB8sHzAfNB84HzwfQB9EH0gfTB9QH1QfWB9cH2AfZB9oH2wfcB90H3gffB+AH4QfiB+MH5AflB+YH5wfoBw==",
          "dtype": "i2"
         },
         "xaxis": "x",
         "y": {
          "bdata": "AQABAAEAAgABAAMAAgABAAIAAQAEAAIABgAEAAMABgAHAAcABgATAAYACQAGAAgAEwAIAAgACwAJAAoADQAIAA0ADAANAAkACwANABIADQARABAAGgAXABIAFgAeABoAGwAvADEANwBYAFYAPQBpAG8AjgCHAJgArgDCANYAzAD5ANQA5AAKATwBRgFJAV8BcwLvAg==",
          "dtype": "i2"
         },
         "yaxis": "y"
        },
        {
         "hovertemplate": "search_keyword=urban green spaces<br>year=%{x}<br>paper_count=%{y}<extra></extra>",
         "legendgroup": "urban green spaces",
         "line": {
          "color": "#7FB069",
          "dash": "solid"
         },
         "marker": {
          "symbol": "circle"
         },
         "mode": "lines+markers",
         "name": "urban green spaces",
         "orientation": "v",
         "showlegend": true,
         "type": "scatter",
         "x": {
          "bdata": "lwelB6kHqwevB7EHsgezB7UHtge3B7gHuge7B7wHvQe+B78HwAfCB8MHxAfFB8YHxwfIB8kHygfMB80HzgfPB9AH0QfSB9MH1AfVB9YH1wfYB9kH2gfbB9wH3QfeB98H4AfhB+IH4wfkB+UH5gfnB+gH",
          "dtype": "i2"
         },
         "xaxis": "x",
         "y": {
          "bdata": "AQABAAIABAABAAIAAgABAAEAAQABAAEAAgABAAEAAQABAAIAAgABAAEAAgACAAUABgACAAYACQAFAAMACQAFAAkAEgAaACMALAA0AEYAPQBDAGkAfwCxAL8AxQDrACEBGQFOAaMB8AEkAnsC0QK0BrkJ",
          "dtype": "i2"
         },
         "yaxis": "y"
        },
        {
         "hovertemplate": "search_keyword=urban wildlife<br>year=%{x}<br>paper_count=%{y}<extra></extra>",
         "legendgroup": "urban wildlife",
         "line": {
          "color": "#D67B7B",
          "dash": "solid"
         },
         "marker": {
          "symbol": "circle"
         },
         "mode": "lines+markers",
         "name": "urban wildlife",
         "orientation": "v",
         "showlegend": true,
         "type": "scatter",
         "x": {
          "bdata": "mQeiB6QHqgeuB68HsQeyB7QHtwe4B7kHuge7B7wHvQe+B78HwAfBB8IHwwfEB8UHxgfHB8gHyQfKB8sHzAfNB84HzwfQB9EH0gfTB9QH1QfWB9cH2AfZB9oH2wfcB90H3gffB+AH4QfiB+MH5AflB+YH5wfoBw==",
          "dtype": "i2"
         },
         "xaxis": "x",
         "y": {
          "bdata": "AQABAAEAAQABAAIAAQACAAIABAAFAAQABQADAAcABQABAAMABgAJAAMACQAKAA0ACQAJAAQACgAGABYAEgAVABEADgAZACIAIQAyADgAIgA3AEMAQwBCAEIAUQBfAGsAfQBjAHsAegCnAKYA5wDUALwAQgGGAQ==",
          "dtype": "i2"
         },
         "yaxis": "y"
        },
        {
         "hovertemplate": "search_keyword=urban ecosystem<br>year=%{x}<br>paper_count=%{y}<extra></extra>",
         "legendgroup": "urban ecosystem",
         "line": {
          "color": "#E6A8D0",
          "dash": "solid"
         },
         "marker": {
          "symbol": "circle"
         },
         "mode": "lines+markers",
         "name": "urban ecosystem",
         "orientation": "v",
         "showlegend": true,
         "type": "scatter",
         "x": {
          "bdata": "ogeuB7EHsge0B7UHtge3B7gHuQe6B7sHvAe9B74HvwfAB8EHwgfDB8QHxQfGB8cHyAfJB8oHywfMB80HzgfPB9AH0QfSB9MH1AfVB9YH1wfYB9kH2gfbB9wH3QfeB98H4AfhB+IH4wfkB+UH5gfnB+gH",
          "dtype": "i2"
         },
         "xaxis": "x",
         "y": {
          "bdata": "AQABAAUAAgABAAQABgADAAQAAwACAAQAAQAGAAEABQAEAAMABwANAAoACAALAA8ACwAQABMAEgAcABwAFAAjAC4APABMAGQAZwB8AIIAfQC2ANAA4AAyATIBggGcAeMBFgIcAqEC7QJeA/4D+wPvCLEL",
          "dtype": "i2"
         },
         "yaxis": "y"
        },
        {
         "hovertemplate": "search_keyword=urban biodiversity<br>year=%{x}<br>paper_count=%{y}<extra></extra>",
         "legendgroup": "urban biodiversity",
         "line": {
          "color": "#E6A366",
          "dash": "solid"
         },
         "marker": {
          "symbol": "circle"
         },
         "mode": "lines+markers",
         "name": "urban biodiversity",
         "orientation": "v",
         "showlegend": true,
         "type": "scatter",
         "x": {
          "bdata": "rAeyB8EHwwfGB8cHyAfJB8oHywfMB80HzgfPB9AH0QfSB9MH1AfVB9YH1wfYB9kH2gfbB9wH3QfeB98H4AfhB+IH4wfkB+UH5gfnB+gH",
          "dtype": "i2"
         },
         "xaxis": "x",
         "y": {
          "bdata": "AQABAAEAAQABAAIAAwAFAAMABgAEAAYADAAOABAAEwARACEANAA6AEkAQwBPAFcAcgB+AIYAsQC8ANwA4gDfACABSwF1AZgBnAFoA+IE",
          "dtype": "i2"
         },
         "yaxis": "y"
        }
       ],
       "layout": {
        "font": {
         "size": 12
        },
        "height": 600,
        "legend": {
         "title": {
          "text": "Keyword"
         },
         "tracegroupgap": 0
        },
        "template": {
         "data": {
          "bar": [
           {
            "error_x": {
             "color": "#f2f5fa"
            },
            "error_y": {
             "color": "#f2f5fa"
            },
            "marker": {
             "line": {
              "color": "rgb(17,17,17)",
              "width": 0.5
             },
             "pattern": {
              "fillmode": "overlay",
              "size": 10,
              "solidity": 0.2
             }
            },
            "type": "bar"
           }
          ],
          "barpolar": [
           {
            "marker": {
             "line": {
              "color": "rgb(17,17,17)",
              "width": 0.5
             },
             "pattern": {
              "fillmode": "overlay",
              "size": 10,
              "solidity": 0.2
             }
            },
            "type": "barpolar"
           }
          ],
          "carpet": [
           {
            "aaxis": {
             "endlinecolor": "#A2B1C6",
             "gridcolor": "#506784",
             "linecolor": "#506784",
             "minorgridcolor": "#506784",
             "startlinecolor": "#A2B1C6"
            },
            "baxis": {
             "endlinecolor": "#A2B1C6",
             "gridcolor": "#506784",
             "linecolor": "#506784",
             "minorgridcolor": "#506784",
             "startlinecolor": "#A2B1C6"
            },
            "type": "carpet"
           }
          ],
          "choropleth": [
           {
            "colorbar": {
             "outlinewidth": 0,
             "ticks": ""
            },
            "type": "choropleth"
           }
          ],
          "contour": [
           {
            "colorbar": {
             "outlinewidth": 0,
             "ticks": ""
            },
            "colorscale": [
             [
              0,
              "#0d0887"
             ],
             [
              0.1111111111111111,
              "#46039f"
             ],
             [
              0.2222222222222222,
              "#7201a8"
             ],
             [
              0.3333333333333333,
              "#9c179e"
             ],
             [
              0.4444444444444444,
              "#bd3786"
             ],
             [
              0.5555555555555556,
              "#d8576b"
             ],
             [
              0.6666666666666666,
              "#ed7953"
             ],
             [
              0.7777777777777778,
              "#fb9f3a"
             ],
             [
              0.8888888888888888,
              "#fdca26"
             ],
             [
              1,
              "#f0f921"
             ]
            ],
            "type": "contour"
           }
          ],
          "contourcarpet": [
           {
            "colorbar": {
             "outlinewidth": 0,
             "ticks": ""
            },
            "type": "contourcarpet"
           }
          ],
          "heatmap": [
           {
            "colorbar": {
             "outlinewidth": 0,
             "ticks": ""
            },
            "colorscale": [
             [
              0,
              "#0d0887"
             ],
             [
              0.1111111111111111,
              "#46039f"
             ],
             [
              0.2222222222222222,
              "#7201a8"
             ],
             [
              0.3333333333333333,
              "#9c179e"
             ],
             [
              0.4444444444444444,
              "#bd3786"
             ],
             [
              0.5555555555555556,
              "#d8576b"
             ],
             [
              0.6666666666666666,
              "#ed7953"
             ],
             [
              0.7777777777777778,
              "#fb9f3a"
             ],
             [
              0.8888888888888888,
              "#fdca26"
             ],
             [
              1,
              "#f0f921"
             ]
            ],
            "type": "heatmap"
           }
          ],
          "histogram": [
           {
            "marker": {
             "pattern": {
              "fillmode": "overlay",
              "size": 10,
              "solidity": 0.2
             }
            },
            "type": "histogram"
           }
          ],
          "histogram2d": [
           {
            "colorbar": {
             "outlinewidth": 0,
             "ticks": ""
            },
            "colorscale": [
             [
              0,
              "#0d0887"
             ],
             [
              0.1111111111111111,
              "#46039f"
             ],
             [
              0.2222222222222222,
              "#7201a8"
             ],
             [
              0.3333333333333333,
              "#9c179e"
             ],
             [
              0.4444444444444444,
              "#bd3786"
             ],
             [
              0.5555555555555556,
              "#d8576b"
             ],
             [
              0.6666666666666666,
              "#ed7953"
             ],
             [
              0.7777777777777778,
              "#fb9f3a"
             ],
             [
              0.8888888888888888,
              "#fdca26"
             ],
             [
              1,
              "#f0f921"
             ]
            ],
            "type": "histogram2d"
           }
          ],
          "histogram2dcontour": [
           {
            "colorbar": {
             "outlinewidth": 0,
             "ticks": ""
            },
            "colorscale": [
             [
              0,
              "#0d0887"
             ],
             [
              0.1111111111111111,
              "#46039f"
             ],
             [
              0.2222222222222222,
              "#7201a8"
             ],
             [
              0.3333333333333333,
              "#9c179e"
             ],
             [
              0.4444444444444444,
              "#bd3786"
             ],
             [
              0.5555555555555556,
              "#d8576b"
             ],
             [
              0.6666666666666666,
              "#ed7953"
             ],
             [
              0.7777777777777778,
              "#fb9f3a"
             ],
             [
              0.8888888888888888,
              "#fdca26"
             ],
             [
              1,
              "#f0f921"
             ]
            ],
            "type": "histogram2dcontour"
           }
          ],
          "mesh3d": [
           {
            "colorbar": {
             "outlinewidth": 0,
             "ticks": ""
            },
            "type": "mesh3d"
           }
          ],
          "parcoords": [
           {
            "line": {
             "colorbar": {
              "outlinewidth": 0,
              "ticks": ""
             }
            },
            "type": "parcoords"
           }
          ],
          "pie": [
           {
            "automargin": true,
            "type": "pie"
           }
          ],
          "scatter": [
           {
            "marker": {
             "line": {
              "color": "#283442"
             }
            },
            "type": "scatter"
           }
          ],
          "scatter3d": [
           {
            "line": {
             "colorbar": {
              "outlinewidth": 0,
              "ticks": ""
             }
            },
            "marker": {
             "colorbar": {
              "outlinewidth": 0,
              "ticks": ""
             }
            },
            "type": "scatter3d"
           }
          ],
          "scattercarpet": [
           {
            "marker": {
             "colorbar": {
              "outlinewidth": 0,
              "ticks": ""
             }
            },
            "type": "scattercarpet"
           }
          ],
          "scattergeo": [
           {
            "marker": {
             "colorbar": {
              "outlinewidth": 0,
              "ticks": ""
             }
            },
            "type": "scattergeo"
           }
          ],
          "scattergl": [
           {
            "marker": {
             "line": {
              "color": "#283442"
             }
            },
            "type": "scattergl"
           }
          ],
          "scattermap": [
           {
            "marker": {
             "colorbar": {
              "outlinewidth": 0,
              "ticks": ""
             }
            },
            "type": "scattermap"
           }
          ],
          "scattermapbox": [
           {
            "marker": {
             "colorbar": {
              "outlinewidth": 0,
              "ticks": ""
             }
            },
            "type": "scattermapbox"
           }
          ],
          "scatterpolar": [
           {
            "marker": {
             "colorbar": {
              "outlinewidth": 0,
              "ticks": ""
             }
            },
            "type": "scatterpolar"
           }
          ],
          "scatterpolargl": [
           {
            "marker": {
             "colorbar": {
              "outlinewidth": 0,
              "ticks": ""
             }
            },
            "type": "scatterpolargl"
           }
          ],
          "scatterternary": [
           {
            "marker": {
             "colorbar": {
              "outlinewidth": 0,
              "ticks": ""
             }
            },
            "type": "scatterternary"
           }
          ],
          "surface": [
           {
            "colorbar": {
             "outlinewidth": 0,
             "ticks": ""
            },
            "colorscale": [
             [
              0,
              "#0d0887"
             ],
             [
              0.1111111111111111,
              "#46039f"
             ],
             [
              0.2222222222222222,
              "#7201a8"
             ],
             [
              0.3333333333333333,
              "#9c179e"
             ],
             [
              0.4444444444444444,
              "#bd3786"
             ],
             [
              0.5555555555555556,
              "#d8576b"
             ],
             [
              0.6666666666666666,
              "#ed7953"
             ],
             [
              0.7777777777777778,
              "#fb9f3a"
             ],
             [
              0.8888888888888888,
              "#fdca26"
             ],
             [
              1,
              "#f0f921"
             ]
            ],
            "type": "surface"
           }
          ],
          "table": [
           {
            "cells": {
             "fill": {
              "color": "#506784"
             },
             "line": {
              "color": "rgb(17,17,17)"
             }
            },
            "header": {
             "fill": {
              "color": "#2a3f5f"
             },
             "line": {
              "color": "rgb(17,17,17)"
             }
            },
            "type": "table"
           }
          ]
         },
         "layout": {
          "annotationdefaults": {
           "arrowcolor": "#f2f5fa",
           "arrowhead": 0,
           "arrowwidth": 1
          },
          "autotypenumbers": "strict",
          "coloraxis": {
           "colorbar": {
            "outlinewidth": 0,
            "ticks": ""
           }
          },
          "colorscale": {
           "diverging": [
            [
             0,
             "#8e0152"
            ],
            [
             0.1,
             "#c51b7d"
            ],
            [
             0.2,
             "#de77ae"
            ],
            [
             0.3,
             "#f1b6da"
            ],
            [
             0.4,
             "#fde0ef"
            ],
            [
             0.5,
             "#f7f7f7"
            ],
            [
             0.6,
             "#e6f5d0"
            ],
            [
             0.7,
             "#b8e186"
            ],
            [
             0.8,
             "#7fbc41"
            ],
            [
             0.9,
             "#4d9221"
            ],
            [
             1,
             "#276419"
            ]
           ],
           "sequential": [
            [
             0,
             "#0d0887"
            ],
            [
             0.1111111111111111,
             "#46039f"
            ],
            [
             0.2222222222222222,
             "#7201a8"
            ],
            [
             0.3333333333333333,
             "#9c179e"
            ],
            [
             0.4444444444444444,
             "#bd3786"
            ],
            [
             0.5555555555555556,
             "#d8576b"
            ],
            [
             0.6666666666666666,
             "#ed7953"
            ],
            [
             0.7777777777777778,
             "#fb9f3a"
            ],
            [
             0.8888888888888888,
             "#fdca26"
            ],
            [
             1,
             "#f0f921"
            ]
           ],
           "sequentialminus": [
            [
             0,
             "#0d0887"
            ],
            [
             0.1111111111111111,
             "#46039f"
            ],
            [
             0.2222222222222222,
             "#7201a8"
            ],
            [
             0.3333333333333333,
             "#9c179e"
            ],
            [
             0.4444444444444444,
             "#bd3786"
            ],
            [
             0.5555555555555556,
             "#d8576b"
            ],
            [
             0.6666666666666666,
             "#ed7953"
            ],
            [
             0.7777777777777778,
             "#fb9f3a"
            ],
            [
             0.8888888888888888,
             "#fdca26"
            ],
            [
             1,
             "#f0f921"
            ]
           ]
          },
          "colorway": [
           "#636efa",
           "#EF553B",
           "#00cc96",
           "#ab63fa",
           "#FFA15A",
           "#19d3f3",
           "#FF6692",
           "#B6E880",
           "#FF97FF",
           "#FECB52"
          ],
          "font": {
           "color": "#f2f5fa"
          },
          "geo": {
           "bgcolor": "rgb(17,17,17)",
           "lakecolor": "rgb(17,17,17)",
           "landcolor": "rgb(17,17,17)",
           "showlakes": true,
           "showland": true,
           "subunitcolor": "#506784"
          },
          "hoverlabel": {
           "align": "left"
          },
          "hovermode": "closest",
          "mapbox": {
           "style": "dark"
          },
          "paper_bgcolor": "rgb(17,17,17)",
          "plot_bgcolor": "rgb(17,17,17)",
          "polar": {
           "angularaxis": {
            "gridcolor": "#506784",
            "linecolor": "#506784",
            "ticks": ""
           },
           "bgcolor": "rgb(17,17,17)",
           "radialaxis": {
            "gridcolor": "#506784",
            "linecolor": "#506784",
            "ticks": ""
           }
          },
          "scene": {
           "xaxis": {
            "backgroundcolor": "rgb(17,17,17)",
            "gridcolor": "#506784",
            "gridwidth": 2,
            "linecolor": "#506784",
            "showbackground": true,
            "ticks": "",
            "zerolinecolor": "#C8D4E3"
           },
           "yaxis": {
            "backgroundcolor": "rgb(17,17,17)",
            "gridcolor": "#506784",
            "gridwidth": 2,
            "linecolor": "#506784",
            "showbackground": true,
            "ticks": "",
            "zerolinecolor": "#C8D4E3"
           },
           "zaxis": {
            "backgroundcolor": "rgb(17,17,17)",
            "gridcolor": "#506784",
            "gridwidth": 2,
            "linecolor": "#506784",
            "showbackground": true,
            "ticks": "",
            "zerolinecolor": "#C8D4E3"
           }
          },
          "shapedefaults": {
           "line": {
            "color": "#f2f5fa"
           }
          },
          "sliderdefaults": {
           "bgcolor": "#C8D4E3",
           "bordercolor": "rgb(17,17,17)",
           "borderwidth": 1,
           "tickwidth": 0
          },
          "ternary": {
           "aaxis": {
            "gridcolor": "#506784",
            "linecolor": "#506784",
            "ticks": ""
           },
           "baxis": {
            "gridcolor": "#506784",
            "linecolor": "#506784",
            "ticks": ""
           },
           "bgcolor": "rgb(17,17,17)",
           "caxis": {
            "gridcolor": "#506784",
            "linecolor": "#506784",
            "ticks": ""
           }
          },
          "title": {
           "x": 0.05
          },
          "updatemenudefaults": {
           "bgcolor": "#506784",
           "borderwidth": 0
          },
          "xaxis": {
           "automargin": true,
           "gridcolor": "#283442",
           "linecolor": "#506784",
           "ticks": "",
           "title": {
            "standoff": 15
           },
           "zerolinecolor": "#283442",
           "zerolinewidth": 2
          },
          "yaxis": {
           "automargin": true,
           "gridcolor": "#283442",
           "linecolor": "#506784",
           "ticks": "",
           "title": {
            "standoff": 15
           },
           "zerolinecolor": "#283442",
           "zerolinewidth": 2
          }
         }
        },
        "title": {
         "text": "Research Papers Published by Year"
        },
        "width": 1000,
        "xaxis": {
         "anchor": "y",
         "domain": [
          0,
          1
         ],
         "dtick": 5,
         "showgrid": true,
         "tickangle": 45,
         "title": {
          "text": "Year"
         }
        },
        "yaxis": {
         "anchor": "x",
         "domain": [
          0,
          1
         ],
         "showgrid": true,
         "title": {
          "text": "Number of Papers"
         }
        }
       }
      }
     },
     "metadata": {},
     "output_type": "display_data"
    }
   ],
   "source": [
    "fig = px.line(\n",
    "    df_keywords,\n",
    "    x='year',\n",
    "    y='paper_count',\n",
    "    color='search_keyword',\n",
    "    color_discrete_map=color_map,\n",
    "    title='Research Papers Published by Year',\n",
    "    markers=True,\n",
    ")\n",
    "\n",
    "fig.update_layout(\n",
    "    xaxis_title='Year',\n",
    "    yaxis_title='Number of Papers',\n",
    "    legend_title='Keyword',\n",
    "    font=dict(size=12),\n",
    "    width=1000,\n",
    "    height=600,\n",
    "    template='plotly_dark',\n",
    "    xaxis=dict(showgrid=True,\n",
    "               dtick=5,\n",
    "               tickangle=45),\n",
    "    yaxis=dict(showgrid=True),\n",
    ")\n",
    "\n",
    "fig.show()\n"
   ]
  },
  {
   "cell_type": "markdown",
   "id": "14197968",
   "metadata": {},
   "source": [
    "Totals graph:"
   ]
  },
  {
   "cell_type": "code",
   "execution_count": 8,
   "id": "ff9d19e7",
   "metadata": {},
   "outputs": [
    {
     "data": {
      "application/vnd.plotly.v1+json": {
       "config": {
        "plotlyServerURL": "https://plot.ly"
       },
       "data": [
        {
         "hovertemplate": "search_keyword=total<br>year=%{x}<br>paper_count=%{y}<extra></extra>",
         "legendgroup": "total",
         "line": {
          "color": "#FFD700",
          "dash": "solid"
         },
         "marker": {
          "symbol": "circle"
         },
         "mode": "lines+markers",
         "name": "total",
         "orientation": "v",
         "showlegend": true,
         "type": "scatter",
         "x": {
          "bdata": "kQeSB5QHlweYB5kHmweeB58HoQeiB6MHpAelB6YHpweoB6kHqgerB6wHrQeuB68HsAexB7IHswe0B7UHtge3B7gHuQe6B7sHvAe9B74HvwfAB8EHwgfDB8QHxQfGB8cHyAfJB8oHywfMB80HzgfPB9AH0QfSB9MH1AfVB9YH1wfYB9kH2gfbB9wH3QfeB98H4AfhB+IH4wfkB+UH5gfnB+gH",
          "dtype": "i2"
         },
         "xaxis": "x",
         "y": {
          "bdata": "AQABAAEAAgABAAMAAQABAAEAAQAGAAMAAgABAAIAAwAFAAUABwAEAAUAAwAKAAoABwAQAB0ACQANAA4AFAAdABQAFQAYABQAGgAhAA4AHwAfACAAGQArAC0ANgA1AEMAMABSAE8AUABoAHMAbwB7ALwA5AAYAX4BpwGyASkCNAK3AuECXQMmBH4ETQW7BX4GtAYpB78IFgoZC08MzQxGHMkl",
          "dtype": "i2"
         },
         "yaxis": "y"
        }
       ],
       "layout": {
        "font": {
         "size": 12
        },
        "height": 600,
        "legend": {
         "title": {
          "text": "Keyword"
         },
         "tracegroupgap": 0
        },
        "template": {
         "data": {
          "bar": [
           {
            "error_x": {
             "color": "#f2f5fa"
            },
            "error_y": {
             "color": "#f2f5fa"
            },
            "marker": {
             "line": {
              "color": "rgb(17,17,17)",
              "width": 0.5
             },
             "pattern": {
              "fillmode": "overlay",
              "size": 10,
              "solidity": 0.2
             }
            },
            "type": "bar"
           }
          ],
          "barpolar": [
           {
            "marker": {
             "line": {
              "color": "rgb(17,17,17)",
              "width": 0.5
             },
             "pattern": {
              "fillmode": "overlay",
              "size": 10,
              "solidity": 0.2
             }
            },
            "type": "barpolar"
           }
          ],
          "carpet": [
           {
            "aaxis": {
             "endlinecolor": "#A2B1C6",
             "gridcolor": "#506784",
             "linecolor": "#506784",
             "minorgridcolor": "#506784",
             "startlinecolor": "#A2B1C6"
            },
            "baxis": {
             "endlinecolor": "#A2B1C6",
             "gridcolor": "#506784",
             "linecolor": "#506784",
             "minorgridcolor": "#506784",
             "startlinecolor": "#A2B1C6"
            },
            "type": "carpet"
           }
          ],
          "choropleth": [
           {
            "colorbar": {
             "outlinewidth": 0,
             "ticks": ""
            },
            "type": "choropleth"
           }
          ],
          "contour": [
           {
            "colorbar": {
             "outlinewidth": 0,
             "ticks": ""
            },
            "colorscale": [
             [
              0,
              "#0d0887"
             ],
             [
              0.1111111111111111,
              "#46039f"
             ],
             [
              0.2222222222222222,
              "#7201a8"
             ],
             [
              0.3333333333333333,
              "#9c179e"
             ],
             [
              0.4444444444444444,
              "#bd3786"
             ],
             [
              0.5555555555555556,
              "#d8576b"
             ],
             [
              0.6666666666666666,
              "#ed7953"
             ],
             [
              0.7777777777777778,
              "#fb9f3a"
             ],
             [
              0.8888888888888888,
              "#fdca26"
             ],
             [
              1,
              "#f0f921"
             ]
            ],
            "type": "contour"
           }
          ],
          "contourcarpet": [
           {
            "colorbar": {
             "outlinewidth": 0,
             "ticks": ""
            },
            "type": "contourcarpet"
           }
          ],
          "heatmap": [
           {
            "colorbar": {
             "outlinewidth": 0,
             "ticks": ""
            },
            "colorscale": [
             [
              0,
              "#0d0887"
             ],
             [
              0.1111111111111111,
              "#46039f"
             ],
             [
              0.2222222222222222,
              "#7201a8"
             ],
             [
              0.3333333333333333,
              "#9c179e"
             ],
             [
              0.4444444444444444,
              "#bd3786"
             ],
             [
              0.5555555555555556,
              "#d8576b"
             ],
             [
              0.6666666666666666,
              "#ed7953"
             ],
             [
              0.7777777777777778,
              "#fb9f3a"
             ],
             [
              0.8888888888888888,
              "#fdca26"
             ],
             [
              1,
              "#f0f921"
             ]
            ],
            "type": "heatmap"
           }
          ],
          "histogram": [
           {
            "marker": {
             "pattern": {
              "fillmode": "overlay",
              "size": 10,
              "solidity": 0.2
             }
            },
            "type": "histogram"
           }
          ],
          "histogram2d": [
           {
            "colorbar": {
             "outlinewidth": 0,
             "ticks": ""
            },
            "colorscale": [
             [
              0,
              "#0d0887"
             ],
             [
              0.1111111111111111,
              "#46039f"
             ],
             [
              0.2222222222222222,
              "#7201a8"
             ],
             [
              0.3333333333333333,
              "#9c179e"
             ],
             [
              0.4444444444444444,
              "#bd3786"
             ],
             [
              0.5555555555555556,
              "#d8576b"
             ],
             [
              0.6666666666666666,
              "#ed7953"
             ],
             [
              0.7777777777777778,
              "#fb9f3a"
             ],
             [
              0.8888888888888888,
              "#fdca26"
             ],
             [
              1,
              "#f0f921"
             ]
            ],
            "type": "histogram2d"
           }
          ],
          "histogram2dcontour": [
           {
            "colorbar": {
             "outlinewidth": 0,
             "ticks": ""
            },
            "colorscale": [
             [
              0,
              "#0d0887"
             ],
             [
              0.1111111111111111,
              "#46039f"
             ],
             [
              0.2222222222222222,
              "#7201a8"
             ],
             [
              0.3333333333333333,
              "#9c179e"
             ],
             [
              0.4444444444444444,
              "#bd3786"
             ],
             [
              0.5555555555555556,
              "#d8576b"
             ],
             [
              0.6666666666666666,
              "#ed7953"
             ],
             [
              0.7777777777777778,
              "#fb9f3a"
             ],
             [
              0.8888888888888888,
              "#fdca26"
             ],
             [
              1,
              "#f0f921"
             ]
            ],
            "type": "histogram2dcontour"
           }
          ],
          "mesh3d": [
           {
            "colorbar": {
             "outlinewidth": 0,
             "ticks": ""
            },
            "type": "mesh3d"
           }
          ],
          "parcoords": [
           {
            "line": {
             "colorbar": {
              "outlinewidth": 0,
              "ticks": ""
             }
            },
            "type": "parcoords"
           }
          ],
          "pie": [
           {
            "automargin": true,
            "type": "pie"
           }
          ],
          "scatter": [
           {
            "marker": {
             "line": {
              "color": "#283442"
             }
            },
            "type": "scatter"
           }
          ],
          "scatter3d": [
           {
            "line": {
             "colorbar": {
              "outlinewidth": 0,
              "ticks": ""
             }
            },
            "marker": {
             "colorbar": {
              "outlinewidth": 0,
              "ticks": ""
             }
            },
            "type": "scatter3d"
           }
          ],
          "scattercarpet": [
           {
            "marker": {
             "colorbar": {
              "outlinewidth": 0,
              "ticks": ""
             }
            },
            "type": "scattercarpet"
           }
          ],
          "scattergeo": [
           {
            "marker": {
             "colorbar": {
              "outlinewidth": 0,
              "ticks": ""
             }
            },
            "type": "scattergeo"
           }
          ],
          "scattergl": [
           {
            "marker": {
             "line": {
              "color": "#283442"
             }
            },
            "type": "scattergl"
           }
          ],
          "scattermap": [
           {
            "marker": {
             "colorbar": {
              "outlinewidth": 0,
              "ticks": ""
             }
            },
            "type": "scattermap"
           }
          ],
          "scattermapbox": [
           {
            "marker": {
             "colorbar": {
              "outlinewidth": 0,
              "ticks": ""
             }
            },
            "type": "scattermapbox"
           }
          ],
          "scatterpolar": [
           {
            "marker": {
             "colorbar": {
              "outlinewidth": 0,
              "ticks": ""
             }
            },
            "type": "scatterpolar"
           }
          ],
          "scatterpolargl": [
           {
            "marker": {
             "colorbar": {
              "outlinewidth": 0,
              "ticks": ""
             }
            },
            "type": "scatterpolargl"
           }
          ],
          "scatterternary": [
           {
            "marker": {
             "colorbar": {
              "outlinewidth": 0,
              "ticks": ""
             }
            },
            "type": "scatterternary"
           }
          ],
          "surface": [
           {
            "colorbar": {
             "outlinewidth": 0,
             "ticks": ""
            },
            "colorscale": [
             [
              0,
              "#0d0887"
             ],
             [
              0.1111111111111111,
              "#46039f"
             ],
             [
              0.2222222222222222,
              "#7201a8"
             ],
             [
              0.3333333333333333,
              "#9c179e"
             ],
             [
              0.4444444444444444,
              "#bd3786"
             ],
             [
              0.5555555555555556,
              "#d8576b"
             ],
             [
              0.6666666666666666,
              "#ed7953"
             ],
             [
              0.7777777777777778,
              "#fb9f3a"
             ],
             [
              0.8888888888888888,
              "#fdca26"
             ],
             [
              1,
              "#f0f921"
             ]
            ],
            "type": "surface"
           }
          ],
          "table": [
           {
            "cells": {
             "fill": {
              "color": "#506784"
             },
             "line": {
              "color": "rgb(17,17,17)"
             }
            },
            "header": {
             "fill": {
              "color": "#2a3f5f"
             },
             "line": {
              "color": "rgb(17,17,17)"
             }
            },
            "type": "table"
           }
          ]
         },
         "layout": {
          "annotationdefaults": {
           "arrowcolor": "#f2f5fa",
           "arrowhead": 0,
           "arrowwidth": 1
          },
          "autotypenumbers": "strict",
          "coloraxis": {
           "colorbar": {
            "outlinewidth": 0,
            "ticks": ""
           }
          },
          "colorscale": {
           "diverging": [
            [
             0,
             "#8e0152"
            ],
            [
             0.1,
             "#c51b7d"
            ],
            [
             0.2,
             "#de77ae"
            ],
            [
             0.3,
             "#f1b6da"
            ],
            [
             0.4,
             "#fde0ef"
            ],
            [
             0.5,
             "#f7f7f7"
            ],
            [
             0.6,
             "#e6f5d0"
            ],
            [
             0.7,
             "#b8e186"
            ],
            [
             0.8,
             "#7fbc41"
            ],
            [
             0.9,
             "#4d9221"
            ],
            [
             1,
             "#276419"
            ]
           ],
           "sequential": [
            [
             0,
             "#0d0887"
            ],
            [
             0.1111111111111111,
             "#46039f"
            ],
            [
             0.2222222222222222,
             "#7201a8"
            ],
            [
             0.3333333333333333,
             "#9c179e"
            ],
            [
             0.4444444444444444,
             "#bd3786"
            ],
            [
             0.5555555555555556,
             "#d8576b"
            ],
            [
             0.6666666666666666,
             "#ed7953"
            ],
            [
             0.7777777777777778,
             "#fb9f3a"
            ],
            [
             0.8888888888888888,
             "#fdca26"
            ],
            [
             1,
             "#f0f921"
            ]
           ],
           "sequentialminus": [
            [
             0,
             "#0d0887"
            ],
            [
             0.1111111111111111,
             "#46039f"
            ],
            [
             0.2222222222222222,
             "#7201a8"
            ],
            [
             0.3333333333333333,
             "#9c179e"
            ],
            [
             0.4444444444444444,
             "#bd3786"
            ],
            [
             0.5555555555555556,
             "#d8576b"
            ],
            [
             0.6666666666666666,
             "#ed7953"
            ],
            [
             0.7777777777777778,
             "#fb9f3a"
            ],
            [
             0.8888888888888888,
             "#fdca26"
            ],
            [
             1,
             "#f0f921"
            ]
           ]
          },
          "colorway": [
           "#636efa",
           "#EF553B",
           "#00cc96",
           "#ab63fa",
           "#FFA15A",
           "#19d3f3",
           "#FF6692",
           "#B6E880",
           "#FF97FF",
           "#FECB52"
          ],
          "font": {
           "color": "#f2f5fa"
          },
          "geo": {
           "bgcolor": "rgb(17,17,17)",
           "lakecolor": "rgb(17,17,17)",
           "landcolor": "rgb(17,17,17)",
           "showlakes": true,
           "showland": true,
           "subunitcolor": "#506784"
          },
          "hoverlabel": {
           "align": "left"
          },
          "hovermode": "closest",
          "mapbox": {
           "style": "dark"
          },
          "paper_bgcolor": "rgb(17,17,17)",
          "plot_bgcolor": "rgb(17,17,17)",
          "polar": {
           "angularaxis": {
            "gridcolor": "#506784",
            "linecolor": "#506784",
            "ticks": ""
           },
           "bgcolor": "rgb(17,17,17)",
           "radialaxis": {
            "gridcolor": "#506784",
            "linecolor": "#506784",
            "ticks": ""
           }
          },
          "scene": {
           "xaxis": {
            "backgroundcolor": "rgb(17,17,17)",
            "gridcolor": "#506784",
            "gridwidth": 2,
            "linecolor": "#506784",
            "showbackground": true,
            "ticks": "",
            "zerolinecolor": "#C8D4E3"
           },
           "yaxis": {
            "backgroundcolor": "rgb(17,17,17)",
            "gridcolor": "#506784",
            "gridwidth": 2,
            "linecolor": "#506784",
            "showbackground": true,
            "ticks": "",
            "zerolinecolor": "#C8D4E3"
           },
           "zaxis": {
            "backgroundcolor": "rgb(17,17,17)",
            "gridcolor": "#506784",
            "gridwidth": 2,
            "linecolor": "#506784",
            "showbackground": true,
            "ticks": "",
            "zerolinecolor": "#C8D4E3"
           }
          },
          "shapedefaults": {
           "line": {
            "color": "#f2f5fa"
           }
          },
          "sliderdefaults": {
           "bgcolor": "#C8D4E3",
           "bordercolor": "rgb(17,17,17)",
           "borderwidth": 1,
           "tickwidth": 0
          },
          "ternary": {
           "aaxis": {
            "gridcolor": "#506784",
            "linecolor": "#506784",
            "ticks": ""
           },
           "baxis": {
            "gridcolor": "#506784",
            "linecolor": "#506784",
            "ticks": ""
           },
           "bgcolor": "rgb(17,17,17)",
           "caxis": {
            "gridcolor": "#506784",
            "linecolor": "#506784",
            "ticks": ""
           }
          },
          "title": {
           "x": 0.05
          },
          "updatemenudefaults": {
           "bgcolor": "#506784",
           "borderwidth": 0
          },
          "xaxis": {
           "automargin": true,
           "gridcolor": "#283442",
           "linecolor": "#506784",
           "ticks": "",
           "title": {
            "standoff": 15
           },
           "zerolinecolor": "#283442",
           "zerolinewidth": 2
          },
          "yaxis": {
           "automargin": true,
           "gridcolor": "#283442",
           "linecolor": "#506784",
           "ticks": "",
           "title": {
            "standoff": 15
           },
           "zerolinecolor": "#283442",
           "zerolinewidth": 2
          }
         }
        },
        "title": {
         "text": "Research Papers Published by Year"
        },
        "width": 1000,
        "xaxis": {
         "anchor": "y",
         "domain": [
          0,
          1
         ],
         "dtick": 5,
         "showgrid": true,
         "tickangle": 45,
         "title": {
          "text": "Year"
         }
        },
        "yaxis": {
         "anchor": "x",
         "domain": [
          0,
          1
         ],
         "showgrid": true,
         "title": {
          "text": "Number of Papers"
         }
        }
       }
      }
     },
     "metadata": {},
     "output_type": "display_data"
    }
   ],
   "source": [
    "fig = px.line(\n",
    "    df_totals,\n",
    "    x='year',\n",
    "    y='paper_count',\n",
    "    color='search_keyword',\n",
    "    color_discrete_map=color_map,\n",
    "    title='Research Papers Published by Year',\n",
    "    markers=True,\n",
    ")\n",
    "\n",
    "fig.update_layout(\n",
    "    xaxis_title='Year',\n",
    "    yaxis_title='Number of Papers',\n",
    "    legend_title='Keyword',\n",
    "    font=dict(size=12),\n",
    "    width=1000,\n",
    "    height=600,\n",
    "    template='plotly_dark',\n",
    "    xaxis=dict(showgrid=True,\n",
    "               dtick=5,\n",
    "               tickangle=45),\n",
    "    yaxis=dict(showgrid=True),\n",
    ")\n",
    "\n",
    "fig.show()"
   ]
  },
  {
   "cell_type": "code",
   "execution_count": 9,
   "id": "4197d3ef",
   "metadata": {},
   "outputs": [],
   "source": [
    "df_keyword_pivot = df_keywords.pivot(index='year', columns='search_keyword', values='paper_count')\n",
    "df_rate = df_keyword_pivot.pct_change(fill_method=None)\n",
    "df_rate.fillna(0, inplace=True)\n",
    "df_rate.reset_index(inplace=True)"
   ]
  },
  {
   "cell_type": "code",
   "execution_count": 10,
   "id": "437237d0",
   "metadata": {},
   "outputs": [
    {
     "data": {
      "application/vnd.plotly.v1+json": {
       "config": {
        "plotlyServerURL": "https://plot.ly"
       },
       "data": [
        {
         "hovertemplate": "search_keyword=urban biodiversity<br>year=%{x}<br>growth_rolling_avg=%{y}<extra></extra>",
         "legendgroup": "urban biodiversity",
         "line": {
          "color": "#E6A366",
          "dash": "solid"
         },
         "marker": {
          "symbol": "circle"
         },
         "mode": "lines+markers",
         "name": "urban biodiversity",
         "orientation": "v",
         "showlegend": true,
         "type": "scatter",
         "x": {
          "bdata": "kQeSB5QHlweYB5kHmweeB58HoQeiB6MHpAelB6YHpweoB6kHqgerB6wHrQeuB68HsAexB7IHswe0B7UHtge3B7gHuQe6B7sHvAe9B74HvwfAB8EHwgfDB8QHxQfGB8cHyAfJB8oHywfMB80HzgfPB9AH0QfSB9MH1AfVB9YH1wfYB9kH2gfbB9wH3QfeB98H4AfhB+IH4wfkB+UH5gfnB+gH",
          "dtype": "i2"
         },
         "xaxis": "x5",
         "y": {
          "bdata": "AAAAAAAAAAAAAAAAAAAAAAAAAAAAAAAAAAAAAAAAAAAAAAAAAAAAAAAAAAAAAAAAAAAAAAAAAAAAAAAAAAAAAAAAAAAAAAAAAAAAAAAAAAAAAAAAAAAAAAAAAAAAAAAAAAAAAAAAAAAAAAAAAAAAAAAAAAAAAAAAAAAAAAAAAAAAAAAAAAAAAAAAAAAAAAAAAAAAAAAAAAAAAAAAAAAAAAAAAAAAAAAAAAAAAAAAAAAAAAAAAAAAAAAAAAAAAAAAAAAAAAAAAAAAAAAAAAAAAAAAAAAAAAAAAAAAAAAAAAAAAAAAAAAAAAAAAAAAAAAAAAAAAAAAAAAAAAAAAAAAAAAAAAAAAAAAAAAAAAAAAAAAAAAAAAAAAAAAAAAAAAAAAAAAAAAAAAAAAAAAAAAAAAAAAAAAAAAAAAAAAAAAAAAAAAAAAAAAAAAAAAAAAAAAAAAAAAAAAAAAAAAAAAAAAAAAAAAAAAAAAAAAAAAAAAAAAAAAAAAAAFVVVVVVVdU/AAAAAAAA4D/IcRzHcRznP7EFW7AFW9A/W7AFW7AF2z8VbMEWbMG2PziO4ziO49g/OI7jOI7j2D9yHMdxHMfhP/u+7/u+79s/TNM0TdM0xT9QM1DNQDWzPyXwW4Qz1dU/wxGN85od3j+Jrt1yUWnhP56P/7/4QtQ/y0dZgsPmuD/1BXnOvla+PxtSHZxG6bA/2b1SNy80yT/c18brow3GP+RPpNUMccQ/r5opt0rkxD8Bx07mWA3DP8dLypwFm8c/7coeisEntj+rhcPpTnCvP+t+2PpFEbo/OCSCgo89wj/p26BqgjjIP51J7Q9gk78/QylbYeqrsz/b4D3vmgfaP6WEpr5Ho+A/",
          "dtype": "f8"
         },
         "yaxis": "y5"
        },
        {
         "hovertemplate": "search_keyword=urban ecology<br>year=%{x}<br>growth_rolling_avg=%{y}<extra></extra>",
         "legendgroup": "urban ecology",
         "line": {
          "color": "#6B9BD2",
          "dash": "solid"
         },
         "marker": {
          "symbol": "circle"
         },
         "mode": "lines+markers",
         "name": "urban ecology",
         "orientation": "v",
         "showlegend": true,
         "type": "scatter",
         "x": {
          "bdata": "kQeSB5QHlweYB5kHmweeB58HoQeiB6MHpAelB6YHpweoB6kHqgerB6wHrQeuB68HsAexB7IHswe0B7UHtge3B7gHuQe6B7sHvAe9B74HvwfAB8EHwgfDB8QHxQfGB8cHyAfJB8oHywfMB80HzgfPB9AH0QfSB9MH1AfVB9YH1wfYB9kH2gfbB9wH3QfeB98H4AfhB+IH4wfkB+UH5gfnB+gH",
          "dtype": "i2"
         },
         "xaxis": "x6",
         "y": {
          "bdata": "Nb+LToKI4D/rJ0tg037CPwAAAAAAAAAAAAAAAAAAAAAAAAAAAAAAAFRVVVVVVdU/VFVVVVVV1T9UVVVVVVXVPwAAAAAAAAAAAAAAAAAAAAAAAAAAAAAAACPHcRzHcby/cxzHcRzH0b9zHMdxHMfRv1hVVVVVVcW/WFVVVVVVxb+rqqqqqqrqP1VVVVVVVeU/AAAAAAAA+D8AAAAAAADgP1VVVVVVVeU/VVVVVVVVtb8AAAAAAADQP+Q4juM4jtM/OY7jOI7j2D8VBEEQBEGAP2VZlmVZluU/QMn/JP+T3D9XUltJbSXlP1BhPYX1FMa/VFVVVVVVxT9VVVVVVVXdP4AB/QX0F9g/uY/gPoL70D9zFtNZTGexv4DwwQcffLA/NYiSZmH3uT/QISwA+5CzP5Uhwbx2FoI/6XAO53AOxz9lvuVbvuWrPwyv8Aqv8Mo/WJu1WZu1ub8AdAHCylZHv7A1OzeDcaA/BVOstRzT0D9loQYsyKG4P/0aBafFr8E/VeFmvja8g78bfaQafaTSP2TZO2PZO8M/pcZIgbvvuD+LvtYsKt6iv0td6WNKcb8/NExeUchOwz+DnWNoQO+2P5djAHicjss/UtVTa+GH0T/XqGdfkFLTP3kjLo7uUdA/8Xnhs9PazT8Vi57aU3S4PwU85WU1Z8E/AETZd5rPxD/gOuTFopDWPxCaNv9egLg/paIxzPVevj/w6lT01eOyP3EwIY/Wc8A/U5xF7uD0vj8gEWX7fDytP7sWkxocorc/6wKT21s/gT+LrZNS3iqpPwCev5L/7Z8/PIZB8u1Zwj8kyn01O3vAP8g3EbeahrM/m6dZ4T1ioj9W1Q/B1WXSP3Dr3Uyma9Y/",
          "dtype": "f8"
         },
         "yaxis": "y6"
        },
        {
         "hovertemplate": "search_keyword=urban ecosystem<br>year=%{x}<br>growth_rolling_avg=%{y}<extra></extra>",
         "legendgroup": "urban ecosystem",
         "line": {
          "color": "#E6A8D0",
          "dash": "solid"
         },
         "marker": {
          "symbol": "circle"
         },
         "mode": "lines+markers",
         "name": "urban ecosystem",
         "orientation": "v",
         "showlegend": true,
         "type": "scatter",
         "x": {
          "bdata": "kQeSB5QHlweYB5kHmweeB58HoQeiB6MHpAelB6YHpweoB6kHqgerB6wHrQeuB68HsAexB7IHswe0B7UHtge3B7gHuQe6B7sHvAe9B74HvwfAB8EHwgfDB8QHxQfGB8cHyAfJB8oHywfMB80HzgfPB9AH0QfSB9MH1AfVB9YH1wfYB9kH2gfbB9wH3QfeB98H4AfhB+IH4wfkB+UH5gfnB+gH",
          "dtype": "i2"
         },
         "xaxis": "x3",
         "y": {
          "bdata": "RsTSPXT+1D9934YJSuCwPwAAAAAAAAAAAAAAAAAAAAAAAAAAAAAAAAAAAAAAAAAAAAAAAAAAAAAAAAAAAAAAAAAAAAAAAAAAAAAAAAAAAAAAAAAAAAAAAAAAAAAAAAAAAAAAAAAAAAAAAAAAAAAAAAAAAAAAAAAAAAAAAAAAAAAAAAAAAAAAAAAAAAAAAAAAAAAAAAAAAAAAAAAAAAAAAAAAAAAAAAAAAAAAAAAAAAAAAAAAAAAAAAAAAAAAAAAAAAAAAAAAAAAAAAAAAAAAAJiZmZmZmcm/mJmZmZmZyb+YmZmZmZnJvwAAAAAAAPA/q6qqqqqq8j8AAAAAAADwPxvHcRzHcbw/cxzHcRzHwb9YVVVVVVW1v3Ecx3Ecx8E/IMdxHMdxnL8AAAAAAAD8P47jOI7jOPI/cRzHcRzHBUBN+qRP+qTvP+/u7u7u7vI/gS3Ygi3Y0j8sy7Isy7LkP3RO53RO5+Q/DyMxEiMxwj+1MAmTMAmTv/WGtW9Y+8Y/cVnd7CojxD/X7CojBIjHP1Td7CojBMA/cW+VpvglyT9PV1FdRXXNP09XUV1FdcU/Y3CxwcUGtz/vPM/zPM/DP74JnMAJnNA/rP+sYJAy3T+xWl1m6+LSPzVb0c4h69I/424sfqchyj/Iwm8F5XPHP4VaTpBLFrg/c2MQ5Lo+sj+kIeNJJuHDPxlB864D6cc/3Y/fc1LVzD/rD//wD//IP2Wu5mqu5sI/mGgbSBPGyj8F97tEpQ68PwOK4oKgYcU/m2L6sbR2vT8FGQ4ytqy4P6ChlymH/L4/qzFwXc+cvz8zV6avjsPFP7ha2Q/BLMM/Y/WibnN2vD+T+b/UhXHeP/0ZrJ7eiOA/",
          "dtype": "f8"
         },
         "yaxis": "y3"
        },
        {
         "hovertemplate": "search_keyword=urban green spaces<br>year=%{x}<br>growth_rolling_avg=%{y}<extra></extra>",
         "legendgroup": "urban green spaces",
         "line": {
          "color": "#7FB069",
          "dash": "solid"
         },
         "marker": {
          "symbol": "circle"
         },
         "mode": "lines+markers",
         "name": "urban green spaces",
         "orientation": "v",
         "showlegend": true,
         "type": "scatter",
         "x": {
          "bdata": "kQeSB5QHlweYB5kHmweeB58HoQeiB6MHpAelB6YHpweoB6kHqgerB6wHrQeuB68HsAexB7IHswe0B7UHtge3B7gHuQe6B7sHvAe9B74HvwfAB8EHwgfDB8QHxQfGB8cHyAfJB8oHywfMB80HzgfPB9AH0QfSB9MH1AfVB9YH1wfYB9kH2gfbB9wH3QfeB98H4AfhB+IH4wfkB+UH5gfnB+gH",
          "dtype": "i2"
         },
         "xaxis": "x4",
         "y": {
          "bdata": "fRqtoOKQ4D81llkbr1e6PwAAAAAAAAAAAAAAAAAAAAAAAAAAAAAAAAAAAAAAAAAAAAAAAAAAAAAAAAAAAAAAAAAAAAAAAAAAAAAAAAAAAAAAAAAAAAAAAAAAAAAAAAAAAAAAAAAAAAAAAAAAAAAAAAAAAAAAAAAAAAAAAAAAAAAAAAAAAAAAAAAAAAAAAAAAAAAAAAAAAAAAAAAAAAAAAAAAAAAAAAAAAAAAAAAAAAAAAAAAAAAAAAAAAAAAAAAAAAAAAAAAAAAAAAAAAAAAAAAAAAAAAAAAW1VVVVVVxb9bVVVVVVXFv1tVVVVVVcW/AAAAAAAAAAAAAAAAAAAAAAAAAAAAAAAAAAAAAAAAAAAAAAAAAAAAAFtVVVVVVcW/W1VVVVVVxb9bVVVVVVXFvwAAAAAAAAAAU1VVVVVV1T9TVVVVVVXVP1NVVVVVVdU/AAAAAAAAAAAAAAAAAAAAAFNVVVVVVdU/U1VVVVVV1T+pqqqqqqrqPyEiIiIiIuI/s2ALtmAL1j+vBVuwBVvgP+I4juM4juM/qaqqqqqq6j9QVVVVVVXFPxcREREREcG/EBERERER4T9silHD36bYPwOSda48IOk/sc6VByTr3D8Nf5ti1PDnP5gxxO2GGeM/oGWvSxBa1j/NUe4qxr/QP81R7irGv9A/S5xnBYUKwT8wlm+64fW6P1DF5ov26MY/D9Ypre6q0j/gnLgb4vfYP13+jMzCHM0/CHZhl1KDxT/g41Hi8OO5P8CnzovrX8M//b1TL3HawD9dfG7MravAP3MdxZWCucE/8OuXwCK/yj/t0TpgGyzHP10eVZl1FsM/laeUR3sGwT8vsKePvNvhP6GjXZZK+OQ/",
          "dtype": "f8"
         },
         "yaxis": "y4"
        },
        {
         "hovertemplate": "search_keyword=urban vegetation<br>year=%{x}<br>growth_rolling_avg=%{y}<extra></extra>",
         "legendgroup": "urban vegetation",
         "line": {
          "color": "#B19CD9",
          "dash": "solid"
         },
         "marker": {
          "symbol": "circle"
         },
         "mode": "lines+markers",
         "name": "urban vegetation",
         "orientation": "v",
         "showlegend": true,
         "type": "scatter",
         "x": {
          "bdata": "kQeSB5QHlweYB5kHmweeB58HoQeiB6MHpAelB6YHpweoB6kHqgerB6wHrQeuB68HsAexB7IHswe0B7UHtge3B7gHuQe6B7sHvAe9B74HvwfAB8EHwgfDB8QHxQfGB8cHyAfJB8oHywfMB80HzgfPB9AH0QfSB9MH1AfVB9YH1wfYB9kH2gfbB9wH3QfeB98H4AfhB+IH4wfkB+UH5gfnB+gH",
          "dtype": "i2"
         },
         "xaxis": "x",
         "y": {
          "bdata": "d4ZGAniG4z89HH7KSjjDPwAAAAAAAAAAAAAAAAAAAAAAAAAAAAAAAAAAAAAAAAAAAAAAAAAAAAAAAAAAAAAAAAAAAAAAAAAAAAAAAAAAAAAAAAAAAAAAAAAAAAAAAAAAAAAAAAAAAAAAAAAAAAAAAAAAAAAAAAAAAAAAAAAAAABYVVVVVVXFv1hVVVVVVcW/WFVVVVVVxb8AAAAAAAAAAAAAAAAAAAAAAAAAAAAAAAAAAAAAAAAAAAAAAAAAAAAAAAAAAAAAAAAAAAAAAAAAAFNVVVVVVcU/EMdxHMdxrD8jx3Ecx3G8vziO4ziO49g/yHEcx3Ec5z+3YAu2YAvmPyBswRZswZY/3d3d3d3d3T9xHMdxHMfhP43jOI7jON4/AAAAAAAA0D+LoiiKoijaP4uiKIqiKNI/UBRFURRF2T/jOI7jOI7TP3Vd13Vd190/oyiKoiiKwr+bjMmYjMm4P3/SJ33SJ80/iYiIiIiI2D/7q7/6q7/KP13ERVzERcw/FUABFEABhD+3bdu2bdvGP1NVVVVVVbU/bSK7iewmwj+L6Syms5jGP4vpLKazmMY/VVVVVVVVzT/V6db8sEiJPxgNtYkpfMs/mzqNDFdUzj/FV3zFV3zZPx0tSYHx0co/gDUF1hRYyz/rHUcH3hbBP2NjJx1fbsU/c3cyOlivxj/NKwB8zbzCP/BOUCQtzqo/6O1DA92Cvj/dDQ0nIQ+4P0N9IMu43cg/ndh7JhQ5xD+T3gCkVZrDP8XhUhTzw74/SzPE8Qx4sj9Qkutbjaq1P2ufc1h6KLk/u2btmGECxD/1sQN6W7q4PzUhffokYbc/le7HhDRWpD81eWrsl8/gP3EcNjU0yeI/",
          "dtype": "f8"
         },
         "yaxis": "y"
        },
        {
         "hovertemplate": "search_keyword=urban wildlife<br>year=%{x}<br>growth_rolling_avg=%{y}<extra></extra>",
         "legendgroup": "urban wildlife",
         "line": {
          "color": "#D67B7B",
          "dash": "solid"
         },
         "marker": {
          "symbol": "circle"
         },
         "mode": "lines+markers",
         "name": "urban wildlife",
         "orientation": "v",
         "showlegend": true,
         "type": "scatter",
         "x": {
          "bdata": "kQeSB5QHlweYB5kHmweeB58HoQeiB6MHpAelB6YHpweoB6kHqgerB6wHrQeuB68HsAexB7IHswe0B7UHtge3B7gHuQe6B7sHvAe9B74HvwfAB8EHwgfDB8QHxQfGB8cHyAfJB8oHywfMB80HzgfPB9AH0QfSB9MH1AfVB9YH1wfYB9kH2gfbB9wH3QfeB98H4AfhB+IH4wfkB+UH5gfnB+gH",
          "dtype": "i2"
         },
         "xaxis": "x2",
         "y": {
          "bdata": "mw88E8f74T9rOjylb0u3PwAAAAAAAAAAAAAAAAAAAAAAAAAAAAAAAAAAAAAAAAAAAAAAAAAAAAAAAAAAAAAAAAAAAAAAAAAAAAAAAAAAAAAAAAAAAAAAAAAAAAAAAAAAAAAAAAAAAAAAAAAAAAAAAAAAAAAAAAAAAAAAAAAAAAAAAAAAAAAAAAAAAAAAAAAAAAAAAAAAAAAAAAAAAAAAAAAAAAAAAAAAAAAAAAAAAAAAAAAAAAAAAFVVVVVVVdU/VVVVVVVV1T9VVVVVVVXVP1VVVVVVVdU/VVVVVVVV1T9VVVVVVVXVPwAAAAAAAAAAAAAAAAAAAAAAAAAAAAAAAFVVVVVVVbU/FRERERERkT+bmZmZmZm5P93d3d3d3b2/65M+6ZM+2T8fuqEbuqHLPxtSIRVSIbU/FDiBEziB0z94d3d3d3fnP6uqqqqqqvI/cRzHcRzH0T/jOI7jOI7jPwntJbSX0N4/gJti1PC36T9rGlG8b6ahPwBQARVQAWW/qCYV/Xtq0r9fQnsJ7SXUP6xz5QHJOsc/bMEWbMEW9D/owCW5Bj3mP50hMW9nSOw/AzBGegGMsb+QLxeRLxexv9MO3tEO3sE/HJDg51yt1D9AswMLgNDXP7acbN/dCtI/Ly8CG0vYyT99yABXAK20P5OmBfcMbL0/eVeJvm7mwj/VMaZ3vdTRP6W1ZG00WLE/q8/1x8tgdL9rNs55zB6yP5V45eRKEsE/0M4Fcf91xj9lK68RCPHDP4ADwgL9iZ0/xZPCyOxKsT9rie/aPPOBP0FBCDD4u8k/ey+6SkpFvj8zLViRMhjQP2iIwmtI4rk/tV8wYwm8sD+wCU8hYBLGP6QfRqC2S9E/",
          "dtype": "f8"
         },
         "yaxis": "y2"
        }
       ],
       "layout": {
        "annotations": [
         {
          "font": {},
          "showarrow": false,
          "text": "",
          "x": 0.245,
          "xanchor": "center",
          "xref": "paper",
          "y": 0.2866666666666666,
          "yanchor": "bottom",
          "yref": "paper"
         },
         {
          "font": {},
          "showarrow": false,
          "text": "",
          "x": 0.755,
          "xanchor": "center",
          "xref": "paper",
          "y": 0.2866666666666666,
          "yanchor": "bottom",
          "yref": "paper"
         },
         {
          "font": {},
          "showarrow": false,
          "text": "",
          "x": 0.245,
          "xanchor": "center",
          "xref": "paper",
          "y": 0.6433333333333333,
          "yanchor": "bottom",
          "yref": "paper"
         },
         {
          "font": {},
          "showarrow": false,
          "text": "",
          "x": 0.755,
          "xanchor": "center",
          "xref": "paper",
          "y": 0.6433333333333333,
          "yanchor": "bottom",
          "yref": "paper"
         },
         {
          "font": {},
          "showarrow": false,
          "text": "",
          "x": 0.245,
          "xanchor": "center",
          "xref": "paper",
          "y": 0.9999999999999999,
          "yanchor": "bottom",
          "yref": "paper"
         },
         {
          "font": {},
          "showarrow": false,
          "text": "",
          "x": 0.755,
          "xanchor": "center",
          "xref": "paper",
          "y": 0.9999999999999999,
          "yanchor": "bottom",
          "yref": "paper"
         }
        ],
        "font": {
         "size": 12
        },
        "height": 700,
        "legend": {
         "title": {
          "text": "Keyword"
         },
         "tracegroupgap": 0
        },
        "template": {
         "data": {
          "bar": [
           {
            "error_x": {
             "color": "#f2f5fa"
            },
            "error_y": {
             "color": "#f2f5fa"
            },
            "marker": {
             "line": {
              "color": "rgb(17,17,17)",
              "width": 0.5
             },
             "pattern": {
              "fillmode": "overlay",
              "size": 10,
              "solidity": 0.2
             }
            },
            "type": "bar"
           }
          ],
          "barpolar": [
           {
            "marker": {
             "line": {
              "color": "rgb(17,17,17)",
              "width": 0.5
             },
             "pattern": {
              "fillmode": "overlay",
              "size": 10,
              "solidity": 0.2
             }
            },
            "type": "barpolar"
           }
          ],
          "carpet": [
           {
            "aaxis": {
             "endlinecolor": "#A2B1C6",
             "gridcolor": "#506784",
             "linecolor": "#506784",
             "minorgridcolor": "#506784",
             "startlinecolor": "#A2B1C6"
            },
            "baxis": {
             "endlinecolor": "#A2B1C6",
             "gridcolor": "#506784",
             "linecolor": "#506784",
             "minorgridcolor": "#506784",
             "startlinecolor": "#A2B1C6"
            },
            "type": "carpet"
           }
          ],
          "choropleth": [
           {
            "colorbar": {
             "outlinewidth": 0,
             "ticks": ""
            },
            "type": "choropleth"
           }
          ],
          "contour": [
           {
            "colorbar": {
             "outlinewidth": 0,
             "ticks": ""
            },
            "colorscale": [
             [
              0,
              "#0d0887"
             ],
             [
              0.1111111111111111,
              "#46039f"
             ],
             [
              0.2222222222222222,
              "#7201a8"
             ],
             [
              0.3333333333333333,
              "#9c179e"
             ],
             [
              0.4444444444444444,
              "#bd3786"
             ],
             [
              0.5555555555555556,
              "#d8576b"
             ],
             [
              0.6666666666666666,
              "#ed7953"
             ],
             [
              0.7777777777777778,
              "#fb9f3a"
             ],
             [
              0.8888888888888888,
              "#fdca26"
             ],
             [
              1,
              "#f0f921"
             ]
            ],
            "type": "contour"
           }
          ],
          "contourcarpet": [
           {
            "colorbar": {
             "outlinewidth": 0,
             "ticks": ""
            },
            "type": "contourcarpet"
           }
          ],
          "heatmap": [
           {
            "colorbar": {
             "outlinewidth": 0,
             "ticks": ""
            },
            "colorscale": [
             [
              0,
              "#0d0887"
             ],
             [
              0.1111111111111111,
              "#46039f"
             ],
             [
              0.2222222222222222,
              "#7201a8"
             ],
             [
              0.3333333333333333,
              "#9c179e"
             ],
             [
              0.4444444444444444,
              "#bd3786"
             ],
             [
              0.5555555555555556,
              "#d8576b"
             ],
             [
              0.6666666666666666,
              "#ed7953"
             ],
             [
              0.7777777777777778,
              "#fb9f3a"
             ],
             [
              0.8888888888888888,
              "#fdca26"
             ],
             [
              1,
              "#f0f921"
             ]
            ],
            "type": "heatmap"
           }
          ],
          "histogram": [
           {
            "marker": {
             "pattern": {
              "fillmode": "overlay",
              "size": 10,
              "solidity": 0.2
             }
            },
            "type": "histogram"
           }
          ],
          "histogram2d": [
           {
            "colorbar": {
             "outlinewidth": 0,
             "ticks": ""
            },
            "colorscale": [
             [
              0,
              "#0d0887"
             ],
             [
              0.1111111111111111,
              "#46039f"
             ],
             [
              0.2222222222222222,
              "#7201a8"
             ],
             [
              0.3333333333333333,
              "#9c179e"
             ],
             [
              0.4444444444444444,
              "#bd3786"
             ],
             [
              0.5555555555555556,
              "#d8576b"
             ],
             [
              0.6666666666666666,
              "#ed7953"
             ],
             [
              0.7777777777777778,
              "#fb9f3a"
             ],
             [
              0.8888888888888888,
              "#fdca26"
             ],
             [
              1,
              "#f0f921"
             ]
            ],
            "type": "histogram2d"
           }
          ],
          "histogram2dcontour": [
           {
            "colorbar": {
             "outlinewidth": 0,
             "ticks": ""
            },
            "colorscale": [
             [
              0,
              "#0d0887"
             ],
             [
              0.1111111111111111,
              "#46039f"
             ],
             [
              0.2222222222222222,
              "#7201a8"
             ],
             [
              0.3333333333333333,
              "#9c179e"
             ],
             [
              0.4444444444444444,
              "#bd3786"
             ],
             [
              0.5555555555555556,
              "#d8576b"
             ],
             [
              0.6666666666666666,
              "#ed7953"
             ],
             [
              0.7777777777777778,
              "#fb9f3a"
             ],
             [
              0.8888888888888888,
              "#fdca26"
             ],
             [
              1,
              "#f0f921"
             ]
            ],
            "type": "histogram2dcontour"
           }
          ],
          "mesh3d": [
           {
            "colorbar": {
             "outlinewidth": 0,
             "ticks": ""
            },
            "type": "mesh3d"
           }
          ],
          "parcoords": [
           {
            "line": {
             "colorbar": {
              "outlinewidth": 0,
              "ticks": ""
             }
            },
            "type": "parcoords"
           }
          ],
          "pie": [
           {
            "automargin": true,
            "type": "pie"
           }
          ],
          "scatter": [
           {
            "marker": {
             "line": {
              "color": "#283442"
             }
            },
            "type": "scatter"
           }
          ],
          "scatter3d": [
           {
            "line": {
             "colorbar": {
              "outlinewidth": 0,
              "ticks": ""
             }
            },
            "marker": {
             "colorbar": {
              "outlinewidth": 0,
              "ticks": ""
             }
            },
            "type": "scatter3d"
           }
          ],
          "scattercarpet": [
           {
            "marker": {
             "colorbar": {
              "outlinewidth": 0,
              "ticks": ""
             }
            },
            "type": "scattercarpet"
           }
          ],
          "scattergeo": [
           {
            "marker": {
             "colorbar": {
              "outlinewidth": 0,
              "ticks": ""
             }
            },
            "type": "scattergeo"
           }
          ],
          "scattergl": [
           {
            "marker": {
             "line": {
              "color": "#283442"
             }
            },
            "type": "scattergl"
           }
          ],
          "scattermap": [
           {
            "marker": {
             "colorbar": {
              "outlinewidth": 0,
              "ticks": ""
             }
            },
            "type": "scattermap"
           }
          ],
          "scattermapbox": [
           {
            "marker": {
             "colorbar": {
              "outlinewidth": 0,
              "ticks": ""
             }
            },
            "type": "scattermapbox"
           }
          ],
          "scatterpolar": [
           {
            "marker": {
             "colorbar": {
              "outlinewidth": 0,
              "ticks": ""
             }
            },
            "type": "scatterpolar"
           }
          ],
          "scatterpolargl": [
           {
            "marker": {
             "colorbar": {
              "outlinewidth": 0,
              "ticks": ""
             }
            },
            "type": "scatterpolargl"
           }
          ],
          "scatterternary": [
           {
            "marker": {
             "colorbar": {
              "outlinewidth": 0,
              "ticks": ""
             }
            },
            "type": "scatterternary"
           }
          ],
          "surface": [
           {
            "colorbar": {
             "outlinewidth": 0,
             "ticks": ""
            },
            "colorscale": [
             [
              0,
              "#0d0887"
             ],
             [
              0.1111111111111111,
              "#46039f"
             ],
             [
              0.2222222222222222,
              "#7201a8"
             ],
             [
              0.3333333333333333,
              "#9c179e"
             ],
             [
              0.4444444444444444,
              "#bd3786"
             ],
             [
              0.5555555555555556,
              "#d8576b"
             ],
             [
              0.6666666666666666,
              "#ed7953"
             ],
             [
              0.7777777777777778,
              "#fb9f3a"
             ],
             [
              0.8888888888888888,
              "#fdca26"
             ],
             [
              1,
              "#f0f921"
             ]
            ],
            "type": "surface"
           }
          ],
          "table": [
           {
            "cells": {
             "fill": {
              "color": "#506784"
             },
             "line": {
              "color": "rgb(17,17,17)"
             }
            },
            "header": {
             "fill": {
              "color": "#2a3f5f"
             },
             "line": {
              "color": "rgb(17,17,17)"
             }
            },
            "type": "table"
           }
          ]
         },
         "layout": {
          "annotationdefaults": {
           "arrowcolor": "#f2f5fa",
           "arrowhead": 0,
           "arrowwidth": 1
          },
          "autotypenumbers": "strict",
          "coloraxis": {
           "colorbar": {
            "outlinewidth": 0,
            "ticks": ""
           }
          },
          "colorscale": {
           "diverging": [
            [
             0,
             "#8e0152"
            ],
            [
             0.1,
             "#c51b7d"
            ],
            [
             0.2,
             "#de77ae"
            ],
            [
             0.3,
             "#f1b6da"
            ],
            [
             0.4,
             "#fde0ef"
            ],
            [
             0.5,
             "#f7f7f7"
            ],
            [
             0.6,
             "#e6f5d0"
            ],
            [
             0.7,
             "#b8e186"
            ],
            [
             0.8,
             "#7fbc41"
            ],
            [
             0.9,
             "#4d9221"
            ],
            [
             1,
             "#276419"
            ]
           ],
           "sequential": [
            [
             0,
             "#0d0887"
            ],
            [
             0.1111111111111111,
             "#46039f"
            ],
            [
             0.2222222222222222,
             "#7201a8"
            ],
            [
             0.3333333333333333,
             "#9c179e"
            ],
            [
             0.4444444444444444,
             "#bd3786"
            ],
            [
             0.5555555555555556,
             "#d8576b"
            ],
            [
             0.6666666666666666,
             "#ed7953"
            ],
            [
             0.7777777777777778,
             "#fb9f3a"
            ],
            [
             0.8888888888888888,
             "#fdca26"
            ],
            [
             1,
             "#f0f921"
            ]
           ],
           "sequentialminus": [
            [
             0,
             "#0d0887"
            ],
            [
             0.1111111111111111,
             "#46039f"
            ],
            [
             0.2222222222222222,
             "#7201a8"
            ],
            [
             0.3333333333333333,
             "#9c179e"
            ],
            [
             0.4444444444444444,
             "#bd3786"
            ],
            [
             0.5555555555555556,
             "#d8576b"
            ],
            [
             0.6666666666666666,
             "#ed7953"
            ],
            [
             0.7777777777777778,
             "#fb9f3a"
            ],
            [
             0.8888888888888888,
             "#fdca26"
            ],
            [
             1,
             "#f0f921"
            ]
           ]
          },
          "colorway": [
           "#636efa",
           "#EF553B",
           "#00cc96",
           "#ab63fa",
           "#FFA15A",
           "#19d3f3",
           "#FF6692",
           "#B6E880",
           "#FF97FF",
           "#FECB52"
          ],
          "font": {
           "color": "#f2f5fa"
          },
          "geo": {
           "bgcolor": "rgb(17,17,17)",
           "lakecolor": "rgb(17,17,17)",
           "landcolor": "rgb(17,17,17)",
           "showlakes": true,
           "showland": true,
           "subunitcolor": "#506784"
          },
          "hoverlabel": {
           "align": "left"
          },
          "hovermode": "closest",
          "mapbox": {
           "style": "dark"
          },
          "paper_bgcolor": "rgb(17,17,17)",
          "plot_bgcolor": "rgb(17,17,17)",
          "polar": {
           "angularaxis": {
            "gridcolor": "#506784",
            "linecolor": "#506784",
            "ticks": ""
           },
           "bgcolor": "rgb(17,17,17)",
           "radialaxis": {
            "gridcolor": "#506784",
            "linecolor": "#506784",
            "ticks": ""
           }
          },
          "scene": {
           "xaxis": {
            "backgroundcolor": "rgb(17,17,17)",
            "gridcolor": "#506784",
            "gridwidth": 2,
            "linecolor": "#506784",
            "showbackground": true,
            "ticks": "",
            "zerolinecolor": "#C8D4E3"
           },
           "yaxis": {
            "backgroundcolor": "rgb(17,17,17)",
            "gridcolor": "#506784",
            "gridwidth": 2,
            "linecolor": "#506784",
            "showbackground": true,
            "ticks": "",
            "zerolinecolor": "#C8D4E3"
           },
           "zaxis": {
            "backgroundcolor": "rgb(17,17,17)",
            "gridcolor": "#506784",
            "gridwidth": 2,
            "linecolor": "#506784",
            "showbackground": true,
            "ticks": "",
            "zerolinecolor": "#C8D4E3"
           }
          },
          "shapedefaults": {
           "line": {
            "color": "#f2f5fa"
           }
          },
          "sliderdefaults": {
           "bgcolor": "#C8D4E3",
           "bordercolor": "rgb(17,17,17)",
           "borderwidth": 1,
           "tickwidth": 0
          },
          "ternary": {
           "aaxis": {
            "gridcolor": "#506784",
            "linecolor": "#506784",
            "ticks": ""
           },
           "baxis": {
            "gridcolor": "#506784",
            "linecolor": "#506784",
            "ticks": ""
           },
           "bgcolor": "rgb(17,17,17)",
           "caxis": {
            "gridcolor": "#506784",
            "linecolor": "#506784",
            "ticks": ""
           }
          },
          "title": {
           "x": 0.05
          },
          "updatemenudefaults": {
           "bgcolor": "#506784",
           "borderwidth": 0
          },
          "xaxis": {
           "automargin": true,
           "gridcolor": "#283442",
           "linecolor": "#506784",
           "ticks": "",
           "title": {
            "standoff": 15
           },
           "zerolinecolor": "#283442",
           "zerolinewidth": 2
          },
          "yaxis": {
           "automargin": true,
           "gridcolor": "#283442",
           "linecolor": "#506784",
           "ticks": "",
           "title": {
            "standoff": 15
           },
           "zerolinecolor": "#283442",
           "zerolinewidth": 2
          }
         }
        },
        "title": {
         "text": "Publication Growth Rate by Year"
        },
        "width": 1200,
        "xaxis": {
         "anchor": "y",
         "domain": [
          0,
          0.49
         ],
         "showgrid": true,
         "tickangle": 45,
         "title": {
          "text": "Year"
         }
        },
        "xaxis2": {
         "anchor": "y2",
         "domain": [
          0.51,
          1
         ],
         "title": {
          "text": "Year"
         }
        },
        "xaxis3": {
         "anchor": "y3",
         "domain": [
          0,
          0.49
         ],
         "showticklabels": false,
         "title": {
          "text": "Year"
         }
        },
        "xaxis4": {
         "anchor": "y4",
         "domain": [
          0.51,
          1
         ],
         "showticklabels": false,
         "title": {
          "text": "Year"
         }
        },
        "xaxis5": {
         "anchor": "y5",
         "domain": [
          0,
          0.49
         ],
         "showticklabels": false,
         "title": {
          "text": "Year"
         }
        },
        "xaxis6": {
         "anchor": "y6",
         "domain": [
          0.51,
          1
         ],
         "showticklabels": false,
         "title": {
          "text": "Year"
         }
        },
        "yaxis": {
         "anchor": "x",
         "domain": [
          0,
          0.2866666666666666
         ],
         "showgrid": true,
         "title": {
          "text": "Growth Rate (%)"
         }
        },
        "yaxis2": {
         "anchor": "x2",
         "domain": [
          0,
          0.2866666666666666
         ],
         "matches": "y",
         "showticklabels": false,
         "title": {
          "text": "Growth Rate (%)"
         }
        },
        "yaxis3": {
         "anchor": "x3",
         "domain": [
          0.35666666666666663,
          0.6433333333333333
         ],
         "matches": "y",
         "title": {
          "text": "Growth Rate (%)"
         }
        },
        "yaxis4": {
         "anchor": "x4",
         "domain": [
          0.35666666666666663,
          0.6433333333333333
         ],
         "matches": "y",
         "showticklabels": false,
         "title": {
          "text": "Growth Rate (%)"
         }
        },
        "yaxis5": {
         "anchor": "x5",
         "domain": [
          0.7133333333333333,
          0.9999999999999999
         ],
         "matches": "y",
         "title": {
          "text": "Growth Rate (%)"
         }
        },
        "yaxis6": {
         "anchor": "x6",
         "domain": [
          0.7133333333333333,
          0.9999999999999999
         ],
         "matches": "y",
         "showticklabels": false,
         "title": {
          "text": "Growth Rate (%)"
         }
        }
       }
      }
     },
     "metadata": {},
     "output_type": "display_data"
    }
   ],
   "source": [
    "df_melted = df_rate.melt(id_vars=\"year\", var_name=\"search_keyword\", value_name=\"growth_rate\")\n",
    "df_melted['acceleration'] = df_melted.groupby('search_keyword')['growth_rate'].diff()\n",
    "df_melted['growth_rolling_avg'] = df_melted['growth_rate'].rolling(window=3, min_periods=1).mean()\n",
    "df_melted.head()\n",
    "\n",
    "fig = px.line(\n",
    "    df_melted,\n",
    "    x='year',\n",
    "    y='growth_rolling_avg',\n",
    "    color='search_keyword',\n",
    "    color_discrete_map=color_map,\n",
    "    title='Publication Growth Rate by Year',\n",
    "    markers=True,\n",
    "    facet_col='search_keyword',\n",
    "    facet_col_wrap=2,\n",
    ")\n",
    "\n",
    "for annotation in fig.layout.annotations:\n",
    "    annotation.text = \"\"\n",
    "\n",
    "fig.update_yaxes(title_text=\"Growth Rate (%)\")\n",
    "fig.update_xaxes(title_text=\"Year\", matches=None)\n",
    "\n",
    "fig.update_layout(\n",
    "    legend_title='Keyword',\n",
    "    font=dict(size=12),\n",
    "    width=1200,\n",
    "    height=700,\n",
    "    template='plotly_dark',\n",
    "    xaxis=dict(showgrid=True,\n",
    "               tickangle=45),\n",
    "    yaxis=dict(showgrid=True),\n",
    ")\n",
    "\n",
    "fig.show()\n"
   ]
  },
  {
   "cell_type": "markdown",
   "id": "83404bac",
   "metadata": {},
   "source": [
    "# Regression Analysis on All Papers Published"
   ]
  },
  {
   "cell_type": "markdown",
   "id": "c11bb3db",
   "metadata": {},
   "source": [
    "We'll start with a standard linear regression analysis, then later do a log transform to fit our data to an exponentail growth and see what fits better. The results may change depending on our dataset (year range we choose to obtain our paper data) \n",
    "\n",
    "NOTE: adding the 2023 cutoff, as the spike in papers published after that seems like an outlier. I'm making an educated assumption, but we'll only find out for sure in a few years."
   ]
  },
  {
   "cell_type": "code",
   "execution_count": 23,
   "id": "d5001e2b",
   "metadata": {},
   "outputs": [
    {
     "data": {
      "image/png": "[encoded data removed]",
      "text/plain": [
       "<Figure size 1600x800 with 1 Axes>"
      ]
     },
     "metadata": {},
     "output_type": "display_data"
    }
   ],
   "source": [
    "regplot_query = 'year < 2023'\n",
    "\n",
    "plt.style.use('dark_background')\n",
    "plt.figure(figsize=(8,4), dpi=200)\n",
    "with sns.axes_style('darkgrid'):\n",
    "    custom_style = {'axes.labelcolor': 'white',\n",
    "                'xtick.color': 'white',\n",
    "                'ytick.color': 'white'}\n",
    "    sns.set_style(\"darkgrid\", rc=custom_style)\n",
    "    with np.errstate(divide='ignore', over='ignore', invalid='ignore'):\n",
    "        sns.regplot(\n",
    "                data=df_totals.query(regplot_query),\n",
    "                x='year',\n",
    "                y='paper_count',\n",
    "                scatter_kws={\n",
    "                    'marker': 'o',\n",
    "                    's': 50,\n",
    "                    'alpha': 0.7,\n",
    "                    'color': \"#FFD700\"\n",
    "                    },\n",
    "                line_kws={\n",
    "                    'linewidth': 2,\n",
    "                    'alpha': 0.8,\n",
    "                    'color': \"#B41D3B\"\n",
    "                    },\n",
    "            )\n",
    "\n",
    "plt.title('Published Paper Count Regression Analysis')\n",
    "plt.ylabel('Papers Published')\n",
    "    \n",
    "plt.show()\n"
   ]
  },
  {
   "cell_type": "code",
   "execution_count": 12,
   "id": "16f6c995",
   "metadata": {},
   "outputs": [
    {
     "name": "stdout",
     "output_type": "stream",
     "text": [
      "R² Score: 0.479\n",
      "Coefficient 22.58\n"
     ]
    }
   ],
   "source": [
    "regression = LinearRegression()\n",
    "X = pd.DataFrame(df_totals.query(regplot_query), columns=['year'])\n",
    "y = pd.DataFrame(df_totals.query(regplot_query), columns=['paper_count'])\n",
    "regression.fit(X, y)\n",
    "print(f'R² Score: {round(regression.score(X, y),3)}')\n",
    "print(f'Coefficient {round(regression.coef_[0][0],2)}')"
   ]
  },
  {
   "cell_type": "markdown",
   "id": "4dbaa093",
   "metadata": {},
   "source": [
    "The linear model shows a poor fit. Below I'll perform the log transform to see if an exponential growth model fits better my data."
   ]
  },
  {
   "cell_type": "code",
   "execution_count": 24,
   "id": "77e7499a",
   "metadata": {},
   "outputs": [
    {
     "data": {
      "image/png": "[encoded data removed]",
      "text/plain": [
       "<Figure size 1600x800 with 1 Axes>"
      ]
     },
     "metadata": {},
     "output_type": "display_data"
    }
   ],
   "source": [
    "df_log = df_totals.copy()\n",
    "df_log['paper_count_log'] = np.log(df_log['paper_count'] + 1)\n",
    "\n",
    "plt.figure(figsize=(8,4), dpi=200)\n",
    "with sns.axes_style('darkgrid'):\n",
    "    custom_style = {'axes.labelcolor': 'white',\n",
    "                'xtick.color': 'white',\n",
    "                'ytick.color': 'white'}\n",
    "    sns.set_style(\"darkgrid\", rc=custom_style)\n",
    "    with np.errstate(divide='ignore', over='ignore', invalid='ignore'):        \n",
    "        sns.regplot(\n",
    "                data=df_log.query(regplot_query),\n",
    "                x='year',\n",
    "                y='paper_count_log',\n",
    "                scatter_kws={\n",
    "                    'marker': 'o',\n",
    "                    's': 50,\n",
    "                    'alpha': 0.7,\n",
    "                    'color': \"#FFD700\"\n",
    "                    },\n",
    "                line_kws={\n",
    "                    'linewidth': 2,\n",
    "                    'alpha': 0.8,\n",
    "                    'color': \"#B41D3B\"\n",
    "                    },\n",
    "            )\n",
    "\n",
    "plt.title('Published Paper Count - Log Scale (Test for Exponential Growth)')\n",
    "plt.ylabel('Log(Papers Published)')\n",
    "plt.show()\n"
   ]
  },
  {
   "cell_type": "code",
   "execution_count": 179,
   "id": "2e2340e8",
   "metadata": {},
   "outputs": [
    {
     "name": "stdout",
     "output_type": "stream",
     "text": [
      "R² Score: 0.951\n",
      "Coefficient 0.09\n",
      "Growth rate: 9.42% per year\n"
     ]
    }
   ],
   "source": [
    "y_log = np.log(y + 1)\n",
    "regression.fit(X, y_log)\n",
    "print(f'R² Score: {round(regression.score(X, y_log),3)}')\n",
    "print(f'Coefficient {round(regression.coef_[0][0],2)}')\n",
    "growth_rate = (np.exp(0.09) - 1) * 100\n",
    "print(f'Growth rate: {growth_rate:.2f}% per year')"
   ]
  },
  {
   "cell_type": "markdown",
   "id": "3ae4b4cb",
   "metadata": {},
   "source": [
    "We see a great fit in this case, indicating the growth is exponential. Although, a plateau at some point is likely due to real world limits regarding to scientific research and production. Infinite growth is unrealistic.\n",
    "\n",
    "Now let's analyze the data per keyword, and go a little deeper into the data."
   ]
  },
  {
   "cell_type": "markdown",
   "id": "62724f6f",
   "metadata": {},
   "source": [
    "# Per Keyword Analysis"
   ]
  },
  {
   "cell_type": "markdown",
   "id": "86b6fc5f",
   "metadata": {},
   "source": [
    "We'll do the same as above, starting with the linear regression analysis, then moving the to the exponential growth analysis (log transform)."
   ]
  },
  {
   "cell_type": "code",
   "execution_count": 35,
   "id": "e43954bb",
   "metadata": {},
   "outputs": [
    {
     "name": "stdout",
     "output_type": "stream",
     "text": [
      "COMPREHENSIVE GROWTH ANALYSIS\n",
      "================================================================================\n",
      "\n",
      "MODEL COMPARISON RESULTS:\n",
      "------------------------------------------------------------\n",
      "              keyword  r_squared_linear  r_squared_log   better_fit  \\\n",
      "0    urban vegetation          0.522894       0.891025  Exponential   \n",
      "4     urban ecosystem          0.576663       0.924060  Exponential   \n",
      "1       urban ecology          0.599457       0.924238  Exponential   \n",
      "2  urban green spaces          0.469484       0.781489  Exponential   \n",
      "3      urban wildlife          0.618172       0.904907  Exponential   \n",
      "5  urban biodiversity          0.627010       0.875102  Exponential   \n",
      "\n",
      "   annual_growth_rate_percent  r_squared_difference  \n",
      "0                    8.541033              0.368131  \n",
      "4                   12.196286              0.347397  \n",
      "1                    6.940618              0.324781  \n",
      "2                   10.089182              0.312005  \n",
      "3                    7.883649              0.286736  \n",
      "5                   13.705796              0.248093  \n",
      "\n",
      "\n",
      "LOGARITHMIC REGRESSION RESULTS (Testing Exponential Growth):\n",
      "--------------------------------------------------------------------------------\n",
      "              keyword  annual_growth_rate_percent  doubling_time_years  \\\n",
      "5  urban biodiversity                   13.705796             5.396485   \n",
      "4     urban ecosystem                   12.196286             6.023192   \n",
      "2  urban green spaces                   10.089182             7.211224   \n",
      "0    urban vegetation                    8.541033             8.457336   \n",
      "3      urban wildlife                    7.883649             9.134404   \n",
      "1       urban ecology                    6.940618            10.329520   \n",
      "\n",
      "   r_squared       p_value                    trend_interpretation  \n",
      "5   0.875102  2.207032e-17  Significantly increasing (exponential)  \n",
      "4   0.924060  2.436230e-31  Significantly increasing (exponential)  \n",
      "2   0.781489  3.847107e-19  Significantly increasing (exponential)  \n",
      "0   0.891025  5.019051e-32  Significantly increasing (exponential)  \n",
      "3   0.904907  8.907226e-30  Significantly increasing (exponential)  \n",
      "1   0.924238  5.960079e-41  Significantly increasing (exponential)  \n"
     ]
    },
    {
     "data": {
      "image/png": "[encoded data removed]",
      "text/plain": [
       "<Figure size 1600x1800 with 6 Axes>"
      ]
     },
     "metadata": {},
     "output_type": "display_data"
    },
    {
     "name": "stdout",
     "output_type": "stream",
     "text": [
      "\n",
      "================================================================================\n",
      "KEY INSIGHTS - GROWTH PATTERN ANALYSIS:\n",
      "================================================================================\n",
      "Fastest linear growth: urban ecosystem (12.23 papers/year)\n",
      "Fastest exponential growth: urban biodiversity (13.7% per year)\n",
      "  - Doubling time: 5.4 years\n",
      "Fields better explained by exponential growth: 6/6 (100.0%)\n",
      "Significant linear trends: 6/6\n",
      "Significant exponential trends: 6/6\n",
      "Biggest improvement with exponential model: urban vegetation (ΔR² = +0.368)\n"
     ]
    }
   ],
   "source": [
    "def linear_trend_analysis(df_keywords):\n",
    "    \"\"\"\n",
    "    Perform linear regression analysis for each keyword\n",
    "    Returns comprehensive trend statistics\n",
    "    \"\"\"\n",
    "    results = []\n",
    "    \n",
    "    for keyword in df_keywords['search_keyword'].unique():\n",
    "        keyword_data = df_keywords[df_keywords['search_keyword'] == keyword].sort_values('year')\n",
    "        years = keyword_data['year'].values\n",
    "        counts = keyword_data['paper_count'].values\n",
    "        \n",
    "        slope, intercept, r_value, p_value, std_err = linregress(years, counts)\n",
    "        \n",
    "        r_squared = r_value**2\n",
    "        \n",
    "        n = len(years)\n",
    "        t_val = stats.t.ppf(0.975, n-2)\n",
    "        slope_ci_lower = slope - t_val * std_err\n",
    "        slope_ci_upper = slope + t_val * std_err\n",
    "        \n",
    "        if p_value < 0.05:\n",
    "            if slope > 0:\n",
    "                trend_interpretation = \"Significantly increasing\"\n",
    "            else:\n",
    "                trend_interpretation = \"Significantly decreasing\"\n",
    "        else:\n",
    "            trend_interpretation = \"No significant trend\"\n",
    "        \n",
    "        total_papers = counts.sum()\n",
    "        avg_papers_per_year = counts.mean()\n",
    "        \n",
    "        results.append({\n",
    "            'keyword': keyword,\n",
    "            'slope_papers_per_year': slope,\n",
    "            'intercept': intercept,\n",
    "            'r_squared': r_squared,\n",
    "            'p_value': p_value,\n",
    "            'std_error': std_err,\n",
    "            'slope_ci_lower': slope_ci_lower,\n",
    "            'slope_ci_upper': slope_ci_upper,\n",
    "            'trend_interpretation': trend_interpretation,\n",
    "            'total_papers': total_papers,\n",
    "            'avg_papers_per_year': avg_papers_per_year,\n",
    "            'significant_trend': p_value < 0.05,\n",
    "            'years_analyzed': n\n",
    "        })\n",
    "    \n",
    "    return pd.DataFrame(results)\n",
    "\n",
    "def log_trend_analysis(df_keywords, min_papers=1):\n",
    "    \"\"\"\n",
    "    Perform logarithmic regression analysis for each keyword to test exponential growth\n",
    "    Uses log(paper_count + 1) to handle zero values\n",
    "    Returns comprehensive trend statistics for exponential growth patterns\n",
    "    \"\"\"\n",
    "    results = []\n",
    "    \n",
    "    for keyword in df_keywords['search_keyword'].unique():\n",
    "        keyword_data = df_keywords[df_keywords['search_keyword'] == keyword].sort_values('year')\n",
    "        years = keyword_data['year'].values\n",
    "        counts = keyword_data['paper_count'].values\n",
    "        \n",
    "        # Filter out years with very low counts if specified\n",
    "        if min_papers > 0:\n",
    "            valid_mask = counts >= min_papers\n",
    "            if valid_mask.sum() < 3:  # Need at least 3 points for regression\n",
    "                continue\n",
    "            years = years[valid_mask]\n",
    "            counts = counts[valid_mask]\n",
    "        \n",
    "        # Log transform: log(count + 1) to handle zeros\n",
    "        log_counts = np.log(counts + 1)\n",
    "        \n",
    "        # Skip if we don't have enough valid data points\n",
    "        if len(years) < 3:\n",
    "            continue\n",
    "            \n",
    "        slope, intercept, r_value, p_value, std_err = linregress(years, log_counts)\n",
    "        \n",
    "        r_squared = r_value**2\n",
    "        \n",
    "        n = len(years)\n",
    "        t_val = stats.t.ppf(0.975, n-2)\n",
    "        slope_ci_lower = slope - t_val * std_err\n",
    "        slope_ci_upper = slope + t_val * std_err\n",
    "        \n",
    "        # Calculate annual growth rate percentage\n",
    "        # If log(y) = slope*x + intercept, then y = exp(intercept) * exp(slope)^x\n",
    "        # Annual growth rate = (exp(slope) - 1) * 100\n",
    "        annual_growth_rate = (np.exp(slope) - 1) * 100\n",
    "        \n",
    "        if p_value < 0.05:\n",
    "            if slope > 0:\n",
    "                trend_interpretation = \"Significantly increasing (exponential)\"\n",
    "            else:\n",
    "                trend_interpretation = \"Significantly decreasing (exponential)\"\n",
    "        else:\n",
    "            trend_interpretation = \"No significant exponential trend\"\n",
    "        \n",
    "        total_papers = counts.sum()\n",
    "        avg_papers_per_year = counts.mean()\n",
    "        \n",
    "        # Calculate doubling time (only meaningful for positive growth)\n",
    "        doubling_time = np.log(2) / slope if slope > 0 else np.inf\n",
    "        \n",
    "        results.append({\n",
    "            'keyword': keyword,\n",
    "            'log_slope': slope,\n",
    "            'log_intercept': intercept,\n",
    "            'r_squared': r_squared,\n",
    "            'p_value': p_value,\n",
    "            'std_error': std_err,\n",
    "            'slope_ci_lower': slope_ci_lower,\n",
    "            'slope_ci_upper': slope_ci_upper,\n",
    "            'annual_growth_rate_percent': annual_growth_rate,\n",
    "            'doubling_time_years': doubling_time,\n",
    "            'trend_interpretation': trend_interpretation,\n",
    "            'total_papers': total_papers,\n",
    "            'avg_papers_per_year': avg_papers_per_year,\n",
    "            'significant_trend': p_value < 0.05,\n",
    "            'years_analyzed': n\n",
    "        })\n",
    "    \n",
    "    return pd.DataFrame(results)\n",
    "\n",
    "def compare_linear_vs_exponential(df_keywords, min_papers=1):\n",
    "    \"\"\"\n",
    "    Compare linear vs exponential growth models for each keyword\n",
    "    Returns comparison results\n",
    "    \"\"\"\n",
    "    linear_results = linear_trend_analysis(df_keywords)\n",
    "    log_results = log_trend_analysis(df_keywords, min_papers)\n",
    "    \n",
    "    # Merge results for comparison\n",
    "    comparison = pd.merge(linear_results[['keyword', 'r_squared', 'p_value', 'significant_trend']], \n",
    "                         log_results[['keyword', 'r_squared', 'p_value', 'significant_trend', 'annual_growth_rate_percent', 'doubling_time_years']], \n",
    "                         on='keyword', suffixes=('_linear', '_log'))\n",
    "    \n",
    "    # Determine better fit\n",
    "    comparison['better_fit'] = np.where(comparison['r_squared_log'] > comparison['r_squared_linear'], \n",
    "                                       'Exponential', 'Linear')\n",
    "    comparison['r_squared_difference'] = comparison['r_squared_log'] - comparison['r_squared_linear']\n",
    "    \n",
    "    return comparison, linear_results, log_results\n",
    "\n",
    "\n",
    "print(\"COMPREHENSIVE GROWTH ANALYSIS\")\n",
    "print(\"=\" * 80)\n",
    "\n",
    "\n",
    "cutoff_keywords = df_keywords.query(regplot_query)\n",
    "comparison, linear_results, log_results = compare_linear_vs_exponential(cutoff_keywords, min_papers=1)\n",
    "\n",
    "print(\"\\nMODEL COMPARISON RESULTS:\")\n",
    "print(\"-\" * 60)\n",
    "display_cols = ['keyword', 'r_squared_linear', 'r_squared_log', 'better_fit', \n",
    "                'annual_growth_rate_percent', 'r_squared_difference']\n",
    "print(comparison[display_cols].sort_values('r_squared_difference', ascending=False))\n",
    "\n",
    "print(\"\\n\\nLOGARITHMIC REGRESSION RESULTS (Testing Exponential Growth):\")\n",
    "print(\"-\" * 80)\n",
    "log_display_cols = ['keyword', 'annual_growth_rate_percent', 'doubling_time_years', \n",
    "                   'r_squared', 'p_value', 'trend_interpretation']\n",
    "print(log_results[log_display_cols].sort_values('annual_growth_rate_percent', ascending=False))\n",
    "\n",
    "# Create comprehensive visualization\n",
    "fig, axes = plt.subplots(3, 2, figsize=(16, 18))\n",
    "\n",
    "# 1. R-squared comparison\n",
    "ax1 = axes[0, 0]\n",
    "x_pos = np.arange(len(comparison))\n",
    "width = 0.35\n",
    "ax1.bar(x_pos - width/2, comparison['r_squared_linear'], width, label='Linear Model', alpha=0.7, color='blue')\n",
    "ax1.bar(x_pos + width/2, comparison['r_squared_log'], width, label='Exponential Model', alpha=0.7, color='red')\n",
    "ax1.set_xticks(x_pos)\n",
    "ax1.set_xticklabels(comparison['keyword'], rotation=45, ha='right')\n",
    "ax1.set_ylabel('R-squared Value')\n",
    "ax1.set_title('Model Fit Comparison: Linear vs Exponential')\n",
    "ax1.legend()\n",
    "ax1.grid(True, alpha=0.3)\n",
    "\n",
    "# 2. Annual growth rates from exponential model\n",
    "ax2 = axes[0, 1]\n",
    "growth_rates = log_results['annual_growth_rate_percent']\n",
    "colors = ['green' if sig else 'red' for sig in log_results['significant_trend']]\n",
    "bars = ax2.bar(range(len(log_results)), growth_rates, color=colors, alpha=0.7)\n",
    "ax2.set_xticks(range(len(log_results)))\n",
    "ax2.set_xticklabels(log_results['keyword'], rotation=45, ha='right')\n",
    "ax2.set_ylabel('Annual Growth Rate (%)')\n",
    "ax2.set_title('Annual Growth Rates (Exponential Model)\\n(Green = Significant, Red = Not Significant)')\n",
    "ax2.axhline(y=0, color='black', linestyle='-', alpha=0.3)\n",
    "ax2.grid(True, alpha=0.3)\n",
    "\n",
    "for bar, rate in zip(bars, growth_rates):\n",
    "    if not np.isnan(rate) and abs(rate) < 1000:\n",
    "        ax2.text(bar.get_x() + bar.get_width()/2, bar.get_height() + 0.1, \n",
    "                f'{rate:.1f}%', ha='center', va='bottom', fontsize=8)\n",
    "\n",
    "# 3. Doubling times (only for positive growth)\n",
    "ax3 = axes[1, 0]\n",
    "finite_doubling = log_results[log_results['doubling_time_years'] != np.inf]\n",
    "if len(finite_doubling) > 0:\n",
    "    ax3.bar(range(len(finite_doubling)), finite_doubling['doubling_time_years'], alpha=0.7, color='orange')\n",
    "    ax3.set_xticks(range(len(finite_doubling)))\n",
    "    ax3.set_xticklabels(finite_doubling['keyword'], rotation=45, ha='right')\n",
    "    ax3.set_ylabel('Years to Double')\n",
    "    ax3.set_title('Doubling Time (Years) - Growing Fields Only')\n",
    "    ax3.grid(True, alpha=0.3)\n",
    "else:\n",
    "    ax3.text(0.5, 0.5, 'No fields with\\npositive exponential growth', \n",
    "            ha='center', va='center', transform=ax3.transAxes, fontsize=12)\n",
    "    ax3.set_title('Doubling Time (Years)')\n",
    "\n",
    "# 4. Linear trend slopes with confidence intervals (conditional on better fit)\n",
    "ax4 = axes[1, 1]\n",
    "# Only show linear trends for keywords where linear model fits better\n",
    "linear_better_mask = comparison['better_fit'] == 'Linear'\n",
    "if linear_better_mask.any():\n",
    "    linear_better_keywords = comparison[linear_better_mask]['keyword'].tolist()\n",
    "    linear_subset = linear_results[linear_results['keyword'].isin(linear_better_keywords)]\n",
    "    \n",
    "    colors = ['green' if sig else 'red' for sig in linear_subset['significant_trend']]\n",
    "    keywords = linear_subset['keyword']\n",
    "    slopes = linear_subset['slope_papers_per_year']\n",
    "    ci_lower = linear_subset['slope_ci_lower']\n",
    "    ci_upper = linear_subset['slope_ci_upper']\n",
    "    \n",
    "    y_pos = np.arange(len(keywords))\n",
    "    ax4.barh(y_pos, slopes, color=colors, alpha=0.7)\n",
    "    ax4.errorbar(slopes, y_pos, xerr=[slopes - ci_lower, ci_upper - slopes], \n",
    "                fmt='none', color='black', capsize=5)\n",
    "    ax4.set_yticks(y_pos)\n",
    "    ax4.set_yticklabels(keywords)\n",
    "    ax4.set_xlabel('Growth Rate (Papers per Year)')\n",
    "    ax4.set_title('Linear Growth Rates (Linear Model Fits Better)\\n(Green = Significant, Red = Not Significant)')\n",
    "    ax4.axvline(x=0, color='black', linestyle='--', alpha=0.5)\n",
    "    ax4.grid(True, alpha=0.3)\n",
    "else:\n",
    "    ax4.text(0.5, 0.5, 'No keywords have\\nbetter linear fits', \n",
    "            ha='center', va='center', transform=ax4.transAxes, fontsize=12)\n",
    "    ax4.set_title('Linear Growth Rates (Linear Model Fits Better)')\n",
    "    ax4.set_xlabel('Growth Rate (Papers per Year)')\n",
    "    ax4.set_ylabel('Keywords')\n",
    "\n",
    "# 5. Actual vs Predicted - Linear Model\n",
    "ax5 = axes[2, 0]\n",
    "for i, keyword in enumerate(linear_results['keyword']):\n",
    "    keyword_data = cutoff_keywords[cutoff_keywords['search_keyword'] == keyword].sort_values('year')\n",
    "    years = keyword_data['year'].values\n",
    "    counts = keyword_data['paper_count'].values\n",
    "    \n",
    "    slope = linear_results[linear_results['keyword'] == keyword]['slope_papers_per_year'].iloc[0]\n",
    "    intercept = linear_results[linear_results['keyword'] == keyword]['intercept'].iloc[0]\n",
    "    predicted = slope * years + intercept\n",
    "    \n",
    "    # Use color_map if available, otherwise use default colors\n",
    "    try:\n",
    "        color = color_map.get(keyword, plt.cm.tab10(i % 10))\n",
    "    except:\n",
    "        color = plt.cm.tab10(i % 10)\n",
    "    \n",
    "    ax5.scatter(predicted, counts, alpha=0.7, label=keyword, s=30, color=color)\n",
    "\n",
    "# Perfect prediction line\n",
    "max_val = max(ax5.get_xlim()[1], ax5.get_ylim()[1])\n",
    "min_val = min(ax5.get_xlim()[0], ax5.get_ylim()[0])\n",
    "ax5.plot([min_val, max_val], [min_val, max_val], 'w--', alpha=0.5, label='Perfect Prediction')\n",
    "ax5.set_xlabel('Predicted Papers (Linear Model)')\n",
    "ax5.set_ylabel('Actual Papers')\n",
    "ax5.set_title('Actual vs Predicted: Linear Model')\n",
    "ax5.legend(bbox_to_anchor=(1.05, 1), loc='upper left', fontsize=8)\n",
    "ax5.grid(True, alpha=0.3)\n",
    "\n",
    "# 6. Actual vs Predicted - Exponential Model\n",
    "ax6 = axes[2, 1]\n",
    "\n",
    "# Calculate R² for the combined exponential model fit to verify\n",
    "all_actual_exp = []\n",
    "all_predicted_exp = []\n",
    "\n",
    "for i, keyword in enumerate(log_results['keyword']):\n",
    "    keyword_data = cutoff_keywords[cutoff_keywords['search_keyword'] == keyword].sort_values('year')\n",
    "    years = keyword_data['year'].values\n",
    "    counts = keyword_data['paper_count'].values\n",
    "    \n",
    "    min_papers = 1\n",
    "    valid_mask = counts >= min_papers\n",
    "    if valid_mask.sum() < 3:\n",
    "        continue\n",
    "    \n",
    "    years_filtered = years[valid_mask]\n",
    "    counts_filtered = counts[valid_mask]\n",
    "    \n",
    "    log_slope = log_results[log_results['keyword'] == keyword]['log_slope'].iloc[0]\n",
    "    log_intercept = log_results[log_results['keyword'] == keyword]['log_intercept'].iloc[0]\n",
    "    \n",
    "    # The regression was: log(count + 1) = slope * year + intercept\n",
    "    # So: predicted_log = slope * year + intercept\n",
    "    # And: predicted_count = exp(predicted_log) - 1\n",
    "    predicted_log = log_slope * years_filtered + log_intercept\n",
    "    predicted_counts = np.exp(predicted_log) - 1\n",
    "    \n",
    "    # Store for overall fit assessment\n",
    "    all_actual_exp.extend(counts_filtered)\n",
    "    all_predicted_exp.extend(predicted_counts)\n",
    "    \n",
    "    # Use color_map if available, otherwise use default colors\n",
    "    try:\n",
    "        color = color_map.get(keyword, plt.cm.tab10(i % 10))\n",
    "    except:\n",
    "        color = plt.cm.tab10(i % 10)\n",
    "    \n",
    "    ax6.scatter(predicted_counts, counts_filtered, alpha=0.7, label=keyword, s=30, color=color)\n",
    "\n",
    "# Perfect prediction line\n",
    "if len(all_actual_exp) > 0:\n",
    "    max_val = max(max(all_predicted_exp), max(all_actual_exp))\n",
    "    min_val = max(0, min(min(all_predicted_exp), min(all_actual_exp)))  # Don't go below 0\n",
    "    ax6.plot([min_val, max_val], [min_val, max_val], 'w--', alpha=0.5, label='Perfect Prediction')\n",
    "    \n",
    "    # Calculate and display overall R² for exponential model\n",
    "    if len(all_actual_exp) > 1:\n",
    "        ss_res = np.sum((np.array(all_actual_exp) - np.array(all_predicted_exp)) ** 2)\n",
    "        ss_tot = np.sum((np.array(all_actual_exp) - np.mean(all_actual_exp)) ** 2)\n",
    "        r_squared_combined = 1 - (ss_res / ss_tot) if ss_tot > 0 else 0\n",
    "        ax6.text(0.05, 0.95, f'Combined R² = {r_squared_combined:.3f}', \n",
    "                transform=ax6.transAxes, bbox=dict(boxstyle=\"round,pad=0.3\", facecolor=\"darkgray\", alpha=0.8))\n",
    "\n",
    "ax6.set_xlabel('Predicted Papers (Exponential Model)')\n",
    "ax6.set_ylabel('Actual Papers')\n",
    "ax6.set_title('Actual vs Predicted: Exponential Model')\n",
    "ax6.legend(bbox_to_anchor=(1.05, 1), loc='upper left', fontsize=8)\n",
    "ax6.grid(True, alpha=0.3)\n",
    "\n",
    "# Add diagnostic text if points are systematically above/below line\n",
    "if len(all_actual_exp) > 0:\n",
    "    residuals = np.array(all_actual_exp) - np.array(all_predicted_exp)\n",
    "    mean_residual = np.mean(residuals)\n",
    "    if abs(mean_residual) > np.std(all_actual_exp) * 0.1:\n",
    "        bias_direction = \"above\" if mean_residual > 0 else \"below\"\n",
    "        ax6.text(0.05, 0.85, f'Systematic bias: points tend to be {bias_direction} line\\n(Mean residual: {mean_residual:.1f})', \n",
    "                transform=ax6.transAxes, bbox=dict(boxstyle=\"round,pad=0.3\", facecolor=\"orange\", alpha=0.8),\n",
    "                fontsize=9)\n",
    "\n",
    "\n",
    "plt.style.use('dark_background')\n",
    "plt.tight_layout()\n",
    "plt.show()\n",
    "\n",
    "# Summary insights\n",
    "print(\"\\n\" + \"=\"*80)\n",
    "print(\"KEY INSIGHTS - GROWTH PATTERN ANALYSIS:\")\n",
    "print(\"=\"*80)\n",
    "\n",
    "# Linear model insights\n",
    "fastest_linear = linear_results.loc[linear_results['slope_papers_per_year'].idxmax()]\n",
    "print(f\"Fastest linear growth: {fastest_linear['keyword']} ({fastest_linear['slope_papers_per_year']:.2f} papers/year)\")\n",
    "\n",
    "# Exponential model insights\n",
    "if len(log_results) > 0:\n",
    "    fastest_exponential = log_results.loc[log_results['annual_growth_rate_percent'].idxmax()]\n",
    "    print(f\"Fastest exponential growth: {fastest_exponential['keyword']} ({fastest_exponential['annual_growth_rate_percent']:.1f}% per year)\")\n",
    "    \n",
    "    if fastest_exponential['doubling_time_years'] != np.inf:\n",
    "        print(f\"  - Doubling time: {fastest_exponential['doubling_time_years']:.1f} years\")\n",
    "\n",
    "# Model comparison insights\n",
    "exponential_better = len(comparison[comparison['better_fit'] == 'Exponential'])\n",
    "total_fields = len(comparison)\n",
    "print(f\"Fields better explained by exponential growth: {exponential_better}/{total_fields} ({exponential_better/total_fields*100:.1f}%)\")\n",
    "\n",
    "# Significant trends\n",
    "linear_sig = len(linear_results[linear_results['significant_trend']])\n",
    "log_sig = len(log_results[log_results['significant_trend']]) if len(log_results) > 0 else 0\n",
    "print(f\"Significant linear trends: {linear_sig}/{len(linear_results)}\")\n",
    "print(f\"Significant exponential trends: {log_sig}/{len(log_results) if len(log_results) > 0 else 0}\")\n",
    "\n",
    "# Best improvements\n",
    "if len(comparison) > 0:\n",
    "    best_improvement = comparison.loc[comparison['r_squared_difference'].idxmax()]\n",
    "    if best_improvement['r_squared_difference'] > 0:\n",
    "        print(f\"Biggest improvement with exponential model: {best_improvement['keyword']} (ΔR² = +{best_improvement['r_squared_difference']:.3f})\")"
   ]
  },
  {
   "cell_type": "code",
   "execution_count": null,
   "id": "6b47a0c0",
   "metadata": {},
   "outputs": [],
   "source": []
  }
 ],
 "metadata": {
  "kernelspec": {
   "display_name": ".venv",
   "language": "python",
   "name": "python3"
  },
  "language_info": {
   "codemirror_mode": {
    "name": "ipython",
    "version": 3
   },
   "file_extension": ".py",
   "mimetype": "text/x-python",
   "name": "python",
   "nbconvert_exporter": "python",
   "pygments_lexer": "ipython3",
   "version": "3.13.2"
  }
 },
 "nbformat": 4,
 "nbformat_minor": 5
}
