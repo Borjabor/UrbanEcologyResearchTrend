{
 "cells": [
  {
   "cell_type": "markdown",
   "id": "21e9aaad",
   "metadata": {},
   "source": [
    "# Urban Ecology Research Trend Analysis\n",
    "\n",
    "Type: NLP + Time Series + Web Data | Domain: Scientific + environmental | Format: Notebook\n",
    "- Use PubMed or Semantic Scholar API to extract papers on 'urban ecology'.\n",
    "- Track number of publications per year.\n",
    "- Perform keyword frequency and topic modeling.\n",
    "- Map institutions or authors by location \n",
    "    .Use author search and Research Organization Registry (ror.org) to map institutions to locations."
   ]
  },
  {
   "cell_type": "code",
   "execution_count": null,
   "id": "394e5343",
   "metadata": {},
   "outputs": [],
   "source": [
    "# For future author search\n",
    "# MODIFY FOR OpenAlex\n",
    "\n",
    "AUTHOR_URL = 'https://api.semanticscholar.org/graph/v1/author/batch'\n",
    "AUTHOR_FIELDS = 'affiliations'\n",
    "AUTHORS_DB_PATH = 'papers.db'\n",
    "authors_schema = \"\"\"\n",
    "    authorId TEXT PRIMARY KEY,\n",
    "    name TEXT,\n",
    "    affiliation TEXT\n",
    "\"\"\""
   ]
  },
  {
   "cell_type": "code",
   "execution_count": 168,
   "id": "854a13d3",
   "metadata": {},
   "outputs": [],
   "source": [
    "import os\n",
    "import sys\n",
    "import time\n",
    "import math\n",
    "import pycountry\n",
    "import requests\n",
    "import pandas as pd\n",
    "import numpy as np\n",
    "import sqlite3\n",
    "import plotly.express as px\n",
    "import seaborn as sns\n",
    "import matplotlib.pyplot as plt\n",
    "import matplotlib.dates as mdates\n",
    "import scipy.stats as stats\n",
    "from sklearn.linear_model import LinearRegression\n",
    "from sklearn.preprocessing import PolynomialFeatures\n",
    "from itertools import combinations\n",
    "from collections import Counter\n",
    "\n",
    "BASE_URL = 'https://api.openalex.org/works'\n",
    "DELAY = 1  # Small delay between requests\n",
    "RETRY_DELAY = 5  # seconds before retrying on failure\n",
    "YEAR_RANGE = '1970-2023' # We start on 1970 as that is considered the decade where urban ecology started gaining interest. We stop on 2023 as it's the last year with complete data\n",
    "PAPERS_DB_PATH = 'papers.db'\n",
    "\n",
    "papers_schema = \"\"\"\n",
    "    paperId TEXT PRIMARY KEY,\n",
    "    title TEXT,\n",
    "    year INTEGER,\n",
    "    authors TEXT,\n",
    "    url TEXT,\n",
    "    search_keyword TEXT,\n",
    "    firstAuthorCountryIso TEXT,\n",
    "    firstAuthorId TEXT,\n",
    "    journal TEXT,\n",
    "    citationCount INTEGER\n",
    "\"\"\"\n",
    "\n",
    "query_list = [\n",
    "    'urban ecology',\n",
    "    'urban biodiversity',\n",
    "    'urban ecosystem',\n",
    "    'urban green spaces',\n",
    "    'urban wildlife',\n",
    "    'urban vegetation',\n",
    "]"
   ]
  },
  {
   "cell_type": "code",
   "execution_count": 33,
   "id": "e4835c3c",
   "metadata": {},
   "outputs": [
    {
     "name": "stdout",
     "output_type": "stream",
     "text": [
      "✅ Progress tracker \"cursor_urban ecology.txt\" removed.\n",
      "✅ Progress tracker \"cursor_urban biodiversity.txt\" removed.\n",
      "✅ Progress tracker \"cursor_urban ecosystem.txt\" removed.\n",
      "✅ Progress tracker \"cursor_urban green spaces.txt\" removed.\n",
      "✅ Progress tracker \"cursor_urban wildlife.txt\" removed.\n",
      "✅ Progress tracker \"cursor_urban vegetation.txt\" removed.\n",
      "✅ Output file \"papers.db\" removed.\n"
     ]
    }
   ],
   "source": [
    "# Run this to clear the .txt progress trackers\n",
    "\n",
    "for keyword in query_list:\n",
    "    done_file = f'done_{keyword}.txt'\n",
    "    page_file = f'page_{keyword}.txt'\n",
    "    cursor_file = f'cursor_{keyword}.txt'\n",
    "    \n",
    "    for file_path in [done_file, page_file, cursor_file]:\n",
    "        if os.path.exists(file_path):\n",
    "            os.remove(file_path)\n",
    "            print(f'✅ Progress tracker \"{file_path}\" removed.')\n",
    "  \n",
    "if os.path.exists(PAPERS_DB_PATH):      \n",
    "    os.remove(PAPERS_DB_PATH)\n",
    "    print(f'✅ Output file \"{PAPERS_DB_PATH}\" removed.')"
   ]
  },
  {
   "cell_type": "code",
   "execution_count": 34,
   "id": "9fa39136",
   "metadata": {},
   "outputs": [],
   "source": [
    "# === Helper functions ===\n",
    "\n",
    "def save_cursor(keyword, cursor):\n",
    "    \"\"\"Save the current cursor for pagination\"\"\"\n",
    "    with open(f'cursor_{keyword}.txt', 'w') as f:\n",
    "        f.write(cursor)\n",
    "\n",
    "def load_cursor(keyword):\n",
    "    \"\"\"Load the last cursor for pagination\"\"\"\n",
    "    filename = f'cursor_{keyword}.txt'\n",
    "    if os.path.exists(filename):\n",
    "        with open(filename, 'r') as f:\n",
    "            return f.read().strip()\n",
    "    return None\n",
    "\n",
    "def mark_done(keyword):\n",
    "    with open(f'done_{keyword}.txt', 'w') as f:\n",
    "        f.write('completed')\n",
    "\n",
    "def is_done(keyword):\n",
    "    return os.path.exists(f'done_{keyword}.txt')\n",
    "\n",
    "def delete_cursor(keyword):\n",
    "    \"\"\"Clean up cursor tracking file when done\"\"\"\n",
    "    filename = f'cursor_{keyword}.txt'\n",
    "    if os.path.exists(filename):\n",
    "        os.remove(filename)\n",
    "\n",
    "def get_first_author_country(authorships_list):\n",
    "    \"\"\"Extract country ISO code prioritizing first author, with fallback to other authors\"\"\"\n",
    "    if not authorships_list:\n",
    "        return None\n",
    "    \n",
    "    first_authorship = authorships_list[0]\n",
    "    institutions = first_authorship.get('institutions', [])\n",
    "    \n",
    "    for institution in institutions:\n",
    "        country_code = institution.get('country_code')\n",
    "        if country_code:\n",
    "            return country_code\n",
    "    \n",
    "    for authorship in authorships_list[1:]:\n",
    "        institutions = authorship.get('institutions', [])\n",
    "        \n",
    "        for institution in institutions:\n",
    "            country_code = institution.get('country_code')\n",
    "            if country_code:\n",
    "                return country_code\n",
    "    \n",
    "    return None"
   ]
  },
  {
   "cell_type": "code",
   "execution_count": 19,
   "id": "b2e20ba5",
   "metadata": {},
   "outputs": [],
   "source": [
    "# === Database and Dataframe setup ===\n",
    "\n",
    "def init_table(db_path, table_name, schema_sql):\n",
    "    conn = sqlite3.connect(db_path)\n",
    "    c = conn.cursor()\n",
    "    c.execute(f'CREATE TABLE IF NOT EXISTS {table_name} ({schema_sql})')\n",
    "    conn.commit()\n",
    "    conn.close()\n",
    "    \n",
    "def save_paper_to_db(paper, keyword):\n",
    "    conn = sqlite3.connect(PAPERS_DB_PATH)\n",
    "    c = conn.cursor()\n",
    "\n",
    "    paper_id = paper.get('id', '').replace('https://openalex.org/', '')\n",
    "    title = paper.get('title')\n",
    "    year = paper.get('publication_year')\n",
    "    citation_count = paper.get('cited_by_count', 0)\n",
    "    \n",
    "    primary_location = paper.get('primary_location', {})\n",
    "    journal = None\n",
    "    url = None\n",
    "    if primary_location:\n",
    "        source = primary_location.get('source', {})\n",
    "        journal = source.get('display_name') if source else None\n",
    "        url = primary_location.get('landing_page_url')\n",
    "    \n",
    "    authorships = paper.get('authorships', [])\n",
    "    authors_list = []\n",
    "    first_author_id = None\n",
    "    first_author_country = None\n",
    "    \n",
    "    for authorship in authorships:\n",
    "        author = authorship.get('author', {})\n",
    "        author_name = author.get('display_name')\n",
    "        if author_name:\n",
    "            authors_list.append(author_name)\n",
    "            \n",
    "        if not first_author_id and author.get('id'):\n",
    "            first_author_id = author.get('id').replace('https://openalex.org/', '')\n",
    "            first_author_country = get_first_author_country([authorship])\n",
    "    \n",
    "    authors = ', '.join(authors_list)\n",
    "\n",
    "    try:\n",
    "        c.execute('SELECT search_keyword FROM papers WHERE paperId = ?', (paper_id,))\n",
    "        existing = c.fetchone()\n",
    "        \n",
    "        if existing:\n",
    "            existing_keywords = existing[0].split(', ') if existing[0] else []\n",
    "            if keyword not in existing_keywords:\n",
    "                existing_keywords.append(keyword)\n",
    "                updated_keywords = ', '.join(existing_keywords)\n",
    "                c.execute('UPDATE papers SET search_keyword = ? WHERE paperId = ?', \n",
    "                         (updated_keywords, paper_id))\n",
    "        else:\n",
    "            c.execute(\"\"\"\n",
    "                INSERT INTO papers \n",
    "                (paperId, title, year, authors, url, search_keyword, firstAuthorCountryIso, \n",
    "                 firstAuthorId, journal, citationCount)\n",
    "                VALUES (?, ?, ?, ?, ?, ?, ?, ?, ?, ?)\n",
    "            \"\"\", (paper_id, title, year, authors, url, keyword, first_author_country, \n",
    "                  first_author_id, journal, citation_count))\n",
    "        \n",
    "        conn.commit()\n",
    "    except sqlite3.Error as e:\n",
    "        print(f'❌ DB error for paper {paper_id}: {e}')\n",
    "    finally:\n",
    "        conn.close()"
   ]
  },
  {
   "cell_type": "code",
   "execution_count": 37,
   "id": "3efc42f1",
   "metadata": {},
   "outputs": [
    {
     "name": "stdout",
     "output_type": "stream",
     "text": [
      "\n",
      "🔍 Processing keyword: \"urban ecology\"\n",
      "⏳ Starting fresh for keyword \"urban ecology\"\n",
      "📄 Page 1: 200 papers retrieved for \"urban ecology\"\n",
      "📄 Page 2: 400 papers retrieved for \"urban ecology\"\n",
      "📄 Page 3: 600 papers retrieved for \"urban ecology\"\n",
      "📄 Page 4: 800 papers retrieved for \"urban ecology\"\n",
      "📄 Page 5: 1000 papers retrieved for \"urban ecology\"\n",
      "📄 Page 6: 1200 papers retrieved for \"urban ecology\"\n",
      "📄 Page 7: 1400 papers retrieved for \"urban ecology\"\n",
      "📄 Page 8: 1600 papers retrieved for \"urban ecology\"\n",
      "📄 Page 9: 1800 papers retrieved for \"urban ecology\"\n",
      "📄 Page 10: 2000 papers retrieved for \"urban ecology\"\n",
      "📄 Page 11: 2200 papers retrieved for \"urban ecology\"\n",
      "📄 Page 12: 2400 papers retrieved for \"urban ecology\"\n",
      "📄 Page 13: 2600 papers retrieved for \"urban ecology\"\n",
      "📄 Page 14: 2800 papers retrieved for \"urban ecology\"\n",
      "📄 Page 15: 3000 papers retrieved for \"urban ecology\"\n",
      "📄 Page 16: 3200 papers retrieved for \"urban ecology\"\n",
      "📄 Page 17: 3400 papers retrieved for \"urban ecology\"\n",
      "📄 Page 18: 3600 papers retrieved for \"urban ecology\"\n",
      "📄 Page 19: 3800 papers retrieved for \"urban ecology\"\n",
      "📄 Page 20: 4000 papers retrieved for \"urban ecology\"\n",
      "📄 Page 21: 4200 papers retrieved for \"urban ecology\"\n",
      "📄 Page 22: 4400 papers retrieved for \"urban ecology\"\n",
      "📄 Page 23: 4600 papers retrieved for \"urban ecology\"\n",
      "📄 Page 24: 4800 papers retrieved for \"urban ecology\"\n",
      "📄 Page 25: 5000 papers retrieved for \"urban ecology\"\n",
      "📄 Page 26: 5200 papers retrieved for \"urban ecology\"\n",
      "📄 Page 27: 5400 papers retrieved for \"urban ecology\"\n",
      "📄 Page 28: 5600 papers retrieved for \"urban ecology\"\n",
      "📄 Page 29: 5800 papers retrieved for \"urban ecology\"\n",
      "📄 Page 30: 6000 papers retrieved for \"urban ecology\"\n",
      "📄 Page 31: 6200 papers retrieved for \"urban ecology\"\n",
      "📄 Page 32: 6400 papers retrieved for \"urban ecology\"\n",
      "📄 Page 33: 6600 papers retrieved for \"urban ecology\"\n",
      "📄 Page 34: 6800 papers retrieved for \"urban ecology\"\n",
      "📄 Page 35: 7000 papers retrieved for \"urban ecology\"\n",
      "📄 Page 36: 7200 papers retrieved for \"urban ecology\"\n",
      "📄 Page 37: 7400 papers retrieved for \"urban ecology\"\n",
      "📄 Page 38: 7600 papers retrieved for \"urban ecology\"\n",
      "📄 Page 39: 7800 papers retrieved for \"urban ecology\"\n",
      "📄 Page 40: 8000 papers retrieved for \"urban ecology\"\n",
      "📄 Page 41: 8200 papers retrieved for \"urban ecology\"\n",
      "📄 Page 42: 8400 papers retrieved for \"urban ecology\"\n",
      "📄 Page 43: 8600 papers retrieved for \"urban ecology\"\n",
      "📄 Page 44: 8800 papers retrieved for \"urban ecology\"\n",
      "📄 Page 45: 9000 papers retrieved for \"urban ecology\"\n",
      "📄 Page 46: 9200 papers retrieved for \"urban ecology\"\n",
      "📄 Page 47: 9400 papers retrieved for \"urban ecology\"\n",
      "📄 Page 48: 9600 papers retrieved for \"urban ecology\"\n",
      "📄 Page 49: 9800 papers retrieved for \"urban ecology\"\n",
      "📄 Page 50: 10000 papers retrieved for \"urban ecology\"\n",
      "📄 Page 51: 10200 papers retrieved for \"urban ecology\"\n",
      "📄 Page 52: 10400 papers retrieved for \"urban ecology\"\n",
      "📄 Page 53: 10600 papers retrieved for \"urban ecology\"\n",
      "📄 Page 54: 10800 papers retrieved for \"urban ecology\"\n",
      "📄 Page 55: 11000 papers retrieved for \"urban ecology\"\n",
      "📄 Page 56: 11200 papers retrieved for \"urban ecology\"\n",
      "📄 Page 57: 11400 papers retrieved for \"urban ecology\"\n",
      "📄 Page 58: 11600 papers retrieved for \"urban ecology\"\n",
      "📄 Page 59: 11800 papers retrieved for \"urban ecology\"\n",
      "📄 Page 60: 12000 papers retrieved for \"urban ecology\"\n",
      "📄 Page 61: 12200 papers retrieved for \"urban ecology\"\n",
      "📄 Page 62: 12400 papers retrieved for \"urban ecology\"\n",
      "📄 Page 63: 12600 papers retrieved for \"urban ecology\"\n",
      "📄 Page 64: 12800 papers retrieved for \"urban ecology\"\n",
      "📄 Page 65: 13000 papers retrieved for \"urban ecology\"\n",
      "📄 Page 66: 13200 papers retrieved for \"urban ecology\"\n",
      "📄 Page 67: 13400 papers retrieved for \"urban ecology\"\n",
      "📄 Page 68: 13600 papers retrieved for \"urban ecology\"\n",
      "📄 Page 69: 13800 papers retrieved for \"urban ecology\"\n",
      "📄 Page 70: 14000 papers retrieved for \"urban ecology\"\n",
      "📄 Page 71: 14200 papers retrieved for \"urban ecology\"\n",
      "📄 Page 72: 14400 papers retrieved for \"urban ecology\"\n",
      "📄 Page 73: 14600 papers retrieved for \"urban ecology\"\n",
      "📄 Page 74: 14800 papers retrieved for \"urban ecology\"\n",
      "📄 Page 75: 15000 papers retrieved for \"urban ecology\"\n",
      "📄 Page 76: 15200 papers retrieved for \"urban ecology\"\n",
      "📄 Page 77: 15400 papers retrieved for \"urban ecology\"\n",
      "📄 Page 78: 15600 papers retrieved for \"urban ecology\"\n",
      "📄 Page 79: 15800 papers retrieved for \"urban ecology\"\n",
      "📄 Page 80: 16000 papers retrieved for \"urban ecology\"\n",
      "📄 Page 81: 16200 papers retrieved for \"urban ecology\"\n",
      "📄 Page 82: 16400 papers retrieved for \"urban ecology\"\n",
      "📄 Page 83: 16600 papers retrieved for \"urban ecology\"\n",
      "📄 Page 84: 16800 papers retrieved for \"urban ecology\"\n",
      "📄 Page 85: 17000 papers retrieved for \"urban ecology\"\n",
      "📄 Page 86: 17200 papers retrieved for \"urban ecology\"\n",
      "📄 Page 87: 17400 papers retrieved for \"urban ecology\"\n",
      "📄 Page 88: 17600 papers retrieved for \"urban ecology\"\n",
      "📄 Page 89: 17800 papers retrieved for \"urban ecology\"\n",
      "📄 Page 90: 18000 papers retrieved for \"urban ecology\"\n",
      "📄 Page 91: 18200 papers retrieved for \"urban ecology\"\n",
      "📄 Page 92: 18400 papers retrieved for \"urban ecology\"\n",
      "📄 Page 93: 18600 papers retrieved for \"urban ecology\"\n",
      "📄 Page 94: 18800 papers retrieved for \"urban ecology\"\n",
      "📄 Page 95: 19000 papers retrieved for \"urban ecology\"\n",
      "📄 Page 96: 19200 papers retrieved for \"urban ecology\"\n",
      "📄 Page 97: 19400 papers retrieved for \"urban ecology\"\n",
      "📄 Page 98: 19600 papers retrieved for \"urban ecology\"\n",
      "📄 Page 99: 19800 papers retrieved for \"urban ecology\"\n",
      "📄 Page 100: 20000 papers retrieved for \"urban ecology\"\n",
      "📄 Page 101: 20200 papers retrieved for \"urban ecology\"\n",
      "📄 Page 102: 20257 papers retrieved for \"urban ecology\"\n",
      "✅ No more papers available for \"urban ecology\" (reached end of results)\n",
      "✅ Completed all available results for \"urban ecology\" (total: 20257 papers across 103 pages)\n",
      "\n",
      "🔍 Processing keyword: \"urban biodiversity\"\n",
      "⏳ Starting fresh for keyword \"urban biodiversity\"\n",
      "📄 Page 1: 200 papers retrieved for \"urban biodiversity\"\n",
      "📄 Page 2: 400 papers retrieved for \"urban biodiversity\"\n",
      "📄 Page 3: 600 papers retrieved for \"urban biodiversity\"\n",
      "📄 Page 4: 800 papers retrieved for \"urban biodiversity\"\n",
      "📄 Page 5: 1000 papers retrieved for \"urban biodiversity\"\n",
      "📄 Page 6: 1200 papers retrieved for \"urban biodiversity\"\n",
      "📄 Page 7: 1400 papers retrieved for \"urban biodiversity\"\n",
      "📄 Page 8: 1600 papers retrieved for \"urban biodiversity\"\n",
      "📄 Page 9: 1800 papers retrieved for \"urban biodiversity\"\n",
      "📄 Page 10: 2000 papers retrieved for \"urban biodiversity\"\n",
      "📄 Page 11: 2200 papers retrieved for \"urban biodiversity\"\n",
      "📄 Page 12: 2400 papers retrieved for \"urban biodiversity\"\n",
      "📄 Page 13: 2600 papers retrieved for \"urban biodiversity\"\n",
      "📄 Page 14: 2800 papers retrieved for \"urban biodiversity\"\n",
      "📄 Page 15: 3000 papers retrieved for \"urban biodiversity\"\n",
      "📄 Page 16: 3200 papers retrieved for \"urban biodiversity\"\n",
      "📄 Page 17: 3400 papers retrieved for \"urban biodiversity\"\n",
      "📄 Page 18: 3600 papers retrieved for \"urban biodiversity\"\n",
      "📄 Page 19: 3800 papers retrieved for \"urban biodiversity\"\n",
      "📄 Page 20: 4000 papers retrieved for \"urban biodiversity\"\n",
      "📄 Page 21: 4200 papers retrieved for \"urban biodiversity\"\n",
      "📄 Page 22: 4400 papers retrieved for \"urban biodiversity\"\n",
      "📄 Page 23: 4600 papers retrieved for \"urban biodiversity\"\n",
      "📄 Page 24: 4800 papers retrieved for \"urban biodiversity\"\n",
      "📄 Page 25: 5000 papers retrieved for \"urban biodiversity\"\n",
      "📄 Page 26: 5200 papers retrieved for \"urban biodiversity\"\n",
      "📄 Page 27: 5400 papers retrieved for \"urban biodiversity\"\n",
      "📄 Page 28: 5600 papers retrieved for \"urban biodiversity\"\n",
      "📄 Page 29: 5800 papers retrieved for \"urban biodiversity\"\n",
      "📄 Page 30: 6000 papers retrieved for \"urban biodiversity\"\n",
      "📄 Page 31: 6200 papers retrieved for \"urban biodiversity\"\n",
      "📄 Page 32: 6400 papers retrieved for \"urban biodiversity\"\n",
      "📄 Page 33: 6600 papers retrieved for \"urban biodiversity\"\n",
      "📄 Page 34: 6800 papers retrieved for \"urban biodiversity\"\n",
      "📄 Page 35: 7000 papers retrieved for \"urban biodiversity\"\n",
      "📄 Page 36: 7200 papers retrieved for \"urban biodiversity\"\n",
      "📄 Page 37: 7400 papers retrieved for \"urban biodiversity\"\n",
      "📄 Page 38: 7600 papers retrieved for \"urban biodiversity\"\n",
      "📄 Page 39: 7800 papers retrieved for \"urban biodiversity\"\n",
      "📄 Page 40: 8000 papers retrieved for \"urban biodiversity\"\n",
      "📄 Page 41: 8200 papers retrieved for \"urban biodiversity\"\n",
      "📄 Page 42: 8400 papers retrieved for \"urban biodiversity\"\n",
      "📄 Page 43: 8600 papers retrieved for \"urban biodiversity\"\n",
      "📄 Page 44: 8800 papers retrieved for \"urban biodiversity\"\n",
      "📄 Page 45: 9000 papers retrieved for \"urban biodiversity\"\n",
      "📄 Page 46: 9200 papers retrieved for \"urban biodiversity\"\n",
      "📄 Page 47: 9400 papers retrieved for \"urban biodiversity\"\n",
      "📄 Page 48: 9600 papers retrieved for \"urban biodiversity\"\n",
      "📄 Page 49: 9800 papers retrieved for \"urban biodiversity\"\n",
      "📄 Page 50: 10000 papers retrieved for \"urban biodiversity\"\n",
      "📄 Page 51: 10200 papers retrieved for \"urban biodiversity\"\n",
      "📄 Page 52: 10400 papers retrieved for \"urban biodiversity\"\n",
      "📄 Page 53: 10600 papers retrieved for \"urban biodiversity\"\n",
      "📄 Page 54: 10800 papers retrieved for \"urban biodiversity\"\n",
      "📄 Page 55: 11000 papers retrieved for \"urban biodiversity\"\n",
      "📄 Page 56: 11200 papers retrieved for \"urban biodiversity\"\n",
      "📄 Page 57: 11400 papers retrieved for \"urban biodiversity\"\n",
      "📄 Page 58: 11600 papers retrieved for \"urban biodiversity\"\n",
      "📄 Page 59: 11800 papers retrieved for \"urban biodiversity\"\n",
      "📄 Page 60: 12000 papers retrieved for \"urban biodiversity\"\n",
      "📄 Page 61: 12200 papers retrieved for \"urban biodiversity\"\n",
      "📄 Page 62: 12400 papers retrieved for \"urban biodiversity\"\n",
      "📄 Page 63: 12600 papers retrieved for \"urban biodiversity\"\n",
      "📄 Page 64: 12800 papers retrieved for \"urban biodiversity\"\n",
      "📄 Page 65: 13000 papers retrieved for \"urban biodiversity\"\n",
      "📄 Page 66: 13200 papers retrieved for \"urban biodiversity\"\n",
      "📄 Page 67: 13400 papers retrieved for \"urban biodiversity\"\n",
      "📄 Page 68: 13600 papers retrieved for \"urban biodiversity\"\n",
      "📄 Page 69: 13800 papers retrieved for \"urban biodiversity\"\n",
      "📄 Page 70: 14000 papers retrieved for \"urban biodiversity\"\n",
      "📄 Page 71: 14200 papers retrieved for \"urban biodiversity\"\n",
      "📄 Page 72: 14400 papers retrieved for \"urban biodiversity\"\n",
      "📄 Page 73: 14600 papers retrieved for \"urban biodiversity\"\n",
      "📄 Page 74: 14800 papers retrieved for \"urban biodiversity\"\n",
      "📄 Page 75: 15000 papers retrieved for \"urban biodiversity\"\n",
      "📄 Page 76: 15200 papers retrieved for \"urban biodiversity\"\n",
      "📄 Page 77: 15400 papers retrieved for \"urban biodiversity\"\n",
      "📄 Page 78: 15600 papers retrieved for \"urban biodiversity\"\n",
      "📄 Page 79: 15800 papers retrieved for \"urban biodiversity\"\n",
      "📄 Page 80: 15868 papers retrieved for \"urban biodiversity\"\n",
      "✅ No more papers available for \"urban biodiversity\" (reached end of results)\n",
      "✅ Completed all available results for \"urban biodiversity\" (total: 15868 papers across 81 pages)\n",
      "\n",
      "🔍 Processing keyword: \"urban ecosystem\"\n",
      "⏳ Starting fresh for keyword \"urban ecosystem\"\n",
      "📄 Page 1: 200 papers retrieved for \"urban ecosystem\"\n",
      "📄 Page 2: 400 papers retrieved for \"urban ecosystem\"\n",
      "📄 Page 3: 600 papers retrieved for \"urban ecosystem\"\n",
      "📄 Page 4: 800 papers retrieved for \"urban ecosystem\"\n",
      "📄 Page 5: 1000 papers retrieved for \"urban ecosystem\"\n",
      "📄 Page 6: 1200 papers retrieved for \"urban ecosystem\"\n",
      "📄 Page 7: 1400 papers retrieved for \"urban ecosystem\"\n",
      "📄 Page 8: 1600 papers retrieved for \"urban ecosystem\"\n",
      "📄 Page 9: 1800 papers retrieved for \"urban ecosystem\"\n",
      "📄 Page 10: 2000 papers retrieved for \"urban ecosystem\"\n",
      "📄 Page 11: 2200 papers retrieved for \"urban ecosystem\"\n",
      "📄 Page 12: 2400 papers retrieved for \"urban ecosystem\"\n",
      "📄 Page 13: 2600 papers retrieved for \"urban ecosystem\"\n",
      "📄 Page 14: 2800 papers retrieved for \"urban ecosystem\"\n",
      "📄 Page 15: 3000 papers retrieved for \"urban ecosystem\"\n",
      "📄 Page 16: 3200 papers retrieved for \"urban ecosystem\"\n",
      "📄 Page 17: 3400 papers retrieved for \"urban ecosystem\"\n",
      "📄 Page 18: 3600 papers retrieved for \"urban ecosystem\"\n",
      "📄 Page 19: 3800 papers retrieved for \"urban ecosystem\"\n",
      "📄 Page 20: 4000 papers retrieved for \"urban ecosystem\"\n",
      "📄 Page 21: 4200 papers retrieved for \"urban ecosystem\"\n",
      "📄 Page 22: 4400 papers retrieved for \"urban ecosystem\"\n",
      "📄 Page 23: 4600 papers retrieved for \"urban ecosystem\"\n",
      "📄 Page 24: 4800 papers retrieved for \"urban ecosystem\"\n",
      "📄 Page 25: 5000 papers retrieved for \"urban ecosystem\"\n",
      "📄 Page 26: 5200 papers retrieved for \"urban ecosystem\"\n",
      "📄 Page 27: 5400 papers retrieved for \"urban ecosystem\"\n",
      "📄 Page 28: 5600 papers retrieved for \"urban ecosystem\"\n",
      "📄 Page 29: 5800 papers retrieved for \"urban ecosystem\"\n",
      "📄 Page 30: 6000 papers retrieved for \"urban ecosystem\"\n",
      "📄 Page 31: 6200 papers retrieved for \"urban ecosystem\"\n",
      "📄 Page 32: 6400 papers retrieved for \"urban ecosystem\"\n",
      "📄 Page 33: 6600 papers retrieved for \"urban ecosystem\"\n",
      "📄 Page 34: 6800 papers retrieved for \"urban ecosystem\"\n",
      "📄 Page 35: 7000 papers retrieved for \"urban ecosystem\"\n",
      "📄 Page 36: 7200 papers retrieved for \"urban ecosystem\"\n",
      "📄 Page 37: 7400 papers retrieved for \"urban ecosystem\"\n",
      "📄 Page 38: 7600 papers retrieved for \"urban ecosystem\"\n",
      "📄 Page 39: 7800 papers retrieved for \"urban ecosystem\"\n",
      "📄 Page 40: 8000 papers retrieved for \"urban ecosystem\"\n",
      "📄 Page 41: 8200 papers retrieved for \"urban ecosystem\"\n",
      "📄 Page 42: 8400 papers retrieved for \"urban ecosystem\"\n",
      "📄 Page 43: 8600 papers retrieved for \"urban ecosystem\"\n",
      "📄 Page 44: 8800 papers retrieved for \"urban ecosystem\"\n",
      "📄 Page 45: 9000 papers retrieved for \"urban ecosystem\"\n",
      "📄 Page 46: 9200 papers retrieved for \"urban ecosystem\"\n",
      "📄 Page 47: 9400 papers retrieved for \"urban ecosystem\"\n",
      "📄 Page 48: 9600 papers retrieved for \"urban ecosystem\"\n",
      "📄 Page 49: 9800 papers retrieved for \"urban ecosystem\"\n",
      "📄 Page 50: 10000 papers retrieved for \"urban ecosystem\"\n",
      "📄 Page 51: 10200 papers retrieved for \"urban ecosystem\"\n",
      "📄 Page 52: 10400 papers retrieved for \"urban ecosystem\"\n",
      "📄 Page 53: 10600 papers retrieved for \"urban ecosystem\"\n",
      "📄 Page 54: 10800 papers retrieved for \"urban ecosystem\"\n",
      "📄 Page 55: 11000 papers retrieved for \"urban ecosystem\"\n",
      "📄 Page 56: 11200 papers retrieved for \"urban ecosystem\"\n",
      "📄 Page 57: 11400 papers retrieved for \"urban ecosystem\"\n",
      "📄 Page 58: 11600 papers retrieved for \"urban ecosystem\"\n",
      "📄 Page 59: 11800 papers retrieved for \"urban ecosystem\"\n",
      "📄 Page 60: 12000 papers retrieved for \"urban ecosystem\"\n",
      "📄 Page 61: 12200 papers retrieved for \"urban ecosystem\"\n",
      "📄 Page 62: 12400 papers retrieved for \"urban ecosystem\"\n",
      "📄 Page 63: 12600 papers retrieved for \"urban ecosystem\"\n",
      "📄 Page 64: 12800 papers retrieved for \"urban ecosystem\"\n",
      "📄 Page 65: 13000 papers retrieved for \"urban ecosystem\"\n",
      "📄 Page 66: 13200 papers retrieved for \"urban ecosystem\"\n",
      "📄 Page 67: 13400 papers retrieved for \"urban ecosystem\"\n",
      "📄 Page 68: 13600 papers retrieved for \"urban ecosystem\"\n",
      "📄 Page 69: 13800 papers retrieved for \"urban ecosystem\"\n",
      "📄 Page 70: 14000 papers retrieved for \"urban ecosystem\"\n",
      "📄 Page 71: 14200 papers retrieved for \"urban ecosystem\"\n",
      "📄 Page 72: 14400 papers retrieved for \"urban ecosystem\"\n",
      "📄 Page 73: 14600 papers retrieved for \"urban ecosystem\"\n",
      "📄 Page 74: 14800 papers retrieved for \"urban ecosystem\"\n",
      "📄 Page 75: 15000 papers retrieved for \"urban ecosystem\"\n",
      "📄 Page 76: 15200 papers retrieved for \"urban ecosystem\"\n",
      "📄 Page 77: 15400 papers retrieved for \"urban ecosystem\"\n",
      "📄 Page 78: 15600 papers retrieved for \"urban ecosystem\"\n",
      "📄 Page 79: 15800 papers retrieved for \"urban ecosystem\"\n",
      "📄 Page 80: 16000 papers retrieved for \"urban ecosystem\"\n",
      "📄 Page 81: 16200 papers retrieved for \"urban ecosystem\"\n",
      "📄 Page 82: 16400 papers retrieved for \"urban ecosystem\"\n",
      "📄 Page 83: 16600 papers retrieved for \"urban ecosystem\"\n",
      "📄 Page 84: 16800 papers retrieved for \"urban ecosystem\"\n",
      "📄 Page 85: 17000 papers retrieved for \"urban ecosystem\"\n",
      "📄 Page 86: 17200 papers retrieved for \"urban ecosystem\"\n",
      "📄 Page 87: 17400 papers retrieved for \"urban ecosystem\"\n",
      "📄 Page 88: 17600 papers retrieved for \"urban ecosystem\"\n",
      "📄 Page 89: 17800 papers retrieved for \"urban ecosystem\"\n",
      "📄 Page 90: 18000 papers retrieved for \"urban ecosystem\"\n",
      "📄 Page 91: 18200 papers retrieved for \"urban ecosystem\"\n",
      "📄 Page 92: 18400 papers retrieved for \"urban ecosystem\"\n",
      "📄 Page 93: 18600 papers retrieved for \"urban ecosystem\"\n",
      "📄 Page 94: 18800 papers retrieved for \"urban ecosystem\"\n",
      "📄 Page 95: 19000 papers retrieved for \"urban ecosystem\"\n",
      "📄 Page 96: 19200 papers retrieved for \"urban ecosystem\"\n",
      "📄 Page 97: 19400 papers retrieved for \"urban ecosystem\"\n",
      "📄 Page 98: 19600 papers retrieved for \"urban ecosystem\"\n",
      "📄 Page 99: 19800 papers retrieved for \"urban ecosystem\"\n",
      "📄 Page 100: 20000 papers retrieved for \"urban ecosystem\"\n",
      "📄 Page 101: 20200 papers retrieved for \"urban ecosystem\"\n",
      "📄 Page 102: 20400 papers retrieved for \"urban ecosystem\"\n",
      "📄 Page 103: 20600 papers retrieved for \"urban ecosystem\"\n",
      "📄 Page 104: 20800 papers retrieved for \"urban ecosystem\"\n",
      "📄 Page 105: 21000 papers retrieved for \"urban ecosystem\"\n",
      "📄 Page 106: 21200 papers retrieved for \"urban ecosystem\"\n",
      "📄 Page 107: 21400 papers retrieved for \"urban ecosystem\"\n",
      "📄 Page 108: 21600 papers retrieved for \"urban ecosystem\"\n",
      "📄 Page 109: 21800 papers retrieved for \"urban ecosystem\"\n",
      "📄 Page 110: 22000 papers retrieved for \"urban ecosystem\"\n",
      "📄 Page 111: 22200 papers retrieved for \"urban ecosystem\"\n",
      "📄 Page 112: 22400 papers retrieved for \"urban ecosystem\"\n",
      "📄 Page 113: 22600 papers retrieved for \"urban ecosystem\"\n",
      "📄 Page 114: 22800 papers retrieved for \"urban ecosystem\"\n",
      "📄 Page 115: 23000 papers retrieved for \"urban ecosystem\"\n",
      "📄 Page 116: 23200 papers retrieved for \"urban ecosystem\"\n",
      "📄 Page 117: 23400 papers retrieved for \"urban ecosystem\"\n",
      "📄 Page 118: 23600 papers retrieved for \"urban ecosystem\"\n",
      "📄 Page 119: 23800 papers retrieved for \"urban ecosystem\"\n",
      "📄 Page 120: 24000 papers retrieved for \"urban ecosystem\"\n",
      "📄 Page 121: 24200 papers retrieved for \"urban ecosystem\"\n",
      "📄 Page 122: 24400 papers retrieved for \"urban ecosystem\"\n",
      "📄 Page 123: 24600 papers retrieved for \"urban ecosystem\"\n",
      "📄 Page 124: 24800 papers retrieved for \"urban ecosystem\"\n",
      "📄 Page 125: 25000 papers retrieved for \"urban ecosystem\"\n",
      "📄 Page 126: 25200 papers retrieved for \"urban ecosystem\"\n",
      "📄 Page 127: 25400 papers retrieved for \"urban ecosystem\"\n",
      "📄 Page 128: 25600 papers retrieved for \"urban ecosystem\"\n",
      "📄 Page 129: 25800 papers retrieved for \"urban ecosystem\"\n",
      "📄 Page 130: 26000 papers retrieved for \"urban ecosystem\"\n",
      "📄 Page 131: 26200 papers retrieved for \"urban ecosystem\"\n",
      "📄 Page 132: 26400 papers retrieved for \"urban ecosystem\"\n",
      "📄 Page 133: 26600 papers retrieved for \"urban ecosystem\"\n",
      "📄 Page 134: 26800 papers retrieved for \"urban ecosystem\"\n",
      "📄 Page 135: 27000 papers retrieved for \"urban ecosystem\"\n",
      "📄 Page 136: 27200 papers retrieved for \"urban ecosystem\"\n",
      "📄 Page 137: 27400 papers retrieved for \"urban ecosystem\"\n",
      "📄 Page 138: 27600 papers retrieved for \"urban ecosystem\"\n",
      "📄 Page 139: 27800 papers retrieved for \"urban ecosystem\"\n",
      "📄 Page 140: 28000 papers retrieved for \"urban ecosystem\"\n",
      "📄 Page 141: 28200 papers retrieved for \"urban ecosystem\"\n",
      "📄 Page 142: 28400 papers retrieved for \"urban ecosystem\"\n",
      "📄 Page 143: 28600 papers retrieved for \"urban ecosystem\"\n",
      "📄 Page 144: 28800 papers retrieved for \"urban ecosystem\"\n",
      "📄 Page 145: 29000 papers retrieved for \"urban ecosystem\"\n",
      "📄 Page 146: 29200 papers retrieved for \"urban ecosystem\"\n",
      "📄 Page 147: 29387 papers retrieved for \"urban ecosystem\"\n",
      "✅ No more papers available for \"urban ecosystem\" (reached end of results)\n",
      "✅ Completed all available results for \"urban ecosystem\" (total: 29387 papers across 148 pages)\n",
      "\n",
      "🔍 Processing keyword: \"urban green spaces\"\n",
      "⏳ Starting fresh for keyword \"urban green spaces\"\n",
      "📄 Page 1: 200 papers retrieved for \"urban green spaces\"\n",
      "📄 Page 2: 400 papers retrieved for \"urban green spaces\"\n",
      "📄 Page 3: 600 papers retrieved for \"urban green spaces\"\n",
      "📄 Page 4: 800 papers retrieved for \"urban green spaces\"\n",
      "📄 Page 5: 1000 papers retrieved for \"urban green spaces\"\n",
      "📄 Page 6: 1200 papers retrieved for \"urban green spaces\"\n",
      "📄 Page 7: 1400 papers retrieved for \"urban green spaces\"\n",
      "📄 Page 8: 1600 papers retrieved for \"urban green spaces\"\n",
      "📄 Page 9: 1800 papers retrieved for \"urban green spaces\"\n",
      "📄 Page 10: 2000 papers retrieved for \"urban green spaces\"\n",
      "📄 Page 11: 2200 papers retrieved for \"urban green spaces\"\n",
      "📄 Page 12: 2400 papers retrieved for \"urban green spaces\"\n",
      "📄 Page 13: 2600 papers retrieved for \"urban green spaces\"\n",
      "📄 Page 14: 2800 papers retrieved for \"urban green spaces\"\n",
      "📄 Page 15: 3000 papers retrieved for \"urban green spaces\"\n",
      "📄 Page 16: 3200 papers retrieved for \"urban green spaces\"\n",
      "📄 Page 17: 3400 papers retrieved for \"urban green spaces\"\n",
      "📄 Page 18: 3600 papers retrieved for \"urban green spaces\"\n",
      "📄 Page 19: 3800 papers retrieved for \"urban green spaces\"\n",
      "📄 Page 20: 4000 papers retrieved for \"urban green spaces\"\n",
      "📄 Page 21: 4200 papers retrieved for \"urban green spaces\"\n",
      "📄 Page 22: 4400 papers retrieved for \"urban green spaces\"\n",
      "📄 Page 23: 4600 papers retrieved for \"urban green spaces\"\n",
      "📄 Page 24: 4800 papers retrieved for \"urban green spaces\"\n",
      "📄 Page 25: 5000 papers retrieved for \"urban green spaces\"\n",
      "📄 Page 26: 5200 papers retrieved for \"urban green spaces\"\n",
      "📄 Page 27: 5400 papers retrieved for \"urban green spaces\"\n",
      "📄 Page 28: 5600 papers retrieved for \"urban green spaces\"\n",
      "📄 Page 29: 5800 papers retrieved for \"urban green spaces\"\n",
      "📄 Page 30: 6000 papers retrieved for \"urban green spaces\"\n",
      "📄 Page 31: 6200 papers retrieved for \"urban green spaces\"\n",
      "📄 Page 32: 6400 papers retrieved for \"urban green spaces\"\n",
      "📄 Page 33: 6600 papers retrieved for \"urban green spaces\"\n",
      "📄 Page 34: 6800 papers retrieved for \"urban green spaces\"\n",
      "📄 Page 35: 7000 papers retrieved for \"urban green spaces\"\n",
      "📄 Page 36: 7200 papers retrieved for \"urban green spaces\"\n",
      "📄 Page 37: 7400 papers retrieved for \"urban green spaces\"\n",
      "📄 Page 38: 7600 papers retrieved for \"urban green spaces\"\n",
      "📄 Page 39: 7800 papers retrieved for \"urban green spaces\"\n",
      "📄 Page 40: 8000 papers retrieved for \"urban green spaces\"\n",
      "📄 Page 41: 8200 papers retrieved for \"urban green spaces\"\n",
      "📄 Page 42: 8400 papers retrieved for \"urban green spaces\"\n",
      "📄 Page 43: 8600 papers retrieved for \"urban green spaces\"\n",
      "📄 Page 44: 8800 papers retrieved for \"urban green spaces\"\n",
      "📄 Page 45: 9000 papers retrieved for \"urban green spaces\"\n",
      "📄 Page 46: 9200 papers retrieved for \"urban green spaces\"\n",
      "📄 Page 47: 9400 papers retrieved for \"urban green spaces\"\n",
      "📄 Page 48: 9600 papers retrieved for \"urban green spaces\"\n",
      "📄 Page 49: 9800 papers retrieved for \"urban green spaces\"\n",
      "📄 Page 50: 10000 papers retrieved for \"urban green spaces\"\n",
      "📄 Page 51: 10200 papers retrieved for \"urban green spaces\"\n",
      "📄 Page 52: 10400 papers retrieved for \"urban green spaces\"\n",
      "📄 Page 53: 10600 papers retrieved for \"urban green spaces\"\n",
      "📄 Page 54: 10800 papers retrieved for \"urban green spaces\"\n",
      "📄 Page 55: 11000 papers retrieved for \"urban green spaces\"\n",
      "📄 Page 56: 11200 papers retrieved for \"urban green spaces\"\n",
      "📄 Page 57: 11400 papers retrieved for \"urban green spaces\"\n",
      "📄 Page 58: 11600 papers retrieved for \"urban green spaces\"\n",
      "📄 Page 59: 11800 papers retrieved for \"urban green spaces\"\n",
      "📄 Page 60: 12000 papers retrieved for \"urban green spaces\"\n",
      "📄 Page 61: 12200 papers retrieved for \"urban green spaces\"\n",
      "📄 Page 62: 12400 papers retrieved for \"urban green spaces\"\n",
      "📄 Page 63: 12600 papers retrieved for \"urban green spaces\"\n",
      "📄 Page 64: 12800 papers retrieved for \"urban green spaces\"\n",
      "📄 Page 65: 13000 papers retrieved for \"urban green spaces\"\n",
      "📄 Page 66: 13200 papers retrieved for \"urban green spaces\"\n",
      "📄 Page 67: 13400 papers retrieved for \"urban green spaces\"\n",
      "📄 Page 68: 13600 papers retrieved for \"urban green spaces\"\n",
      "📄 Page 69: 13800 papers retrieved for \"urban green spaces\"\n",
      "📄 Page 70: 14000 papers retrieved for \"urban green spaces\"\n",
      "📄 Page 71: 14200 papers retrieved for \"urban green spaces\"\n",
      "📄 Page 72: 14400 papers retrieved for \"urban green spaces\"\n",
      "📄 Page 73: 14600 papers retrieved for \"urban green spaces\"\n",
      "📄 Page 74: 14800 papers retrieved for \"urban green spaces\"\n",
      "📄 Page 75: 15000 papers retrieved for \"urban green spaces\"\n",
      "📄 Page 76: 15200 papers retrieved for \"urban green spaces\"\n",
      "📄 Page 77: 15400 papers retrieved for \"urban green spaces\"\n",
      "📄 Page 78: 15600 papers retrieved for \"urban green spaces\"\n",
      "📄 Page 79: 15800 papers retrieved for \"urban green spaces\"\n",
      "📄 Page 80: 16000 papers retrieved for \"urban green spaces\"\n",
      "📄 Page 81: 16200 papers retrieved for \"urban green spaces\"\n",
      "📄 Page 82: 16400 papers retrieved for \"urban green spaces\"\n",
      "📄 Page 83: 16600 papers retrieved for \"urban green spaces\"\n",
      "📄 Page 84: 16800 papers retrieved for \"urban green spaces\"\n",
      "📄 Page 85: 17000 papers retrieved for \"urban green spaces\"\n",
      "📄 Page 86: 17200 papers retrieved for \"urban green spaces\"\n",
      "📄 Page 87: 17400 papers retrieved for \"urban green spaces\"\n",
      "📄 Page 88: 17600 papers retrieved for \"urban green spaces\"\n",
      "📄 Page 89: 17800 papers retrieved for \"urban green spaces\"\n",
      "📄 Page 90: 18000 papers retrieved for \"urban green spaces\"\n",
      "📄 Page 91: 18200 papers retrieved for \"urban green spaces\"\n",
      "📄 Page 92: 18400 papers retrieved for \"urban green spaces\"\n",
      "📄 Page 93: 18600 papers retrieved for \"urban green spaces\"\n",
      "📄 Page 94: 18800 papers retrieved for \"urban green spaces\"\n",
      "📄 Page 95: 19000 papers retrieved for \"urban green spaces\"\n",
      "📄 Page 96: 19200 papers retrieved for \"urban green spaces\"\n",
      "📄 Page 97: 19400 papers retrieved for \"urban green spaces\"\n",
      "📄 Page 98: 19600 papers retrieved for \"urban green spaces\"\n",
      "📄 Page 99: 19800 papers retrieved for \"urban green spaces\"\n",
      "📄 Page 100: 20000 papers retrieved for \"urban green spaces\"\n",
      "📄 Page 101: 20200 papers retrieved for \"urban green spaces\"\n",
      "📄 Page 102: 20400 papers retrieved for \"urban green spaces\"\n",
      "📄 Page 103: 20600 papers retrieved for \"urban green spaces\"\n",
      "📄 Page 104: 20800 papers retrieved for \"urban green spaces\"\n",
      "📄 Page 105: 21000 papers retrieved for \"urban green spaces\"\n",
      "📄 Page 106: 21200 papers retrieved for \"urban green spaces\"\n",
      "📄 Page 107: 21400 papers retrieved for \"urban green spaces\"\n",
      "📄 Page 108: 21600 papers retrieved for \"urban green spaces\"\n",
      "📄 Page 109: 21800 papers retrieved for \"urban green spaces\"\n",
      "📄 Page 110: 22000 papers retrieved for \"urban green spaces\"\n",
      "📄 Page 111: 22200 papers retrieved for \"urban green spaces\"\n",
      "📄 Page 112: 22400 papers retrieved for \"urban green spaces\"\n",
      "📄 Page 113: 22600 papers retrieved for \"urban green spaces\"\n",
      "📄 Page 114: 22800 papers retrieved for \"urban green spaces\"\n",
      "📄 Page 115: 23000 papers retrieved for \"urban green spaces\"\n",
      "📄 Page 116: 23200 papers retrieved for \"urban green spaces\"\n",
      "📄 Page 117: 23400 papers retrieved for \"urban green spaces\"\n",
      "📄 Page 118: 23600 papers retrieved for \"urban green spaces\"\n",
      "📄 Page 119: 23800 papers retrieved for \"urban green spaces\"\n",
      "📄 Page 120: 24000 papers retrieved for \"urban green spaces\"\n",
      "📄 Page 121: 24200 papers retrieved for \"urban green spaces\"\n",
      "📄 Page 122: 24400 papers retrieved for \"urban green spaces\"\n",
      "📄 Page 123: 24600 papers retrieved for \"urban green spaces\"\n",
      "📄 Page 124: 24800 papers retrieved for \"urban green spaces\"\n",
      "📄 Page 125: 25000 papers retrieved for \"urban green spaces\"\n",
      "📄 Page 126: 25200 papers retrieved for \"urban green spaces\"\n",
      "📄 Page 127: 25400 papers retrieved for \"urban green spaces\"\n",
      "📄 Page 128: 25600 papers retrieved for \"urban green spaces\"\n",
      "📄 Page 129: 25800 papers retrieved for \"urban green spaces\"\n",
      "📄 Page 130: 26000 papers retrieved for \"urban green spaces\"\n",
      "📄 Page 131: 26200 papers retrieved for \"urban green spaces\"\n",
      "📄 Page 132: 26400 papers retrieved for \"urban green spaces\"\n",
      "📄 Page 133: 26600 papers retrieved for \"urban green spaces\"\n",
      "📄 Page 134: 26800 papers retrieved for \"urban green spaces\"\n",
      "📄 Page 135: 27000 papers retrieved for \"urban green spaces\"\n",
      "📄 Page 136: 27200 papers retrieved for \"urban green spaces\"\n",
      "📄 Page 137: 27400 papers retrieved for \"urban green spaces\"\n",
      "📄 Page 138: 27600 papers retrieved for \"urban green spaces\"\n",
      "📄 Page 139: 27800 papers retrieved for \"urban green spaces\"\n",
      "📄 Page 140: 28000 papers retrieved for \"urban green spaces\"\n",
      "📄 Page 141: 28200 papers retrieved for \"urban green spaces\"\n",
      "📄 Page 142: 28400 papers retrieved for \"urban green spaces\"\n",
      "📄 Page 143: 28600 papers retrieved for \"urban green spaces\"\n",
      "📄 Page 144: 28800 papers retrieved for \"urban green spaces\"\n",
      "📄 Page 145: 29000 papers retrieved for \"urban green spaces\"\n",
      "📄 Page 146: 29200 papers retrieved for \"urban green spaces\"\n",
      "📄 Page 147: 29400 papers retrieved for \"urban green spaces\"\n",
      "📄 Page 148: 29600 papers retrieved for \"urban green spaces\"\n",
      "📄 Page 149: 29800 papers retrieved for \"urban green spaces\"\n",
      "📄 Page 150: 30000 papers retrieved for \"urban green spaces\"\n",
      "📄 Page 151: 30200 papers retrieved for \"urban green spaces\"\n",
      "📄 Page 152: 30400 papers retrieved for \"urban green spaces\"\n",
      "📄 Page 153: 30600 papers retrieved for \"urban green spaces\"\n",
      "📄 Page 154: 30800 papers retrieved for \"urban green spaces\"\n",
      "📄 Page 155: 31000 papers retrieved for \"urban green spaces\"\n",
      "📄 Page 156: 31200 papers retrieved for \"urban green spaces\"\n",
      "📄 Page 157: 31400 papers retrieved for \"urban green spaces\"\n",
      "📄 Page 158: 31600 papers retrieved for \"urban green spaces\"\n",
      "📄 Page 159: 31800 papers retrieved for \"urban green spaces\"\n",
      "📄 Page 160: 32000 papers retrieved for \"urban green spaces\"\n",
      "📄 Page 161: 32200 papers retrieved for \"urban green spaces\"\n",
      "📄 Page 162: 32400 papers retrieved for \"urban green spaces\"\n",
      "📄 Page 163: 32449 papers retrieved for \"urban green spaces\"\n",
      "✅ No more papers available for \"urban green spaces\" (reached end of results)\n",
      "✅ Completed all available results for \"urban green spaces\" (total: 32449 papers across 164 pages)\n",
      "\n",
      "🔍 Processing keyword: \"urban wildlife\"\n",
      "⏳ Starting fresh for keyword \"urban wildlife\"\n",
      "📄 Page 1: 200 papers retrieved for \"urban wildlife\"\n",
      "📄 Page 2: 400 papers retrieved for \"urban wildlife\"\n",
      "📄 Page 3: 600 papers retrieved for \"urban wildlife\"\n",
      "📄 Page 4: 800 papers retrieved for \"urban wildlife\"\n",
      "📄 Page 5: 1000 papers retrieved for \"urban wildlife\"\n",
      "📄 Page 6: 1200 papers retrieved for \"urban wildlife\"\n",
      "📄 Page 7: 1400 papers retrieved for \"urban wildlife\"\n",
      "📄 Page 8: 1600 papers retrieved for \"urban wildlife\"\n",
      "📄 Page 9: 1800 papers retrieved for \"urban wildlife\"\n",
      "📄 Page 10: 2000 papers retrieved for \"urban wildlife\"\n",
      "📄 Page 11: 2200 papers retrieved for \"urban wildlife\"\n",
      "📄 Page 12: 2400 papers retrieved for \"urban wildlife\"\n",
      "📄 Page 13: 2600 papers retrieved for \"urban wildlife\"\n",
      "📄 Page 14: 2800 papers retrieved for \"urban wildlife\"\n",
      "📄 Page 15: 3000 papers retrieved for \"urban wildlife\"\n",
      "📄 Page 16: 3200 papers retrieved for \"urban wildlife\"\n",
      "📄 Page 17: 3400 papers retrieved for \"urban wildlife\"\n",
      "📄 Page 18: 3600 papers retrieved for \"urban wildlife\"\n",
      "📄 Page 19: 3800 papers retrieved for \"urban wildlife\"\n",
      "📄 Page 20: 4000 papers retrieved for \"urban wildlife\"\n",
      "📄 Page 21: 4200 papers retrieved for \"urban wildlife\"\n",
      "📄 Page 22: 4400 papers retrieved for \"urban wildlife\"\n",
      "📄 Page 23: 4600 papers retrieved for \"urban wildlife\"\n",
      "📄 Page 24: 4800 papers retrieved for \"urban wildlife\"\n",
      "📄 Page 25: 5000 papers retrieved for \"urban wildlife\"\n",
      "📄 Page 26: 5200 papers retrieved for \"urban wildlife\"\n",
      "📄 Page 27: 5400 papers retrieved for \"urban wildlife\"\n",
      "📄 Page 28: 5600 papers retrieved for \"urban wildlife\"\n",
      "📄 Page 29: 5800 papers retrieved for \"urban wildlife\"\n",
      "📄 Page 30: 6000 papers retrieved for \"urban wildlife\"\n",
      "📄 Page 31: 6200 papers retrieved for \"urban wildlife\"\n",
      "📄 Page 32: 6400 papers retrieved for \"urban wildlife\"\n",
      "📄 Page 33: 6600 papers retrieved for \"urban wildlife\"\n",
      "📄 Page 34: 6800 papers retrieved for \"urban wildlife\"\n",
      "📄 Page 35: 7000 papers retrieved for \"urban wildlife\"\n",
      "📄 Page 36: 7200 papers retrieved for \"urban wildlife\"\n",
      "📄 Page 37: 7400 papers retrieved for \"urban wildlife\"\n",
      "📄 Page 38: 7600 papers retrieved for \"urban wildlife\"\n",
      "📄 Page 39: 7800 papers retrieved for \"urban wildlife\"\n",
      "📄 Page 40: 8000 papers retrieved for \"urban wildlife\"\n",
      "📄 Page 41: 8200 papers retrieved for \"urban wildlife\"\n",
      "📄 Page 42: 8400 papers retrieved for \"urban wildlife\"\n",
      "📄 Page 43: 8600 papers retrieved for \"urban wildlife\"\n",
      "📄 Page 44: 8800 papers retrieved for \"urban wildlife\"\n",
      "📄 Page 45: 9000 papers retrieved for \"urban wildlife\"\n",
      "📄 Page 46: 9200 papers retrieved for \"urban wildlife\"\n",
      "📄 Page 47: 9400 papers retrieved for \"urban wildlife\"\n",
      "📄 Page 48: 9600 papers retrieved for \"urban wildlife\"\n",
      "📄 Page 49: 9800 papers retrieved for \"urban wildlife\"\n",
      "📄 Page 50: 9888 papers retrieved for \"urban wildlife\"\n",
      "✅ No more papers available for \"urban wildlife\" (reached end of results)\n",
      "✅ Completed all available results for \"urban wildlife\" (total: 9888 papers across 51 pages)\n",
      "\n",
      "🔍 Processing keyword: \"urban vegetation\"\n",
      "⏳ Starting fresh for keyword \"urban vegetation\"\n",
      "📄 Page 1: 200 papers retrieved for \"urban vegetation\"\n",
      "📄 Page 2: 400 papers retrieved for \"urban vegetation\"\n",
      "📄 Page 3: 600 papers retrieved for \"urban vegetation\"\n",
      "📄 Page 4: 800 papers retrieved for \"urban vegetation\"\n",
      "📄 Page 5: 1000 papers retrieved for \"urban vegetation\"\n",
      "📄 Page 6: 1200 papers retrieved for \"urban vegetation\"\n",
      "📄 Page 7: 1400 papers retrieved for \"urban vegetation\"\n",
      "📄 Page 8: 1600 papers retrieved for \"urban vegetation\"\n",
      "📄 Page 9: 1800 papers retrieved for \"urban vegetation\"\n",
      "📄 Page 10: 2000 papers retrieved for \"urban vegetation\"\n",
      "📄 Page 11: 2200 papers retrieved for \"urban vegetation\"\n",
      "📄 Page 12: 2400 papers retrieved for \"urban vegetation\"\n",
      "📄 Page 13: 2600 papers retrieved for \"urban vegetation\"\n",
      "📄 Page 14: 2800 papers retrieved for \"urban vegetation\"\n",
      "📄 Page 15: 3000 papers retrieved for \"urban vegetation\"\n",
      "📄 Page 16: 3200 papers retrieved for \"urban vegetation\"\n",
      "📄 Page 17: 3400 papers retrieved for \"urban vegetation\"\n",
      "📄 Page 18: 3600 papers retrieved for \"urban vegetation\"\n",
      "📄 Page 19: 3800 papers retrieved for \"urban vegetation\"\n",
      "📄 Page 20: 4000 papers retrieved for \"urban vegetation\"\n",
      "📄 Page 21: 4200 papers retrieved for \"urban vegetation\"\n",
      "📄 Page 22: 4400 papers retrieved for \"urban vegetation\"\n",
      "📄 Page 23: 4600 papers retrieved for \"urban vegetation\"\n",
      "📄 Page 24: 4800 papers retrieved for \"urban vegetation\"\n",
      "📄 Page 25: 5000 papers retrieved for \"urban vegetation\"\n",
      "📄 Page 26: 5200 papers retrieved for \"urban vegetation\"\n",
      "📄 Page 27: 5400 papers retrieved for \"urban vegetation\"\n",
      "📄 Page 28: 5600 papers retrieved for \"urban vegetation\"\n",
      "📄 Page 29: 5800 papers retrieved for \"urban vegetation\"\n",
      "📄 Page 30: 6000 papers retrieved for \"urban vegetation\"\n",
      "📄 Page 31: 6200 papers retrieved for \"urban vegetation\"\n",
      "📄 Page 32: 6400 papers retrieved for \"urban vegetation\"\n",
      "📄 Page 33: 6600 papers retrieved for \"urban vegetation\"\n",
      "📄 Page 34: 6800 papers retrieved for \"urban vegetation\"\n",
      "📄 Page 35: 7000 papers retrieved for \"urban vegetation\"\n",
      "📄 Page 36: 7200 papers retrieved for \"urban vegetation\"\n",
      "📄 Page 37: 7400 papers retrieved for \"urban vegetation\"\n",
      "📄 Page 38: 7600 papers retrieved for \"urban vegetation\"\n",
      "📄 Page 39: 7800 papers retrieved for \"urban vegetation\"\n",
      "📄 Page 40: 8000 papers retrieved for \"urban vegetation\"\n",
      "📄 Page 41: 8200 papers retrieved for \"urban vegetation\"\n",
      "📄 Page 42: 8400 papers retrieved for \"urban vegetation\"\n",
      "📄 Page 43: 8600 papers retrieved for \"urban vegetation\"\n",
      "📄 Page 44: 8800 papers retrieved for \"urban vegetation\"\n",
      "📄 Page 45: 9000 papers retrieved for \"urban vegetation\"\n",
      "📄 Page 46: 9200 papers retrieved for \"urban vegetation\"\n",
      "📄 Page 47: 9400 papers retrieved for \"urban vegetation\"\n",
      "📄 Page 48: 9600 papers retrieved for \"urban vegetation\"\n",
      "📄 Page 49: 9800 papers retrieved for \"urban vegetation\"\n",
      "📄 Page 50: 10000 papers retrieved for \"urban vegetation\"\n",
      "📄 Page 51: 10200 papers retrieved for \"urban vegetation\"\n",
      "📄 Page 52: 10400 papers retrieved for \"urban vegetation\"\n",
      "📄 Page 53: 10600 papers retrieved for \"urban vegetation\"\n",
      "📄 Page 54: 10800 papers retrieved for \"urban vegetation\"\n",
      "📄 Page 55: 11000 papers retrieved for \"urban vegetation\"\n",
      "📄 Page 56: 11200 papers retrieved for \"urban vegetation\"\n",
      "📄 Page 57: 11400 papers retrieved for \"urban vegetation\"\n",
      "📄 Page 58: 11600 papers retrieved for \"urban vegetation\"\n",
      "📄 Page 59: 11800 papers retrieved for \"urban vegetation\"\n",
      "📄 Page 60: 12000 papers retrieved for \"urban vegetation\"\n",
      "📄 Page 61: 12200 papers retrieved for \"urban vegetation\"\n",
      "📄 Page 62: 12400 papers retrieved for \"urban vegetation\"\n",
      "📄 Page 63: 12600 papers retrieved for \"urban vegetation\"\n",
      "📄 Page 64: 12800 papers retrieved for \"urban vegetation\"\n",
      "📄 Page 65: 13000 papers retrieved for \"urban vegetation\"\n",
      "📄 Page 66: 13200 papers retrieved for \"urban vegetation\"\n",
      "📄 Page 67: 13400 papers retrieved for \"urban vegetation\"\n",
      "📄 Page 68: 13600 papers retrieved for \"urban vegetation\"\n",
      "📄 Page 69: 13800 papers retrieved for \"urban vegetation\"\n",
      "📄 Page 70: 14000 papers retrieved for \"urban vegetation\"\n",
      "📄 Page 71: 14200 papers retrieved for \"urban vegetation\"\n",
      "📄 Page 72: 14400 papers retrieved for \"urban vegetation\"\n",
      "📄 Page 73: 14600 papers retrieved for \"urban vegetation\"\n",
      "📄 Page 74: 14800 papers retrieved for \"urban vegetation\"\n",
      "📄 Page 75: 15000 papers retrieved for \"urban vegetation\"\n",
      "📄 Page 76: 15200 papers retrieved for \"urban vegetation\"\n",
      "📄 Page 77: 15400 papers retrieved for \"urban vegetation\"\n",
      "📄 Page 78: 15600 papers retrieved for \"urban vegetation\"\n",
      "📄 Page 79: 15800 papers retrieved for \"urban vegetation\"\n",
      "📄 Page 80: 16000 papers retrieved for \"urban vegetation\"\n",
      "📄 Page 81: 16200 papers retrieved for \"urban vegetation\"\n",
      "📄 Page 82: 16400 papers retrieved for \"urban vegetation\"\n",
      "📄 Page 83: 16568 papers retrieved for \"urban vegetation\"\n",
      "✅ No more papers available for \"urban vegetation\" (reached end of results)\n",
      "✅ Completed all available results for \"urban vegetation\" (total: 16568 papers across 84 pages)\n",
      "\n",
      "🎉 All keywords processed.\n"
     ]
    }
   ],
   "source": [
    "# === Main loop for paper retrieval from OpenAlex ===\n",
    "\n",
    "init_table(PAPERS_DB_PATH, 'papers', papers_schema)\n",
    "\n",
    "for keyword in query_list:\n",
    "    print(f'\\n🔍 Processing keyword: \"{keyword}\"')\n",
    "\n",
    "    if is_done(keyword):\n",
    "        print(f'✅ Keyword \"{keyword}\" already completed. Skipping.')\n",
    "        continue\n",
    "\n",
    "    current_cursor = load_cursor(keyword)\n",
    "    if current_cursor:\n",
    "        print(f'🔄 Resuming from saved cursor for \"{keyword}\"')\n",
    "        cursor = current_cursor\n",
    "    else:\n",
    "        print(f'⏳ Starting fresh for keyword \"{keyword}\"')\n",
    "        cursor = '*'\n",
    "\n",
    "    retrieved = 0\n",
    "    page_count = 0\n",
    "\n",
    "    while True:\n",
    "        page_count += 1\n",
    "        \n",
    "        params = {\n",
    "            'search': keyword,\n",
    "            'filter': f'type:journal-article|book|book-chapter|monograph,publication_year:{YEAR_RANGE}',\n",
    "            'per_page': 200,\n",
    "            'cursor': cursor,\n",
    "            'mailto': 'andre.borja.miranda@gmail.com'\n",
    "        }\n",
    "\n",
    "        for attempt in range(2):\n",
    "            try:\n",
    "                sys.stdout.flush() # Flush statements to avoid an issue that waas happening where print statements were duplicated after the request\n",
    "                \n",
    "                response = requests.get(BASE_URL, params=params, timeout=30)\n",
    "                response.raise_for_status()\n",
    "                \n",
    "                sys.stdout.flush()\n",
    "                \n",
    "                data = response.json()\n",
    "                break\n",
    "            except requests.exceptions.RequestException as e:\n",
    "                print(f'❌ Request error on attempt {attempt+1} for \"{keyword}\" page {page_count}: {e}')\n",
    "                if attempt == 0:\n",
    "                    print(f'⏳ Retrying after {RETRY_DELAY} seconds...')\n",
    "                    time.sleep(RETRY_DELAY)\n",
    "                else:\n",
    "                    print('⚠️ Skipping this batch due to repeated failure.')\n",
    "                    data = None\n",
    "\n",
    "        if data is None:\n",
    "            print(f'⚠️ No data retrieved for keyword \"{keyword}\" page {page_count}, breaking loop.')\n",
    "            break\n",
    "\n",
    "        if 'error' in data:\n",
    "            print(f'❌ API Error for \"{keyword}\": {data.get(\"message\", \"Unknown error\")}')\n",
    "            break\n",
    "\n",
    "        papers = data.get('results', [])\n",
    "        if not papers:\n",
    "            print(f'✅ No more papers available for \"{keyword}\" (reached end of results)')\n",
    "            print(f'✅ Completed all available results for \"{keyword}\" (total: {retrieved} papers across {page_count} pages)')\n",
    "            delete_cursor(keyword)\n",
    "            mark_done(keyword)\n",
    "            break\n",
    "\n",
    "        retrieved += len(papers)\n",
    "        print(f'📄 Page {page_count}: {retrieved} papers retrieved for \"{keyword}\"')\n",
    "\n",
    "        for paper in papers:\n",
    "            save_paper_to_db(paper, keyword)\n",
    "\n",
    "        meta = data.get('meta', {})\n",
    "        next_cursor = meta.get('next_cursor')\n",
    "        \n",
    "        if next_cursor:\n",
    "            cursor = next_cursor\n",
    "            save_cursor(keyword, cursor)\n",
    "            time.sleep(DELAY)\n",
    "            \n",
    "        else:\n",
    "            #Fallback redundancy in case the \"if not papers\" check fails\n",
    "            print(f'✅ No more cursor available for \"{keyword}\" (total: {retrieved} papers across {page_count} pages)')\n",
    "            delete_cursor(keyword)\n",
    "            mark_done(keyword)\n",
    "            break\n",
    "\n",
    "print('\\n🎉 All keywords processed.')"
   ]
  },
  {
   "cell_type": "code",
   "execution_count": 69,
   "id": "9cb32e8b",
   "metadata": {},
   "outputs": [
    {
     "data": {
      "application/vnd.microsoft.datawrangler.viewer.v0+json": {
       "columns": [
        {
         "name": "index",
         "rawType": "int64",
         "type": "integer"
        },
        {
         "name": "year",
         "rawType": "int64",
         "type": "integer"
        },
        {
         "name": "search_keyword",
         "rawType": "object",
         "type": "string"
        },
        {
         "name": "paper_count",
         "rawType": "int64",
         "type": "integer"
        }
       ],
       "ref": "79952825-e0ee-4033-9583-ed3691a8c8f1",
       "rows": [
        [
         "0",
         "1970",
         "urban biodiversity",
         "1"
        ],
        [
         "1",
         "1970",
         "urban ecology",
         "7"
        ],
        [
         "2",
         "1970",
         "urban ecosystem",
         "1"
        ],
        [
         "3",
         "1970",
         "urban green spaces",
         "10"
        ],
        [
         "4",
         "1970",
         "urban vegetation",
         "14"
        ]
       ],
       "shape": {
        "columns": 3,
        "rows": 5
       }
      },
      "text/html": [
       "<div>\n",
       "<style scoped>\n",
       "    .dataframe tbody tr th:only-of-type {\n",
       "        vertical-align: middle;\n",
       "    }\n",
       "\n",
       "    .dataframe tbody tr th {\n",
       "        vertical-align: top;\n",
       "    }\n",
       "\n",
       "    .dataframe thead th {\n",
       "        text-align: right;\n",
       "    }\n",
       "</style>\n",
       "<table border=\"1\" class=\"dataframe\">\n",
       "  <thead>\n",
       "    <tr style=\"text-align: right;\">\n",
       "      <th></th>\n",
       "      <th>year</th>\n",
       "      <th>search_keyword</th>\n",
       "      <th>paper_count</th>\n",
       "    </tr>\n",
       "  </thead>\n",
       "  <tbody>\n",
       "    <tr>\n",
       "      <th>0</th>\n",
       "      <td>1970</td>\n",
       "      <td>urban biodiversity</td>\n",
       "      <td>1</td>\n",
       "    </tr>\n",
       "    <tr>\n",
       "      <th>1</th>\n",
       "      <td>1970</td>\n",
       "      <td>urban ecology</td>\n",
       "      <td>7</td>\n",
       "    </tr>\n",
       "    <tr>\n",
       "      <th>2</th>\n",
       "      <td>1970</td>\n",
       "      <td>urban ecosystem</td>\n",
       "      <td>1</td>\n",
       "    </tr>\n",
       "    <tr>\n",
       "      <th>3</th>\n",
       "      <td>1970</td>\n",
       "      <td>urban green spaces</td>\n",
       "      <td>10</td>\n",
       "    </tr>\n",
       "    <tr>\n",
       "      <th>4</th>\n",
       "      <td>1970</td>\n",
       "      <td>urban vegetation</td>\n",
       "      <td>14</td>\n",
       "    </tr>\n",
       "  </tbody>\n",
       "</table>\n",
       "</div>"
      ],
      "text/plain": [
       "   year      search_keyword  paper_count\n",
       "0  1970  urban biodiversity            1\n",
       "1  1970       urban ecology            7\n",
       "2  1970     urban ecosystem            1\n",
       "3  1970  urban green spaces           10\n",
       "4  1970    urban vegetation           14"
      ]
     },
     "execution_count": 69,
     "metadata": {},
     "output_type": "execute_result"
    }
   ],
   "source": [
    "with sqlite3.connect(PAPERS_DB_PATH) as conn:\n",
    "    df_raw = pd.read_sql_query(\"\"\"\n",
    "    SELECT year, search_keyword\n",
    "    FROM papers\n",
    "    WHERE search_keyword IS NOT NULL AND search_keyword != ''\n",
    "    \"\"\", conn)\n",
    "\n",
    "rows = []\n",
    "for _, row in df_raw.iterrows():\n",
    "    keywords = [k.strip() for k in row['search_keyword'].split(',')]\n",
    "    for keyword in keywords:\n",
    "        if keyword:\n",
    "            rows.append({'year': row['year'], 'search_keyword': keyword})\n",
    "\n",
    "df_expanded = pd.DataFrame(rows)\n",
    "df_keywords = df_expanded.groupby(['year', 'search_keyword']).size().reset_index(name='paper_count')\n",
    "\n",
    "df_totals = df_expanded.groupby('year').size().reset_index(name='paper_count')\n",
    "df_totals['search_keyword'] = 'total'\n",
    "\n",
    "df_keywords = df_keywords.sort_values('year')\n",
    "df_keywords.head()"
   ]
  },
  {
   "cell_type": "code",
   "execution_count": 70,
   "id": "8aa91fc8",
   "metadata": {},
   "outputs": [
    {
     "data": {
      "application/vnd.plotly.v1+json": {
       "config": {
        "plotlyServerURL": "https://plot.ly"
       },
       "data": [
        {
         "hovertemplate": "search_keyword=urban biodiversity<br>year=%{x}<br>paper_count=%{y}<extra></extra>",
         "legendgroup": "urban biodiversity",
         "line": {
          "color": "#E6A366",
          "dash": "solid"
         },
         "marker": {
          "symbol": "circle"
         },
         "mode": "lines+markers",
         "name": "urban biodiversity",
         "orientation": "v",
         "showlegend": true,
         "type": "scatter",
         "x": {
          "bdata": "sge8B70HvgfCB8QHxQfGB8cHyAfJB8oHywfMB80HzgfPB9AH0QfSB9MH1AfVB9YH1wfYB9kH2gfbB9wH3QfeB98H4AfhB+IH4wfkB+UH5gfnBw==",
          "dtype": "i2"
         },
         "xaxis": "x",
         "y": {
          "bdata": "AQABAAEAAQABAAEAAQAIAAUAEAASABoAKQAhAB4APwA+AFAAlwBnAHQAjACNALgA6QAPATwBDgHRAW4CcQIqAg8DwQOXBJcFgQT0AloEegW6Bg==",
          "dtype": "i2"
         },
         "yaxis": "y"
        },
        {
         "hovertemplate": "search_keyword=urban ecology<br>year=%{x}<br>paper_count=%{y}<extra></extra>",
         "legendgroup": "urban ecology",
         "line": {
          "color": "#6B9BD2",
          "dash": "solid"
         },
         "marker": {
          "symbol": "circle"
         },
         "mode": "lines+markers",
         "name": "urban ecology",
         "orientation": "v",
         "showlegend": true,
         "type": "scatter",
         "x": {
          "bdata": "sgezB7QHtQe2B7cHuAe5B7oHuwe8B70Hvge/B8AHwQfCB8MHxAfFB8YHxwfIB8kHygfLB8wHzQfOB88H0AfRB9IH0wfUB9UH1gfXB9gH2QfaB9sH3AfdB94H3wfgB+EH4gfjB+QH5QfmB+cH",
          "dtype": "i2"
         },
         "xaxis": "x",
         "y": {
          "bdata": "BwAPAAkAEQARABIAEwAOABkAHAAhACIAGAASAB0AEgAYABgAIQArACkAKwAwAEYAMQA7AEEALgBTAG0AXwC9AHMAkwDWAM0A/ABNAV8B2wFsARUC6ALHAsMCWgT0BHIFHwccBmIE+ATOBXsH",
          "dtype": "i2"
         },
         "yaxis": "y"
        },
        {
         "hovertemplate": "search_keyword=urban ecosystem<br>year=%{x}<br>paper_count=%{y}<extra></extra>",
         "legendgroup": "urban ecosystem",
         "line": {
          "color": "#E6A8D0",
          "dash": "solid"
         },
         "marker": {
          "symbol": "circle"
         },
         "mode": "lines+markers",
         "name": "urban ecosystem",
         "orientation": "v",
         "showlegend": true,
         "type": "scatter",
         "x": {
          "bdata": "sgezB7QHtQe2B7cHuAe5B7oHuwe8B70Hvge/B8AHwQfCB8MHxAfFB8YHxwfIB8kHygfLB8wHzQfOB88H0AfRB9IH0wfUB9UH1gfXB9gH2QfaB9sH3AfdB94H3wfgB+EH4gfjB+QH5QfmB+cH",
          "dtype": "i2"
         },
         "xaxis": "x",
         "y": {
          "bdata": "AQAGAAoADQAJAA8AEAAfAA8AGwAdADEAHAASABsADAAZABgAIwA1AC4AKwA4AEcAQQBRAEYAVABeAGsAdQDyAJoA0gD8APMAPAFmAaIBBgLVAUADPQQTBP0DjwVQB3oIfQr1CNQFPwjSCQcM",
          "dtype": "i2"
         },
         "yaxis": "y"
        },
        {
         "hovertemplate": "search_keyword=urban green spaces<br>year=%{x}<br>paper_count=%{y}<extra></extra>",
         "legendgroup": "urban green spaces",
         "line": {
          "color": "#7FB069",
          "dash": "solid"
         },
         "marker": {
          "symbol": "circle"
         },
         "mode": "lines+markers",
         "name": "urban green spaces",
         "orientation": "v",
         "showlegend": true,
         "type": "scatter",
         "x": {
          "bdata": "sgezB7QHtQe2B7cHuAe5B7oHuwe8B70Hvge/B8AHwQfCB8MHxAfFB8YHxwfIB8kHygfLB8wHzQfOB88H0AfRB9IH0wfUB9UH1gfXB9gH2QfaB9sH3AfdB94H3wfgB+EH4gfjB+QH5QfmB+cH",
          "dtype": "i2"
         },
         "xaxis": "x",
         "y": {
          "bdata": "CgAIAA0AEAANABAAFgAUABQAFAAWACAAKgAYABoAGQAVABoAHQAjACYALAAlADAAMgBIAD4AQgBaAF0AmACdAJsA4QDnAPoAOwGCAZwBIAJuAiADqwS9BKsE2Ab+BzgJsgpSCosHygnUCsoN",
          "dtype": "i2"
         },
         "yaxis": "y"
        },
        {
         "hovertemplate": "search_keyword=urban vegetation<br>year=%{x}<br>paper_count=%{y}<extra></extra>",
         "legendgroup": "urban vegetation",
         "line": {
          "color": "#B19CD9",
          "dash": "solid"
         },
         "marker": {
          "symbol": "circle"
         },
         "mode": "lines+markers",
         "name": "urban vegetation",
         "orientation": "v",
         "showlegend": true,
         "type": "scatter",
         "x": {
          "bdata": "sgezB7QHtQe2B7cHuAe5B7oHuwe8B70Hvge/B8AHwQfCB8MHxAfFB8YHxwfIB8kHygfLB8wHzQfOB88H0AfRB9IH0wfUB9UH1gfXB9gH2QfaB9sH3AfdB94H3wfgB+EH4gfjB+QH5QfmB+cH",
          "dtype": "i2"
         },
         "xaxis": "x",
         "y": {
          "bdata": "DgAOABIAHgAcABwAGwAfABQAIQAbAEAAKQAlAB4AIAAtACsAMwA7ADkAQgA+AD8AQQBNAFMARQBYAGwAmACoAIEAtwDVAL0A7ABGAW4BkwFNAW0CBAMRA4UCJwPVA3oELwU+BFgCYwPkAwcF",
          "dtype": "i2"
         },
         "yaxis": "y"
        },
        {
         "hovertemplate": "search_keyword=urban wildlife<br>year=%{x}<br>paper_count=%{y}<extra></extra>",
         "legendgroup": "urban wildlife",
         "line": {
          "color": "#D67B7B",
          "dash": "solid"
         },
         "marker": {
          "symbol": "circle"
         },
         "mode": "lines+markers",
         "name": "urban wildlife",
         "orientation": "v",
         "showlegend": true,
         "type": "scatter",
         "x": {
          "bdata": "sgezB7QHtQe2B7cHuAe5B7oHuwe8B70Hvge/B8AHwQfCB8MHxAfFB8YHxwfIB8kHygfLB8wHzQfOB88H0AfRB9IH0wfUB9UH1gfXB9gH2QfaB9sH3AfdB94H3wfgB+EH4gfjB+QH5QfmB+cH",
          "dtype": "i2"
         },
         "xaxis": "x",
         "y": {
          "bdata": "CAALAA0ADwAPABMAEgATABEAEwAcAB8AIgASABcAEQAYABkAJQAvACgAIwAmADQAMQBAADYAOwBJAEYAVQB/AGYAbQCHAIMAowDKAM4A+QDNADgBcgHFAYYB9AE9AsEC4gI5AsMBBgKWAvYC",
          "dtype": "i2"
         },
         "yaxis": "y"
        }
       ],
       "layout": {
        "font": {
         "size": 12
        },
        "height": 600,
        "legend": {
         "title": {
          "text": "Keyword"
         },
         "tracegroupgap": 0
        },
        "template": {
         "data": {
          "bar": [
           {
            "error_x": {
             "color": "#f2f5fa"
            },
            "error_y": {
             "color": "#f2f5fa"
            },
            "marker": {
             "line": {
              "color": "rgb(17,17,17)",
              "width": 0.5
             },
             "pattern": {
              "fillmode": "overlay",
              "size": 10,
              "solidity": 0.2
             }
            },
            "type": "bar"
           }
          ],
          "barpolar": [
           {
            "marker": {
             "line": {
              "color": "rgb(17,17,17)",
              "width": 0.5
             },
             "pattern": {
              "fillmode": "overlay",
              "size": 10,
              "solidity": 0.2
             }
            },
            "type": "barpolar"
           }
          ],
          "carpet": [
           {
            "aaxis": {
             "endlinecolor": "#A2B1C6",
             "gridcolor": "#506784",
             "linecolor": "#506784",
             "minorgridcolor": "#506784",
             "startlinecolor": "#A2B1C6"
            },
            "baxis": {
             "endlinecolor": "#A2B1C6",
             "gridcolor": "#506784",
             "linecolor": "#506784",
             "minorgridcolor": "#506784",
             "startlinecolor": "#A2B1C6"
            },
            "type": "carpet"
           }
          ],
          "choropleth": [
           {
            "colorbar": {
             "outlinewidth": 0,
             "ticks": ""
            },
            "type": "choropleth"
           }
          ],
          "contour": [
           {
            "colorbar": {
             "outlinewidth": 0,
             "ticks": ""
            },
            "colorscale": [
             [
              0,
              "#0d0887"
             ],
             [
              0.1111111111111111,
              "#46039f"
             ],
             [
              0.2222222222222222,
              "#7201a8"
             ],
             [
              0.3333333333333333,
              "#9c179e"
             ],
             [
              0.4444444444444444,
              "#bd3786"
             ],
             [
              0.5555555555555556,
              "#d8576b"
             ],
             [
              0.6666666666666666,
              "#ed7953"
             ],
             [
              0.7777777777777778,
              "#fb9f3a"
             ],
             [
              0.8888888888888888,
              "#fdca26"
             ],
             [
              1,
              "#f0f921"
             ]
            ],
            "type": "contour"
           }
          ],
          "contourcarpet": [
           {
            "colorbar": {
             "outlinewidth": 0,
             "ticks": ""
            },
            "type": "contourcarpet"
           }
          ],
          "heatmap": [
           {
            "colorbar": {
             "outlinewidth": 0,
             "ticks": ""
            },
            "colorscale": [
             [
              0,
              "#0d0887"
             ],
             [
              0.1111111111111111,
              "#46039f"
             ],
             [
              0.2222222222222222,
              "#7201a8"
             ],
             [
              0.3333333333333333,
              "#9c179e"
             ],
             [
              0.4444444444444444,
              "#bd3786"
             ],
             [
              0.5555555555555556,
              "#d8576b"
             ],
             [
              0.6666666666666666,
              "#ed7953"
             ],
             [
              0.7777777777777778,
              "#fb9f3a"
             ],
             [
              0.8888888888888888,
              "#fdca26"
             ],
             [
              1,
              "#f0f921"
             ]
            ],
            "type": "heatmap"
           }
          ],
          "histogram": [
           {
            "marker": {
             "pattern": {
              "fillmode": "overlay",
              "size": 10,
              "solidity": 0.2
             }
            },
            "type": "histogram"
           }
          ],
          "histogram2d": [
           {
            "colorbar": {
             "outlinewidth": 0,
             "ticks": ""
            },
            "colorscale": [
             [
              0,
              "#0d0887"
             ],
             [
              0.1111111111111111,
              "#46039f"
             ],
             [
              0.2222222222222222,
              "#7201a8"
             ],
             [
              0.3333333333333333,
              "#9c179e"
             ],
             [
              0.4444444444444444,
              "#bd3786"
             ],
             [
              0.5555555555555556,
              "#d8576b"
             ],
             [
              0.6666666666666666,
              "#ed7953"
             ],
             [
              0.7777777777777778,
              "#fb9f3a"
             ],
             [
              0.8888888888888888,
              "#fdca26"
             ],
             [
              1,
              "#f0f921"
             ]
            ],
            "type": "histogram2d"
           }
          ],
          "histogram2dcontour": [
           {
            "colorbar": {
             "outlinewidth": 0,
             "ticks": ""
            },
            "colorscale": [
             [
              0,
              "#0d0887"
             ],
             [
              0.1111111111111111,
              "#46039f"
             ],
             [
              0.2222222222222222,
              "#7201a8"
             ],
             [
              0.3333333333333333,
              "#9c179e"
             ],
             [
              0.4444444444444444,
              "#bd3786"
             ],
             [
              0.5555555555555556,
              "#d8576b"
             ],
             [
              0.6666666666666666,
              "#ed7953"
             ],
             [
              0.7777777777777778,
              "#fb9f3a"
             ],
             [
              0.8888888888888888,
              "#fdca26"
             ],
             [
              1,
              "#f0f921"
             ]
            ],
            "type": "histogram2dcontour"
           }
          ],
          "mesh3d": [
           {
            "colorbar": {
             "outlinewidth": 0,
             "ticks": ""
            },
            "type": "mesh3d"
           }
          ],
          "parcoords": [
           {
            "line": {
             "colorbar": {
              "outlinewidth": 0,
              "ticks": ""
             }
            },
            "type": "parcoords"
           }
          ],
          "pie": [
           {
            "automargin": true,
            "type": "pie"
           }
          ],
          "scatter": [
           {
            "marker": {
             "line": {
              "color": "#283442"
             }
            },
            "type": "scatter"
           }
          ],
          "scatter3d": [
           {
            "line": {
             "colorbar": {
              "outlinewidth": 0,
              "ticks": ""
             }
            },
            "marker": {
             "colorbar": {
              "outlinewidth": 0,
              "ticks": ""
             }
            },
            "type": "scatter3d"
           }
          ],
          "scattercarpet": [
           {
            "marker": {
             "colorbar": {
              "outlinewidth": 0,
              "ticks": ""
             }
            },
            "type": "scattercarpet"
           }
          ],
          "scattergeo": [
           {
            "marker": {
             "colorbar": {
              "outlinewidth": 0,
              "ticks": ""
             }
            },
            "type": "scattergeo"
           }
          ],
          "scattergl": [
           {
            "marker": {
             "line": {
              "color": "#283442"
             }
            },
            "type": "scattergl"
           }
          ],
          "scattermap": [
           {
            "marker": {
             "colorbar": {
              "outlinewidth": 0,
              "ticks": ""
             }
            },
            "type": "scattermap"
           }
          ],
          "scattermapbox": [
           {
            "marker": {
             "colorbar": {
              "outlinewidth": 0,
              "ticks": ""
             }
            },
            "type": "scattermapbox"
           }
          ],
          "scatterpolar": [
           {
            "marker": {
             "colorbar": {
              "outlinewidth": 0,
              "ticks": ""
             }
            },
            "type": "scatterpolar"
           }
          ],
          "scatterpolargl": [
           {
            "marker": {
             "colorbar": {
              "outlinewidth": 0,
              "ticks": ""
             }
            },
            "type": "scatterpolargl"
           }
          ],
          "scatterternary": [
           {
            "marker": {
             "colorbar": {
              "outlinewidth": 0,
              "ticks": ""
             }
            },
            "type": "scatterternary"
           }
          ],
          "surface": [
           {
            "colorbar": {
             "outlinewidth": 0,
             "ticks": ""
            },
            "colorscale": [
             [
              0,
              "#0d0887"
             ],
             [
              0.1111111111111111,
              "#46039f"
             ],
             [
              0.2222222222222222,
              "#7201a8"
             ],
             [
              0.3333333333333333,
              "#9c179e"
             ],
             [
              0.4444444444444444,
              "#bd3786"
             ],
             [
              0.5555555555555556,
              "#d8576b"
             ],
             [
              0.6666666666666666,
              "#ed7953"
             ],
             [
              0.7777777777777778,
              "#fb9f3a"
             ],
             [
              0.8888888888888888,
              "#fdca26"
             ],
             [
              1,
              "#f0f921"
             ]
            ],
            "type": "surface"
           }
          ],
          "table": [
           {
            "cells": {
             "fill": {
              "color": "#506784"
             },
             "line": {
              "color": "rgb(17,17,17)"
             }
            },
            "header": {
             "fill": {
              "color": "#2a3f5f"
             },
             "line": {
              "color": "rgb(17,17,17)"
             }
            },
            "type": "table"
           }
          ]
         },
         "layout": {
          "annotationdefaults": {
           "arrowcolor": "#f2f5fa",
           "arrowhead": 0,
           "arrowwidth": 1
          },
          "autotypenumbers": "strict",
          "coloraxis": {
           "colorbar": {
            "outlinewidth": 0,
            "ticks": ""
           }
          },
          "colorscale": {
           "diverging": [
            [
             0,
             "#8e0152"
            ],
            [
             0.1,
             "#c51b7d"
            ],
            [
             0.2,
             "#de77ae"
            ],
            [
             0.3,
             "#f1b6da"
            ],
            [
             0.4,
             "#fde0ef"
            ],
            [
             0.5,
             "#f7f7f7"
            ],
            [
             0.6,
             "#e6f5d0"
            ],
            [
             0.7,
             "#b8e186"
            ],
            [
             0.8,
             "#7fbc41"
            ],
            [
             0.9,
             "#4d9221"
            ],
            [
             1,
             "#276419"
            ]
           ],
           "sequential": [
            [
             0,
             "#0d0887"
            ],
            [
             0.1111111111111111,
             "#46039f"
            ],
            [
             0.2222222222222222,
             "#7201a8"
            ],
            [
             0.3333333333333333,
             "#9c179e"
            ],
            [
             0.4444444444444444,
             "#bd3786"
            ],
            [
             0.5555555555555556,
             "#d8576b"
            ],
            [
             0.6666666666666666,
             "#ed7953"
            ],
            [
             0.7777777777777778,
             "#fb9f3a"
            ],
            [
             0.8888888888888888,
             "#fdca26"
            ],
            [
             1,
             "#f0f921"
            ]
           ],
           "sequentialminus": [
            [
             0,
             "#0d0887"
            ],
            [
             0.1111111111111111,
             "#46039f"
            ],
            [
             0.2222222222222222,
             "#7201a8"
            ],
            [
             0.3333333333333333,
             "#9c179e"
            ],
            [
             0.4444444444444444,
             "#bd3786"
            ],
            [
             0.5555555555555556,
             "#d8576b"
            ],
            [
             0.6666666666666666,
             "#ed7953"
            ],
            [
             0.7777777777777778,
             "#fb9f3a"
            ],
            [
             0.8888888888888888,
             "#fdca26"
            ],
            [
             1,
             "#f0f921"
            ]
           ]
          },
          "colorway": [
           "#636efa",
           "#EF553B",
           "#00cc96",
           "#ab63fa",
           "#FFA15A",
           "#19d3f3",
           "#FF6692",
           "#B6E880",
           "#FF97FF",
           "#FECB52"
          ],
          "font": {
           "color": "#f2f5fa"
          },
          "geo": {
           "bgcolor": "rgb(17,17,17)",
           "lakecolor": "rgb(17,17,17)",
           "landcolor": "rgb(17,17,17)",
           "showlakes": true,
           "showland": true,
           "subunitcolor": "#506784"
          },
          "hoverlabel": {
           "align": "left"
          },
          "hovermode": "closest",
          "mapbox": {
           "style": "dark"
          },
          "paper_bgcolor": "rgb(17,17,17)",
          "plot_bgcolor": "rgb(17,17,17)",
          "polar": {
           "angularaxis": {
            "gridcolor": "#506784",
            "linecolor": "#506784",
            "ticks": ""
           },
           "bgcolor": "rgb(17,17,17)",
           "radialaxis": {
            "gridcolor": "#506784",
            "linecolor": "#506784",
            "ticks": ""
           }
          },
          "scene": {
           "xaxis": {
            "backgroundcolor": "rgb(17,17,17)",
            "gridcolor": "#506784",
            "gridwidth": 2,
            "linecolor": "#506784",
            "showbackground": true,
            "ticks": "",
            "zerolinecolor": "#C8D4E3"
           },
           "yaxis": {
            "backgroundcolor": "rgb(17,17,17)",
            "gridcolor": "#506784",
            "gridwidth": 2,
            "linecolor": "#506784",
            "showbackground": true,
            "ticks": "",
            "zerolinecolor": "#C8D4E3"
           },
           "zaxis": {
            "backgroundcolor": "rgb(17,17,17)",
            "gridcolor": "#506784",
            "gridwidth": 2,
            "linecolor": "#506784",
            "showbackground": true,
            "ticks": "",
            "zerolinecolor": "#C8D4E3"
           }
          },
          "shapedefaults": {
           "line": {
            "color": "#f2f5fa"
           }
          },
          "sliderdefaults": {
           "bgcolor": "#C8D4E3",
           "bordercolor": "rgb(17,17,17)",
           "borderwidth": 1,
           "tickwidth": 0
          },
          "ternary": {
           "aaxis": {
            "gridcolor": "#506784",
            "linecolor": "#506784",
            "ticks": ""
           },
           "baxis": {
            "gridcolor": "#506784",
            "linecolor": "#506784",
            "ticks": ""
           },
           "bgcolor": "rgb(17,17,17)",
           "caxis": {
            "gridcolor": "#506784",
            "linecolor": "#506784",
            "ticks": ""
           }
          },
          "title": {
           "x": 0.05
          },
          "updatemenudefaults": {
           "bgcolor": "#506784",
           "borderwidth": 0
          },
          "xaxis": {
           "automargin": true,
           "gridcolor": "#283442",
           "linecolor": "#506784",
           "ticks": "",
           "title": {
            "standoff": 15
           },
           "zerolinecolor": "#283442",
           "zerolinewidth": 2
          },
          "yaxis": {
           "automargin": true,
           "gridcolor": "#283442",
           "linecolor": "#506784",
           "ticks": "",
           "title": {
            "standoff": 15
           },
           "zerolinecolor": "#283442",
           "zerolinewidth": 2
          }
         }
        },
        "title": {
         "text": "Research Papers Published by Year"
        },
        "width": 1000,
        "xaxis": {
         "anchor": "y",
         "domain": [
          0,
          1
         ],
         "dtick": 5,
         "showgrid": true,
         "tickangle": 45,
         "title": {
          "text": "Year"
         }
        },
        "yaxis": {
         "anchor": "x",
         "domain": [
          0,
          1
         ],
         "showgrid": true,
         "title": {
          "text": "Number of Papers"
         }
        }
       }
      }
     },
     "metadata": {},
     "output_type": "display_data"
    }
   ],
   "source": [
    "color_map = {\n",
    "    'urban ecology': '#6B9BD2',\n",
    "    'urban biodiversity': '#E6A366',\n",
    "    'urban green spaces': '#7FB069',\n",
    "    'urban wildlife': '#D67B7B',\n",
    "    'urban vegetation': '#B19CD9',\n",
    "    'urban ecosystem': '#E6A8D0',\n",
    "    'total': '#FFD700'\n",
    "}\n",
    "\n",
    "fig = px.line(\n",
    "    df_keywords,\n",
    "    x='year',\n",
    "    y='paper_count',\n",
    "    color='search_keyword',\n",
    "    color_discrete_map=color_map,\n",
    "    title='Research Papers Published by Year',\n",
    "    markers=True,\n",
    ")\n",
    "\n",
    "fig.update_layout(\n",
    "    xaxis_title='Year',\n",
    "    yaxis_title='Number of Papers',\n",
    "    legend_title='Keyword',\n",
    "    font=dict(size=12),\n",
    "    width=1000,\n",
    "    height=600,\n",
    "    template='plotly_dark',\n",
    "    xaxis=dict(showgrid=True,\n",
    "               dtick=5,\n",
    "               tickangle=45),\n",
    "    yaxis=dict(showgrid=True),\n",
    ")\n",
    "\n",
    "fig.show()\n"
   ]
  },
  {
   "cell_type": "markdown",
   "id": "14197968",
   "metadata": {},
   "source": [
    "Totals graph:"
   ]
  },
  {
   "cell_type": "code",
   "execution_count": 71,
   "id": "ff9d19e7",
   "metadata": {},
   "outputs": [
    {
     "data": {
      "application/vnd.plotly.v1+json": {
       "config": {
        "plotlyServerURL": "https://plot.ly"
       },
       "data": [
        {
         "hovertemplate": "search_keyword=total<br>year=%{x}<br>paper_count=%{y}<extra></extra>",
         "legendgroup": "total",
         "line": {
          "color": "#FFD700",
          "dash": "solid"
         },
         "marker": {
          "symbol": "circle"
         },
         "mode": "lines+markers",
         "name": "total",
         "orientation": "v",
         "showlegend": true,
         "type": "scatter",
         "x": {
          "bdata": "sgezB7QHtQe2B7cHuAe5B7oHuwe8B70Hvge/B8AHwQfCB8MHxAfFB8YHxwfIB8kHygfLB8wHzQfOB88H0AfRB9IH0wfUB9UH1gfXB9gH2QfaB9sH3AfdB94H3wfgB+EH4gfjB+QH5QfmB+cH",
          "dtype": "i2"
         },
         "xaxis": "x",
         "y": {
          "bdata": "KQA2AD8AWwBSAGAAZgBzAGEAfwCMANMAqgBzAIcAaACMAI4AugDuAOYA7AABAUIBMAGKAW8BYgHrASUCqQIKBPYC3gOhBIcEugUuB+gHyQnXCOsNtBLeEqAR6xgVHvYi9ilbJNAYxCBoJgMw",
          "dtype": "i2"
         },
         "yaxis": "y"
        }
       ],
       "layout": {
        "font": {
         "size": 12
        },
        "height": 600,
        "legend": {
         "title": {
          "text": "Keyword"
         },
         "tracegroupgap": 0
        },
        "template": {
         "data": {
          "bar": [
           {
            "error_x": {
             "color": "#f2f5fa"
            },
            "error_y": {
             "color": "#f2f5fa"
            },
            "marker": {
             "line": {
              "color": "rgb(17,17,17)",
              "width": 0.5
             },
             "pattern": {
              "fillmode": "overlay",
              "size": 10,
              "solidity": 0.2
             }
            },
            "type": "bar"
           }
          ],
          "barpolar": [
           {
            "marker": {
             "line": {
              "color": "rgb(17,17,17)",
              "width": 0.5
             },
             "pattern": {
              "fillmode": "overlay",
              "size": 10,
              "solidity": 0.2
             }
            },
            "type": "barpolar"
           }
          ],
          "carpet": [
           {
            "aaxis": {
             "endlinecolor": "#A2B1C6",
             "gridcolor": "#506784",
             "linecolor": "#506784",
             "minorgridcolor": "#506784",
             "startlinecolor": "#A2B1C6"
            },
            "baxis": {
             "endlinecolor": "#A2B1C6",
             "gridcolor": "#506784",
             "linecolor": "#506784",
             "minorgridcolor": "#506784",
             "startlinecolor": "#A2B1C6"
            },
            "type": "carpet"
           }
          ],
          "choropleth": [
           {
            "colorbar": {
             "outlinewidth": 0,
             "ticks": ""
            },
            "type": "choropleth"
           }
          ],
          "contour": [
           {
            "colorbar": {
             "outlinewidth": 0,
             "ticks": ""
            },
            "colorscale": [
             [
              0,
              "#0d0887"
             ],
             [
              0.1111111111111111,
              "#46039f"
             ],
             [
              0.2222222222222222,
              "#7201a8"
             ],
             [
              0.3333333333333333,
              "#9c179e"
             ],
             [
              0.4444444444444444,
              "#bd3786"
             ],
             [
              0.5555555555555556,
              "#d8576b"
             ],
             [
              0.6666666666666666,
              "#ed7953"
             ],
             [
              0.7777777777777778,
              "#fb9f3a"
             ],
             [
              0.8888888888888888,
              "#fdca26"
             ],
             [
              1,
              "#f0f921"
             ]
            ],
            "type": "contour"
           }
          ],
          "contourcarpet": [
           {
            "colorbar": {
             "outlinewidth": 0,
             "ticks": ""
            },
            "type": "contourcarpet"
           }
          ],
          "heatmap": [
           {
            "colorbar": {
             "outlinewidth": 0,
             "ticks": ""
            },
            "colorscale": [
             [
              0,
              "#0d0887"
             ],
             [
              0.1111111111111111,
              "#46039f"
             ],
             [
              0.2222222222222222,
              "#7201a8"
             ],
             [
              0.3333333333333333,
              "#9c179e"
             ],
             [
              0.4444444444444444,
              "#bd3786"
             ],
             [
              0.5555555555555556,
              "#d8576b"
             ],
             [
              0.6666666666666666,
              "#ed7953"
             ],
             [
              0.7777777777777778,
              "#fb9f3a"
             ],
             [
              0.8888888888888888,
              "#fdca26"
             ],
             [
              1,
              "#f0f921"
             ]
            ],
            "type": "heatmap"
           }
          ],
          "histogram": [
           {
            "marker": {
             "pattern": {
              "fillmode": "overlay",
              "size": 10,
              "solidity": 0.2
             }
            },
            "type": "histogram"
           }
          ],
          "histogram2d": [
           {
            "colorbar": {
             "outlinewidth": 0,
             "ticks": ""
            },
            "colorscale": [
             [
              0,
              "#0d0887"
             ],
             [
              0.1111111111111111,
              "#46039f"
             ],
             [
              0.2222222222222222,
              "#7201a8"
             ],
             [
              0.3333333333333333,
              "#9c179e"
             ],
             [
              0.4444444444444444,
              "#bd3786"
             ],
             [
              0.5555555555555556,
              "#d8576b"
             ],
             [
              0.6666666666666666,
              "#ed7953"
             ],
             [
              0.7777777777777778,
              "#fb9f3a"
             ],
             [
              0.8888888888888888,
              "#fdca26"
             ],
             [
              1,
              "#f0f921"
             ]
            ],
            "type": "histogram2d"
           }
          ],
          "histogram2dcontour": [
           {
            "colorbar": {
             "outlinewidth": 0,
             "ticks": ""
            },
            "colorscale": [
             [
              0,
              "#0d0887"
             ],
             [
              0.1111111111111111,
              "#46039f"
             ],
             [
              0.2222222222222222,
              "#7201a8"
             ],
             [
              0.3333333333333333,
              "#9c179e"
             ],
             [
              0.4444444444444444,
              "#bd3786"
             ],
             [
              0.5555555555555556,
              "#d8576b"
             ],
             [
              0.6666666666666666,
              "#ed7953"
             ],
             [
              0.7777777777777778,
              "#fb9f3a"
             ],
             [
              0.8888888888888888,
              "#fdca26"
             ],
             [
              1,
              "#f0f921"
             ]
            ],
            "type": "histogram2dcontour"
           }
          ],
          "mesh3d": [
           {
            "colorbar": {
             "outlinewidth": 0,
             "ticks": ""
            },
            "type": "mesh3d"
           }
          ],
          "parcoords": [
           {
            "line": {
             "colorbar": {
              "outlinewidth": 0,
              "ticks": ""
             }
            },
            "type": "parcoords"
           }
          ],
          "pie": [
           {
            "automargin": true,
            "type": "pie"
           }
          ],
          "scatter": [
           {
            "marker": {
             "line": {
              "color": "#283442"
             }
            },
            "type": "scatter"
           }
          ],
          "scatter3d": [
           {
            "line": {
             "colorbar": {
              "outlinewidth": 0,
              "ticks": ""
             }
            },
            "marker": {
             "colorbar": {
              "outlinewidth": 0,
              "ticks": ""
             }
            },
            "type": "scatter3d"
           }
          ],
          "scattercarpet": [
           {
            "marker": {
             "colorbar": {
              "outlinewidth": 0,
              "ticks": ""
             }
            },
            "type": "scattercarpet"
           }
          ],
          "scattergeo": [
           {
            "marker": {
             "colorbar": {
              "outlinewidth": 0,
              "ticks": ""
             }
            },
            "type": "scattergeo"
           }
          ],
          "scattergl": [
           {
            "marker": {
             "line": {
              "color": "#283442"
             }
            },
            "type": "scattergl"
           }
          ],
          "scattermap": [
           {
            "marker": {
             "colorbar": {
              "outlinewidth": 0,
              "ticks": ""
             }
            },
            "type": "scattermap"
           }
          ],
          "scattermapbox": [
           {
            "marker": {
             "colorbar": {
              "outlinewidth": 0,
              "ticks": ""
             }
            },
            "type": "scattermapbox"
           }
          ],
          "scatterpolar": [
           {
            "marker": {
             "colorbar": {
              "outlinewidth": 0,
              "ticks": ""
             }
            },
            "type": "scatterpolar"
           }
          ],
          "scatterpolargl": [
           {
            "marker": {
             "colorbar": {
              "outlinewidth": 0,
              "ticks": ""
             }
            },
            "type": "scatterpolargl"
           }
          ],
          "scatterternary": [
           {
            "marker": {
             "colorbar": {
              "outlinewidth": 0,
              "ticks": ""
             }
            },
            "type": "scatterternary"
           }
          ],
          "surface": [
           {
            "colorbar": {
             "outlinewidth": 0,
             "ticks": ""
            },
            "colorscale": [
             [
              0,
              "#0d0887"
             ],
             [
              0.1111111111111111,
              "#46039f"
             ],
             [
              0.2222222222222222,
              "#7201a8"
             ],
             [
              0.3333333333333333,
              "#9c179e"
             ],
             [
              0.4444444444444444,
              "#bd3786"
             ],
             [
              0.5555555555555556,
              "#d8576b"
             ],
             [
              0.6666666666666666,
              "#ed7953"
             ],
             [
              0.7777777777777778,
              "#fb9f3a"
             ],
             [
              0.8888888888888888,
              "#fdca26"
             ],
             [
              1,
              "#f0f921"
             ]
            ],
            "type": "surface"
           }
          ],
          "table": [
           {
            "cells": {
             "fill": {
              "color": "#506784"
             },
             "line": {
              "color": "rgb(17,17,17)"
             }
            },
            "header": {
             "fill": {
              "color": "#2a3f5f"
             },
             "line": {
              "color": "rgb(17,17,17)"
             }
            },
            "type": "table"
           }
          ]
         },
         "layout": {
          "annotationdefaults": {
           "arrowcolor": "#f2f5fa",
           "arrowhead": 0,
           "arrowwidth": 1
          },
          "autotypenumbers": "strict",
          "coloraxis": {
           "colorbar": {
            "outlinewidth": 0,
            "ticks": ""
           }
          },
          "colorscale": {
           "diverging": [
            [
             0,
             "#8e0152"
            ],
            [
             0.1,
             "#c51b7d"
            ],
            [
             0.2,
             "#de77ae"
            ],
            [
             0.3,
             "#f1b6da"
            ],
            [
             0.4,
             "#fde0ef"
            ],
            [
             0.5,
             "#f7f7f7"
            ],
            [
             0.6,
             "#e6f5d0"
            ],
            [
             0.7,
             "#b8e186"
            ],
            [
             0.8,
             "#7fbc41"
            ],
            [
             0.9,
             "#4d9221"
            ],
            [
             1,
             "#276419"
            ]
           ],
           "sequential": [
            [
             0,
             "#0d0887"
            ],
            [
             0.1111111111111111,
             "#46039f"
            ],
            [
             0.2222222222222222,
             "#7201a8"
            ],
            [
             0.3333333333333333,
             "#9c179e"
            ],
            [
             0.4444444444444444,
             "#bd3786"
            ],
            [
             0.5555555555555556,
             "#d8576b"
            ],
            [
             0.6666666666666666,
             "#ed7953"
            ],
            [
             0.7777777777777778,
             "#fb9f3a"
            ],
            [
             0.8888888888888888,
             "#fdca26"
            ],
            [
             1,
             "#f0f921"
            ]
           ],
           "sequentialminus": [
            [
             0,
             "#0d0887"
            ],
            [
             0.1111111111111111,
             "#46039f"
            ],
            [
             0.2222222222222222,
             "#7201a8"
            ],
            [
             0.3333333333333333,
             "#9c179e"
            ],
            [
             0.4444444444444444,
             "#bd3786"
            ],
            [
             0.5555555555555556,
             "#d8576b"
            ],
            [
             0.6666666666666666,
             "#ed7953"
            ],
            [
             0.7777777777777778,
             "#fb9f3a"
            ],
            [
             0.8888888888888888,
             "#fdca26"
            ],
            [
             1,
             "#f0f921"
            ]
           ]
          },
          "colorway": [
           "#636efa",
           "#EF553B",
           "#00cc96",
           "#ab63fa",
           "#FFA15A",
           "#19d3f3",
           "#FF6692",
           "#B6E880",
           "#FF97FF",
           "#FECB52"
          ],
          "font": {
           "color": "#f2f5fa"
          },
          "geo": {
           "bgcolor": "rgb(17,17,17)",
           "lakecolor": "rgb(17,17,17)",
           "landcolor": "rgb(17,17,17)",
           "showlakes": true,
           "showland": true,
           "subunitcolor": "#506784"
          },
          "hoverlabel": {
           "align": "left"
          },
          "hovermode": "closest",
          "mapbox": {
           "style": "dark"
          },
          "paper_bgcolor": "rgb(17,17,17)",
          "plot_bgcolor": "rgb(17,17,17)",
          "polar": {
           "angularaxis": {
            "gridcolor": "#506784",
            "linecolor": "#506784",
            "ticks": ""
           },
           "bgcolor": "rgb(17,17,17)",
           "radialaxis": {
            "gridcolor": "#506784",
            "linecolor": "#506784",
            "ticks": ""
           }
          },
          "scene": {
           "xaxis": {
            "backgroundcolor": "rgb(17,17,17)",
            "gridcolor": "#506784",
            "gridwidth": 2,
            "linecolor": "#506784",
            "showbackground": true,
            "ticks": "",
            "zerolinecolor": "#C8D4E3"
           },
           "yaxis": {
            "backgroundcolor": "rgb(17,17,17)",
            "gridcolor": "#506784",
            "gridwidth": 2,
            "linecolor": "#506784",
            "showbackground": true,
            "ticks": "",
            "zerolinecolor": "#C8D4E3"
           },
           "zaxis": {
            "backgroundcolor": "rgb(17,17,17)",
            "gridcolor": "#506784",
            "gridwidth": 2,
            "linecolor": "#506784",
            "showbackground": true,
            "ticks": "",
            "zerolinecolor": "#C8D4E3"
           }
          },
          "shapedefaults": {
           "line": {
            "color": "#f2f5fa"
           }
          },
          "sliderdefaults": {
           "bgcolor": "#C8D4E3",
           "bordercolor": "rgb(17,17,17)",
           "borderwidth": 1,
           "tickwidth": 0
          },
          "ternary": {
           "aaxis": {
            "gridcolor": "#506784",
            "linecolor": "#506784",
            "ticks": ""
           },
           "baxis": {
            "gridcolor": "#506784",
            "linecolor": "#506784",
            "ticks": ""
           },
           "bgcolor": "rgb(17,17,17)",
           "caxis": {
            "gridcolor": "#506784",
            "linecolor": "#506784",
            "ticks": ""
           }
          },
          "title": {
           "x": 0.05
          },
          "updatemenudefaults": {
           "bgcolor": "#506784",
           "borderwidth": 0
          },
          "xaxis": {
           "automargin": true,
           "gridcolor": "#283442",
           "linecolor": "#506784",
           "ticks": "",
           "title": {
            "standoff": 15
           },
           "zerolinecolor": "#283442",
           "zerolinewidth": 2
          },
          "yaxis": {
           "automargin": true,
           "gridcolor": "#283442",
           "linecolor": "#506784",
           "ticks": "",
           "title": {
            "standoff": 15
           },
           "zerolinecolor": "#283442",
           "zerolinewidth": 2
          }
         }
        },
        "title": {
         "text": "Research Papers Published by Year"
        },
        "width": 1000,
        "xaxis": {
         "anchor": "y",
         "domain": [
          0,
          1
         ],
         "dtick": 5,
         "showgrid": true,
         "tickangle": 45,
         "title": {
          "text": "Year"
         }
        },
        "yaxis": {
         "anchor": "x",
         "domain": [
          0,
          1
         ],
         "showgrid": true,
         "title": {
          "text": "Number of Papers"
         }
        }
       }
      }
     },
     "metadata": {},
     "output_type": "display_data"
    }
   ],
   "source": [
    "fig = px.line(\n",
    "    df_totals,\n",
    "    x='year',\n",
    "    y='paper_count',\n",
    "    color='search_keyword',\n",
    "    color_discrete_map=color_map,\n",
    "    title='Research Papers Published by Year',\n",
    "    markers=True,\n",
    ")\n",
    "\n",
    "fig.update_layout(\n",
    "    xaxis_title='Year',\n",
    "    yaxis_title='Number of Papers',\n",
    "    legend_title='Keyword',\n",
    "    font=dict(size=12),\n",
    "    width=1000,\n",
    "    height=600,\n",
    "    template='plotly_dark',\n",
    "    xaxis=dict(showgrid=True,\n",
    "               dtick=5,\n",
    "               tickangle=45),\n",
    "    yaxis=dict(showgrid=True),\n",
    ")\n",
    "\n",
    "fig.show()"
   ]
  },
  {
   "cell_type": "markdown",
   "id": "83404bac",
   "metadata": {},
   "source": [
    "# Regression Analysis on All Papers Published"
   ]
  },
  {
   "cell_type": "markdown",
   "id": "c11bb3db",
   "metadata": {},
   "source": [
    "We'll start with a standard linear regression analysis, then later do a log transform to fit our data to an exponentail growth and see what fits better. The results may change depending on our dataset (year range we choose to obtain our paper data) "
   ]
  },
  {
   "cell_type": "code",
   "execution_count": 75,
   "id": "d5001e2b",
   "metadata": {},
   "outputs": [
    {
     "data": {
      "image/png": "[encoded data removed]",
      "text/plain": [
       "<Figure size 1600x800 with 1 Axes>"
      ]
     },
     "metadata": {},
     "output_type": "display_data"
    }
   ],
   "source": [
    "plt.style.use('dark_background')\n",
    "plt.figure(figsize=(8,4), dpi=200)\n",
    "\n",
    "with sns.axes_style('darkgrid', rc={\n",
    "    'axes.facecolor': '#1e1e1e',\n",
    "    'figure.facecolor': '#121212',\n",
    "    'grid.color': '#444444',\n",
    "    'text.color': 'white',\n",
    "    'xtick.color': 'white',\n",
    "    'ytick.color': 'white',\n",
    "    'axes.labelcolor': 'white',\n",
    "    'axes.edgecolor': 'white',\n",
    "}):\n",
    "    with np.errstate(divide='ignore', over='ignore', invalid='ignore'):\n",
    "        sns.regplot(\n",
    "                data=df_totals,\n",
    "                x='year',\n",
    "                y='paper_count',\n",
    "                scatter_kws={\n",
    "                    'marker': 'o',\n",
    "                    's': 50,\n",
    "                    'alpha': 0.7,\n",
    "                    'color': '#FFD700'\n",
    "                    },\n",
    "                line_kws={\n",
    "                    'linewidth': 2,\n",
    "                    'alpha': 0.8,\n",
    "                    'color': '#B41D3B'\n",
    "                    },\n",
    "            )\n",
    "\n",
    "plt.title('Published Paper Count Regression Analysis')\n",
    "plt.ylabel('Papers Published')\n",
    "    \n",
    "plt.show()\n"
   ]
  },
  {
   "cell_type": "code",
   "execution_count": 76,
   "id": "16f6c995",
   "metadata": {},
   "outputs": [
    {
     "name": "stdout",
     "output_type": "stream",
     "text": [
      "R² Score: 0.644\n",
      "Coefficient 169.32\n"
     ]
    }
   ],
   "source": [
    "regression = LinearRegression()\n",
    "X = pd.DataFrame(df_totals, columns=['year'])\n",
    "y = pd.DataFrame(df_totals, columns=['paper_count'])\n",
    "regression.fit(X, y)\n",
    "print(f'R² Score: {round(regression.score(X, y),3)}')\n",
    "print(f'Coefficient {round(regression.coef_[0][0],2)}')"
   ]
  },
  {
   "cell_type": "markdown",
   "id": "4dbaa093",
   "metadata": {},
   "source": [
    "The linear model shows a poor fit. Below I'll perform the log transform to see if an exponential growth model fits better my data."
   ]
  },
  {
   "cell_type": "code",
   "execution_count": 77,
   "id": "77e7499a",
   "metadata": {},
   "outputs": [
    {
     "data": {
      "image/png": "[encoded data removed]",
      "text/plain": [
       "<Figure size 1600x800 with 1 Axes>"
      ]
     },
     "metadata": {},
     "output_type": "display_data"
    }
   ],
   "source": [
    "df_log = df_totals.copy()\n",
    "df_log['paper_count_log'] = np.log(df_log['paper_count'] + 1)\n",
    "\n",
    "plt.figure(figsize=(8,4), dpi=200)\n",
    "with sns.axes_style('darkgrid', rc={\n",
    "    'axes.facecolor': '#1e1e1e',\n",
    "    'figure.facecolor': '#121212',\n",
    "    'grid.color': '#444444',\n",
    "    'text.color': 'white',\n",
    "    'xtick.color': 'white',\n",
    "    'ytick.color': 'white',\n",
    "    'axes.labelcolor': 'white',\n",
    "    'axes.edgecolor': 'white',\n",
    "}):\n",
    "    with np.errstate(divide='ignore', over='ignore', invalid='ignore'):        \n",
    "        sns.regplot(\n",
    "                data=df_log,\n",
    "                x='year',\n",
    "                y='paper_count_log',\n",
    "                scatter_kws={\n",
    "                    'marker': 'o',\n",
    "                    's': 50,\n",
    "                    'alpha': 0.7,\n",
    "                    'color': '#FFD700'\n",
    "                    },\n",
    "                line_kws={\n",
    "                    'linewidth': 2,\n",
    "                    'alpha': 0.8,\n",
    "                    'color': '#B41D3B'\n",
    "                    },\n",
    "            )\n",
    "\n",
    "plt.title('Published Paper Count - Log Scale (Test for Exponential Growth)')\n",
    "plt.ylabel('Log(Papers Published)')\n",
    "plt.show()\n"
   ]
  },
  {
   "cell_type": "code",
   "execution_count": 78,
   "id": "2e2340e8",
   "metadata": {},
   "outputs": [
    {
     "name": "stdout",
     "output_type": "stream",
     "text": [
      "R² Score: 0.96\n",
      "Coefficient 0.11\n",
      "Growth rate: 9.42% per year\n"
     ]
    }
   ],
   "source": [
    "y_log = np.log(y + 1)\n",
    "regression.fit(X, y_log)\n",
    "print(f'R² Score: {round(regression.score(X, y_log),3)}')\n",
    "print(f'Coefficient {round(regression.coef_[0][0],2)}')\n",
    "growth_rate = (np.exp(0.09) - 1) * 100\n",
    "print(f'Growth rate: {growth_rate:.2f}% per year')"
   ]
  },
  {
   "cell_type": "markdown",
   "id": "3ae4b4cb",
   "metadata": {},
   "source": [
    "We see a great fit in this case, indicating the growth is exponential. Although, a plateau at some point is likely due to real world limits regarding to scientific research and production. Infinite growth is unrealistic.\n",
    "\n",
    "Now let's analyze the data per keyword, and go a little deeper into the data."
   ]
  },
  {
   "cell_type": "markdown",
   "id": "62724f6f",
   "metadata": {},
   "source": [
    "# Per Keyword Analysis"
   ]
  },
  {
   "cell_type": "markdown",
   "id": "86b6fc5f",
   "metadata": {},
   "source": [
    "We'll do the same as above, starting with the linear regression analysis, then moving the to the exponential growth analysis (log transform)."
   ]
  },
  {
   "cell_type": "code",
   "execution_count": 149,
   "id": "e43954bb",
   "metadata": {},
   "outputs": [
    {
     "name": "stdout",
     "output_type": "stream",
     "text": [
      "COMPREHENSIVE GROWTH ANALYSIS\n",
      "================================================================================\n",
      "\n",
      "MODEL COMPARISON RESULTS:\n",
      "------------------------------------------------------------\n",
      "              keyword  r_squared_linear  r_squared_log   better_fit  \\\n",
      "2     urban ecosystem          0.615529       0.952564  Exponential   \n",
      "3  urban green spaces          0.615049       0.946375  Exponential   \n",
      "1       urban ecology          0.646892       0.947195  Exponential   \n",
      "0  urban biodiversity          0.674296       0.939802  Exponential   \n",
      "4    urban vegetation          0.693672       0.946765  Exponential   \n",
      "5      urban wildlife          0.719227       0.961730  Exponential   \n",
      "\n",
      "   annual_growth_rate_percent  r_squared_difference  \n",
      "2                   12.294559              0.337035  \n",
      "3                   12.061090              0.331326  \n",
      "1                   10.617228              0.300303  \n",
      "0                   17.977592              0.265506  \n",
      "4                    8.853252              0.253093  \n",
      "5                    8.589296              0.242503  \n",
      "\n",
      "\n",
      "LOGARITHMIC REGRESSION RESULTS (Testing Exponential Growth):\n",
      "--------------------------------------------------------------------------------\n",
      "              keyword  annual_growth_rate_percent  doubling_time_years  \\\n",
      "0  urban biodiversity                   17.977592             4.192646   \n",
      "2     urban ecosystem                   12.294559             5.977714   \n",
      "3  urban green spaces                   12.061090             6.086967   \n",
      "1       urban ecology                   10.617228             6.869259   \n",
      "4    urban vegetation                    8.853252             8.170969   \n",
      "5      urban wildlife                    8.589296             8.411710   \n",
      "\n",
      "   r_squared       p_value                    trend_interpretation  \n",
      "0   0.939802  2.080995e-25  Significantly increasing (exponential)  \n",
      "2   0.952564  4.273582e-36  Significantly increasing (exponential)  \n",
      "3   0.946375  1.039787e-34  Significantly increasing (exponential)  \n",
      "1   0.947195  6.963555e-35  Significantly increasing (exponential)  \n",
      "4   0.946765  8.598278e-35  Significantly increasing (exponential)  \n",
      "5   0.961730  1.600434e-38  Significantly increasing (exponential)  \n"
     ]
    },
    {
     "data": {
      "image/png": "[encoded data removed]",
      "text/plain": [
       "<Figure size 1600x1800 with 6 Axes>"
      ]
     },
     "metadata": {},
     "output_type": "display_data"
    },
    {
     "name": "stdout",
     "output_type": "stream",
     "text": [
      "\n",
      "================================================================================\n",
      "KEY INSIGHTS - GROWTH PATTERN ANALYSIS:\n",
      "================================================================================\n",
      "Fastest linear growth: urban green spaces (46.35 papers/year)\n",
      "Fastest exponential growth: urban biodiversity (18.0% per year)\n",
      "  - Doubling time: 4.2 years\n",
      "Fields better explained by exponential growth: 6/6 (100.0%)\n",
      "Significant linear trends: 6/6\n",
      "Significant exponential trends: 6/6\n",
      "Biggest improvement with exponential model: urban ecosystem (ΔR² = +0.337)\n"
     ]
    }
   ],
   "source": [
    "def linear_trend_analysis(df_keywords):\n",
    "    \"\"\"\n",
    "    Perform linear regression analysis for each keyword\n",
    "    Returns comprehensive trend statistics\n",
    "    \"\"\"\n",
    "    results = []\n",
    "    \n",
    "    for keyword in df_keywords['search_keyword'].unique():\n",
    "        keyword_data = df_keywords[df_keywords['search_keyword'] == keyword].sort_values('year')\n",
    "        years = keyword_data['year'].values\n",
    "        counts = keyword_data['paper_count'].values\n",
    "        \n",
    "        slope, intercept, r_value, p_value, std_err = linregress(years, counts)\n",
    "        \n",
    "        r_squared = r_value**2\n",
    "        \n",
    "        n = len(years)\n",
    "        t_val = stats.t.ppf(0.975, n-2)\n",
    "        slope_ci_lower = slope - t_val * std_err\n",
    "        slope_ci_upper = slope + t_val * std_err\n",
    "        \n",
    "        if p_value < 0.05:\n",
    "            if slope > 0:\n",
    "                trend_interpretation = 'Significantly increasing'\n",
    "            else:\n",
    "                trend_interpretation = 'Significantly decreasing'\n",
    "        else:\n",
    "            trend_interpretation = 'No significant trend'\n",
    "        \n",
    "        total_papers = counts.sum()\n",
    "        avg_papers_per_year = counts.mean()\n",
    "        \n",
    "        results.append({\n",
    "            'keyword': keyword,\n",
    "            'slope_papers_per_year': slope,\n",
    "            'intercept': intercept,\n",
    "            'r_squared': r_squared,\n",
    "            'p_value': p_value,\n",
    "            'std_error': std_err,\n",
    "            'slope_ci_lower': slope_ci_lower,\n",
    "            'slope_ci_upper': slope_ci_upper,\n",
    "            'trend_interpretation': trend_interpretation,\n",
    "            'total_papers': total_papers,\n",
    "            'avg_papers_per_year': avg_papers_per_year,\n",
    "            'significant_trend': p_value < 0.05,\n",
    "            'years_analyzed': n\n",
    "        })\n",
    "    \n",
    "    return pd.DataFrame(results)\n",
    "\n",
    "def log_trend_analysis(df_keywords, min_papers=1):\n",
    "    \"\"\"\n",
    "    Perform logarithmic regression analysis for each keyword to test exponential growth\n",
    "    Uses log(paper_count + 1) to handle zero values\n",
    "    Returns comprehensive trend statistics for exponential growth patterns\n",
    "    \"\"\"\n",
    "    results = []\n",
    "    \n",
    "    for keyword in df_keywords['search_keyword'].unique():\n",
    "        keyword_data = df_keywords[df_keywords['search_keyword'] == keyword].sort_values('year')\n",
    "        years = keyword_data['year'].values\n",
    "        counts = keyword_data['paper_count'].values\n",
    "        \n",
    "        # Filter out years with very low counts if specified\n",
    "        if min_papers > 0:\n",
    "            valid_mask = counts >= min_papers\n",
    "            if valid_mask.sum() < 3:  # Need at least 3 points for regression\n",
    "                continue\n",
    "            years = years[valid_mask]\n",
    "            counts = counts[valid_mask]\n",
    "        \n",
    "        # Log transform: log(count + 1) to handle zeros\n",
    "        log_counts = np.log(counts + 1)\n",
    "        \n",
    "        # Skip if we don't have enough valid data points\n",
    "        if len(years) < 3:\n",
    "            continue\n",
    "            \n",
    "        slope, intercept, r_value, p_value, std_err = linregress(years, log_counts)\n",
    "        \n",
    "        r_squared = r_value**2\n",
    "        \n",
    "        n = len(years)\n",
    "        t_val = stats.t.ppf(0.975, n-2)\n",
    "        slope_ci_lower = slope - t_val * std_err\n",
    "        slope_ci_upper = slope + t_val * std_err\n",
    "        \n",
    "        # Calculate annual growth rate percentage\n",
    "        # If log(y) = slope*x + intercept, then y = exp(intercept) * exp(slope)^x\n",
    "        # Annual growth rate = (exp(slope) - 1) * 100\n",
    "        annual_growth_rate = (np.exp(slope) - 1) * 100\n",
    "        \n",
    "        if p_value < 0.05:\n",
    "            if slope > 0:\n",
    "                trend_interpretation = 'Significantly increasing (exponential)'\n",
    "            else:\n",
    "                trend_interpretation = 'Significantly decreasing (exponential)'\n",
    "        else:\n",
    "            trend_interpretation = 'No significant exponential trend'\n",
    "        \n",
    "        total_papers = counts.sum()\n",
    "        avg_papers_per_year = counts.mean()\n",
    "        \n",
    "        # Calculate doubling time (only meaningful for positive growth)\n",
    "        doubling_time = np.log(2) / slope if slope > 0 else np.inf\n",
    "        \n",
    "        results.append({\n",
    "            'keyword': keyword,\n",
    "            'log_slope': slope,\n",
    "            'log_intercept': intercept,\n",
    "            'r_squared': r_squared,\n",
    "            'p_value': p_value,\n",
    "            'std_error': std_err,\n",
    "            'slope_ci_lower': slope_ci_lower,\n",
    "            'slope_ci_upper': slope_ci_upper,\n",
    "            'annual_growth_rate_percent': annual_growth_rate,\n",
    "            'doubling_time_years': doubling_time,\n",
    "            'trend_interpretation': trend_interpretation,\n",
    "            'total_papers': total_papers,\n",
    "            'avg_papers_per_year': avg_papers_per_year,\n",
    "            'significant_trend': p_value < 0.05,\n",
    "            'years_analyzed': n\n",
    "        })\n",
    "    \n",
    "    return pd.DataFrame(results)\n",
    "\n",
    "def compare_linear_vs_exponential(df_keywords, min_papers=1):\n",
    "    \"\"\"\n",
    "    Compare linear vs exponential growth models for each keyword\n",
    "    Returns comparison results\n",
    "    \"\"\"\n",
    "    linear_results = linear_trend_analysis(df_keywords)\n",
    "    log_results = log_trend_analysis(df_keywords, min_papers)\n",
    "    \n",
    "    # Merge results for comparison\n",
    "    comparison = pd.merge(linear_results[['keyword', 'r_squared', 'p_value', 'significant_trend']], \n",
    "                         log_results[['keyword', 'r_squared', 'p_value', 'significant_trend', 'annual_growth_rate_percent', 'doubling_time_years']], \n",
    "                         on='keyword', suffixes=('_linear', '_log'))\n",
    "    \n",
    "    # Determine better fit\n",
    "    comparison['better_fit'] = np.where(comparison['r_squared_log'] > comparison['r_squared_linear'], \n",
    "                                       'Exponential', 'Linear')\n",
    "    comparison['r_squared_difference'] = comparison['r_squared_log'] - comparison['r_squared_linear']\n",
    "    \n",
    "    return comparison, linear_results, log_results\n",
    "\n",
    "\n",
    "print('COMPREHENSIVE GROWTH ANALYSIS')\n",
    "print('=' * 80)\n",
    "\n",
    "\n",
    "df_keywords = df_keywords\n",
    "comparison, linear_results, log_results = compare_linear_vs_exponential(df_keywords, min_papers=1)\n",
    "\n",
    "print('\\nMODEL COMPARISON RESULTS:')\n",
    "print('-' * 60)\n",
    "display_cols = ['keyword', 'r_squared_linear', 'r_squared_log', 'better_fit', \n",
    "                'annual_growth_rate_percent', 'r_squared_difference']\n",
    "print(comparison[display_cols].sort_values('r_squared_difference', ascending=False))\n",
    "\n",
    "print('\\n\\nLOGARITHMIC REGRESSION RESULTS (Testing Exponential Growth):')\n",
    "print('-' * 80)\n",
    "log_display_cols = ['keyword', 'annual_growth_rate_percent', 'doubling_time_years', \n",
    "                   'r_squared', 'p_value', 'trend_interpretation']\n",
    "print(log_results[log_display_cols].sort_values('annual_growth_rate_percent', ascending=False))\n",
    "\n",
    "fig, axes = plt.subplots(3, 2, figsize=(16, 18))\n",
    "\n",
    "# 1. R-squared comparison\n",
    "ax1 = axes[0, 0]\n",
    "x_pos = np.arange(len(comparison))\n",
    "width = 0.35\n",
    "ax1.bar(x_pos - width/2, comparison['r_squared_linear'], width, label='Linear Model', alpha=0.7, color='blue')\n",
    "ax1.bar(x_pos + width/2, comparison['r_squared_log'], width, label='Exponential Model', alpha=0.7, color='red')\n",
    "ax1.set_xticks(x_pos)\n",
    "ax1.set_xticklabels(comparison['keyword'], rotation=45, ha='right')\n",
    "ax1.set_ylabel('R-squared Value')\n",
    "ax1.set_title('Model Fit Comparison: Linear vs Exponential')\n",
    "ax1.legend(bbox_to_anchor=(1.05, 1), loc='upper left', fontsize=10)\n",
    "ax1.grid(True, alpha=0.3)\n",
    "\n",
    "# 2. Annual growth rates from exponential model\n",
    "ax2 = axes[0, 1]\n",
    "growth_rates = log_results['annual_growth_rate_percent']\n",
    "colors = ['green' if sig else 'red' for sig in log_results['significant_trend']]\n",
    "bars = ax2.bar(range(len(log_results)), growth_rates, color=colors, alpha=0.7)\n",
    "ax2.set_xticks(range(len(log_results)))\n",
    "ax2.set_xticklabels(log_results['keyword'], rotation=45, ha='right')\n",
    "ax2.set_ylabel('Annual Growth Rate (%)')\n",
    "ax2.set_title('Annual Growth Rates (Exponential Model)\\n(Green = Significant, Red = Not Significant)')\n",
    "ax2.axhline(y=0, color='black', linestyle='-', alpha=0.3)\n",
    "ax2.grid(True, alpha=0.3)\n",
    "\n",
    "for bar, rate in zip(bars, growth_rates):\n",
    "    if not np.isnan(rate) and abs(rate) < 1000:\n",
    "        ax2.text(bar.get_x() + bar.get_width()/2, bar.get_height() + 0.1, \n",
    "                f'{rate:.1f}%', ha='center', va='bottom', fontsize=8)\n",
    "\n",
    "# 3. Doubling times (only for positive growth)\n",
    "ax3 = axes[1, 0]\n",
    "finite_doubling = log_results[log_results['doubling_time_years'] != np.inf]\n",
    "if len(finite_doubling) > 0:\n",
    "    ax3.bar(range(len(finite_doubling)), finite_doubling['doubling_time_years'], alpha=0.7, color='orange')\n",
    "    ax3.set_xticks(range(len(finite_doubling)))\n",
    "    ax3.set_xticklabels(finite_doubling['keyword'], rotation=45, ha='right')\n",
    "    ax3.set_ylabel('Years to Double')\n",
    "    ax3.set_title('Doubling Time (Years) - Growing Fields Only')\n",
    "    ax3.grid(True, alpha=0.3)\n",
    "else:\n",
    "    ax3.text(0.5, 0.5, 'No fields with\\npositive exponential growth', \n",
    "            ha='center', va='center', transform=ax3.transAxes, fontsize=12)\n",
    "    ax3.set_title('Doubling Time (Years)')\n",
    "\n",
    "# 4. Linear trend slopes with confidence intervals (conditional on better fit)\n",
    "ax4 = axes[1, 1]\n",
    "\n",
    "linear_better_mask = comparison['better_fit'] == 'Linear'\n",
    "if linear_better_mask.any():\n",
    "    linear_better_keywords = comparison[linear_better_mask]['keyword'].tolist()\n",
    "    linear_subset = linear_results[linear_results['keyword'].isin(linear_better_keywords)]\n",
    "    \n",
    "    colors = ['green' if sig else 'red' for sig in linear_subset['significant_trend']]\n",
    "    keywords = linear_subset['keyword']\n",
    "    slopes = linear_subset['slope_papers_per_year']\n",
    "    ci_lower = linear_subset['slope_ci_lower']\n",
    "    ci_upper = linear_subset['slope_ci_upper']\n",
    "    \n",
    "    y_pos = np.arange(len(keywords))\n",
    "    ax4.barh(y_pos, slopes, color=colors, alpha=0.7)\n",
    "    ax4.errorbar(slopes, y_pos, xerr=[slopes - ci_lower, ci_upper - slopes], \n",
    "                fmt='none', color='black', capsize=5)\n",
    "    ax4.set_yticks(y_pos)\n",
    "    ax4.set_yticklabels(keywords)\n",
    "    ax4.set_xlabel('Growth Rate (Papers per Year)')\n",
    "    ax4.set_title('Linear Growth Rates (Linear Model Fits Better)\\n(Green = Significant, Red = Not Significant)')\n",
    "    ax4.axvline(x=0, color='black', linestyle='--', alpha=0.5)\n",
    "    ax4.grid(True, alpha=0.3)\n",
    "else:\n",
    "    ax4.text(0.5, 0.5, 'No keywords have\\nbetter linear fits', \n",
    "            ha='center', va='center', transform=ax4.transAxes, fontsize=12)\n",
    "    ax4.set_title('Linear Growth Rates (Linear Model Fits Better)')\n",
    "    ax4.set_xlabel('Growth Rate (Papers per Year)')\n",
    "    ax4.set_ylabel('Keywords')\n",
    "\n",
    "# 5. Actual vs Predicted - Linear Model\n",
    "ax5 = axes[2, 0]\n",
    "for i, keyword in enumerate(linear_results['keyword']):\n",
    "    keyword_data = df_keywords[df_keywords['search_keyword'] == keyword].sort_values('year')\n",
    "    years = keyword_data['year'].values\n",
    "    counts = keyword_data['paper_count'].values\n",
    "    \n",
    "    slope = linear_results[linear_results['keyword'] == keyword]['slope_papers_per_year'].iloc[0]\n",
    "    intercept = linear_results[linear_results['keyword'] == keyword]['intercept'].iloc[0]\n",
    "    predicted = slope * years + intercept\n",
    "    \n",
    "    try:\n",
    "        color = color_map.get(keyword, plt.cm.tab10(i % 10))\n",
    "    except:\n",
    "        color = plt.cm.tab10(i % 10)\n",
    "    \n",
    "    ax5.scatter(predicted, counts, alpha=0.7, label=keyword, s=30, color=color)\n",
    "\n",
    "# Perfect prediction line\n",
    "max_val = max(ax5.get_xlim()[1], ax5.get_ylim()[1])\n",
    "min_val = min(ax5.get_xlim()[0], ax5.get_ylim()[0])\n",
    "ax5.plot([min_val, max_val], [min_val, max_val], 'w--', alpha=0.5, label='Perfect Prediction')\n",
    "ax5.set_xlabel('Predicted Papers (Linear Model)')\n",
    "ax5.set_ylabel('Actual Papers')\n",
    "ax5.set_title('Actual vs Predicted: Linear Model')\n",
    "ax5.legend(bbox_to_anchor=(1.05, 1), loc='upper left', fontsize=10)\n",
    "ax5.grid(True, alpha=0.3)\n",
    "\n",
    "# 6. Actual vs Predicted - Exponential Model\n",
    "ax6 = axes[2, 1]\n",
    "\n",
    "all_actual_exp = []\n",
    "all_predicted_exp = []\n",
    "\n",
    "for i, keyword in enumerate(log_results['keyword']):\n",
    "    keyword_data = df_keywords[df_keywords['search_keyword'] == keyword].sort_values('year')\n",
    "    years = keyword_data['year'].values\n",
    "    counts = keyword_data['paper_count'].values\n",
    "    \n",
    "    min_papers = 1\n",
    "    valid_mask = counts >= min_papers\n",
    "    if valid_mask.sum() < 3:\n",
    "        continue\n",
    "    \n",
    "    years_filtered = years[valid_mask]\n",
    "    counts_filtered = counts[valid_mask]\n",
    "    \n",
    "    log_slope = log_results[log_results['keyword'] == keyword]['log_slope'].iloc[0]\n",
    "    log_intercept = log_results[log_results['keyword'] == keyword]['log_intercept'].iloc[0]\n",
    "    \n",
    "    predicted_log = log_slope * years_filtered + log_intercept\n",
    "    predicted_counts = np.exp(predicted_log) - 1\n",
    "    \n",
    "    all_actual_exp.extend(counts_filtered)\n",
    "    all_predicted_exp.extend(predicted_counts)\n",
    "    \n",
    "    try:\n",
    "        color = color_map.get(keyword, plt.cm.tab10(i % 10))\n",
    "    except:\n",
    "        color = plt.cm.tab10(i % 10)\n",
    "    \n",
    "    ax6.scatter(predicted_counts, counts_filtered, alpha=0.7, label=keyword, s=30, color=color)\n",
    "\n",
    "# Perfect prediction line\n",
    "if len(all_actual_exp) > 0:\n",
    "    max_val = max(max(all_predicted_exp), max(all_actual_exp))\n",
    "    min_val = max(0, min(min(all_predicted_exp), min(all_actual_exp)))  # Don't go below 0\n",
    "    ax6.plot([min_val, max_val], [min_val, max_val], 'w--', alpha=0.5, label='Perfect Prediction')\n",
    "    \n",
    "    if len(all_actual_exp) > 1:\n",
    "        ss_res = np.sum((np.array(all_actual_exp) - np.array(all_predicted_exp)) ** 2)\n",
    "        ss_tot = np.sum((np.array(all_actual_exp) - np.mean(all_actual_exp)) ** 2)\n",
    "        r_squared_combined = 1 - (ss_res / ss_tot) if ss_tot > 0 else 0\n",
    "        ax6.text(0.05, 0.95, f'Combined R² = {r_squared_combined:.3f}', \n",
    "                transform=ax6.transAxes, bbox=dict(boxstyle=\"round,pad=0.3\", facecolor=\"darkgray\", alpha=0.8))\n",
    "\n",
    "ax6.set_xlabel('Predicted Papers (Exponential Model)')\n",
    "ax6.set_ylabel('Actual Papers')\n",
    "ax6.set_title('Actual vs Predicted: Exponential Model')\n",
    "ax6.grid(True, alpha=0.3)\n",
    "\n",
    "if len(all_actual_exp) > 0:\n",
    "    residuals = np.array(all_actual_exp) - np.array(all_predicted_exp)\n",
    "    mean_residual = np.mean(residuals)\n",
    "    if abs(mean_residual) > np.std(all_actual_exp) * 0.1:\n",
    "        bias_direction = \"above\" if mean_residual > 0 else \"below\"\n",
    "        ax6.text(0.05, 0.85, f'Systematic bias: points tend to be {bias_direction} line\\n(Mean residual: {mean_residual:.1f})', \n",
    "                transform=ax6.transAxes, bbox=dict(boxstyle=\"round,pad=0.3\", facecolor=\"orange\", alpha=0.8),\n",
    "                fontsize=9)\n",
    "\n",
    "\n",
    "plt.style.use('dark_background')\n",
    "plt.tight_layout()\n",
    "plt.show()\n",
    "\n",
    "# Summary insights\n",
    "print(\"\\n\" + \"=\"*80)\n",
    "print(\"KEY INSIGHTS - GROWTH PATTERN ANALYSIS:\")\n",
    "print(\"=\"*80)\n",
    "\n",
    "# Linear model insights\n",
    "fastest_linear = linear_results.loc[linear_results['slope_papers_per_year'].idxmax()]\n",
    "print(f\"Fastest linear growth: {fastest_linear['keyword']} ({fastest_linear['slope_papers_per_year']:.2f} papers/year)\")\n",
    "\n",
    "# Exponential model insights\n",
    "if len(log_results) > 0:\n",
    "    fastest_exponential = log_results.loc[log_results['annual_growth_rate_percent'].idxmax()]\n",
    "    print(f\"Fastest exponential growth: {fastest_exponential['keyword']} ({fastest_exponential['annual_growth_rate_percent']:.1f}% per year)\")\n",
    "    \n",
    "    if fastest_exponential['doubling_time_years'] != np.inf:\n",
    "        print(f\"  - Doubling time: {fastest_exponential['doubling_time_years']:.1f} years\")\n",
    "\n",
    "# Model comparison insights\n",
    "exponential_better = len(comparison[comparison['better_fit'] == 'Exponential'])\n",
    "total_fields = len(comparison)\n",
    "print(f\"Fields better explained by exponential growth: {exponential_better}/{total_fields} ({exponential_better/total_fields*100:.1f}%)\")\n",
    "\n",
    "# Significant trends\n",
    "linear_sig = len(linear_results[linear_results['significant_trend']])\n",
    "log_sig = len(log_results[log_results['significant_trend']]) if len(log_results) > 0 else 0\n",
    "print(f\"Significant linear trends: {linear_sig}/{len(linear_results)}\")\n",
    "print(f\"Significant exponential trends: {log_sig}/{len(log_results) if len(log_results) > 0 else 0}\")\n",
    "\n",
    "# Best improvements\n",
    "if len(comparison) > 0:\n",
    "    best_improvement = comparison.loc[comparison['r_squared_difference'].idxmax()]\n",
    "    if best_improvement['r_squared_difference'] > 0:\n",
    "        print(f\"Biggest improvement with exponential model: {best_improvement['keyword']} (ΔR² = +{best_improvement['r_squared_difference']:.3f})\")"
   ]
  },
  {
   "cell_type": "markdown",
   "id": "b8efab06",
   "metadata": {},
   "source": [
    "# Analyzing Keyword correlation\n",
    "\n",
    "I'll look into how often a keyword appears by itself and with eachother to see correlation between them."
   ]
  },
  {
   "cell_type": "code",
   "execution_count": 124,
   "id": "6b47a0c0",
   "metadata": {},
   "outputs": [
    {
     "data": {
      "application/vnd.microsoft.datawrangler.viewer.v0+json": {
       "columns": [
        {
         "name": "index",
         "rawType": "int64",
         "type": "integer"
        },
        {
         "name": "paperId",
         "rawType": "object",
         "type": "string"
        },
        {
         "name": "keywords",
         "rawType": "object",
         "type": "unknown"
        },
        {
         "name": "year",
         "rawType": "int64",
         "type": "integer"
        }
       ],
       "ref": "13b9d5d7-a512-4b9f-bbde-1f5f296d70fb",
       "rows": [
        [
         "0",
         "W594319624",
         "['urban ecology']",
         "1970"
        ],
        [
         "1",
         "W2902120482",
         "['urban ecology', 'urban green spaces', 'urban wildlife']",
         "1970"
        ],
        [
         "2",
         "W2475615813",
         "['urban ecology', 'urban green spaces', 'urban wildlife', 'urban vegetation']",
         "1970"
        ],
        [
         "3",
         "W4206441299",
         "['urban ecology', 'urban vegetation']",
         "1970"
        ],
        [
         "4",
         "W4247273480",
         "['urban ecology', 'urban wildlife', 'urban vegetation']",
         "1970"
        ]
       ],
       "shape": {
        "columns": 3,
        "rows": 5
       }
      },
      "text/html": [
       "<div>\n",
       "<style scoped>\n",
       "    .dataframe tbody tr th:only-of-type {\n",
       "        vertical-align: middle;\n",
       "    }\n",
       "\n",
       "    .dataframe tbody tr th {\n",
       "        vertical-align: top;\n",
       "    }\n",
       "\n",
       "    .dataframe thead th {\n",
       "        text-align: right;\n",
       "    }\n",
       "</style>\n",
       "<table border=\"1\" class=\"dataframe\">\n",
       "  <thead>\n",
       "    <tr style=\"text-align: right;\">\n",
       "      <th></th>\n",
       "      <th>paperId</th>\n",
       "      <th>keywords</th>\n",
       "      <th>year</th>\n",
       "    </tr>\n",
       "  </thead>\n",
       "  <tbody>\n",
       "    <tr>\n",
       "      <th>0</th>\n",
       "      <td>W594319624</td>\n",
       "      <td>[urban ecology]</td>\n",
       "      <td>1970</td>\n",
       "    </tr>\n",
       "    <tr>\n",
       "      <th>1</th>\n",
       "      <td>W2902120482</td>\n",
       "      <td>[urban ecology, urban green spaces, urban wild...</td>\n",
       "      <td>1970</td>\n",
       "    </tr>\n",
       "    <tr>\n",
       "      <th>2</th>\n",
       "      <td>W2475615813</td>\n",
       "      <td>[urban ecology, urban green spaces, urban wild...</td>\n",
       "      <td>1970</td>\n",
       "    </tr>\n",
       "    <tr>\n",
       "      <th>3</th>\n",
       "      <td>W4206441299</td>\n",
       "      <td>[urban ecology, urban vegetation]</td>\n",
       "      <td>1970</td>\n",
       "    </tr>\n",
       "    <tr>\n",
       "      <th>4</th>\n",
       "      <td>W4247273480</td>\n",
       "      <td>[urban ecology, urban wildlife, urban vegetation]</td>\n",
       "      <td>1970</td>\n",
       "    </tr>\n",
       "  </tbody>\n",
       "</table>\n",
       "</div>"
      ],
      "text/plain": [
       "       paperId                                           keywords  year\n",
       "0   W594319624                                    [urban ecology]  1970\n",
       "1  W2902120482  [urban ecology, urban green spaces, urban wild...  1970\n",
       "2  W2475615813  [urban ecology, urban green spaces, urban wild...  1970\n",
       "3  W4206441299                  [urban ecology, urban vegetation]  1970\n",
       "4  W4247273480  [urban ecology, urban wildlife, urban vegetation]  1970"
      ]
     },
     "execution_count": 124,
     "metadata": {},
     "output_type": "execute_result"
    }
   ],
   "source": [
    "with sqlite3.connect(PAPERS_DB_PATH) as conn:\n",
    "    df_keyword_ocurrence = pd.read_sql_query(\"\"\"\n",
    "    SELECT paperId, search_keyword, year\n",
    "    FROM papers\n",
    "    ORDER BY year\n",
    "\"\"\", conn)\n",
    "\n",
    "\n",
    "df_keyword_ocurrence.rename(columns={'search_keyword': 'keywords'},inplace=True)\n",
    "\n",
    "df_keyword_ocurrence['keywords'] = df_keyword_ocurrence['keywords'].str.split(',')\n",
    "df_keyword_ocurrence['keywords'] = df_keyword_ocurrence['keywords'].apply(\n",
    "    lambda lst: [kw.strip() for kw in lst]\n",
    ")\n",
    "\n",
    "df_keyword_ocurrence.head()"
   ]
  },
  {
   "cell_type": "code",
   "execution_count": 207,
   "id": "ff3e3f78",
   "metadata": {},
   "outputs": [],
   "source": [
    "df_exploded_ocurrence = df_keyword_ocurrence.explode(\"keywords\")\n",
    "df_exploded_ocurrence[\"keywords\"] = df_exploded_ocurrence[\"keywords\"].str.strip()\n",
    "keyword_counts = df_exploded_ocurrence[\"keywords\"].value_counts()\n",
    "\n",
    "df_single_keyword = df_keyword_ocurrence[df_keyword_ocurrence[\"keywords\"].apply(len) == 1]\n",
    "solo_counts = df_single_keyword.explode(\"keywords\")[\"keywords\"].value_counts()\n",
    "\n",
    "df_keyword_stats = pd.DataFrame({\n",
    "    \"total\": keyword_counts,\n",
    "    \"solo\": solo_counts\n",
    "}).fillna(0)\n",
    "\n",
    "df_keyword_stats[\"solo_ratio\"] = (df_keyword_stats[\"solo\"] / df_keyword_stats[\"total\"]).round(2)\n"
   ]
  },
  {
   "cell_type": "code",
   "execution_count": 206,
   "id": "b6cdb885",
   "metadata": {},
   "outputs": [],
   "source": [
    "pair_counts = Counter()\n",
    "\n",
    "for keyword_list in df_keyword_ocurrence[\"keywords\"]:\n",
    "    unique_keywords = sorted([kw.strip() for kw in keyword_list])\n",
    "    for kw1, kw2 in combinations(unique_keywords, 2):\n",
    "        pair_counts[(kw1, kw2)] += 1\n",
    "        \n",
    "all_keywords = sorted(keyword_counts.index)\n",
    "\n",
    "cooc_matrix = pd.DataFrame(np.zeros((len(all_keywords), len(all_keywords))),\n",
    "                           index=all_keywords, columns=all_keywords)\n",
    "\n",
    "for (kw1, kw2), count in pair_counts.items():\n",
    "    cooc_matrix.at[kw2, kw1] = count / math.sqrt(keyword_counts[kw1] * keyword_counts[kw2])"
   ]
  },
  {
   "cell_type": "code",
   "execution_count": 204,
   "id": "9c675213",
   "metadata": {},
   "outputs": [
    {
     "data": {
      "image/png": "[encoded data removed]",
      "text/plain": [
       "<Figure size 720x720 with 2 Axes>"
      ]
     },
     "metadata": {},
     "output_type": "display_data"
    }
   ],
   "source": [
    "num_keywords = len(cooc_matrix)\n",
    "cell_size = 1.2\n",
    "\n",
    "plt.figure(figsize=(num_keywords * cell_size, num_keywords * cell_size))\n",
    "\n",
    "mask = np.triu(np.ones_like(cooc_matrix, dtype=bool))\n",
    "\n",
    "sns.heatmap(cooc_matrix, \n",
    "            mask=mask,\n",
    "            cmap=\"viridis\",\n",
    "            annot=True,\n",
    "            fmt=\".2f\",\n",
    "            square=True, \n",
    "            cbar_kws={\"shrink\": 0.6})\n",
    "\n",
    "plt.suptitle(\"Keyword-Pair Cosine Similarity\", fontsize=24, x=0.45, y=0.91)\n",
    "plt.title(\"(Values closer to 1 indicate strong relation)\", fontsize=14)\n",
    "plt.xticks(rotation=45, ha='right')\n",
    "plt.show()"
   ]
  },
  {
   "cell_type": "code",
   "execution_count": null,
   "id": "7c3f6c8f",
   "metadata": {},
   "outputs": [
    {
     "data": {
      "image/png": "[encoded data removed]",
      "text/plain": [
       "<Figure size 2000x1000 with 2 Axes>"
      ]
     },
     "metadata": {},
     "output_type": "display_data"
    }
   ],
   "source": [
    "# Switch to 5-year intervals\n",
    "\n",
    "df_keyword_pivot = df_keywords.pivot(index='search_keyword', columns='year', values='paper_count')\n",
    "df_keyword_pivot.fillna(0, inplace=True)\n",
    "\n",
    "# Step 2: Create keyword pair co-occurrence matrix over time\n",
    "year_pair_counts = {}\n",
    "\n",
    "for _, row in df_keyword_ocurrence.iterrows():\n",
    "    year = row['year']\n",
    "    keyword_list = row['keywords']\n",
    "    \n",
    "    unique_keywords = sorted([kw.strip() for kw in keyword_list])\n",
    "    for kw1, kw2 in combinations(unique_keywords, 2):\n",
    "        pair_key = f\"{kw1} × {kw2}\"\n",
    "        \n",
    "        if year not in year_pair_counts:\n",
    "            year_pair_counts[year] = {}\n",
    "        if pair_key not in year_pair_counts[year]:\n",
    "            year_pair_counts[year][pair_key] = 0\n",
    "        year_pair_counts[year][pair_key] += 1\n",
    "\n",
    "# Convert to DataFrame and create pivot table\n",
    "pair_time_data = []\n",
    "for year, pairs_dict in year_pair_counts.items():\n",
    "    for pair, count in pairs_dict.items():\n",
    "        pair_time_data.append({\n",
    "            'year': year,\n",
    "            'keyword_pair': pair,\n",
    "            'cooccurrence_count': count\n",
    "        })\n",
    "\n",
    "df_pair_time = pd.DataFrame(pair_time_data)\n",
    "df_pair_pivot = df_pair_time.pivot(index='keyword_pair', columns='year', values='cooccurrence_count')\n",
    "df_pair_pivot.fillna(0, inplace=True)\n",
    "\n",
    "# Step 3: Normalize to cosine similarity values\n",
    "df_pair_similarity = df_pair_pivot.copy()\n",
    "\n",
    "for pair_name in df_pair_similarity.index:\n",
    "    kw1, kw2 = pair_name.split(' × ')\n",
    "    \n",
    "    for year in df_pair_similarity.columns:\n",
    "        if year in df_keyword_pivot.columns:\n",
    "            kw1_count = df_keyword_pivot.loc[kw1, year] if kw1 in df_keyword_pivot.index else 0\n",
    "            kw2_count = df_keyword_pivot.loc[kw2, year] if kw2 in df_keyword_pivot.index else 0\n",
    "            \n",
    "            if kw1_count > 0 and kw2_count > 0:\n",
    "                df_pair_similarity.loc[pair_name, year] = df_pair_pivot.loc[pair_name, year] / math.sqrt(kw1_count * kw2_count)\n",
    "            else:\n",
    "                df_pair_similarity.loc[pair_name, year] = 0\n",
    "                \n",
    "# Step 4: Visualize keyword pair similarity heatmap\n",
    "plt.figure(figsize=(20, 10))\n",
    "\n",
    "year_totals = df_pair_similarity.sum(axis=0)\n",
    "active_years = year_totals[year_totals > 0].index\n",
    "df_similarity_active = df_pair_similarity[active_years]\n",
    "\n",
    "mask_zeros = df_similarity_active == 0\n",
    "\n",
    "sns.heatmap(df_similarity_active, \n",
    "            mask=mask_zeros,\n",
    "            cmap=\"viridis\",\n",
    "            cbar_kws={\"shrink\": 0.8, \"label\": \"Cosine Similarity (0-1)\"},\n",
    "            yticklabels=True,\n",
    "            xticklabels=True,\n",
    "            vmin=0,\n",
    "            vmax=1)\n",
    "\n",
    "plt.suptitle(\"Keyword Pair Similarity Over Time\", fontsize=18, y=0.95)\n",
    "plt.title(\"(Lighter colors indicate stronger relationships - values closer to 1)\", fontsize=12, pad=15)\n",
    "plt.xlabel(\"Year\", fontsize=12)\n",
    "plt.ylabel(\"Keyword Pairs\", fontsize=12)\n",
    "plt.xticks(rotation=45)\n",
    "plt.yticks(rotation=0)\n",
    "plt.tight_layout()\n",
    "plt.show()"
   ]
  },
  {
   "cell_type": "markdown",
   "id": "18a624f5",
   "metadata": {},
   "source": [
    "# Geographical Data Analysis\n",
    "\n",
    "In this next step, I'll obtain geographical data to draw a choropleth map with the publication data."
   ]
  },
  {
   "cell_type": "code",
   "execution_count": 92,
   "id": "24e43b36",
   "metadata": {},
   "outputs": [
    {
     "name": "stdout",
     "output_type": "stream",
     "text": [
      "✅ pycountry library loaded successfully\n",
      "📋 Available conversions:\n",
      "  - convert_alpha2_to_alpha3(): Convert 2-letter to 3-letter ISO codes\n",
      "  - get_country_name(): Get full country name from 2-letter code\n"
     ]
    }
   ],
   "source": [
    "\n",
    "def convert_alpha2_to_alpha3(alpha2_code):\n",
    "    \"\"\"Convert ISO 3166-1 alpha-2 code to alpha-3 code using pycountry\"\"\"\n",
    "    try:\n",
    "        return pycountry.countries.get(alpha_2=alpha2_code.upper()).alpha_3\n",
    "    except:\n",
    "        return None\n",
    "\n",
    "def get_country_name(alpha2_code):\n",
    "    \"\"\"Get country name from ISO 3166-1 alpha-2 code using pycountry\"\"\"\n",
    "    try:\n",
    "        return pycountry.countries.get(alpha_2=alpha2_code.upper()).name\n",
    "    except:\n",
    "        return None"
   ]
  },
  {
   "cell_type": "code",
   "execution_count": null,
   "id": "750d260f",
   "metadata": {},
   "outputs": [
    {
     "name": "stdout",
     "output_type": "stream",
     "text": [
      "⚠️ Found unmapped country codes:\n",
      "  XK: 3 papers\n",
      "\n",
      "📊 Country Distribution Analysis:\n",
      "Total countries: 171\n",
      "Total papers with country data: 28,776\n"
     ]
    },
    {
     "data": {
      "application/vnd.microsoft.datawrangler.viewer.v0+json": {
       "columns": [
        {
         "name": "index",
         "rawType": "int64",
         "type": "integer"
        },
        {
         "name": "alpha2_code",
         "rawType": "object",
         "type": "string"
        },
        {
         "name": "paper_count",
         "rawType": "int64",
         "type": "integer"
        },
        {
         "name": "alpha3_code",
         "rawType": "object",
         "type": "string"
        },
        {
         "name": "country_name",
         "rawType": "object",
         "type": "string"
        }
       ],
       "ref": "9eaf0261-491b-4fc7-b8ad-277a2170df73",
       "rows": [
        [
         "0",
         "US",
         "6780",
         "USA",
         "United States"
        ],
        [
         "1",
         "GB",
         "3096",
         "GBR",
         "United Kingdom"
        ],
        [
         "2",
         "IT",
         "1548",
         "ITA",
         "Italy"
        ],
        [
         "3",
         "AU",
         "1332",
         "AUS",
         "Australia"
        ],
        [
         "4",
         "DE",
         "1328",
         "DEU",
         "Germany"
        ],
        [
         "5",
         "IN",
         "1189",
         "IND",
         "India"
        ],
        [
         "6",
         "CN",
         "1066",
         "CHN",
         "China"
        ],
        [
         "7",
         "FR",
         "907",
         "FRA",
         "France"
        ],
        [
         "8",
         "ES",
         "802",
         "ESP",
         "Spain"
        ],
        [
         "9",
         "CA",
         "798",
         "CAN",
         "Canada"
        ],
        [
         "10",
         "NL",
         "688",
         "NLD",
         "Netherlands"
        ],
        [
         "11",
         "BR",
         "596",
         "BRA",
         "Brazil"
        ],
        [
         "12",
         "PT",
         "476",
         "PRT",
         "Portugal"
        ],
        [
         "13",
         "JP",
         "445",
         "JPN",
         "Japan"
        ],
        [
         "14",
         "SE",
         "439",
         "SWE",
         "Sweden"
        ],
        [
         "15",
         "CH",
         "370",
         "CHE",
         "Switzerland"
        ],
        [
         "16",
         "MX",
         "309",
         "MEX",
         "Mexico"
        ],
        [
         "17",
         "ZA",
         "305",
         "ZAF",
         "South Africa"
        ],
        [
         "18",
         "BE",
         "288",
         "BEL",
         "Belgium"
        ],
        [
         "19",
         "TR",
         "284",
         "TUR",
         "Türkiye"
        ]
       ],
       "shape": {
        "columns": 4,
        "rows": 20
       }
      },
      "text/html": [
       "<div>\n",
       "<style scoped>\n",
       "    .dataframe tbody tr th:only-of-type {\n",
       "        vertical-align: middle;\n",
       "    }\n",
       "\n",
       "    .dataframe tbody tr th {\n",
       "        vertical-align: top;\n",
       "    }\n",
       "\n",
       "    .dataframe thead th {\n",
       "        text-align: right;\n",
       "    }\n",
       "</style>\n",
       "<table border=\"1\" class=\"dataframe\">\n",
       "  <thead>\n",
       "    <tr style=\"text-align: right;\">\n",
       "      <th></th>\n",
       "      <th>alpha2_code</th>\n",
       "      <th>paper_count</th>\n",
       "      <th>alpha3_code</th>\n",
       "      <th>country_name</th>\n",
       "    </tr>\n",
       "  </thead>\n",
       "  <tbody>\n",
       "    <tr>\n",
       "      <th>0</th>\n",
       "      <td>US</td>\n",
       "      <td>6780</td>\n",
       "      <td>USA</td>\n",
       "      <td>United States</td>\n",
       "    </tr>\n",
       "    <tr>\n",
       "      <th>1</th>\n",
       "      <td>GB</td>\n",
       "      <td>3096</td>\n",
       "      <td>GBR</td>\n",
       "      <td>United Kingdom</td>\n",
       "    </tr>\n",
       "    <tr>\n",
       "      <th>2</th>\n",
       "      <td>IT</td>\n",
       "      <td>1548</td>\n",
       "      <td>ITA</td>\n",
       "      <td>Italy</td>\n",
       "    </tr>\n",
       "    <tr>\n",
       "      <th>3</th>\n",
       "      <td>AU</td>\n",
       "      <td>1332</td>\n",
       "      <td>AUS</td>\n",
       "      <td>Australia</td>\n",
       "    </tr>\n",
       "    <tr>\n",
       "      <th>4</th>\n",
       "      <td>DE</td>\n",
       "      <td>1328</td>\n",
       "      <td>DEU</td>\n",
       "      <td>Germany</td>\n",
       "    </tr>\n",
       "    <tr>\n",
       "      <th>5</th>\n",
       "      <td>IN</td>\n",
       "      <td>1189</td>\n",
       "      <td>IND</td>\n",
       "      <td>India</td>\n",
       "    </tr>\n",
       "    <tr>\n",
       "      <th>6</th>\n",
       "      <td>CN</td>\n",
       "      <td>1066</td>\n",
       "      <td>CHN</td>\n",
       "      <td>China</td>\n",
       "    </tr>\n",
       "    <tr>\n",
       "      <th>7</th>\n",
       "      <td>FR</td>\n",
       "      <td>907</td>\n",
       "      <td>FRA</td>\n",
       "      <td>France</td>\n",
       "    </tr>\n",
       "    <tr>\n",
       "      <th>8</th>\n",
       "      <td>ES</td>\n",
       "      <td>802</td>\n",
       "      <td>ESP</td>\n",
       "      <td>Spain</td>\n",
       "    </tr>\n",
       "    <tr>\n",
       "      <th>9</th>\n",
       "      <td>CA</td>\n",
       "      <td>798</td>\n",
       "      <td>CAN</td>\n",
       "      <td>Canada</td>\n",
       "    </tr>\n",
       "    <tr>\n",
       "      <th>10</th>\n",
       "      <td>NL</td>\n",
       "      <td>688</td>\n",
       "      <td>NLD</td>\n",
       "      <td>Netherlands</td>\n",
       "    </tr>\n",
       "    <tr>\n",
       "      <th>11</th>\n",
       "      <td>BR</td>\n",
       "      <td>596</td>\n",
       "      <td>BRA</td>\n",
       "      <td>Brazil</td>\n",
       "    </tr>\n",
       "    <tr>\n",
       "      <th>12</th>\n",
       "      <td>PT</td>\n",
       "      <td>476</td>\n",
       "      <td>PRT</td>\n",
       "      <td>Portugal</td>\n",
       "    </tr>\n",
       "    <tr>\n",
       "      <th>13</th>\n",
       "      <td>JP</td>\n",
       "      <td>445</td>\n",
       "      <td>JPN</td>\n",
       "      <td>Japan</td>\n",
       "    </tr>\n",
       "    <tr>\n",
       "      <th>14</th>\n",
       "      <td>SE</td>\n",
       "      <td>439</td>\n",
       "      <td>SWE</td>\n",
       "      <td>Sweden</td>\n",
       "    </tr>\n",
       "    <tr>\n",
       "      <th>15</th>\n",
       "      <td>CH</td>\n",
       "      <td>370</td>\n",
       "      <td>CHE</td>\n",
       "      <td>Switzerland</td>\n",
       "    </tr>\n",
       "    <tr>\n",
       "      <th>16</th>\n",
       "      <td>MX</td>\n",
       "      <td>309</td>\n",
       "      <td>MEX</td>\n",
       "      <td>Mexico</td>\n",
       "    </tr>\n",
       "    <tr>\n",
       "      <th>17</th>\n",
       "      <td>ZA</td>\n",
       "      <td>305</td>\n",
       "      <td>ZAF</td>\n",
       "      <td>South Africa</td>\n",
       "    </tr>\n",
       "    <tr>\n",
       "      <th>18</th>\n",
       "      <td>BE</td>\n",
       "      <td>288</td>\n",
       "      <td>BEL</td>\n",
       "      <td>Belgium</td>\n",
       "    </tr>\n",
       "    <tr>\n",
       "      <th>19</th>\n",
       "      <td>TR</td>\n",
       "      <td>284</td>\n",
       "      <td>TUR</td>\n",
       "      <td>Türkiye</td>\n",
       "    </tr>\n",
       "  </tbody>\n",
       "</table>\n",
       "</div>"
      ],
      "text/plain": [
       "   alpha2_code  paper_count alpha3_code    country_name\n",
       "0           US         6780         USA   United States\n",
       "1           GB         3096         GBR  United Kingdom\n",
       "2           IT         1548         ITA           Italy\n",
       "3           AU         1332         AUS       Australia\n",
       "4           DE         1328         DEU         Germany\n",
       "5           IN         1189         IND           India\n",
       "6           CN         1066         CHN           China\n",
       "7           FR          907         FRA          France\n",
       "8           ES          802         ESP           Spain\n",
       "9           CA          798         CAN          Canada\n",
       "10          NL          688         NLD     Netherlands\n",
       "11          BR          596         BRA          Brazil\n",
       "12          PT          476         PRT        Portugal\n",
       "13          JP          445         JPN           Japan\n",
       "14          SE          439         SWE          Sweden\n",
       "15          CH          370         CHE     Switzerland\n",
       "16          MX          309         MEX          Mexico\n",
       "17          ZA          305         ZAF    South Africa\n",
       "18          BE          288         BEL         Belgium\n",
       "19          TR          284         TUR         Türkiye"
      ]
     },
     "execution_count": 109,
     "metadata": {},
     "output_type": "execute_result"
    }
   ],
   "source": [
    "# Analyze first author country distribution with proper ISO code conversion\n",
    "with sqlite3.connect(PAPERS_DB_PATH) as conn:\n",
    "    df_countries_raw = pd.read_sql_query(\"\"\"\n",
    "    SELECT \n",
    "        firstAuthorCountryIso as alpha2_code,\n",
    "        COUNT(*) as paper_count\n",
    "    FROM papers\n",
    "    WHERE firstAuthorCountryIso IS NOT NULL\n",
    "    GROUP BY firstAuthorCountryIso\n",
    "    ORDER BY paper_count DESC\n",
    "    \"\"\", conn)\n",
    "\n",
    "# Add proper ISO conversions and country names\n",
    "df_countries = df_countries_raw.copy()\n",
    "df_countries['alpha3_code'] = df_countries['alpha2_code'].apply(convert_alpha2_to_alpha3)\n",
    "df_countries['country_name'] = df_countries['alpha2_code'].apply(get_country_name)\n",
    "\n",
    "# Handle any unmapped codes\n",
    "unmapped = df_countries[df_countries['alpha3_code'].isna()]\n",
    "if not unmapped.empty:\n",
    "    print('⚠️ Found unmapped country codes:')\n",
    "    for _, row in unmapped.iterrows():\n",
    "        print(f'{row[\"alpha2_code\"]}: {row[\"paper_count\"]} papers')\n",
    "\n",
    "# Clean data and show results\n",
    "df_countries_clean = df_countries.dropna(subset=['alpha3_code', 'country_name'])\n",
    "\n",
    "print(f'\\n📊 Country Distribution Analysis:')\n",
    "print(f'Total countries: {len(df_countries_clean)}')\n",
    "print(f'Total papers with country data: {df_countries_clean[\"paper_count\"].sum():,}')\n",
    "\n",
    "df_countries.head(20)"
   ]
  },
  {
   "cell_type": "code",
   "execution_count": 122,
   "id": "69e7fd49",
   "metadata": {},
   "outputs": [
    {
     "data": {
      "application/vnd.plotly.v1+json": {
       "config": {
        "plotlyServerURL": "https://plot.ly"
       },
       "data": [
        {
         "coloraxis": "coloraxis",
         "customdata": [
          [
           "USA",
           6780,
           "United States"
          ],
          [
           "GBR",
           3096,
           "United Kingdom"
          ],
          [
           "ITA",
           1548,
           "Italy"
          ],
          [
           "AUS",
           1332,
           "Australia"
          ],
          [
           "DEU",
           1328,
           "Germany"
          ],
          [
           "IND",
           1189,
           "India"
          ],
          [
           "CHN",
           1066,
           "China"
          ],
          [
           "FRA",
           907,
           "France"
          ],
          [
           "ESP",
           802,
           "Spain"
          ],
          [
           "CAN",
           798,
           "Canada"
          ],
          [
           "NLD",
           688,
           "Netherlands"
          ],
          [
           "BRA",
           596,
           "Brazil"
          ],
          [
           "PRT",
           476,
           "Portugal"
          ],
          [
           "JPN",
           445,
           "Japan"
          ],
          [
           "SWE",
           439,
           "Sweden"
          ],
          [
           "CHE",
           370,
           "Switzerland"
          ],
          [
           "MEX",
           309,
           "Mexico"
          ],
          [
           "ZAF",
           305,
           "South Africa"
          ],
          [
           "BEL",
           288,
           "Belgium"
          ],
          [
           "TUR",
           284,
           "Türkiye"
          ],
          [
           "DNK",
           276,
           "Denmark"
          ],
          [
           "POL",
           269,
           "Poland"
          ],
          [
           "GRC",
           233,
           "Greece"
          ],
          [
           "NOR",
           229,
           "Norway"
          ],
          [
           "FIN",
           223,
           "Finland"
          ],
          [
           "AUT",
           215,
           "Austria"
          ],
          [
           "IDN",
           190,
           "Indonesia"
          ],
          [
           "RUS",
           188,
           "Russian Federation"
          ],
          [
           "SGP",
           177,
           "Singapore"
          ],
          [
           "MYS",
           161,
           "Malaysia"
          ],
          [
           "NGA",
           146,
           "Nigeria"
          ],
          [
           "IRL",
           137,
           "Ireland"
          ],
          [
           "ISR",
           132,
           "Israel"
          ],
          [
           "NZL",
           128,
           "New Zealand"
          ],
          [
           "HKG",
           122,
           "Hong Kong"
          ],
          [
           "ROU",
           116,
           "Romania"
          ],
          [
           "ARG",
           115,
           "Argentina"
          ],
          [
           "UKR",
           113,
           "Ukraine"
          ],
          [
           "EGY",
           105,
           "Egypt"
          ],
          [
           "SVN",
           104,
           "Slovenia"
          ],
          [
           "SRB",
           99,
           "Serbia"
          ],
          [
           "PAK",
           98,
           "Pakistan"
          ],
          [
           "CZE",
           94,
           "Czechia"
          ],
          [
           "IRN",
           92,
           "Iran, Islamic Republic of"
          ],
          [
           "COL",
           91,
           "Colombia"
          ],
          [
           "KOR",
           88,
           "Korea, Republic of"
          ],
          [
           "HUN",
           85,
           "Hungary"
          ],
          [
           "KEN",
           84,
           "Kenya"
          ],
          [
           "BGD",
           84,
           "Bangladesh"
          ],
          [
           "CHL",
           71,
           "Chile"
          ],
          [
           "TWN",
           66,
           "Taiwan, Province of China"
          ],
          [
           "THA",
           56,
           "Thailand"
          ],
          [
           "SVK",
           51,
           "Slovakia"
          ],
          [
           "MAR",
           51,
           "Morocco"
          ],
          [
           "HRV",
           48,
           "Croatia"
          ],
          [
           "SAU",
           47,
           "Saudi Arabia"
          ],
          [
           "PHL",
           47,
           "Philippines"
          ],
          [
           "ETH",
           47,
           "Ethiopia"
          ],
          [
           "ARE",
           45,
           "United Arab Emirates"
          ],
          [
           "VNM",
           43,
           "Viet Nam"
          ],
          [
           "TUN",
           43,
           "Tunisia"
          ],
          [
           "GHA",
           40,
           "Ghana"
          ],
          [
           "ECU",
           37,
           "Ecuador"
          ],
          [
           "BGR",
           37,
           "Bulgaria"
          ],
          [
           "LKA",
           32,
           "Sri Lanka"
          ],
          [
           "TZA",
           28,
           "Tanzania, United Republic of"
          ],
          [
           "DZA",
           28,
           "Algeria"
          ],
          [
           "CYP",
           28,
           "Cyprus"
          ],
          [
           "QAT",
           27,
           "Qatar"
          ],
          [
           "EST",
           26,
           "Estonia"
          ],
          [
           "PER",
           25,
           "Peru"
          ],
          [
           "SSD",
           24,
           "South Sudan"
          ],
          [
           "CMR",
           23,
           "Cameroon"
          ],
          [
           "NPL",
           22,
           "Nepal"
          ],
          [
           "LUX",
           22,
           "Luxembourg"
          ],
          [
           "LBN",
           20,
           "Lebanon"
          ],
          [
           "CRI",
           20,
           "Costa Rica"
          ],
          [
           "BIH",
           20,
           "Bosnia and Herzegovina"
          ],
          [
           "ZWE",
           18,
           "Zimbabwe"
          ],
          [
           "VEN",
           17,
           "Venezuela, Bolivarian Republic of"
          ],
          [
           "LTU",
           16,
           "Lithuania"
          ],
          [
           "MLT",
           15,
           "Malta"
          ],
          [
           "MNE",
           14,
           "Montenegro"
          ],
          [
           "ZMB",
           12,
           "Zambia"
          ],
          [
           "UGA",
           12,
           "Uganda"
          ],
          [
           "LVA",
           12,
           "Latvia"
          ],
          [
           "KAZ",
           12,
           "Kazakhstan"
          ],
          [
           "URY",
           11,
           "Uruguay"
          ],
          [
           "PRI",
           11,
           "Puerto Rico"
          ],
          [
           "MKD",
           11,
           "North Macedonia"
          ],
          [
           "BRN",
           11,
           "Brunei Darussalam"
          ],
          [
           "BFA",
           11,
           "Burkina Faso"
          ],
          [
           "ALB",
           11,
           "Albania"
          ],
          [
           "MAC",
           10,
           "Macao"
          ],
          [
           "JOR",
           10,
           "Jordan"
          ],
          [
           "ISL",
           10,
           "Iceland"
          ],
          [
           "OMN",
           9,
           "Oman"
          ],
          [
           "AFG",
           9,
           "Afghanistan"
          ],
          [
           "KWT",
           8,
           "Kuwait"
          ],
          [
           "IRQ",
           8,
           "Iraq"
          ],
          [
           "CIV",
           8,
           "Côte d'Ivoire"
          ],
          [
           "VGB",
           7,
           "Virgin Islands, British"
          ],
          [
           "JAM",
           7,
           "Jamaica"
          ],
          [
           "GNB",
           7,
           "Guinea-Bissau"
          ],
          [
           "UZB",
           6,
           "Uzbekistan"
          ],
          [
           "NAM",
           6,
           "Namibia"
          ],
          [
           "KHM",
           6,
           "Cambodia"
          ],
          [
           "CUB",
           6,
           "Cuba"
          ],
          [
           "BHR",
           6,
           "Bahrain"
          ],
          [
           "MOZ",
           5,
           "Mozambique"
          ],
          [
           "MUS",
           5,
           "Mauritius"
          ],
          [
           "MNG",
           5,
           "Mongolia"
          ],
          [
           "ARM",
           5,
           "Armenia"
          ],
          [
           "TTO",
           4,
           "Trinidad and Tobago"
          ],
          [
           "SYR",
           4,
           "Syrian Arab Republic"
          ],
          [
           "PSE",
           4,
           "Palestine, State of"
          ],
          [
           "MWI",
           4,
           "Malawi"
          ],
          [
           "MMR",
           4,
           "Myanmar"
          ],
          [
           "LIE",
           4,
           "Liechtenstein"
          ],
          [
           "HND",
           4,
           "Honduras"
          ],
          [
           "COD",
           4,
           "Congo, The Democratic Republic of the"
          ],
          [
           "BTN",
           4,
           "Bhutan"
          ],
          [
           "BOL",
           4,
           "Bolivia, Plurinational State of"
          ],
          [
           "AZE",
           4,
           "Azerbaijan"
          ],
          [
           "YEM",
           3,
           "Yemen"
          ],
          [
           "SUR",
           3,
           "Suriname"
          ],
          [
           "SLE",
           3,
           "Sierra Leone"
          ],
          [
           "SDN",
           3,
           "Sudan"
          ],
          [
           "MLI",
           3,
           "Mali"
          ],
          [
           "MDA",
           3,
           "Moldova, Republic of"
          ],
          [
           "HTI",
           3,
           "Haiti"
          ],
          [
           "FJI",
           3,
           "Fiji"
          ],
          [
           "BLR",
           3,
           "Belarus"
          ],
          [
           "BWA",
           3,
           "Botswana"
          ],
          [
           "BEN",
           3,
           "Benin"
          ],
          [
           "WSM",
           2,
           "Samoa"
          ],
          [
           "SEN",
           2,
           "Senegal"
          ],
          [
           "REU",
           2,
           "Réunion"
          ],
          [
           "PYF",
           2,
           "French Polynesia"
          ],
          [
           "PAN",
           2,
           "Panama"
          ],
          [
           "NER",
           2,
           "Niger"
          ],
          [
           "NCL",
           2,
           "New Caledonia"
          ],
          [
           "GTM",
           2,
           "Guatemala"
          ],
          [
           "GEO",
           2,
           "Georgia"
          ],
          [
           "GRD",
           2,
           "Grenada"
          ],
          [
           "COG",
           2,
           "Congo"
          ],
          [
           "BRB",
           2,
           "Barbados"
          ],
          [
           "TON",
           1,
           "Tonga"
          ],
          [
           "TJK",
           1,
           "Tajikistan"
          ],
          [
           "TGO",
           1,
           "Togo"
          ],
          [
           "TCD",
           1,
           "Chad"
          ],
          [
           "SWZ",
           1,
           "Eswatini"
          ],
          [
           "SMR",
           1,
           "San Marino"
          ],
          [
           "RWA",
           1,
           "Rwanda"
          ],
          [
           "PRY",
           1,
           "Paraguay"
          ],
          [
           "PLW",
           1,
           "Palau"
          ],
          [
           "NIC",
           1,
           "Nicaragua"
          ],
          [
           "LBY",
           1,
           "Libya"
          ],
          [
           "LSO",
           1,
           "Lesotho"
          ],
          [
           "LAO",
           1,
           "Lao People's Democratic Republic"
          ],
          [
           "KGZ",
           1,
           "Kyrgyzstan"
          ],
          [
           "GUY",
           1,
           "Guyana"
          ],
          [
           "GUM",
           1,
           "Guam"
          ],
          [
           "GLP",
           1,
           "Guadeloupe"
          ],
          [
           "GMB",
           1,
           "Gambia"
          ],
          [
           "FSM",
           1,
           "Micronesia, Federated States of"
          ],
          [
           "FLK",
           1,
           "Falkland Islands (Malvinas)"
          ],
          [
           "CPV",
           1,
           "Cabo Verde"
          ],
          [
           "BDI",
           1,
           "Burundi"
          ],
          [
           "ABW",
           1,
           "Aruba"
          ],
          [
           "ATG",
           1,
           "Antigua and Barbuda"
          ]
         ],
         "geo": "geo",
         "hovertemplate": "<b>%{hovertext}</b><br><br>ISO Alpha-3=%{customdata[0]}<br>Number of Papers=%{z:,}<extra></extra>",
         "hovertext": [
          "United States",
          "United Kingdom",
          "Italy",
          "Australia",
          "Germany",
          "India",
          "China",
          "France",
          "Spain",
          "Canada",
          "Netherlands",
          "Brazil",
          "Portugal",
          "Japan",
          "Sweden",
          "Switzerland",
          "Mexico",
          "South Africa",
          "Belgium",
          "Türkiye",
          "Denmark",
          "Poland",
          "Greece",
          "Norway",
          "Finland",
          "Austria",
          "Indonesia",
          "Russian Federation",
          "Singapore",
          "Malaysia",
          "Nigeria",
          "Ireland",
          "Israel",
          "New Zealand",
          "Hong Kong",
          "Romania",
          "Argentina",
          "Ukraine",
          "Egypt",
          "Slovenia",
          "Serbia",
          "Pakistan",
          "Czechia",
          "Iran, Islamic Republic of",
          "Colombia",
          "Korea, Republic of",
          "Hungary",
          "Kenya",
          "Bangladesh",
          "Chile",
          "Taiwan, Province of China",
          "Thailand",
          "Slovakia",
          "Morocco",
          "Croatia",
          "Saudi Arabia",
          "Philippines",
          "Ethiopia",
          "United Arab Emirates",
          "Viet Nam",
          "Tunisia",
          "Ghana",
          "Ecuador",
          "Bulgaria",
          "Sri Lanka",
          "Tanzania, United Republic of",
          "Algeria",
          "Cyprus",
          "Qatar",
          "Estonia",
          "Peru",
          "South Sudan",
          "Cameroon",
          "Nepal",
          "Luxembourg",
          "Lebanon",
          "Costa Rica",
          "Bosnia and Herzegovina",
          "Zimbabwe",
          "Venezuela, Bolivarian Republic of",
          "Lithuania",
          "Malta",
          "Montenegro",
          "Zambia",
          "Uganda",
          "Latvia",
          "Kazakhstan",
          "Uruguay",
          "Puerto Rico",
          "North Macedonia",
          "Brunei Darussalam",
          "Burkina Faso",
          "Albania",
          "Macao",
          "Jordan",
          "Iceland",
          "Oman",
          "Afghanistan",
          "Kuwait",
          "Iraq",
          "Côte d'Ivoire",
          "Virgin Islands, British",
          "Jamaica",
          "Guinea-Bissau",
          "Uzbekistan",
          "Namibia",
          "Cambodia",
          "Cuba",
          "Bahrain",
          "Mozambique",
          "Mauritius",
          "Mongolia",
          "Armenia",
          "Trinidad and Tobago",
          "Syrian Arab Republic",
          "Palestine, State of",
          "Malawi",
          "Myanmar",
          "Liechtenstein",
          "Honduras",
          "Congo, The Democratic Republic of the",
          "Bhutan",
          "Bolivia, Plurinational State of",
          "Azerbaijan",
          "Yemen",
          "Suriname",
          "Sierra Leone",
          "Sudan",
          "Mali",
          "Moldova, Republic of",
          "Haiti",
          "Fiji",
          "Belarus",
          "Botswana",
          "Benin",
          "Samoa",
          "Senegal",
          "Réunion",
          "French Polynesia",
          "Panama",
          "Niger",
          "New Caledonia",
          "Guatemala",
          "Georgia",
          "Grenada",
          "Congo",
          "Barbados",
          "Tonga",
          "Tajikistan",
          "Togo",
          "Chad",
          "Eswatini",
          "San Marino",
          "Rwanda",
          "Paraguay",
          "Palau",
          "Nicaragua",
          "Libya",
          "Lesotho",
          "Lao People's Democratic Republic",
          "Kyrgyzstan",
          "Guyana",
          "Guam",
          "Guadeloupe",
          "Gambia",
          "Micronesia, Federated States of",
          "Falkland Islands (Malvinas)",
          "Cabo Verde",
          "Burundi",
          "Aruba",
          "Antigua and Barbuda"
         ],
         "locations": [
          "USA",
          "GBR",
          "ITA",
          "AUS",
          "DEU",
          "IND",
          "CHN",
          "FRA",
          "ESP",
          "CAN",
          "NLD",
          "BRA",
          "PRT",
          "JPN",
          "SWE",
          "CHE",
          "MEX",
          "ZAF",
          "BEL",
          "TUR",
          "DNK",
          "POL",
          "GRC",
          "NOR",
          "FIN",
          "AUT",
          "IDN",
          "RUS",
          "SGP",
          "MYS",
          "NGA",
          "IRL",
          "ISR",
          "NZL",
          "HKG",
          "ROU",
          "ARG",
          "UKR",
          "EGY",
          "SVN",
          "SRB",
          "PAK",
          "CZE",
          "IRN",
          "COL",
          "KOR",
          "HUN",
          "KEN",
          "BGD",
          "CHL",
          "TWN",
          "THA",
          "SVK",
          "MAR",
          "HRV",
          "SAU",
          "PHL",
          "ETH",
          "ARE",
          "VNM",
          "TUN",
          "GHA",
          "ECU",
          "BGR",
          "LKA",
          "TZA",
          "DZA",
          "CYP",
          "QAT",
          "EST",
          "PER",
          "SSD",
          "CMR",
          "NPL",
          "LUX",
          "LBN",
          "CRI",
          "BIH",
          "ZWE",
          "VEN",
          "LTU",
          "MLT",
          "MNE",
          "ZMB",
          "UGA",
          "LVA",
          "KAZ",
          "URY",
          "PRI",
          "MKD",
          "BRN",
          "BFA",
          "ALB",
          "MAC",
          "JOR",
          "ISL",
          "OMN",
          "AFG",
          "KWT",
          "IRQ",
          "CIV",
          "VGB",
          "JAM",
          "GNB",
          "UZB",
          "NAM",
          "KHM",
          "CUB",
          "BHR",
          "MOZ",
          "MUS",
          "MNG",
          "ARM",
          "TTO",
          "SYR",
          "PSE",
          "MWI",
          "MMR",
          "LIE",
          "HND",
          "COD",
          "BTN",
          "BOL",
          "AZE",
          "YEM",
          "SUR",
          "SLE",
          "SDN",
          "MLI",
          "MDA",
          "HTI",
          "FJI",
          "BLR",
          "BWA",
          "BEN",
          "WSM",
          "SEN",
          "REU",
          "PYF",
          "PAN",
          "NER",
          "NCL",
          "GTM",
          "GEO",
          "GRD",
          "COG",
          "BRB",
          "TON",
          "TJK",
          "TGO",
          "TCD",
          "SWZ",
          "SMR",
          "RWA",
          "PRY",
          "PLW",
          "NIC",
          "LBY",
          "LSO",
          "LAO",
          "KGZ",
          "GUY",
          "GUM",
          "GLP",
          "GMB",
          "FSM",
          "FLK",
          "CPV",
          "BDI",
          "ABW",
          "ATG"
         ],
         "name": "",
         "type": "choropleth",
         "z": {
          "bdata": "fBoYDAwGNAUwBaUEKgSLAyIDHgOwAlQC3AG9AbcBcgE1ATEBIAEcARQBDQHpAOUA3wDXAL4AvACxAKEAkgCJAIQAgAB6AHQAcwBxAGkAaABjAGIAXgBcAFsAWABVAFQAVABHAEIAOAAzADMAMAAvAC8ALwAtACsAKwAoACUAJQAgABwAHAAcABsAGgAZABgAFwAWABYAFAAUABQAEgARABAADwAOAAwADAAMAAwACwALAAsACwALAAsACgAKAAoACQAJAAgACAAIAAcABwAHAAYABgAGAAYABgAFAAUABQAFAAQABAAEAAQABAAEAAQABAAEAAQABAADAAMAAwADAAMAAwADAAMAAwADAAMAAgACAAIAAgACAAIAAgACAAIAAgACAAIAAQABAAEAAQABAAEAAQABAAEAAQABAAEAAQABAAEAAQABAAEAAQABAAEAAQABAAEA",
          "dtype": "i2"
         }
        }
       ],
       "layout": {
        "coloraxis": {
         "colorbar": {
          "title": {
           "text": "Number of Papers"
          }
         },
         "colorscale": [
          [
           0,
           "#440154"
          ],
          [
           0.1111111111111111,
           "#482878"
          ],
          [
           0.2222222222222222,
           "#3e4989"
          ],
          [
           0.3333333333333333,
           "#31688e"
          ],
          [
           0.4444444444444444,
           "#26828e"
          ],
          [
           0.5555555555555556,
           "#1f9e89"
          ],
          [
           0.6666666666666666,
           "#35b779"
          ],
          [
           0.7777777777777778,
           "#6ece58"
          ],
          [
           0.8888888888888888,
           "#b5de2b"
          ],
          [
           1,
           "#fde725"
          ]
         ]
        },
        "geo": {
         "center": {},
         "domain": {
          "x": [
           0,
           1
          ],
          "y": [
           0,
           1
          ]
         },
         "projection": {
          "type": "natural earth"
         },
         "showcoastlines": true,
         "showframe": false
        },
        "height": 700,
        "legend": {
         "tracegroupgap": 0
        },
        "template": {
         "data": {
          "bar": [
           {
            "error_x": {
             "color": "#2a3f5f"
            },
            "error_y": {
             "color": "#2a3f5f"
            },
            "marker": {
             "line": {
              "color": "#E5ECF6",
              "width": 0.5
             },
             "pattern": {
              "fillmode": "overlay",
              "size": 10,
              "solidity": 0.2
             }
            },
            "type": "bar"
           }
          ],
          "barpolar": [
           {
            "marker": {
             "line": {
              "color": "#E5ECF6",
              "width": 0.5
             },
             "pattern": {
              "fillmode": "overlay",
              "size": 10,
              "solidity": 0.2
             }
            },
            "type": "barpolar"
           }
          ],
          "carpet": [
           {
            "aaxis": {
             "endlinecolor": "#2a3f5f",
             "gridcolor": "white",
             "linecolor": "white",
             "minorgridcolor": "white",
             "startlinecolor": "#2a3f5f"
            },
            "baxis": {
             "endlinecolor": "#2a3f5f",
             "gridcolor": "white",
             "linecolor": "white",
             "minorgridcolor": "white",
             "startlinecolor": "#2a3f5f"
            },
            "type": "carpet"
           }
          ],
          "choropleth": [
           {
            "colorbar": {
             "outlinewidth": 0,
             "ticks": ""
            },
            "type": "choropleth"
           }
          ],
          "contour": [
           {
            "colorbar": {
             "outlinewidth": 0,
             "ticks": ""
            },
            "colorscale": [
             [
              0,
              "#0d0887"
             ],
             [
              0.1111111111111111,
              "#46039f"
             ],
             [
              0.2222222222222222,
              "#7201a8"
             ],
             [
              0.3333333333333333,
              "#9c179e"
             ],
             [
              0.4444444444444444,
              "#bd3786"
             ],
             [
              0.5555555555555556,
              "#d8576b"
             ],
             [
              0.6666666666666666,
              "#ed7953"
             ],
             [
              0.7777777777777778,
              "#fb9f3a"
             ],
             [
              0.8888888888888888,
              "#fdca26"
             ],
             [
              1,
              "#f0f921"
             ]
            ],
            "type": "contour"
           }
          ],
          "contourcarpet": [
           {
            "colorbar": {
             "outlinewidth": 0,
             "ticks": ""
            },
            "type": "contourcarpet"
           }
          ],
          "heatmap": [
           {
            "colorbar": {
             "outlinewidth": 0,
             "ticks": ""
            },
            "colorscale": [
             [
              0,
              "#0d0887"
             ],
             [
              0.1111111111111111,
              "#46039f"
             ],
             [
              0.2222222222222222,
              "#7201a8"
             ],
             [
              0.3333333333333333,
              "#9c179e"
             ],
             [
              0.4444444444444444,
              "#bd3786"
             ],
             [
              0.5555555555555556,
              "#d8576b"
             ],
             [
              0.6666666666666666,
              "#ed7953"
             ],
             [
              0.7777777777777778,
              "#fb9f3a"
             ],
             [
              0.8888888888888888,
              "#fdca26"
             ],
             [
              1,
              "#f0f921"
             ]
            ],
            "type": "heatmap"
           }
          ],
          "histogram": [
           {
            "marker": {
             "pattern": {
              "fillmode": "overlay",
              "size": 10,
              "solidity": 0.2
             }
            },
            "type": "histogram"
           }
          ],
          "histogram2d": [
           {
            "colorbar": {
             "outlinewidth": 0,
             "ticks": ""
            },
            "colorscale": [
             [
              0,
              "#0d0887"
             ],
             [
              0.1111111111111111,
              "#46039f"
             ],
             [
              0.2222222222222222,
              "#7201a8"
             ],
             [
              0.3333333333333333,
              "#9c179e"
             ],
             [
              0.4444444444444444,
              "#bd3786"
             ],
             [
              0.5555555555555556,
              "#d8576b"
             ],
             [
              0.6666666666666666,
              "#ed7953"
             ],
             [
              0.7777777777777778,
              "#fb9f3a"
             ],
             [
              0.8888888888888888,
              "#fdca26"
             ],
             [
              1,
              "#f0f921"
             ]
            ],
            "type": "histogram2d"
           }
          ],
          "histogram2dcontour": [
           {
            "colorbar": {
             "outlinewidth": 0,
             "ticks": ""
            },
            "colorscale": [
             [
              0,
              "#0d0887"
             ],
             [
              0.1111111111111111,
              "#46039f"
             ],
             [
              0.2222222222222222,
              "#7201a8"
             ],
             [
              0.3333333333333333,
              "#9c179e"
             ],
             [
              0.4444444444444444,
              "#bd3786"
             ],
             [
              0.5555555555555556,
              "#d8576b"
             ],
             [
              0.6666666666666666,
              "#ed7953"
             ],
             [
              0.7777777777777778,
              "#fb9f3a"
             ],
             [
              0.8888888888888888,
              "#fdca26"
             ],
             [
              1,
              "#f0f921"
             ]
            ],
            "type": "histogram2dcontour"
           }
          ],
          "mesh3d": [
           {
            "colorbar": {
             "outlinewidth": 0,
             "ticks": ""
            },
            "type": "mesh3d"
           }
          ],
          "parcoords": [
           {
            "line": {
             "colorbar": {
              "outlinewidth": 0,
              "ticks": ""
             }
            },
            "type": "parcoords"
           }
          ],
          "pie": [
           {
            "automargin": true,
            "type": "pie"
           }
          ],
          "scatter": [
           {
            "fillpattern": {
             "fillmode": "overlay",
             "size": 10,
             "solidity": 0.2
            },
            "type": "scatter"
           }
          ],
          "scatter3d": [
           {
            "line": {
             "colorbar": {
              "outlinewidth": 0,
              "ticks": ""
             }
            },
            "marker": {
             "colorbar": {
              "outlinewidth": 0,
              "ticks": ""
             }
            },
            "type": "scatter3d"
           }
          ],
          "scattercarpet": [
           {
            "marker": {
             "colorbar": {
              "outlinewidth": 0,
              "ticks": ""
             }
            },
            "type": "scattercarpet"
           }
          ],
          "scattergeo": [
           {
            "marker": {
             "colorbar": {
              "outlinewidth": 0,
              "ticks": ""
             }
            },
            "type": "scattergeo"
           }
          ],
          "scattergl": [
           {
            "marker": {
             "colorbar": {
              "outlinewidth": 0,
              "ticks": ""
             }
            },
            "type": "scattergl"
           }
          ],
          "scattermap": [
           {
            "marker": {
             "colorbar": {
              "outlinewidth": 0,
              "ticks": ""
             }
            },
            "type": "scattermap"
           }
          ],
          "scattermapbox": [
           {
            "marker": {
             "colorbar": {
              "outlinewidth": 0,
              "ticks": ""
             }
            },
            "type": "scattermapbox"
           }
          ],
          "scatterpolar": [
           {
            "marker": {
             "colorbar": {
              "outlinewidth": 0,
              "ticks": ""
             }
            },
            "type": "scatterpolar"
           }
          ],
          "scatterpolargl": [
           {
            "marker": {
             "colorbar": {
              "outlinewidth": 0,
              "ticks": ""
             }
            },
            "type": "scatterpolargl"
           }
          ],
          "scatterternary": [
           {
            "marker": {
             "colorbar": {
              "outlinewidth": 0,
              "ticks": ""
             }
            },
            "type": "scatterternary"
           }
          ],
          "surface": [
           {
            "colorbar": {
             "outlinewidth": 0,
             "ticks": ""
            },
            "colorscale": [
             [
              0,
              "#0d0887"
             ],
             [
              0.1111111111111111,
              "#46039f"
             ],
             [
              0.2222222222222222,
              "#7201a8"
             ],
             [
              0.3333333333333333,
              "#9c179e"
             ],
             [
              0.4444444444444444,
              "#bd3786"
             ],
             [
              0.5555555555555556,
              "#d8576b"
             ],
             [
              0.6666666666666666,
              "#ed7953"
             ],
             [
              0.7777777777777778,
              "#fb9f3a"
             ],
             [
              0.8888888888888888,
              "#fdca26"
             ],
             [
              1,
              "#f0f921"
             ]
            ],
            "type": "surface"
           }
          ],
          "table": [
           {
            "cells": {
             "fill": {
              "color": "#EBF0F8"
             },
             "line": {
              "color": "white"
             }
            },
            "header": {
             "fill": {
              "color": "#C8D4E3"
             },
             "line": {
              "color": "white"
             }
            },
            "type": "table"
           }
          ]
         },
         "layout": {
          "annotationdefaults": {
           "arrowcolor": "#2a3f5f",
           "arrowhead": 0,
           "arrowwidth": 1
          },
          "autotypenumbers": "strict",
          "coloraxis": {
           "colorbar": {
            "outlinewidth": 0,
            "ticks": ""
           }
          },
          "colorscale": {
           "diverging": [
            [
             0,
             "#8e0152"
            ],
            [
             0.1,
             "#c51b7d"
            ],
            [
             0.2,
             "#de77ae"
            ],
            [
             0.3,
             "#f1b6da"
            ],
            [
             0.4,
             "#fde0ef"
            ],
            [
             0.5,
             "#f7f7f7"
            ],
            [
             0.6,
             "#e6f5d0"
            ],
            [
             0.7,
             "#b8e186"
            ],
            [
             0.8,
             "#7fbc41"
            ],
            [
             0.9,
             "#4d9221"
            ],
            [
             1,
             "#276419"
            ]
           ],
           "sequential": [
            [
             0,
             "#0d0887"
            ],
            [
             0.1111111111111111,
             "#46039f"
            ],
            [
             0.2222222222222222,
             "#7201a8"
            ],
            [
             0.3333333333333333,
             "#9c179e"
            ],
            [
             0.4444444444444444,
             "#bd3786"
            ],
            [
             0.5555555555555556,
             "#d8576b"
            ],
            [
             0.6666666666666666,
             "#ed7953"
            ],
            [
             0.7777777777777778,
             "#fb9f3a"
            ],
            [
             0.8888888888888888,
             "#fdca26"
            ],
            [
             1,
             "#f0f921"
            ]
           ],
           "sequentialminus": [
            [
             0,
             "#0d0887"
            ],
            [
             0.1111111111111111,
             "#46039f"
            ],
            [
             0.2222222222222222,
             "#7201a8"
            ],
            [
             0.3333333333333333,
             "#9c179e"
            ],
            [
             0.4444444444444444,
             "#bd3786"
            ],
            [
             0.5555555555555556,
             "#d8576b"
            ],
            [
             0.6666666666666666,
             "#ed7953"
            ],
            [
             0.7777777777777778,
             "#fb9f3a"
            ],
            [
             0.8888888888888888,
             "#fdca26"
            ],
            [
             1,
             "#f0f921"
            ]
           ]
          },
          "colorway": [
           "#636efa",
           "#EF553B",
           "#00cc96",
           "#ab63fa",
           "#FFA15A",
           "#19d3f3",
           "#FF6692",
           "#B6E880",
           "#FF97FF",
           "#FECB52"
          ],
          "font": {
           "color": "#2a3f5f"
          },
          "geo": {
           "bgcolor": "white",
           "lakecolor": "white",
           "landcolor": "#E5ECF6",
           "showlakes": true,
           "showland": true,
           "subunitcolor": "white"
          },
          "hoverlabel": {
           "align": "left"
          },
          "hovermode": "closest",
          "mapbox": {
           "style": "light"
          },
          "paper_bgcolor": "white",
          "plot_bgcolor": "#E5ECF6",
          "polar": {
           "angularaxis": {
            "gridcolor": "white",
            "linecolor": "white",
            "ticks": ""
           },
           "bgcolor": "#E5ECF6",
           "radialaxis": {
            "gridcolor": "white",
            "linecolor": "white",
            "ticks": ""
           }
          },
          "scene": {
           "xaxis": {
            "backgroundcolor": "#E5ECF6",
            "gridcolor": "white",
            "gridwidth": 2,
            "linecolor": "white",
            "showbackground": true,
            "ticks": "",
            "zerolinecolor": "white"
           },
           "yaxis": {
            "backgroundcolor": "#E5ECF6",
            "gridcolor": "white",
            "gridwidth": 2,
            "linecolor": "white",
            "showbackground": true,
            "ticks": "",
            "zerolinecolor": "white"
           },
           "zaxis": {
            "backgroundcolor": "#E5ECF6",
            "gridcolor": "white",
            "gridwidth": 2,
            "linecolor": "white",
            "showbackground": true,
            "ticks": "",
            "zerolinecolor": "white"
           }
          },
          "shapedefaults": {
           "line": {
            "color": "#2a3f5f"
           }
          },
          "ternary": {
           "aaxis": {
            "gridcolor": "white",
            "linecolor": "white",
            "ticks": ""
           },
           "baxis": {
            "gridcolor": "white",
            "linecolor": "white",
            "ticks": ""
           },
           "bgcolor": "#E5ECF6",
           "caxis": {
            "gridcolor": "white",
            "linecolor": "white",
            "ticks": ""
           }
          },
          "title": {
           "x": 0.05
          },
          "xaxis": {
           "automargin": true,
           "gridcolor": "white",
           "linecolor": "white",
           "ticks": "",
           "title": {
            "standoff": 15
           },
           "zerolinecolor": "white",
           "zerolinewidth": 2
          },
          "yaxis": {
           "automargin": true,
           "gridcolor": "white",
           "linecolor": "white",
           "ticks": "",
           "title": {
            "standoff": 15
           },
           "zerolinecolor": "white",
           "zerolinewidth": 2
          }
         }
        },
        "title": {
         "font": {
          "size": 16
         },
         "text": "Global Distribution of Urban Ecology Research Papers by First Author Country"
        },
        "width": 1200
       }
      }
     },
     "metadata": {},
     "output_type": "display_data"
    },
    {
     "name": "stdout",
     "output_type": "stream",
     "text": [
      "================================================================================\n"
     ]
    },
    {
     "data": {
      "application/vnd.plotly.v1+json": {
       "config": {
        "plotlyServerURL": "https://plot.ly"
       },
       "data": [
        {
         "customdata": [
          [
           "US",
           "USA",
           6780
          ],
          [
           "GB",
           "GBR",
           3096
          ],
          [
           "IT",
           "ITA",
           1548
          ],
          [
           "AU",
           "AUS",
           1332
          ],
          [
           "DE",
           "DEU",
           1328
          ],
          [
           "IN",
           "IND",
           1189
          ],
          [
           "CN",
           "CHN",
           1066
          ],
          [
           "FR",
           "FRA",
           907
          ],
          [
           "ES",
           "ESP",
           802
          ],
          [
           "CA",
           "CAN",
           798
          ],
          [
           "NL",
           "NLD",
           688
          ],
          [
           "BR",
           "BRA",
           596
          ],
          [
           "PT",
           "PRT",
           476
          ],
          [
           "JP",
           "JPN",
           445
          ],
          [
           "SE",
           "SWE",
           439
          ],
          [
           "CH",
           "CHE",
           370
          ],
          [
           "MX",
           "MEX",
           309
          ],
          [
           "ZA",
           "ZAF",
           305
          ],
          [
           "BE",
           "BEL",
           288
          ],
          [
           "TR",
           "TUR",
           284
          ]
         ],
         "domain": {
          "x": [
           0,
           1
          ],
          "y": [
           0,
           1
          ]
         },
         "hovertemplate": "<b>%{label}</b><br>Papers: %{value:,}<br>ISO-3: %{customdata[1]}<br><extra></extra>",
         "labels": [
          "United States",
          "United Kingdom",
          "Italy",
          "Australia",
          "Germany",
          "India",
          "China",
          "France",
          "Spain",
          "Canada",
          "Netherlands",
          "Brazil",
          "Portugal",
          "Japan",
          "Sweden",
          "Switzerland",
          "Mexico",
          "South Africa",
          "Belgium",
          "Türkiye"
         ],
         "marker": {
          "coloraxis": "coloraxis",
          "colors": {
           "bdata": "fBoYDAwGNAUwBaUEKgSLAyIDHgOwAlQC3AG9AbcBcgE1ATEBIAEcAQ==",
           "dtype": "i2"
          }
         },
         "name": "",
         "parents": [
          "",
          "",
          "",
          "",
          "",
          "",
          "",
          "",
          "",
          "",
          "",
          "",
          "",
          "",
          "",
          "",
          "",
          "",
          "",
          ""
         ],
         "textfont": {
          "color": [
           "black",
           "white",
           "white",
           "white",
           "white",
           "white",
           "white",
           "white",
           "white",
           "white",
           "white",
           "white",
           "white",
           "white",
           "white",
           "white",
           "white",
           "white",
           "white",
           "white"
          ],
          "size": 12
         },
         "textinfo": "label+value",
         "type": "treemap",
         "values": {
          "bdata": "fBoYDAwGNAUwBaUEKgSLAyIDHgOwAlQC3AG9AbcBcgE1ATEBIAEcAQ==",
          "dtype": "i2"
         }
        }
       ],
       "layout": {
        "coloraxis": {
         "colorbar": {
          "title": {
           "text": "Number of Papers"
          }
         },
         "colorscale": [
          [
           0,
           "#440154"
          ],
          [
           0.1111111111111111,
           "#482878"
          ],
          [
           0.2222222222222222,
           "#3e4989"
          ],
          [
           0.3333333333333333,
           "#31688e"
          ],
          [
           0.4444444444444444,
           "#26828e"
          ],
          [
           0.5555555555555556,
           "#1f9e89"
          ],
          [
           0.6666666666666666,
           "#35b779"
          ],
          [
           0.7777777777777778,
           "#6ece58"
          ],
          [
           0.8888888888888888,
           "#b5de2b"
          ],
          [
           1,
           "#fde725"
          ]
         ]
        },
        "font": {
         "size": 14
        },
        "height": 700,
        "legend": {
         "tracegroupgap": 0
        },
        "margin": {
         "b": 25,
         "l": 25,
         "r": 25,
         "t": 50
        },
        "template": {
         "data": {
          "bar": [
           {
            "error_x": {
             "color": "#f2f5fa"
            },
            "error_y": {
             "color": "#f2f5fa"
            },
            "marker": {
             "line": {
              "color": "rgb(17,17,17)",
              "width": 0.5
             },
             "pattern": {
              "fillmode": "overlay",
              "size": 10,
              "solidity": 0.2
             }
            },
            "type": "bar"
           }
          ],
          "barpolar": [
           {
            "marker": {
             "line": {
              "color": "rgb(17,17,17)",
              "width": 0.5
             },
             "pattern": {
              "fillmode": "overlay",
              "size": 10,
              "solidity": 0.2
             }
            },
            "type": "barpolar"
           }
          ],
          "carpet": [
           {
            "aaxis": {
             "endlinecolor": "#A2B1C6",
             "gridcolor": "#506784",
             "linecolor": "#506784",
             "minorgridcolor": "#506784",
             "startlinecolor": "#A2B1C6"
            },
            "baxis": {
             "endlinecolor": "#A2B1C6",
             "gridcolor": "#506784",
             "linecolor": "#506784",
             "minorgridcolor": "#506784",
             "startlinecolor": "#A2B1C6"
            },
            "type": "carpet"
           }
          ],
          "choropleth": [
           {
            "colorbar": {
             "outlinewidth": 0,
             "ticks": ""
            },
            "type": "choropleth"
           }
          ],
          "contour": [
           {
            "colorbar": {
             "outlinewidth": 0,
             "ticks": ""
            },
            "colorscale": [
             [
              0,
              "#0d0887"
             ],
             [
              0.1111111111111111,
              "#46039f"
             ],
             [
              0.2222222222222222,
              "#7201a8"
             ],
             [
              0.3333333333333333,
              "#9c179e"
             ],
             [
              0.4444444444444444,
              "#bd3786"
             ],
             [
              0.5555555555555556,
              "#d8576b"
             ],
             [
              0.6666666666666666,
              "#ed7953"
             ],
             [
              0.7777777777777778,
              "#fb9f3a"
             ],
             [
              0.8888888888888888,
              "#fdca26"
             ],
             [
              1,
              "#f0f921"
             ]
            ],
            "type": "contour"
           }
          ],
          "contourcarpet": [
           {
            "colorbar": {
             "outlinewidth": 0,
             "ticks": ""
            },
            "type": "contourcarpet"
           }
          ],
          "heatmap": [
           {
            "colorbar": {
             "outlinewidth": 0,
             "ticks": ""
            },
            "colorscale": [
             [
              0,
              "#0d0887"
             ],
             [
              0.1111111111111111,
              "#46039f"
             ],
             [
              0.2222222222222222,
              "#7201a8"
             ],
             [
              0.3333333333333333,
              "#9c179e"
             ],
             [
              0.4444444444444444,
              "#bd3786"
             ],
             [
              0.5555555555555556,
              "#d8576b"
             ],
             [
              0.6666666666666666,
              "#ed7953"
             ],
             [
              0.7777777777777778,
              "#fb9f3a"
             ],
             [
              0.8888888888888888,
              "#fdca26"
             ],
             [
              1,
              "#f0f921"
             ]
            ],
            "type": "heatmap"
           }
          ],
          "histogram": [
           {
            "marker": {
             "pattern": {
              "fillmode": "overlay",
              "size": 10,
              "solidity": 0.2
             }
            },
            "type": "histogram"
           }
          ],
          "histogram2d": [
           {
            "colorbar": {
             "outlinewidth": 0,
             "ticks": ""
            },
            "colorscale": [
             [
              0,
              "#0d0887"
             ],
             [
              0.1111111111111111,
              "#46039f"
             ],
             [
              0.2222222222222222,
              "#7201a8"
             ],
             [
              0.3333333333333333,
              "#9c179e"
             ],
             [
              0.4444444444444444,
              "#bd3786"
             ],
             [
              0.5555555555555556,
              "#d8576b"
             ],
             [
              0.6666666666666666,
              "#ed7953"
             ],
             [
              0.7777777777777778,
              "#fb9f3a"
             ],
             [
              0.8888888888888888,
              "#fdca26"
             ],
             [
              1,
              "#f0f921"
             ]
            ],
            "type": "histogram2d"
           }
          ],
          "histogram2dcontour": [
           {
            "colorbar": {
             "outlinewidth": 0,
             "ticks": ""
            },
            "colorscale": [
             [
              0,
              "#0d0887"
             ],
             [
              0.1111111111111111,
              "#46039f"
             ],
             [
              0.2222222222222222,
              "#7201a8"
             ],
             [
              0.3333333333333333,
              "#9c179e"
             ],
             [
              0.4444444444444444,
              "#bd3786"
             ],
             [
              0.5555555555555556,
              "#d8576b"
             ],
             [
              0.6666666666666666,
              "#ed7953"
             ],
             [
              0.7777777777777778,
              "#fb9f3a"
             ],
             [
              0.8888888888888888,
              "#fdca26"
             ],
             [
              1,
              "#f0f921"
             ]
            ],
            "type": "histogram2dcontour"
           }
          ],
          "mesh3d": [
           {
            "colorbar": {
             "outlinewidth": 0,
             "ticks": ""
            },
            "type": "mesh3d"
           }
          ],
          "parcoords": [
           {
            "line": {
             "colorbar": {
              "outlinewidth": 0,
              "ticks": ""
             }
            },
            "type": "parcoords"
           }
          ],
          "pie": [
           {
            "automargin": true,
            "type": "pie"
           }
          ],
          "scatter": [
           {
            "marker": {
             "line": {
              "color": "#283442"
             }
            },
            "type": "scatter"
           }
          ],
          "scatter3d": [
           {
            "line": {
             "colorbar": {
              "outlinewidth": 0,
              "ticks": ""
             }
            },
            "marker": {
             "colorbar": {
              "outlinewidth": 0,
              "ticks": ""
             }
            },
            "type": "scatter3d"
           }
          ],
          "scattercarpet": [
           {
            "marker": {
             "colorbar": {
              "outlinewidth": 0,
              "ticks": ""
             }
            },
            "type": "scattercarpet"
           }
          ],
          "scattergeo": [
           {
            "marker": {
             "colorbar": {
              "outlinewidth": 0,
              "ticks": ""
             }
            },
            "type": "scattergeo"
           }
          ],
          "scattergl": [
           {
            "marker": {
             "line": {
              "color": "#283442"
             }
            },
            "type": "scattergl"
           }
          ],
          "scattermap": [
           {
            "marker": {
             "colorbar": {
              "outlinewidth": 0,
              "ticks": ""
             }
            },
            "type": "scattermap"
           }
          ],
          "scattermapbox": [
           {
            "marker": {
             "colorbar": {
              "outlinewidth": 0,
              "ticks": ""
             }
            },
            "type": "scattermapbox"
           }
          ],
          "scatterpolar": [
           {
            "marker": {
             "colorbar": {
              "outlinewidth": 0,
              "ticks": ""
             }
            },
            "type": "scatterpolar"
           }
          ],
          "scatterpolargl": [
           {
            "marker": {
             "colorbar": {
              "outlinewidth": 0,
              "ticks": ""
             }
            },
            "type": "scatterpolargl"
           }
          ],
          "scatterternary": [
           {
            "marker": {
             "colorbar": {
              "outlinewidth": 0,
              "ticks": ""
             }
            },
            "type": "scatterternary"
           }
          ],
          "surface": [
           {
            "colorbar": {
             "outlinewidth": 0,
             "ticks": ""
            },
            "colorscale": [
             [
              0,
              "#0d0887"
             ],
             [
              0.1111111111111111,
              "#46039f"
             ],
             [
              0.2222222222222222,
              "#7201a8"
             ],
             [
              0.3333333333333333,
              "#9c179e"
             ],
             [
              0.4444444444444444,
              "#bd3786"
             ],
             [
              0.5555555555555556,
              "#d8576b"
             ],
             [
              0.6666666666666666,
              "#ed7953"
             ],
             [
              0.7777777777777778,
              "#fb9f3a"
             ],
             [
              0.8888888888888888,
              "#fdca26"
             ],
             [
              1,
              "#f0f921"
             ]
            ],
            "type": "surface"
           }
          ],
          "table": [
           {
            "cells": {
             "fill": {
              "color": "#506784"
             },
             "line": {
              "color": "rgb(17,17,17)"
             }
            },
            "header": {
             "fill": {
              "color": "#2a3f5f"
             },
             "line": {
              "color": "rgb(17,17,17)"
             }
            },
            "type": "table"
           }
          ]
         },
         "layout": {
          "annotationdefaults": {
           "arrowcolor": "#f2f5fa",
           "arrowhead": 0,
           "arrowwidth": 1
          },
          "autotypenumbers": "strict",
          "coloraxis": {
           "colorbar": {
            "outlinewidth": 0,
            "ticks": ""
           }
          },
          "colorscale": {
           "diverging": [
            [
             0,
             "#8e0152"
            ],
            [
             0.1,
             "#c51b7d"
            ],
            [
             0.2,
             "#de77ae"
            ],
            [
             0.3,
             "#f1b6da"
            ],
            [
             0.4,
             "#fde0ef"
            ],
            [
             0.5,
             "#f7f7f7"
            ],
            [
             0.6,
             "#e6f5d0"
            ],
            [
             0.7,
             "#b8e186"
            ],
            [
             0.8,
             "#7fbc41"
            ],
            [
             0.9,
             "#4d9221"
            ],
            [
             1,
             "#276419"
            ]
           ],
           "sequential": [
            [
             0,
             "#0d0887"
            ],
            [
             0.1111111111111111,
             "#46039f"
            ],
            [
             0.2222222222222222,
             "#7201a8"
            ],
            [
             0.3333333333333333,
             "#9c179e"
            ],
            [
             0.4444444444444444,
             "#bd3786"
            ],
            [
             0.5555555555555556,
             "#d8576b"
            ],
            [
             0.6666666666666666,
             "#ed7953"
            ],
            [
             0.7777777777777778,
             "#fb9f3a"
            ],
            [
             0.8888888888888888,
             "#fdca26"
            ],
            [
             1,
             "#f0f921"
            ]
           ],
           "sequentialminus": [
            [
             0,
             "#0d0887"
            ],
            [
             0.1111111111111111,
             "#46039f"
            ],
            [
             0.2222222222222222,
             "#7201a8"
            ],
            [
             0.3333333333333333,
             "#9c179e"
            ],
            [
             0.4444444444444444,
             "#bd3786"
            ],
            [
             0.5555555555555556,
             "#d8576b"
            ],
            [
             0.6666666666666666,
             "#ed7953"
            ],
            [
             0.7777777777777778,
             "#fb9f3a"
            ],
            [
             0.8888888888888888,
             "#fdca26"
            ],
            [
             1,
             "#f0f921"
            ]
           ]
          },
          "colorway": [
           "#636efa",
           "#EF553B",
           "#00cc96",
           "#ab63fa",
           "#FFA15A",
           "#19d3f3",
           "#FF6692",
           "#B6E880",
           "#FF97FF",
           "#FECB52"
          ],
          "font": {
           "color": "#f2f5fa"
          },
          "geo": {
           "bgcolor": "rgb(17,17,17)",
           "lakecolor": "rgb(17,17,17)",
           "landcolor": "rgb(17,17,17)",
           "showlakes": true,
           "showland": true,
           "subunitcolor": "#506784"
          },
          "hoverlabel": {
           "align": "left"
          },
          "hovermode": "closest",
          "mapbox": {
           "style": "dark"
          },
          "paper_bgcolor": "rgb(17,17,17)",
          "plot_bgcolor": "rgb(17,17,17)",
          "polar": {
           "angularaxis": {
            "gridcolor": "#506784",
            "linecolor": "#506784",
            "ticks": ""
           },
           "bgcolor": "rgb(17,17,17)",
           "radialaxis": {
            "gridcolor": "#506784",
            "linecolor": "#506784",
            "ticks": ""
           }
          },
          "scene": {
           "xaxis": {
            "backgroundcolor": "rgb(17,17,17)",
            "gridcolor": "#506784",
            "gridwidth": 2,
            "linecolor": "#506784",
            "showbackground": true,
            "ticks": "",
            "zerolinecolor": "#C8D4E3"
           },
           "yaxis": {
            "backgroundcolor": "rgb(17,17,17)",
            "gridcolor": "#506784",
            "gridwidth": 2,
            "linecolor": "#506784",
            "showbackground": true,
            "ticks": "",
            "zerolinecolor": "#C8D4E3"
           },
           "zaxis": {
            "backgroundcolor": "rgb(17,17,17)",
            "gridcolor": "#506784",
            "gridwidth": 2,
            "linecolor": "#506784",
            "showbackground": true,
            "ticks": "",
            "zerolinecolor": "#C8D4E3"
           }
          },
          "shapedefaults": {
           "line": {
            "color": "#f2f5fa"
           }
          },
          "sliderdefaults": {
           "bgcolor": "#C8D4E3",
           "bordercolor": "rgb(17,17,17)",
           "borderwidth": 1,
           "tickwidth": 0
          },
          "ternary": {
           "aaxis": {
            "gridcolor": "#506784",
            "linecolor": "#506784",
            "ticks": ""
           },
           "baxis": {
            "gridcolor": "#506784",
            "linecolor": "#506784",
            "ticks": ""
           },
           "bgcolor": "rgb(17,17,17)",
           "caxis": {
            "gridcolor": "#506784",
            "linecolor": "#506784",
            "ticks": ""
           }
          },
          "title": {
           "x": 0.05
          },
          "updatemenudefaults": {
           "bgcolor": "#506784",
           "borderwidth": 0
          },
          "xaxis": {
           "automargin": true,
           "gridcolor": "#283442",
           "linecolor": "#506784",
           "ticks": "",
           "title": {
            "standoff": 15
           },
           "zerolinecolor": "#283442",
           "zerolinewidth": 2
          },
          "yaxis": {
           "automargin": true,
           "gridcolor": "#283442",
           "linecolor": "#506784",
           "ticks": "",
           "title": {
            "standoff": 15
           },
           "zerolinecolor": "#283442",
           "zerolinewidth": 2
          }
         }
        },
        "title": {
         "font": {
          "size": 18
         },
         "text": "Top 20 Countries by Urban Ecology Research Output"
        },
        "width": 1200
       }
      }
     },
     "metadata": {},
     "output_type": "display_data"
    }
   ],
   "source": [
    "# Create world map visualization using proper ISO 3-letter codes\n",
    "fig = px.choropleth(\n",
    "    df_countries_clean, \n",
    "    locations='alpha3_code',\n",
    "    color='paper_count',\n",
    "    hover_name='country_name',\n",
    "    hover_data={\n",
    "        'alpha3_code': True, \n",
    "        'paper_count': ':,',\n",
    "        'country_name': False\n",
    "    },\n",
    "    color_continuous_scale='Viridis',\n",
    "    title='Global Distribution of Urban Ecology Research Papers by First Author Country',\n",
    "    labels={\n",
    "        'paper_count': 'Number of Papers',\n",
    "        'alpha3_code': 'ISO Alpha-3'\n",
    "    }\n",
    ")\n",
    "\n",
    "fig.update_layout(\n",
    "    width=1200,\n",
    "    height=700,\n",
    "    title_font_size=16,\n",
    "    geo=dict(\n",
    "        showframe=False,\n",
    "        showcoastlines=True,\n",
    "        projection_type='natural earth'\n",
    "    )\n",
    ")\n",
    "\n",
    "fig.show()\n",
    "\n",
    "print('=' * 80)\n",
    "\n",
    "fig_treemap = px.treemap(\n",
    "    df_countries_clean.head(20),\n",
    "    names='country_name',\n",
    "    values='paper_count',\n",
    "    parents=[''] * 20, \n",
    "    title='Top 20 Countries by Urban Ecology Research Output',\n",
    "    labels={'paper_count': 'Number of Papers', 'country_name': 'Country'},\n",
    "    color='paper_count',\n",
    "    color_continuous_scale='Viridis',\n",
    "    hover_data={\n",
    "        'alpha2_code': True,\n",
    "        'alpha3_code': True,\n",
    "        'paper_count': ':,',\n",
    "    }\n",
    ")\n",
    "\n",
    "# Threshold calculation to avoid unreadable text\n",
    "max_val = df_countries_clean.head(20)['paper_count'].max()\n",
    "min_val = df_countries_clean.head(20)['paper_count'].min()\n",
    "threshold = min_val + (max_val - min_val) * 0.7\n",
    "\n",
    "text_colors = ['black' if val > threshold else 'white' for val in df_countries_clean.head(20)['paper_count']]\n",
    "\n",
    "fig_treemap.update_traces(\n",
    "    textinfo='label+value',\n",
    "    textfont_size=12,\n",
    "    textfont_color=text_colors,\n",
    "    hovertemplate='<b>%{label}</b><br>' +\n",
    "                  'Papers: %{value:,}<br>' +\n",
    "                  'ISO-3: %{customdata[1]}<br>' +\n",
    "                  '<extra></extra>'\n",
    ")\n",
    "\n",
    "fig_treemap.update_layout(\n",
    "    height=700,\n",
    "    width=1200,\n",
    "    template='plotly_dark',\n",
    "    font=dict(size=14),\n",
    "    title_font_size=18,\n",
    "    margin=dict(t=50, l=25, r=25, b=25)\n",
    ")\n",
    "\n",
    "fig_treemap.show()"
   ]
  },
  {
   "cell_type": "code",
   "execution_count": null,
   "id": "66563165",
   "metadata": {},
   "outputs": [],
   "source": []
  }
 ],
 "metadata": {
  "kernelspec": {
   "display_name": ".venv",
   "language": "python",
   "name": "python3"
  },
  "language_info": {
   "codemirror_mode": {
    "name": "ipython",
    "version": 3
   },
   "file_extension": ".py",
   "mimetype": "text/x-python",
   "name": "python",
   "nbconvert_exporter": "python",
   "pygments_lexer": "ipython3",
   "version": "3.13.2"
  }
 },
 "nbformat": 4,
 "nbformat_minor": 5
}
