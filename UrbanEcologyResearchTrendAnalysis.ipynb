{
 "cells": [
  {
   "cell_type": "markdown",
   "id": "21e9aaad",
   "metadata": {},
   "source": [
    "# Urban Ecology Research Trend Analysis\n",
    "\n",
    "Type: NLP + Time Series + Web Data | Domain: Scientific + environmental | Format: Notebook\n",
    "- Use PubMed or Semantic Scholar API to extract papers on 'urban ecology'.\n",
    "- Track number of publications per year.\n",
    "- Perform keyword frequency and topic modeling.\n",
    "- Map institutions or authors by location."
   ]
  },
  {
   "cell_type": "code",
   "execution_count": 6,
   "id": "3efc42f1",
   "metadata": {},
   "outputs": [
    {
     "name": "stdout",
     "output_type": "stream",
     "text": [
      "                                               title  year  \\\n",
      "0  A Distinctive Shape of Cadastral Parcels Borde...  2020   \n",
      "1  The value of social media wildlife sightings f...  2025   \n",
      "2  Šiuolaikinės urbanistikos teorijos ir praktiko...  2020   \n",
      "3  Where economic parity meets ecology: Neither b...  2023   \n",
      "4  “Heed the Mute Language of Nature”: An Ecosemi...  2023   \n",
      "\n",
      "                                                 url  \\\n",
      "0  https://www.semanticscholar.org/paper/00092bfb...   \n",
      "1  https://www.semanticscholar.org/paper/001dd10b...   \n",
      "2  https://www.semanticscholar.org/paper/0020b986...   \n",
      "3  https://www.semanticscholar.org/paper/00222394...   \n",
      "4  https://www.semanticscholar.org/paper/0022b232...   \n",
      "\n",
      "                                             authors  \\\n",
      "0  A. Bitner; U. Litwin; S. Bacior; Jarosław Tasz...   \n",
      "1                           Kyle Smith; M. J. Somers   \n",
      "2                                   Vaiva Deveikienė   \n",
      "3                  Sini Rautjärvi; I. MacGregor‐Fors   \n",
      "4          Xany Jansen van Vuuren; Helen-Mary Cawood   \n",
      "\n",
      "                                            abstract  \n",
      "0  Morphological analysis is a widely used method...  \n",
      "1  \\n Data sourced from social media platforms is...  \n",
      "2                                               None  \n",
      "3  Ecological conditions are heavily influenced b...  \n",
      "4  ABSTRACT This paper attempts to conceptualise ...  \n"
     ]
    }
   ],
   "source": [
    "import requests\n",
    "import pandas as pd\n",
    "import time\n",
    "import json\n",
    "\n",
    "\n",
    "GRAPH_URL = 'http://api.semanticscholar.org/graph/v1/'\n",
    "RECOMMENDATIONS_URL = 'http://api.semanticscholar.org/recommendations/v1/'\n",
    "DATASETS_URL = 'http://api.semanticscholar.org/datasets/v1/'\n",
    "\n",
    "BULK_SEARCH_ENDPOINT = 'paper/search/bulk'\n",
    "\n",
    "query = [\n",
    "    'urban ecology',\n",
    "    'urban biodiversity',\n",
    "    'urban green spaces',\n",
    "    'urban wildlife',\n",
    "    'urban vegetation',\n",
    "    'urban environmental change',\n",
    "    'urban landscape ecology',\n",
    "    'urban ecosystem services'\n",
    "]\n",
    "fields = 'title,year,authors,abstract,url,openAccessPdf'\n",
    "\n",
    "query_params = {\n",
    "    'query': query[0], #change index according to desired keyword\n",
    "    'fields': fields,\n",
    "    'year': '2020-'\n",
    "}\n",
    "\n",
    "response = requests.get(f'{GRAPH_URL}{BULK_SEARCH_ENDPOINT}', params=query_params)\n",
    "\n",
    "try:\n",
    "    response.raise_for_status()\n",
    "    df = pd.json_normalize(response.json()['data'])\n",
    "    df = df[[\"title\", \"year\", \"url\", \"authors\", \"abstract\"]]\n",
    "    df['authors'] = df['authors'].apply(\n",
    "        lambda author_list: '; '.join([author['name'] for author in author_list if 'name' in author])\n",
    "    )\n",
    "    print(df.head())\n",
    "    df.to_csv(\"urban_ecology_papers.csv\", index=False)\n",
    "except requests.exceptions.HTTPError as e:\n",
    "    print(f'HTTP error occurred: {e}')\n",
    "except requests.exceptions.RequestException as e:\n",
    "    print(f'Request failed: {e}')\n",
    "\n"
   ]
  },
  {
   "cell_type": "code",
   "execution_count": null,
   "id": "19a045a0",
   "metadata": {},
   "outputs": [],
   "source": []
  }
 ],
 "metadata": {
  "kernelspec": {
   "display_name": ".venv",
   "language": "python",
   "name": "python3"
  },
  "language_info": {
   "codemirror_mode": {
    "name": "ipython",
    "version": 3
   },
   "file_extension": ".py",
   "mimetype": "text/x-python",
   "name": "python",
   "nbconvert_exporter": "python",
   "pygments_lexer": "ipython3",
   "version": "3.13.2"
  }
 },
 "nbformat": 4,
 "nbformat_minor": 5
}
